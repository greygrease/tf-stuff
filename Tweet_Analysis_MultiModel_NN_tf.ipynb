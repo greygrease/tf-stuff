{
  "nbformat": 4,
  "nbformat_minor": 0,
  "metadata": {
    "colab": {
      "provenance": [],
      "include_colab_link": true
    },
    "kernelspec": {
      "name": "python3",
      "display_name": "Python 3"
    },
    "language_info": {
      "name": "python"
    },
    "accelerator": "GPU"
  },
  "cells": [
    {
      "cell_type": "markdown",
      "metadata": {
        "id": "view-in-github",
        "colab_type": "text"
      },
      "source": [
        "<a href=\"https://colab.research.google.com/github/greygrease/tf-stuff/blob/main/Tweet_Analysis_MultiModel_NN_tf.ipynb\" target=\"_parent\"><img src=\"https://colab.research.google.com/assets/colab-badge.svg\" alt=\"Open In Colab\"/></a>"
      ]
    },
    {
      "cell_type": "markdown",
      "source": [
        "## Import Helper Functions"
      ],
      "metadata": {
        "id": "TYS3gHyYWp-X"
      }
    },
    {
      "cell_type": "code",
      "source": [
        "!wget https://raw.githubusercontent.com/mrdbourke/tensorflow-deep-learning/main/extras/helper_functions.py"
      ],
      "metadata": {
        "colab": {
          "base_uri": "https://localhost:8080/"
        },
        "id": "Sjf98xAtWyCa",
        "outputId": "9d6ea3af-2e25-44fb-bbdd-5fb99bc063dc"
      },
      "execution_count": null,
      "outputs": [
        {
          "output_type": "stream",
          "name": "stdout",
          "text": [
            "--2022-10-02 13:18:38--  https://raw.githubusercontent.com/mrdbourke/tensorflow-deep-learning/main/extras/helper_functions.py\n",
            "Resolving raw.githubusercontent.com (raw.githubusercontent.com)... 185.199.108.133, 185.199.109.133, 185.199.110.133, ...\n",
            "Connecting to raw.githubusercontent.com (raw.githubusercontent.com)|185.199.108.133|:443... connected.\n",
            "HTTP request sent, awaiting response... 200 OK\n",
            "Length: 10246 (10K) [text/plain]\n",
            "Saving to: ‘helper_functions.py’\n",
            "\n",
            "helper_functions.py 100%[===================>]  10.01K  --.-KB/s    in 0s      \n",
            "\n",
            "2022-10-02 13:18:38 (71.0 MB/s) - ‘helper_functions.py’ saved [10246/10246]\n",
            "\n"
          ]
        }
      ]
    },
    {
      "cell_type": "code",
      "source": [
        "from helper_functions import unzip_data, create_tensorboard_callback,compare_historys, plot_loss_curves, calculate_results"
      ],
      "metadata": {
        "id": "Xvs9eekZW2Yo"
      },
      "execution_count": null,
      "outputs": []
    },
    {
      "cell_type": "markdown",
      "source": [
        "## Download and Import Dataset"
      ],
      "metadata": {
        "id": "-31xr4fNVf22"
      }
    },
    {
      "cell_type": "code",
      "source": [
        "from google.colab import drive\n",
        "drive.mount('/content/gdrive')"
      ],
      "metadata": {
        "colab": {
          "base_uri": "https://localhost:8080/"
        },
        "id": "3TzVk8_IVdbD",
        "outputId": "be91147e-28a6-4fd2-80d4-1f16ec7f7204"
      },
      "execution_count": null,
      "outputs": [
        {
          "output_type": "stream",
          "name": "stdout",
          "text": [
            "Mounted at /content/gdrive\n"
          ]
        }
      ]
    },
    {
      "cell_type": "code",
      "source": [
        "import os\n",
        "os.environ['KAGGLE_CONFIG_DIR'] = '/content/gdrive/My Drive/kaggle_dataset'"
      ],
      "metadata": {
        "id": "uAdMzjkYV9tB"
      },
      "execution_count": null,
      "outputs": []
    },
    {
      "cell_type": "code",
      "source": [
        "%cd /content/gdrive/My Drive/kaggle_dataset"
      ],
      "metadata": {
        "id": "xjOQCfpBV_eb",
        "colab": {
          "base_uri": "https://localhost:8080/"
        },
        "outputId": "7dcc07de-085d-48f7-aba8-1203c4b04586"
      },
      "execution_count": null,
      "outputs": [
        {
          "output_type": "stream",
          "name": "stdout",
          "text": [
            "/content/gdrive/My Drive/kaggle_dataset\n"
          ]
        }
      ]
    },
    {
      "cell_type": "code",
      "source": [
        "!kaggle datasets download -d kazanova/sentiment140"
      ],
      "metadata": {
        "id": "bsVrci3fWMqW",
        "colab": {
          "base_uri": "https://localhost:8080/"
        },
        "outputId": "d10ef234-bf10-44dd-d360-2bd8d5c108f2"
      },
      "execution_count": null,
      "outputs": [
        {
          "output_type": "stream",
          "name": "stdout",
          "text": [
            "401 - Unauthorized\n"
          ]
        }
      ]
    },
    {
      "cell_type": "code",
      "source": [
        "!mkdir sentiment140_unpacked\n",
        "!mv sentiment140.zip sentiment140_unpacked"
      ],
      "metadata": {
        "id": "FUMw1r8TXCqu",
        "colab": {
          "base_uri": "https://localhost:8080/"
        },
        "outputId": "330fb4e7-aceb-4e97-c570-f47a7535fdbb"
      },
      "execution_count": null,
      "outputs": [
        {
          "output_type": "stream",
          "name": "stdout",
          "text": [
            "mkdir: cannot create directory ‘sentiment140_unpacked’: File exists\n",
            "mv: cannot stat 'sentiment140.zip': No such file or directory\n"
          ]
        }
      ]
    },
    {
      "cell_type": "code",
      "source": [
        "%cd sentiment140_unpacked/"
      ],
      "metadata": {
        "id": "6XtDX977XPnc",
        "colab": {
          "base_uri": "https://localhost:8080/"
        },
        "outputId": "628bbcfb-6d71-4cf9-d8ec-76a678010b6d"
      },
      "execution_count": null,
      "outputs": [
        {
          "output_type": "stream",
          "name": "stdout",
          "text": [
            "/content/gdrive/My Drive/kaggle_dataset/sentiment140_unpacked\n"
          ]
        }
      ]
    },
    {
      "cell_type": "code",
      "source": [
        "# !unzip sentiment140.zip"
      ],
      "metadata": {
        "id": "AZFxGb4-XhoE"
      },
      "execution_count": null,
      "outputs": []
    },
    {
      "cell_type": "markdown",
      "source": [
        "## Create a pandas dataframe and preprocess the data\n",
        "\n"
      ],
      "metadata": {
        "id": "z8OHrJVEYLFg"
      }
    },
    {
      "cell_type": "code",
      "source": [
        "import pandas as pd\n",
        "\n",
        "sentiment_df = pd.read_csv('/content/gdrive/MyDrive/kaggle_dataset/sentiment140_unpacked/training.1600000.processed.noemoticon.csv', encoding='latin-1')"
      ],
      "metadata": {
        "id": "ikaWMdysX54C"
      },
      "execution_count": null,
      "outputs": []
    },
    {
      "cell_type": "code",
      "source": [
        "sentiment_df = sentiment_df.drop(['Mon Apr 06 22:19:45 PDT 2009', 'NO_QUERY', '_TheSpecialOne_', '1467810369'], axis = 1)"
      ],
      "metadata": {
        "id": "mkyAXDt_aZKS"
      },
      "execution_count": null,
      "outputs": []
    },
    {
      "cell_type": "code",
      "source": [
        "sentiment_df.columns\n"
      ],
      "metadata": {
        "id": "X71kv2V5a-z5",
        "colab": {
          "base_uri": "https://localhost:8080/"
        },
        "outputId": "671e1741-b0db-4a68-da73-03289a3a6da2"
      },
      "execution_count": null,
      "outputs": [
        {
          "output_type": "execute_result",
          "data": {
            "text/plain": [
              "Index(['0', '@switchfoot http://twitpic.com/2y1zl - Awww, that's a bummer.  You shoulda got David Carr of Third Day to do it. ;D'], dtype='object')"
            ]
          },
          "metadata": {},
          "execution_count": 12
        }
      ]
    },
    {
      "cell_type": "code",
      "source": [
        "sentiment_df.rename(columns = {'0' : 'Label',\n",
        "                               \"@switchfoot http://twitpic.com/2y1zl - Awww, that's a bummer.  You shoulda got David Carr of Third Day to do it. ;D\" : 'Text'}, inplace = True)"
      ],
      "metadata": {
        "id": "gpMUMb9VcUho"
      },
      "execution_count": null,
      "outputs": []
    },
    {
      "cell_type": "code",
      "source": [
        "sentiment_df.head()"
      ],
      "metadata": {
        "id": "TEVDVNnhc72Q",
        "colab": {
          "base_uri": "https://localhost:8080/",
          "height": 206
        },
        "outputId": "8cd6d31f-85b6-4b0e-9f45-2f8ad2c86419"
      },
      "execution_count": null,
      "outputs": [
        {
          "output_type": "execute_result",
          "data": {
            "text/plain": [
              "   Label                                               Text\n",
              "0      0  is upset that he can't update his Facebook by ...\n",
              "1      0  @Kenichan I dived many times for the ball. Man...\n",
              "2      0    my whole body feels itchy and like its on fire \n",
              "3      0  @nationwideclass no, it's not behaving at all....\n",
              "4      0                      @Kwesidei not the whole crew "
            ],
            "text/html": [
              "\n",
              "  <div id=\"df-c99b8b14-9498-49d3-8edf-bceaf4d383ad\">\n",
              "    <div class=\"colab-df-container\">\n",
              "      <div>\n",
              "<style scoped>\n",
              "    .dataframe tbody tr th:only-of-type {\n",
              "        vertical-align: middle;\n",
              "    }\n",
              "\n",
              "    .dataframe tbody tr th {\n",
              "        vertical-align: top;\n",
              "    }\n",
              "\n",
              "    .dataframe thead th {\n",
              "        text-align: right;\n",
              "    }\n",
              "</style>\n",
              "<table border=\"1\" class=\"dataframe\">\n",
              "  <thead>\n",
              "    <tr style=\"text-align: right;\">\n",
              "      <th></th>\n",
              "      <th>Label</th>\n",
              "      <th>Text</th>\n",
              "    </tr>\n",
              "  </thead>\n",
              "  <tbody>\n",
              "    <tr>\n",
              "      <th>0</th>\n",
              "      <td>0</td>\n",
              "      <td>is upset that he can't update his Facebook by ...</td>\n",
              "    </tr>\n",
              "    <tr>\n",
              "      <th>1</th>\n",
              "      <td>0</td>\n",
              "      <td>@Kenichan I dived many times for the ball. Man...</td>\n",
              "    </tr>\n",
              "    <tr>\n",
              "      <th>2</th>\n",
              "      <td>0</td>\n",
              "      <td>my whole body feels itchy and like its on fire</td>\n",
              "    </tr>\n",
              "    <tr>\n",
              "      <th>3</th>\n",
              "      <td>0</td>\n",
              "      <td>@nationwideclass no, it's not behaving at all....</td>\n",
              "    </tr>\n",
              "    <tr>\n",
              "      <th>4</th>\n",
              "      <td>0</td>\n",
              "      <td>@Kwesidei not the whole crew</td>\n",
              "    </tr>\n",
              "  </tbody>\n",
              "</table>\n",
              "</div>\n",
              "      <button class=\"colab-df-convert\" onclick=\"convertToInteractive('df-c99b8b14-9498-49d3-8edf-bceaf4d383ad')\"\n",
              "              title=\"Convert this dataframe to an interactive table.\"\n",
              "              style=\"display:none;\">\n",
              "        \n",
              "  <svg xmlns=\"http://www.w3.org/2000/svg\" height=\"24px\"viewBox=\"0 0 24 24\"\n",
              "       width=\"24px\">\n",
              "    <path d=\"M0 0h24v24H0V0z\" fill=\"none\"/>\n",
              "    <path d=\"M18.56 5.44l.94 2.06.94-2.06 2.06-.94-2.06-.94-.94-2.06-.94 2.06-2.06.94zm-11 1L8.5 8.5l.94-2.06 2.06-.94-2.06-.94L8.5 2.5l-.94 2.06-2.06.94zm10 10l.94 2.06.94-2.06 2.06-.94-2.06-.94-.94-2.06-.94 2.06-2.06.94z\"/><path d=\"M17.41 7.96l-1.37-1.37c-.4-.4-.92-.59-1.43-.59-.52 0-1.04.2-1.43.59L10.3 9.45l-7.72 7.72c-.78.78-.78 2.05 0 2.83L4 21.41c.39.39.9.59 1.41.59.51 0 1.02-.2 1.41-.59l7.78-7.78 2.81-2.81c.8-.78.8-2.07 0-2.86zM5.41 20L4 18.59l7.72-7.72 1.47 1.35L5.41 20z\"/>\n",
              "  </svg>\n",
              "      </button>\n",
              "      \n",
              "  <style>\n",
              "    .colab-df-container {\n",
              "      display:flex;\n",
              "      flex-wrap:wrap;\n",
              "      gap: 12px;\n",
              "    }\n",
              "\n",
              "    .colab-df-convert {\n",
              "      background-color: #E8F0FE;\n",
              "      border: none;\n",
              "      border-radius: 50%;\n",
              "      cursor: pointer;\n",
              "      display: none;\n",
              "      fill: #1967D2;\n",
              "      height: 32px;\n",
              "      padding: 0 0 0 0;\n",
              "      width: 32px;\n",
              "    }\n",
              "\n",
              "    .colab-df-convert:hover {\n",
              "      background-color: #E2EBFA;\n",
              "      box-shadow: 0px 1px 2px rgba(60, 64, 67, 0.3), 0px 1px 3px 1px rgba(60, 64, 67, 0.15);\n",
              "      fill: #174EA6;\n",
              "    }\n",
              "\n",
              "    [theme=dark] .colab-df-convert {\n",
              "      background-color: #3B4455;\n",
              "      fill: #D2E3FC;\n",
              "    }\n",
              "\n",
              "    [theme=dark] .colab-df-convert:hover {\n",
              "      background-color: #434B5C;\n",
              "      box-shadow: 0px 1px 3px 1px rgba(0, 0, 0, 0.15);\n",
              "      filter: drop-shadow(0px 1px 2px rgba(0, 0, 0, 0.3));\n",
              "      fill: #FFFFFF;\n",
              "    }\n",
              "  </style>\n",
              "\n",
              "      <script>\n",
              "        const buttonEl =\n",
              "          document.querySelector('#df-c99b8b14-9498-49d3-8edf-bceaf4d383ad button.colab-df-convert');\n",
              "        buttonEl.style.display =\n",
              "          google.colab.kernel.accessAllowed ? 'block' : 'none';\n",
              "\n",
              "        async function convertToInteractive(key) {\n",
              "          const element = document.querySelector('#df-c99b8b14-9498-49d3-8edf-bceaf4d383ad');\n",
              "          const dataTable =\n",
              "            await google.colab.kernel.invokeFunction('convertToInteractive',\n",
              "                                                     [key], {});\n",
              "          if (!dataTable) return;\n",
              "\n",
              "          const docLinkHtml = 'Like what you see? Visit the ' +\n",
              "            '<a target=\"_blank\" href=https://colab.research.google.com/notebooks/data_table.ipynb>data table notebook</a>'\n",
              "            + ' to learn more about interactive tables.';\n",
              "          element.innerHTML = '';\n",
              "          dataTable['output_type'] = 'display_data';\n",
              "          await google.colab.output.renderOutput(dataTable, element);\n",
              "          const docLink = document.createElement('div');\n",
              "          docLink.innerHTML = docLinkHtml;\n",
              "          element.appendChild(docLink);\n",
              "        }\n",
              "      </script>\n",
              "    </div>\n",
              "  </div>\n",
              "  "
            ]
          },
          "metadata": {},
          "execution_count": 14
        }
      ]
    },
    {
      "cell_type": "code",
      "source": [
        "first_col = sentiment_df.pop('Text')"
      ],
      "metadata": {
        "id": "bgMPfmYcdLFW"
      },
      "execution_count": null,
      "outputs": []
    },
    {
      "cell_type": "code",
      "source": [
        "sentiment_df.insert(0, 'Text', first_col)"
      ],
      "metadata": {
        "id": "tyruGx4bdq5X"
      },
      "execution_count": null,
      "outputs": []
    },
    {
      "cell_type": "code",
      "source": [
        "sentiment_df.head()"
      ],
      "metadata": {
        "id": "aEYM00tYd1Ro",
        "colab": {
          "base_uri": "https://localhost:8080/",
          "height": 206
        },
        "outputId": "34f1c8bb-9629-43d8-a645-cbee1352d176"
      },
      "execution_count": null,
      "outputs": [
        {
          "output_type": "execute_result",
          "data": {
            "text/plain": [
              "                                                Text  Label\n",
              "0  is upset that he can't update his Facebook by ...      0\n",
              "1  @Kenichan I dived many times for the ball. Man...      0\n",
              "2    my whole body feels itchy and like its on fire       0\n",
              "3  @nationwideclass no, it's not behaving at all....      0\n",
              "4                      @Kwesidei not the whole crew       0"
            ],
            "text/html": [
              "\n",
              "  <div id=\"df-775288ec-a5d5-422c-b6c7-40ff496b29fb\">\n",
              "    <div class=\"colab-df-container\">\n",
              "      <div>\n",
              "<style scoped>\n",
              "    .dataframe tbody tr th:only-of-type {\n",
              "        vertical-align: middle;\n",
              "    }\n",
              "\n",
              "    .dataframe tbody tr th {\n",
              "        vertical-align: top;\n",
              "    }\n",
              "\n",
              "    .dataframe thead th {\n",
              "        text-align: right;\n",
              "    }\n",
              "</style>\n",
              "<table border=\"1\" class=\"dataframe\">\n",
              "  <thead>\n",
              "    <tr style=\"text-align: right;\">\n",
              "      <th></th>\n",
              "      <th>Text</th>\n",
              "      <th>Label</th>\n",
              "    </tr>\n",
              "  </thead>\n",
              "  <tbody>\n",
              "    <tr>\n",
              "      <th>0</th>\n",
              "      <td>is upset that he can't update his Facebook by ...</td>\n",
              "      <td>0</td>\n",
              "    </tr>\n",
              "    <tr>\n",
              "      <th>1</th>\n",
              "      <td>@Kenichan I dived many times for the ball. Man...</td>\n",
              "      <td>0</td>\n",
              "    </tr>\n",
              "    <tr>\n",
              "      <th>2</th>\n",
              "      <td>my whole body feels itchy and like its on fire</td>\n",
              "      <td>0</td>\n",
              "    </tr>\n",
              "    <tr>\n",
              "      <th>3</th>\n",
              "      <td>@nationwideclass no, it's not behaving at all....</td>\n",
              "      <td>0</td>\n",
              "    </tr>\n",
              "    <tr>\n",
              "      <th>4</th>\n",
              "      <td>@Kwesidei not the whole crew</td>\n",
              "      <td>0</td>\n",
              "    </tr>\n",
              "  </tbody>\n",
              "</table>\n",
              "</div>\n",
              "      <button class=\"colab-df-convert\" onclick=\"convertToInteractive('df-775288ec-a5d5-422c-b6c7-40ff496b29fb')\"\n",
              "              title=\"Convert this dataframe to an interactive table.\"\n",
              "              style=\"display:none;\">\n",
              "        \n",
              "  <svg xmlns=\"http://www.w3.org/2000/svg\" height=\"24px\"viewBox=\"0 0 24 24\"\n",
              "       width=\"24px\">\n",
              "    <path d=\"M0 0h24v24H0V0z\" fill=\"none\"/>\n",
              "    <path d=\"M18.56 5.44l.94 2.06.94-2.06 2.06-.94-2.06-.94-.94-2.06-.94 2.06-2.06.94zm-11 1L8.5 8.5l.94-2.06 2.06-.94-2.06-.94L8.5 2.5l-.94 2.06-2.06.94zm10 10l.94 2.06.94-2.06 2.06-.94-2.06-.94-.94-2.06-.94 2.06-2.06.94z\"/><path d=\"M17.41 7.96l-1.37-1.37c-.4-.4-.92-.59-1.43-.59-.52 0-1.04.2-1.43.59L10.3 9.45l-7.72 7.72c-.78.78-.78 2.05 0 2.83L4 21.41c.39.39.9.59 1.41.59.51 0 1.02-.2 1.41-.59l7.78-7.78 2.81-2.81c.8-.78.8-2.07 0-2.86zM5.41 20L4 18.59l7.72-7.72 1.47 1.35L5.41 20z\"/>\n",
              "  </svg>\n",
              "      </button>\n",
              "      \n",
              "  <style>\n",
              "    .colab-df-container {\n",
              "      display:flex;\n",
              "      flex-wrap:wrap;\n",
              "      gap: 12px;\n",
              "    }\n",
              "\n",
              "    .colab-df-convert {\n",
              "      background-color: #E8F0FE;\n",
              "      border: none;\n",
              "      border-radius: 50%;\n",
              "      cursor: pointer;\n",
              "      display: none;\n",
              "      fill: #1967D2;\n",
              "      height: 32px;\n",
              "      padding: 0 0 0 0;\n",
              "      width: 32px;\n",
              "    }\n",
              "\n",
              "    .colab-df-convert:hover {\n",
              "      background-color: #E2EBFA;\n",
              "      box-shadow: 0px 1px 2px rgba(60, 64, 67, 0.3), 0px 1px 3px 1px rgba(60, 64, 67, 0.15);\n",
              "      fill: #174EA6;\n",
              "    }\n",
              "\n",
              "    [theme=dark] .colab-df-convert {\n",
              "      background-color: #3B4455;\n",
              "      fill: #D2E3FC;\n",
              "    }\n",
              "\n",
              "    [theme=dark] .colab-df-convert:hover {\n",
              "      background-color: #434B5C;\n",
              "      box-shadow: 0px 1px 3px 1px rgba(0, 0, 0, 0.15);\n",
              "      filter: drop-shadow(0px 1px 2px rgba(0, 0, 0, 0.3));\n",
              "      fill: #FFFFFF;\n",
              "    }\n",
              "  </style>\n",
              "\n",
              "      <script>\n",
              "        const buttonEl =\n",
              "          document.querySelector('#df-775288ec-a5d5-422c-b6c7-40ff496b29fb button.colab-df-convert');\n",
              "        buttonEl.style.display =\n",
              "          google.colab.kernel.accessAllowed ? 'block' : 'none';\n",
              "\n",
              "        async function convertToInteractive(key) {\n",
              "          const element = document.querySelector('#df-775288ec-a5d5-422c-b6c7-40ff496b29fb');\n",
              "          const dataTable =\n",
              "            await google.colab.kernel.invokeFunction('convertToInteractive',\n",
              "                                                     [key], {});\n",
              "          if (!dataTable) return;\n",
              "\n",
              "          const docLinkHtml = 'Like what you see? Visit the ' +\n",
              "            '<a target=\"_blank\" href=https://colab.research.google.com/notebooks/data_table.ipynb>data table notebook</a>'\n",
              "            + ' to learn more about interactive tables.';\n",
              "          element.innerHTML = '';\n",
              "          dataTable['output_type'] = 'display_data';\n",
              "          await google.colab.output.renderOutput(dataTable, element);\n",
              "          const docLink = document.createElement('div');\n",
              "          docLink.innerHTML = docLinkHtml;\n",
              "          element.appendChild(docLink);\n",
              "        }\n",
              "      </script>\n",
              "    </div>\n",
              "  </div>\n",
              "  "
            ]
          },
          "metadata": {},
          "execution_count": 17
        }
      ]
    },
    {
      "cell_type": "code",
      "source": [
        "sentiment_df = sentiment_df.sample(frac = 1, random_state = 42)"
      ],
      "metadata": {
        "id": "fzsOmKNzt-9E"
      },
      "execution_count": null,
      "outputs": []
    },
    {
      "cell_type": "code",
      "source": [
        "sentiment_df"
      ],
      "metadata": {
        "id": "G9SYNyNavTWx",
        "colab": {
          "base_uri": "https://localhost:8080/",
          "height": 424
        },
        "outputId": "7c73f106-3db3-428e-de4a-278f62767868"
      },
      "execution_count": null,
      "outputs": [
        {
          "output_type": "execute_result",
          "data": {
            "text/plain": [
              "                                                      Text  Label\n",
              "541200   @Nkluvr4eva My poor little dumpling  In Holmde...      0\n",
              "750      I'm off too bed. I gotta wake up hella early t...      0\n",
              "766711   I havent been able to listen to it yet  My spe...      0\n",
              "285055   now remembers why solving a relatively big equ...      0\n",
              "705995                            Ate too much, feel sick       0\n",
              "...                                                    ...    ...\n",
              "259178                       I didn't. The link was wrong       0\n",
              "1414414  @tommcfly yes!! mcfly twitter profile is an ex...      4\n",
              "131932   @SarahFTW I know  sometimes i just pretend i h...      0\n",
              "671155         Cant believe you came and asked me that...       0\n",
              "121958                                   back from bali         0\n",
              "\n",
              "[1599999 rows x 2 columns]"
            ],
            "text/html": [
              "\n",
              "  <div id=\"df-2a0d3f9c-6f61-4e26-8af0-8abaab109b1b\">\n",
              "    <div class=\"colab-df-container\">\n",
              "      <div>\n",
              "<style scoped>\n",
              "    .dataframe tbody tr th:only-of-type {\n",
              "        vertical-align: middle;\n",
              "    }\n",
              "\n",
              "    .dataframe tbody tr th {\n",
              "        vertical-align: top;\n",
              "    }\n",
              "\n",
              "    .dataframe thead th {\n",
              "        text-align: right;\n",
              "    }\n",
              "</style>\n",
              "<table border=\"1\" class=\"dataframe\">\n",
              "  <thead>\n",
              "    <tr style=\"text-align: right;\">\n",
              "      <th></th>\n",
              "      <th>Text</th>\n",
              "      <th>Label</th>\n",
              "    </tr>\n",
              "  </thead>\n",
              "  <tbody>\n",
              "    <tr>\n",
              "      <th>541200</th>\n",
              "      <td>@Nkluvr4eva My poor little dumpling  In Holmde...</td>\n",
              "      <td>0</td>\n",
              "    </tr>\n",
              "    <tr>\n",
              "      <th>750</th>\n",
              "      <td>I'm off too bed. I gotta wake up hella early t...</td>\n",
              "      <td>0</td>\n",
              "    </tr>\n",
              "    <tr>\n",
              "      <th>766711</th>\n",
              "      <td>I havent been able to listen to it yet  My spe...</td>\n",
              "      <td>0</td>\n",
              "    </tr>\n",
              "    <tr>\n",
              "      <th>285055</th>\n",
              "      <td>now remembers why solving a relatively big equ...</td>\n",
              "      <td>0</td>\n",
              "    </tr>\n",
              "    <tr>\n",
              "      <th>705995</th>\n",
              "      <td>Ate too much, feel sick</td>\n",
              "      <td>0</td>\n",
              "    </tr>\n",
              "    <tr>\n",
              "      <th>...</th>\n",
              "      <td>...</td>\n",
              "      <td>...</td>\n",
              "    </tr>\n",
              "    <tr>\n",
              "      <th>259178</th>\n",
              "      <td>I didn't. The link was wrong</td>\n",
              "      <td>0</td>\n",
              "    </tr>\n",
              "    <tr>\n",
              "      <th>1414414</th>\n",
              "      <td>@tommcfly yes!! mcfly twitter profile is an ex...</td>\n",
              "      <td>4</td>\n",
              "    </tr>\n",
              "    <tr>\n",
              "      <th>131932</th>\n",
              "      <td>@SarahFTW I know  sometimes i just pretend i h...</td>\n",
              "      <td>0</td>\n",
              "    </tr>\n",
              "    <tr>\n",
              "      <th>671155</th>\n",
              "      <td>Cant believe you came and asked me that...</td>\n",
              "      <td>0</td>\n",
              "    </tr>\n",
              "    <tr>\n",
              "      <th>121958</th>\n",
              "      <td>back from bali</td>\n",
              "      <td>0</td>\n",
              "    </tr>\n",
              "  </tbody>\n",
              "</table>\n",
              "<p>1599999 rows × 2 columns</p>\n",
              "</div>\n",
              "      <button class=\"colab-df-convert\" onclick=\"convertToInteractive('df-2a0d3f9c-6f61-4e26-8af0-8abaab109b1b')\"\n",
              "              title=\"Convert this dataframe to an interactive table.\"\n",
              "              style=\"display:none;\">\n",
              "        \n",
              "  <svg xmlns=\"http://www.w3.org/2000/svg\" height=\"24px\"viewBox=\"0 0 24 24\"\n",
              "       width=\"24px\">\n",
              "    <path d=\"M0 0h24v24H0V0z\" fill=\"none\"/>\n",
              "    <path d=\"M18.56 5.44l.94 2.06.94-2.06 2.06-.94-2.06-.94-.94-2.06-.94 2.06-2.06.94zm-11 1L8.5 8.5l.94-2.06 2.06-.94-2.06-.94L8.5 2.5l-.94 2.06-2.06.94zm10 10l.94 2.06.94-2.06 2.06-.94-2.06-.94-.94-2.06-.94 2.06-2.06.94z\"/><path d=\"M17.41 7.96l-1.37-1.37c-.4-.4-.92-.59-1.43-.59-.52 0-1.04.2-1.43.59L10.3 9.45l-7.72 7.72c-.78.78-.78 2.05 0 2.83L4 21.41c.39.39.9.59 1.41.59.51 0 1.02-.2 1.41-.59l7.78-7.78 2.81-2.81c.8-.78.8-2.07 0-2.86zM5.41 20L4 18.59l7.72-7.72 1.47 1.35L5.41 20z\"/>\n",
              "  </svg>\n",
              "      </button>\n",
              "      \n",
              "  <style>\n",
              "    .colab-df-container {\n",
              "      display:flex;\n",
              "      flex-wrap:wrap;\n",
              "      gap: 12px;\n",
              "    }\n",
              "\n",
              "    .colab-df-convert {\n",
              "      background-color: #E8F0FE;\n",
              "      border: none;\n",
              "      border-radius: 50%;\n",
              "      cursor: pointer;\n",
              "      display: none;\n",
              "      fill: #1967D2;\n",
              "      height: 32px;\n",
              "      padding: 0 0 0 0;\n",
              "      width: 32px;\n",
              "    }\n",
              "\n",
              "    .colab-df-convert:hover {\n",
              "      background-color: #E2EBFA;\n",
              "      box-shadow: 0px 1px 2px rgba(60, 64, 67, 0.3), 0px 1px 3px 1px rgba(60, 64, 67, 0.15);\n",
              "      fill: #174EA6;\n",
              "    }\n",
              "\n",
              "    [theme=dark] .colab-df-convert {\n",
              "      background-color: #3B4455;\n",
              "      fill: #D2E3FC;\n",
              "    }\n",
              "\n",
              "    [theme=dark] .colab-df-convert:hover {\n",
              "      background-color: #434B5C;\n",
              "      box-shadow: 0px 1px 3px 1px rgba(0, 0, 0, 0.15);\n",
              "      filter: drop-shadow(0px 1px 2px rgba(0, 0, 0, 0.3));\n",
              "      fill: #FFFFFF;\n",
              "    }\n",
              "  </style>\n",
              "\n",
              "      <script>\n",
              "        const buttonEl =\n",
              "          document.querySelector('#df-2a0d3f9c-6f61-4e26-8af0-8abaab109b1b button.colab-df-convert');\n",
              "        buttonEl.style.display =\n",
              "          google.colab.kernel.accessAllowed ? 'block' : 'none';\n",
              "\n",
              "        async function convertToInteractive(key) {\n",
              "          const element = document.querySelector('#df-2a0d3f9c-6f61-4e26-8af0-8abaab109b1b');\n",
              "          const dataTable =\n",
              "            await google.colab.kernel.invokeFunction('convertToInteractive',\n",
              "                                                     [key], {});\n",
              "          if (!dataTable) return;\n",
              "\n",
              "          const docLinkHtml = 'Like what you see? Visit the ' +\n",
              "            '<a target=\"_blank\" href=https://colab.research.google.com/notebooks/data_table.ipynb>data table notebook</a>'\n",
              "            + ' to learn more about interactive tables.';\n",
              "          element.innerHTML = '';\n",
              "          dataTable['output_type'] = 'display_data';\n",
              "          await google.colab.output.renderOutput(dataTable, element);\n",
              "          const docLink = document.createElement('div');\n",
              "          docLink.innerHTML = docLinkHtml;\n",
              "          element.appendChild(docLink);\n",
              "        }\n",
              "      </script>\n",
              "    </div>\n",
              "  </div>\n",
              "  "
            ]
          },
          "metadata": {},
          "execution_count": 19
        }
      ]
    },
    {
      "cell_type": "markdown",
      "source": [
        "### Split data into `Train`, `Test` and `Validation`"
      ],
      "metadata": {
        "id": "3FprOejTfmVq"
      }
    },
    {
      "cell_type": "markdown",
      "source": [
        "### Split DataFrame to `trainval` and `test`"
      ],
      "metadata": {
        "id": "WGn2JEiIgV7D"
      }
    },
    {
      "cell_type": "code",
      "source": [
        "from sklearn.model_selection import train_test_split\n",
        "\n",
        "trainval_sentences, test_sentences, trainval_labels, test_labels = train_test_split(sentiment_df['Text'].to_numpy(),\n",
        "                                                                                    sentiment_df['Label'].to_numpy(),\n",
        "                                                                                    test_size = 0.15,\n",
        "                                                                                    random_state = 42)"
      ],
      "metadata": {
        "id": "FDtwp5Jwd3e3"
      },
      "execution_count": null,
      "outputs": []
    },
    {
      "cell_type": "markdown",
      "source": [
        "### Split `trainval` to `train` and `validation`"
      ],
      "metadata": {
        "id": "87rvz1B1gi9B"
      }
    },
    {
      "cell_type": "code",
      "source": [
        "train_sentences, val_sentences, train_labels, val_labels = train_test_split(trainval_sentences,\n",
        "                                                                            trainval_labels,\n",
        "                                                                            test_size = 0.15,\n",
        "                                                                            random_state = 42)"
      ],
      "metadata": {
        "id": "tMVOmCGSfLUf"
      },
      "execution_count": null,
      "outputs": []
    },
    {
      "cell_type": "code",
      "source": [
        "len(train_sentences), len(train_labels)"
      ],
      "metadata": {
        "id": "hrETiey7hVrt",
        "colab": {
          "base_uri": "https://localhost:8080/"
        },
        "outputId": "6af2350b-4a94-42f3-f70c-c5afd09cd336"
      },
      "execution_count": null,
      "outputs": [
        {
          "output_type": "execute_result",
          "data": {
            "text/plain": [
              "(1155999, 1155999)"
            ]
          },
          "metadata": {},
          "execution_count": 22
        }
      ]
    },
    {
      "cell_type": "code",
      "source": [
        "len(test_sentences), len(test_labels)"
      ],
      "metadata": {
        "id": "9DeoeCGRhe5U",
        "colab": {
          "base_uri": "https://localhost:8080/"
        },
        "outputId": "ab4e4ab3-03bd-4c4e-8172-fb0415315958"
      },
      "execution_count": null,
      "outputs": [
        {
          "output_type": "execute_result",
          "data": {
            "text/plain": [
              "(240000, 240000)"
            ]
          },
          "metadata": {},
          "execution_count": 23
        }
      ]
    },
    {
      "cell_type": "code",
      "source": [
        "len(val_sentences), len(val_labels)"
      ],
      "metadata": {
        "id": "IlaJFw1LhiHQ",
        "colab": {
          "base_uri": "https://localhost:8080/"
        },
        "outputId": "4722b81e-92a6-4edd-d49c-bfd7ad5b5149"
      },
      "execution_count": null,
      "outputs": [
        {
          "output_type": "execute_result",
          "data": {
            "text/plain": [
              "(204000, 204000)"
            ]
          },
          "metadata": {},
          "execution_count": 24
        }
      ]
    },
    {
      "cell_type": "markdown",
      "source": [
        "## Visualize our dataset"
      ],
      "metadata": {
        "id": "1MmVqOZmhnz1"
      }
    },
    {
      "cell_type": "code",
      "source": [
        "import random\n",
        "rand_id = random.randint(0, len(sentiment_df)-10)\n",
        "for row in sentiment_df[['Text', 'Label']][rand_id : rand_id + 10].itertuples():\n",
        "  _, text, target = row\n",
        "  print(f'Target : {target}', '[Positive]' if target ==  4 else '[Negative]')\n",
        "  print(f'Text : {text}')\n",
        "  print(f'-----\\n')"
      ],
      "metadata": {
        "id": "yrPzTfrGiFrN",
        "colab": {
          "base_uri": "https://localhost:8080/"
        },
        "outputId": "2d502995-70a7-427e-b7dd-1e64482e6e0e"
      },
      "execution_count": null,
      "outputs": [
        {
          "output_type": "stream",
          "name": "stdout",
          "text": [
            "Target : 0 [Negative]\n",
            "Text : @makeupblogger Don't count on it \n",
            "-----\n",
            "\n",
            "Target : 0 [Negative]\n",
            "Text : I've - imojonty:  whats wrongggg? Â itâs just hit me that my driving test is SOON and i did a mock one with... http://tumblr.com/xnu21qsa1\n",
            "-----\n",
            "\n",
            "Target : 0 [Negative]\n",
            "Text : @ArsenalGirl LOL I have shouted at my TV many times due to his inability to stay onside \n",
            "-----\n",
            "\n",
            "Target : 4 [Positive]\n",
            "Text : @toricrzy Um yummy, I'm hating you right now \n",
            "-----\n",
            "\n",
            "Target : 0 [Negative]\n",
            "Text : sad that runeaddict is down \n",
            "-----\n",
            "\n",
            "Target : 4 [Positive]\n",
            "Text : @wiccabuffy There was an alliance between Elizabeth I &amp; King of Morocco after Spanish Armada. Morocco sought her help to invade Spain. \n",
            "-----\n",
            "\n",
            "Target : 0 [Negative]\n",
            "Text : some one stole 1 box of cigarettes from our room.... please return it to me \n",
            "-----\n",
            "\n",
            "Target : 0 [Negative]\n",
            "Text : @prettylanisax3 awww who is yur 1 and onli friend...????? \n",
            "-----\n",
            "\n",
            "Target : 4 [Positive]\n",
            "Text : OOOH. im geting a mcflurry n a fry!!! ahahahaha! off to clean the kitchen.. then play with my iguana!!!! hehe i love that little critter \n",
            "-----\n",
            "\n",
            "Target : 4 [Positive]\n",
            "Text : @elderwand oh i see   so what are you having today?? hehe\n",
            "-----\n",
            "\n"
          ]
        }
      ]
    },
    {
      "cell_type": "markdown",
      "source": [
        "### Converting `train`, `val`, `test` dataframes into datasets"
      ],
      "metadata": {
        "id": "9bAaZCUG9Qj4"
      }
    },
    {
      "cell_type": "code",
      "source": [
        "frames_train = [pd.DataFrame(train_sentences), pd.DataFrame(train_labels)]\n",
        "frames_val = [pd.DataFrame(val_sentences), pd.DataFrame(val_labels)]\n",
        "frames_test = [pd.DataFrame(test_sentences), pd.DataFrame(test_labels)]\n",
        "\n",
        "train_df = pd.concat(frames_train, axis = 1)\n",
        "val_df = pd.concat(frames_val, axis = 1)\n",
        "test_df = pd.concat(frames_test, axis = 1)\n",
        "\n",
        "train_df.columns = ['Text', 'Label']\n",
        "val_df.columns = ['Text', 'Label']\n",
        "test_df.columns = ['Text', 'Label']"
      ],
      "metadata": {
        "id": "c_oB5x9d69Sy"
      },
      "execution_count": null,
      "outputs": []
    },
    {
      "cell_type": "code",
      "source": [
        "train_df.Label.value_counts()"
      ],
      "metadata": {
        "id": "RJ12rPRm-MKF",
        "colab": {
          "base_uri": "https://localhost:8080/"
        },
        "outputId": "e3193fd6-8db3-4e70-bcd1-97bb44029063"
      },
      "execution_count": null,
      "outputs": [
        {
          "output_type": "execute_result",
          "data": {
            "text/plain": [
              "4    578220\n",
              "0    577779\n",
              "Name: Label, dtype: int64"
            ]
          },
          "metadata": {},
          "execution_count": 27
        }
      ]
    },
    {
      "cell_type": "markdown",
      "source": [
        "## Model_0 Getting a Baseline\n"
      ],
      "metadata": {
        "id": "AQS_fgh_C-uI"
      }
    },
    {
      "cell_type": "code",
      "source": [
        "from sklearn.feature_extraction.text import TfidfVectorizer\n",
        "from sklearn.naive_bayes import MultinomialNB\n",
        "from sklearn.pipeline import Pipeline\n",
        "\n",
        "# Create the model\n",
        "model_0 = Pipeline([\n",
        "    ('tfidf', TfidfVectorizer()),\n",
        "    ('clf', MultinomialNB())\n",
        "])\n",
        "\n",
        "# Fit the model\n",
        "model_0.fit(X = train_sentences,\n",
        "            y = train_labels)"
      ],
      "metadata": {
        "id": "I3nhbL7jC-Vq",
        "colab": {
          "base_uri": "https://localhost:8080/"
        },
        "outputId": "9c6799ee-a679-4afa-c5b9-41ced45ab49c"
      },
      "execution_count": null,
      "outputs": [
        {
          "output_type": "execute_result",
          "data": {
            "text/plain": [
              "Pipeline(steps=[('tfidf', TfidfVectorizer()), ('clf', MultinomialNB())])"
            ]
          },
          "metadata": {},
          "execution_count": 28
        }
      ]
    },
    {
      "cell_type": "code",
      "source": [
        "# Evaluate our Baseline Model\n",
        "model_0.score(X = val_sentences,\n",
        "              y = val_labels)"
      ],
      "metadata": {
        "id": "6xzNSu8uBCNK",
        "colab": {
          "base_uri": "https://localhost:8080/"
        },
        "outputId": "68c2bc3b-da2e-4b0d-85ab-572acb60bb1c"
      },
      "execution_count": null,
      "outputs": [
        {
          "output_type": "execute_result",
          "data": {
            "text/plain": [
              "0.7705245098039216"
            ]
          },
          "metadata": {},
          "execution_count": 29
        }
      ]
    },
    {
      "cell_type": "code",
      "source": [
        "baseline_preds = model_0.predict(val_sentences)"
      ],
      "metadata": {
        "id": "02ATiODyShve"
      },
      "execution_count": null,
      "outputs": []
    },
    {
      "cell_type": "code",
      "source": [
        "baseline_results = calculate_results(y_true = val_labels,\n",
        "                                     y_pred = baseline_preds)"
      ],
      "metadata": {
        "id": "su2iEKILSo9Q"
      },
      "execution_count": null,
      "outputs": []
    },
    {
      "cell_type": "code",
      "source": [
        "RESULTS = {}\n",
        "RESULTS['model_0'] = baseline_results"
      ],
      "metadata": {
        "id": "kWlz8CgfTnwg"
      },
      "execution_count": null,
      "outputs": []
    },
    {
      "cell_type": "markdown",
      "source": [
        "## Preparing data for Deep Sequence models"
      ],
      "metadata": {
        "id": "HQgsbkDifpps"
      }
    },
    {
      "cell_type": "markdown",
      "source": [
        "### Create Text Vectorizing and Embedding Layers"
      ],
      "metadata": {
        "id": "S29FDSEYfzWz"
      }
    },
    {
      "cell_type": "code",
      "source": [
        "import numpy as np\n",
        "import tensorflow as tf\n",
        "from tensorflow.keras import layers"
      ],
      "metadata": {
        "id": "iX6TxGmndmEl"
      },
      "execution_count": null,
      "outputs": []
    },
    {
      "cell_type": "code",
      "source": [
        "sent_lens = [len(sentence.split()) for sentence in train_sentences]"
      ],
      "metadata": {
        "id": "3B23oh8MgY9Y"
      },
      "execution_count": null,
      "outputs": []
    },
    {
      "cell_type": "code",
      "source": [
        "sent_lens[:10]"
      ],
      "metadata": {
        "id": "aKLpruylg_GD",
        "colab": {
          "base_uri": "https://localhost:8080/"
        },
        "outputId": "ca6a8380-5fff-4029-94c3-6b54ddf3c783"
      },
      "execution_count": null,
      "outputs": [
        {
          "output_type": "execute_result",
          "data": {
            "text/plain": [
              "[26, 10, 5, 11, 18, 17, 5, 19, 26, 15]"
            ]
          },
          "metadata": {},
          "execution_count": 35
        }
      ]
    },
    {
      "cell_type": "code",
      "source": [
        "average_sent_lens = np.mean(sent_lens)\n",
        "average_sent_lens"
      ],
      "metadata": {
        "id": "NGwfME-LhA6T",
        "colab": {
          "base_uri": "https://localhost:8080/"
        },
        "outputId": "95d87c16-d85a-4f6d-f4c1-517dd2b8d5e2"
      },
      "execution_count": null,
      "outputs": [
        {
          "output_type": "execute_result",
          "data": {
            "text/plain": [
              "13.174920566540283"
            ]
          },
          "metadata": {},
          "execution_count": 36
        }
      ]
    },
    {
      "cell_type": "code",
      "source": [
        "import matplotlib.pyplot as plt\n",
        "\n",
        "plt.hist(sent_lens, bins = 60)"
      ],
      "metadata": {
        "id": "7UD8qE3tlduc",
        "colab": {
          "base_uri": "https://localhost:8080/",
          "height": 612
        },
        "outputId": "acc1e85f-d418-405c-9f6e-03062552b357"
      },
      "execution_count": null,
      "outputs": [
        {
          "output_type": "execute_result",
          "data": {
            "text/plain": [
              "(array([4.3110e+03, 1.8171e+04, 3.7588e+04, 4.9260e+04, 5.8573e+04,\n",
              "        6.2983e+04, 6.4575e+04, 6.4328e+04, 6.2677e+04, 6.0320e+04,\n",
              "        5.8087e+04, 5.4993e+04, 5.1852e+04, 4.8882e+04, 4.5791e+04,\n",
              "        4.3271e+04, 4.0543e+04, 3.8841e+04, 3.7516e+04, 0.0000e+00,\n",
              "        3.7210e+04, 3.4925e+04, 3.4475e+04, 3.2906e+04, 3.0753e+04,\n",
              "        2.7020e+04, 2.1461e+04, 1.5368e+04, 9.6030e+03, 5.3220e+03,\n",
              "        2.6050e+03, 1.1210e+03, 4.2000e+02, 1.6000e+02, 5.7000e+01,\n",
              "        1.4000e+01, 5.0000e+00, 3.0000e+00, 2.0000e+00, 0.0000e+00,\n",
              "        3.0000e+00, 0.0000e+00, 1.0000e+00, 0.0000e+00, 0.0000e+00,\n",
              "        1.0000e+00, 0.0000e+00, 0.0000e+00, 0.0000e+00, 0.0000e+00,\n",
              "        0.0000e+00, 0.0000e+00, 0.0000e+00, 0.0000e+00, 0.0000e+00,\n",
              "        0.0000e+00, 0.0000e+00, 0.0000e+00, 1.0000e+00, 1.0000e+00]),\n",
              " array([ 1.  ,  1.95,  2.9 ,  3.85,  4.8 ,  5.75,  6.7 ,  7.65,  8.6 ,\n",
              "         9.55, 10.5 , 11.45, 12.4 , 13.35, 14.3 , 15.25, 16.2 , 17.15,\n",
              "        18.1 , 19.05, 20.  , 20.95, 21.9 , 22.85, 23.8 , 24.75, 25.7 ,\n",
              "        26.65, 27.6 , 28.55, 29.5 , 30.45, 31.4 , 32.35, 33.3 , 34.25,\n",
              "        35.2 , 36.15, 37.1 , 38.05, 39.  , 39.95, 40.9 , 41.85, 42.8 ,\n",
              "        43.75, 44.7 , 45.65, 46.6 , 47.55, 48.5 , 49.45, 50.4 , 51.35,\n",
              "        52.3 , 53.25, 54.2 , 55.15, 56.1 , 57.05, 58.  ]),\n",
              " <a list of 60 Patch objects>)"
            ]
          },
          "metadata": {},
          "execution_count": 37
        },
        {
          "output_type": "display_data",
          "data": {
            "text/plain": [
              "<Figure size 432x288 with 1 Axes>"
            ],
            "image/png": "[encoded data removed]"
          },
          "metadata": {
            "needs_background": "light"
          }
        }
      ]
    },
    {
      "cell_type": "code",
      "source": [
        "output_seq_len = int(np.percentile(sent_lens, 98))\n",
        "output_seq_len"
      ],
      "metadata": {
        "id": "KDbvHhUHmC5w",
        "colab": {
          "base_uri": "https://localhost:8080/"
        },
        "outputId": "644ba6a3-ac2f-425b-f90b-e80a4f4cc3a6"
      },
      "execution_count": null,
      "outputs": [
        {
          "output_type": "execute_result",
          "data": {
            "text/plain": [
              "27"
            ]
          },
          "metadata": {},
          "execution_count": 38
        }
      ]
    },
    {
      "cell_type": "markdown",
      "source": [
        "### Create Text Vectorizer Layer"
      ],
      "metadata": {
        "id": "SjAZCUBylSYy"
      }
    },
    {
      "cell_type": "code",
      "source": [
        "max_vocab_length = 120000\n",
        "\n",
        "text_vectorizer = tf.keras.layers.TextVectorization(max_tokens = max_vocab_length,\n",
        "                                                    output_sequence_length = output_seq_len)"
      ],
      "metadata": {
        "id": "ZcC2wePQH0Au"
      },
      "execution_count": null,
      "outputs": []
    },
    {
      "cell_type": "code",
      "source": [
        "# Adapt text vectorizer to train sentence\n",
        "\n",
        "text_vectorizer.adapt(train_sentences)"
      ],
      "metadata": {
        "id": "IbbSQ69yOv74"
      },
      "execution_count": null,
      "outputs": []
    },
    {
      "cell_type": "code",
      "source": [
        "# Test vectorizing layer\n",
        "\n",
        "import random\n",
        "target_sent = random.choice(train_sentences)\n",
        "print(f'Target Sentence:\\n {target_sent}')\n",
        "print(f'Length of text: {len(target_sent)}')\n",
        "print(f'After Vectorizing:\\n {text_vectorizer([target_sent])}')"
      ],
      "metadata": {
        "id": "zWpudnCJQ7PH",
        "colab": {
          "base_uri": "https://localhost:8080/"
        },
        "outputId": "4f605816-6d4d-46ea-c0ef-be2c3081a674"
      },
      "execution_count": null,
      "outputs": [
        {
          "output_type": "stream",
          "name": "stdout",
          "text": [
            "Target Sentence:\n",
            " @gfalcone601 my hamster is only just turned one \n",
            "Length of text: 48\n",
            "After Vectorizing:\n",
            " [[2644    6 6161    9  111   21  938   56    0    0    0    0    0    0\n",
            "     0    0    0    0    0    0    0    0    0    0    0    0    0]]\n"
          ]
        }
      ]
    },
    {
      "cell_type": "code",
      "source": [
        "# Most common and Least common words in our vocab\n",
        "\n",
        "vocab_sentiment140 = text_vectorizer.get_vocabulary()\n",
        "print(f'No of words in our Vocab: {len(vocab_sentiment140)}')\n",
        "print(f'Most common words in Vocab: {vocab_sentiment140[:5]}')\n",
        "print(f'Least common words in Vocab: {vocab_sentiment140[-20:]}')"
      ],
      "metadata": {
        "id": "BpsGqysHTG81",
        "colab": {
          "base_uri": "https://localhost:8080/"
        },
        "outputId": "51c18458-f5ed-4684-b47a-14d643ff33aa"
      },
      "execution_count": null,
      "outputs": [
        {
          "output_type": "stream",
          "name": "stdout",
          "text": [
            "No of words in our Vocab: 120000\n",
            "Most common words in Vocab: ['', '[UNK]', 'i', 'to', 'the']\n",
            "Least common words in Vocab: ['whoknows1970', 'whoknows', 'whoisthisjoant', 'whoissuresh', 'whoisright', 'whoisray', 'whoiskenan', 'whoisjohnlai', 'whoisbarbie', 'whoisb', 'whoisandybarnes', 'whoisalexparker', 'whohooo', 'whoeva', 'whocares', 'whoaw', 'whoand', 'whoamiriam', 'whoak', 'whoaitsjordan']\n"
          ]
        }
      ]
    },
    {
      "cell_type": "markdown",
      "source": [
        "### Create Text Embedding Layer"
      ],
      "metadata": {
        "id": "PNJbspClUP8f"
      }
    },
    {
      "cell_type": "code",
      "source": [
        "token_embed = layers.Embedding(input_dim = len(vocab_sentiment140),\n",
        "                               output_dim = 128,\n",
        "                               mask_zero = True,\n",
        "                               name = 'token_embedding')"
      ],
      "metadata": {
        "id": "FqY0FEgZUM0E"
      },
      "execution_count": null,
      "outputs": []
    },
    {
      "cell_type": "code",
      "source": [
        "# Test embedding layer\n",
        "\n",
        "print(f'Before Vectorisation :\\n {target_sent}\\n')\n",
        "vectorized_sent = text_vectorizer(target_sent)\n",
        "print(f'After Vectorizing:\\n {vectorized_sent}\\n')\n",
        "print(f'After Embedding:\\n {token_embed(vectorized_sent)}')"
      ],
      "metadata": {
        "id": "-3oHkeJMv_6g",
        "colab": {
          "base_uri": "https://localhost:8080/"
        },
        "outputId": "77783f2f-9e07-4382-ead2-56ab387d7f2c"
      },
      "execution_count": null,
      "outputs": [
        {
          "output_type": "stream",
          "name": "stdout",
          "text": [
            "Before Vectorisation :\n",
            " @gfalcone601 my hamster is only just turned one \n",
            "\n",
            "After Vectorizing:\n",
            " [2644    6 6161    9  111   21  938   56    0    0    0    0    0    0\n",
            "    0    0    0    0    0    0    0    0    0    0    0    0    0]\n",
            "\n",
            "After Embedding:\n",
            " [[ 0.00173234  0.0116371  -0.00732322 ... -0.03158253  0.0430929\n",
            "  -0.0137372 ]\n",
            " [-0.0386923   0.03040757  0.00044774 ... -0.01650609 -0.02159954\n",
            "  -0.01647731]\n",
            " [ 0.01154841 -0.01564212  0.0261527  ...  0.03159558  0.00965928\n",
            "   0.04622406]\n",
            " ...\n",
            " [ 0.01553795 -0.04226365 -0.02134947 ...  0.03587123  0.00279498\n",
            "   0.02799643]\n",
            " [ 0.01553795 -0.04226365 -0.02134947 ...  0.03587123  0.00279498\n",
            "   0.02799643]\n",
            " [ 0.01553795 -0.04226365 -0.02134947 ...  0.03587123  0.00279498\n",
            "   0.02799643]]\n"
          ]
        }
      ]
    },
    {
      "cell_type": "markdown",
      "source": [
        "## Creating Datasets for faster processing\n"
      ],
      "metadata": {
        "id": "szX2Y1Zn0T0f"
      }
    },
    {
      "cell_type": "code",
      "source": [
        "# Turn datasets into prefetched\n",
        "train_dataset = tf.data.Dataset.from_tensor_slices((train_sentences, tf.one_hot(train_labels,depth = 1))).batch(32).prefetch(tf.data.AUTOTUNE)\n",
        "test_dataset = tf.data.Dataset.from_tensor_slices((test_sentences, tf.one_hot(test_labels, depth = 1))).batch(32).prefetch(tf.data.AUTOTUNE)\n",
        "val_dataset = tf.data.Dataset.from_tensor_slices((val_sentences, tf.one_hot(val_labels, depth = 1))).batch(32).prefetch(tf.data.AUTOTUNE)"
      ],
      "metadata": {
        "id": "HkYgxc5GyaA4"
      },
      "execution_count": null,
      "outputs": []
    },
    {
      "cell_type": "markdown",
      "source": [
        "## Model_1: Conv1D + Embedding"
      ],
      "metadata": {
        "id": "6ZoX_vxt36cj"
      }
    },
    {
      "cell_type": "code",
      "source": [
        "# Create the model\n",
        "inputs = layers.Input(shape = (1,), dtype = tf.string)\n",
        "text_vectors = text_vectorizer(inputs)\n",
        "token_embeddings = token_embed(text_vectors)\n",
        "x = layers.Conv1D(64, kernel_size = 5, padding = 'same', activation = 'relu')(token_embeddings)\n",
        "x = layers.GlobalAveragePooling1D()(x)\n",
        "outputs = layers.Dense(1, activation = 'sigmoid')(x)\n",
        "model_1 = tf.keras.Model(inputs, outputs)\n",
        "\n",
        "# Compile the model\n",
        "model_1.compile(loss = tf.keras.losses.BinaryCrossentropy(),\n",
        "                optimizer = tf.keras.optimizers.Adam(),\n",
        "                metrics = ['accuracy'])\n",
        "\n",
        "# Fit the model\n",
        "model_1_history = model_1.fit(train_dataset,\n",
        "                              steps_per_epoch=int(0.1 * len(train_dataset)), # only fit on 10% of batches for faster training time\n",
        "                              epochs=3,\n",
        "                              validation_data=val_dataset,\n",
        "                              validation_steps=int(0.1 * len(val_dataset)),\n",
        "                              callbacks = [tf.keras.callbacks.EarlyStopping(monitor = 'val_loss')])"
      ],
      "metadata": {
        "id": "gb6to2Og0q58",
        "colab": {
          "base_uri": "https://localhost:8080/"
        },
        "outputId": "0802ff9d-42d2-435c-e0f0-fa51c2de4984"
      },
      "execution_count": null,
      "outputs": [
        {
          "output_type": "stream",
          "name": "stdout",
          "text": [
            "Epoch 1/3\n",
            "3612/3612 [==============================] - 57s 12ms/step - loss: 0.4911 - accuracy: 0.7681 - val_loss: 0.4705 - val_accuracy: 0.7861\n",
            "Epoch 2/3\n",
            "3612/3612 [==============================] - 44s 12ms/step - loss: 0.4544 - accuracy: 0.7925 - val_loss: 0.4553 - val_accuracy: 0.7946\n"
          ]
        }
      ]
    },
    {
      "cell_type": "code",
      "source": [
        "model_1.evaluate(val_dataset)"
      ],
      "metadata": {
        "id": "QtkyHJ73Hvqm",
        "colab": {
          "base_uri": "https://localhost:8080/"
        },
        "outputId": "32d8d6a0-e375-4195-c297-220c5845d2b7"
      },
      "execution_count": null,
      "outputs": [
        {
          "output_type": "stream",
          "name": "stdout",
          "text": [
            "6375/6375 [==============================] - 17s 3ms/step - loss: 0.4501 - accuracy: 0.7962\n"
          ]
        },
        {
          "output_type": "execute_result",
          "data": {
            "text/plain": [
              "[0.450056791305542, 0.7961961030960083]"
            ]
          },
          "metadata": {},
          "execution_count": 47
        }
      ]
    },
    {
      "cell_type": "code",
      "source": [
        "model_1_pred_probs = model_1.predict(val_sentences)"
      ],
      "metadata": {
        "id": "cIrVpAfnH4SF"
      },
      "execution_count": null,
      "outputs": []
    },
    {
      "cell_type": "code",
      "source": [
        "model_1_preds = np.round(model_1_pred_probs)"
      ],
      "metadata": {
        "id": "phILiPR8vXr-"
      },
      "execution_count": null,
      "outputs": []
    },
    {
      "cell_type": "code",
      "source": [
        "model_1_results = calculate_results(y_true = tf.one_hot(val_labels, depth = 1),\n",
        "                                    y_pred = model_1_preds)"
      ],
      "metadata": {
        "id": "oGjK2ty5vfK8"
      },
      "execution_count": null,
      "outputs": []
    },
    {
      "cell_type": "code",
      "source": [
        "model_1_results"
      ],
      "metadata": {
        "id": "KvPuICLuwgal",
        "colab": {
          "base_uri": "https://localhost:8080/"
        },
        "outputId": "70f4bf98-5518-4b00-e9a5-5d726fa13ce0"
      },
      "execution_count": null,
      "outputs": [
        {
          "output_type": "execute_result",
          "data": {
            "text/plain": [
              "{'accuracy': 79.61960784313725,\n",
              " 'precision': 0.7969639262565213,\n",
              " 'recall': 0.7961960784313725,\n",
              " 'f1': 0.7960639783297523}"
            ]
          },
          "metadata": {},
          "execution_count": 51
        }
      ]
    },
    {
      "cell_type": "code",
      "source": [
        "RESULTS['model_1'] = model_1_results"
      ],
      "metadata": {
        "id": "LbeDaI7u7AD8"
      },
      "execution_count": null,
      "outputs": []
    },
    {
      "cell_type": "code",
      "source": [
        "RESULTS"
      ],
      "metadata": {
        "id": "6QXyGGaJ7I5w",
        "colab": {
          "base_uri": "https://localhost:8080/"
        },
        "outputId": "c78d4101-93dc-4676-c21a-a9a526b72314"
      },
      "execution_count": null,
      "outputs": [
        {
          "output_type": "execute_result",
          "data": {
            "text/plain": [
              "{'model_0': {'accuracy': 77.05245098039217,\n",
              "  'precision': 0.7728593367513529,\n",
              "  'recall': 0.7705245098039216,\n",
              "  'f1': 0.7700319671555375},\n",
              " 'model_1': {'accuracy': 79.61960784313725,\n",
              "  'precision': 0.7969639262565213,\n",
              "  'recall': 0.7961960784313725,\n",
              "  'f1': 0.7960639783297523}}"
            ]
          },
          "metadata": {},
          "execution_count": 53
        }
      ]
    },
    {
      "cell_type": "code",
      "source": [
        "plot_loss_curves(model_1_history)"
      ],
      "metadata": {
        "id": "foTI65VpXzy9",
        "colab": {
          "base_uri": "https://localhost:8080/",
          "height": 573
        },
        "outputId": "5a58076e-3985-4487-fed6-8aeca2d923af"
      },
      "execution_count": null,
      "outputs": [
        {
          "output_type": "display_data",
          "data": {
            "text/plain": [
              "<Figure size 432x288 with 1 Axes>"
            ],
            "image/png": "[encoded data removed]"
          },
          "metadata": {
            "needs_background": "light"
          }
        },
        {
          "output_type": "display_data",
          "data": {
            "text/plain": [
              "<Figure size 432x288 with 1 Axes>"
            ],
            "image/png": "[encoded data removed]"
          },
          "metadata": {
            "needs_background": "light"
          }
        }
      ]
    },
    {
      "cell_type": "markdown",
      "source": [
        "## Model_2 Feature Extraction Model"
      ],
      "metadata": {
        "id": "MFGrz9NYB8U9"
      }
    },
    {
      "cell_type": "code",
      "source": [
        "# Downloading Universal Sentence Encoder\n",
        "\n",
        "import tensorflow_hub as hub\n",
        "\n",
        "hub_embedding_layer = hub.KerasLayer('https://tfhub.dev/google/universal-sentence-encoder/4',\n",
        "                                     trainable = False,\n",
        "                                     name = 'USE')"
      ],
      "metadata": {
        "id": "RTUX4NyRB_0w"
      },
      "execution_count": null,
      "outputs": []
    },
    {
      "cell_type": "code",
      "source": [
        "random_sent = random.choice(train_sentences)\n",
        "print(f'Sentence before Embedding Layer: {random_sent}\\n')\n",
        "print(f'Sentence after Embedding Layer: {hub_embedding_layer([random_sent])}')"
      ],
      "metadata": {
        "colab": {
          "base_uri": "https://localhost:8080/"
        },
        "id": "LiBAHDS0CveJ",
        "outputId": "0534b340-af29-42dc-befe-212a93ba750f"
      },
      "execution_count": null,
      "outputs": [
        {
          "output_type": "stream",
          "name": "stdout",
          "text": [
            "Sentence before Embedding Layer: bye for now.. see you tomorrow... take care \n",
            "\n",
            "Sentence after Embedding Layer: [[ 4.2438552e-02 -7.4418813e-02 -6.2369395e-02 -9.2803016e-03\n",
            "  -6.9360070e-02 -3.9345589e-02 -4.5571093e-02 -2.0315224e-02\n",
            "  -5.1395040e-02 -9.0845674e-03 -5.1141670e-03  3.9848555e-03\n",
            "  -2.9839013e-02 -2.1161804e-02  7.0902407e-02 -9.0821058e-02\n",
            "  -4.1446615e-02  5.7394125e-02 -6.3911388e-03  5.3728700e-02\n",
            "  -3.4088228e-02  3.4691662e-02  8.1937626e-02 -4.1656818e-02\n",
            "   3.4957822e-02  2.6190858e-02  2.8295636e-02 -2.3845928e-02\n",
            "  -6.0477715e-02  1.6859865e-02  1.4095489e-02 -4.4178762e-02\n",
            "  -5.3342776e-03  6.5835030e-03  2.9364318e-02 -1.6997447e-02\n",
            "   2.3125151e-02  4.2530904e-03  1.3670823e-02  3.4390062e-02\n",
            "   5.4802570e-02 -1.6487999e-02 -2.4891153e-02  2.8531486e-02\n",
            "   4.4405125e-02  3.9680768e-02 -8.5650541e-02 -2.3879379e-02\n",
            "   1.8056337e-02  1.3583407e-02 -2.4695996e-02 -8.2969554e-02\n",
            "  -3.6911689e-02 -5.2484833e-02 -2.3118726e-03 -3.0194754e-02\n",
            "   4.2684533e-02 -1.2031876e-02 -1.9988259e-02 -2.7902376e-02\n",
            "  -3.7110519e-02 -6.0382213e-02  5.2656926e-02 -7.4775718e-02\n",
            "   1.7476797e-02  8.1130512e-02  1.6912503e-02 -2.0687206e-02\n",
            "   6.3683465e-03  5.0310116e-02 -8.6853001e-03 -7.3534735e-02\n",
            "   3.9463524e-02 -4.4610634e-02  5.2212376e-02 -1.1484755e-02\n",
            "   3.7586264e-02 -3.7784405e-02 -8.0495536e-02 -8.4170088e-02\n",
            "  -6.1219171e-02 -1.6978025e-02 -1.3001413e-02 -7.6293744e-02\n",
            "   7.1643353e-02 -5.6671549e-02 -1.7359650e-02 -4.4373076e-02\n",
            "   1.7497391e-02 -1.0414623e-02 -7.5482920e-02  3.0330289e-02\n",
            "   1.1467258e-02 -4.6164773e-02  1.0258648e-02  9.1453074e-03\n",
            "  -7.4060589e-02 -1.3178006e-02 -9.1686174e-03 -3.0829594e-03\n",
            "   1.7141569e-03  3.1419866e-02  7.3559351e-02 -4.0785849e-02\n",
            "  -3.2865215e-02 -1.1395944e-02 -1.7897217e-02 -3.7428237e-02\n",
            "   2.7672286e-04 -5.0560538e-02 -8.8930875e-02  5.2273881e-02\n",
            "  -4.4854589e-02  6.0566101e-02  1.3320884e-02  5.3884916e-02\n",
            "  -7.0648625e-02 -2.1514902e-02  8.7537328e-03 -2.5996851e-02\n",
            "  -3.6988266e-02 -4.5330733e-02  4.4033181e-02  4.3199915e-02\n",
            "  -1.4529685e-02  4.5270365e-02  5.0399791e-02 -6.2007084e-02\n",
            "   1.1045942e-02 -4.1084137e-02  4.2915829e-02 -2.9332715e-03\n",
            "   6.3137084e-02  7.2944723e-02 -4.1466415e-02  2.2689669e-04\n",
            "  -6.8711132e-02  2.2486048e-02 -5.9682477e-02 -2.6325988e-02\n",
            "   8.2151918e-03 -4.8913904e-02  7.1543343e-02  2.7983613e-02\n",
            "   2.8357280e-02 -3.9400209e-02 -3.1484351e-02 -2.0390712e-02\n",
            "   3.5821941e-02  5.5554487e-02 -5.0634388e-02 -5.8757633e-02\n",
            "  -3.3388074e-02  6.3462459e-02  4.7654301e-02  2.7776480e-02\n",
            "   5.2495524e-02 -7.3023058e-02 -6.6339239e-02  2.3333447e-02\n",
            "   6.9786146e-02  3.3004314e-02 -8.3745964e-02 -5.5506423e-02\n",
            "  -4.3414183e-02 -3.3695668e-02 -1.0949238e-02  2.8834231e-02\n",
            "  -1.4869707e-02  3.5188146e-02  8.8448867e-02 -5.7418060e-02\n",
            "   1.2602823e-02  4.3338902e-02  1.9521412e-02 -2.2165803e-02\n",
            "  -1.9121874e-02 -5.0892599e-02 -6.2402219e-02 -6.4987212e-02\n",
            "   4.0838059e-02  1.5835706e-02  6.2547691e-02  3.6651146e-02\n",
            "   2.3663834e-02 -3.0721952e-03 -5.8987986e-02 -3.2251239e-02\n",
            "   6.0100339e-02 -3.7390135e-02  7.7784649e-04 -1.5568525e-02\n",
            "  -7.6980628e-02 -2.1345723e-02 -2.2080908e-02  5.1587842e-02\n",
            "  -5.7514518e-02 -3.7454355e-03 -2.1514233e-02 -1.6777551e-02\n",
            "  -1.3047846e-02  3.4978230e-02 -7.1059172e-03  8.6037390e-02\n",
            "   3.7155859e-02 -8.9279059e-03 -5.1763773e-02  4.5848470e-03\n",
            "   5.0381504e-02  5.0553229e-02  8.8317677e-02  5.3571574e-02\n",
            "  -4.5813460e-02  6.2784687e-02 -3.1286228e-02 -4.1873239e-02\n",
            "   2.3976650e-02  6.5650366e-02  1.4405869e-02  6.8255208e-02\n",
            "  -1.0763979e-02 -1.5456709e-02  2.3609775e-03  2.6325982e-02\n",
            "  -3.3799704e-02 -2.5857534e-02  3.5701778e-02  7.8115966e-03\n",
            "   6.5229900e-02  3.7069429e-02  1.4658907e-02  3.8153287e-02\n",
            "  -6.0178000e-02  2.4401514e-02 -6.6563815e-02 -9.0041393e-03\n",
            "   7.7263184e-02 -3.3473238e-02  6.0517758e-02  3.0332139e-02\n",
            "  -4.1437417e-02 -2.4420228e-02 -2.0589544e-02 -2.2493429e-02\n",
            "  -1.9746266e-02  5.9688970e-02 -1.8980017e-02  1.7271606e-02\n",
            "   2.2072433e-02  6.9676568e-03 -2.7684891e-03  8.3839230e-02\n",
            "   3.1983629e-02 -2.5721496e-02 -2.9567555e-02 -8.8973388e-02\n",
            "   3.5302218e-02  7.3860139e-02 -4.5150612e-02  2.1916598e-02\n",
            "  -4.2725381e-02  1.6425988e-02 -3.1214230e-02  5.9523299e-02\n",
            "   1.1028204e-02 -1.1974767e-02 -4.8854720e-02 -5.9972569e-02\n",
            "  -2.3202812e-02  2.9315162e-02 -2.1400981e-02  9.1451637e-02\n",
            "   5.2675582e-02  3.0445980e-03 -9.3307216e-03  4.6565715e-02\n",
            "   6.0289308e-02 -2.7767470e-02  7.7525757e-02 -5.2002136e-02\n",
            "  -4.3785400e-03  3.7780784e-03 -4.6780027e-02 -7.1677566e-02\n",
            "  -2.4864448e-02 -2.1108018e-02 -5.6115042e-02 -5.6866631e-02\n",
            "  -1.6243130e-02  7.6682851e-02 -1.4282570e-02  3.9514549e-02\n",
            "  -5.5144452e-02  2.3341220e-02  8.8866577e-02  5.1255014e-02\n",
            "  -1.9544853e-02 -5.6777902e-02  4.6303933e-03  2.7332898e-02\n",
            "  -9.8467227e-03  4.8498500e-02  5.1827487e-02  5.1319592e-02\n",
            "   4.1547115e-03  7.4849986e-03  6.9722123e-02  2.3456076e-02\n",
            "   1.7644363e-02 -3.7597720e-02  7.9512363e-03 -9.7545125e-03\n",
            "  -4.5279130e-02 -1.9143784e-02  2.4978049e-02 -4.7546498e-02\n",
            "   1.8183516e-02 -2.2029601e-02 -6.4138010e-02  5.2032262e-02\n",
            "   5.2899048e-02  1.6288377e-02  3.6862429e-02 -2.5445454e-02\n",
            "   6.4974457e-02  7.9213232e-02 -4.4110376e-02  1.4517449e-02\n",
            "   1.0136515e-02 -2.0695316e-02 -8.6396381e-02 -2.4727048e-02\n",
            "  -2.6816923e-02 -4.0174637e-02 -7.4748821e-03 -1.3420452e-02\n",
            "   5.7245545e-02 -6.1320510e-02  1.0400386e-02 -8.0138341e-02\n",
            "   3.4651361e-02 -4.9053244e-02  6.3414495e-03  8.5981742e-02\n",
            "   2.1563625e-02  6.6843629e-03 -9.1375314e-02  3.0998036e-02\n",
            "   4.5398626e-02  5.3877417e-02  1.1473878e-02  4.4871047e-02\n",
            "  -4.3885246e-02 -8.7588513e-03  4.7685746e-02 -4.1896500e-02\n",
            "  -8.7368175e-02 -3.1558190e-02  4.3359540e-02  6.6889450e-02\n",
            "  -2.9759523e-02  2.9926274e-02  5.2044746e-02 -2.7717955e-02\n",
            "   4.1439347e-02  7.3404118e-02  3.1775750e-02 -6.5580264e-02\n",
            "  -7.0310399e-02 -6.7102965e-03  2.1381039e-02  2.7100390e-02\n",
            "  -1.0495615e-02  2.4002196e-02  1.9880041e-02  7.7317730e-02\n",
            "  -1.8011587e-02 -1.7331010e-02  3.1240031e-03 -6.8261459e-02\n",
            "  -2.7906194e-02  5.0469018e-03  1.7794834e-02 -7.0977084e-02\n",
            "   2.8674571e-02 -6.1782665e-04 -3.7555903e-02  5.2134585e-02\n",
            "   5.3559672e-02  1.0088606e-02 -7.9871610e-02  2.8523335e-02\n",
            "  -6.9146954e-02 -8.2120106e-02 -1.0368371e-02 -7.0020415e-02\n",
            "   2.4381520e-02 -9.3008252e-03  3.3194151e-02  7.4845485e-02\n",
            "  -7.4990049e-02  2.3126209e-02 -3.0084556e-02  5.4570541e-02\n",
            "   3.2319978e-02  2.8513910e-02 -6.0174260e-02  2.6559083e-02\n",
            "   1.3905761e-02  2.2845291e-02  5.4501917e-02  5.0089806e-02\n",
            "  -4.3562874e-02 -1.7318927e-02 -5.2959094e-04  4.1215114e-02\n",
            "  -3.3727594e-02  2.8434203e-03  1.5650909e-02  4.0837348e-02\n",
            "  -6.2517226e-02  6.4373814e-02 -5.7648864e-02  4.9228787e-02\n",
            "   7.3051886e-03  7.9481721e-02 -2.8102148e-02 -8.0824308e-02\n",
            "   3.2607142e-02  4.0630218e-02 -4.8943594e-02 -8.8807540e-03\n",
            "   5.0816268e-02  9.1754824e-02  3.9253235e-03  2.3194612e-03\n",
            "   1.1357938e-02  3.2299969e-02 -1.6847653e-02  6.3399732e-02\n",
            "  -7.0875897e-03  5.8574144e-02 -1.1430165e-03 -1.0825150e-02\n",
            "  -7.5109832e-02 -2.0964803e-02 -2.9842637e-03 -6.4520046e-02\n",
            "  -1.3820674e-02  3.9917976e-02  8.2197646e-03  3.0259186e-02\n",
            "   2.0595409e-02 -2.9564992e-02 -3.1027909e-02 -5.3967755e-02\n",
            "   3.8914777e-02  8.2401752e-02 -3.5985406e-02  5.9401795e-02\n",
            "   2.2217201e-02  4.8495609e-02 -6.2624224e-02 -6.5774001e-02\n",
            "  -2.6946088e-02 -6.2607467e-02 -1.2169597e-02 -1.6050793e-02\n",
            "   1.9865669e-02  8.7393247e-02 -2.0114614e-02 -2.4105655e-03\n",
            "   7.2243221e-02 -2.7201835e-02  1.6805520e-02 -2.5972065e-02\n",
            "   1.8153664e-02 -5.4586738e-02 -1.2204117e-03  6.1080880e-02\n",
            "  -1.8799357e-02  1.0791672e-02  8.2859993e-02  4.1771937e-02\n",
            "  -1.2328980e-02 -2.7816407e-02 -8.7983735e-02 -4.2731538e-02\n",
            "   3.2691382e-02 -3.1047311e-02  4.0079892e-02 -1.6026599e-02\n",
            "  -1.8737808e-02  5.8774445e-02 -1.0114131e-02 -4.4033214e-02\n",
            "   7.3054098e-02 -4.1737007e-03 -6.2286876e-02 -6.0847834e-02\n",
            "   4.8896123e-02 -3.5257883e-02  3.3243816e-02  2.7813278e-03\n",
            "   8.0131449e-02  4.8711006e-02  2.9506985e-02  2.4931729e-02\n",
            "   7.6536373e-03  1.7652895e-02 -5.5844545e-02  2.1778773e-05]]\n"
          ]
        }
      ]
    },
    {
      "cell_type": "code",
      "source": [
        "len(hub_embedding_layer([random_sent])[0]) # Length is 512 because the input is a variable length English text and the ouput is 512 dimensional feature vector"
      ],
      "metadata": {
        "colab": {
          "base_uri": "https://localhost:8080/"
        },
        "id": "P7M3eFEsC3jb",
        "outputId": "55642aee-2892-4024-add9-5b0c00f7bcb5"
      },
      "execution_count": null,
      "outputs": [
        {
          "output_type": "execute_result",
          "data": {
            "text/plain": [
              "512"
            ]
          },
          "metadata": {},
          "execution_count": 57
        }
      ]
    },
    {
      "cell_type": "code",
      "source": [
        "# Create model_2\n",
        "\n",
        "inputs = layers.Input(shape = [], dtype = tf.string)\n",
        "embedding = hub_embedding_layer(inputs)\n",
        "x = layers.Dense(128, activation = 'relu', )(embedding)\n",
        "outputs = layers.Dense(1, activation = 'sigmoid')(x)\n",
        "model_2 = tf.keras.Model(inputs, outputs)\n",
        "\n",
        "# Compile the model\n",
        "model_2.compile(loss = tf.keras.losses.BinaryCrossentropy(),\n",
        "                optimizer = tf.keras.optimizers.Adam(),\n",
        "                metrics = ['accuracy'])\n",
        "# Fit the model\n",
        "model_2_hist  = model_2.fit(train_dataset,\n",
        "                            epochs = 3,\n",
        "                            steps_per_epoch = int(0.1 * len(train_dataset)),\n",
        "                            validation_data = val_dataset,\n",
        "                            validation_steps = int(0.1 * len(val_dataset)),\n",
        "                            callbacks = [tf.keras.callbacks.EarlyStopping(monitor = 'val_loss')])"
      ],
      "metadata": {
        "colab": {
          "base_uri": "https://localhost:8080/"
        },
        "id": "o8ucU6k1DkfB",
        "outputId": "dfde4d86-f5e2-421a-cab2-87fcb71b3d25"
      },
      "execution_count": null,
      "outputs": [
        {
          "output_type": "stream",
          "name": "stdout",
          "text": [
            "Epoch 1/3\n",
            "3612/3612 [==============================] - 42s 11ms/step - loss: 0.4663 - accuracy: 0.7796 - val_loss: 0.4580 - val_accuracy: 0.7810\n",
            "Epoch 2/3\n",
            "3612/3612 [==============================] - 39s 11ms/step - loss: 0.4458 - accuracy: 0.7895 - val_loss: 0.4475 - val_accuracy: 0.7879\n"
          ]
        }
      ]
    },
    {
      "cell_type": "code",
      "source": [
        "model_2.evaluate(val_dataset)"
      ],
      "metadata": {
        "colab": {
          "base_uri": "https://localhost:8080/"
        },
        "id": "ZL8vYDjoJOcr",
        "outputId": "f9f85586-3bef-494b-e7dd-38e79f2a2e31"
      },
      "execution_count": null,
      "outputs": [
        {
          "output_type": "stream",
          "name": "stdout",
          "text": [
            "6375/6375 [==============================] - 58s 9ms/step - loss: 0.4450 - accuracy: 0.7898\n"
          ]
        },
        {
          "output_type": "execute_result",
          "data": {
            "text/plain": [
              "[0.444970041513443, 0.7898382544517517]"
            ]
          },
          "metadata": {},
          "execution_count": 59
        }
      ]
    },
    {
      "cell_type": "code",
      "source": [
        "model_2_pred_probs = model_2.predict(val_sentences)"
      ],
      "metadata": {
        "id": "oKX0P5gtKWtB"
      },
      "execution_count": null,
      "outputs": []
    },
    {
      "cell_type": "code",
      "source": [
        "model_2_preds = np.round(model_2_pred_probs)"
      ],
      "metadata": {
        "id": "i6DO9hOMKf8B"
      },
      "execution_count": null,
      "outputs": []
    },
    {
      "cell_type": "code",
      "source": [
        "model_2_results = calculate_results(y_pred = model_2_preds,\n",
        "                                    y_true = tf.one_hot(val_labels, depth = 1))"
      ],
      "metadata": {
        "id": "-kpLjwNmK8ms"
      },
      "execution_count": null,
      "outputs": []
    },
    {
      "cell_type": "code",
      "source": [
        "RESULTS['model_2'] = model_2_results"
      ],
      "metadata": {
        "id": "bnyduFgLKj3p"
      },
      "execution_count": null,
      "outputs": []
    },
    {
      "cell_type": "code",
      "source": [
        "RESULTS"
      ],
      "metadata": {
        "colab": {
          "base_uri": "https://localhost:8080/"
        },
        "id": "ieqms1TcLYQ4",
        "outputId": "2aa2c832-ea3a-416d-ec92-a59e509c5f78"
      },
      "execution_count": null,
      "outputs": [
        {
          "output_type": "execute_result",
          "data": {
            "text/plain": [
              "{'model_0': {'accuracy': 77.05245098039217,\n",
              "  'precision': 0.7728593367513529,\n",
              "  'recall': 0.7705245098039216,\n",
              "  'f1': 0.7700319671555375},\n",
              " 'model_1': {'accuracy': 79.61960784313725,\n",
              "  'precision': 0.7969639262565213,\n",
              "  'recall': 0.7961960784313725,\n",
              "  'f1': 0.7960639783297523},\n",
              " 'model_2': {'accuracy': 78.98382352941177,\n",
              "  'precision': 0.7905284339580059,\n",
              "  'recall': 0.7898382352941177,\n",
              "  'f1': 0.7897130690084226}}"
            ]
          },
          "metadata": {},
          "execution_count": 64
        }
      ]
    },
    {
      "cell_type": "markdown",
      "source": [
        "## Model_3 with Character Level tokenisation"
      ],
      "metadata": {
        "id": "IT9HPjcfMXIW"
      }
    },
    {
      "cell_type": "code",
      "source": [
        "def split_char(text):\n",
        "  return ' '.join((text))"
      ],
      "metadata": {
        "id": "1HFeF5LqMWpN"
      },
      "execution_count": null,
      "outputs": []
    },
    {
      "cell_type": "code",
      "source": [
        "' '.join('I Love You')"
      ],
      "metadata": {
        "colab": {
          "base_uri": "https://localhost:8080/",
          "height": 35
        },
        "id": "uPLBq9lrSQ_l",
        "outputId": "eb6ea790-f944-45f6-c6c6-d57554095bb4"
      },
      "execution_count": null,
      "outputs": [
        {
          "output_type": "execute_result",
          "data": {
            "text/plain": [
              "'I   L o v e   Y o u'"
            ],
            "application/vnd.google.colaboratory.intrinsic+json": {
              "type": "string"
            }
          },
          "metadata": {},
          "execution_count": 79
        }
      ]
    },
    {
      "cell_type": "code",
      "source": [
        "' '.join(list('I Love You'))"
      ],
      "metadata": {
        "colab": {
          "base_uri": "https://localhost:8080/",
          "height": 35
        },
        "id": "7-bEBY5mR6G9",
        "outputId": "6dd2e034-d007-469f-e70b-4d3a45df15ad"
      },
      "execution_count": null,
      "outputs": [
        {
          "output_type": "execute_result",
          "data": {
            "text/plain": [
              "'I   L o v e   Y o u'"
            ],
            "application/vnd.google.colaboratory.intrinsic+json": {
              "type": "string"
            }
          },
          "metadata": {},
          "execution_count": 80
        }
      ]
    },
    {
      "cell_type": "code",
      "source": [
        "train_char = [split_char(sentence) for sentence in train_sentences]"
      ],
      "metadata": {
        "id": "nwGVubtEOMlt"
      },
      "execution_count": null,
      "outputs": []
    },
    {
      "cell_type": "code",
      "source": [
        "char_len = [len(sentence) for sentence in train_sentences]\n",
        "mean_char_lens = np.mean(char_len)\n",
        "mean_char_lens"
      ],
      "metadata": {
        "colab": {
          "base_uri": "https://localhost:8080/"
        },
        "id": "snVCUxXHP_3a",
        "outputId": "6a0c5898-8940-4231-cdf5-19d6c5367d17"
      },
      "execution_count": null,
      "outputs": [
        {
          "output_type": "execute_result",
          "data": {
            "text/plain": [
              "74.08697585378535"
            ]
          },
          "metadata": {},
          "execution_count": 82
        }
      ]
    },
    {
      "cell_type": "code",
      "source": [
        "#  Check distribution of char\n",
        "\n",
        "import matplotlib.pyplot as plt\n",
        "plt.hist(char_len, bins = 40)"
      ],
      "metadata": {
        "colab": {
          "base_uri": "https://localhost:8080/",
          "height": 511
        },
        "id": "_yz4HDrXQadd",
        "outputId": "13b62952-9264-4577-a1a0-46dd0ad88950"
      },
      "execution_count": null,
      "outputs": [
        {
          "output_type": "execute_result",
          "data": {
            "text/plain": [
              "(array([1.86540e+04, 6.15180e+04, 9.05650e+04, 1.03559e+05, 1.07025e+05,\n",
              "        1.15028e+05, 9.51020e+04, 8.55650e+04, 7.64450e+04, 6.94770e+04,\n",
              "        6.96780e+04, 5.80320e+04, 5.74000e+04, 6.96270e+04, 7.18960e+04,\n",
              "        5.59100e+03, 5.32000e+02, 1.12000e+02, 3.80000e+01, 3.10000e+01,\n",
              "        2.20000e+01, 1.60000e+01, 1.70000e+01, 1.60000e+01, 1.80000e+01,\n",
              "        1.30000e+01, 2.00000e+00, 1.00000e+00, 3.00000e+00, 2.00000e+00,\n",
              "        1.00000e+00, 4.00000e+00, 0.00000e+00, 3.00000e+00, 1.00000e+00,\n",
              "        1.00000e+00, 0.00000e+00, 1.00000e+00, 2.00000e+00, 1.00000e+00]),\n",
              " array([  6. ,  15.2,  24.4,  33.6,  42.8,  52. ,  61.2,  70.4,  79.6,\n",
              "         88.8,  98. , 107.2, 116.4, 125.6, 134.8, 144. , 153.2, 162.4,\n",
              "        171.6, 180.8, 190. , 199.2, 208.4, 217.6, 226.8, 236. , 245.2,\n",
              "        254.4, 263.6, 272.8, 282. , 291.2, 300.4, 309.6, 318.8, 328. ,\n",
              "        337.2, 346.4, 355.6, 364.8, 374. ]),\n",
              " <a list of 40 Patch objects>)"
            ]
          },
          "metadata": {},
          "execution_count": 83
        },
        {
          "output_type": "display_data",
          "data": {
            "text/plain": [
              "<Figure size 432x288 with 1 Axes>"
            ],
            "image/png": "[encoded data removed]"
          },
          "metadata": {
            "needs_background": "light"
          }
        }
      ]
    },
    {
      "cell_type": "code",
      "source": [
        "output_seq_len = int(np.percentile(char_len, 95))\n",
        "output_seq_len"
      ],
      "metadata": {
        "colab": {
          "base_uri": "https://localhost:8080/"
        },
        "id": "YajFGvXxWG7t",
        "outputId": "3a723537-a354-486e-dab9-3f25921cb4b6"
      },
      "execution_count": null,
      "outputs": [
        {
          "output_type": "execute_result",
          "data": {
            "text/plain": [
              "136"
            ]
          },
          "metadata": {},
          "execution_count": 84
        }
      ]
    },
    {
      "cell_type": "code",
      "source": [
        "import string\n",
        "\n",
        "alphabet = string.ascii_lowercase + string.digits + string.punctuation\n",
        "alphabet"
      ],
      "metadata": {
        "colab": {
          "base_uri": "https://localhost:8080/",
          "height": 35
        },
        "id": "l3l0aNUZY6hK",
        "outputId": "c283b3a4-a9c3-4b7e-a703-c4e341cc89f6"
      },
      "execution_count": null,
      "outputs": [
        {
          "output_type": "execute_result",
          "data": {
            "text/plain": [
              "'abcdefghijklmnopqrstuvwxyz0123456789!\"#$%&\\'()*+,-./:;<=>?@[\\\\]^_`{|}~'"
            ],
            "application/vnd.google.colaboratory.intrinsic+json": {
              "type": "string"
            }
          },
          "metadata": {},
          "execution_count": 85
        }
      ]
    },
    {
      "cell_type": "code",
      "source": [
        "# Create Char lvl token vectorizer instance\n",
        "\n",
        "NUM_CHAR_TOKEN = len(alphabet) + 2\n",
        "char_vectorizer = tf.keras.layers.TextVectorization(max_tokens = NUM_CHAR_TOKEN,\n",
        "                                                    output_sequence_length = output_seq_len,\n",
        "                                                    name = 'char_vectorizer')"
      ],
      "metadata": {
        "id": "qCNAB_haZJah"
      },
      "execution_count": null,
      "outputs": []
    },
    {
      "cell_type": "code",
      "source": [
        "char_vectorizer.adapt(train_char)"
      ],
      "metadata": {
        "id": "GHCAn67KbuDP"
      },
      "execution_count": null,
      "outputs": []
    },
    {
      "cell_type": "code",
      "source": [
        "# Check char vocab stats\n",
        "\n",
        "char_vocab = char_vectorizer.get_vocabulary()\n",
        "print(f'Num of diff char {len(char_vocab)}')\n",
        "print(f'5 most common char {char_vocab[:5]}')\n",
        "print(f'5 least commom char {char_vocab[-5:]}')"
      ],
      "metadata": {
        "colab": {
          "base_uri": "https://localhost:8080/"
        },
        "id": "CLaYwW6Xb3R3",
        "outputId": "cbe06733-8f63-4def-e31f-bb3e4443b6ba"
      },
      "execution_count": null,
      "outputs": [
        {
          "output_type": "stream",
          "name": "stdout",
          "text": [
            "Num of diff char 70\n",
            "5 most common char ['', '[UNK]', 'e', 't', 'o']\n",
            "5 least commom char ['¼', '\\x83', '¡', '±', '\\x84']\n"
          ]
        }
      ]
    },
    {
      "cell_type": "code",
      "source": [
        "random_train_chars = random.choice(train_char)\n",
        "print(f'Charified text: {random_train_chars}\\n')\n",
        "print(f'Len of rnaodm_train_char: {len(random_train_chars.split())}')\n",
        "vectorized_char = char_vectorizer([random_train_chars])\n",
        "print(f'Vectorized chars:\\n {vectorized_char}')\n",
        "print(f'Len of vectorized chars:{len(vectorized_char[0])}')"
      ],
      "metadata": {
        "colab": {
          "base_uri": "https://localhost:8080/"
        },
        "id": "9m1YR1iJedRS",
        "outputId": "285f6905-0dad-4351-b9a2-4b3b48695b48"
      },
      "execution_count": null,
      "outputs": [
        {
          "output_type": "stream",
          "name": "stdout",
          "text": [
            "Charified text: @ w i l w   D u d e !   H e ' s   n o t   m a k i n   w i t h   t h e   p i c s   f a s t   e n o u g h !  \n",
            "\n",
            "Len of rnaodm_train_char: 44\n",
            "Vectorized chars:\n",
            " [[17  6 11 17 12 14 12  2 10  2  8  7  4  3 13  5 22  6  7 17  6  3 10  3\n",
            "  10  2 19  6 18  8 20  5  8  3  2  7  4 14 16 10  0  0  0  0  0  0  0  0\n",
            "   0  0  0  0  0  0  0  0  0  0  0  0  0  0  0  0  0  0  0  0  0  0  0  0\n",
            "   0  0  0  0  0  0  0  0  0  0  0  0  0  0  0  0  0  0  0  0  0  0  0  0\n",
            "   0  0  0  0  0  0  0  0  0  0  0  0  0  0  0  0  0  0  0  0  0  0  0  0\n",
            "   0  0  0  0  0  0  0  0  0  0  0  0  0  0  0  0]]\n",
            "Len of vectorized chars:136\n"
          ]
        }
      ]
    },
    {
      "cell_type": "code",
      "source": [
        "# Create a char lvl embedding\n",
        "\n",
        "char_embed = layers.Embedding(input_dim = len(char_vocab),\n",
        "                              output_dim = 20,\n",
        "                              mask_zero = True,\n",
        "                              name = 'char_embed')"
      ],
      "metadata": {
        "id": "GLj3Kj02eto7"
      },
      "execution_count": null,
      "outputs": []
    },
    {
      "cell_type": "code",
      "source": [
        "print(f'Charified text: {random_train_chars}\\n')\n",
        "embeded_char = char_embed(char_vectorizer([random_train_chars]))\n",
        "print(f'Embeded Char : {embeded_char}\\n')\n",
        "print(f'Embeded Char Shape : {embeded_char.shape}')"
      ],
      "metadata": {
        "colab": {
          "base_uri": "https://localhost:8080/"
        },
        "id": "rm73e4p0833L",
        "outputId": "754b6ead-718b-41b1-c9f5-49ab2e3568d9"
      },
      "execution_count": null,
      "outputs": [
        {
          "output_type": "stream",
          "name": "stdout",
          "text": [
            "Charified text: @ w i l w   D u d e !   H e ' s   n o t   m a k i n   w i t h   t h e   p i c s   f a s t   e n o u g h !  \n",
            "\n",
            "Embeded Char : [[[-0.03739623 -0.03048164  0.00390618 ... -0.03021611 -0.0382316\n",
            "    0.02939797]\n",
            "  [-0.02488065 -0.02940455  0.01220487 ...  0.01290289  0.04521009\n",
            "   -0.04786528]\n",
            "  [-0.0087915   0.02516934  0.03895325 ...  0.00922092  0.03216458\n",
            "    0.04843843]\n",
            "  ...\n",
            "  [ 0.00800379 -0.00518304 -0.04104519 ... -0.03062329  0.03941322\n",
            "    0.02021671]\n",
            "  [ 0.00800379 -0.00518304 -0.04104519 ... -0.03062329  0.03941322\n",
            "    0.02021671]\n",
            "  [ 0.00800379 -0.00518304 -0.04104519 ... -0.03062329  0.03941322\n",
            "    0.02021671]]]\n",
            "\n",
            "Embeded Char Shape : (1, 136, 20)\n"
          ]
        }
      ]
    },
    {
      "cell_type": "code",
      "source": [
        "# Create the model_3\n",
        "\n",
        "inputs = layers.Input(shape = (1,), dtype = tf.string)\n",
        "char_vectors = char_vectorizer(inputs)\n",
        "char_embeds = char_embed(char_vectors)\n",
        "x = layers.Conv1D(64, kernel_size = 3, padidng = 'same', activation = 'relu')(char_embeds)\n",
        "x = layers.GlobalMaxPooling1D()(x)\n",
        "outputs = layers.Dense(1, activation = 'sigmoid')(x)\n",
        "\n"
      ],
      "metadata": {
        "id": "oPEc1Yr-9WjE"
      },
      "execution_count": null,
      "outputs": []
    }
  ]
}