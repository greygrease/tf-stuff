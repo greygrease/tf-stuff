{
  "nbformat": 4,
  "nbformat_minor": 0,
  "metadata": {
    "colab": {
      "provenance": [],
      "include_colab_link": true
    },
    "kernelspec": {
      "name": "python3",
      "display_name": "Python 3"
    },
    "language_info": {
      "name": "python"
    },
    "accelerator": "GPU"
  },
  "cells": [
    {
      "cell_type": "markdown",
      "metadata": {
        "id": "view-in-github",
        "colab_type": "text"
      },
      "source": [
        "<a href=\"https://colab.research.google.com/github/greygrease/tf-stuff/blob/main/Tweet_Analysis_MultiModel_NN_tf.ipynb\" target=\"_parent\"><img src=\"https://colab.research.google.com/assets/colab-badge.svg\" alt=\"Open In Colab\"/></a>"
      ]
    },
    {
      "cell_type": "markdown",
      "source": [
        "## Import Helper Functions"
      ],
      "metadata": {
        "id": "TYS3gHyYWp-X"
      }
    },
    {
      "cell_type": "code",
      "source": [
        "!wget https://raw.githubusercontent.com/mrdbourke/tensorflow-deep-learning/main/extras/helper_functions.py"
      ],
      "metadata": {
        "colab": {
          "base_uri": "https://localhost:8080/"
        },
        "id": "Sjf98xAtWyCa",
        "outputId": "eff2adc1-20a9-4fc8-e5f8-1fdd7ed87358"
      },
      "execution_count": 2,
      "outputs": [
        {
          "output_type": "stream",
          "name": "stdout",
          "text": [
            "--2022-10-02 18:11:50--  https://raw.githubusercontent.com/mrdbourke/tensorflow-deep-learning/main/extras/helper_functions.py\n",
            "Resolving raw.githubusercontent.com (raw.githubusercontent.com)... 185.199.109.133, 185.199.108.133, 185.199.110.133, ...\n",
            "Connecting to raw.githubusercontent.com (raw.githubusercontent.com)|185.199.109.133|:443... connected.\n",
            "HTTP request sent, awaiting response... 200 OK\n",
            "Length: 10246 (10K) [text/plain]\n",
            "Saving to: ‘helper_functions.py’\n",
            "\n",
            "helper_functions.py 100%[===================>]  10.01K  --.-KB/s    in 0s      \n",
            "\n",
            "2022-10-02 18:11:51 (112 MB/s) - ‘helper_functions.py’ saved [10246/10246]\n",
            "\n"
          ]
        }
      ]
    },
    {
      "cell_type": "code",
      "source": [
        "from helper_functions import unzip_data, create_tensorboard_callback,compare_historys, plot_loss_curves, calculate_results"
      ],
      "metadata": {
        "id": "Xvs9eekZW2Yo"
      },
      "execution_count": 3,
      "outputs": []
    },
    {
      "cell_type": "markdown",
      "source": [
        "## Download and Import Dataset"
      ],
      "metadata": {
        "id": "-31xr4fNVf22"
      }
    },
    {
      "cell_type": "code",
      "source": [
        "from google.colab import drive\n",
        "drive.mount('/content/gdrive')"
      ],
      "metadata": {
        "colab": {
          "base_uri": "https://localhost:8080/"
        },
        "id": "3TzVk8_IVdbD",
        "outputId": "b0cc880d-9b5b-4ed2-a999-8861b6f50e6a"
      },
      "execution_count": 4,
      "outputs": [
        {
          "output_type": "stream",
          "name": "stdout",
          "text": [
            "Mounted at /content/gdrive\n"
          ]
        }
      ]
    },
    {
      "cell_type": "code",
      "source": [
        "import os\n",
        "os.environ['KAGGLE_CONFIG_DIR'] = '/content/gdrive/My Drive/kaggle_dataset'"
      ],
      "metadata": {
        "id": "uAdMzjkYV9tB"
      },
      "execution_count": 5,
      "outputs": []
    },
    {
      "cell_type": "code",
      "source": [
        "%cd /content/gdrive/My Drive/kaggle_dataset"
      ],
      "metadata": {
        "id": "xjOQCfpBV_eb",
        "colab": {
          "base_uri": "https://localhost:8080/"
        },
        "outputId": "8edc8e7d-1a0a-4bdf-893a-f2e87588ad95"
      },
      "execution_count": 6,
      "outputs": [
        {
          "output_type": "stream",
          "name": "stdout",
          "text": [
            "/content/gdrive/My Drive/kaggle_dataset\n"
          ]
        }
      ]
    },
    {
      "cell_type": "code",
      "source": [
        "!kaggle datasets download -d kazanova/sentiment140"
      ],
      "metadata": {
        "id": "bsVrci3fWMqW",
        "colab": {
          "base_uri": "https://localhost:8080/"
        },
        "outputId": "39999dfc-8b39-468c-f46a-aba0de0057f6"
      },
      "execution_count": 7,
      "outputs": [
        {
          "output_type": "stream",
          "name": "stdout",
          "text": [
            "401 - Unauthorized\n"
          ]
        }
      ]
    },
    {
      "cell_type": "code",
      "source": [
        "!mkdir sentiment140_unpacked\n",
        "!mv sentiment140.zip sentiment140_unpacked"
      ],
      "metadata": {
        "id": "FUMw1r8TXCqu",
        "colab": {
          "base_uri": "https://localhost:8080/"
        },
        "outputId": "38ecc1d9-6f7c-43e1-833e-2c15fd229dfa"
      },
      "execution_count": 8,
      "outputs": [
        {
          "output_type": "stream",
          "name": "stdout",
          "text": [
            "mkdir: cannot create directory ‘sentiment140_unpacked’: File exists\n",
            "mv: cannot stat 'sentiment140.zip': No such file or directory\n"
          ]
        }
      ]
    },
    {
      "cell_type": "code",
      "source": [
        "%cd sentiment140_unpacked/"
      ],
      "metadata": {
        "id": "6XtDX977XPnc",
        "colab": {
          "base_uri": "https://localhost:8080/"
        },
        "outputId": "ca48e416-289c-4e75-a32b-4f25dc14023c"
      },
      "execution_count": 9,
      "outputs": [
        {
          "output_type": "stream",
          "name": "stdout",
          "text": [
            "/content/gdrive/MyDrive/kaggle_dataset/sentiment140_unpacked\n"
          ]
        }
      ]
    },
    {
      "cell_type": "code",
      "source": [
        "# !unzip sentiment140.zip"
      ],
      "metadata": {
        "id": "AZFxGb4-XhoE"
      },
      "execution_count": 10,
      "outputs": []
    },
    {
      "cell_type": "markdown",
      "source": [
        "## Create a pandas dataframe and preprocess the data\n",
        "\n"
      ],
      "metadata": {
        "id": "z8OHrJVEYLFg"
      }
    },
    {
      "cell_type": "code",
      "source": [
        "import pandas as pd\n",
        "\n",
        "sentiment_df = pd.read_csv('/content/gdrive/MyDrive/kaggle_dataset/sentiment140_unpacked/training.1600000.processed.noemoticon.csv', encoding='latin-1')"
      ],
      "metadata": {
        "id": "ikaWMdysX54C"
      },
      "execution_count": 11,
      "outputs": []
    },
    {
      "cell_type": "code",
      "source": [
        "sentiment_df = sentiment_df.drop(['Mon Apr 06 22:19:45 PDT 2009', 'NO_QUERY', '_TheSpecialOne_', '1467810369'], axis = 1)"
      ],
      "metadata": {
        "id": "mkyAXDt_aZKS"
      },
      "execution_count": 12,
      "outputs": []
    },
    {
      "cell_type": "code",
      "source": [
        "sentiment_df.columns\n"
      ],
      "metadata": {
        "id": "X71kv2V5a-z5",
        "colab": {
          "base_uri": "https://localhost:8080/"
        },
        "outputId": "ed008bd7-6c4f-4b3c-b440-d6330790594a"
      },
      "execution_count": 13,
      "outputs": [
        {
          "output_type": "execute_result",
          "data": {
            "text/plain": [
              "Index(['0', '@switchfoot http://twitpic.com/2y1zl - Awww, that's a bummer.  You shoulda got David Carr of Third Day to do it. ;D'], dtype='object')"
            ]
          },
          "metadata": {},
          "execution_count": 13
        }
      ]
    },
    {
      "cell_type": "code",
      "source": [
        "sentiment_df.rename(columns = {'0' : 'Label',\n",
        "                               \"@switchfoot http://twitpic.com/2y1zl - Awww, that's a bummer.  You shoulda got David Carr of Third Day to do it. ;D\" : 'Text'}, inplace = True)"
      ],
      "metadata": {
        "id": "gpMUMb9VcUho"
      },
      "execution_count": 14,
      "outputs": []
    },
    {
      "cell_type": "code",
      "source": [
        "sentiment_df.head()"
      ],
      "metadata": {
        "id": "TEVDVNnhc72Q",
        "colab": {
          "base_uri": "https://localhost:8080/",
          "height": 206
        },
        "outputId": "15b87b43-137d-4a7f-eca7-9a70ac66864d"
      },
      "execution_count": 15,
      "outputs": [
        {
          "output_type": "execute_result",
          "data": {
            "text/plain": [
              "   Label                                               Text\n",
              "0      0  is upset that he can't update his Facebook by ...\n",
              "1      0  @Kenichan I dived many times for the ball. Man...\n",
              "2      0    my whole body feels itchy and like its on fire \n",
              "3      0  @nationwideclass no, it's not behaving at all....\n",
              "4      0                      @Kwesidei not the whole crew "
            ],
            "text/html": [
              "\n",
              "  <div id=\"df-53a3985c-b4a6-4956-8565-2b95bfe29065\">\n",
              "    <div class=\"colab-df-container\">\n",
              "      <div>\n",
              "<style scoped>\n",
              "    .dataframe tbody tr th:only-of-type {\n",
              "        vertical-align: middle;\n",
              "    }\n",
              "\n",
              "    .dataframe tbody tr th {\n",
              "        vertical-align: top;\n",
              "    }\n",
              "\n",
              "    .dataframe thead th {\n",
              "        text-align: right;\n",
              "    }\n",
              "</style>\n",
              "<table border=\"1\" class=\"dataframe\">\n",
              "  <thead>\n",
              "    <tr style=\"text-align: right;\">\n",
              "      <th></th>\n",
              "      <th>Label</th>\n",
              "      <th>Text</th>\n",
              "    </tr>\n",
              "  </thead>\n",
              "  <tbody>\n",
              "    <tr>\n",
              "      <th>0</th>\n",
              "      <td>0</td>\n",
              "      <td>is upset that he can't update his Facebook by ...</td>\n",
              "    </tr>\n",
              "    <tr>\n",
              "      <th>1</th>\n",
              "      <td>0</td>\n",
              "      <td>@Kenichan I dived many times for the ball. Man...</td>\n",
              "    </tr>\n",
              "    <tr>\n",
              "      <th>2</th>\n",
              "      <td>0</td>\n",
              "      <td>my whole body feels itchy and like its on fire</td>\n",
              "    </tr>\n",
              "    <tr>\n",
              "      <th>3</th>\n",
              "      <td>0</td>\n",
              "      <td>@nationwideclass no, it's not behaving at all....</td>\n",
              "    </tr>\n",
              "    <tr>\n",
              "      <th>4</th>\n",
              "      <td>0</td>\n",
              "      <td>@Kwesidei not the whole crew</td>\n",
              "    </tr>\n",
              "  </tbody>\n",
              "</table>\n",
              "</div>\n",
              "      <button class=\"colab-df-convert\" onclick=\"convertToInteractive('df-53a3985c-b4a6-4956-8565-2b95bfe29065')\"\n",
              "              title=\"Convert this dataframe to an interactive table.\"\n",
              "              style=\"display:none;\">\n",
              "        \n",
              "  <svg xmlns=\"http://www.w3.org/2000/svg\" height=\"24px\"viewBox=\"0 0 24 24\"\n",
              "       width=\"24px\">\n",
              "    <path d=\"M0 0h24v24H0V0z\" fill=\"none\"/>\n",
              "    <path d=\"M18.56 5.44l.94 2.06.94-2.06 2.06-.94-2.06-.94-.94-2.06-.94 2.06-2.06.94zm-11 1L8.5 8.5l.94-2.06 2.06-.94-2.06-.94L8.5 2.5l-.94 2.06-2.06.94zm10 10l.94 2.06.94-2.06 2.06-.94-2.06-.94-.94-2.06-.94 2.06-2.06.94z\"/><path d=\"M17.41 7.96l-1.37-1.37c-.4-.4-.92-.59-1.43-.59-.52 0-1.04.2-1.43.59L10.3 9.45l-7.72 7.72c-.78.78-.78 2.05 0 2.83L4 21.41c.39.39.9.59 1.41.59.51 0 1.02-.2 1.41-.59l7.78-7.78 2.81-2.81c.8-.78.8-2.07 0-2.86zM5.41 20L4 18.59l7.72-7.72 1.47 1.35L5.41 20z\"/>\n",
              "  </svg>\n",
              "      </button>\n",
              "      \n",
              "  <style>\n",
              "    .colab-df-container {\n",
              "      display:flex;\n",
              "      flex-wrap:wrap;\n",
              "      gap: 12px;\n",
              "    }\n",
              "\n",
              "    .colab-df-convert {\n",
              "      background-color: #E8F0FE;\n",
              "      border: none;\n",
              "      border-radius: 50%;\n",
              "      cursor: pointer;\n",
              "      display: none;\n",
              "      fill: #1967D2;\n",
              "      height: 32px;\n",
              "      padding: 0 0 0 0;\n",
              "      width: 32px;\n",
              "    }\n",
              "\n",
              "    .colab-df-convert:hover {\n",
              "      background-color: #E2EBFA;\n",
              "      box-shadow: 0px 1px 2px rgba(60, 64, 67, 0.3), 0px 1px 3px 1px rgba(60, 64, 67, 0.15);\n",
              "      fill: #174EA6;\n",
              "    }\n",
              "\n",
              "    [theme=dark] .colab-df-convert {\n",
              "      background-color: #3B4455;\n",
              "      fill: #D2E3FC;\n",
              "    }\n",
              "\n",
              "    [theme=dark] .colab-df-convert:hover {\n",
              "      background-color: #434B5C;\n",
              "      box-shadow: 0px 1px 3px 1px rgba(0, 0, 0, 0.15);\n",
              "      filter: drop-shadow(0px 1px 2px rgba(0, 0, 0, 0.3));\n",
              "      fill: #FFFFFF;\n",
              "    }\n",
              "  </style>\n",
              "\n",
              "      <script>\n",
              "        const buttonEl =\n",
              "          document.querySelector('#df-53a3985c-b4a6-4956-8565-2b95bfe29065 button.colab-df-convert');\n",
              "        buttonEl.style.display =\n",
              "          google.colab.kernel.accessAllowed ? 'block' : 'none';\n",
              "\n",
              "        async function convertToInteractive(key) {\n",
              "          const element = document.querySelector('#df-53a3985c-b4a6-4956-8565-2b95bfe29065');\n",
              "          const dataTable =\n",
              "            await google.colab.kernel.invokeFunction('convertToInteractive',\n",
              "                                                     [key], {});\n",
              "          if (!dataTable) return;\n",
              "\n",
              "          const docLinkHtml = 'Like what you see? Visit the ' +\n",
              "            '<a target=\"_blank\" href=https://colab.research.google.com/notebooks/data_table.ipynb>data table notebook</a>'\n",
              "            + ' to learn more about interactive tables.';\n",
              "          element.innerHTML = '';\n",
              "          dataTable['output_type'] = 'display_data';\n",
              "          await google.colab.output.renderOutput(dataTable, element);\n",
              "          const docLink = document.createElement('div');\n",
              "          docLink.innerHTML = docLinkHtml;\n",
              "          element.appendChild(docLink);\n",
              "        }\n",
              "      </script>\n",
              "    </div>\n",
              "  </div>\n",
              "  "
            ]
          },
          "metadata": {},
          "execution_count": 15
        }
      ]
    },
    {
      "cell_type": "code",
      "source": [
        "first_col = sentiment_df.pop('Text')"
      ],
      "metadata": {
        "id": "bgMPfmYcdLFW"
      },
      "execution_count": 16,
      "outputs": []
    },
    {
      "cell_type": "code",
      "source": [
        "sentiment_df.insert(0, 'Text', first_col)"
      ],
      "metadata": {
        "id": "tyruGx4bdq5X"
      },
      "execution_count": 17,
      "outputs": []
    },
    {
      "cell_type": "code",
      "source": [
        "sentiment_df.head()"
      ],
      "metadata": {
        "id": "aEYM00tYd1Ro",
        "colab": {
          "base_uri": "https://localhost:8080/",
          "height": 206
        },
        "outputId": "6cdbaea4-180f-48df-c072-1424c3627685"
      },
      "execution_count": 18,
      "outputs": [
        {
          "output_type": "execute_result",
          "data": {
            "text/plain": [
              "                                                Text  Label\n",
              "0  is upset that he can't update his Facebook by ...      0\n",
              "1  @Kenichan I dived many times for the ball. Man...      0\n",
              "2    my whole body feels itchy and like its on fire       0\n",
              "3  @nationwideclass no, it's not behaving at all....      0\n",
              "4                      @Kwesidei not the whole crew       0"
            ],
            "text/html": [
              "\n",
              "  <div id=\"df-fa7f9faa-6b1b-4353-8dd8-c2c1c6e49010\">\n",
              "    <div class=\"colab-df-container\">\n",
              "      <div>\n",
              "<style scoped>\n",
              "    .dataframe tbody tr th:only-of-type {\n",
              "        vertical-align: middle;\n",
              "    }\n",
              "\n",
              "    .dataframe tbody tr th {\n",
              "        vertical-align: top;\n",
              "    }\n",
              "\n",
              "    .dataframe thead th {\n",
              "        text-align: right;\n",
              "    }\n",
              "</style>\n",
              "<table border=\"1\" class=\"dataframe\">\n",
              "  <thead>\n",
              "    <tr style=\"text-align: right;\">\n",
              "      <th></th>\n",
              "      <th>Text</th>\n",
              "      <th>Label</th>\n",
              "    </tr>\n",
              "  </thead>\n",
              "  <tbody>\n",
              "    <tr>\n",
              "      <th>0</th>\n",
              "      <td>is upset that he can't update his Facebook by ...</td>\n",
              "      <td>0</td>\n",
              "    </tr>\n",
              "    <tr>\n",
              "      <th>1</th>\n",
              "      <td>@Kenichan I dived many times for the ball. Man...</td>\n",
              "      <td>0</td>\n",
              "    </tr>\n",
              "    <tr>\n",
              "      <th>2</th>\n",
              "      <td>my whole body feels itchy and like its on fire</td>\n",
              "      <td>0</td>\n",
              "    </tr>\n",
              "    <tr>\n",
              "      <th>3</th>\n",
              "      <td>@nationwideclass no, it's not behaving at all....</td>\n",
              "      <td>0</td>\n",
              "    </tr>\n",
              "    <tr>\n",
              "      <th>4</th>\n",
              "      <td>@Kwesidei not the whole crew</td>\n",
              "      <td>0</td>\n",
              "    </tr>\n",
              "  </tbody>\n",
              "</table>\n",
              "</div>\n",
              "      <button class=\"colab-df-convert\" onclick=\"convertToInteractive('df-fa7f9faa-6b1b-4353-8dd8-c2c1c6e49010')\"\n",
              "              title=\"Convert this dataframe to an interactive table.\"\n",
              "              style=\"display:none;\">\n",
              "        \n",
              "  <svg xmlns=\"http://www.w3.org/2000/svg\" height=\"24px\"viewBox=\"0 0 24 24\"\n",
              "       width=\"24px\">\n",
              "    <path d=\"M0 0h24v24H0V0z\" fill=\"none\"/>\n",
              "    <path d=\"M18.56 5.44l.94 2.06.94-2.06 2.06-.94-2.06-.94-.94-2.06-.94 2.06-2.06.94zm-11 1L8.5 8.5l.94-2.06 2.06-.94-2.06-.94L8.5 2.5l-.94 2.06-2.06.94zm10 10l.94 2.06.94-2.06 2.06-.94-2.06-.94-.94-2.06-.94 2.06-2.06.94z\"/><path d=\"M17.41 7.96l-1.37-1.37c-.4-.4-.92-.59-1.43-.59-.52 0-1.04.2-1.43.59L10.3 9.45l-7.72 7.72c-.78.78-.78 2.05 0 2.83L4 21.41c.39.39.9.59 1.41.59.51 0 1.02-.2 1.41-.59l7.78-7.78 2.81-2.81c.8-.78.8-2.07 0-2.86zM5.41 20L4 18.59l7.72-7.72 1.47 1.35L5.41 20z\"/>\n",
              "  </svg>\n",
              "      </button>\n",
              "      \n",
              "  <style>\n",
              "    .colab-df-container {\n",
              "      display:flex;\n",
              "      flex-wrap:wrap;\n",
              "      gap: 12px;\n",
              "    }\n",
              "\n",
              "    .colab-df-convert {\n",
              "      background-color: #E8F0FE;\n",
              "      border: none;\n",
              "      border-radius: 50%;\n",
              "      cursor: pointer;\n",
              "      display: none;\n",
              "      fill: #1967D2;\n",
              "      height: 32px;\n",
              "      padding: 0 0 0 0;\n",
              "      width: 32px;\n",
              "    }\n",
              "\n",
              "    .colab-df-convert:hover {\n",
              "      background-color: #E2EBFA;\n",
              "      box-shadow: 0px 1px 2px rgba(60, 64, 67, 0.3), 0px 1px 3px 1px rgba(60, 64, 67, 0.15);\n",
              "      fill: #174EA6;\n",
              "    }\n",
              "\n",
              "    [theme=dark] .colab-df-convert {\n",
              "      background-color: #3B4455;\n",
              "      fill: #D2E3FC;\n",
              "    }\n",
              "\n",
              "    [theme=dark] .colab-df-convert:hover {\n",
              "      background-color: #434B5C;\n",
              "      box-shadow: 0px 1px 3px 1px rgba(0, 0, 0, 0.15);\n",
              "      filter: drop-shadow(0px 1px 2px rgba(0, 0, 0, 0.3));\n",
              "      fill: #FFFFFF;\n",
              "    }\n",
              "  </style>\n",
              "\n",
              "      <script>\n",
              "        const buttonEl =\n",
              "          document.querySelector('#df-fa7f9faa-6b1b-4353-8dd8-c2c1c6e49010 button.colab-df-convert');\n",
              "        buttonEl.style.display =\n",
              "          google.colab.kernel.accessAllowed ? 'block' : 'none';\n",
              "\n",
              "        async function convertToInteractive(key) {\n",
              "          const element = document.querySelector('#df-fa7f9faa-6b1b-4353-8dd8-c2c1c6e49010');\n",
              "          const dataTable =\n",
              "            await google.colab.kernel.invokeFunction('convertToInteractive',\n",
              "                                                     [key], {});\n",
              "          if (!dataTable) return;\n",
              "\n",
              "          const docLinkHtml = 'Like what you see? Visit the ' +\n",
              "            '<a target=\"_blank\" href=https://colab.research.google.com/notebooks/data_table.ipynb>data table notebook</a>'\n",
              "            + ' to learn more about interactive tables.';\n",
              "          element.innerHTML = '';\n",
              "          dataTable['output_type'] = 'display_data';\n",
              "          await google.colab.output.renderOutput(dataTable, element);\n",
              "          const docLink = document.createElement('div');\n",
              "          docLink.innerHTML = docLinkHtml;\n",
              "          element.appendChild(docLink);\n",
              "        }\n",
              "      </script>\n",
              "    </div>\n",
              "  </div>\n",
              "  "
            ]
          },
          "metadata": {},
          "execution_count": 18
        }
      ]
    },
    {
      "cell_type": "code",
      "source": [
        "sentiment_df = sentiment_df.sample(frac = 1, random_state = 42)"
      ],
      "metadata": {
        "id": "fzsOmKNzt-9E"
      },
      "execution_count": 19,
      "outputs": []
    },
    {
      "cell_type": "code",
      "source": [
        "sentiment_df"
      ],
      "metadata": {
        "id": "G9SYNyNavTWx",
        "colab": {
          "base_uri": "https://localhost:8080/",
          "height": 424
        },
        "outputId": "59bad2f2-7531-40aa-d3ce-17dfaf3c1f76"
      },
      "execution_count": 20,
      "outputs": [
        {
          "output_type": "execute_result",
          "data": {
            "text/plain": [
              "                                                      Text  Label\n",
              "541200   @Nkluvr4eva My poor little dumpling  In Holmde...      0\n",
              "750      I'm off too bed. I gotta wake up hella early t...      0\n",
              "766711   I havent been able to listen to it yet  My spe...      0\n",
              "285055   now remembers why solving a relatively big equ...      0\n",
              "705995                            Ate too much, feel sick       0\n",
              "...                                                    ...    ...\n",
              "259178                       I didn't. The link was wrong       0\n",
              "1414414  @tommcfly yes!! mcfly twitter profile is an ex...      4\n",
              "131932   @SarahFTW I know  sometimes i just pretend i h...      0\n",
              "671155         Cant believe you came and asked me that...       0\n",
              "121958                                   back from bali         0\n",
              "\n",
              "[1599999 rows x 2 columns]"
            ],
            "text/html": [
              "\n",
              "  <div id=\"df-78adf44e-efaf-4284-8a06-b19096c842a6\">\n",
              "    <div class=\"colab-df-container\">\n",
              "      <div>\n",
              "<style scoped>\n",
              "    .dataframe tbody tr th:only-of-type {\n",
              "        vertical-align: middle;\n",
              "    }\n",
              "\n",
              "    .dataframe tbody tr th {\n",
              "        vertical-align: top;\n",
              "    }\n",
              "\n",
              "    .dataframe thead th {\n",
              "        text-align: right;\n",
              "    }\n",
              "</style>\n",
              "<table border=\"1\" class=\"dataframe\">\n",
              "  <thead>\n",
              "    <tr style=\"text-align: right;\">\n",
              "      <th></th>\n",
              "      <th>Text</th>\n",
              "      <th>Label</th>\n",
              "    </tr>\n",
              "  </thead>\n",
              "  <tbody>\n",
              "    <tr>\n",
              "      <th>541200</th>\n",
              "      <td>@Nkluvr4eva My poor little dumpling  In Holmde...</td>\n",
              "      <td>0</td>\n",
              "    </tr>\n",
              "    <tr>\n",
              "      <th>750</th>\n",
              "      <td>I'm off too bed. I gotta wake up hella early t...</td>\n",
              "      <td>0</td>\n",
              "    </tr>\n",
              "    <tr>\n",
              "      <th>766711</th>\n",
              "      <td>I havent been able to listen to it yet  My spe...</td>\n",
              "      <td>0</td>\n",
              "    </tr>\n",
              "    <tr>\n",
              "      <th>285055</th>\n",
              "      <td>now remembers why solving a relatively big equ...</td>\n",
              "      <td>0</td>\n",
              "    </tr>\n",
              "    <tr>\n",
              "      <th>705995</th>\n",
              "      <td>Ate too much, feel sick</td>\n",
              "      <td>0</td>\n",
              "    </tr>\n",
              "    <tr>\n",
              "      <th>...</th>\n",
              "      <td>...</td>\n",
              "      <td>...</td>\n",
              "    </tr>\n",
              "    <tr>\n",
              "      <th>259178</th>\n",
              "      <td>I didn't. The link was wrong</td>\n",
              "      <td>0</td>\n",
              "    </tr>\n",
              "    <tr>\n",
              "      <th>1414414</th>\n",
              "      <td>@tommcfly yes!! mcfly twitter profile is an ex...</td>\n",
              "      <td>4</td>\n",
              "    </tr>\n",
              "    <tr>\n",
              "      <th>131932</th>\n",
              "      <td>@SarahFTW I know  sometimes i just pretend i h...</td>\n",
              "      <td>0</td>\n",
              "    </tr>\n",
              "    <tr>\n",
              "      <th>671155</th>\n",
              "      <td>Cant believe you came and asked me that...</td>\n",
              "      <td>0</td>\n",
              "    </tr>\n",
              "    <tr>\n",
              "      <th>121958</th>\n",
              "      <td>back from bali</td>\n",
              "      <td>0</td>\n",
              "    </tr>\n",
              "  </tbody>\n",
              "</table>\n",
              "<p>1599999 rows × 2 columns</p>\n",
              "</div>\n",
              "      <button class=\"colab-df-convert\" onclick=\"convertToInteractive('df-78adf44e-efaf-4284-8a06-b19096c842a6')\"\n",
              "              title=\"Convert this dataframe to an interactive table.\"\n",
              "              style=\"display:none;\">\n",
              "        \n",
              "  <svg xmlns=\"http://www.w3.org/2000/svg\" height=\"24px\"viewBox=\"0 0 24 24\"\n",
              "       width=\"24px\">\n",
              "    <path d=\"M0 0h24v24H0V0z\" fill=\"none\"/>\n",
              "    <path d=\"M18.56 5.44l.94 2.06.94-2.06 2.06-.94-2.06-.94-.94-2.06-.94 2.06-2.06.94zm-11 1L8.5 8.5l.94-2.06 2.06-.94-2.06-.94L8.5 2.5l-.94 2.06-2.06.94zm10 10l.94 2.06.94-2.06 2.06-.94-2.06-.94-.94-2.06-.94 2.06-2.06.94z\"/><path d=\"M17.41 7.96l-1.37-1.37c-.4-.4-.92-.59-1.43-.59-.52 0-1.04.2-1.43.59L10.3 9.45l-7.72 7.72c-.78.78-.78 2.05 0 2.83L4 21.41c.39.39.9.59 1.41.59.51 0 1.02-.2 1.41-.59l7.78-7.78 2.81-2.81c.8-.78.8-2.07 0-2.86zM5.41 20L4 18.59l7.72-7.72 1.47 1.35L5.41 20z\"/>\n",
              "  </svg>\n",
              "      </button>\n",
              "      \n",
              "  <style>\n",
              "    .colab-df-container {\n",
              "      display:flex;\n",
              "      flex-wrap:wrap;\n",
              "      gap: 12px;\n",
              "    }\n",
              "\n",
              "    .colab-df-convert {\n",
              "      background-color: #E8F0FE;\n",
              "      border: none;\n",
              "      border-radius: 50%;\n",
              "      cursor: pointer;\n",
              "      display: none;\n",
              "      fill: #1967D2;\n",
              "      height: 32px;\n",
              "      padding: 0 0 0 0;\n",
              "      width: 32px;\n",
              "    }\n",
              "\n",
              "    .colab-df-convert:hover {\n",
              "      background-color: #E2EBFA;\n",
              "      box-shadow: 0px 1px 2px rgba(60, 64, 67, 0.3), 0px 1px 3px 1px rgba(60, 64, 67, 0.15);\n",
              "      fill: #174EA6;\n",
              "    }\n",
              "\n",
              "    [theme=dark] .colab-df-convert {\n",
              "      background-color: #3B4455;\n",
              "      fill: #D2E3FC;\n",
              "    }\n",
              "\n",
              "    [theme=dark] .colab-df-convert:hover {\n",
              "      background-color: #434B5C;\n",
              "      box-shadow: 0px 1px 3px 1px rgba(0, 0, 0, 0.15);\n",
              "      filter: drop-shadow(0px 1px 2px rgba(0, 0, 0, 0.3));\n",
              "      fill: #FFFFFF;\n",
              "    }\n",
              "  </style>\n",
              "\n",
              "      <script>\n",
              "        const buttonEl =\n",
              "          document.querySelector('#df-78adf44e-efaf-4284-8a06-b19096c842a6 button.colab-df-convert');\n",
              "        buttonEl.style.display =\n",
              "          google.colab.kernel.accessAllowed ? 'block' : 'none';\n",
              "\n",
              "        async function convertToInteractive(key) {\n",
              "          const element = document.querySelector('#df-78adf44e-efaf-4284-8a06-b19096c842a6');\n",
              "          const dataTable =\n",
              "            await google.colab.kernel.invokeFunction('convertToInteractive',\n",
              "                                                     [key], {});\n",
              "          if (!dataTable) return;\n",
              "\n",
              "          const docLinkHtml = 'Like what you see? Visit the ' +\n",
              "            '<a target=\"_blank\" href=https://colab.research.google.com/notebooks/data_table.ipynb>data table notebook</a>'\n",
              "            + ' to learn more about interactive tables.';\n",
              "          element.innerHTML = '';\n",
              "          dataTable['output_type'] = 'display_data';\n",
              "          await google.colab.output.renderOutput(dataTable, element);\n",
              "          const docLink = document.createElement('div');\n",
              "          docLink.innerHTML = docLinkHtml;\n",
              "          element.appendChild(docLink);\n",
              "        }\n",
              "      </script>\n",
              "    </div>\n",
              "  </div>\n",
              "  "
            ]
          },
          "metadata": {},
          "execution_count": 20
        }
      ]
    },
    {
      "cell_type": "markdown",
      "source": [
        "### Split data into `Train`, `Test` and `Validation`"
      ],
      "metadata": {
        "id": "3FprOejTfmVq"
      }
    },
    {
      "cell_type": "markdown",
      "source": [
        "### Split DataFrame to `trainval` and `test`"
      ],
      "metadata": {
        "id": "WGn2JEiIgV7D"
      }
    },
    {
      "cell_type": "code",
      "source": [
        "from sklearn.model_selection import train_test_split\n",
        "\n",
        "trainval_sentences, test_sentences, trainval_labels, test_labels = train_test_split(sentiment_df['Text'].to_numpy(),\n",
        "                                                                                    sentiment_df['Label'].to_numpy(),\n",
        "                                                                                    test_size = 0.15,\n",
        "                                                                                    random_state = 42)"
      ],
      "metadata": {
        "id": "FDtwp5Jwd3e3"
      },
      "execution_count": 21,
      "outputs": []
    },
    {
      "cell_type": "markdown",
      "source": [
        "### Split `trainval` to `train` and `validation`"
      ],
      "metadata": {
        "id": "87rvz1B1gi9B"
      }
    },
    {
      "cell_type": "code",
      "source": [
        "train_sentences, val_sentences, train_labels, val_labels = train_test_split(trainval_sentences,\n",
        "                                                                            trainval_labels,\n",
        "                                                                            test_size = 0.15,\n",
        "                                                                            random_state = 42)"
      ],
      "metadata": {
        "id": "tMVOmCGSfLUf"
      },
      "execution_count": 22,
      "outputs": []
    },
    {
      "cell_type": "code",
      "source": [
        "len(train_sentences), len(train_labels)"
      ],
      "metadata": {
        "id": "hrETiey7hVrt",
        "colab": {
          "base_uri": "https://localhost:8080/"
        },
        "outputId": "e2785e10-f134-4277-9ac2-55eddaed8301"
      },
      "execution_count": 23,
      "outputs": [
        {
          "output_type": "execute_result",
          "data": {
            "text/plain": [
              "(1155999, 1155999)"
            ]
          },
          "metadata": {},
          "execution_count": 23
        }
      ]
    },
    {
      "cell_type": "code",
      "source": [
        "len(test_sentences), len(test_labels)"
      ],
      "metadata": {
        "id": "9DeoeCGRhe5U",
        "colab": {
          "base_uri": "https://localhost:8080/"
        },
        "outputId": "856aa2ee-bed5-4479-c048-4472bb5e942c"
      },
      "execution_count": 24,
      "outputs": [
        {
          "output_type": "execute_result",
          "data": {
            "text/plain": [
              "(240000, 240000)"
            ]
          },
          "metadata": {},
          "execution_count": 24
        }
      ]
    },
    {
      "cell_type": "code",
      "source": [
        "len(val_sentences), len(val_labels)"
      ],
      "metadata": {
        "id": "IlaJFw1LhiHQ",
        "colab": {
          "base_uri": "https://localhost:8080/"
        },
        "outputId": "195c4020-4d2f-48a1-b039-1b0dc4a8b0f5"
      },
      "execution_count": 25,
      "outputs": [
        {
          "output_type": "execute_result",
          "data": {
            "text/plain": [
              "(204000, 204000)"
            ]
          },
          "metadata": {},
          "execution_count": 25
        }
      ]
    },
    {
      "cell_type": "markdown",
      "source": [
        "## Visualize our dataset"
      ],
      "metadata": {
        "id": "1MmVqOZmhnz1"
      }
    },
    {
      "cell_type": "code",
      "source": [
        "import random\n",
        "rand_id = random.randint(0, len(sentiment_df)-10)\n",
        "for row in sentiment_df[['Text', 'Label']][rand_id : rand_id + 10].itertuples():\n",
        "  _, text, target = row\n",
        "  print(f'Target : {target}', '[Positive]' if target ==  4 else '[Negative]')\n",
        "  print(f'Text : {text}')\n",
        "  print(f'-----\\n')"
      ],
      "metadata": {
        "id": "yrPzTfrGiFrN",
        "colab": {
          "base_uri": "https://localhost:8080/"
        },
        "outputId": "90f4d6a0-be28-4806-96a5-1be971409173"
      },
      "execution_count": 26,
      "outputs": [
        {
          "output_type": "stream",
          "name": "stdout",
          "text": [
            "Target : 4 [Positive]\n",
            "Text : @thelonelyisland i love you guys! i have all ur songs and i love all ur vids ...&lt;3 bye \n",
            "-----\n",
            "\n",
            "Target : 4 [Positive]\n",
            "Text : Listening to the Jonas Brothers. \n",
            "-----\n",
            "\n",
            "Target : 0 [Negative]\n",
            "Text : my iPod touch keeps freezing \n",
            "-----\n",
            "\n",
            "Target : 4 [Positive]\n",
            "Text : cleaned house all day &amp; packed for the beach...now watchin' movies \n",
            "-----\n",
            "\n",
            "Target : 4 [Positive]\n",
            "Text : http://www.online-spiel.net/  thats it \n",
            "-----\n",
            "\n",
            "Target : 4 [Positive]\n",
            "Text : She is a McCoy fan too \n",
            "-----\n",
            "\n",
            "Target : 4 [Positive]\n",
            "Text : Bought a kite.Flew the kite.Shoes ruined.Boyfriend owes me a new pair of shoes (secret) i was getting sick of them  ..it was a worthy day.\n",
            "-----\n",
            "\n",
            "Target : 4 [Positive]\n",
            "Text : ...if this works out well enough I might have enough momentum to launch it - officially. If not, it dies a quiet death. \n",
            "-----\n",
            "\n",
            "Target : 0 [Negative]\n",
            "Text : I want to eat away my feelings \n",
            "-----\n",
            "\n",
            "Target : 4 [Positive]\n",
            "Text : @E_IS_FRESH -- THANX FOR FOLLOWING. how are you..?? \n",
            "-----\n",
            "\n"
          ]
        }
      ]
    },
    {
      "cell_type": "markdown",
      "source": [
        "### Converting `train`, `val`, `test` dataframes into datasets"
      ],
      "metadata": {
        "id": "9bAaZCUG9Qj4"
      }
    },
    {
      "cell_type": "code",
      "source": [
        "frames_train = [pd.DataFrame(train_sentences), pd.DataFrame(train_labels)]\n",
        "frames_val = [pd.DataFrame(val_sentences), pd.DataFrame(val_labels)]\n",
        "frames_test = [pd.DataFrame(test_sentences), pd.DataFrame(test_labels)]\n",
        "\n",
        "train_df = pd.concat(frames_train, axis = 1)\n",
        "val_df = pd.concat(frames_val, axis = 1)\n",
        "test_df = pd.concat(frames_test, axis = 1)\n",
        "\n",
        "train_df.columns = ['Text', 'Label']\n",
        "val_df.columns = ['Text', 'Label']\n",
        "test_df.columns = ['Text', 'Label']"
      ],
      "metadata": {
        "id": "c_oB5x9d69Sy"
      },
      "execution_count": 27,
      "outputs": []
    },
    {
      "cell_type": "code",
      "source": [
        "train_df.Label.value_counts()"
      ],
      "metadata": {
        "id": "RJ12rPRm-MKF",
        "colab": {
          "base_uri": "https://localhost:8080/"
        },
        "outputId": "9ec8db37-6d50-4a5d-b266-5499afdeccf0"
      },
      "execution_count": 28,
      "outputs": [
        {
          "output_type": "execute_result",
          "data": {
            "text/plain": [
              "4    578220\n",
              "0    577779\n",
              "Name: Label, dtype: int64"
            ]
          },
          "metadata": {},
          "execution_count": 28
        }
      ]
    },
    {
      "cell_type": "markdown",
      "source": [
        "## Model_0 Getting a Baseline\n"
      ],
      "metadata": {
        "id": "AQS_fgh_C-uI"
      }
    },
    {
      "cell_type": "code",
      "source": [
        "from sklearn.feature_extraction.text import TfidfVectorizer\n",
        "from sklearn.naive_bayes import MultinomialNB\n",
        "from sklearn.pipeline import Pipeline\n",
        "\n",
        "# Create the model\n",
        "model_0 = Pipeline([\n",
        "    ('tfidf', TfidfVectorizer()),\n",
        "    ('clf', MultinomialNB())\n",
        "])\n",
        "\n",
        "# Fit the model\n",
        "model_0.fit(X = train_sentences,\n",
        "            y = train_labels)"
      ],
      "metadata": {
        "id": "I3nhbL7jC-Vq",
        "colab": {
          "base_uri": "https://localhost:8080/"
        },
        "outputId": "822bb8cd-f0de-4aad-ecea-3a3e59ad10fa"
      },
      "execution_count": 29,
      "outputs": [
        {
          "output_type": "execute_result",
          "data": {
            "text/plain": [
              "Pipeline(steps=[('tfidf', TfidfVectorizer()), ('clf', MultinomialNB())])"
            ]
          },
          "metadata": {},
          "execution_count": 29
        }
      ]
    },
    {
      "cell_type": "code",
      "source": [
        "# Evaluate our Baseline Model\n",
        "model_0.score(X = val_sentences,\n",
        "              y = val_labels)"
      ],
      "metadata": {
        "id": "6xzNSu8uBCNK",
        "colab": {
          "base_uri": "https://localhost:8080/"
        },
        "outputId": "eda2a62e-3bc4-4496-e1da-d19086b5e853"
      },
      "execution_count": 30,
      "outputs": [
        {
          "output_type": "execute_result",
          "data": {
            "text/plain": [
              "0.7705245098039216"
            ]
          },
          "metadata": {},
          "execution_count": 30
        }
      ]
    },
    {
      "cell_type": "code",
      "source": [
        "baseline_preds = model_0.predict(val_sentences)"
      ],
      "metadata": {
        "id": "02ATiODyShve"
      },
      "execution_count": 31,
      "outputs": []
    },
    {
      "cell_type": "code",
      "source": [
        "baseline_results = calculate_results(y_true = val_labels,\n",
        "                                     y_pred = baseline_preds)"
      ],
      "metadata": {
        "id": "su2iEKILSo9Q"
      },
      "execution_count": 32,
      "outputs": []
    },
    {
      "cell_type": "code",
      "source": [
        "RESULTS = {}\n",
        "RESULTS['model_0'] = baseline_results"
      ],
      "metadata": {
        "id": "kWlz8CgfTnwg"
      },
      "execution_count": 33,
      "outputs": []
    },
    {
      "cell_type": "markdown",
      "source": [
        "## Preparing data for Deep Sequence models"
      ],
      "metadata": {
        "id": "HQgsbkDifpps"
      }
    },
    {
      "cell_type": "markdown",
      "source": [
        "### Create Text Vectorizing and Embedding Layers"
      ],
      "metadata": {
        "id": "S29FDSEYfzWz"
      }
    },
    {
      "cell_type": "code",
      "source": [
        "import numpy as np\n",
        "import tensorflow as tf\n",
        "from tensorflow.keras import layers"
      ],
      "metadata": {
        "id": "iX6TxGmndmEl"
      },
      "execution_count": 34,
      "outputs": []
    },
    {
      "cell_type": "code",
      "source": [
        "sent_lens = [len(sentence.split()) for sentence in train_sentences]"
      ],
      "metadata": {
        "id": "3B23oh8MgY9Y"
      },
      "execution_count": 35,
      "outputs": []
    },
    {
      "cell_type": "code",
      "source": [
        "sent_lens[:10]"
      ],
      "metadata": {
        "id": "aKLpruylg_GD",
        "colab": {
          "base_uri": "https://localhost:8080/"
        },
        "outputId": "3655dffb-4a58-4380-d0f5-bee9eb99b271"
      },
      "execution_count": 36,
      "outputs": [
        {
          "output_type": "execute_result",
          "data": {
            "text/plain": [
              "[26, 10, 5, 11, 18, 17, 5, 19, 26, 15]"
            ]
          },
          "metadata": {},
          "execution_count": 36
        }
      ]
    },
    {
      "cell_type": "code",
      "source": [
        "average_sent_lens = np.mean(sent_lens)\n",
        "average_sent_lens"
      ],
      "metadata": {
        "id": "NGwfME-LhA6T",
        "colab": {
          "base_uri": "https://localhost:8080/"
        },
        "outputId": "d785625c-3178-410c-8bb2-c96f53e64ab1"
      },
      "execution_count": 37,
      "outputs": [
        {
          "output_type": "execute_result",
          "data": {
            "text/plain": [
              "13.174920566540283"
            ]
          },
          "metadata": {},
          "execution_count": 37
        }
      ]
    },
    {
      "cell_type": "code",
      "source": [
        "import matplotlib.pyplot as plt\n",
        "\n",
        "plt.hist(sent_lens, bins = 60)"
      ],
      "metadata": {
        "id": "7UD8qE3tlduc",
        "colab": {
          "base_uri": "https://localhost:8080/",
          "height": 612
        },
        "outputId": "82ad3996-d238-407f-c285-2658c228e592"
      },
      "execution_count": 38,
      "outputs": [
        {
          "output_type": "execute_result",
          "data": {
            "text/plain": [
              "(array([4.3110e+03, 1.8171e+04, 3.7588e+04, 4.9260e+04, 5.8573e+04,\n",
              "        6.2983e+04, 6.4575e+04, 6.4328e+04, 6.2677e+04, 6.0320e+04,\n",
              "        5.8087e+04, 5.4993e+04, 5.1852e+04, 4.8882e+04, 4.5791e+04,\n",
              "        4.3271e+04, 4.0543e+04, 3.8841e+04, 3.7516e+04, 0.0000e+00,\n",
              "        3.7210e+04, 3.4925e+04, 3.4475e+04, 3.2906e+04, 3.0753e+04,\n",
              "        2.7020e+04, 2.1461e+04, 1.5368e+04, 9.6030e+03, 5.3220e+03,\n",
              "        2.6050e+03, 1.1210e+03, 4.2000e+02, 1.6000e+02, 5.7000e+01,\n",
              "        1.4000e+01, 5.0000e+00, 3.0000e+00, 2.0000e+00, 0.0000e+00,\n",
              "        3.0000e+00, 0.0000e+00, 1.0000e+00, 0.0000e+00, 0.0000e+00,\n",
              "        1.0000e+00, 0.0000e+00, 0.0000e+00, 0.0000e+00, 0.0000e+00,\n",
              "        0.0000e+00, 0.0000e+00, 0.0000e+00, 0.0000e+00, 0.0000e+00,\n",
              "        0.0000e+00, 0.0000e+00, 0.0000e+00, 1.0000e+00, 1.0000e+00]),\n",
              " array([ 1.  ,  1.95,  2.9 ,  3.85,  4.8 ,  5.75,  6.7 ,  7.65,  8.6 ,\n",
              "         9.55, 10.5 , 11.45, 12.4 , 13.35, 14.3 , 15.25, 16.2 , 17.15,\n",
              "        18.1 , 19.05, 20.  , 20.95, 21.9 , 22.85, 23.8 , 24.75, 25.7 ,\n",
              "        26.65, 27.6 , 28.55, 29.5 , 30.45, 31.4 , 32.35, 33.3 , 34.25,\n",
              "        35.2 , 36.15, 37.1 , 38.05, 39.  , 39.95, 40.9 , 41.85, 42.8 ,\n",
              "        43.75, 44.7 , 45.65, 46.6 , 47.55, 48.5 , 49.45, 50.4 , 51.35,\n",
              "        52.3 , 53.25, 54.2 , 55.15, 56.1 , 57.05, 58.  ]),\n",
              " <a list of 60 Patch objects>)"
            ]
          },
          "metadata": {},
          "execution_count": 38
        },
        {
          "output_type": "display_data",
          "data": {
            "text/plain": [
              "<Figure size 432x288 with 1 Axes>"
            ],
            "image/png": "[encoded data removed]"
          },
          "metadata": {
            "needs_background": "light"
          }
        }
      ]
    },
    {
      "cell_type": "code",
      "source": [
        "output_seq_len = int(np.percentile(sent_lens, 98))\n",
        "output_seq_len"
      ],
      "metadata": {
        "id": "KDbvHhUHmC5w",
        "colab": {
          "base_uri": "https://localhost:8080/"
        },
        "outputId": "af1d5f12-7edf-4118-ed77-7ca2a934fbd4"
      },
      "execution_count": 39,
      "outputs": [
        {
          "output_type": "execute_result",
          "data": {
            "text/plain": [
              "27"
            ]
          },
          "metadata": {},
          "execution_count": 39
        }
      ]
    },
    {
      "cell_type": "markdown",
      "source": [
        "### Create Text Vectorizer Layer"
      ],
      "metadata": {
        "id": "SjAZCUBylSYy"
      }
    },
    {
      "cell_type": "code",
      "source": [
        "max_vocab_length = 120000\n",
        "\n",
        "text_vectorizer = tf.keras.layers.TextVectorization(max_tokens = max_vocab_length,\n",
        "                                                    output_sequence_length = output_seq_len)"
      ],
      "metadata": {
        "id": "ZcC2wePQH0Au"
      },
      "execution_count": 40,
      "outputs": []
    },
    {
      "cell_type": "code",
      "source": [
        "# Adapt text vectorizer to train sentence\n",
        "\n",
        "text_vectorizer.adapt(train_sentences)"
      ],
      "metadata": {
        "id": "IbbSQ69yOv74"
      },
      "execution_count": 41,
      "outputs": []
    },
    {
      "cell_type": "code",
      "source": [
        "# Test vectorizing layer\n",
        "\n",
        "import random\n",
        "target_sent = random.choice(train_sentences)\n",
        "print(f'Target Sentence:\\n {target_sent}')\n",
        "print(f'Length of text: {len(target_sent)}')\n",
        "print(f'After Vectorizing:\\n {text_vectorizer([target_sent])}')"
      ],
      "metadata": {
        "id": "zWpudnCJQ7PH",
        "colab": {
          "base_uri": "https://localhost:8080/"
        },
        "outputId": "dd6a4e93-fcb6-4230-e8d9-58bf296e7297"
      },
      "execution_count": 42,
      "outputs": [
        {
          "output_type": "stream",
          "name": "stdout",
          "text": [
            "Target Sentence:\n",
            " feel sorry for my friend who has been scammed (sorry for my word) by XOOM..&quot;I am the Recipient&quot;  Bad Service! Now, i have nothing. \n",
            "Length of text: 141\n",
            "After Vectorizing:\n",
            " [[  105   120    11     6   254   167    97    92 21505   120    11     6\n",
            "    711   121     1    62     4     1   115   989    29     2    18   253\n",
            "      0     0     0]]\n"
          ]
        }
      ]
    },
    {
      "cell_type": "code",
      "source": [
        "# Most common and Least common words in our vocab\n",
        "\n",
        "vocab_sentiment140 = text_vectorizer.get_vocabulary()\n",
        "print(f'No of words in our Vocab: {len(vocab_sentiment140)}')\n",
        "print(f'Most common words in Vocab: {vocab_sentiment140[:5]}')\n",
        "print(f'Least common words in Vocab: {vocab_sentiment140[-20:]}')"
      ],
      "metadata": {
        "id": "BpsGqysHTG81",
        "colab": {
          "base_uri": "https://localhost:8080/"
        },
        "outputId": "c7736211-aa5d-4dae-e104-bd40ab2b109c"
      },
      "execution_count": 43,
      "outputs": [
        {
          "output_type": "stream",
          "name": "stdout",
          "text": [
            "No of words in our Vocab: 120000\n",
            "Most common words in Vocab: ['', '[UNK]', 'i', 'to', 'the']\n",
            "Least common words in Vocab: ['whoknows1970', 'whoknows', 'whoisthisjoant', 'whoissuresh', 'whoisright', 'whoisray', 'whoiskenan', 'whoisjohnlai', 'whoisbarbie', 'whoisb', 'whoisandybarnes', 'whoisalexparker', 'whohooo', 'whoeva', 'whocares', 'whoaw', 'whoand', 'whoamiriam', 'whoak', 'whoaitsjordan']\n"
          ]
        }
      ]
    },
    {
      "cell_type": "markdown",
      "source": [
        "### Create Text Embedding Layer"
      ],
      "metadata": {
        "id": "PNJbspClUP8f"
      }
    },
    {
      "cell_type": "code",
      "source": [
        "token_embed = layers.Embedding(input_dim = len(vocab_sentiment140),\n",
        "                               output_dim = 128,\n",
        "                               mask_zero = True,\n",
        "                               name = 'token_embedding')"
      ],
      "metadata": {
        "id": "FqY0FEgZUM0E"
      },
      "execution_count": 44,
      "outputs": []
    },
    {
      "cell_type": "code",
      "source": [
        "# Test embedding layer\n",
        "\n",
        "print(f'Before Vectorisation :\\n {target_sent}\\n')\n",
        "vectorized_sent = text_vectorizer(target_sent)\n",
        "print(f'After Vectorizing:\\n {vectorized_sent}\\n')\n",
        "print(f'After Embedding:\\n {token_embed(vectorized_sent)}')"
      ],
      "metadata": {
        "id": "-3oHkeJMv_6g",
        "colab": {
          "base_uri": "https://localhost:8080/"
        },
        "outputId": "c3283888-3591-41f6-a833-83825dc4b6a5"
      },
      "execution_count": 45,
      "outputs": [
        {
          "output_type": "stream",
          "name": "stdout",
          "text": [
            "Before Vectorisation :\n",
            " feel sorry for my friend who has been scammed (sorry for my word) by XOOM..&quot;I am the Recipient&quot;  Bad Service! Now, i have nothing. \n",
            "\n",
            "After Vectorizing:\n",
            " [  105   120    11     6   254   167    97    92 21505   120    11     6\n",
            "   711   121     1    62     4     1   115   989    29     2    18   253\n",
            "     0     0     0]\n",
            "\n",
            "After Embedding:\n",
            " [[ 0.02557402 -0.03743155  0.03690225 ... -0.00864966 -0.03189437\n",
            "  -0.00543389]\n",
            " [-0.04590353 -0.02228673 -0.04384401 ...  0.03506071 -0.03739277\n",
            "   0.0408753 ]\n",
            " [ 0.00192759  0.03747776 -0.00679858 ... -0.03406726  0.03187405\n",
            "  -0.01518016]\n",
            " ...\n",
            " [ 0.04730387 -0.04413843  0.04672599 ... -0.04596803  0.02131135\n",
            "  -0.01069144]\n",
            " [ 0.04730387 -0.04413843  0.04672599 ... -0.04596803  0.02131135\n",
            "  -0.01069144]\n",
            " [ 0.04730387 -0.04413843  0.04672599 ... -0.04596803  0.02131135\n",
            "  -0.01069144]]\n"
          ]
        }
      ]
    },
    {
      "cell_type": "markdown",
      "source": [
        "## Creating Datasets for faster processing\n"
      ],
      "metadata": {
        "id": "szX2Y1Zn0T0f"
      }
    },
    {
      "cell_type": "code",
      "source": [
        "# Turn datasets into prefetched\n",
        "train_dataset = tf.data.Dataset.from_tensor_slices((train_sentences, tf.one_hot(train_labels,depth = 1))).batch(32).prefetch(tf.data.AUTOTUNE)\n",
        "test_dataset = tf.data.Dataset.from_tensor_slices((test_sentences, tf.one_hot(test_labels, depth = 1))).batch(32).prefetch(tf.data.AUTOTUNE)\n",
        "val_dataset = tf.data.Dataset.from_tensor_slices((val_sentences, tf.one_hot(val_labels, depth = 1))).batch(32).prefetch(tf.data.AUTOTUNE)"
      ],
      "metadata": {
        "id": "HkYgxc5GyaA4"
      },
      "execution_count": 46,
      "outputs": []
    },
    {
      "cell_type": "markdown",
      "source": [
        "## Model_1: Conv1D + Embedding"
      ],
      "metadata": {
        "id": "6ZoX_vxt36cj"
      }
    },
    {
      "cell_type": "code",
      "source": [
        "# Create the model\n",
        "inputs = layers.Input(shape = (1,), dtype = tf.string)\n",
        "text_vectors = text_vectorizer(inputs)\n",
        "token_embeddings = token_embed(text_vectors)\n",
        "x = layers.Conv1D(64, kernel_size = 5, padding = 'same', activation = 'relu')(token_embeddings)\n",
        "x = layers.GlobalAveragePooling1D()(x)\n",
        "outputs = layers.Dense(1, activation = 'sigmoid')(x)\n",
        "model_1 = tf.keras.Model(inputs, outputs)\n",
        "\n",
        "# Compile the model\n",
        "model_1.compile(loss = tf.keras.losses.BinaryCrossentropy(),\n",
        "                optimizer = tf.keras.optimizers.Adam(),\n",
        "                metrics = ['accuracy'])\n",
        "\n",
        "# Fit the model\n",
        "model_1_history = model_1.fit(train_dataset,\n",
        "                              steps_per_epoch=int(0.1 * len(train_dataset)), # only fit on 10% of batches for faster training time\n",
        "                              epochs=3,\n",
        "                              validation_data=val_dataset,\n",
        "                              validation_steps=int(0.1 * len(val_dataset)),\n",
        "                              callbacks = [tf.keras.callbacks.EarlyStopping(monitor = 'val_loss')])"
      ],
      "metadata": {
        "id": "gb6to2Og0q58",
        "colab": {
          "base_uri": "https://localhost:8080/"
        },
        "outputId": "5cede999-2721-4703-fe6d-69ecb6f93fa5"
      },
      "execution_count": 47,
      "outputs": [
        {
          "output_type": "stream",
          "name": "stdout",
          "text": [
            "Epoch 1/3\n",
            "3612/3612 [==============================] - 58s 12ms/step - loss: 0.4909 - accuracy: 0.7685 - val_loss: 0.4706 - val_accuracy: 0.7866\n",
            "Epoch 2/3\n",
            "3612/3612 [==============================] - 44s 12ms/step - loss: 0.4543 - accuracy: 0.7922 - val_loss: 0.4551 - val_accuracy: 0.7952\n"
          ]
        }
      ]
    },
    {
      "cell_type": "code",
      "source": [
        "model_1.evaluate(val_dataset)"
      ],
      "metadata": {
        "id": "QtkyHJ73Hvqm",
        "colab": {
          "base_uri": "https://localhost:8080/"
        },
        "outputId": "0e504925-e21a-4703-ef79-b13034f165b7"
      },
      "execution_count": 48,
      "outputs": [
        {
          "output_type": "stream",
          "name": "stdout",
          "text": [
            "6375/6375 [==============================] - 17s 3ms/step - loss: 0.4500 - accuracy: 0.7960\n"
          ]
        },
        {
          "output_type": "execute_result",
          "data": {
            "text/plain": [
              "[0.4500216245651245, 0.7960392236709595]"
            ]
          },
          "metadata": {},
          "execution_count": 48
        }
      ]
    },
    {
      "cell_type": "code",
      "source": [
        "model_1_pred_probs = model_1.predict(val_sentences)"
      ],
      "metadata": {
        "id": "cIrVpAfnH4SF"
      },
      "execution_count": 49,
      "outputs": []
    },
    {
      "cell_type": "code",
      "source": [
        "model_1_preds = np.round(model_1_pred_probs)"
      ],
      "metadata": {
        "id": "phILiPR8vXr-"
      },
      "execution_count": 50,
      "outputs": []
    },
    {
      "cell_type": "code",
      "source": [
        "model_1_results = calculate_results(y_true = tf.one_hot(val_labels, depth = 1),\n",
        "                                    y_pred = model_1_preds)"
      ],
      "metadata": {
        "id": "oGjK2ty5vfK8"
      },
      "execution_count": 51,
      "outputs": []
    },
    {
      "cell_type": "code",
      "source": [
        "model_1_results"
      ],
      "metadata": {
        "id": "KvPuICLuwgal",
        "colab": {
          "base_uri": "https://localhost:8080/"
        },
        "outputId": "3b06b40a-76b6-4ef6-9dae-566588800c28"
      },
      "execution_count": 52,
      "outputs": [
        {
          "output_type": "execute_result",
          "data": {
            "text/plain": [
              "{'accuracy': 79.60392156862746,\n",
              " 'precision': 0.7968518115815529,\n",
              " 'recall': 0.7960392156862746,\n",
              " 'f1': 0.7958992594625836}"
            ]
          },
          "metadata": {},
          "execution_count": 52
        }
      ]
    },
    {
      "cell_type": "code",
      "source": [
        "RESULTS['model_1'] = model_1_results"
      ],
      "metadata": {
        "id": "LbeDaI7u7AD8"
      },
      "execution_count": 53,
      "outputs": []
    },
    {
      "cell_type": "code",
      "source": [
        "RESULTS"
      ],
      "metadata": {
        "id": "6QXyGGaJ7I5w",
        "colab": {
          "base_uri": "https://localhost:8080/"
        },
        "outputId": "e0432950-e1f4-43cf-8008-1776ca0d9f19"
      },
      "execution_count": 54,
      "outputs": [
        {
          "output_type": "execute_result",
          "data": {
            "text/plain": [
              "{'model_0': {'accuracy': 77.05245098039217,\n",
              "  'precision': 0.7728593367513529,\n",
              "  'recall': 0.7705245098039216,\n",
              "  'f1': 0.7700319671555375},\n",
              " 'model_1': {'accuracy': 79.60392156862746,\n",
              "  'precision': 0.7968518115815529,\n",
              "  'recall': 0.7960392156862746,\n",
              "  'f1': 0.7958992594625836}}"
            ]
          },
          "metadata": {},
          "execution_count": 54
        }
      ]
    },
    {
      "cell_type": "code",
      "source": [
        "plot_loss_curves(model_1_history)"
      ],
      "metadata": {
        "id": "foTI65VpXzy9",
        "colab": {
          "base_uri": "https://localhost:8080/",
          "height": 573
        },
        "outputId": "a8c9cdba-8a3c-4eb4-d2e7-a008bef95d70"
      },
      "execution_count": 55,
      "outputs": [
        {
          "output_type": "display_data",
          "data": {
            "text/plain": [
              "<Figure size 432x288 with 1 Axes>"
            ],
            "image/png": "[encoded data removed]"
          },
          "metadata": {
            "needs_background": "light"
          }
        },
        {
          "output_type": "display_data",
          "data": {
            "text/plain": [
              "<Figure size 432x288 with 1 Axes>"
            ],
            "image/png": "[encoded data removed]"
          },
          "metadata": {
            "needs_background": "light"
          }
        }
      ]
    },
    {
      "cell_type": "markdown",
      "source": [
        "## Model_2 Feature Extraction Model"
      ],
      "metadata": {
        "id": "MFGrz9NYB8U9"
      }
    },
    {
      "cell_type": "code",
      "source": [
        "# Downloading Universal Sentence Encoder\n",
        "\n",
        "import tensorflow_hub as hub\n",
        "\n",
        "hub_embedding_layer = hub.KerasLayer('https://tfhub.dev/google/universal-sentence-encoder/4',\n",
        "                                     trainable = False,\n",
        "                                     name = 'USE')"
      ],
      "metadata": {
        "id": "RTUX4NyRB_0w"
      },
      "execution_count": 56,
      "outputs": []
    },
    {
      "cell_type": "code",
      "source": [
        "random_sent = random.choice(train_sentences)\n",
        "print(f'Sentence before Embedding Layer: {random_sent}\\n')\n",
        "print(f'Sentence after Embedding Layer: {hub_embedding_layer([random_sent])}')"
      ],
      "metadata": {
        "colab": {
          "base_uri": "https://localhost:8080/"
        },
        "id": "LiBAHDS0CveJ",
        "outputId": "9d892e45-ed24-4bb7-92cf-e7d585a3477f"
      },
      "execution_count": 57,
      "outputs": [
        {
          "output_type": "stream",
          "name": "stdout",
          "text": [
            "Sentence before Embedding Layer: finally finished hair and make up \n",
            "\n",
            "Sentence after Embedding Layer: [[-6.17582351e-02 -3.05817481e-02  8.96630716e-03 -1.93024017e-02\n",
            "   4.16561887e-02 -4.22823802e-02  5.09334654e-02  1.59253590e-02\n",
            "   2.23382376e-02  2.35281307e-02 -1.01050269e-02  8.51991549e-02\n",
            "  -1.02405809e-02 -2.83730049e-02  5.27978390e-02  7.59642059e-03\n",
            "   4.37902771e-02  4.08275090e-02 -2.54242774e-02  4.65269908e-02\n",
            "  -3.85717936e-02  3.76378857e-02 -2.53366977e-02  6.36843815e-02\n",
            "  -2.19355174e-03 -4.37317044e-02  1.42749799e-02  1.67147145e-02\n",
            "   4.08198033e-03  6.07699454e-02  9.10930894e-03 -3.76681015e-02\n",
            "  -3.94975170e-02  4.68218848e-02  8.28091707e-03  8.93257838e-03\n",
            "   1.63118299e-02 -2.99346950e-02 -1.42378770e-02  1.43495379e-02\n",
            "   3.14874053e-02 -4.83946353e-02 -3.51335332e-02 -5.04880957e-02\n",
            "   3.46632153e-02 -5.66485040e-02 -4.00930345e-02 -7.17672631e-02\n",
            "  -1.47473253e-02 -3.94383259e-02  7.31324777e-02  1.91473160e-02\n",
            "  -2.39987615e-02 -2.65681334e-02 -5.50990924e-03 -3.00740544e-02\n",
            "   3.80118960e-03 -1.76496468e-02 -5.42193577e-02  1.61486235e-03\n",
            "  -4.59683053e-02 -9.91213322e-03  1.01299575e-02  2.90974062e-02\n",
            "  -5.87693304e-02  6.93116412e-02 -6.58295117e-03  1.29582835e-02\n",
            "   6.19444698e-02 -7.03759585e-03 -3.18430993e-03 -3.84711437e-02\n",
            "  -8.32901523e-03  5.74371070e-02 -3.58524323e-02  1.71273537e-02\n",
            "   1.64389666e-02 -1.53001435e-02 -2.10939143e-02  7.68163130e-02\n",
            "  -3.56591865e-02  9.68529880e-02  4.82708849e-02 -4.98527884e-02\n",
            "   3.91301401e-02  7.16863573e-02  2.91293603e-03  1.41275581e-02\n",
            "   9.70238261e-03 -2.98770759e-02 -2.71007675e-03  5.91642968e-03\n",
            "   1.85646731e-02  6.53537139e-02  2.81259157e-02  5.52525744e-02\n",
            "   7.64292572e-03  6.63523450e-02 -1.30328555e-02 -5.51043265e-02\n",
            "  -9.21033416e-03 -1.35294395e-02  3.24244387e-02 -4.53188270e-02\n",
            "  -6.42156824e-02 -4.18779291e-02 -7.97752962e-02 -3.09983622e-02\n",
            "   1.25700859e-02 -2.18824111e-02 -8.28971863e-02 -8.95548519e-03\n",
            "   3.61750424e-02  6.49608001e-02  2.90199537e-02 -2.00967398e-03\n",
            "  -5.46659939e-02  9.95057635e-03 -6.72701299e-02  6.39598444e-02\n",
            "   6.81173056e-02 -1.44103495e-02  5.72550446e-02  4.54270542e-02\n",
            "  -1.30112295e-03  3.06372251e-02 -4.98072058e-02 -8.71078596e-02\n",
            "  -4.38363254e-02 -4.65275496e-02  2.07501613e-02  7.99263567e-02\n",
            "  -2.70218141e-02 -2.89147235e-02 -6.55250922e-02 -2.81343125e-02\n",
            "  -5.25777750e-02 -9.10797156e-03 -2.39306372e-02  4.23576590e-03\n",
            "  -1.92165375e-02 -6.12876527e-02 -2.05707620e-03  9.96794179e-03\n",
            "   1.15328813e-02 -1.75367249e-03  2.56636571e-02  3.33639160e-02\n",
            "  -1.20983953e-02 -4.82558124e-02 -3.24752294e-02 -1.41411861e-02\n",
            "  -6.84616566e-02  6.92735007e-03  6.72252243e-03 -1.33581953e-02\n",
            "  -1.05128959e-02 -6.63135573e-02 -2.38499381e-02  1.03313960e-02\n",
            "  -7.06033316e-03 -5.49775101e-02  5.33223078e-02 -4.58432138e-02\n",
            "  -1.89775750e-02  9.91546456e-03 -1.24952663e-03  4.89488803e-02\n",
            "   5.63710332e-02 -1.97464824e-02 -1.45146195e-02  3.79194133e-02\n",
            "   1.61165874e-02  7.80915692e-02 -2.09717732e-02 -4.40426655e-02\n",
            "  -4.21576090e-02  3.98721993e-02  3.02959234e-02  3.03851031e-02\n",
            "  -8.12172424e-03  5.44011891e-02  1.12471050e-02 -1.92538016e-02\n",
            "   3.49015519e-02 -3.47975641e-02 -6.03475347e-02  1.90414451e-02\n",
            "   5.68975285e-02  4.45178486e-02 -1.19638517e-02 -4.46039960e-02\n",
            "   3.60172726e-02 -6.80789575e-02 -5.67416754e-03  5.94664216e-02\n",
            "   5.40416641e-03 -7.25145862e-02  7.07104206e-02  2.99657118e-02\n",
            "  -2.03907508e-02  6.71453401e-02  6.05741161e-06  9.71625745e-02\n",
            "   1.56400260e-02  2.22411510e-02 -2.62248032e-02  3.23284827e-02\n",
            "  -3.95036153e-02 -8.30301456e-03  2.74817180e-02  6.49266411e-03\n",
            "   5.63791804e-02  4.83482592e-02  1.94594003e-02 -3.30006401e-03\n",
            "  -2.64232121e-02  2.38498393e-02 -4.43494134e-02 -3.50306295e-02\n",
            "  -2.05533523e-02  1.99168967e-03 -9.98944566e-02 -5.95377982e-02\n",
            "  -5.08243330e-02 -3.88760902e-02 -6.21028394e-02 -2.28054468e-02\n",
            "  -1.04695922e-02 -2.78657558e-03 -1.18167372e-02  9.31228921e-02\n",
            "   6.08354658e-02  9.00662765e-02 -1.23158307e-03 -1.83791900e-03\n",
            "   2.12677885e-02 -3.09284753e-03  8.09491798e-02  2.16183737e-02\n",
            "  -5.14434576e-02 -3.43872746e-03 -3.15483883e-02 -9.61131044e-03\n",
            "   9.73721966e-02  9.01685432e-02 -4.93596941e-02  1.26012526e-02\n",
            "   1.62967704e-02 -9.16833580e-02  3.74238119e-02  6.00506254e-02\n",
            "  -5.00742905e-02  1.67318080e-02 -6.86576888e-02  2.51238756e-02\n",
            "  -2.46374849e-02 -8.75136554e-02  4.40637060e-02  6.18138770e-03\n",
            "   6.02629483e-02  2.86017712e-02 -7.80694559e-02 -9.21984315e-02\n",
            "   1.39772622e-02 -5.30430749e-02  9.89637598e-02  4.26230431e-02\n",
            "   3.32030542e-02 -6.18375689e-02 -3.87629084e-02  7.92246535e-02\n",
            "  -1.02355622e-01  2.96976585e-02 -1.15080848e-02 -7.14947842e-03\n",
            "   5.79934902e-02 -6.75466210e-02  7.65006691e-02  1.92073341e-02\n",
            "   6.42641187e-02  5.97079210e-02  1.46646053e-03  3.12050804e-03\n",
            "  -2.60093752e-02  2.16888520e-03  1.82697382e-02  9.71074849e-02\n",
            "  -2.26153415e-02 -1.83687806e-02 -1.61366314e-02 -3.19060683e-02\n",
            "   6.02968521e-02  5.80065064e-02  3.18066659e-03  4.08367179e-02\n",
            "   1.90117825e-02  7.61558441e-03  4.77666520e-02 -2.08346695e-02\n",
            "   3.27382572e-02  1.54210906e-02  8.53143558e-02  2.26295758e-02\n",
            "  -5.37419096e-02 -4.46820445e-03  3.13178189e-02 -1.69044395e-03\n",
            "   7.24027678e-02  7.03835413e-02  5.15085794e-02 -2.20919419e-02\n",
            "   4.42186706e-02 -7.82755017e-02  9.44201052e-02 -6.59485161e-02\n",
            "   4.78309989e-02  3.24979126e-02 -6.63862899e-02  4.52516079e-02\n",
            "   9.78615284e-02  5.60680544e-03  7.63548613e-02  1.65409478e-03\n",
            "   5.50733134e-03 -7.95649961e-02 -1.47169065e-02  3.67012583e-02\n",
            "   1.00372676e-02 -4.11916412e-02 -3.02914344e-03 -5.14018238e-02\n",
            "  -3.90006267e-02 -8.60874355e-02  2.91200001e-02  2.85404623e-02\n",
            "   1.06112668e-02 -2.70514786e-02 -7.99727626e-03  6.80787265e-02\n",
            "  -5.74889220e-03  2.10099127e-02  1.44239347e-02 -2.81595234e-02\n",
            "   2.80952584e-02  6.11374862e-02 -7.45968446e-02  5.63582294e-02\n",
            "   4.41087736e-03 -5.48058227e-02 -1.66285150e-02 -3.38763595e-02\n",
            "   2.11411901e-02  4.10570428e-02  2.14313925e-03 -9.52375829e-02\n",
            "  -9.27657261e-02 -6.86195865e-02 -6.29899732e-04 -6.37613162e-02\n",
            "   8.39924887e-02 -3.02425418e-02  9.00496989e-02  1.04541872e-02\n",
            "   2.82972865e-03 -2.41054129e-02 -7.11712837e-02  6.82589540e-04\n",
            "   1.52751040e-02  6.13358803e-03 -2.29908116e-02  3.36210094e-02\n",
            "   3.04694418e-02  4.35297750e-02 -2.75536850e-02 -7.00980946e-02\n",
            "  -2.70776376e-02  4.26625051e-02  3.12112905e-02  2.09407974e-02\n",
            "  -4.06582169e-02 -5.41891120e-02  2.81443950e-02 -6.51929586e-04\n",
            "  -3.76674831e-02  5.40638790e-02 -1.94623973e-02  8.60367808e-03\n",
            "   3.39301266e-02 -1.96792111e-02  3.48284990e-02 -1.39831798e-02\n",
            "   6.05984703e-02 -5.46448156e-02 -6.09420612e-02  2.24659685e-02\n",
            "   3.32124569e-02 -5.82680367e-02  2.98452452e-02 -2.61549950e-02\n",
            "  -7.03826249e-02  2.74746271e-04  8.64243284e-02 -6.59151450e-02\n",
            "   4.71357331e-02  4.70531434e-02 -1.49004264e-02  3.76779325e-02\n",
            "   2.26327684e-02  4.24874201e-02  3.80919687e-02 -7.26725832e-02\n",
            "   1.29241301e-02  1.97923463e-02  1.60265118e-02 -3.65381725e-02\n",
            "  -3.66026647e-02  7.88336899e-03  3.61232944e-02 -4.00173068e-02\n",
            "   2.43956055e-02 -1.76886972e-02 -8.97864532e-03  3.36155035e-02\n",
            "   1.63846780e-02  3.80663127e-02  3.81234586e-02  3.54189090e-02\n",
            "   1.12241339e-02  2.80798450e-02 -9.49907154e-02 -6.24035718e-03\n",
            "   7.82127157e-02  7.18480051e-02 -1.42975878e-02 -6.12791032e-02\n",
            "   6.24461845e-02 -6.02226555e-02 -4.06639986e-02 -4.25389362e-03\n",
            "   9.91669074e-02  3.92044969e-02 -6.14435934e-02  2.38395971e-03\n",
            "  -1.39616604e-03  4.86629903e-02 -1.82549898e-02 -4.71405834e-02\n",
            "   2.02452037e-02 -6.37579337e-02  6.28822893e-02 -1.41302077e-02\n",
            "  -2.33771130e-02  2.02702847e-03  7.21723726e-03  6.07124008e-02\n",
            "  -5.56877032e-02 -9.58016980e-03  6.82563260e-02  4.99441810e-02\n",
            "   2.66729109e-02  1.81550905e-02 -3.76621410e-02 -6.91763908e-02\n",
            "   1.31074265e-02  6.81027621e-02 -8.27982835e-03 -1.01486303e-01\n",
            "  -2.82662548e-02  1.07455328e-02  2.37778090e-02  3.75772230e-02\n",
            "  -1.09964469e-02  1.48012966e-03 -1.45030022e-02 -7.87447393e-03\n",
            "  -4.84392755e-02 -1.35268336e-02  2.05081273e-02 -1.02631815e-01\n",
            "   6.66590920e-03  7.46888146e-02  3.84731703e-02  6.16309606e-02\n",
            "   6.55923486e-02 -1.63648129e-02 -6.04255721e-02 -1.53017482e-02\n",
            "   5.38879782e-02  2.08970215e-02  4.33103628e-02  4.01794650e-02\n",
            "   1.39730265e-02  1.59255769e-02 -5.63496305e-03  1.94329359e-02\n",
            "   2.71251220e-02 -2.63491794e-02  5.35895526e-02  1.32270632e-02\n",
            "  -4.90669422e-02  9.87039059e-02  6.11072108e-02  2.07936298e-02\n",
            "   5.68766557e-02  1.63395926e-02  5.32726608e-02 -1.21816285e-02\n",
            "  -1.03520025e-02 -1.53581733e-02  6.61902502e-02 -1.69704277e-02]]\n"
          ]
        }
      ]
    },
    {
      "cell_type": "code",
      "source": [
        "len(hub_embedding_layer([random_sent])[0]) # Length is 512 because the input is a variable length English text and the ouput is 512 dimensional feature vector"
      ],
      "metadata": {
        "colab": {
          "base_uri": "https://localhost:8080/"
        },
        "id": "P7M3eFEsC3jb",
        "outputId": "914046a3-073a-4439-fdcd-96936110d2f0"
      },
      "execution_count": 58,
      "outputs": [
        {
          "output_type": "execute_result",
          "data": {
            "text/plain": [
              "512"
            ]
          },
          "metadata": {},
          "execution_count": 58
        }
      ]
    },
    {
      "cell_type": "code",
      "source": [
        "# Create model_2\n",
        "\n",
        "inputs = layers.Input(shape = [], dtype = tf.string)\n",
        "embedding = hub_embedding_layer(inputs)\n",
        "x = layers.Dense(128, activation = 'relu', )(embedding)\n",
        "outputs = layers.Dense(1, activation = 'sigmoid')(x)\n",
        "model_2 = tf.keras.Model(inputs, outputs)\n",
        "\n",
        "# Compile the model\n",
        "model_2.compile(loss = tf.keras.losses.BinaryCrossentropy(),\n",
        "                optimizer = tf.keras.optimizers.Adam(),\n",
        "                metrics = ['accuracy'])\n",
        "# Fit the model\n",
        "model_2_hist  = model_2.fit(train_dataset,\n",
        "                            epochs = 3,\n",
        "                            steps_per_epoch = int(0.1 * len(train_dataset)),\n",
        "                            validation_data = val_dataset,\n",
        "                            validation_steps = int(0.1 * len(val_dataset)),\n",
        "                            callbacks = [tf.keras.callbacks.EarlyStopping(monitor = 'val_loss')])"
      ],
      "metadata": {
        "colab": {
          "base_uri": "https://localhost:8080/"
        },
        "id": "o8ucU6k1DkfB",
        "outputId": "62b969b2-5bdc-41e9-ac35-56812a5bb78b"
      },
      "execution_count": 59,
      "outputs": [
        {
          "output_type": "stream",
          "name": "stdout",
          "text": [
            "Epoch 1/3\n",
            "3612/3612 [==============================] - 43s 11ms/step - loss: 0.4666 - accuracy: 0.7788 - val_loss: 0.4589 - val_accuracy: 0.7804\n",
            "Epoch 2/3\n",
            "3612/3612 [==============================] - 40s 11ms/step - loss: 0.4461 - accuracy: 0.7893 - val_loss: 0.4480 - val_accuracy: 0.7869\n"
          ]
        }
      ]
    },
    {
      "cell_type": "code",
      "source": [
        "model_2.evaluate(val_dataset)"
      ],
      "metadata": {
        "colab": {
          "base_uri": "https://localhost:8080/"
        },
        "id": "ZL8vYDjoJOcr",
        "outputId": "43c317f3-d659-4137-b268-d55fdd427d78"
      },
      "execution_count": 60,
      "outputs": [
        {
          "output_type": "stream",
          "name": "stdout",
          "text": [
            "6375/6375 [==============================] - 59s 9ms/step - loss: 0.4452 - accuracy: 0.7896\n"
          ]
        },
        {
          "output_type": "execute_result",
          "data": {
            "text/plain": [
              "[0.44515013694763184, 0.7895686030387878]"
            ]
          },
          "metadata": {},
          "execution_count": 60
        }
      ]
    },
    {
      "cell_type": "code",
      "source": [
        "model_2_pred_probs = model_2.predict(val_sentences)"
      ],
      "metadata": {
        "id": "oKX0P5gtKWtB"
      },
      "execution_count": 61,
      "outputs": []
    },
    {
      "cell_type": "code",
      "source": [
        "model_2_preds = np.round(model_2_pred_probs)"
      ],
      "metadata": {
        "id": "i6DO9hOMKf8B"
      },
      "execution_count": 62,
      "outputs": []
    },
    {
      "cell_type": "code",
      "source": [
        "model_2_results = calculate_results(y_pred = model_2_preds,\n",
        "                                    y_true = tf.one_hot(val_labels, depth = 1))"
      ],
      "metadata": {
        "id": "-kpLjwNmK8ms"
      },
      "execution_count": 63,
      "outputs": []
    },
    {
      "cell_type": "code",
      "source": [
        "RESULTS['model_2'] = model_2_results"
      ],
      "metadata": {
        "id": "bnyduFgLKj3p"
      },
      "execution_count": 64,
      "outputs": []
    },
    {
      "cell_type": "code",
      "source": [
        "RESULTS"
      ],
      "metadata": {
        "colab": {
          "base_uri": "https://localhost:8080/"
        },
        "id": "ieqms1TcLYQ4",
        "outputId": "8df80409-40d0-4268-bf41-4c841035205b"
      },
      "execution_count": 65,
      "outputs": [
        {
          "output_type": "execute_result",
          "data": {
            "text/plain": [
              "{'model_0': {'accuracy': 77.05245098039217,\n",
              "  'precision': 0.7728593367513529,\n",
              "  'recall': 0.7705245098039216,\n",
              "  'f1': 0.7700319671555375},\n",
              " 'model_1': {'accuracy': 79.60392156862746,\n",
              "  'precision': 0.7968518115815529,\n",
              "  'recall': 0.7960392156862746,\n",
              "  'f1': 0.7958992594625836},\n",
              " 'model_2': {'accuracy': 78.95686274509805,\n",
              "  'precision': 0.7903473928229957,\n",
              "  'recall': 0.7895686274509804,\n",
              "  'f1': 0.7894271376446821}}"
            ]
          },
          "metadata": {},
          "execution_count": 65
        }
      ]
    },
    {
      "cell_type": "markdown",
      "source": [
        "## Model_3 with Character Level tokenisation"
      ],
      "metadata": {
        "id": "IT9HPjcfMXIW"
      }
    },
    {
      "cell_type": "code",
      "source": [
        "def split_char(text):\n",
        "  return ' '.join(list(text))"
      ],
      "metadata": {
        "id": "1HFeF5LqMWpN"
      },
      "execution_count": 84,
      "outputs": []
    },
    {
      "cell_type": "code",
      "source": [
        "train_chars = [split_char(sentence) for sentence in train_sentences]\n",
        "val_chars =   [split_char(sentence) for sentence in val_sentences]\n",
        "test_chars  = [split_char(sentence) for sentence in test_sentences]\n",
        "\n",
        "train_labels_one_hot = tf.one_hot(train_labels, depth = 1)\n",
        "val_labels_one_hot = tf.one_hot(val_labels, depth = 1)\n",
        "test_labels_one_hot = tf.one_hot(test_labels, depth = 1)"
      ],
      "metadata": {
        "id": "nwGVubtEOMlt"
      },
      "execution_count": 86,
      "outputs": []
    },
    {
      "cell_type": "code",
      "source": [
        "char_len = [len(sentence) for sentence in train_sentences]\n",
        "mean_char_lens = np.mean(char_len)\n",
        "mean_char_lens"
      ],
      "metadata": {
        "colab": {
          "base_uri": "https://localhost:8080/"
        },
        "id": "snVCUxXHP_3a",
        "outputId": "2236e008-34bc-4daf-abfe-ff132f25c027"
      },
      "execution_count": 68,
      "outputs": [
        {
          "output_type": "execute_result",
          "data": {
            "text/plain": [
              "74.08697585378535"
            ]
          },
          "metadata": {},
          "execution_count": 68
        }
      ]
    },
    {
      "cell_type": "code",
      "source": [
        "#  Check distribution of char\n",
        "\n",
        "import matplotlib.pyplot as plt\n",
        "plt.hist(char_len, bins = 40)"
      ],
      "metadata": {
        "colab": {
          "base_uri": "https://localhost:8080/",
          "height": 511
        },
        "id": "_yz4HDrXQadd",
        "outputId": "2cd23f6a-5a6d-4d0b-e596-802e60b8676b"
      },
      "execution_count": 69,
      "outputs": [
        {
          "output_type": "execute_result",
          "data": {
            "text/plain": [
              "(array([1.86540e+04, 6.15180e+04, 9.05650e+04, 1.03559e+05, 1.07025e+05,\n",
              "        1.15028e+05, 9.51020e+04, 8.55650e+04, 7.64450e+04, 6.94770e+04,\n",
              "        6.96780e+04, 5.80320e+04, 5.74000e+04, 6.96270e+04, 7.18960e+04,\n",
              "        5.59100e+03, 5.32000e+02, 1.12000e+02, 3.80000e+01, 3.10000e+01,\n",
              "        2.20000e+01, 1.60000e+01, 1.70000e+01, 1.60000e+01, 1.80000e+01,\n",
              "        1.30000e+01, 2.00000e+00, 1.00000e+00, 3.00000e+00, 2.00000e+00,\n",
              "        1.00000e+00, 4.00000e+00, 0.00000e+00, 3.00000e+00, 1.00000e+00,\n",
              "        1.00000e+00, 0.00000e+00, 1.00000e+00, 2.00000e+00, 1.00000e+00]),\n",
              " array([  6. ,  15.2,  24.4,  33.6,  42.8,  52. ,  61.2,  70.4,  79.6,\n",
              "         88.8,  98. , 107.2, 116.4, 125.6, 134.8, 144. , 153.2, 162.4,\n",
              "        171.6, 180.8, 190. , 199.2, 208.4, 217.6, 226.8, 236. , 245.2,\n",
              "        254.4, 263.6, 272.8, 282. , 291.2, 300.4, 309.6, 318.8, 328. ,\n",
              "        337.2, 346.4, 355.6, 364.8, 374. ]),\n",
              " <a list of 40 Patch objects>)"
            ]
          },
          "metadata": {},
          "execution_count": 69
        },
        {
          "output_type": "display_data",
          "data": {
            "text/plain": [
              "<Figure size 432x288 with 1 Axes>"
            ],
            "image/png": "[encoded data removed]"
          },
          "metadata": {
            "needs_background": "light"
          }
        }
      ]
    },
    {
      "cell_type": "code",
      "source": [
        "output_seq_len = int(np.percentile(char_len, 95))\n",
        "output_seq_len"
      ],
      "metadata": {
        "colab": {
          "base_uri": "https://localhost:8080/"
        },
        "id": "YajFGvXxWG7t",
        "outputId": "dcb8069e-d18c-4cea-f37d-73293dd30281"
      },
      "execution_count": 70,
      "outputs": [
        {
          "output_type": "execute_result",
          "data": {
            "text/plain": [
              "136"
            ]
          },
          "metadata": {},
          "execution_count": 70
        }
      ]
    },
    {
      "cell_type": "code",
      "source": [
        "import string\n",
        "\n",
        "alphabet = string.ascii_lowercase + string.digits + string.punctuation\n",
        "alphabet"
      ],
      "metadata": {
        "colab": {
          "base_uri": "https://localhost:8080/",
          "height": 35
        },
        "id": "l3l0aNUZY6hK",
        "outputId": "17e6a752-fc79-4126-f83f-7a8d13323acf"
      },
      "execution_count": 71,
      "outputs": [
        {
          "output_type": "execute_result",
          "data": {
            "text/plain": [
              "'abcdefghijklmnopqrstuvwxyz0123456789!\"#$%&\\'()*+,-./:;<=>?@[\\\\]^_`{|}~'"
            ],
            "application/vnd.google.colaboratory.intrinsic+json": {
              "type": "string"
            }
          },
          "metadata": {},
          "execution_count": 71
        }
      ]
    },
    {
      "cell_type": "code",
      "source": [
        "# Create Char lvl token vectorizer instance\n",
        "\n",
        "NUM_CHAR_TOKEN = len(alphabet) + 2\n",
        "char_vectorizer = tf.keras.layers.TextVectorization(max_tokens = NUM_CHAR_TOKEN,\n",
        "                                                    output_sequence_length = output_seq_len,\n",
        "                                                    name = 'char_vectorizer')"
      ],
      "metadata": {
        "id": "qCNAB_haZJah"
      },
      "execution_count": 72,
      "outputs": []
    },
    {
      "cell_type": "code",
      "source": [
        "char_vectorizer.adapt(train_char)"
      ],
      "metadata": {
        "id": "GHCAn67KbuDP"
      },
      "execution_count": 73,
      "outputs": []
    },
    {
      "cell_type": "code",
      "source": [
        "# Check char vocab stats\n",
        "\n",
        "char_vocab = char_vectorizer.get_vocabulary()\n",
        "print(f'Num of diff char {len(char_vocab)}')\n",
        "print(f'5 most common char {char_vocab[:5]}')\n",
        "print(f'5 least commom char {char_vocab[-5:]}')"
      ],
      "metadata": {
        "colab": {
          "base_uri": "https://localhost:8080/"
        },
        "id": "CLaYwW6Xb3R3",
        "outputId": "5c90510a-ad98-4e96-ce0f-501915135f0f"
      },
      "execution_count": 74,
      "outputs": [
        {
          "output_type": "stream",
          "name": "stdout",
          "text": [
            "Num of diff char 70\n",
            "5 most common char ['', '[UNK]', 'e', 't', 'o']\n",
            "5 least commom char ['¼', '\\x83', '¡', '±', '\\x84']\n"
          ]
        }
      ]
    },
    {
      "cell_type": "code",
      "source": [
        "random_train_chars = random.choice(train_char)\n",
        "print(f'Charified text: {random_train_chars}\\n')\n",
        "print(f'Len of rnaodm_train_char: {len(random_train_chars.split())}')\n",
        "vectorized_char = char_vectorizer([random_train_chars])\n",
        "print(f'Vectorized chars:\\n {vectorized_char}')\n",
        "print(f'Len of vectorized chars:{len(vectorized_char[0])}')"
      ],
      "metadata": {
        "colab": {
          "base_uri": "https://localhost:8080/"
        },
        "id": "9m1YR1iJedRS",
        "outputId": "0ec88c1b-2624-4e64-d6ca-1c7039f6a7b5"
      },
      "execution_count": 75,
      "outputs": [
        {
          "output_type": "stream",
          "name": "stdout",
          "text": [
            "Charified text: @ t s z c h e e t a h   c a n t   i n s t a l l   i t  \n",
            "\n",
            "Len of rnaodm_train_char: 24\n",
            "Vectorized chars:\n",
            " [[ 3  8 26 18 10  2  2  3  5 10 18  5  7  3  6  7  8  3  5 11 11  6  3  0\n",
            "   0  0  0  0  0  0  0  0  0  0  0  0  0  0  0  0  0  0  0  0  0  0  0  0\n",
            "   0  0  0  0  0  0  0  0  0  0  0  0  0  0  0  0  0  0  0  0  0  0  0  0\n",
            "   0  0  0  0  0  0  0  0  0  0  0  0  0  0  0  0  0  0  0  0  0  0  0  0\n",
            "   0  0  0  0  0  0  0  0  0  0  0  0  0  0  0  0  0  0  0  0  0  0  0  0\n",
            "   0  0  0  0  0  0  0  0  0  0  0  0  0  0  0  0]]\n",
            "Len of vectorized chars:136\n"
          ]
        }
      ]
    },
    {
      "cell_type": "code",
      "source": [
        "# Create a char lvl embedding\n",
        "\n",
        "char_embed = layers.Embedding(input_dim = len(char_vocab),\n",
        "                              output_dim = 20,\n",
        "                              mask_zero = True,\n",
        "                              name = 'char_embed')"
      ],
      "metadata": {
        "id": "GLj3Kj02eto7"
      },
      "execution_count": 76,
      "outputs": []
    },
    {
      "cell_type": "code",
      "source": [
        "print(f'Charified text: {random_train_chars}\\n')\n",
        "embeded_char = char_embed(char_vectorizer([random_train_chars]))\n",
        "print(f'Embeded Char : {embeded_char}\\n')\n",
        "print(f'Embeded Char Shape : {embeded_char.shape}')"
      ],
      "metadata": {
        "colab": {
          "base_uri": "https://localhost:8080/"
        },
        "id": "rm73e4p0833L",
        "outputId": "50b02cb4-ab3e-417b-9017-93d7adcb3859"
      },
      "execution_count": 77,
      "outputs": [
        {
          "output_type": "stream",
          "name": "stdout",
          "text": [
            "Charified text: @ t s z c h e e t a h   c a n t   i n s t a l l   i t  \n",
            "\n",
            "Embeded Char : [[[-0.03565852  0.00031142 -0.00142459 ... -0.00221638 -0.02614617\n",
            "    0.02116254]\n",
            "  [-0.00274616  0.01859485  0.00936334 ... -0.00472704 -0.04521214\n",
            "   -0.00512213]\n",
            "  [ 0.04342946 -0.00545766  0.00287702 ...  0.00455112  0.00175058\n",
            "   -0.0059166 ]\n",
            "  ...\n",
            "  [ 0.02827984  0.04362451  0.01101021 ... -0.0189698  -0.04227493\n",
            "   -0.00734507]\n",
            "  [ 0.02827984  0.04362451  0.01101021 ... -0.0189698  -0.04227493\n",
            "   -0.00734507]\n",
            "  [ 0.02827984  0.04362451  0.01101021 ... -0.0189698  -0.04227493\n",
            "   -0.00734507]]]\n",
            "\n",
            "Embeded Char Shape : (1, 136, 20)\n"
          ]
        }
      ]
    },
    {
      "cell_type": "code",
      "source": [
        "train_char_dataset = tf.data.Dataset.from_tensor_slices((train_chars, train_labels_one_hot)).batch(32).prefetch(tf.data.AUTOTUNE)\n",
        "val_char_dataset = tf.data.Dataset.from_tensor_slices((val_chars, val_labels_one_hot)).batch(32).prefetch(tf.data.AUTOTUNE)\n",
        "test_char_dataset = tf.data.Dataset.from_tensor_slices((test_chars, test_labels_one_hot)).batch(32).prefetch(tf.data.AUTOTUNE)"
      ],
      "metadata": {
        "id": "JGmNfIYt9x0c"
      },
      "execution_count": 88,
      "outputs": []
    },
    {
      "cell_type": "code",
      "source": [
        "# Create the model_3\n",
        "\n",
        "inputs = layers.Input(shape = (1,), dtype = tf.string)\n",
        "char_vectors = char_vectorizer(inputs)\n",
        "char_embeds = char_embed(char_vectors)\n",
        "x = layers.Conv1D(64, kernel_size = 3, padding = 'same', activation = 'relu')(char_embeds)\n",
        "x = layers.GlobalMaxPooling1D()(x)\n",
        "outputs = layers.Dense(1, activation = 'sigmoid')(x)\n",
        "model_3 = tf.keras.Model(inputs, outputs)\n",
        "\n",
        "# Compile the model\n",
        "model_3.compile(loss = 'binary_crossentropy',\n",
        "                optimizer = \"Adam\",\n",
        "                metrics = ['accuracy'])\n",
        "\n",
        "# Fit the model\n",
        "\n",
        "model_3_history = model_3.fit(train_char_dataset,\n",
        "                              steps_per_epoch = int(0.1 * len(train_char_dataset)),\n",
        "                              epochs = 3,\n",
        "                              validation_data = val_char_dataset,\n",
        "                              validation_steps = int(0.1 * len(val_char_dataset)))"
      ],
      "metadata": {
        "id": "oPEc1Yr-9WjE",
        "colab": {
          "base_uri": "https://localhost:8080/"
        },
        "outputId": "530c56b1-d59d-4c03-eaa9-d69c01abfcfd"
      },
      "execution_count": 96,
      "outputs": [
        {
          "output_type": "stream",
          "name": "stdout",
          "text": [
            "Epoch 1/3\n",
            "3612/3612 [==============================] - 36s 9ms/step - loss: 0.6182 - accuracy: 0.6512 - val_loss: 0.5804 - val_accuracy: 0.6951\n",
            "Epoch 2/3\n",
            "3612/3612 [==============================] - 21s 6ms/step - loss: 0.5688 - accuracy: 0.7029 - val_loss: 0.5624 - val_accuracy: 0.7062\n",
            "Epoch 3/3\n",
            "3612/3612 [==============================] - 18s 5ms/step - loss: 0.5604 - accuracy: 0.7100 - val_loss: 0.5548 - val_accuracy: 0.7127\n"
          ]
        }
      ]
    },
    {
      "cell_type": "code",
      "source": [
        "model_3.evaluate(val_char_dataset)"
      ],
      "metadata": {
        "colab": {
          "base_uri": "https://localhost:8080/"
        },
        "id": "inbmj02__u5y",
        "outputId": "ea4db55c-4520-49db-953d-9c430b949f5d"
      },
      "execution_count": 97,
      "outputs": [
        {
          "output_type": "stream",
          "name": "stdout",
          "text": [
            "6375/6375 [==============================] - 19s 3ms/step - loss: 0.5552 - accuracy: 0.7148\n"
          ]
        },
        {
          "output_type": "execute_result",
          "data": {
            "text/plain": [
              "[0.5552313327789307, 0.7147940993309021]"
            ]
          },
          "metadata": {},
          "execution_count": 97
        }
      ]
    },
    {
      "cell_type": "code",
      "source": [
        "model_3_pred_probs = model_3.predict(val_char_dataset)"
      ],
      "metadata": {
        "id": "eEH7UD_t_Efr"
      },
      "execution_count": 98,
      "outputs": []
    },
    {
      "cell_type": "code",
      "source": [
        "model_3_preds = np.round(model_3_pred_probs)"
      ],
      "metadata": {
        "id": "0OxjPsQ3A4rQ"
      },
      "execution_count": 99,
      "outputs": []
    },
    {
      "cell_type": "code",
      "source": [
        "model_3_results = calculate_results(y_true = tf.one_hot(val_labels, depth = 1),\n",
        "                                    y_pred = model_3_preds)"
      ],
      "metadata": {
        "id": "bbflPpkJBDen"
      },
      "execution_count": 100,
      "outputs": []
    },
    {
      "cell_type": "code",
      "source": [
        "RESULTS['model_3'] = model_3_results"
      ],
      "metadata": {
        "id": "8n5hQyKaBSFj"
      },
      "execution_count": 101,
      "outputs": []
    },
    {
      "cell_type": "code",
      "source": [
        "RESULTS"
      ],
      "metadata": {
        "colab": {
          "base_uri": "https://localhost:8080/"
        },
        "id": "B5tFDYVpBai4",
        "outputId": "c2e9d034-8a90-4839-ce52-381ac23c2e85"
      },
      "execution_count": 102,
      "outputs": [
        {
          "output_type": "execute_result",
          "data": {
            "text/plain": [
              "{'model_0': {'accuracy': 77.05245098039217,\n",
              "  'precision': 0.7728593367513529,\n",
              "  'recall': 0.7705245098039216,\n",
              "  'f1': 0.7700319671555375},\n",
              " 'model_1': {'accuracy': 79.60392156862746,\n",
              "  'precision': 0.7968518115815529,\n",
              "  'recall': 0.7960392156862746,\n",
              "  'f1': 0.7958992594625836},\n",
              " 'model_2': {'accuracy': 78.95686274509805,\n",
              "  'precision': 0.7903473928229957,\n",
              "  'recall': 0.7895686274509804,\n",
              "  'f1': 0.7894271376446821},\n",
              " 'model_3': {'accuracy': 71.47941176470589,\n",
              "  'precision': 0.7164804946255551,\n",
              "  'recall': 0.7147941176470588,\n",
              "  'f1': 0.7142384161504509}}"
            ]
          },
          "metadata": {},
          "execution_count": 102
        }
      ]
    },
    {
      "cell_type": "markdown",
      "source": [
        "## Model_4 (Hybrid)"
      ],
      "metadata": {
        "id": "92xuIkaYBw-4"
      }
    },
    {
      "cell_type": "code",
      "source": [
        "# Create token model\n",
        "token_inputs = layers.Input(shape = [], dtype = tf.string)\n",
        "token_embeds = hub_embedding_layer(token_inputs)\n",
        "token_outputs = layers.Dense(1, activation = 'relu')(token_embeds)\n",
        "token_model = tf.keras.Model(token_inputs, token_outputs)\n",
        "\n",
        "# Create char model\n",
        "\n",
        "char_inputs = layers.Input(shape = (1,), dtype = tf.string )\n",
        "char_vectors = char_vectorizer(char_inputs)\n",
        "char_embeds = char_embed(char_vectors)\n",
        "char_bi_lstm = layers.Bidirectional(layers.LSTM(32))(char_embeds)\n",
        "char_model =  tf.keras.Model(char_inputs, char_bi_lstm)\n",
        "\n",
        "# Concatenate token and char\n",
        "\n",
        "token_char_concat = layers.Concatenate()([token_model.output,\n",
        "                                          char_model.output])\n",
        "\n",
        "# Add output layer\n",
        "\n",
        "combined_dropout = layers.Dropout(0.5)(token_char_concat)\n",
        "combined_dense = layers.Dense(128, activation = 'relu')(combined_dropout)\n",
        "combined_dropout_2 = layers.Dropout(0.5)(combined_dense)\n",
        "output_layer = layers.Dense(1, activation = 'sigmoid')(combined_dropout_2)\n",
        "\n",
        "# Construct model\n",
        "\n",
        "model_4 = tf.keras.Model(inputs = (token_model.input, char_model.input),\n",
        "                         outputs = output_layer,\n",
        "                         name = 'model_4_token_char')"
      ],
      "metadata": {
        "id": "6-qdB0FRI9RK"
      },
      "execution_count": 104,
      "outputs": []
    },
    {
      "cell_type": "code",
      "source": [
        "# Compile the model\n",
        "\n",
        "model_4.compile(loss = 'binary_crossentropy',\n",
        "                optimizer = 'Adam',\n",
        "                metrics = ['accuracy'])"
      ],
      "metadata": {
        "id": "BH3b2JEf5qOf"
      },
      "execution_count": 105,
      "outputs": []
    },
    {
      "cell_type": "code",
      "source": [
        "# Create hybrid datasets for our hybrid model\n",
        "\n",
        "train_char_token_sents = tf.data.Dataset.from_tensor_slices((train_sentences, train_chars))\n",
        "train_char_token_labels = tf.data.Dataset.from_tensor_slices((train_labels_one_hot))\n",
        "train_char_token_dataset = tf.data.Dataset.zip((train_char_token_sents, train_char_token_labels)).batch(32).prefetch(tf.data.AUTOTUNE)\n",
        "\n",
        "val_char_token_sents = tf.data.Dataset.from_tensor_slices((val_sentences, val_chars))\n",
        "val_char_token_labels = tf.data.Dataset.from_tensor_slices((val_labels_one_hot))\n",
        "val_char_token_dataset = tf.data.Dataset.zip((val_char_token_sents, val_char_token_labels)).batch(32).prefetch(tf.data.AUTOTUNE)"
      ],
      "metadata": {
        "id": "X7f4eJwO9Zd6"
      },
      "execution_count": 108,
      "outputs": []
    },
    {
      "cell_type": "code",
      "source": [
        "# Fit the model\n",
        "\n",
        "model_4.fit(train_char_token_dataset,\n",
        "            epochs = 3,\n",
        "            steps_per_epoch = int(0.1 * len(train_char_token_dataset)),\n",
        "            validation_data = val_char_token_dataset,\n",
        "            validation_steps = int(0.1 * len(val_char_token_dataset)))"
      ],
      "metadata": {
        "colab": {
          "base_uri": "https://localhost:8080/"
        },
        "id": "DEx79-lABUcY",
        "outputId": "c3ddb737-9f5c-443a-81d0-4edc3e1eb63f"
      },
      "execution_count": null,
      "outputs": [
        {
          "output_type": "stream",
          "name": "stdout",
          "text": [
            "Epoch 1/3\n",
            "3612/3612 [==============================] - 119s 31ms/step - loss: 0.6170 - accuracy: 0.6457 - val_loss: 0.5562 - val_accuracy: 0.7358\n",
            "Epoch 2/3\n",
            "1982/3612 [===============>..............] - ETA: 42s - loss: 0.5839 - accuracy: 0.6865"
          ]
        }
      ]
    },
    {
      "cell_type": "code",
      "source": [],
      "metadata": {
        "id": "OdPoDxRFCWPn"
      },
      "execution_count": null,
      "outputs": []
    }
  ]
}