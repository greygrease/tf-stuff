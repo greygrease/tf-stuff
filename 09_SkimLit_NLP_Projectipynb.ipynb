{
  "nbformat": 4,
  "nbformat_minor": 0,
  "metadata": {
    "colab": {
      "provenance": [],
      "authorship_tag": "ABX9TyNcZ8oDBSnQCeWvEi/nKlDp",
      "include_colab_link": true
    },
    "kernelspec": {
      "name": "python3",
      "display_name": "Python 3"
    },
    "language_info": {
      "name": "python"
    },
    "accelerator": "GPU"
  },
  "cells": [
    {
      "cell_type": "markdown",
      "metadata": {
        "id": "view-in-github",
        "colab_type": "text"
      },
      "source": [
        "<a href=\"https://colab.research.google.com/github/greygrease/tf-stuff/blob/main/09_SkimLit_NLP_Projectipynb.ipynb\" target=\"_parent\"><img src=\"https://colab.research.google.com/assets/colab-badge.svg\" alt=\"Open In Colab\"/></a>"
      ]
    },
    {
      "cell_type": "markdown",
      "source": [
        "# Milestone Project 2: SkimLit\n",
        "\n",
        "NLP model to make medical abstracts reading easier\n",
        "\n",
        "https://arxiv.org/abs/1710.06071 [NN for joint sentence classification]\n",
        "\n",
        "https://arxiv.org/abs/1612.05251 [PubMed 200k RCT]"
      ],
      "metadata": {
        "id": "bJWf5vIVAoGZ"
      }
    },
    {
      "cell_type": "code",
      "source": [
        "!nvidia-smi"
      ],
      "metadata": {
        "colab": {
          "base_uri": "https://localhost:8080/"
        },
        "id": "506u99dgZAIg",
        "outputId": "7d981ce5-87a8-4680-c3c7-c865f4afa5b2"
      },
      "execution_count": 1,
      "outputs": [
        {
          "output_type": "stream",
          "name": "stdout",
          "text": [
            "Wed Sep 21 17:23:41 2022       \n",
            "+-----------------------------------------------------------------------------+\n",
            "| NVIDIA-SMI 460.32.03    Driver Version: 460.32.03    CUDA Version: 11.2     |\n",
            "|-------------------------------+----------------------+----------------------+\n",
            "| GPU  Name        Persistence-M| Bus-Id        Disp.A | Volatile Uncorr. ECC |\n",
            "| Fan  Temp  Perf  Pwr:Usage/Cap|         Memory-Usage | GPU-Util  Compute M. |\n",
            "|                               |                      |               MIG M. |\n",
            "|===============================+======================+======================|\n",
            "|   0  Tesla T4            Off  | 00000000:00:04.0 Off |                    0 |\n",
            "| N/A   61C    P8    10W /  70W |      0MiB / 15109MiB |      0%      Default |\n",
            "|                               |                      |                  N/A |\n",
            "+-------------------------------+----------------------+----------------------+\n",
            "                                                                               \n",
            "+-----------------------------------------------------------------------------+\n",
            "| Processes:                                                                  |\n",
            "|  GPU   GI   CI        PID   Type   Process name                  GPU Memory |\n",
            "|        ID   ID                                                   Usage      |\n",
            "|=============================================================================|\n",
            "|  No running processes found                                                 |\n",
            "+-----------------------------------------------------------------------------+\n"
          ]
        }
      ]
    },
    {
      "cell_type": "markdown",
      "source": [
        "## Get data\n",
        "\n",
        "Download the dataset used in Pubmed https://github.com/Franck-Dernoncourt/pubmed-rct"
      ],
      "metadata": {
        "id": "baNMaI6JZB84"
      }
    },
    {
      "cell_type": "code",
      "source": [
        "!git clone https://github.com/Franck-Dernoncourt/pubmed-rct\n",
        "!ls pubmed-rct"
      ],
      "metadata": {
        "colab": {
          "base_uri": "https://localhost:8080/"
        },
        "id": "KRcc7HmmZtDb",
        "outputId": "d2199e6a-8a90-487a-cae8-51a0fae041a3"
      },
      "execution_count": 2,
      "outputs": [
        {
          "output_type": "stream",
          "name": "stdout",
          "text": [
            "Cloning into 'pubmed-rct'...\n",
            "remote: Enumerating objects: 33, done.\u001b[K\n",
            "remote: Counting objects: 100% (8/8), done.\u001b[K\n",
            "remote: Compressing objects: 100% (3/3), done.\u001b[K\n",
            "remote: Total 33 (delta 5), reused 5 (delta 5), pack-reused 25\u001b[K\n",
            "Unpacking objects: 100% (33/33), done.\n",
            "PubMed_200k_RCT\n",
            "PubMed_200k_RCT_numbers_replaced_with_at_sign\n",
            "PubMed_20k_RCT\n",
            "PubMed_20k_RCT_numbers_replaced_with_at_sign\n",
            "README.md\n"
          ]
        }
      ]
    },
    {
      "cell_type": "code",
      "source": [
        "# Check what files are in the PubMed_20k dataset\n",
        "!ls pubmed-rct/PubMed_20k_RCT_numbers_replaced_with_at_sign/"
      ],
      "metadata": {
        "colab": {
          "base_uri": "https://localhost:8080/"
        },
        "id": "8TfaaevdZwq3",
        "outputId": "52b44ea4-ee7d-492a-dae6-eda0456f968c"
      },
      "execution_count": 3,
      "outputs": [
        {
          "output_type": "stream",
          "name": "stdout",
          "text": [
            "dev.txt  test.txt  train.txt\n"
          ]
        }
      ]
    },
    {
      "cell_type": "code",
      "source": [
        "data_dir = '/content/pubmed-rct/PubMed_20k_RCT_numbers_replaced_with_at_sign/'\n",
        "\n",
        "import os\n",
        "filenames = [data_dir + filename for filename in os.listdir(data_dir)]\n",
        "filenames"
      ],
      "metadata": {
        "colab": {
          "base_uri": "https://localhost:8080/"
        },
        "id": "1OZadq0Baa0v",
        "outputId": "b18f2237-5a9e-4c35-8a89-3c61aa6d5829"
      },
      "execution_count": 4,
      "outputs": [
        {
          "output_type": "execute_result",
          "data": {
            "text/plain": [
              "['/content/pubmed-rct/PubMed_20k_RCT_numbers_replaced_with_at_sign/test.txt',\n",
              " '/content/pubmed-rct/PubMed_20k_RCT_numbers_replaced_with_at_sign/dev.txt',\n",
              " '/content/pubmed-rct/PubMed_20k_RCT_numbers_replaced_with_at_sign/train.txt']"
            ]
          },
          "metadata": {},
          "execution_count": 4
        }
      ]
    },
    {
      "cell_type": "markdown",
      "source": [
        "## Preprocess Data\n"
      ],
      "metadata": {
        "id": "BonKFJ3wcCMY"
      }
    },
    {
      "cell_type": "code",
      "source": [
        "# Create func to read the lines of a document\n",
        "\n",
        "def getlines(filename):\n",
        "  with open(filename, 'r') as f:\n",
        "    return f.readlines()"
      ],
      "metadata": {
        "id": "vccwFC0LcZ57"
      },
      "execution_count": 5,
      "outputs": []
    },
    {
      "cell_type": "code",
      "source": [
        "# Reading Training lines\n",
        "train_lines = getlines(data_dir + 'train.txt')\n",
        "train_lines[:20]"
      ],
      "metadata": {
        "colab": {
          "base_uri": "https://localhost:8080/"
        },
        "id": "G7lfavgecf2H",
        "outputId": "579d91dc-0857-4efb-b43a-1876affbc7f1"
      },
      "execution_count": 6,
      "outputs": [
        {
          "output_type": "execute_result",
          "data": {
            "text/plain": [
              "['###24293578\\n',\n",
              " 'OBJECTIVE\\tTo investigate the efficacy of @ weeks of daily low-dose oral prednisolone in improving pain , mobility , and systemic low-grade inflammation in the short term and whether the effect would be sustained at @ weeks in older adults with moderate to severe knee osteoarthritis ( OA ) .\\n',\n",
              " 'METHODS\\tA total of @ patients with primary knee OA were randomized @:@ ; @ received @ mg/day of prednisolone and @ received placebo for @ weeks .\\n',\n",
              " 'METHODS\\tOutcome measures included pain reduction and improvement in function scores and systemic inflammation markers .\\n',\n",
              " 'METHODS\\tPain was assessed using the visual analog pain scale ( @-@ mm ) .\\n',\n",
              " 'METHODS\\tSecondary outcome measures included the Western Ontario and McMaster Universities Osteoarthritis Index scores , patient global assessment ( PGA ) of the severity of knee OA , and @-min walk distance ( @MWD ) .\\n',\n",
              " 'METHODS\\tSerum levels of interleukin @ ( IL-@ ) , IL-@ , tumor necrosis factor ( TNF ) - , and high-sensitivity C-reactive protein ( hsCRP ) were measured .\\n',\n",
              " 'RESULTS\\tThere was a clinically relevant reduction in the intervention group compared to the placebo group for knee pain , physical function , PGA , and @MWD at @ weeks .\\n',\n",
              " 'RESULTS\\tThe mean difference between treatment arms ( @ % CI ) was @ ( @-@ @ ) , p < @ ; @ ( @-@ @ ) , p < @ ; @ ( @-@ @ ) , p < @ ; and @ ( @-@ @ ) , p < @ , respectively .\\n',\n",
              " 'RESULTS\\tFurther , there was a clinically relevant reduction in the serum levels of IL-@ , IL-@ , TNF - , and hsCRP at @ weeks in the intervention group when compared to the placebo group .\\n',\n",
              " 'RESULTS\\tThese differences remained significant at @ weeks .\\n',\n",
              " 'RESULTS\\tThe Outcome Measures in Rheumatology Clinical Trials-Osteoarthritis Research Society International responder rate was @ % in the intervention group and @ % in the placebo group ( p < @ ) .\\n',\n",
              " 'CONCLUSIONS\\tLow-dose oral prednisolone had both a short-term and a longer sustained effect resulting in less knee pain , better physical function , and attenuation of systemic inflammation in older patients with knee OA ( ClinicalTrials.gov identifier NCT@ ) .\\n',\n",
              " '\\n',\n",
              " '###24854809\\n',\n",
              " 'BACKGROUND\\tEmotional eating is associated with overeating and the development of obesity .\\n',\n",
              " 'BACKGROUND\\tYet , empirical evidence for individual ( trait ) differences in emotional eating and cognitive mechanisms that contribute to eating during sad mood remain equivocal .\\n',\n",
              " 'OBJECTIVE\\tThe aim of this study was to test if attention bias for food moderates the effect of self-reported emotional eating during sad mood ( vs neutral mood ) on actual food intake .\\n',\n",
              " 'OBJECTIVE\\tIt was expected that emotional eating is predictive of elevated attention for food and higher food intake after an experimentally induced sad mood and that attentional maintenance on food predicts food intake during a sad versus a neutral mood .\\n',\n",
              " 'METHODS\\tParticipants ( N = @ ) were randomly assigned to one of the two experimental mood induction conditions ( sad/neutral ) .\\n']"
            ]
          },
          "metadata": {},
          "execution_count": 6
        }
      ]
    },
    {
      "cell_type": "code",
      "source": [
        "def preprocess_text_with_line_numbers(filename):\n",
        "  input_lines = getlines(filename)\n",
        "  abstract_lines = ''\n",
        "  abstract_samples = []\n",
        "\n",
        "  for line in input_lines:\n",
        "    if line.startswith('###'):\n",
        "      abstract_id = line\n",
        "      abstract_lines = ''\n",
        "    elif line.isspace():\n",
        "      abstract_line_split = abstract_lines.splitlines()\n",
        "\n",
        "      # Iterate through each line in a single abstract \n",
        "      for abstract_line_number, abstract_line in enumerate(abstract_line_split):\n",
        "        line_data = {}\n",
        "        target_text_split = abstract_line.split('\\t')\n",
        "        line_data['target'] = target_text_split[0]\n",
        "        line_data['text'] = target_text_split[1].lower()\n",
        "        line_data['line number'] = abstract_line_number\n",
        "        line_data['total_lines'] = len(abstract_line_split) - 1\n",
        "        abstract_samples.append(line_data)\n",
        "\n",
        "    else:\n",
        "      abstract_lines += line\n",
        "  return abstract_samples"
      ],
      "metadata": {
        "id": "EqkJwSpdrOoI"
      },
      "execution_count": 7,
      "outputs": []
    },
    {
      "cell_type": "code",
      "source": [
        "train_samples = preprocess_text_with_line_numbers(data_dir + 'train.txt')\n",
        "val_samples = preprocess_text_with_line_numbers(data_dir + 'dev.txt')\n",
        "test_samples = preprocess_text_with_line_numbers(data_dir + 'test.txt')\n",
        "\n",
        "print(len(train_samples), len(val_samples), len(test_samples))"
      ],
      "metadata": {
        "id": "IVCqXIQptOd2",
        "colab": {
          "base_uri": "https://localhost:8080/"
        },
        "outputId": "6fb3736a-369b-4935-d278-1d2af6bb8270"
      },
      "execution_count": 8,
      "outputs": [
        {
          "output_type": "stream",
          "name": "stdout",
          "text": [
            "180040 30212 30135\n"
          ]
        }
      ]
    },
    {
      "cell_type": "code",
      "source": [
        "train_samples[:10]"
      ],
      "metadata": {
        "id": "eS1UXBt_y2NE",
        "colab": {
          "base_uri": "https://localhost:8080/"
        },
        "outputId": "5a546188-69f7-4c16-b0e0-69b0d6109734"
      },
      "execution_count": 9,
      "outputs": [
        {
          "output_type": "execute_result",
          "data": {
            "text/plain": [
              "[{'target': 'OBJECTIVE',\n",
              "  'text': 'to investigate the efficacy of @ weeks of daily low-dose oral prednisolone in improving pain , mobility , and systemic low-grade inflammation in the short term and whether the effect would be sustained at @ weeks in older adults with moderate to severe knee osteoarthritis ( oa ) .',\n",
              "  'line number': 0,\n",
              "  'total_lines': 11},\n",
              " {'target': 'METHODS',\n",
              "  'text': 'a total of @ patients with primary knee oa were randomized @:@ ; @ received @ mg/day of prednisolone and @ received placebo for @ weeks .',\n",
              "  'line number': 1,\n",
              "  'total_lines': 11},\n",
              " {'target': 'METHODS',\n",
              "  'text': 'outcome measures included pain reduction and improvement in function scores and systemic inflammation markers .',\n",
              "  'line number': 2,\n",
              "  'total_lines': 11},\n",
              " {'target': 'METHODS',\n",
              "  'text': 'pain was assessed using the visual analog pain scale ( @-@ mm ) .',\n",
              "  'line number': 3,\n",
              "  'total_lines': 11},\n",
              " {'target': 'METHODS',\n",
              "  'text': 'secondary outcome measures included the western ontario and mcmaster universities osteoarthritis index scores , patient global assessment ( pga ) of the severity of knee oa , and @-min walk distance ( @mwd ) .',\n",
              "  'line number': 4,\n",
              "  'total_lines': 11},\n",
              " {'target': 'METHODS',\n",
              "  'text': 'serum levels of interleukin @ ( il-@ ) , il-@ , tumor necrosis factor ( tnf ) - , and high-sensitivity c-reactive protein ( hscrp ) were measured .',\n",
              "  'line number': 5,\n",
              "  'total_lines': 11},\n",
              " {'target': 'RESULTS',\n",
              "  'text': 'there was a clinically relevant reduction in the intervention group compared to the placebo group for knee pain , physical function , pga , and @mwd at @ weeks .',\n",
              "  'line number': 6,\n",
              "  'total_lines': 11},\n",
              " {'target': 'RESULTS',\n",
              "  'text': 'the mean difference between treatment arms ( @ % ci ) was @ ( @-@ @ ) , p < @ ; @ ( @-@ @ ) , p < @ ; @ ( @-@ @ ) , p < @ ; and @ ( @-@ @ ) , p < @ , respectively .',\n",
              "  'line number': 7,\n",
              "  'total_lines': 11},\n",
              " {'target': 'RESULTS',\n",
              "  'text': 'further , there was a clinically relevant reduction in the serum levels of il-@ , il-@ , tnf - , and hscrp at @ weeks in the intervention group when compared to the placebo group .',\n",
              "  'line number': 8,\n",
              "  'total_lines': 11},\n",
              " {'target': 'RESULTS',\n",
              "  'text': 'these differences remained significant at @ weeks .',\n",
              "  'line number': 9,\n",
              "  'total_lines': 11}]"
            ]
          },
          "metadata": {},
          "execution_count": 9
        }
      ]
    },
    {
      "cell_type": "code",
      "source": [
        "import pandas as pd\n",
        "train_df = pd.DataFrame(train_samples)\n",
        "val_df = pd.DataFrame(val_samples)\n",
        "test_df = pd.DataFrame(test_samples)"
      ],
      "metadata": {
        "id": "wjJXYwo8XHZl"
      },
      "execution_count": 10,
      "outputs": []
    },
    {
      "cell_type": "code",
      "source": [
        "train_df.head(12)"
      ],
      "metadata": {
        "colab": {
          "base_uri": "https://localhost:8080/",
          "height": 643
        },
        "id": "BdJ6Jevy1woL",
        "outputId": "cb400c0b-af59-4e2b-aff7-0927cab91988"
      },
      "execution_count": 11,
      "outputs": [
        {
          "output_type": "execute_result",
          "data": {
            "text/plain": [
              "         target                                               text  \\\n",
              "0     OBJECTIVE  to investigate the efficacy of @ weeks of dail...   \n",
              "1       METHODS  a total of @ patients with primary knee oa wer...   \n",
              "2       METHODS  outcome measures included pain reduction and i...   \n",
              "3       METHODS  pain was assessed using the visual analog pain...   \n",
              "4       METHODS  secondary outcome measures included the wester...   \n",
              "5       METHODS  serum levels of interleukin @ ( il-@ ) , il-@ ...   \n",
              "6       RESULTS  there was a clinically relevant reduction in t...   \n",
              "7       RESULTS  the mean difference between treatment arms ( @...   \n",
              "8       RESULTS  further , there was a clinically relevant redu...   \n",
              "9       RESULTS  these differences remained significant at @ we...   \n",
              "10      RESULTS  the outcome measures in rheumatology clinical ...   \n",
              "11  CONCLUSIONS  low-dose oral prednisolone had both a short-te...   \n",
              "\n",
              "    line number  total_lines  \n",
              "0             0           11  \n",
              "1             1           11  \n",
              "2             2           11  \n",
              "3             3           11  \n",
              "4             4           11  \n",
              "5             5           11  \n",
              "6             6           11  \n",
              "7             7           11  \n",
              "8             8           11  \n",
              "9             9           11  \n",
              "10           10           11  \n",
              "11           11           11  "
            ],
            "text/html": [
              "\n",
              "  <div id=\"df-cd5160e1-b9d0-448d-8d47-a15af3a59c6f\">\n",
              "    <div class=\"colab-df-container\">\n",
              "      <div>\n",
              "<style scoped>\n",
              "    .dataframe tbody tr th:only-of-type {\n",
              "        vertical-align: middle;\n",
              "    }\n",
              "\n",
              "    .dataframe tbody tr th {\n",
              "        vertical-align: top;\n",
              "    }\n",
              "\n",
              "    .dataframe thead th {\n",
              "        text-align: right;\n",
              "    }\n",
              "</style>\n",
              "<table border=\"1\" class=\"dataframe\">\n",
              "  <thead>\n",
              "    <tr style=\"text-align: right;\">\n",
              "      <th></th>\n",
              "      <th>target</th>\n",
              "      <th>text</th>\n",
              "      <th>line number</th>\n",
              "      <th>total_lines</th>\n",
              "    </tr>\n",
              "  </thead>\n",
              "  <tbody>\n",
              "    <tr>\n",
              "      <th>0</th>\n",
              "      <td>OBJECTIVE</td>\n",
              "      <td>to investigate the efficacy of @ weeks of dail...</td>\n",
              "      <td>0</td>\n",
              "      <td>11</td>\n",
              "    </tr>\n",
              "    <tr>\n",
              "      <th>1</th>\n",
              "      <td>METHODS</td>\n",
              "      <td>a total of @ patients with primary knee oa wer...</td>\n",
              "      <td>1</td>\n",
              "      <td>11</td>\n",
              "    </tr>\n",
              "    <tr>\n",
              "      <th>2</th>\n",
              "      <td>METHODS</td>\n",
              "      <td>outcome measures included pain reduction and i...</td>\n",
              "      <td>2</td>\n",
              "      <td>11</td>\n",
              "    </tr>\n",
              "    <tr>\n",
              "      <th>3</th>\n",
              "      <td>METHODS</td>\n",
              "      <td>pain was assessed using the visual analog pain...</td>\n",
              "      <td>3</td>\n",
              "      <td>11</td>\n",
              "    </tr>\n",
              "    <tr>\n",
              "      <th>4</th>\n",
              "      <td>METHODS</td>\n",
              "      <td>secondary outcome measures included the wester...</td>\n",
              "      <td>4</td>\n",
              "      <td>11</td>\n",
              "    </tr>\n",
              "    <tr>\n",
              "      <th>5</th>\n",
              "      <td>METHODS</td>\n",
              "      <td>serum levels of interleukin @ ( il-@ ) , il-@ ...</td>\n",
              "      <td>5</td>\n",
              "      <td>11</td>\n",
              "    </tr>\n",
              "    <tr>\n",
              "      <th>6</th>\n",
              "      <td>RESULTS</td>\n",
              "      <td>there was a clinically relevant reduction in t...</td>\n",
              "      <td>6</td>\n",
              "      <td>11</td>\n",
              "    </tr>\n",
              "    <tr>\n",
              "      <th>7</th>\n",
              "      <td>RESULTS</td>\n",
              "      <td>the mean difference between treatment arms ( @...</td>\n",
              "      <td>7</td>\n",
              "      <td>11</td>\n",
              "    </tr>\n",
              "    <tr>\n",
              "      <th>8</th>\n",
              "      <td>RESULTS</td>\n",
              "      <td>further , there was a clinically relevant redu...</td>\n",
              "      <td>8</td>\n",
              "      <td>11</td>\n",
              "    </tr>\n",
              "    <tr>\n",
              "      <th>9</th>\n",
              "      <td>RESULTS</td>\n",
              "      <td>these differences remained significant at @ we...</td>\n",
              "      <td>9</td>\n",
              "      <td>11</td>\n",
              "    </tr>\n",
              "    <tr>\n",
              "      <th>10</th>\n",
              "      <td>RESULTS</td>\n",
              "      <td>the outcome measures in rheumatology clinical ...</td>\n",
              "      <td>10</td>\n",
              "      <td>11</td>\n",
              "    </tr>\n",
              "    <tr>\n",
              "      <th>11</th>\n",
              "      <td>CONCLUSIONS</td>\n",
              "      <td>low-dose oral prednisolone had both a short-te...</td>\n",
              "      <td>11</td>\n",
              "      <td>11</td>\n",
              "    </tr>\n",
              "  </tbody>\n",
              "</table>\n",
              "</div>\n",
              "      <button class=\"colab-df-convert\" onclick=\"convertToInteractive('df-cd5160e1-b9d0-448d-8d47-a15af3a59c6f')\"\n",
              "              title=\"Convert this dataframe to an interactive table.\"\n",
              "              style=\"display:none;\">\n",
              "        \n",
              "  <svg xmlns=\"http://www.w3.org/2000/svg\" height=\"24px\"viewBox=\"0 0 24 24\"\n",
              "       width=\"24px\">\n",
              "    <path d=\"M0 0h24v24H0V0z\" fill=\"none\"/>\n",
              "    <path d=\"M18.56 5.44l.94 2.06.94-2.06 2.06-.94-2.06-.94-.94-2.06-.94 2.06-2.06.94zm-11 1L8.5 8.5l.94-2.06 2.06-.94-2.06-.94L8.5 2.5l-.94 2.06-2.06.94zm10 10l.94 2.06.94-2.06 2.06-.94-2.06-.94-.94-2.06-.94 2.06-2.06.94z\"/><path d=\"M17.41 7.96l-1.37-1.37c-.4-.4-.92-.59-1.43-.59-.52 0-1.04.2-1.43.59L10.3 9.45l-7.72 7.72c-.78.78-.78 2.05 0 2.83L4 21.41c.39.39.9.59 1.41.59.51 0 1.02-.2 1.41-.59l7.78-7.78 2.81-2.81c.8-.78.8-2.07 0-2.86zM5.41 20L4 18.59l7.72-7.72 1.47 1.35L5.41 20z\"/>\n",
              "  </svg>\n",
              "      </button>\n",
              "      \n",
              "  <style>\n",
              "    .colab-df-container {\n",
              "      display:flex;\n",
              "      flex-wrap:wrap;\n",
              "      gap: 12px;\n",
              "    }\n",
              "\n",
              "    .colab-df-convert {\n",
              "      background-color: #E8F0FE;\n",
              "      border: none;\n",
              "      border-radius: 50%;\n",
              "      cursor: pointer;\n",
              "      display: none;\n",
              "      fill: #1967D2;\n",
              "      height: 32px;\n",
              "      padding: 0 0 0 0;\n",
              "      width: 32px;\n",
              "    }\n",
              "\n",
              "    .colab-df-convert:hover {\n",
              "      background-color: #E2EBFA;\n",
              "      box-shadow: 0px 1px 2px rgba(60, 64, 67, 0.3), 0px 1px 3px 1px rgba(60, 64, 67, 0.15);\n",
              "      fill: #174EA6;\n",
              "    }\n",
              "\n",
              "    [theme=dark] .colab-df-convert {\n",
              "      background-color: #3B4455;\n",
              "      fill: #D2E3FC;\n",
              "    }\n",
              "\n",
              "    [theme=dark] .colab-df-convert:hover {\n",
              "      background-color: #434B5C;\n",
              "      box-shadow: 0px 1px 3px 1px rgba(0, 0, 0, 0.15);\n",
              "      filter: drop-shadow(0px 1px 2px rgba(0, 0, 0, 0.3));\n",
              "      fill: #FFFFFF;\n",
              "    }\n",
              "  </style>\n",
              "\n",
              "      <script>\n",
              "        const buttonEl =\n",
              "          document.querySelector('#df-cd5160e1-b9d0-448d-8d47-a15af3a59c6f button.colab-df-convert');\n",
              "        buttonEl.style.display =\n",
              "          google.colab.kernel.accessAllowed ? 'block' : 'none';\n",
              "\n",
              "        async function convertToInteractive(key) {\n",
              "          const element = document.querySelector('#df-cd5160e1-b9d0-448d-8d47-a15af3a59c6f');\n",
              "          const dataTable =\n",
              "            await google.colab.kernel.invokeFunction('convertToInteractive',\n",
              "                                                     [key], {});\n",
              "          if (!dataTable) return;\n",
              "\n",
              "          const docLinkHtml = 'Like what you see? Visit the ' +\n",
              "            '<a target=\"_blank\" href=https://colab.research.google.com/notebooks/data_table.ipynb>data table notebook</a>'\n",
              "            + ' to learn more about interactive tables.';\n",
              "          element.innerHTML = '';\n",
              "          dataTable['output_type'] = 'display_data';\n",
              "          await google.colab.output.renderOutput(dataTable, element);\n",
              "          const docLink = document.createElement('div');\n",
              "          docLink.innerHTML = docLinkHtml;\n",
              "          element.appendChild(docLink);\n",
              "        }\n",
              "      </script>\n",
              "    </div>\n",
              "  </div>\n",
              "  "
            ]
          },
          "metadata": {},
          "execution_count": 11
        }
      ]
    },
    {
      "cell_type": "code",
      "source": [
        "# Distribuition of labels in training data\n",
        "\n",
        "train_df.target.value_counts()"
      ],
      "metadata": {
        "colab": {
          "base_uri": "https://localhost:8080/"
        },
        "id": "2mWyrvXY12rJ",
        "outputId": "dca1fed7-d55b-43c4-c287-fffd4e559d62"
      },
      "execution_count": 12,
      "outputs": [
        {
          "output_type": "execute_result",
          "data": {
            "text/plain": [
              "METHODS        59353\n",
              "RESULTS        57953\n",
              "CONCLUSIONS    27168\n",
              "BACKGROUND     21727\n",
              "OBJECTIVE      13839\n",
              "Name: target, dtype: int64"
            ]
          },
          "metadata": {},
          "execution_count": 12
        }
      ]
    },
    {
      "cell_type": "code",
      "source": [
        "# Lets checek thel enght of different lines\n",
        "\n",
        "train_df.total_lines.plot.hist()"
      ],
      "metadata": {
        "colab": {
          "base_uri": "https://localhost:8080/",
          "height": 285
        },
        "id": "GxgKPJk_2LJJ",
        "outputId": "342479bf-37f8-41c1-fccc-4c27690340a8"
      },
      "execution_count": 13,
      "outputs": [
        {
          "output_type": "execute_result",
          "data": {
            "text/plain": [
              "<matplotlib.axes._subplots.AxesSubplot at 0x7f0229b17750>"
            ]
          },
          "metadata": {},
          "execution_count": 13
        },
        {
          "output_type": "display_data",
          "data": {
            "text/plain": [
              "<Figure size 432x288 with 1 Axes>"
            ],
            "image/png": "[encoded data removed]"
          },
          "metadata": {
            "needs_background": "light"
          }
        }
      ]
    },
    {
      "cell_type": "markdown",
      "source": [
        "### Get list of sentences\n",
        "\n"
      ],
      "metadata": {
        "id": "IsD-1ko82Rii"
      }
    },
    {
      "cell_type": "code",
      "source": [
        "# Convert abstract text lines into lists\n",
        "\n",
        "train_sentences = train_df['text'].tolist()\n",
        "val_sentences = val_df['text'].tolist()\n",
        "test_sentences = test_df['text'].tolist()\n",
        "\n",
        "len(train_sentences), len(test_sentences), len(val_sentences)"
      ],
      "metadata": {
        "colab": {
          "base_uri": "https://localhost:8080/"
        },
        "id": "yrabRB_b2ZQw",
        "outputId": "d41f2e36-5dab-47da-9806-3104c89bb079"
      },
      "execution_count": 14,
      "outputs": [
        {
          "output_type": "execute_result",
          "data": {
            "text/plain": [
              "(180040, 30135, 30212)"
            ]
          },
          "metadata": {},
          "execution_count": 14
        }
      ]
    },
    {
      "cell_type": "code",
      "source": [
        "train_sentences[:10]"
      ],
      "metadata": {
        "colab": {
          "base_uri": "https://localhost:8080/"
        },
        "id": "fOKm_wxd2riD",
        "outputId": "65a8d13f-49cd-4423-af27-bce0166aebad"
      },
      "execution_count": 15,
      "outputs": [
        {
          "output_type": "execute_result",
          "data": {
            "text/plain": [
              "['to investigate the efficacy of @ weeks of daily low-dose oral prednisolone in improving pain , mobility , and systemic low-grade inflammation in the short term and whether the effect would be sustained at @ weeks in older adults with moderate to severe knee osteoarthritis ( oa ) .',\n",
              " 'a total of @ patients with primary knee oa were randomized @:@ ; @ received @ mg/day of prednisolone and @ received placebo for @ weeks .',\n",
              " 'outcome measures included pain reduction and improvement in function scores and systemic inflammation markers .',\n",
              " 'pain was assessed using the visual analog pain scale ( @-@ mm ) .',\n",
              " 'secondary outcome measures included the western ontario and mcmaster universities osteoarthritis index scores , patient global assessment ( pga ) of the severity of knee oa , and @-min walk distance ( @mwd ) .',\n",
              " 'serum levels of interleukin @ ( il-@ ) , il-@ , tumor necrosis factor ( tnf ) - , and high-sensitivity c-reactive protein ( hscrp ) were measured .',\n",
              " 'there was a clinically relevant reduction in the intervention group compared to the placebo group for knee pain , physical function , pga , and @mwd at @ weeks .',\n",
              " 'the mean difference between treatment arms ( @ % ci ) was @ ( @-@ @ ) , p < @ ; @ ( @-@ @ ) , p < @ ; @ ( @-@ @ ) , p < @ ; and @ ( @-@ @ ) , p < @ , respectively .',\n",
              " 'further , there was a clinically relevant reduction in the serum levels of il-@ , il-@ , tnf - , and hscrp at @ weeks in the intervention group when compared to the placebo group .',\n",
              " 'these differences remained significant at @ weeks .']"
            ]
          },
          "metadata": {},
          "execution_count": 15
        }
      ]
    },
    {
      "cell_type": "markdown",
      "source": [
        "## Make numeric labels (ML models require numeric labels)\n",
        "\n"
      ],
      "metadata": {
        "id": "-_70Ak-z28Qj"
      }
    },
    {
      "cell_type": "code",
      "source": [
        "# One hot encoding labels\n",
        "\n",
        "from sklearn.preprocessing import OneHotEncoder\n",
        "one_hot_encoder = OneHotEncoder(sparse = False)\n",
        "\n",
        "train_labels_one_hot = one_hot_encoder.fit_transform(train_df['target'].to_numpy().reshape(-1, 1))\n",
        "val_labels_one_hot = one_hot_encoder.fit_transform(val_df['target'].to_numpy().reshape(-1, 1))\n",
        "test_labels_one_hot = one_hot_encoder.fit_transform(test_df['target'].to_numpy().reshape(-1, 1))\n"
      ],
      "metadata": {
        "id": "t03QUZ4_8oaB"
      },
      "execution_count": 16,
      "outputs": []
    },
    {
      "cell_type": "code",
      "source": [
        "train_labels_one_hot"
      ],
      "metadata": {
        "colab": {
          "base_uri": "https://localhost:8080/"
        },
        "id": "ktAqc2dp9611",
        "outputId": "27d3eb1d-dd2c-42b8-f63b-e1d7e055f307"
      },
      "execution_count": 17,
      "outputs": [
        {
          "output_type": "execute_result",
          "data": {
            "text/plain": [
              "array([[0., 0., 0., 1., 0.],\n",
              "       [0., 0., 1., 0., 0.],\n",
              "       [0., 0., 1., 0., 0.],\n",
              "       ...,\n",
              "       [0., 0., 0., 0., 1.],\n",
              "       [0., 1., 0., 0., 0.],\n",
              "       [0., 1., 0., 0., 0.]])"
            ]
          },
          "metadata": {},
          "execution_count": 17
        }
      ]
    },
    {
      "cell_type": "code",
      "source": [
        "### Encoding labels\n",
        "\n",
        "from sklearn.preprocessing import LabelEncoder\n",
        "label_encoder = LabelEncoder()\n",
        "\n",
        "train_labels_encoded = label_encoder.fit_transform(train_df['target'].to_numpy())\n",
        "val_labels_encoded = label_encoder.fit_transform(val_df['target'].to_numpy())\n",
        "test_labels_encoded = label_encoder.fit_transform(test_df['target'].to_numpy())"
      ],
      "metadata": {
        "id": "GsyYnQsI99Za"
      },
      "execution_count": 18,
      "outputs": []
    },
    {
      "cell_type": "code",
      "source": [
        "train_labels_encoded"
      ],
      "metadata": {
        "colab": {
          "base_uri": "https://localhost:8080/"
        },
        "id": "3IyLwl2x-1vp",
        "outputId": "ea81b1a5-4146-431d-970d-37d728aaca1b"
      },
      "execution_count": 19,
      "outputs": [
        {
          "output_type": "execute_result",
          "data": {
            "text/plain": [
              "array([3, 2, 2, ..., 4, 1, 1])"
            ]
          },
          "metadata": {},
          "execution_count": 19
        }
      ]
    },
    {
      "cell_type": "markdown",
      "source": [
        "## Series of modelling experiments\n",
        "\n"
      ],
      "metadata": {
        "id": "boLQSXVR_coj"
      }
    },
    {
      "cell_type": "markdown",
      "source": [
        "### Model 0 : Getting a baseline "
      ],
      "metadata": {
        "id": "RpPbF-Xh-4Vo"
      }
    },
    {
      "cell_type": "code",
      "source": [
        "from sklearn.feature_extraction.text import TfidfVectorizer\n",
        "from sklearn.naive_bayes import MultinomialNB\n",
        "from sklearn.pipeline import Pipeline\n",
        "\n",
        "# Create a pipeline\n",
        "model_0 = Pipeline([\n",
        "    (\"tf-idf\", TfidfVectorizer()),\n",
        "    ('clf', MultinomialNB())\n",
        "])\n",
        "\n",
        "# Fit the pipline to the training data\n",
        "model_0.fit(X = train_sentences,\n",
        "            y = train_labels_encoded)"
      ],
      "metadata": {
        "colab": {
          "base_uri": "https://localhost:8080/"
        },
        "id": "nHB30Zqy_nXQ",
        "outputId": "ed569a45-aaec-4809-813b-02dcefe98a53"
      },
      "execution_count": 20,
      "outputs": [
        {
          "output_type": "execute_result",
          "data": {
            "text/plain": [
              "Pipeline(steps=[('tf-idf', TfidfVectorizer()), ('clf', MultinomialNB())])"
            ]
          },
          "metadata": {},
          "execution_count": 20
        }
      ]
    },
    {
      "cell_type": "code",
      "source": [
        "# Evaluate baseline model\n",
        "\n",
        "model_0.score(X = val_sentences,\n",
        "              y = val_labels_encoded)"
      ],
      "metadata": {
        "colab": {
          "base_uri": "https://localhost:8080/"
        },
        "id": "dX9JVmaODphF",
        "outputId": "d8236cf3-411f-466f-d670-c71059f6df50"
      },
      "execution_count": 21,
      "outputs": [
        {
          "output_type": "execute_result",
          "data": {
            "text/plain": [
              "0.7218323844829869"
            ]
          },
          "metadata": {},
          "execution_count": 21
        }
      ]
    },
    {
      "cell_type": "code",
      "source": [
        "# Make predictions using our baseline model\n",
        "\n",
        "baseline_preds = model_0.predict(val_sentences)\n",
        "baseline_preds"
      ],
      "metadata": {
        "colab": {
          "base_uri": "https://localhost:8080/"
        },
        "id": "ahy9qrqRDy_s",
        "outputId": "e53079b7-a890-49f0-9d67-755fb9de66c3"
      },
      "execution_count": 22,
      "outputs": [
        {
          "output_type": "execute_result",
          "data": {
            "text/plain": [
              "array([4, 1, 3, ..., 4, 4, 1])"
            ]
          },
          "metadata": {},
          "execution_count": 22
        }
      ]
    },
    {
      "cell_type": "code",
      "source": [
        "# Download helper function script\n",
        "!wget https://raw.githubusercontent.com/mrdbourke/tensorflow-deep-learning/main/extras/helper_functions.py"
      ],
      "metadata": {
        "colab": {
          "base_uri": "https://localhost:8080/"
        },
        "id": "4j1yP0GWELSd",
        "outputId": "18b9e430-dee6-45be-f35a-7a9ec5cab43c"
      },
      "execution_count": 23,
      "outputs": [
        {
          "output_type": "stream",
          "name": "stdout",
          "text": [
            "--2022-09-21 17:24:12--  https://raw.githubusercontent.com/mrdbourke/tensorflow-deep-learning/main/extras/helper_functions.py\n",
            "Resolving raw.githubusercontent.com (raw.githubusercontent.com)... 185.199.108.133, 185.199.109.133, 185.199.110.133, ...\n",
            "Connecting to raw.githubusercontent.com (raw.githubusercontent.com)|185.199.108.133|:443... connected.\n",
            "HTTP request sent, awaiting response... 200 OK\n",
            "Length: 10246 (10K) [text/plain]\n",
            "Saving to: ‘helper_functions.py’\n",
            "\n",
            "helper_functions.py 100%[===================>]  10.01K  --.-KB/s    in 0s      \n",
            "\n",
            "2022-09-21 17:24:12 (106 MB/s) - ‘helper_functions.py’ saved [10246/10246]\n",
            "\n"
          ]
        }
      ]
    },
    {
      "cell_type": "code",
      "source": [
        "from helper_functions import calculate_results"
      ],
      "metadata": {
        "id": "PKyLeIRoEdBd"
      },
      "execution_count": 24,
      "outputs": []
    },
    {
      "cell_type": "code",
      "source": [
        " # Cal baesline results\n",
        "\n",
        " baseline_results = calculate_results(y_true = val_labels_encoded,\n",
        "                                      y_pred = baseline_preds )"
      ],
      "metadata": {
        "id": "B2NrKMRsEjz9"
      },
      "execution_count": 25,
      "outputs": []
    },
    {
      "cell_type": "code",
      "source": [
        "baseline_results"
      ],
      "metadata": {
        "colab": {
          "base_uri": "https://localhost:8080/"
        },
        "id": "JpIaaR9gEyTV",
        "outputId": "0aca0f0d-b1cf-4501-e476-1c9d12c7f193"
      },
      "execution_count": 26,
      "outputs": [
        {
          "output_type": "execute_result",
          "data": {
            "text/plain": [
              "{'accuracy': 72.1832384482987,\n",
              " 'precision': 0.7186466952323352,\n",
              " 'recall': 0.7218323844829869,\n",
              " 'f1': 0.6989250353450294}"
            ]
          },
          "metadata": {},
          "execution_count": 26
        }
      ]
    },
    {
      "cell_type": "markdown",
      "source": [
        "## Preparing our data for our deep squence models\n",
        "\n",
        "Before we start we got to create vectoriztion and embedding layers"
      ],
      "metadata": {
        "id": "90btQ0pBE4CF"
      }
    },
    {
      "cell_type": "code",
      "source": [
        "import numpy as np\n",
        "import tensorflow as tf\n",
        "from tensorflow.keras import layers"
      ],
      "metadata": {
        "id": "RtXuV1FkFWm0"
      },
      "execution_count": 27,
      "outputs": []
    },
    {
      "cell_type": "code",
      "source": [
        "sent_lens = [len(sentence.split()) for sentence in train_sentences]\n",
        "avg_sent_lens = np.mean(sent_lens)\n",
        "avg_sent_lens"
      ],
      "metadata": {
        "colab": {
          "base_uri": "https://localhost:8080/"
        },
        "id": "mi4zvIbMFcSc",
        "outputId": "cb413b0b-a7f5-4265-f567-efeef959b509"
      },
      "execution_count": 28,
      "outputs": [
        {
          "output_type": "execute_result",
          "data": {
            "text/plain": [
              "26.338269273494777"
            ]
          },
          "metadata": {},
          "execution_count": 28
        }
      ]
    },
    {
      "cell_type": "code",
      "source": [
        "# What does the distribution look lik\n",
        "\n",
        "import matplotlib.pyplot as plt\n",
        "plt.hist(sent_lens, bins = 25)"
      ],
      "metadata": {
        "colab": {
          "base_uri": "https://localhost:8080/",
          "height": 428
        },
        "id": "6q-VaihfGi80",
        "outputId": "8112ec2b-4d5e-41c9-fef1-30c668d22d6b"
      },
      "execution_count": 29,
      "outputs": [
        {
          "output_type": "execute_result",
          "data": {
            "text/plain": [
              "(array([2.5486e+04, 7.1478e+04, 4.8888e+04, 2.0260e+04, 7.5560e+03,\n",
              "        3.4370e+03, 1.4950e+03, 7.3700e+02, 3.2800e+02, 1.6500e+02,\n",
              "        8.5000e+01, 4.9000e+01, 2.0000e+01, 1.5000e+01, 9.0000e+00,\n",
              "        6.0000e+00, 8.0000e+00, 8.0000e+00, 3.0000e+00, 2.0000e+00,\n",
              "        3.0000e+00, 0.0000e+00, 0.0000e+00, 1.0000e+00, 1.0000e+00]),\n",
              " array([  1. ,  12.8,  24.6,  36.4,  48.2,  60. ,  71.8,  83.6,  95.4,\n",
              "        107.2, 119. , 130.8, 142.6, 154.4, 166.2, 178. , 189.8, 201.6,\n",
              "        213.4, 225.2, 237. , 248.8, 260.6, 272.4, 284.2, 296. ]),\n",
              " <a list of 25 Patch objects>)"
            ]
          },
          "metadata": {},
          "execution_count": 29
        },
        {
          "output_type": "display_data",
          "data": {
            "text/plain": [
              "<Figure size 432x288 with 1 Axes>"
            ],
            "image/png": "[encoded data removed]"
          },
          "metadata": {
            "needs_background": "light"
          }
        }
      ]
    },
    {
      "cell_type": "code",
      "source": [
        "# How long of a sentence lenght convers 95% of examples\n",
        "\n",
        "output_seq_len = int(np.percentile(sent_lens, 95))\n",
        "output_seq_len"
      ],
      "metadata": {
        "colab": {
          "base_uri": "https://localhost:8080/"
        },
        "id": "oGwjsFrZH8AG",
        "outputId": "ab72db90-d19a-4b4f-a2e6-f175ff9c54a4"
      },
      "execution_count": 30,
      "outputs": [
        {
          "output_type": "execute_result",
          "data": {
            "text/plain": [
              "55"
            ]
          },
          "metadata": {},
          "execution_count": 30
        }
      ]
    },
    {
      "cell_type": "markdown",
      "source": [
        "### Create text vectorizer layer"
      ],
      "metadata": {
        "id": "U8DH5pARIanM"
      }
    },
    {
      "cell_type": "code",
      "source": [
        "# How many words are in our vocab\n",
        "max_tokens = 68000"
      ],
      "metadata": {
        "id": "PbFA5E3QJPn_"
      },
      "execution_count": 31,
      "outputs": []
    },
    {
      "cell_type": "code",
      "source": [
        "# Create text vectorizer\n",
        "from tensorflow.keras.layers.experimental.preprocessing import TextVectorization\n",
        "\n",
        "text_vectorizer  = TextVectorization(max_tokens = max_tokens,\n",
        "                                     output_sequence_length= output_seq_len)"
      ],
      "metadata": {
        "id": "o9IDFM56JYfD"
      },
      "execution_count": 32,
      "outputs": []
    },
    {
      "cell_type": "code",
      "source": [
        "# Adapt text vectorizer to training sentences\n",
        "text_vectorizer.adapt(train_sentences)"
      ],
      "metadata": {
        "id": "ZF4sRk84J5kj"
      },
      "execution_count": 33,
      "outputs": []
    },
    {
      "cell_type": "code",
      "source": [
        "# Test out text vectorizer on random sentences\n",
        "\n",
        "import random\n",
        "target_sentence = random.choice(train_sentences)\n",
        "print(f'Text:\\n {target_sentence}')\n",
        "print(f'\\nLength of text\\n: {len(target_sentence)}')\n",
        "print(f'\\nVectorizes test\\n:{text_vectorizer([target_sentence])}')"
      ],
      "metadata": {
        "colab": {
          "base_uri": "https://localhost:8080/"
        },
        "id": "2e5wKjIXK2ab",
        "outputId": "b45a1329-bedf-413e-96dd-c4309885573c"
      },
      "execution_count": 34,
      "outputs": [
        {
          "output_type": "stream",
          "name": "stdout",
          "text": [
            "Text:\n",
            " we randomly assigned @ patients undergoing coronary stent follow-up with the use of mdct-ca to iomeprol-@ at @ ml/sec flow rate ( group @ ; n = @ ) , iodixanol-@ at @ ml/sec flow rate ( group @ ; n = @ ) , and iodixanol-@ at @ ml/sec flow rate ( group @ ; n = @ ) .\n",
            "\n",
            "Length of text\n",
            ": 265\n",
            "\n",
            "Vectorizes test\n",
            ":[[   43    92   123    12   295   346   788    94     7     2    87     4\n",
            "  22584     6 20372    15 25715   765    78    13    40  8249    15 25715\n",
            "    765    78    13    40     3  8249    15 25715   765    78    13    40\n",
            "      0     0     0     0     0     0     0     0     0     0     0     0\n",
            "      0     0     0     0     0     0     0]]\n"
          ]
        }
      ]
    },
    {
      "cell_type": "code",
      "source": [
        "# How mnay owrds in our training vocab\n",
        "\n",
        "rct_20k_text_vocab = text_vectorizer.get_vocabulary()\n",
        "print(f'Number of words in vocab: {len(rct_20k_text_vocab)}')\n",
        "print(f'Most common words in vocab: {rct_20k_text_vocab[:5]}')\n",
        "print(f'Least common words in the vocab: {rct_20k_text_vocab[-5:]}')"
      ],
      "metadata": {
        "colab": {
          "base_uri": "https://localhost:8080/"
        },
        "id": "qSvkW_ixL5PL",
        "outputId": "7e76de9c-c18e-48dd-8a24-00d8dad93952"
      },
      "execution_count": 35,
      "outputs": [
        {
          "output_type": "stream",
          "name": "stdout",
          "text": [
            "Number of words in vocab: 64841\n",
            "Most common words in vocab: ['', '[UNK]', 'the', 'and', 'of']\n",
            "Least common words in the vocab: ['aainduced', 'aaigroup', 'aachener', 'aachen', 'aaacp']\n"
          ]
        }
      ]
    },
    {
      "cell_type": "code",
      "source": [
        "# Get the config of our text vectorizer\n",
        "\n",
        "text_vectorizer.get_config()"
      ],
      "metadata": {
        "colab": {
          "base_uri": "https://localhost:8080/"
        },
        "id": "2EnK8nQTVSXe",
        "outputId": "110cd8f0-8aa1-44c5-c760-e53a69233e37"
      },
      "execution_count": 36,
      "outputs": [
        {
          "output_type": "execute_result",
          "data": {
            "text/plain": [
              "{'name': 'text_vectorization',\n",
              " 'trainable': True,\n",
              " 'batch_input_shape': (None,),\n",
              " 'dtype': 'string',\n",
              " 'max_tokens': 68000,\n",
              " 'standardize': 'lower_and_strip_punctuation',\n",
              " 'split': 'whitespace',\n",
              " 'ngrams': None,\n",
              " 'output_mode': 'int',\n",
              " 'output_sequence_length': 55,\n",
              " 'pad_to_max_tokens': False,\n",
              " 'sparse': False,\n",
              " 'ragged': False,\n",
              " 'vocabulary': None,\n",
              " 'idf_weights': None}"
            ]
          },
          "metadata": {},
          "execution_count": 36
        }
      ]
    },
    {
      "cell_type": "markdown",
      "source": [
        "### Create custom text embedding\n",
        "\n",
        "\n"
      ],
      "metadata": {
        "id": "oB5WY3DZ2okU"
      }
    },
    {
      "cell_type": "code",
      "source": [
        "# Create tokem embeddging layer\n",
        "\n",
        "token_embed = layers.Embedding(input_dim = len(rct_20k_text_vocab),\n",
        "                               output_dim = 128, \n",
        "                               mask_zero = True, # Hanndle variable seq length\n",
        "                               name = 'token_embedding')       "
      ],
      "metadata": {
        "id": "sbxlld4A25om"
      },
      "execution_count": 37,
      "outputs": []
    },
    {
      "cell_type": "code",
      "source": [
        "# Show example embedding\n",
        "print(f'Before Vectoriztion:\\n{target_sentence}\\n')\n",
        "vectorized_sentence = text_vectorizer([target_sentence])\n",
        "print(f'After Vectorization:\\n {vectorized_sentence}\\n')\n",
        "embeded_sentence = token_embed(vectorized_sentence)\n",
        "print(f'Sentence after embedding:\\n {embeded_sentence}\\n')\n",
        "print(f'Embedded sentence shape:\\n {embeded_sentence.shape}')"
      ],
      "metadata": {
        "colab": {
          "base_uri": "https://localhost:8080/"
        },
        "id": "1kWO3e76v35U",
        "outputId": "7813dcae-a977-4816-c1b4-6c05420f637c"
      },
      "execution_count": 38,
      "outputs": [
        {
          "output_type": "stream",
          "name": "stdout",
          "text": [
            "Before Vectoriztion:\n",
            "we randomly assigned @ patients undergoing coronary stent follow-up with the use of mdct-ca to iomeprol-@ at @ ml/sec flow rate ( group @ ; n = @ ) , iodixanol-@ at @ ml/sec flow rate ( group @ ; n = @ ) , and iodixanol-@ at @ ml/sec flow rate ( group @ ; n = @ ) .\n",
            "\n",
            "After Vectorization:\n",
            " [[   43    92   123    12   295   346   788    94     7     2    87     4\n",
            "  22584     6 20372    15 25715   765    78    13    40  8249    15 25715\n",
            "    765    78    13    40     3  8249    15 25715   765    78    13    40\n",
            "      0     0     0     0     0     0     0     0     0     0     0     0\n",
            "      0     0     0     0     0     0     0]]\n",
            "\n",
            "Sentence after embedding:\n",
            " [[[-0.04557025 -0.04482988  0.00214616 ... -0.01043286 -0.01294721\n",
            "   -0.013142  ]\n",
            "  [-0.01660801  0.04813278  0.03976775 ... -0.04022515 -0.00014774\n",
            "   -0.0341531 ]\n",
            "  [ 0.03023214  0.02161975 -0.03117187 ...  0.03906456  0.04605016\n",
            "   -0.04867731]\n",
            "  ...\n",
            "  [ 0.04960265 -0.02779397  0.00827182 ... -0.01893594  0.00659566\n",
            "    0.03842494]\n",
            "  [ 0.04960265 -0.02779397  0.00827182 ... -0.01893594  0.00659566\n",
            "    0.03842494]\n",
            "  [ 0.04960265 -0.02779397  0.00827182 ... -0.01893594  0.00659566\n",
            "    0.03842494]]]\n",
            "\n",
            "Embedded sentence shape:\n",
            " (1, 55, 128)\n"
          ]
        }
      ]
    },
    {
      "cell_type": "markdown",
      "source": [
        "## Creating datasets(making sure our data loads as fast as possible)\n",
        "\n"
      ],
      "metadata": {
        "id": "qjQotRTJxrYY"
      }
    },
    {
      "cell_type": "code",
      "source": [
        "train_dataset = tf.data.Dataset.from_tensor_slices((train_sentences, train_labels_one_hot))\n",
        "test_dataset = tf.data.Dataset.from_tensor_slices((test_sentences, test_labels_one_hot))\n",
        "valid_dataset = tf.data.Dataset.from_tensor_slices((val_sentences, val_labels_one_hot))"
      ],
      "metadata": {
        "id": "zigy6CAa2UP4"
      },
      "execution_count": 39,
      "outputs": []
    },
    {
      "cell_type": "code",
      "source": [
        "# Turn dataets into prefetched\n",
        "train_dataset = train_dataset.batch(32).prefetch(tf.data.AUTOTUNE)\n",
        "valid_dataset = valid_dataset.batch(32).prefetch(tf.data.AUTOTUNE)\n",
        "test_dataset = test_dataset.batch(32).prefetch(tf.data.AUTOTUNE)"
      ],
      "metadata": {
        "id": "fWQuYRyi22aK"
      },
      "execution_count": 40,
      "outputs": []
    },
    {
      "cell_type": "markdown",
      "source": [
        " ## Model 1: Conv1D with token embeddings\n",
        " "
      ],
      "metadata": {
        "id": "jxB36CE355w5"
      }
    },
    {
      "cell_type": "code",
      "source": [
        "num_classes = len(label_encoder.classes_)\n",
        "class_names = label_encoder.classes_"
      ],
      "metadata": {
        "id": "huzznBBb-mes"
      },
      "execution_count": 41,
      "outputs": []
    },
    {
      "cell_type": "code",
      "source": [
        "inputs = layers.Input(shape = (1,), dtype = tf.string)\n",
        "text_vectors = text_vectorizer(inputs)\n",
        "token_embedding = token_embed(text_vectors)\n",
        "x  = layers.Conv1D(64,kernel_size = 5, padding = 'same', activation = 'relu' )(token_embedding)\n",
        "x = layers.GlobalAveragePooling1D()(x)\n",
        "outputs = layers.Dense(num_classes, activation = 'softmax')(x)\n",
        "model_1 = tf.keras.Model(inputs, outputs)"
      ],
      "metadata": {
        "id": "DwMmVBTG72Ot"
      },
      "execution_count": 42,
      "outputs": []
    },
    {
      "cell_type": "code",
      "source": [
        "model_1.compile(loss = 'categorical_crossentropy',\n",
        "                optimizer = tf.keras.optimizers.Adam(),\n",
        "                metrics = ['accuracy'])"
      ],
      "metadata": {
        "id": "AbPAD9f29CyA"
      },
      "execution_count": 43,
      "outputs": []
    },
    {
      "cell_type": "code",
      "source": [
        "# Fit the model\n",
        "model_1_history = model_1.fit(train_dataset,\n",
        "                              steps_per_epoch=int(0.1 * len(train_dataset)), # only fit on 10% of batches for faster training time\n",
        "                              epochs=3,\n",
        "                              validation_data=valid_dataset,\n",
        "                              validation_steps=int(0.1 * len(valid_dataset)))"
      ],
      "metadata": {
        "colab": {
          "base_uri": "https://localhost:8080/"
        },
        "id": "Fl1izRsE__84",
        "outputId": "e5fe107f-f9a7-46b4-8658-871fe965f322"
      },
      "execution_count": 44,
      "outputs": [
        {
          "output_type": "stream",
          "name": "stdout",
          "text": [
            "Epoch 1/3\n",
            "562/562 [==============================] - 15s 9ms/step - loss: 0.9218 - accuracy: 0.6379 - val_loss: 0.6849 - val_accuracy: 0.7374\n",
            "Epoch 2/3\n",
            "562/562 [==============================] - 5s 8ms/step - loss: 0.6554 - accuracy: 0.7596 - val_loss: 0.6326 - val_accuracy: 0.7733\n",
            "Epoch 3/3\n",
            "562/562 [==============================] - 5s 8ms/step - loss: 0.6143 - accuracy: 0.7754 - val_loss: 0.5960 - val_accuracy: 0.7872\n"
          ]
        }
      ]
    },
    {
      "cell_type": "code",
      "source": [
        "# Eval on whole valid dataest\n",
        "model_1.evaluate(valid_dataset)"
      ],
      "metadata": {
        "colab": {
          "base_uri": "https://localhost:8080/"
        },
        "id": "tdOH5pnwB83M",
        "outputId": "d35c7d66-e69d-49a9-f9a4-7c00a0c0f4e2"
      },
      "execution_count": 45,
      "outputs": [
        {
          "output_type": "stream",
          "name": "stdout",
          "text": [
            "945/945 [==============================] - 3s 3ms/step - loss: 0.5955 - accuracy: 0.7864\n"
          ]
        },
        {
          "output_type": "execute_result",
          "data": {
            "text/plain": [
              "[0.5955380201339722, 0.7864424586296082]"
            ]
          },
          "metadata": {},
          "execution_count": 45
        }
      ]
    },
    {
      "cell_type": "code",
      "source": [
        "model_1_pred_probs = model_1.predict(valid_dataset)"
      ],
      "metadata": {
        "id": "h0EUFOjBCFeY"
      },
      "execution_count": 46,
      "outputs": []
    },
    {
      "cell_type": "code",
      "source": [
        "model_1_pred_probs, model_1_pred_probs.shape"
      ],
      "metadata": {
        "colab": {
          "base_uri": "https://localhost:8080/"
        },
        "id": "PP5vgQ03CTyf",
        "outputId": "6ec0b1c7-688d-4585-e90f-425336037f3a"
      },
      "execution_count": 47,
      "outputs": [
        {
          "output_type": "execute_result",
          "data": {
            "text/plain": [
              "(array([[4.7332230e-01, 1.6064334e-01, 4.5603827e-02, 2.9831412e-01,\n",
              "         2.2116393e-02],\n",
              "        [3.9467707e-01, 3.5362092e-01, 1.3397161e-02, 2.2786391e-01,\n",
              "         1.0440831e-02],\n",
              "        [1.6648260e-01, 6.1896485e-03, 1.4938093e-03, 8.2580888e-01,\n",
              "         2.5142692e-05],\n",
              "        ...,\n",
              "        [1.5347114e-05, 1.0489220e-03, 1.0849152e-03, 7.4965596e-06,\n",
              "         9.9784327e-01],\n",
              "        [4.5058936e-02, 4.4651550e-01, 8.4204413e-02, 4.8312835e-02,\n",
              "         3.7590840e-01],\n",
              "        [1.8919629e-01, 6.8255836e-01, 5.0596487e-02, 4.2380970e-02,\n",
              "         3.5267949e-02]], dtype=float32), (30212, 5))"
            ]
          },
          "metadata": {},
          "execution_count": 47
        }
      ]
    },
    {
      "cell_type": "code",
      "source": [
        "# Convert pred probs to classes \n",
        "\n",
        "model_1_preds = tf.argmax(model_1_pred_probs, axis = 1)\n",
        "model_1_preds"
      ],
      "metadata": {
        "colab": {
          "base_uri": "https://localhost:8080/"
        },
        "id": "EOUxQF9GCcrn",
        "outputId": "a8ac5ae6-35ee-4122-acd5-fb10acf6ae90"
      },
      "execution_count": 48,
      "outputs": [
        {
          "output_type": "execute_result",
          "data": {
            "text/plain": [
              "<tf.Tensor: shape=(30212,), dtype=int64, numpy=array([0, 0, 3, ..., 4, 1, 1])>"
            ]
          },
          "metadata": {},
          "execution_count": 48
        }
      ]
    },
    {
      "cell_type": "code",
      "source": [
        "model_1_results = calculate_results(y_true = val_labels_encoded,\n",
        "                                    y_pred = model_1_preds)"
      ],
      "metadata": {
        "id": "F9MKOoPbCuJ3"
      },
      "execution_count": 49,
      "outputs": []
    },
    {
      "cell_type": "code",
      "source": [
        "model_1_results"
      ],
      "metadata": {
        "id": "u068lUC_DTx2",
        "outputId": "fe24ed10-0c3a-42ea-c37a-203133cea447",
        "colab": {
          "base_uri": "https://localhost:8080/"
        }
      },
      "execution_count": 50,
      "outputs": [
        {
          "output_type": "execute_result",
          "data": {
            "text/plain": [
              "{'accuracy': 78.64424731894611,\n",
              " 'precision': 0.7836621296998662,\n",
              " 'recall': 0.7864424731894611,\n",
              " 'f1': 0.7841446924764106}"
            ]
          },
          "metadata": {},
          "execution_count": 50
        }
      ]
    },
    {
      "cell_type": "code",
      "source": [
        "baseline_results"
      ],
      "metadata": {
        "id": "BwOExkANDWGP",
        "outputId": "76dc0d93-22cb-47ed-d960-3641fb6e7aa7",
        "colab": {
          "base_uri": "https://localhost:8080/"
        }
      },
      "execution_count": 51,
      "outputs": [
        {
          "output_type": "execute_result",
          "data": {
            "text/plain": [
              "{'accuracy': 72.1832384482987,\n",
              " 'precision': 0.7186466952323352,\n",
              " 'recall': 0.7218323844829869,\n",
              " 'f1': 0.6989250353450294}"
            ]
          },
          "metadata": {},
          "execution_count": 51
        }
      ]
    },
    {
      "cell_type": "markdown",
      "source": [
        "## Model_2 Feature Extraction model\n",
        "\n",
        "Now lets use pretrained word embedding in tensorflow hub\n",
        "\n",
        "The paper originally used Glove embedding but we are using Universal Sentence Encoder"
      ],
      "metadata": {
        "id": "3cc85E_xDXrf"
      }
    },
    {
      "cell_type": "code",
      "source": [
        "# Download USE\n",
        "\n",
        "import tensorflow_hub as hub\n",
        "\n",
        "hub_embedding_layer = hub.KerasLayer('https://tfhub.dev/google/universal-sentence-encoder/4',\n",
        "                                 trainable = False,\n",
        "                                 name = 'Universal_Sentence_Encoder')"
      ],
      "metadata": {
        "id": "C-UEd32TyWTj"
      },
      "execution_count": 52,
      "outputs": []
    },
    {
      "cell_type": "code",
      "source": [
        "# Test USE\n",
        "\n",
        "random_train_sentence = random.choice(train_sentences)\n",
        "print('Random sent:\\n')\n",
        "print(random_train_sentence)\n",
        "\n",
        "use_embedded_sentence = hub_embedding_layer([random_train_sentence])\n",
        "print(f'Sentence after embedding:\\n')\n",
        "print(use_embedded_sentence)"
      ],
      "metadata": {
        "colab": {
          "base_uri": "https://localhost:8080/"
        },
        "id": "u8-Ds59wzOXw",
        "outputId": "f5163b1a-c342-4d84-a7bc-7178a0cc0428"
      },
      "execution_count": 53,
      "outputs": [
        {
          "output_type": "stream",
          "name": "stdout",
          "text": [
            "Random sent:\n",
            "\n",
            "bereaved next of kin ( n = @ ) of veterans who died between @ and @ .\n",
            "Sentence after embedding:\n",
            "\n",
            "tf.Tensor(\n",
            "[[ 3.67224403e-02 -1.36752855e-02  3.03303301e-02 -1.68410055e-02\n",
            "  -3.87651287e-02 -9.35577601e-02 -2.07951069e-02 -2.57481635e-02\n",
            "  -8.59659240e-02 -2.92533822e-02  9.24727246e-02  6.04705401e-02\n",
            "   5.47717651e-03 -5.85419051e-02  3.31283808e-02 -8.04240853e-02\n",
            "  -9.53920260e-02 -5.91751710e-02 -4.53332551e-02 -5.93169965e-02\n",
            "   7.74881169e-02  1.04501555e-02  9.41909999e-02 -3.68131362e-02\n",
            "   2.08034199e-02  6.81828633e-02 -4.78349067e-02 -3.92089523e-02\n",
            "  -4.04850207e-02  3.07639316e-02 -5.35007678e-02  6.90589845e-02\n",
            "  -2.88014133e-02 -5.78553639e-02 -4.98768836e-02  1.68376304e-02\n",
            "   6.55228943e-02 -7.24791363e-03 -5.07196598e-02 -2.85907779e-02\n",
            "   5.67135736e-02 -3.00247762e-02 -6.26403838e-03  1.37231657e-02\n",
            "   1.16867255e-02  2.29519457e-02  2.55660582e-02  4.80804686e-03\n",
            "   1.39287952e-02  2.78759114e-02 -3.93212475e-02  2.85227839e-02\n",
            "   2.80353893e-02 -5.04199378e-02  5.72034493e-02 -6.27685860e-02\n",
            "  -6.50103949e-03 -7.74345547e-02 -4.44481447e-02 -1.01967333e-02\n",
            "  -5.60744777e-02  7.87670538e-02 -9.15743485e-02  2.00458802e-03\n",
            "   7.79652894e-02 -3.12548093e-02  4.22777683e-02 -2.16097459e-02\n",
            "   6.25657365e-02  8.82967487e-02  5.09433188e-02  6.77858517e-02\n",
            "   1.89455301e-02  2.58431281e-03 -2.86642853e-02 -3.47494450e-03\n",
            "  -5.57688959e-02 -8.26752558e-03 -2.86636427e-02  4.83869910e-02\n",
            "   2.19012052e-02 -3.95630719e-03  3.41233611e-02  4.00908552e-02\n",
            "   4.30857092e-02  1.64279845e-02 -5.73533475e-02 -1.18398946e-02\n",
            "  -3.22421677e-02  4.51656170e-02 -2.38653310e-02 -2.03451491e-03\n",
            "   7.59777240e-03  7.17740729e-02 -4.66113016e-02 -2.70742252e-02\n",
            "  -2.38912534e-02 -3.16891037e-02  5.27690761e-02 -3.15360762e-02\n",
            "   3.15425266e-03  3.54944542e-02  3.94877829e-02 -7.18349684e-03\n",
            "   6.48579672e-02 -5.96573763e-02  6.15153424e-02  5.01111448e-02\n",
            "  -6.95053190e-02 -1.88741530e-03 -9.51886252e-02  1.03921536e-02\n",
            "   2.53918301e-02  2.21077986e-02  3.66528817e-02 -1.62730739e-02\n",
            "  -3.09134591e-02  2.29892880e-02 -9.38272327e-02 -1.16026234e-02\n",
            "  -5.73098399e-02  6.58091111e-03 -1.25216013e-02  1.67495012e-02\n",
            "   3.26018482e-02 -2.40679104e-02  1.40269613e-02 -3.00294999e-02\n",
            "   7.14676008e-02 -3.43726575e-02  3.74541581e-02  6.40487075e-02\n",
            "   2.29729172e-02  6.15832023e-02 -3.31726484e-02  2.08225427e-03\n",
            "  -6.20849663e-03  2.27736756e-02 -4.06865254e-02 -3.36218514e-02\n",
            "  -6.62866533e-02  5.46548218e-02 -1.36377271e-02  2.30782870e-02\n",
            "   5.58141991e-02 -1.31207285e-02  3.68036591e-02 -6.37557060e-02\n",
            "   3.32230292e-02 -2.14410033e-02 -6.05150536e-02 -1.39311999e-02\n",
            "   4.38832194e-02  4.11932915e-02 -2.89615169e-02  3.88851352e-02\n",
            "   2.73778401e-02 -1.75572932e-02  4.43741828e-02  8.90207514e-02\n",
            "  -5.74284643e-02  5.26218116e-02 -3.79003361e-02  2.59165224e-02\n",
            "   1.10662682e-02  3.41406651e-02 -3.22121270e-02 -3.59320603e-02\n",
            "  -1.31375296e-02  4.04570028e-02  2.37896889e-02 -8.78209248e-02\n",
            "   1.95922293e-02  6.02617152e-02  2.65961252e-02  7.15938061e-02\n",
            "  -3.68078128e-02 -1.72458366e-02 -6.73947949e-03  3.56183201e-02\n",
            "   7.30268750e-03  1.49838915e-02  2.43927427e-02  5.43792471e-02\n",
            "   4.92628887e-02 -3.87289971e-02 -2.43820436e-02  8.60001892e-02\n",
            "  -3.06964871e-02 -7.81307288e-04 -7.57013038e-02 -3.06670032e-02\n",
            "   3.86295058e-02 -4.07653078e-02 -5.11508770e-02  4.87255678e-02\n",
            "  -3.62057351e-02  1.30292783e-02  2.02022884e-02  1.02152722e-02\n",
            "   2.83996086e-03  1.63546833e-03 -4.98885475e-02 -6.60121888e-02\n",
            "  -3.69175430e-03  9.42897797e-03 -3.99991684e-03 -7.27253556e-02\n",
            "  -3.86433750e-02 -6.24515861e-02 -5.93174361e-02 -2.51025334e-02\n",
            "   3.05689499e-02  2.78430600e-02 -8.49319680e-04  2.20000017e-02\n",
            "   2.63058338e-02  4.30728979e-02 -2.35569268e-03  2.23870669e-02\n",
            "  -4.87233587e-02  1.56733207e-03  2.09853482e-02  1.66728254e-02\n",
            "  -4.86047603e-02  6.28418699e-02  6.67037219e-02  2.03698389e-02\n",
            "   2.05805283e-02  4.27802019e-02  6.14853427e-02  2.77167801e-02\n",
            "  -7.45290816e-02 -4.38956134e-02 -5.11882687e-03  5.75528741e-02\n",
            "   5.50570227e-02 -3.83923873e-02 -1.46559766e-02 -2.43309466e-03\n",
            "   9.58196726e-03 -4.86155041e-02 -4.51023690e-02 -7.62435943e-02\n",
            "   8.86139795e-02  4.31785695e-02 -2.56521981e-02 -9.30456724e-03\n",
            "   8.35300237e-02  1.48547413e-02  5.64031266e-02  5.41444682e-02\n",
            "   5.96972182e-02 -5.59829874e-03  3.82577740e-02 -6.37187734e-02\n",
            "   5.25144450e-02 -5.03541194e-02 -3.10367020e-03  7.15130270e-02\n",
            "  -6.57189116e-02 -1.29154259e-02  8.17404911e-02 -5.56242801e-02\n",
            "  -6.81370348e-02  4.33154078e-03 -7.06175566e-02 -1.34451631e-02\n",
            "  -5.30730151e-02  3.81112136e-02 -7.53346160e-02 -1.49475029e-02\n",
            "   8.09919536e-02  4.72074002e-02  1.40099367e-02 -2.65245233e-02\n",
            "   4.15082723e-02  3.00463215e-02  2.38441285e-02 -6.94877729e-02\n",
            "   1.29477615e-02 -4.37367819e-02 -1.70148239e-02 -4.86394018e-02\n",
            "  -3.53214182e-02 -3.36395577e-02 -5.18091358e-02 -6.46244213e-02\n",
            "   7.19467327e-02  9.47172642e-02  5.35933673e-02 -3.29622589e-02\n",
            "   1.47214504e-02  8.76379083e-04  1.59495231e-02  4.75759096e-02\n",
            "   3.86513621e-02 -4.26098779e-02 -8.74239802e-02 -3.21063995e-02\n",
            "  -5.03233522e-02  1.97196286e-02  9.80506084e-05 -6.77010566e-02\n",
            "   3.62377171e-03  2.86963657e-02 -4.67287451e-02 -3.20583507e-02\n",
            "  -5.99180982e-02  4.67779525e-02  5.05857468e-02  1.09470524e-02\n",
            "  -5.93611710e-02  2.67451927e-02  4.60208729e-02 -2.09772890e-03\n",
            "   3.87560762e-02  5.54366671e-02  9.22290981e-02  4.09881659e-02\n",
            "   2.22011004e-02 -6.69740066e-02 -4.84140106e-02  4.96176183e-02\n",
            "  -3.17064822e-02  9.53439996e-02 -7.11892694e-02  6.95972592e-02\n",
            "  -8.69656727e-02 -2.13245476e-05  2.45079678e-02 -2.43825354e-02\n",
            "   8.27167183e-02 -9.93959885e-03 -2.69434806e-02  2.36699264e-02\n",
            "   2.34976001e-02  4.68458831e-02  7.55512668e-03  6.62595441e-04\n",
            "   1.72692146e-02 -4.54938710e-02  8.31231177e-02  4.32287753e-02\n",
            "  -1.83408726e-02  3.56812365e-02  1.48297744e-02  6.83305087e-03\n",
            "  -6.36643916e-02 -3.43890116e-02 -4.64668944e-02 -7.72215473e-03\n",
            "   7.61864381e-03 -1.60403159e-02  1.77778825e-02 -1.96382683e-02\n",
            "  -7.73779973e-02 -7.52876466e-03 -6.24272153e-02  4.49154042e-02\n",
            "  -1.41030392e-02  8.39840248e-02 -3.39499675e-02  1.90791972e-02\n",
            "   1.24693848e-02 -7.20580444e-02  5.81069365e-02 -3.30853858e-03\n",
            "  -3.00498400e-02 -2.10218299e-02 -1.72745362e-02  4.70920652e-02\n",
            "   1.80749372e-02  7.45661557e-02  4.39120680e-02 -2.19297148e-02\n",
            "  -4.96311300e-02  3.65760364e-02  8.43717530e-02 -3.43704969e-02\n",
            "  -2.05730665e-02 -8.54715630e-02 -4.54194732e-02 -4.67352010e-02\n",
            "  -2.08710376e-02  2.85365805e-02 -3.37189175e-02 -2.14390010e-02\n",
            "   5.17842397e-02  6.10096902e-02 -4.64267544e-02  1.48999821e-02\n",
            "  -5.61965182e-02  5.35664009e-03 -1.17098056e-02 -8.10327977e-02\n",
            "  -3.83912101e-02 -1.47406813e-02 -5.71081191e-02 -4.50065471e-02\n",
            "   2.66975351e-02  5.00497129e-03  1.14231873e-02  1.10177547e-02\n",
            "   1.02084167e-02  1.07519347e-02  2.46986337e-02 -1.08179972e-02\n",
            "   2.66181733e-02 -8.51138383e-02 -2.38973331e-02  8.25558081e-02\n",
            "   1.34578561e-02 -1.22480839e-02  4.56277542e-02 -8.19103420e-02\n",
            "   2.28799563e-02  2.41963775e-03 -5.33319972e-02 -6.67476505e-02\n",
            "  -1.79112554e-02 -4.39841254e-03  2.80039944e-02 -1.05611524e-02\n",
            "  -1.22335963e-02 -4.95154187e-02 -1.31917940e-02 -9.24465246e-03\n",
            "  -6.47747889e-02  2.07711309e-02 -3.54115218e-02 -1.57289505e-02\n",
            "  -1.94418002e-02 -7.33596645e-03  3.86029892e-02  3.10392510e-02\n",
            "   3.55832465e-02  7.55230503e-05  2.58196220e-02  5.35224415e-02\n",
            "  -7.05071315e-02  2.49870475e-02  5.67162670e-02  6.15097582e-02\n",
            "  -3.68269999e-03 -2.01015291e-03  6.41610939e-03 -1.78893807e-03\n",
            "  -1.64570343e-02  6.26033917e-02  4.30842564e-02  7.20004365e-02\n",
            "   5.65042309e-02 -5.13111949e-02  3.83129530e-02 -5.73734641e-02\n",
            "  -1.41436439e-02  6.01692237e-02 -2.15695426e-02  3.76632292e-04\n",
            "  -9.01137963e-02  6.00508749e-02 -4.13456894e-02  2.23155264e-02\n",
            "   3.45740803e-02 -2.25639772e-02 -4.09815162e-02 -1.84242539e-02\n",
            "   1.84343476e-02  5.46984412e-02  2.18396802e-02  2.80984957e-02\n",
            "  -2.54426505e-02  6.06271885e-02  4.02209014e-02 -4.83493246e-02\n",
            "  -3.56227346e-02 -8.64651799e-03 -4.36440445e-02  7.74344429e-03\n",
            "  -6.16329373e-04 -3.53918262e-02  4.15297858e-02 -4.53778636e-03\n",
            "  -3.63141000e-02 -6.22997880e-02 -5.80301601e-03  5.66845983e-02\n",
            "   5.43056577e-02 -4.89099771e-02  1.85647011e-02 -3.47805060e-02\n",
            "  -3.77668105e-02 -3.76170091e-02  5.18447682e-02 -4.39169221e-02\n",
            "  -7.44642282e-04 -7.51694813e-02  3.33271399e-02 -2.38255784e-02\n",
            "   1.90128256e-02  3.22679803e-02  5.68686705e-03  6.78504780e-02\n",
            "  -9.22564883e-03 -9.16130245e-02  2.53355391e-02 -3.55242863e-02\n",
            "  -4.15731454e-03 -6.12340961e-03 -5.69408163e-02  2.09965985e-02]], shape=(1, 512), dtype=float32)\n"
          ]
        }
      ]
    },
    {
      "cell_type": "code",
      "source": [
        "len(use_embedded_sentence[0])"
      ],
      "metadata": {
        "colab": {
          "base_uri": "https://localhost:8080/"
        },
        "id": "vZcbpbsTz1yV",
        "outputId": "920a13a2-3338-4a77-d1dd-b177a0c376ac"
      },
      "execution_count": 54,
      "outputs": [
        {
          "output_type": "execute_result",
          "data": {
            "text/plain": [
              "512"
            ]
          },
          "metadata": {},
          "execution_count": 54
        }
      ]
    },
    {
      "cell_type": "code",
      "source": [
        "# Create Model_2 (feature extraction model)\n",
        "\n",
        "inputs = layers.Input(shape=[], dtype = tf.string)\n",
        "embedding = hub_embedding_layer(inputs)\n",
        "# x = layers.Conv1D(64,kernel_size = 4, padding = 'same', activation = 'relu')(embedding)\n",
        "# x = layers.GlobalAveragePooling1D()(x)\n",
        "x = layers.Dense(128, activation = 'relu')(embedding)\n",
        "outputs = layers.Dense(num_classes, activation = 'softmax')(x)\n",
        "model_2 = tf.keras.Model(inputs, outputs)"
      ],
      "metadata": {
        "id": "W4PLqu_lz-NU"
      },
      "execution_count": 55,
      "outputs": []
    },
    {
      "cell_type": "code",
      "source": [
        "# COmpile model 2\n",
        "model_2.compile(loss = 'categorical_crossentropy',\n",
        "                optimizer = tf.keras.optimizers.Adam(),\n",
        "                metrics = ['accuracy'])"
      ],
      "metadata": {
        "id": "1LhLSFpT1U3G"
      },
      "execution_count": 56,
      "outputs": []
    },
    {
      "cell_type": "code",
      "source": [
        "model_2.summary()"
      ],
      "metadata": {
        "colab": {
          "base_uri": "https://localhost:8080/"
        },
        "id": "qLEDdo-G39hJ",
        "outputId": "428d9e37-2d14-4ed7-e393-639ffc26ce6e"
      },
      "execution_count": 57,
      "outputs": [
        {
          "output_type": "stream",
          "name": "stdout",
          "text": [
            "Model: \"model_1\"\n",
            "_________________________________________________________________\n",
            " Layer (type)                Output Shape              Param #   \n",
            "=================================================================\n",
            " input_2 (InputLayer)        [(None,)]                 0         \n",
            "                                                                 \n",
            " Universal_Sentence_Encoder   (None, 512)              256797824 \n",
            " (KerasLayer)                                                    \n",
            "                                                                 \n",
            " dense_1 (Dense)             (None, 128)               65664     \n",
            "                                                                 \n",
            " dense_2 (Dense)             (None, 5)                 645       \n",
            "                                                                 \n",
            "=================================================================\n",
            "Total params: 256,864,133\n",
            "Trainable params: 66,309\n",
            "Non-trainable params: 256,797,824\n",
            "_________________________________________________________________\n"
          ]
        }
      ]
    },
    {
      "cell_type": "code",
      "source": [
        "# Fit the model\n",
        "\n",
        "history_model_2 = model_2.fit(train_dataset,\n",
        "                              epochs = 3,\n",
        "                              steps_per_epoch = int(0.1 * len(train_dataset)),\n",
        "                              validation_data = valid_dataset,\n",
        "                              validation_steps = int(0.1 * len(valid_dataset)))"
      ],
      "metadata": {
        "colab": {
          "base_uri": "https://localhost:8080/"
        },
        "id": "FQG3oB-Z4AYu",
        "outputId": "eb6c7494-8151-4a99-e589-ee81d3b65205"
      },
      "execution_count": 58,
      "outputs": [
        {
          "output_type": "stream",
          "name": "stdout",
          "text": [
            "Epoch 1/3\n",
            "562/562 [==============================] - 11s 15ms/step - loss: 0.9202 - accuracy: 0.6480 - val_loss: 0.7975 - val_accuracy: 0.6898\n",
            "Epoch 2/3\n",
            "562/562 [==============================] - 7s 12ms/step - loss: 0.7691 - accuracy: 0.7016 - val_loss: 0.7540 - val_accuracy: 0.7045\n",
            "Epoch 3/3\n",
            "562/562 [==============================] - 7s 12ms/step - loss: 0.7517 - accuracy: 0.7126 - val_loss: 0.7374 - val_accuracy: 0.7154\n"
          ]
        }
      ]
    },
    {
      "cell_type": "code",
      "source": [
        "model_2.evaluate(valid_dataset)"
      ],
      "metadata": {
        "colab": {
          "base_uri": "https://localhost:8080/"
        },
        "id": "ywuJVbU25EM8",
        "outputId": "10d4a1da-86be-44cf-9966-8e3e429e81ab"
      },
      "execution_count": 59,
      "outputs": [
        {
          "output_type": "stream",
          "name": "stdout",
          "text": [
            "945/945 [==============================] - 9s 10ms/step - loss: 0.7408 - accuracy: 0.7144\n"
          ]
        },
        {
          "output_type": "execute_result",
          "data": {
            "text/plain": [
              "[0.7408158779144287, 0.7143850326538086]"
            ]
          },
          "metadata": {},
          "execution_count": 59
        }
      ]
    },
    {
      "cell_type": "code",
      "source": [
        "model_2_pred_probs = model_2.predict(valid_dataset)\n",
        "model_2_pred_probs"
      ],
      "metadata": {
        "colab": {
          "base_uri": "https://localhost:8080/"
        },
        "id": "-NqWCSio5Ou2",
        "outputId": "2d7a79a3-6554-4e8c-9182-b0c902127ff9"
      },
      "execution_count": 60,
      "outputs": [
        {
          "output_type": "execute_result",
          "data": {
            "text/plain": [
              "array([[4.1177526e-01, 3.7497774e-01, 2.5565510e-03, 2.0175663e-01,\n",
              "        8.9337863e-03],\n",
              "       [3.2509923e-01, 5.0701475e-01, 3.5754854e-03, 1.6082768e-01,\n",
              "        3.4828454e-03],\n",
              "       [2.3712763e-01, 1.6383563e-01, 2.0424468e-02, 5.4120106e-01,\n",
              "        3.7411187e-02],\n",
              "       ...,\n",
              "       [1.4689747e-03, 6.1363475e-03, 5.2214932e-02, 8.4117125e-04,\n",
              "        9.3933856e-01],\n",
              "       [3.1938457e-03, 4.4137690e-02, 1.9945091e-01, 1.3501603e-03,\n",
              "        7.5186741e-01],\n",
              "       [1.7036517e-01, 3.0216941e-01, 4.6215737e-01, 5.0693327e-03,\n",
              "        6.0238738e-02]], dtype=float32)"
            ]
          },
          "metadata": {},
          "execution_count": 60
        }
      ]
    },
    {
      "cell_type": "code",
      "source": [
        "# Convert the prediction probs tolabels\n",
        "model_2_preds = tf.argmax(model_2_pred_probs, axis = 1)\n",
        "model_2_preds"
      ],
      "metadata": {
        "colab": {
          "base_uri": "https://localhost:8080/"
        },
        "id": "AUqJd0Dl5bM8",
        "outputId": "d8d882fe-3ba3-4af3-a35c-d713e88b9586"
      },
      "execution_count": 61,
      "outputs": [
        {
          "output_type": "execute_result",
          "data": {
            "text/plain": [
              "<tf.Tensor: shape=(30212,), dtype=int64, numpy=array([0, 1, 3, ..., 4, 4, 2])>"
            ]
          },
          "metadata": {},
          "execution_count": 61
        }
      ]
    },
    {
      "cell_type": "code",
      "source": [
        "# Calculate results from pretrained embedding \n",
        "model_2_results = calculate_results(y_true = val_labels_encoded,\n",
        "                                    y_pred = model_2_preds)\n",
        "model_2_results"
      ],
      "metadata": {
        "colab": {
          "base_uri": "https://localhost:8080/"
        },
        "id": "9iI1WE3F5m3r",
        "outputId": "1c770834-d0b8-4477-ba27-af22ea613f87"
      },
      "execution_count": 62,
      "outputs": [
        {
          "output_type": "execute_result",
          "data": {
            "text/plain": [
              "{'accuracy': 71.43850125777837,\n",
              " 'precision': 0.7155717626234269,\n",
              " 'recall': 0.7143850125777836,\n",
              " 'f1': 0.7115514793138659}"
            ]
          },
          "metadata": {},
          "execution_count": 62
        }
      ]
    },
    {
      "cell_type": "markdown",
      "source": [
        "## Model3 : Conv1D with character level tokenization\n",
        "\n",
        "The paper we are replicating used char lvl embedding and world lvl embedding"
      ],
      "metadata": {
        "id": "aqnose2O53_L"
      }
    },
    {
      "cell_type": "markdown",
      "source": [
        "### Creating a char level tokenizer\n",
        "\n"
      ],
      "metadata": {
        "id": "Yf6MZXSNI8pH"
      }
    },
    {
      "cell_type": "code",
      "source": [
        "train_sentences[:5]"
      ],
      "metadata": {
        "colab": {
          "base_uri": "https://localhost:8080/"
        },
        "id": "T6JN2QE1KCLg",
        "outputId": "45a5aa45-8c5c-4596-eb9e-766dd79884f4"
      },
      "execution_count": 63,
      "outputs": [
        {
          "output_type": "execute_result",
          "data": {
            "text/plain": [
              "['to investigate the efficacy of @ weeks of daily low-dose oral prednisolone in improving pain , mobility , and systemic low-grade inflammation in the short term and whether the effect would be sustained at @ weeks in older adults with moderate to severe knee osteoarthritis ( oa ) .',\n",
              " 'a total of @ patients with primary knee oa were randomized @:@ ; @ received @ mg/day of prednisolone and @ received placebo for @ weeks .',\n",
              " 'outcome measures included pain reduction and improvement in function scores and systemic inflammation markers .',\n",
              " 'pain was assessed using the visual analog pain scale ( @-@ mm ) .',\n",
              " 'secondary outcome measures included the western ontario and mcmaster universities osteoarthritis index scores , patient global assessment ( pga ) of the severity of knee oa , and @-min walk distance ( @mwd ) .']"
            ]
          },
          "metadata": {},
          "execution_count": 63
        }
      ]
    },
    {
      "cell_type": "code",
      "source": [
        "def split_chars(text):\n",
        "  return ' '.join(list(text))"
      ],
      "metadata": {
        "id": "zGveJSizKEmZ"
      },
      "execution_count": 64,
      "outputs": []
    },
    {
      "cell_type": "code",
      "source": [
        "# Split sequence level data splits into char level data spilts\n",
        "\n",
        "train_chars = [split_chars(sentence) for sentence in train_sentences]\n",
        "val_chars = [split_chars(sentence) for  sentence in val_sentences]\n",
        "test_chars = [split_chars(sentence) for sentence in test_sentences]"
      ],
      "metadata": {
        "id": "0wdZd6SiKmzi"
      },
      "execution_count": 65,
      "outputs": []
    },
    {
      "cell_type": "code",
      "source": [
        "char_lens = [len(sentence) for sentence in train_sentences]\n",
        "mean_char_lens = np.mean(char_lens)\n",
        "mean_char_lens"
      ],
      "metadata": {
        "colab": {
          "base_uri": "https://localhost:8080/"
        },
        "id": "ym7kmRvCLHp3",
        "outputId": "469477a7-ed86-4f05-f270-a8435239a4ea"
      },
      "execution_count": 66,
      "outputs": [
        {
          "output_type": "execute_result",
          "data": {
            "text/plain": [
              "149.3662574983337"
            ]
          },
          "metadata": {},
          "execution_count": 66
        }
      ]
    },
    {
      "cell_type": "code",
      "source": [
        "# Check the distribution of the sequences at a char level\n",
        "\n",
        "import matplotlib.pyplot as plt\n",
        "plt.hist(char_lens, bins = 20)"
      ],
      "metadata": {
        "colab": {
          "base_uri": "https://localhost:8080/",
          "height": 446
        },
        "id": "2sc_OHoJLXAH",
        "outputId": "c425f4ae-fa53-45a6-9782-9a1562b327f2"
      },
      "execution_count": 67,
      "outputs": [
        {
          "output_type": "execute_result",
          "data": {
            "text/plain": [
              "(array([2.2108e+04, 7.0583e+04, 5.3952e+04, 2.2391e+04, 7.4540e+03,\n",
              "        2.2350e+03, 8.0200e+02, 2.8700e+02, 1.1800e+02, 4.9000e+01,\n",
              "        2.9000e+01, 1.3000e+01, 8.0000e+00, 5.0000e+00, 1.0000e+00,\n",
              "        2.0000e+00, 1.0000e+00, 1.0000e+00, 0.0000e+00, 1.0000e+00]),\n",
              " array([1.00000e+00, 7.02500e+01, 1.39500e+02, 2.08750e+02, 2.78000e+02,\n",
              "        3.47250e+02, 4.16500e+02, 4.85750e+02, 5.55000e+02, 6.24250e+02,\n",
              "        6.93500e+02, 7.62750e+02, 8.32000e+02, 9.01250e+02, 9.70500e+02,\n",
              "        1.03975e+03, 1.10900e+03, 1.17825e+03, 1.24750e+03, 1.31675e+03,\n",
              "        1.38600e+03]),\n",
              " <a list of 20 Patch objects>)"
            ]
          },
          "metadata": {},
          "execution_count": 67
        },
        {
          "output_type": "display_data",
          "data": {
            "text/plain": [
              "<Figure size 432x288 with 1 Axes>"
            ],
            "image/png": "[encoded data removed]"
          },
          "metadata": {
            "needs_background": "light"
          }
        }
      ]
    },
    {
      "cell_type": "code",
      "source": [
        "# Find what char lenght covers 95% of sequences\n",
        "output_seq_char_len = int(np.percentile(char_lens, 95))\n",
        "output_seq_char_len"
      ],
      "metadata": {
        "colab": {
          "base_uri": "https://localhost:8080/"
        },
        "id": "UeB4EOv_Lp2H",
        "outputId": "2adae42f-32df-4f37-ab49-bfd016030867"
      },
      "execution_count": 68,
      "outputs": [
        {
          "output_type": "execute_result",
          "data": {
            "text/plain": [
              "290"
            ]
          },
          "metadata": {},
          "execution_count": 68
        }
      ]
    },
    {
      "cell_type": "code",
      "source": [
        "import string\n",
        "\n",
        "alphabet = string.ascii_lowercase + string.digits + string.punctuation\n",
        "alphabet"
      ],
      "metadata": {
        "colab": {
          "base_uri": "https://localhost:8080/",
          "height": 36
        },
        "id": "Ky8b9bW8SXXC",
        "outputId": "4ebf2751-e654-4996-de28-dbd936cfe40d"
      },
      "execution_count": 69,
      "outputs": [
        {
          "output_type": "execute_result",
          "data": {
            "text/plain": [
              "'abcdefghijklmnopqrstuvwxyz0123456789!\"#$%&\\'()*+,-./:;<=>?@[\\\\]^_`{|}~'"
            ],
            "application/vnd.google.colaboratory.intrinsic+json": {
              "type": "string"
            }
          },
          "metadata": {},
          "execution_count": 69
        }
      ]
    },
    {
      "cell_type": "code",
      "source": [
        "# Create char lvl token vectorizer instance\n",
        "\n",
        "NUM_CHAR_TOKENS = len(alphabet) + 2 # '+2' for space and OOV\n",
        "char_vectorizer = TextVectorization(max_tokens = NUM_CHAR_TOKENS,\n",
        "                                    output_sequence_length = output_seq_char_len,\n",
        "                                    # standardize = None,\n",
        "                                    name = 'char_vectorizer')"
      ],
      "metadata": {
        "id": "H-wmwr2cR0x0"
      },
      "execution_count": 70,
      "outputs": []
    },
    {
      "cell_type": "code",
      "source": [
        "# Adapt char vectorizer to training character\n",
        "\n",
        "char_vectorizer.adapt(train_chars)"
      ],
      "metadata": {
        "id": "S2lvGJKwR7cN"
      },
      "execution_count": 71,
      "outputs": []
    },
    {
      "cell_type": "code",
      "source": [
        "# Check char vocab stats \n",
        "char_vocab = char_vectorizer.get_vocabulary()\n",
        "print(f'Num of diff char {len(char_vocab)}')\n",
        "print(f'5 most common char: {char_vocab[:5]}')\n",
        "print(f'% least common char: {char_vocab[-5:]}')"
      ],
      "metadata": {
        "colab": {
          "base_uri": "https://localhost:8080/"
        },
        "id": "Lt1cmAJHUUbA",
        "outputId": "c2dc8477-b819-4868-bd23-bb344ae3050e"
      },
      "execution_count": 72,
      "outputs": [
        {
          "output_type": "stream",
          "name": "stdout",
          "text": [
            "Num of diff char 28\n",
            "5 most common char: ['', '[UNK]', 'e', 't', 'i']\n",
            "% least common char: ['k', 'x', 'z', 'q', 'j']\n"
          ]
        }
      ]
    },
    {
      "cell_type": "code",
      "source": [
        "# Test  out our char vectorizer\n",
        "\n",
        "random_train_chars = random.choice(train_chars)\n",
        "print(f'Charified text:\\n {random_train_chars}')\n",
        "print(f'Len of random_train_char:{len(random_train_chars.split())}')\n",
        "vectorized_chars = char_vectorizer([random_train_chars])\n",
        "print(f'Vectorized chars:\\n {vectorized_chars}')\n",
        "print(f'Len of vectorized chars:{len(vectorized_chars[0])}')"
      ],
      "metadata": {
        "colab": {
          "base_uri": "https://localhost:8080/"
        },
        "id": "tl3TD41jWsMj",
        "outputId": "3990ece7-e7d0-4c64-d6eb-64f5044276f4"
      },
      "execution_count": 73,
      "outputs": [
        {
          "output_type": "stream",
          "name": "stdout",
          "text": [
            "Charified text:\n",
            " s a m a t a s v i r   i s   b e i n g   e v a l u a t e d   i n   c o m b i n a t i o n   w i t h   o t h e r   d i r e c t - a c t i n g   a n t i v i r a l   a g e n t s   i n   s u b j e c t s   w i t h   h c v   i n f e c t i o n   .\n",
            "Len of random_train_char:103\n",
            "Vectorized chars:\n",
            " [[ 9  5 15  5  3  5  9 21  4  8  4  9 22  2  4  6 18  2 21  5 12 16  5  3\n",
            "   2 10  4  6 11  7 15 22  4  6  5  3  4  7  6 20  4  3 13  7  3 13  2  8\n",
            "  10  4  8  2 11  3  5 11  3  4  6 18  5  6  3  4 21  4  8  5 12  5 18  2\n",
            "   6  3  9  4  6  9 16 22 27  2 11  3  9 20  4  3 13 13 11 21  4  6 17  2\n",
            "  11  3  4  7  6  0  0  0  0  0  0  0  0  0  0  0  0  0  0  0  0  0  0  0\n",
            "   0  0  0  0  0  0  0  0  0  0  0  0  0  0  0  0  0  0  0  0  0  0  0  0\n",
            "   0  0  0  0  0  0  0  0  0  0  0  0  0  0  0  0  0  0  0  0  0  0  0  0\n",
            "   0  0  0  0  0  0  0  0  0  0  0  0  0  0  0  0  0  0  0  0  0  0  0  0\n",
            "   0  0  0  0  0  0  0  0  0  0  0  0  0  0  0  0  0  0  0  0  0  0  0  0\n",
            "   0  0  0  0  0  0  0  0  0  0  0  0  0  0  0  0  0  0  0  0  0  0  0  0\n",
            "   0  0  0  0  0  0  0  0  0  0  0  0  0  0  0  0  0  0  0  0  0  0  0  0\n",
            "   0  0  0  0  0  0  0  0  0  0  0  0  0  0  0  0  0  0  0  0  0  0  0  0\n",
            "   0  0]]\n",
            "Len of vectorized chars:290\n"
          ]
        }
      ]
    },
    {
      "cell_type": "markdown",
      "source": [
        "## Creating a char level embedding\n",
        "\n"
      ],
      "metadata": {
        "id": "EzhZYLyJXbkr"
      }
    },
    {
      "cell_type": "code",
      "source": [
        "# Create char lvl embedding\n",
        "\n",
        "char_embed = layers.Embedding(input_dim = len(char_vocab),\n",
        "                              output_dim = 25,\n",
        "                              mask_zero = True,\n",
        "                              name = 'char_embed')"
      ],
      "metadata": {
        "id": "cvdLCZT6ezXx"
      },
      "execution_count": 74,
      "outputs": []
    },
    {
      "cell_type": "code",
      "source": [
        "# Test our char embedding layer\n",
        "print(f'Charified text:\\n {random_train_chars}')\n",
        "char_embed_example = char_embed(char_vectorizer([random_train_chars]))\n",
        "print(f'Embedded chars: \\n {char_embed_example}')\n",
        "print(f'Char embedding shape: {char_embed_example.shape}')"
      ],
      "metadata": {
        "colab": {
          "base_uri": "https://localhost:8080/"
        },
        "id": "XUsZ4r28fneS",
        "outputId": "db721797-652c-4a95-d21f-b827d88c2e26"
      },
      "execution_count": 75,
      "outputs": [
        {
          "output_type": "stream",
          "name": "stdout",
          "text": [
            "Charified text:\n",
            " s a m a t a s v i r   i s   b e i n g   e v a l u a t e d   i n   c o m b i n a t i o n   w i t h   o t h e r   d i r e c t - a c t i n g   a n t i v i r a l   a g e n t s   i n   s u b j e c t s   w i t h   h c v   i n f e c t i o n   .\n",
            "Embedded chars: \n",
            " [[[ 0.00888921  0.02177718 -0.03401557 ... -0.02613834 -0.01599114\n",
            "    0.0085637 ]\n",
            "  [-0.03563682  0.02746055 -0.01382481 ...  0.01997926 -0.02317023\n",
            "    0.03928849]\n",
            "  [ 0.02172576  0.02143406 -0.00887288 ... -0.04192891 -0.02551976\n",
            "    0.01481701]\n",
            "  ...\n",
            "  [ 0.03603632  0.03247471 -0.04593767 ... -0.0035864  -0.02656955\n",
            "    0.0177195 ]\n",
            "  [ 0.03603632  0.03247471 -0.04593767 ... -0.0035864  -0.02656955\n",
            "    0.0177195 ]\n",
            "  [ 0.03603632  0.03247471 -0.04593767 ... -0.0035864  -0.02656955\n",
            "    0.0177195 ]]]\n",
            "Char embedding shape: (1, 290, 25)\n"
          ]
        }
      ]
    },
    {
      "cell_type": "markdown",
      "source": [
        "## Model 3 "
      ],
      "metadata": {
        "id": "a3EeqWmQgKCe"
      }
    },
    {
      "cell_type": "code",
      "source": [
        "# Create the model\n",
        "\n",
        "inputs = layers.Input(shape = (1,), dtype= tf.string)\n",
        "char_vectors = char_vectorizer(inputs)\n",
        "char_embedding = char_embed(char_vectors)\n",
        "x = layers.Conv1D(64, kernel_size = 5, padding = 'same', activation = 'relu')(char_embedding)\n",
        "x = layers.GlobalMaxPooling1D()(x)\n",
        "outputs = layers.Dense(num_classes, activation = 'softmax')(x)\n",
        "model_3 = tf.keras.Model(inputs, outputs, name = 'model_3_char')"
      ],
      "metadata": {
        "id": "Y-3KiK4Iguw4"
      },
      "execution_count": 76,
      "outputs": []
    },
    {
      "cell_type": "code",
      "source": [
        "model_3.compile(loss = 'categorical_crossentropy',\n",
        "                optimizer = tf.keras.optimizers.Adam(),\n",
        "                metrics = ['accuracy'])"
      ],
      "metadata": {
        "id": "DLLO3Ga_hsAN"
      },
      "execution_count": 77,
      "outputs": []
    },
    {
      "cell_type": "code",
      "source": [
        "# Create char lvl datasets\n",
        "\n",
        "train_char_dataset = tf.data.Dataset.from_tensor_slices((train_chars, train_labels_one_hot)).batch(32).prefetch(tf.data.AUTOTUNE)\n",
        "val_char_dataset = tf.data.Dataset.from_tensor_slices((val_chars, val_labels_one_hot)).batch(32).prefetch(tf.data.AUTOTUNE)\n",
        "test_char_dataset = tf.data.Dataset.from_tensor_slices((test_chars, test_labels_one_hot)).batch(32).prefetch(tf.data.AUTOTUNE)"
      ],
      "metadata": {
        "id": "2rksMnTIh3e9"
      },
      "execution_count": 94,
      "outputs": []
    },
    {
      "cell_type": "code",
      "source": [
        "model_3_history = model_3.fit(train_char_dataset,\n",
        "                              steps_per_epoch = int(0.1 * len(train_char_dataset)),\n",
        "                              epochs = 3,\n",
        "                              validation_data = val_char_dataset,\n",
        "                              validation_steps = int(0.1 * len(val_char_dataset)))"
      ],
      "metadata": {
        "colab": {
          "base_uri": "https://localhost:8080/"
        },
        "id": "jSak-oSljAoW",
        "outputId": "f0f90e07-ab10-41fa-b899-cfa53ab17b47"
      },
      "execution_count": 95,
      "outputs": [
        {
          "output_type": "stream",
          "name": "stdout",
          "text": [
            "Epoch 1/3\n",
            "562/562 [==============================] - 4s 5ms/step - loss: 1.2726 - accuracy: 0.4815 - val_loss: 1.0353 - val_accuracy: 0.5967\n",
            "Epoch 2/3\n",
            "562/562 [==============================] - 3s 5ms/step - loss: 1.0023 - accuracy: 0.5978 - val_loss: 0.9336 - val_accuracy: 0.6260\n",
            "Epoch 3/3\n",
            "562/562 [==============================] - 3s 5ms/step - loss: 0.9230 - accuracy: 0.6387 - val_loss: 0.8642 - val_accuracy: 0.6592\n"
          ]
        }
      ]
    },
    {
      "cell_type": "code",
      "source": [
        "model_3_pred_probs = model_3.predict(val_char_dataset)\n",
        "model_3_pred_probs"
      ],
      "metadata": {
        "colab": {
          "base_uri": "https://localhost:8080/"
        },
        "id": "qZn1NHkXj0vC",
        "outputId": "f09aed8f-347b-4eb4-a5c2-f816c1789aeb"
      },
      "execution_count": 96,
      "outputs": [
        {
          "output_type": "execute_result",
          "data": {
            "text/plain": [
              "array([[0.19886218, 0.4500577 , 0.1203532 , 0.18084617, 0.04988081],\n",
              "       [0.09130343, 0.6054173 , 0.04990515, 0.12056588, 0.13280821],\n",
              "       [0.09153177, 0.1406209 , 0.5213458 , 0.21805757, 0.02844391],\n",
              "       ...,\n",
              "       [0.02711945, 0.03189283, 0.13993111, 0.0243731 , 0.7766835 ],\n",
              "       [0.026516  , 0.09922184, 0.3748703 , 0.02720875, 0.47218314],\n",
              "       [0.4257528 , 0.3094997 , 0.19223003, 0.05757601, 0.01494135]],\n",
              "      dtype=float32)"
            ]
          },
          "metadata": {},
          "execution_count": 96
        }
      ]
    },
    {
      "cell_type": "code",
      "source": [
        "model_3_preds = tf.argmax(model_3_pred_probs, axis = 1)\n",
        "model_3_preds"
      ],
      "metadata": {
        "colab": {
          "base_uri": "https://localhost:8080/"
        },
        "id": "lAwNdQuDkT03",
        "outputId": "fcc05394-9c4d-43a3-b615-0c855623553b"
      },
      "execution_count": 97,
      "outputs": [
        {
          "output_type": "execute_result",
          "data": {
            "text/plain": [
              "<tf.Tensor: shape=(30212,), dtype=int64, numpy=array([1, 1, 2, ..., 4, 4, 0])>"
            ]
          },
          "metadata": {},
          "execution_count": 97
        }
      ]
    },
    {
      "cell_type": "code",
      "source": [
        "model_3_results = calculate_results(y_true = val_labels_encoded,\n",
        "                                    y_pred = model_3_preds)"
      ],
      "metadata": {
        "id": "8Gr9Z16nkqPm"
      },
      "execution_count": 98,
      "outputs": []
    },
    {
      "cell_type": "code",
      "source": [
        "model_3_results"
      ],
      "metadata": {
        "colab": {
          "base_uri": "https://localhost:8080/"
        },
        "id": "hNYfC2LGlIaA",
        "outputId": "635ea665-d968-4bcd-9691-36d7d86706f0"
      },
      "execution_count": 99,
      "outputs": [
        {
          "output_type": "execute_result",
          "data": {
            "text/plain": [
              "{'accuracy': 65.09334039454522,\n",
              " 'precision': 0.6410876932684922,\n",
              " 'recall': 0.6509334039454522,\n",
              " 'f1': 0.6387153645043815}"
            ]
          },
          "metadata": {},
          "execution_count": 99
        }
      ]
    },
    {
      "cell_type": "markdown",
      "source": [
        "# Model 4:  Combining pretrained token embedding + character embeddings\n",
        "\n",
        ">Create a token level embedding model\n",
        "\n",
        ">Create a char level embedding model\n",
        "\n",
        ">Combing the above two\n",
        "\n",
        ">Build a series of output layes on top of 3 \n",
        "\n",
        ">Construct a model which takes token and char\n",
        "    "
      ],
      "metadata": {
        "id": "-ttk4aBFlLIm"
      }
    },
    {
      "cell_type": "code",
      "source": [
        "# Setup token inputs/model\n",
        "\n",
        "token_inputs = layers.Input(shape=[], dtype = tf.string, name = 'token_input')\n",
        "token_embedding = hub_embedding_layer(token_inputs)\n",
        "token_output = layers.Dense(128, activation = 'relu')(token_embedding)\n",
        "token_model = tf.keras.Model(inputs = token_inputs,\n",
        "                             outputs = token_output)\n",
        "\n",
        "# Setup char inputs/model\n",
        "\n",
        "char_inputs = layers.Input(shape =(1,), dtype = tf.string, name = 'char_input')\n",
        "char_vectors = char_vectorizer(char_inputs)\n",
        "char_embeddings = char_embed(char_vectors)\n",
        "char_bi_lstm = layers.Bidirectional(layers.LSTM(24))(char_embeddings)\n",
        "char_model = tf.keras.Model(char_inputs, char_bi_lstm)\n",
        "\n",
        "# Concatenate token and char inputs\n",
        "token_char_concat = layers.Concatenate(name = 'token_char_hybrid')([token_model.output,\n",
        "                                                                   char_model.output])\n",
        "# Create output layers - adding in Dropout discussed \n",
        "combined_dropout = layers.Dropout(0.5)(token_char_concat)\n",
        "combined_dense = layers.Dense(128, activation = 'relu')(combined_dropout)\n",
        "final_dropout = layers.Dropout(0.5)(combined_dense)\n",
        "output_layer = layers.Dense(num_classes, activation = 'softmax')(final_dropout)\n",
        "\n",
        "# Construct model with char and token input\n",
        "model_4 = tf.keras.Model(inputs = (token_model.input, char_model.input),\n",
        "                         outputs = output_layer,\n",
        "                         name = 'model_4_token_char')"
      ],
      "metadata": {
        "id": "IHiuPHbNnKYF"
      },
      "execution_count": 102,
      "outputs": []
    },
    {
      "cell_type": "code",
      "source": [
        "model_4.summary()"
      ],
      "metadata": {
        "colab": {
          "base_uri": "https://localhost:8080/"
        },
        "id": "optWiWtooFt9",
        "outputId": "5cc81151-bd35-4dfc-b4bb-b8627e8457b9"
      },
      "execution_count": 103,
      "outputs": [
        {
          "output_type": "stream",
          "name": "stdout",
          "text": [
            "Model: \"model_4_token_char\"\n",
            "__________________________________________________________________________________________________\n",
            " Layer (type)                   Output Shape         Param #     Connected to                     \n",
            "==================================================================================================\n",
            " char_input (InputLayer)        [(None, 1)]          0           []                               \n",
            "                                                                                                  \n",
            " token_input (InputLayer)       [(None,)]            0           []                               \n",
            "                                                                                                  \n",
            " char_vectorizer (TextVectoriza  (None, 290)         0           ['char_input[0][0]']             \n",
            " tion)                                                                                            \n",
            "                                                                                                  \n",
            " Universal_Sentence_Encoder (Ke  (None, 512)         256797824   ['token_input[0][0]']            \n",
            " rasLayer)                                                                                        \n",
            "                                                                                                  \n",
            " char_embed (Embedding)         (None, 290, 25)      700         ['char_vectorizer[5][0]']        \n",
            "                                                                                                  \n",
            " dense_10 (Dense)               (None, 128)          65664       ['Universal_Sentence_Encoder[5][0\n",
            "                                                                 ]']                              \n",
            "                                                                                                  \n",
            " bidirectional_4 (Bidirectional  (None, 48)          9600        ['char_embed[5][0]']             \n",
            " )                                                                                                \n",
            "                                                                                                  \n",
            " token_char_hybrid (Concatenate  (None, 176)         0           ['dense_10[0][0]',               \n",
            " )                                                                'bidirectional_4[0][0]']        \n",
            "                                                                                                  \n",
            " dropout_2 (Dropout)            (None, 176)          0           ['token_char_hybrid[0][0]']      \n",
            "                                                                                                  \n",
            " dense_11 (Dense)               (None, 128)          22656       ['dropout_2[0][0]']              \n",
            "                                                                                                  \n",
            " dropout_3 (Dropout)            (None, 128)          0           ['dense_11[0][0]']               \n",
            "                                                                                                  \n",
            " dense_12 (Dense)               (None, 5)            645         ['dropout_3[0][0]']              \n",
            "                                                                                                  \n",
            "==================================================================================================\n",
            "Total params: 256,897,089\n",
            "Trainable params: 99,265\n",
            "Non-trainable params: 256,797,824\n",
            "__________________________________________________________________________________________________\n"
          ]
        }
      ]
    },
    {
      "cell_type": "code",
      "source": [
        "from tensorflow.keras.utils import plot_model\n",
        "plot_model(model_4, show_shapes= True)"
      ],
      "metadata": {
        "colab": {
          "base_uri": "https://localhost:8080/",
          "height": 604
        },
        "id": "Z7mfARn7L1Un",
        "outputId": "02d7ffcf-eb1c-4549-f824-b0c8a7e23152"
      },
      "execution_count": 106,
      "outputs": [
        {
          "output_type": "execute_result",
          "data": {
            "image/png": "[encoded data removed]",
            "text/plain": [
              "<IPython.core.display.Image object>"
            ]
          },
          "metadata": {},
          "execution_count": 106
        }
      ]
    },
    {
      "cell_type": "code",
      "source": [
        "# Compile token char model\n",
        "model_4.compile(loss = 'categorical_crossentropy',\n",
        "                optimizer = 'Adam',\n",
        "                metrics = ['accuracy'])"
      ],
      "metadata": {
        "id": "_nbj2OtkMG1W"
      },
      "execution_count": 107,
      "outputs": []
    },
    {
      "cell_type": "markdown",
      "source": [
        "### Combining token and char datasets before fitting"
      ],
      "metadata": {
        "id": "nJo8f8SXOREN"
      }
    },
    {
      "cell_type": "code",
      "source": [
        "# Turn our data into Tensorflow Datasets\n",
        "\n",
        "train_char_token_data = tf.data.Dataset.from_tensor_slices((train_sentences, train_chars)) # make data\n",
        "train_char_token_labels = tf.data.Dataset.from_tensor_slices(train_labels_one_hot) # make labels\n",
        "train_char_token_dataset = tf.data.Dataset.zip((train_char_token_data, train_char_token_labels))"
      ],
      "metadata": {
        "id": "op7qPsIONHkv"
      },
      "execution_count": 111,
      "outputs": []
    },
    {
      "cell_type": "code",
      "source": [
        "train_char_token_dataset = train_char_token_dataset.batch(32).prefetch(tf.data.AUTOTUNE)"
      ],
      "metadata": {
        "id": "Z_KeBVpVOGGE"
      },
      "execution_count": 112,
      "outputs": []
    },
    {
      "cell_type": "code",
      "source": [
        "val_char_token_data = tf.data.Dataset.from_tensor_slices((val_sentences, val_chars))\n",
        "val_char_token_labels = tf.data.Dataset.from_tensor_slices(val_labels_one_hot)\n",
        "val_char_token_dataset = tf.data.Dataset.zip((val_char_token_data, val_char_token_labels))"
      ],
      "metadata": {
        "id": "d_Qqsta1QNoh"
      },
      "execution_count": 115,
      "outputs": []
    },
    {
      "cell_type": "code",
      "source": [
        "val_char_token_dataset = val_char_token_dataset"
      ],
      "metadata": {
        "id": "ggFBGD0aQa5A"
      },
      "execution_count": null,
      "outputs": []
    }
  ]
}