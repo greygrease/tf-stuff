{
  "nbformat": 4,
  "nbformat_minor": 0,
  "metadata": {
    "colab": {
      "provenance": [],
      "include_colab_link": true
    },
    "kernelspec": {
      "name": "python3",
      "display_name": "Python 3"
    },
    "language_info": {
      "name": "python"
    },
    "accelerator": "GPU"
  },
  "cells": [
    {
      "cell_type": "markdown",
      "metadata": {
        "id": "view-in-github",
        "colab_type": "text"
      },
      "source": [
        "<a href=\"https://colab.research.google.com/github/greygrease/tf-stuff/blob/main/Sentiment_Analysis_MultiModel_NN_tf.ipynb\" target=\"_parent\"><img src=\"https://colab.research.google.com/assets/colab-badge.svg\" alt=\"Open In Colab\"/></a>"
      ]
    },
    {
      "cell_type": "markdown",
      "source": [
        "## Import Helper Functions"
      ],
      "metadata": {
        "id": "TYS3gHyYWp-X"
      }
    },
    {
      "cell_type": "code",
      "source": [
        "!wget https://raw.githubusercontent.com/mrdbourke/tensorflow-deep-learning/main/extras/helper_functions.py"
      ],
      "metadata": {
        "colab": {
          "base_uri": "https://localhost:8080/"
        },
        "id": "Sjf98xAtWyCa",
        "outputId": "1b5cc272-a7b2-41a1-9281-a2b941620567"
      },
      "execution_count": 12,
      "outputs": [
        {
          "output_type": "stream",
          "name": "stdout",
          "text": [
            "--2022-09-27 06:19:47--  https://raw.githubusercontent.com/mrdbourke/tensorflow-deep-learning/main/extras/helper_functions.py\n",
            "Resolving raw.githubusercontent.com (raw.githubusercontent.com)... 185.199.110.133, 185.199.109.133, 185.199.111.133, ...\n",
            "Connecting to raw.githubusercontent.com (raw.githubusercontent.com)|185.199.110.133|:443... connected.\n",
            "HTTP request sent, awaiting response... 200 OK\n",
            "Length: 10246 (10K) [text/plain]\n",
            "Saving to: ‘helper_functions.py’\n",
            "\n",
            "\rhelper_functions.py   0%[                    ]       0  --.-KB/s               \rhelper_functions.py 100%[===================>]  10.01K  --.-KB/s    in 0s      \n",
            "\n",
            "2022-09-27 06:19:47 (111 MB/s) - ‘helper_functions.py’ saved [10246/10246]\n",
            "\n"
          ]
        }
      ]
    },
    {
      "cell_type": "code",
      "source": [
        "from helper_functions import unzip_data, create_tensorboard_callback,compare_historys, plot_loss_curves, calculate_results"
      ],
      "metadata": {
        "id": "Xvs9eekZW2Yo"
      },
      "execution_count": 13,
      "outputs": []
    },
    {
      "cell_type": "markdown",
      "source": [
        "## Download and Import Dataset"
      ],
      "metadata": {
        "id": "-31xr4fNVf22"
      }
    },
    {
      "cell_type": "code",
      "source": [
        "from google.colab import drive\n",
        "drive.mount('/content/gdrive')"
      ],
      "metadata": {
        "colab": {
          "base_uri": "https://localhost:8080/"
        },
        "id": "3TzVk8_IVdbD",
        "outputId": "cd0055af-37ff-41d7-8450-19489324a9c0"
      },
      "execution_count": 14,
      "outputs": [
        {
          "output_type": "stream",
          "name": "stdout",
          "text": [
            "Drive already mounted at /content/gdrive; to attempt to forcibly remount, call drive.mount(\"/content/gdrive\", force_remount=True).\n"
          ]
        }
      ]
    },
    {
      "cell_type": "code",
      "source": [
        "import os\n",
        "os.environ['KAGGLE_CONFIG_DIR'] = '/content/gdrive/My Drive/kaggle_dataset'"
      ],
      "metadata": {
        "id": "uAdMzjkYV9tB"
      },
      "execution_count": 15,
      "outputs": []
    },
    {
      "cell_type": "code",
      "source": [
        "%cd /content/gdrive/My Drive/kaggle_dataset"
      ],
      "metadata": {
        "id": "xjOQCfpBV_eb",
        "colab": {
          "base_uri": "https://localhost:8080/"
        },
        "outputId": "f45b697b-29c9-4ef7-cef9-b85977c992fb"
      },
      "execution_count": 16,
      "outputs": [
        {
          "output_type": "stream",
          "name": "stdout",
          "text": [
            "/content/gdrive/My Drive/kaggle_dataset\n"
          ]
        }
      ]
    },
    {
      "cell_type": "code",
      "source": [
        "!kaggle datasets download -d kazanova/sentiment140"
      ],
      "metadata": {
        "id": "bsVrci3fWMqW",
        "colab": {
          "base_uri": "https://localhost:8080/"
        },
        "outputId": "437acb49-5835-434b-9772-55970c94239b"
      },
      "execution_count": 17,
      "outputs": [
        {
          "output_type": "stream",
          "name": "stdout",
          "text": [
            "Downloading sentiment140.zip to /content/gdrive/My Drive/kaggle_dataset\n",
            " 93% 75.0M/80.9M [00:00<00:00, 143MB/s]\n",
            "100% 80.9M/80.9M [00:00<00:00, 135MB/s]\n"
          ]
        }
      ]
    },
    {
      "cell_type": "code",
      "source": [
        "!mkdir sentiment140_unpacked\n",
        "!mv sentiment140.zip sentiment140_unpacked"
      ],
      "metadata": {
        "id": "FUMw1r8TXCqu"
      },
      "execution_count": 18,
      "outputs": []
    },
    {
      "cell_type": "code",
      "source": [
        "%cd sentiment140_unpacked/"
      ],
      "metadata": {
        "id": "6XtDX977XPnc",
        "colab": {
          "base_uri": "https://localhost:8080/"
        },
        "outputId": "f0336b43-6d9a-47eb-a7eb-f694fa0f93c8"
      },
      "execution_count": 19,
      "outputs": [
        {
          "output_type": "stream",
          "name": "stdout",
          "text": [
            "/content/gdrive/My Drive/kaggle_dataset/sentiment140_unpacked\n"
          ]
        }
      ]
    },
    {
      "cell_type": "code",
      "source": [
        "!unzip sentiment140.zip"
      ],
      "metadata": {
        "id": "AZFxGb4-XhoE",
        "colab": {
          "base_uri": "https://localhost:8080/"
        },
        "outputId": "34925579-9d67-4e69-904b-9c4bddc1ab2c"
      },
      "execution_count": 20,
      "outputs": [
        {
          "output_type": "stream",
          "name": "stdout",
          "text": [
            "Archive:  sentiment140.zip\n",
            "  inflating: training.1600000.processed.noemoticon.csv  \n"
          ]
        }
      ]
    },
    {
      "cell_type": "markdown",
      "source": [
        "## Create a pandas dataframe and preprocess the data\n",
        "\n"
      ],
      "metadata": {
        "id": "z8OHrJVEYLFg"
      }
    },
    {
      "cell_type": "code",
      "source": [
        "import pandas as pd\n",
        "\n",
        "sentiment_df = pd.read_csv('/content/gdrive/MyDrive/kaggle_dataset/sentiment140_unpacked/training.1600000.processed.noemoticon.csv', encoding='latin-1')"
      ],
      "metadata": {
        "id": "ikaWMdysX54C"
      },
      "execution_count": 21,
      "outputs": []
    },
    {
      "cell_type": "code",
      "source": [
        "sentiment_df = sentiment_df.drop(['Mon Apr 06 22:19:45 PDT 2009', 'NO_QUERY', '_TheSpecialOne_', '1467810369'], axis = 1)"
      ],
      "metadata": {
        "id": "mkyAXDt_aZKS"
      },
      "execution_count": 22,
      "outputs": []
    },
    {
      "cell_type": "code",
      "source": [
        "sentiment_df.columns\n"
      ],
      "metadata": {
        "id": "X71kv2V5a-z5",
        "colab": {
          "base_uri": "https://localhost:8080/"
        },
        "outputId": "a10d1d72-f8d4-4d80-a63a-4577eab97b03"
      },
      "execution_count": 23,
      "outputs": [
        {
          "output_type": "execute_result",
          "data": {
            "text/plain": [
              "Index(['0', '@switchfoot http://twitpic.com/2y1zl - Awww, that's a bummer.  You shoulda got David Carr of Third Day to do it. ;D'], dtype='object')"
            ]
          },
          "metadata": {},
          "execution_count": 23
        }
      ]
    },
    {
      "cell_type": "code",
      "source": [
        "sentiment_df.rename(columns = {'0' : 'Label',\n",
        "                               \"@switchfoot http://twitpic.com/2y1zl - Awww, that's a bummer.  You shoulda got David Carr of Third Day to do it. ;D\" : 'Text'}, inplace = True)"
      ],
      "metadata": {
        "id": "gpMUMb9VcUho"
      },
      "execution_count": 24,
      "outputs": []
    },
    {
      "cell_type": "code",
      "source": [
        "sentiment_df.head()"
      ],
      "metadata": {
        "id": "TEVDVNnhc72Q",
        "colab": {
          "base_uri": "https://localhost:8080/",
          "height": 206
        },
        "outputId": "4c587623-5df9-4ef3-ad6e-1527a13e7dd7"
      },
      "execution_count": 25,
      "outputs": [
        {
          "output_type": "execute_result",
          "data": {
            "text/plain": [
              "   Label                                               Text\n",
              "0      0  is upset that he can't update his Facebook by ...\n",
              "1      0  @Kenichan I dived many times for the ball. Man...\n",
              "2      0    my whole body feels itchy and like its on fire \n",
              "3      0  @nationwideclass no, it's not behaving at all....\n",
              "4      0                      @Kwesidei not the whole crew "
            ],
            "text/html": [
              "\n",
              "  <div id=\"df-ca85f21a-90fe-4185-b1fd-7efd2b0414ef\">\n",
              "    <div class=\"colab-df-container\">\n",
              "      <div>\n",
              "<style scoped>\n",
              "    .dataframe tbody tr th:only-of-type {\n",
              "        vertical-align: middle;\n",
              "    }\n",
              "\n",
              "    .dataframe tbody tr th {\n",
              "        vertical-align: top;\n",
              "    }\n",
              "\n",
              "    .dataframe thead th {\n",
              "        text-align: right;\n",
              "    }\n",
              "</style>\n",
              "<table border=\"1\" class=\"dataframe\">\n",
              "  <thead>\n",
              "    <tr style=\"text-align: right;\">\n",
              "      <th></th>\n",
              "      <th>Label</th>\n",
              "      <th>Text</th>\n",
              "    </tr>\n",
              "  </thead>\n",
              "  <tbody>\n",
              "    <tr>\n",
              "      <th>0</th>\n",
              "      <td>0</td>\n",
              "      <td>is upset that he can't update his Facebook by ...</td>\n",
              "    </tr>\n",
              "    <tr>\n",
              "      <th>1</th>\n",
              "      <td>0</td>\n",
              "      <td>@Kenichan I dived many times for the ball. Man...</td>\n",
              "    </tr>\n",
              "    <tr>\n",
              "      <th>2</th>\n",
              "      <td>0</td>\n",
              "      <td>my whole body feels itchy and like its on fire</td>\n",
              "    </tr>\n",
              "    <tr>\n",
              "      <th>3</th>\n",
              "      <td>0</td>\n",
              "      <td>@nationwideclass no, it's not behaving at all....</td>\n",
              "    </tr>\n",
              "    <tr>\n",
              "      <th>4</th>\n",
              "      <td>0</td>\n",
              "      <td>@Kwesidei not the whole crew</td>\n",
              "    </tr>\n",
              "  </tbody>\n",
              "</table>\n",
              "</div>\n",
              "      <button class=\"colab-df-convert\" onclick=\"convertToInteractive('df-ca85f21a-90fe-4185-b1fd-7efd2b0414ef')\"\n",
              "              title=\"Convert this dataframe to an interactive table.\"\n",
              "              style=\"display:none;\">\n",
              "        \n",
              "  <svg xmlns=\"http://www.w3.org/2000/svg\" height=\"24px\"viewBox=\"0 0 24 24\"\n",
              "       width=\"24px\">\n",
              "    <path d=\"M0 0h24v24H0V0z\" fill=\"none\"/>\n",
              "    <path d=\"M18.56 5.44l.94 2.06.94-2.06 2.06-.94-2.06-.94-.94-2.06-.94 2.06-2.06.94zm-11 1L8.5 8.5l.94-2.06 2.06-.94-2.06-.94L8.5 2.5l-.94 2.06-2.06.94zm10 10l.94 2.06.94-2.06 2.06-.94-2.06-.94-.94-2.06-.94 2.06-2.06.94z\"/><path d=\"M17.41 7.96l-1.37-1.37c-.4-.4-.92-.59-1.43-.59-.52 0-1.04.2-1.43.59L10.3 9.45l-7.72 7.72c-.78.78-.78 2.05 0 2.83L4 21.41c.39.39.9.59 1.41.59.51 0 1.02-.2 1.41-.59l7.78-7.78 2.81-2.81c.8-.78.8-2.07 0-2.86zM5.41 20L4 18.59l7.72-7.72 1.47 1.35L5.41 20z\"/>\n",
              "  </svg>\n",
              "      </button>\n",
              "      \n",
              "  <style>\n",
              "    .colab-df-container {\n",
              "      display:flex;\n",
              "      flex-wrap:wrap;\n",
              "      gap: 12px;\n",
              "    }\n",
              "\n",
              "    .colab-df-convert {\n",
              "      background-color: #E8F0FE;\n",
              "      border: none;\n",
              "      border-radius: 50%;\n",
              "      cursor: pointer;\n",
              "      display: none;\n",
              "      fill: #1967D2;\n",
              "      height: 32px;\n",
              "      padding: 0 0 0 0;\n",
              "      width: 32px;\n",
              "    }\n",
              "\n",
              "    .colab-df-convert:hover {\n",
              "      background-color: #E2EBFA;\n",
              "      box-shadow: 0px 1px 2px rgba(60, 64, 67, 0.3), 0px 1px 3px 1px rgba(60, 64, 67, 0.15);\n",
              "      fill: #174EA6;\n",
              "    }\n",
              "\n",
              "    [theme=dark] .colab-df-convert {\n",
              "      background-color: #3B4455;\n",
              "      fill: #D2E3FC;\n",
              "    }\n",
              "\n",
              "    [theme=dark] .colab-df-convert:hover {\n",
              "      background-color: #434B5C;\n",
              "      box-shadow: 0px 1px 3px 1px rgba(0, 0, 0, 0.15);\n",
              "      filter: drop-shadow(0px 1px 2px rgba(0, 0, 0, 0.3));\n",
              "      fill: #FFFFFF;\n",
              "    }\n",
              "  </style>\n",
              "\n",
              "      <script>\n",
              "        const buttonEl =\n",
              "          document.querySelector('#df-ca85f21a-90fe-4185-b1fd-7efd2b0414ef button.colab-df-convert');\n",
              "        buttonEl.style.display =\n",
              "          google.colab.kernel.accessAllowed ? 'block' : 'none';\n",
              "\n",
              "        async function convertToInteractive(key) {\n",
              "          const element = document.querySelector('#df-ca85f21a-90fe-4185-b1fd-7efd2b0414ef');\n",
              "          const dataTable =\n",
              "            await google.colab.kernel.invokeFunction('convertToInteractive',\n",
              "                                                     [key], {});\n",
              "          if (!dataTable) return;\n",
              "\n",
              "          const docLinkHtml = 'Like what you see? Visit the ' +\n",
              "            '<a target=\"_blank\" href=https://colab.research.google.com/notebooks/data_table.ipynb>data table notebook</a>'\n",
              "            + ' to learn more about interactive tables.';\n",
              "          element.innerHTML = '';\n",
              "          dataTable['output_type'] = 'display_data';\n",
              "          await google.colab.output.renderOutput(dataTable, element);\n",
              "          const docLink = document.createElement('div');\n",
              "          docLink.innerHTML = docLinkHtml;\n",
              "          element.appendChild(docLink);\n",
              "        }\n",
              "      </script>\n",
              "    </div>\n",
              "  </div>\n",
              "  "
            ]
          },
          "metadata": {},
          "execution_count": 25
        }
      ]
    },
    {
      "cell_type": "code",
      "source": [
        "first_col = sentiment_df.pop('Text')"
      ],
      "metadata": {
        "id": "bgMPfmYcdLFW"
      },
      "execution_count": 26,
      "outputs": []
    },
    {
      "cell_type": "code",
      "source": [
        "sentiment_df.insert(0, 'Text', first_col)"
      ],
      "metadata": {
        "id": "tyruGx4bdq5X"
      },
      "execution_count": 27,
      "outputs": []
    },
    {
      "cell_type": "code",
      "source": [
        "sentiment_df.head()"
      ],
      "metadata": {
        "id": "aEYM00tYd1Ro",
        "colab": {
          "base_uri": "https://localhost:8080/",
          "height": 206
        },
        "outputId": "080b79df-5c84-444f-f04f-14967569da05"
      },
      "execution_count": 28,
      "outputs": [
        {
          "output_type": "execute_result",
          "data": {
            "text/plain": [
              "                                                Text  Label\n",
              "0  is upset that he can't update his Facebook by ...      0\n",
              "1  @Kenichan I dived many times for the ball. Man...      0\n",
              "2    my whole body feels itchy and like its on fire       0\n",
              "3  @nationwideclass no, it's not behaving at all....      0\n",
              "4                      @Kwesidei not the whole crew       0"
            ],
            "text/html": [
              "\n",
              "  <div id=\"df-cc3f8ed2-6cd2-4dd4-8c73-234ebbf3c61f\">\n",
              "    <div class=\"colab-df-container\">\n",
              "      <div>\n",
              "<style scoped>\n",
              "    .dataframe tbody tr th:only-of-type {\n",
              "        vertical-align: middle;\n",
              "    }\n",
              "\n",
              "    .dataframe tbody tr th {\n",
              "        vertical-align: top;\n",
              "    }\n",
              "\n",
              "    .dataframe thead th {\n",
              "        text-align: right;\n",
              "    }\n",
              "</style>\n",
              "<table border=\"1\" class=\"dataframe\">\n",
              "  <thead>\n",
              "    <tr style=\"text-align: right;\">\n",
              "      <th></th>\n",
              "      <th>Text</th>\n",
              "      <th>Label</th>\n",
              "    </tr>\n",
              "  </thead>\n",
              "  <tbody>\n",
              "    <tr>\n",
              "      <th>0</th>\n",
              "      <td>is upset that he can't update his Facebook by ...</td>\n",
              "      <td>0</td>\n",
              "    </tr>\n",
              "    <tr>\n",
              "      <th>1</th>\n",
              "      <td>@Kenichan I dived many times for the ball. Man...</td>\n",
              "      <td>0</td>\n",
              "    </tr>\n",
              "    <tr>\n",
              "      <th>2</th>\n",
              "      <td>my whole body feels itchy and like its on fire</td>\n",
              "      <td>0</td>\n",
              "    </tr>\n",
              "    <tr>\n",
              "      <th>3</th>\n",
              "      <td>@nationwideclass no, it's not behaving at all....</td>\n",
              "      <td>0</td>\n",
              "    </tr>\n",
              "    <tr>\n",
              "      <th>4</th>\n",
              "      <td>@Kwesidei not the whole crew</td>\n",
              "      <td>0</td>\n",
              "    </tr>\n",
              "  </tbody>\n",
              "</table>\n",
              "</div>\n",
              "      <button class=\"colab-df-convert\" onclick=\"convertToInteractive('df-cc3f8ed2-6cd2-4dd4-8c73-234ebbf3c61f')\"\n",
              "              title=\"Convert this dataframe to an interactive table.\"\n",
              "              style=\"display:none;\">\n",
              "        \n",
              "  <svg xmlns=\"http://www.w3.org/2000/svg\" height=\"24px\"viewBox=\"0 0 24 24\"\n",
              "       width=\"24px\">\n",
              "    <path d=\"M0 0h24v24H0V0z\" fill=\"none\"/>\n",
              "    <path d=\"M18.56 5.44l.94 2.06.94-2.06 2.06-.94-2.06-.94-.94-2.06-.94 2.06-2.06.94zm-11 1L8.5 8.5l.94-2.06 2.06-.94-2.06-.94L8.5 2.5l-.94 2.06-2.06.94zm10 10l.94 2.06.94-2.06 2.06-.94-2.06-.94-.94-2.06-.94 2.06-2.06.94z\"/><path d=\"M17.41 7.96l-1.37-1.37c-.4-.4-.92-.59-1.43-.59-.52 0-1.04.2-1.43.59L10.3 9.45l-7.72 7.72c-.78.78-.78 2.05 0 2.83L4 21.41c.39.39.9.59 1.41.59.51 0 1.02-.2 1.41-.59l7.78-7.78 2.81-2.81c.8-.78.8-2.07 0-2.86zM5.41 20L4 18.59l7.72-7.72 1.47 1.35L5.41 20z\"/>\n",
              "  </svg>\n",
              "      </button>\n",
              "      \n",
              "  <style>\n",
              "    .colab-df-container {\n",
              "      display:flex;\n",
              "      flex-wrap:wrap;\n",
              "      gap: 12px;\n",
              "    }\n",
              "\n",
              "    .colab-df-convert {\n",
              "      background-color: #E8F0FE;\n",
              "      border: none;\n",
              "      border-radius: 50%;\n",
              "      cursor: pointer;\n",
              "      display: none;\n",
              "      fill: #1967D2;\n",
              "      height: 32px;\n",
              "      padding: 0 0 0 0;\n",
              "      width: 32px;\n",
              "    }\n",
              "\n",
              "    .colab-df-convert:hover {\n",
              "      background-color: #E2EBFA;\n",
              "      box-shadow: 0px 1px 2px rgba(60, 64, 67, 0.3), 0px 1px 3px 1px rgba(60, 64, 67, 0.15);\n",
              "      fill: #174EA6;\n",
              "    }\n",
              "\n",
              "    [theme=dark] .colab-df-convert {\n",
              "      background-color: #3B4455;\n",
              "      fill: #D2E3FC;\n",
              "    }\n",
              "\n",
              "    [theme=dark] .colab-df-convert:hover {\n",
              "      background-color: #434B5C;\n",
              "      box-shadow: 0px 1px 3px 1px rgba(0, 0, 0, 0.15);\n",
              "      filter: drop-shadow(0px 1px 2px rgba(0, 0, 0, 0.3));\n",
              "      fill: #FFFFFF;\n",
              "    }\n",
              "  </style>\n",
              "\n",
              "      <script>\n",
              "        const buttonEl =\n",
              "          document.querySelector('#df-cc3f8ed2-6cd2-4dd4-8c73-234ebbf3c61f button.colab-df-convert');\n",
              "        buttonEl.style.display =\n",
              "          google.colab.kernel.accessAllowed ? 'block' : 'none';\n",
              "\n",
              "        async function convertToInteractive(key) {\n",
              "          const element = document.querySelector('#df-cc3f8ed2-6cd2-4dd4-8c73-234ebbf3c61f');\n",
              "          const dataTable =\n",
              "            await google.colab.kernel.invokeFunction('convertToInteractive',\n",
              "                                                     [key], {});\n",
              "          if (!dataTable) return;\n",
              "\n",
              "          const docLinkHtml = 'Like what you see? Visit the ' +\n",
              "            '<a target=\"_blank\" href=https://colab.research.google.com/notebooks/data_table.ipynb>data table notebook</a>'\n",
              "            + ' to learn more about interactive tables.';\n",
              "          element.innerHTML = '';\n",
              "          dataTable['output_type'] = 'display_data';\n",
              "          await google.colab.output.renderOutput(dataTable, element);\n",
              "          const docLink = document.createElement('div');\n",
              "          docLink.innerHTML = docLinkHtml;\n",
              "          element.appendChild(docLink);\n",
              "        }\n",
              "      </script>\n",
              "    </div>\n",
              "  </div>\n",
              "  "
            ]
          },
          "metadata": {},
          "execution_count": 28
        }
      ]
    },
    {
      "cell_type": "code",
      "source": [
        "sentiment_df = sentiment_df.sample(frac = 1, random_state = 42)"
      ],
      "metadata": {
        "id": "fzsOmKNzt-9E"
      },
      "execution_count": 29,
      "outputs": []
    },
    {
      "cell_type": "code",
      "source": [
        "sentiment_df"
      ],
      "metadata": {
        "id": "G9SYNyNavTWx",
        "colab": {
          "base_uri": "https://localhost:8080/",
          "height": 424
        },
        "outputId": "9ca9af47-920a-47f4-910d-533ff7c7aef4"
      },
      "execution_count": 30,
      "outputs": [
        {
          "output_type": "execute_result",
          "data": {
            "text/plain": [
              "                                                      Text  Label\n",
              "541200   @Nkluvr4eva My poor little dumpling  In Holmde...      0\n",
              "750      I'm off too bed. I gotta wake up hella early t...      0\n",
              "766711   I havent been able to listen to it yet  My spe...      0\n",
              "285055   now remembers why solving a relatively big equ...      0\n",
              "705995                            Ate too much, feel sick       0\n",
              "...                                                    ...    ...\n",
              "259178                       I didn't. The link was wrong       0\n",
              "1414414  @tommcfly yes!! mcfly twitter profile is an ex...      4\n",
              "131932   @SarahFTW I know  sometimes i just pretend i h...      0\n",
              "671155         Cant believe you came and asked me that...       0\n",
              "121958                                   back from bali         0\n",
              "\n",
              "[1599999 rows x 2 columns]"
            ],
            "text/html": [
              "\n",
              "  <div id=\"df-68269c4d-5a9c-4621-9cb0-edddf2b46129\">\n",
              "    <div class=\"colab-df-container\">\n",
              "      <div>\n",
              "<style scoped>\n",
              "    .dataframe tbody tr th:only-of-type {\n",
              "        vertical-align: middle;\n",
              "    }\n",
              "\n",
              "    .dataframe tbody tr th {\n",
              "        vertical-align: top;\n",
              "    }\n",
              "\n",
              "    .dataframe thead th {\n",
              "        text-align: right;\n",
              "    }\n",
              "</style>\n",
              "<table border=\"1\" class=\"dataframe\">\n",
              "  <thead>\n",
              "    <tr style=\"text-align: right;\">\n",
              "      <th></th>\n",
              "      <th>Text</th>\n",
              "      <th>Label</th>\n",
              "    </tr>\n",
              "  </thead>\n",
              "  <tbody>\n",
              "    <tr>\n",
              "      <th>541200</th>\n",
              "      <td>@Nkluvr4eva My poor little dumpling  In Holmde...</td>\n",
              "      <td>0</td>\n",
              "    </tr>\n",
              "    <tr>\n",
              "      <th>750</th>\n",
              "      <td>I'm off too bed. I gotta wake up hella early t...</td>\n",
              "      <td>0</td>\n",
              "    </tr>\n",
              "    <tr>\n",
              "      <th>766711</th>\n",
              "      <td>I havent been able to listen to it yet  My spe...</td>\n",
              "      <td>0</td>\n",
              "    </tr>\n",
              "    <tr>\n",
              "      <th>285055</th>\n",
              "      <td>now remembers why solving a relatively big equ...</td>\n",
              "      <td>0</td>\n",
              "    </tr>\n",
              "    <tr>\n",
              "      <th>705995</th>\n",
              "      <td>Ate too much, feel sick</td>\n",
              "      <td>0</td>\n",
              "    </tr>\n",
              "    <tr>\n",
              "      <th>...</th>\n",
              "      <td>...</td>\n",
              "      <td>...</td>\n",
              "    </tr>\n",
              "    <tr>\n",
              "      <th>259178</th>\n",
              "      <td>I didn't. The link was wrong</td>\n",
              "      <td>0</td>\n",
              "    </tr>\n",
              "    <tr>\n",
              "      <th>1414414</th>\n",
              "      <td>@tommcfly yes!! mcfly twitter profile is an ex...</td>\n",
              "      <td>4</td>\n",
              "    </tr>\n",
              "    <tr>\n",
              "      <th>131932</th>\n",
              "      <td>@SarahFTW I know  sometimes i just pretend i h...</td>\n",
              "      <td>0</td>\n",
              "    </tr>\n",
              "    <tr>\n",
              "      <th>671155</th>\n",
              "      <td>Cant believe you came and asked me that...</td>\n",
              "      <td>0</td>\n",
              "    </tr>\n",
              "    <tr>\n",
              "      <th>121958</th>\n",
              "      <td>back from bali</td>\n",
              "      <td>0</td>\n",
              "    </tr>\n",
              "  </tbody>\n",
              "</table>\n",
              "<p>1599999 rows × 2 columns</p>\n",
              "</div>\n",
              "      <button class=\"colab-df-convert\" onclick=\"convertToInteractive('df-68269c4d-5a9c-4621-9cb0-edddf2b46129')\"\n",
              "              title=\"Convert this dataframe to an interactive table.\"\n",
              "              style=\"display:none;\">\n",
              "        \n",
              "  <svg xmlns=\"http://www.w3.org/2000/svg\" height=\"24px\"viewBox=\"0 0 24 24\"\n",
              "       width=\"24px\">\n",
              "    <path d=\"M0 0h24v24H0V0z\" fill=\"none\"/>\n",
              "    <path d=\"M18.56 5.44l.94 2.06.94-2.06 2.06-.94-2.06-.94-.94-2.06-.94 2.06-2.06.94zm-11 1L8.5 8.5l.94-2.06 2.06-.94-2.06-.94L8.5 2.5l-.94 2.06-2.06.94zm10 10l.94 2.06.94-2.06 2.06-.94-2.06-.94-.94-2.06-.94 2.06-2.06.94z\"/><path d=\"M17.41 7.96l-1.37-1.37c-.4-.4-.92-.59-1.43-.59-.52 0-1.04.2-1.43.59L10.3 9.45l-7.72 7.72c-.78.78-.78 2.05 0 2.83L4 21.41c.39.39.9.59 1.41.59.51 0 1.02-.2 1.41-.59l7.78-7.78 2.81-2.81c.8-.78.8-2.07 0-2.86zM5.41 20L4 18.59l7.72-7.72 1.47 1.35L5.41 20z\"/>\n",
              "  </svg>\n",
              "      </button>\n",
              "      \n",
              "  <style>\n",
              "    .colab-df-container {\n",
              "      display:flex;\n",
              "      flex-wrap:wrap;\n",
              "      gap: 12px;\n",
              "    }\n",
              "\n",
              "    .colab-df-convert {\n",
              "      background-color: #E8F0FE;\n",
              "      border: none;\n",
              "      border-radius: 50%;\n",
              "      cursor: pointer;\n",
              "      display: none;\n",
              "      fill: #1967D2;\n",
              "      height: 32px;\n",
              "      padding: 0 0 0 0;\n",
              "      width: 32px;\n",
              "    }\n",
              "\n",
              "    .colab-df-convert:hover {\n",
              "      background-color: #E2EBFA;\n",
              "      box-shadow: 0px 1px 2px rgba(60, 64, 67, 0.3), 0px 1px 3px 1px rgba(60, 64, 67, 0.15);\n",
              "      fill: #174EA6;\n",
              "    }\n",
              "\n",
              "    [theme=dark] .colab-df-convert {\n",
              "      background-color: #3B4455;\n",
              "      fill: #D2E3FC;\n",
              "    }\n",
              "\n",
              "    [theme=dark] .colab-df-convert:hover {\n",
              "      background-color: #434B5C;\n",
              "      box-shadow: 0px 1px 3px 1px rgba(0, 0, 0, 0.15);\n",
              "      filter: drop-shadow(0px 1px 2px rgba(0, 0, 0, 0.3));\n",
              "      fill: #FFFFFF;\n",
              "    }\n",
              "  </style>\n",
              "\n",
              "      <script>\n",
              "        const buttonEl =\n",
              "          document.querySelector('#df-68269c4d-5a9c-4621-9cb0-edddf2b46129 button.colab-df-convert');\n",
              "        buttonEl.style.display =\n",
              "          google.colab.kernel.accessAllowed ? 'block' : 'none';\n",
              "\n",
              "        async function convertToInteractive(key) {\n",
              "          const element = document.querySelector('#df-68269c4d-5a9c-4621-9cb0-edddf2b46129');\n",
              "          const dataTable =\n",
              "            await google.colab.kernel.invokeFunction('convertToInteractive',\n",
              "                                                     [key], {});\n",
              "          if (!dataTable) return;\n",
              "\n",
              "          const docLinkHtml = 'Like what you see? Visit the ' +\n",
              "            '<a target=\"_blank\" href=https://colab.research.google.com/notebooks/data_table.ipynb>data table notebook</a>'\n",
              "            + ' to learn more about interactive tables.';\n",
              "          element.innerHTML = '';\n",
              "          dataTable['output_type'] = 'display_data';\n",
              "          await google.colab.output.renderOutput(dataTable, element);\n",
              "          const docLink = document.createElement('div');\n",
              "          docLink.innerHTML = docLinkHtml;\n",
              "          element.appendChild(docLink);\n",
              "        }\n",
              "      </script>\n",
              "    </div>\n",
              "  </div>\n",
              "  "
            ]
          },
          "metadata": {},
          "execution_count": 30
        }
      ]
    },
    {
      "cell_type": "markdown",
      "source": [
        "### Split data into `Train`, `Test` and `Validation`"
      ],
      "metadata": {
        "id": "3FprOejTfmVq"
      }
    },
    {
      "cell_type": "markdown",
      "source": [
        "### Split DataFrame to `trainval` and `test`"
      ],
      "metadata": {
        "id": "WGn2JEiIgV7D"
      }
    },
    {
      "cell_type": "code",
      "source": [
        "from sklearn.model_selection import train_test_split\n",
        "\n",
        "trainval_sentences, test_sentences, trainval_labels, test_labels = train_test_split(sentiment_df['Text'].to_numpy(),\n",
        "                                                                                    sentiment_df['Label'].to_numpy(),\n",
        "                                                                                    test_size = 0.15,\n",
        "                                                                                    random_state = 42)"
      ],
      "metadata": {
        "id": "FDtwp5Jwd3e3"
      },
      "execution_count": 31,
      "outputs": []
    },
    {
      "cell_type": "markdown",
      "source": [
        "### Split `trainval` to `train` and `validation`"
      ],
      "metadata": {
        "id": "87rvz1B1gi9B"
      }
    },
    {
      "cell_type": "code",
      "source": [
        "train_sentences, val_sentences, train_labels, val_labels = train_test_split(trainval_sentences,\n",
        "                                                                            trainval_labels,\n",
        "                                                                            test_size = 0.15,\n",
        "                                                                            random_state = 42)"
      ],
      "metadata": {
        "id": "tMVOmCGSfLUf"
      },
      "execution_count": 32,
      "outputs": []
    },
    {
      "cell_type": "code",
      "source": [
        "len(train_sentences), len(train_labels)"
      ],
      "metadata": {
        "id": "hrETiey7hVrt",
        "colab": {
          "base_uri": "https://localhost:8080/"
        },
        "outputId": "3d1c04fd-b7f3-42f2-b3e2-a258c1d778fd"
      },
      "execution_count": 33,
      "outputs": [
        {
          "output_type": "execute_result",
          "data": {
            "text/plain": [
              "(1155999, 1155999)"
            ]
          },
          "metadata": {},
          "execution_count": 33
        }
      ]
    },
    {
      "cell_type": "code",
      "source": [
        "len(test_sentences), len(test_labels)"
      ],
      "metadata": {
        "id": "9DeoeCGRhe5U",
        "colab": {
          "base_uri": "https://localhost:8080/"
        },
        "outputId": "245798cf-d14f-4669-ccb6-4be46114adbd"
      },
      "execution_count": 34,
      "outputs": [
        {
          "output_type": "execute_result",
          "data": {
            "text/plain": [
              "(240000, 240000)"
            ]
          },
          "metadata": {},
          "execution_count": 34
        }
      ]
    },
    {
      "cell_type": "code",
      "source": [
        "len(val_sentences), len(val_labels)"
      ],
      "metadata": {
        "id": "IlaJFw1LhiHQ",
        "colab": {
          "base_uri": "https://localhost:8080/"
        },
        "outputId": "5e042b75-b5ed-4bd7-bd71-9705755860b2"
      },
      "execution_count": 35,
      "outputs": [
        {
          "output_type": "execute_result",
          "data": {
            "text/plain": [
              "(204000, 204000)"
            ]
          },
          "metadata": {},
          "execution_count": 35
        }
      ]
    },
    {
      "cell_type": "markdown",
      "source": [
        "## Visualize our dataset"
      ],
      "metadata": {
        "id": "1MmVqOZmhnz1"
      }
    },
    {
      "cell_type": "code",
      "source": [
        "import random\n",
        "rand_id = random.randint(0, len(sentiment_df)-10)\n",
        "for row in sentiment_df[['Text', 'Label']][rand_id : rand_id + 10].itertuples():\n",
        "  _, text, target = row\n",
        "  print(f'Target : {target}', '[Positive]' if target ==  4 else '[Negative]')\n",
        "  print(f'Text : {text}')\n",
        "  print(f'-----\\n')"
      ],
      "metadata": {
        "id": "yrPzTfrGiFrN",
        "colab": {
          "base_uri": "https://localhost:8080/"
        },
        "outputId": "43cd8291-a48a-46e6-b71b-a12106168e1b"
      },
      "execution_count": 36,
      "outputs": [
        {
          "output_type": "stream",
          "name": "stdout",
          "text": [
            "Target : 0 [Negative]\n",
            "Text : @GMMR I know!! I'm loving it - I really missed it &amp; am so bummed that it's soon to be completely over. \n",
            "-----\n",
            "\n",
            "Target : 0 [Negative]\n",
            "Text : @A_Lay aww well I just randomly woke up and now I can't sleep! Too many things on my mind \n",
            "-----\n",
            "\n",
            "Target : 4 [Positive]\n",
            "Text : @ijustine psstt,...your new vids title is missing a &quot;T&quot; \n",
            "-----\n",
            "\n",
            "Target : 4 [Positive]\n",
            "Text : i will take a nap............... \n",
            "-----\n",
            "\n",
            "Target : 4 [Positive]\n",
            "Text : @oinettahunt - Awe. That's so sweet. I know @vincenthunt liked that.  \n",
            "-----\n",
            "\n",
            "Target : 4 [Positive]\n",
            "Text : @LaraK the online ID calculator is a really cool tool....thanks for sharing! \n",
            "-----\n",
            "\n",
            "Target : 4 [Positive]\n",
            "Text : @tommcfly well god morning tom! \n",
            "-----\n",
            "\n",
            "Target : 0 [Negative]\n",
            "Text : @Uk_joedan_fan  OMG i hope it's not true, they cant go yet \n",
            "-----\n",
            "\n",
            "Target : 0 [Negative]\n",
            "Text : @YasmineGalenorn I used to work for n airline rerouting passengers. The airline industry is a royal disaster! Sorry she's stuck. \n",
            "-----\n",
            "\n",
            "Target : 4 [Positive]\n",
            "Text : @DubDior Lmfaooooo .. i mean anything for u!  i tried to do that as smoove as possible! lol U was good tho !\n",
            "-----\n",
            "\n"
          ]
        }
      ]
    },
    {
      "cell_type": "markdown",
      "source": [
        "### Converting `train`, `val`, `test` dataframes into datasets"
      ],
      "metadata": {
        "id": "9bAaZCUG9Qj4"
      }
    },
    {
      "cell_type": "code",
      "source": [
        "frames_train = [pd.DataFrame(train_sentences), pd.DataFrame(train_labels)]\n",
        "frames_val = [pd.DataFrame(val_sentences), pd.DataFrame(val_labels)]\n",
        "frames_test = [pd.DataFrame(test_sentences), pd.DataFrame(test_labels)]\n",
        "\n",
        "train_df = pd.concat(frames_train, axis = 1)\n",
        "val_df = pd.concat(frames_val, axis = 1)\n",
        "test_df = pd.concat(frames_test, axis = 1)\n",
        "\n",
        "train_df.columns = ['Text', 'Label']\n",
        "val_df.columns = ['Text', 'Label']\n",
        "test_df.columns = ['Text', 'Label']"
      ],
      "metadata": {
        "id": "c_oB5x9d69Sy"
      },
      "execution_count": 37,
      "outputs": []
    },
    {
      "cell_type": "code",
      "source": [
        "train_df.Label.value_counts()"
      ],
      "metadata": {
        "id": "RJ12rPRm-MKF",
        "colab": {
          "base_uri": "https://localhost:8080/"
        },
        "outputId": "160a5928-de96-4c95-8df2-a92838a5c1a8"
      },
      "execution_count": 38,
      "outputs": [
        {
          "output_type": "execute_result",
          "data": {
            "text/plain": [
              "4    578220\n",
              "0    577779\n",
              "Name: Label, dtype: int64"
            ]
          },
          "metadata": {},
          "execution_count": 38
        }
      ]
    },
    {
      "cell_type": "markdown",
      "source": [
        "## Model_0 Getting a Baseline\n"
      ],
      "metadata": {
        "id": "AQS_fgh_C-uI"
      }
    },
    {
      "cell_type": "code",
      "source": [
        "from sklearn.feature_extraction.text import TfidfVectorizer\n",
        "from sklearn.naive_bayes import MultinomialNB\n",
        "from sklearn.pipeline import Pipeline\n",
        "\n",
        "# Create the model\n",
        "model_0 = Pipeline([\n",
        "    ('tfidf', TfidfVectorizer()),\n",
        "    ('clf', MultinomialNB())\n",
        "])\n",
        "\n",
        "# Fit the model\n",
        "model_0.fit(X = train_sentences,\n",
        "            y = train_labels)"
      ],
      "metadata": {
        "id": "I3nhbL7jC-Vq",
        "colab": {
          "base_uri": "https://localhost:8080/"
        },
        "outputId": "db673f56-333f-4c50-8d43-0afd59a1741b"
      },
      "execution_count": 39,
      "outputs": [
        {
          "output_type": "execute_result",
          "data": {
            "text/plain": [
              "Pipeline(steps=[('tfidf', TfidfVectorizer()), ('clf', MultinomialNB())])"
            ]
          },
          "metadata": {},
          "execution_count": 39
        }
      ]
    },
    {
      "cell_type": "code",
      "source": [
        "# Evaluate our Baseline Model\n",
        "model_0.score(X = val_sentences,\n",
        "              y = val_labels)"
      ],
      "metadata": {
        "id": "6xzNSu8uBCNK",
        "colab": {
          "base_uri": "https://localhost:8080/"
        },
        "outputId": "dab58dd8-1d89-48a6-c73c-4827ce08752a"
      },
      "execution_count": 40,
      "outputs": [
        {
          "output_type": "execute_result",
          "data": {
            "text/plain": [
              "0.7705245098039216"
            ]
          },
          "metadata": {},
          "execution_count": 40
        }
      ]
    },
    {
      "cell_type": "code",
      "source": [
        "baseline_preds = model_0.predict(val_sentences)"
      ],
      "metadata": {
        "id": "02ATiODyShve"
      },
      "execution_count": 41,
      "outputs": []
    },
    {
      "cell_type": "code",
      "source": [
        "baseline_results = calculate_results(y_true = val_labels,\n",
        "                                     y_pred = baseline_preds)"
      ],
      "metadata": {
        "id": "su2iEKILSo9Q"
      },
      "execution_count": 42,
      "outputs": []
    },
    {
      "cell_type": "code",
      "source": [
        "RESULTS = {}\n",
        "RESULTS['model_0'] = baseline_results"
      ],
      "metadata": {
        "id": "kWlz8CgfTnwg"
      },
      "execution_count": 43,
      "outputs": []
    },
    {
      "cell_type": "markdown",
      "source": [
        "## Preparing data for Deep Sequence models"
      ],
      "metadata": {
        "id": "HQgsbkDifpps"
      }
    },
    {
      "cell_type": "markdown",
      "source": [
        "### Create Text Vectorizing and Embedding Layers"
      ],
      "metadata": {
        "id": "S29FDSEYfzWz"
      }
    },
    {
      "cell_type": "code",
      "source": [
        "import numpy as np\n",
        "import tensorflow as tf\n",
        "from tensorflow.keras import layers"
      ],
      "metadata": {
        "id": "iX6TxGmndmEl"
      },
      "execution_count": 44,
      "outputs": []
    },
    {
      "cell_type": "code",
      "source": [
        "sent_lens = [len(sentence.split()) for sentence in train_sentences]"
      ],
      "metadata": {
        "id": "3B23oh8MgY9Y"
      },
      "execution_count": 45,
      "outputs": []
    },
    {
      "cell_type": "code",
      "source": [
        "sent_lens[:10]"
      ],
      "metadata": {
        "colab": {
          "base_uri": "https://localhost:8080/"
        },
        "id": "aKLpruylg_GD",
        "outputId": "1cfd5d88-3ed9-488f-da20-b76b6d0ed1e3"
      },
      "execution_count": 46,
      "outputs": [
        {
          "output_type": "execute_result",
          "data": {
            "text/plain": [
              "[26, 10, 5, 11, 18, 17, 5, 19, 26, 15]"
            ]
          },
          "metadata": {},
          "execution_count": 46
        }
      ]
    },
    {
      "cell_type": "code",
      "source": [
        "average_sent_lens = np.mean(sent_lens)\n",
        "average_sent_lens"
      ],
      "metadata": {
        "colab": {
          "base_uri": "https://localhost:8080/"
        },
        "id": "NGwfME-LhA6T",
        "outputId": "5ede043f-cccb-4659-cedf-9a1ef2a0365e"
      },
      "execution_count": 47,
      "outputs": [
        {
          "output_type": "execute_result",
          "data": {
            "text/plain": [
              "13.174920566540283"
            ]
          },
          "metadata": {},
          "execution_count": 47
        }
      ]
    },
    {
      "cell_type": "code",
      "source": [
        "import matplotlib.pyplot as plt\n",
        "\n",
        "plt.hist(sent_lens, bins = 60)"
      ],
      "metadata": {
        "colab": {
          "base_uri": "https://localhost:8080/",
          "height": 612
        },
        "id": "7UD8qE3tlduc",
        "outputId": "18b62b7b-8da5-4c26-a249-b1e56c89ea68"
      },
      "execution_count": 48,
      "outputs": [
        {
          "output_type": "execute_result",
          "data": {
            "text/plain": [
              "(array([4.3110e+03, 1.8171e+04, 3.7588e+04, 4.9260e+04, 5.8573e+04,\n",
              "        6.2983e+04, 6.4575e+04, 6.4328e+04, 6.2677e+04, 6.0320e+04,\n",
              "        5.8087e+04, 5.4993e+04, 5.1852e+04, 4.8882e+04, 4.5791e+04,\n",
              "        4.3271e+04, 4.0543e+04, 3.8841e+04, 3.7516e+04, 0.0000e+00,\n",
              "        3.7210e+04, 3.4925e+04, 3.4475e+04, 3.2906e+04, 3.0753e+04,\n",
              "        2.7020e+04, 2.1461e+04, 1.5368e+04, 9.6030e+03, 5.3220e+03,\n",
              "        2.6050e+03, 1.1210e+03, 4.2000e+02, 1.6000e+02, 5.7000e+01,\n",
              "        1.4000e+01, 5.0000e+00, 3.0000e+00, 2.0000e+00, 0.0000e+00,\n",
              "        3.0000e+00, 0.0000e+00, 1.0000e+00, 0.0000e+00, 0.0000e+00,\n",
              "        1.0000e+00, 0.0000e+00, 0.0000e+00, 0.0000e+00, 0.0000e+00,\n",
              "        0.0000e+00, 0.0000e+00, 0.0000e+00, 0.0000e+00, 0.0000e+00,\n",
              "        0.0000e+00, 0.0000e+00, 0.0000e+00, 1.0000e+00, 1.0000e+00]),\n",
              " array([ 1.  ,  1.95,  2.9 ,  3.85,  4.8 ,  5.75,  6.7 ,  7.65,  8.6 ,\n",
              "         9.55, 10.5 , 11.45, 12.4 , 13.35, 14.3 , 15.25, 16.2 , 17.15,\n",
              "        18.1 , 19.05, 20.  , 20.95, 21.9 , 22.85, 23.8 , 24.75, 25.7 ,\n",
              "        26.65, 27.6 , 28.55, 29.5 , 30.45, 31.4 , 32.35, 33.3 , 34.25,\n",
              "        35.2 , 36.15, 37.1 , 38.05, 39.  , 39.95, 40.9 , 41.85, 42.8 ,\n",
              "        43.75, 44.7 , 45.65, 46.6 , 47.55, 48.5 , 49.45, 50.4 , 51.35,\n",
              "        52.3 , 53.25, 54.2 , 55.15, 56.1 , 57.05, 58.  ]),\n",
              " <a list of 60 Patch objects>)"
            ]
          },
          "metadata": {},
          "execution_count": 48
        },
        {
          "output_type": "display_data",
          "data": {
            "text/plain": [
              "<Figure size 432x288 with 1 Axes>"
            ],
            "image/png": "[encoded data removed]"
          },
          "metadata": {
            "needs_background": "light"
          }
        }
      ]
    },
    {
      "cell_type": "code",
      "source": [
        "output_seq_len = int(np.percentile(sent_lens, 98))\n",
        "output_seq_len"
      ],
      "metadata": {
        "colab": {
          "base_uri": "https://localhost:8080/"
        },
        "id": "KDbvHhUHmC5w",
        "outputId": "a072fb6f-57cd-44f5-fdb8-ba27fecc2e4a"
      },
      "execution_count": 49,
      "outputs": [
        {
          "output_type": "execute_result",
          "data": {
            "text/plain": [
              "27"
            ]
          },
          "metadata": {},
          "execution_count": 49
        }
      ]
    },
    {
      "cell_type": "markdown",
      "source": [
        "### Create Text Vectorizer Layer"
      ],
      "metadata": {
        "id": "SjAZCUBylSYy"
      }
    },
    {
      "cell_type": "code",
      "source": [
        "max_vocab_length = 90000\n",
        "\n",
        "text_vectorizer = tf.keras.layers.TextVectorization(max_tokens = max_vocab_length,\n",
        "                                                    output_sequence_length = output_seq_len)"
      ],
      "metadata": {
        "id": "ZcC2wePQH0Au"
      },
      "execution_count": 86,
      "outputs": []
    },
    {
      "cell_type": "code",
      "source": [
        "# Adapt text vectorizer to train sentence\n",
        "\n",
        "text_vectorizer.adapt(train_sentences)"
      ],
      "metadata": {
        "id": "IbbSQ69yOv74"
      },
      "execution_count": 87,
      "outputs": []
    },
    {
      "cell_type": "code",
      "source": [
        "# Test vectorizing layer\n",
        "\n",
        "import random\n",
        "target_sent = random.choice(train_sentences)\n",
        "print(f'Target Sentence:\\n {target_sent}')\n",
        "print(f'Length of text: {len(target_sent)}')\n",
        "print(f'After Vectorizing:\\n {text_vectorizer([target_sent])}')"
      ],
      "metadata": {
        "colab": {
          "base_uri": "https://localhost:8080/"
        },
        "id": "zWpudnCJQ7PH",
        "outputId": "8542b4dd-e15e-448e-de85-f8d2405213e2"
      },
      "execution_count": 88,
      "outputs": [
        {
          "output_type": "stream",
          "name": "stdout",
          "text": [
            "Target Sentence:\n",
            " @BastetAsshur  WELCOME, following you too!! \n",
            "Length of text: 44\n",
            "After Vectorizing:\n",
            " [[82934   380   413     8    45     0     0     0     0     0     0     0\n",
            "      0     0     0     0     0     0     0     0     0     0     0     0\n",
            "      0     0     0]]\n"
          ]
        }
      ]
    },
    {
      "cell_type": "code",
      "source": [
        "# Most common and Least common words in our vocab\n",
        "\n",
        "vocab_sentiment140 = text_vectorizer.get_vocabulary()\n",
        "print(f'No of words in our Vocab: {len(vocab_sentiment140)}')\n",
        "print(f'Most common words in Vocab: {vocab_sentiment140[:5]}')\n",
        "print(f'Least common words in Vocab: {vocab_sentiment140[-20:]}')"
      ],
      "metadata": {
        "colab": {
          "base_uri": "https://localhost:8080/"
        },
        "id": "BpsGqysHTG81",
        "outputId": "0549208b-6d6b-4ddb-ea94-47a6da300cd3"
      },
      "execution_count": 89,
      "outputs": [
        {
          "output_type": "stream",
          "name": "stdout",
          "text": [
            "No of words in our Vocab: 90000\n",
            "Most common words in Vocab: ['', '[UNK]', 'i', 'to', 'the']\n",
            "Least common words in Vocab: ['steelkey', 'steelersnm1', 'steeffie', 'steeeve', 'stealthy', 'stealthtricia', 'stealthbravo', 'stc', 'stbalkcom', 'stb', 'stayy', 'staybr00tal', 'stayathome', 'staxx', 'stawpitemily', 'stawberry', 'stavmcfly', 'stavanger', 'staunch', 'stau']\n"
          ]
        }
      ]
    },
    {
      "cell_type": "markdown",
      "source": [
        "### Create Text Embedding Layer"
      ],
      "metadata": {
        "id": "PNJbspClUP8f"
      }
    },
    {
      "cell_type": "code",
      "source": [
        "token_embed = layers.Embedding(input_dim = len(vocab_sentiment140),\n",
        "                               output_dim = 128,\n",
        "                               mask_zero = True,\n",
        "                               name = 'token_embedding')\n"
      ],
      "metadata": {
        "id": "FqY0FEgZUM0E"
      },
      "execution_count": 90,
      "outputs": []
    },
    {
      "cell_type": "code",
      "source": [
        "# Test embedding layer\n",
        "\n",
        "print(f'Before Vectorisation :\\n {target_sent}\\n')\n",
        "vectorized_sent = text_vectorizer(target_sent)\n",
        "print(f'After Vectorizing:\\n {vectorized_sent}\\n')\n",
        "print(f'After Embedding:\\n {token_embed(vectorized_sent)}')"
      ],
      "metadata": {
        "colab": {
          "base_uri": "https://localhost:8080/"
        },
        "id": "-3oHkeJMv_6g",
        "outputId": "b4e6ea03-8072-4a24-b419-6d5336668a77"
      },
      "execution_count": 91,
      "outputs": [
        {
          "output_type": "stream",
          "name": "stdout",
          "text": [
            "Before Vectorisation :\n",
            " @BastetAsshur  WELCOME, following you too!! \n",
            "\n",
            "After Vectorizing:\n",
            " [82934   380   413     8    45     0     0     0     0     0     0     0\n",
            "     0     0     0     0     0     0     0     0     0     0     0     0\n",
            "     0     0     0]\n",
            "\n",
            "After Embedding:\n",
            " [[-0.01525552  0.01288776 -0.00666648 ... -0.0277179  -0.03568234\n",
            "  -0.03158122]\n",
            " [-0.00625547  0.01410255  0.01113534 ... -0.01855037 -0.01886336\n",
            "  -0.02210816]\n",
            " [ 0.00580243  0.01783855 -0.04835502 ...  0.02586608 -0.03387487\n",
            "   0.00030332]\n",
            " ...\n",
            " [ 0.00305556 -0.04094525 -0.01847034 ... -0.04311564 -0.01578224\n",
            "   0.00334188]\n",
            " [ 0.00305556 -0.04094525 -0.01847034 ... -0.04311564 -0.01578224\n",
            "   0.00334188]\n",
            " [ 0.00305556 -0.04094525 -0.01847034 ... -0.04311564 -0.01578224\n",
            "   0.00334188]]\n"
          ]
        }
      ]
    },
    {
      "cell_type": "markdown",
      "source": [
        "## Creating Datasets for faster processing\n"
      ],
      "metadata": {
        "id": "szX2Y1Zn0T0f"
      }
    },
    {
      "cell_type": "code",
      "source": [
        "# Turn datasets into prefetched\n",
        "train_dataset = tf.data.Dataset.from_tensor_slices((train_sentences, tf.one_hot(train_labels,depth = 1))).batch(32).prefetch(tf.data.AUTOTUNE)\n",
        "test_dataset = tf.data.Dataset.from_tensor_slices((test_sentences, tf.one_hot(test_labels, depth = 1))).batch(32).prefetch(tf.data.AUTOTUNE)\n",
        "val_dataset = tf.data.Dataset.from_tensor_slices((val_sentences, tf.one_hot(val_labels, depth = 1))).batch(32).prefetch(tf.data.AUTOTUNE)"
      ],
      "metadata": {
        "id": "HkYgxc5GyaA4"
      },
      "execution_count": 92,
      "outputs": []
    },
    {
      "cell_type": "markdown",
      "source": [
        "## Model_1: Conv1D + Embedding"
      ],
      "metadata": {
        "id": "6ZoX_vxt36cj"
      }
    },
    {
      "cell_type": "code",
      "source": [
        "# Create the model\n",
        "inputs = layers.Input(shape = (1,), dtype = tf.string)\n",
        "text_vectors = text_vectorizer(inputs)\n",
        "token_embeddings = token_embed(text_vectors)\n",
        "x = layers.Conv1D(64, kernel_size = 5, padding = 'same', activation = 'relu')(token_embeddings)\n",
        "x = layers.GlobalAveragePooling1D()(x)\n",
        "outputs = layers.Dense(1, activation = 'sigmoid')(x)\n",
        "model_1 = tf.keras.Model(inputs, outputs)\n",
        "\n",
        "# Compile the model\n",
        "model_1.compile(loss = tf.keras.losses.BinaryCrossentropy(),\n",
        "                optimizer = tf.keras.optimizers.Adam(),\n",
        "                metrics = ['accuracy'])\n",
        "\n",
        "# Fit the model\n",
        "model_1_history = model_1.fit(train_dataset,\n",
        "                              steps_per_epoch=int(0.1 * len(train_dataset)), # only fit on 10% of batches for faster training time\n",
        "                              epochs=3,\n",
        "                              validation_data=val_dataset,\n",
        "                              validation_steps=int(0.1 * len(val_dataset)),\n",
        "                              callbacks = [tf.keras.callbacks.EarlyStopping(monitor = 'val_loss')])"
      ],
      "metadata": {
        "colab": {
          "base_uri": "https://localhost:8080/"
        },
        "id": "gb6to2Og0q58",
        "outputId": "0d944a79-5a58-4c70-a156-fe4af96d61c6"
      },
      "execution_count": 114,
      "outputs": [
        {
          "output_type": "stream",
          "name": "stdout",
          "text": [
            "Epoch 1/3\n",
            "3612/3612 [==============================] - 38s 10ms/step - loss: 0.4841 - accuracy: 0.7746 - val_loss: 0.4711 - val_accuracy: 0.7880\n",
            "Epoch 2/3\n",
            "3612/3612 [==============================] - 36s 10ms/step - loss: 0.4535 - accuracy: 0.7936 - val_loss: 0.4525 - val_accuracy: 0.7947\n"
          ]
        }
      ]
    },
    {
      "cell_type": "code",
      "source": [
        "model_1.evaluate(val_dataset)"
      ],
      "metadata": {
        "id": "QtkyHJ73Hvqm",
        "colab": {
          "base_uri": "https://localhost:8080/"
        },
        "outputId": "fdee1f12-841e-45be-bc1e-675e8ce928ab"
      },
      "execution_count": 115,
      "outputs": [
        {
          "output_type": "stream",
          "name": "stdout",
          "text": [
            "6375/6375 [==============================] - 17s 3ms/step - loss: 0.4471 - accuracy: 0.7976\n"
          ]
        },
        {
          "output_type": "execute_result",
          "data": {
            "text/plain": [
              "[0.4471026659011841, 0.7975833415985107]"
            ]
          },
          "metadata": {},
          "execution_count": 115
        }
      ]
    },
    {
      "cell_type": "code",
      "source": [
        "model_1_pred_probs = model_1.predict(val_sentences)"
      ],
      "metadata": {
        "id": "cIrVpAfnH4SF"
      },
      "execution_count": 116,
      "outputs": []
    },
    {
      "cell_type": "code",
      "source": [
        "model_1_preds = np.round(model_1_pred_probs)"
      ],
      "metadata": {
        "id": "phILiPR8vXr-"
      },
      "execution_count": 117,
      "outputs": []
    },
    {
      "cell_type": "code",
      "source": [
        "model_1_results = calculate_results(y_true = tf.one_hot(val_labels, depth = 1),\n",
        "                                    y_pred = model_1_preds)"
      ],
      "metadata": {
        "id": "oGjK2ty5vfK8"
      },
      "execution_count": 118,
      "outputs": []
    },
    {
      "cell_type": "code",
      "source": [
        "np.round(model_1.predict(['the engine is too loud']))"
      ],
      "metadata": {
        "colab": {
          "base_uri": "https://localhost:8080/"
        },
        "id": "esVh7IzJxYzF",
        "outputId": "e59e9959-6a01-40b9-f11d-2e7e29d7e7d5"
      },
      "execution_count": 122,
      "outputs": [
        {
          "output_type": "execute_result",
          "data": {
            "text/plain": [
              "array([[0.]], dtype=float32)"
            ]
          },
          "metadata": {},
          "execution_count": 122
        }
      ]
    },
    {
      "cell_type": "code",
      "source": [
        "model_1_results"
      ],
      "metadata": {
        "colab": {
          "base_uri": "https://localhost:8080/"
        },
        "id": "KvPuICLuwgal",
        "outputId": "7868c59c-1e92-448d-dbef-c5cddc3b9264"
      },
      "execution_count": 120,
      "outputs": [
        {
          "output_type": "execute_result",
          "data": {
            "text/plain": [
              "{'accuracy': 79.75833333333333,\n",
              " 'precision': 0.7979548276198306,\n",
              " 'recall': 0.7975833333333333,\n",
              " 'f1': 0.7975200318654385}"
            ]
          },
          "metadata": {},
          "execution_count": 120
        }
      ]
    },
    {
      "cell_type": "code",
      "source": [
        "plot_loss_curves(model_1_history)"
      ],
      "metadata": {
        "id": "foTI65VpXzy9",
        "colab": {
          "base_uri": "https://localhost:8080/",
          "height": 573
        },
        "outputId": "5ad524ef-2b80-4c3c-de18-5fb740695acc"
      },
      "execution_count": 121,
      "outputs": [
        {
          "output_type": "display_data",
          "data": {
            "text/plain": [
              "<Figure size 432x288 with 1 Axes>"
            ],
            "image/png": "[encoded data removed]"
          },
          "metadata": {
            "needs_background": "light"
          }
        },
        {
          "output_type": "display_data",
          "data": {
            "text/plain": [
              "<Figure size 432x288 with 1 Axes>"
            ],
            "image/png": "[encoded data removed]"
          },
          "metadata": {
            "needs_background": "light"
          }
        }
      ]
    },
    {
      "cell_type": "code",
      "source": [],
      "metadata": {
        "id": "WXlWMXGdhcYo"
      },
      "execution_count": 121,
      "outputs": []
    }
  ]
}