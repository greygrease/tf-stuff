{
  "nbformat": 4,
  "nbformat_minor": 0,
  "metadata": {
    "colab": {
      "provenance": [],
      "collapsed_sections": [
        "ypVmXTvmkpq5",
        "ZvtiH8QgBmlu",
        "zPYPGSLJ-8PK",
        "tZeH9cyKApoJ",
        "HKQkQNifSofy",
        "0w_jqz8iXvTr"
      ],
      "include_colab_link": true
    },
    "kernelspec": {
      "name": "python3",
      "display_name": "Python 3"
    },
    "language_info": {
      "name": "python"
    },
    "accelerator": "GPU",
    "gpuClass": "standard"
  },
  "cells": [
    {
      "cell_type": "markdown",
      "metadata": {
        "id": "view-in-github",
        "colab_type": "text"
      },
      "source": [
        "<a href=\"https://colab.research.google.com/github/greygrease/tf-stuff/blob/main/08_introduction_to_nlp_in_tensorflow.ipynb\" target=\"_parent\"><img src=\"https://colab.research.google.com/assets/colab-badge.svg\" alt=\"Open In Colab\"/></a>"
      ]
    },
    {
      "cell_type": "markdown",
      "source": [
        "# Introdunction to NLP in Tensorlfow\n",
        "\n",
        "NLP has the goal of deriving information our of natural language (text or speech)\n",
        "\n",
        "Commom NLP problems are sequence to sequence problems (seq2seq)"
      ],
      "metadata": {
        "id": "91I8CyMPjAlP"
      }
    },
    {
      "cell_type": "markdown",
      "source": [
        "## Get helper function"
      ],
      "metadata": {
        "id": "xspyKvc_O786"
      }
    },
    {
      "cell_type": "code",
      "source": [
        "!wget https://raw.githubusercontent.com/mrdbourke/tensorflow-deep-learning/main/extras/helper_functions.py"
      ],
      "metadata": {
        "colab": {
          "base_uri": "https://localhost:8080/"
        },
        "id": "WUbe01vJPDl7",
        "outputId": "193c2316-c1ea-4665-a35d-01a85a9a3322"
      },
      "execution_count": null,
      "outputs": [
        {
          "output_type": "stream",
          "name": "stdout",
          "text": [
            "--2022-09-13 13:08:16--  https://raw.githubusercontent.com/mrdbourke/tensorflow-deep-learning/main/extras/helper_functions.py\n",
            "Resolving raw.githubusercontent.com (raw.githubusercontent.com)... 185.199.108.133, 185.199.109.133, 185.199.110.133, ...\n",
            "Connecting to raw.githubusercontent.com (raw.githubusercontent.com)|185.199.108.133|:443... connected.\n",
            "HTTP request sent, awaiting response... 200 OK\n",
            "Length: 10246 (10K) [text/plain]\n",
            "Saving to: ‘helper_functions.py’\n",
            "\n",
            "\rhelper_functions.py   0%[                    ]       0  --.-KB/s               \rhelper_functions.py 100%[===================>]  10.01K  --.-KB/s    in 0s      \n",
            "\n",
            "2022-09-13 13:08:16 (73.7 MB/s) - ‘helper_functions.py’ saved [10246/10246]\n",
            "\n"
          ]
        }
      ]
    },
    {
      "cell_type": "code",
      "source": [
        "# Import series of helper function for the notebook\n",
        "\n",
        "from helper_functions import unzip_data, create_tensorboard_callback,compare_historys, plot_loss_curves"
      ],
      "metadata": {
        "id": "Ce0EfsV6PM8I"
      },
      "execution_count": null,
      "outputs": []
    },
    {
      "cell_type": "markdown",
      "source": [
        "## Get a text dataset\n",
        "Kaggle's Introdunction to NLP dataset\n",
        "\n"
      ],
      "metadata": {
        "id": "0BahqaqXPXrr"
      }
    },
    {
      "cell_type": "code",
      "source": [
        "!wget https://storage.googleapis.com/ztm_tf_course/nlp_getting_started.zip"
      ],
      "metadata": {
        "colab": {
          "base_uri": "https://localhost:8080/"
        },
        "id": "vvRsnao_QJJP",
        "outputId": "db689f68-825a-49b6-97e7-de9d7d405601"
      },
      "execution_count": null,
      "outputs": [
        {
          "output_type": "stream",
          "name": "stdout",
          "text": [
            "--2022-09-13 13:08:19--  https://storage.googleapis.com/ztm_tf_course/nlp_getting_started.zip\n",
            "Resolving storage.googleapis.com (storage.googleapis.com)... 173.194.202.128, 74.125.20.128, 108.177.98.128, ...\n",
            "Connecting to storage.googleapis.com (storage.googleapis.com)|173.194.202.128|:443... connected.\n",
            "HTTP request sent, awaiting response... 200 OK\n",
            "Length: 607343 (593K) [application/zip]\n",
            "Saving to: ‘nlp_getting_started.zip’\n",
            "\n",
            "\rnlp_getting_started   0%[                    ]       0  --.-KB/s               \rnlp_getting_started 100%[===================>] 593.11K  --.-KB/s    in 0.004s  \n",
            "\n",
            "2022-09-13 13:08:19 (146 MB/s) - ‘nlp_getting_started.zip’ saved [607343/607343]\n",
            "\n"
          ]
        }
      ]
    },
    {
      "cell_type": "code",
      "source": [
        "# Unzip data\n",
        "\n",
        "unzip_data('nlp_getting_started.zip')"
      ],
      "metadata": {
        "id": "Yid-4ph0QKxb"
      },
      "execution_count": null,
      "outputs": []
    },
    {
      "cell_type": "markdown",
      "source": [
        "## Visualize a text dataset"
      ],
      "metadata": {
        "id": "q_TH2BlXQS2q"
      }
    },
    {
      "cell_type": "code",
      "source": [
        "import pandas as pd\n",
        "\n",
        "train_df = pd.read_csv('train.csv')\n",
        "test_df = pd.read_csv('test.csv')"
      ],
      "metadata": {
        "id": "CT-qUCmeSker"
      },
      "execution_count": null,
      "outputs": []
    },
    {
      "cell_type": "code",
      "source": [
        "train_df.head()"
      ],
      "metadata": {
        "colab": {
          "base_uri": "https://localhost:8080/",
          "height": 206
        },
        "id": "_MWXR41HTCp5",
        "outputId": "b73993a9-8c9c-4219-bfc0-573642c30411"
      },
      "execution_count": null,
      "outputs": [
        {
          "output_type": "execute_result",
          "data": {
            "text/plain": [
              "   id keyword location                                               text  \\\n",
              "0   1     NaN      NaN  Our Deeds are the Reason of this #earthquake M...   \n",
              "1   4     NaN      NaN             Forest fire near La Ronge Sask. Canada   \n",
              "2   5     NaN      NaN  All residents asked to 'shelter in place' are ...   \n",
              "3   6     NaN      NaN  13,000 people receive #wildfires evacuation or...   \n",
              "4   7     NaN      NaN  Just got sent this photo from Ruby #Alaska as ...   \n",
              "\n",
              "   target  \n",
              "0       1  \n",
              "1       1  \n",
              "2       1  \n",
              "3       1  \n",
              "4       1  "
            ],
            "text/html": [
              "\n",
              "  <div id=\"df-36a31352-1661-43f8-be79-90717dd0ad9d\">\n",
              "    <div class=\"colab-df-container\">\n",
              "      <div>\n",
              "<style scoped>\n",
              "    .dataframe tbody tr th:only-of-type {\n",
              "        vertical-align: middle;\n",
              "    }\n",
              "\n",
              "    .dataframe tbody tr th {\n",
              "        vertical-align: top;\n",
              "    }\n",
              "\n",
              "    .dataframe thead th {\n",
              "        text-align: right;\n",
              "    }\n",
              "</style>\n",
              "<table border=\"1\" class=\"dataframe\">\n",
              "  <thead>\n",
              "    <tr style=\"text-align: right;\">\n",
              "      <th></th>\n",
              "      <th>id</th>\n",
              "      <th>keyword</th>\n",
              "      <th>location</th>\n",
              "      <th>text</th>\n",
              "      <th>target</th>\n",
              "    </tr>\n",
              "  </thead>\n",
              "  <tbody>\n",
              "    <tr>\n",
              "      <th>0</th>\n",
              "      <td>1</td>\n",
              "      <td>NaN</td>\n",
              "      <td>NaN</td>\n",
              "      <td>Our Deeds are the Reason of this #earthquake M...</td>\n",
              "      <td>1</td>\n",
              "    </tr>\n",
              "    <tr>\n",
              "      <th>1</th>\n",
              "      <td>4</td>\n",
              "      <td>NaN</td>\n",
              "      <td>NaN</td>\n",
              "      <td>Forest fire near La Ronge Sask. Canada</td>\n",
              "      <td>1</td>\n",
              "    </tr>\n",
              "    <tr>\n",
              "      <th>2</th>\n",
              "      <td>5</td>\n",
              "      <td>NaN</td>\n",
              "      <td>NaN</td>\n",
              "      <td>All residents asked to 'shelter in place' are ...</td>\n",
              "      <td>1</td>\n",
              "    </tr>\n",
              "    <tr>\n",
              "      <th>3</th>\n",
              "      <td>6</td>\n",
              "      <td>NaN</td>\n",
              "      <td>NaN</td>\n",
              "      <td>13,000 people receive #wildfires evacuation or...</td>\n",
              "      <td>1</td>\n",
              "    </tr>\n",
              "    <tr>\n",
              "      <th>4</th>\n",
              "      <td>7</td>\n",
              "      <td>NaN</td>\n",
              "      <td>NaN</td>\n",
              "      <td>Just got sent this photo from Ruby #Alaska as ...</td>\n",
              "      <td>1</td>\n",
              "    </tr>\n",
              "  </tbody>\n",
              "</table>\n",
              "</div>\n",
              "      <button class=\"colab-df-convert\" onclick=\"convertToInteractive('df-36a31352-1661-43f8-be79-90717dd0ad9d')\"\n",
              "              title=\"Convert this dataframe to an interactive table.\"\n",
              "              style=\"display:none;\">\n",
              "        \n",
              "  <svg xmlns=\"http://www.w3.org/2000/svg\" height=\"24px\"viewBox=\"0 0 24 24\"\n",
              "       width=\"24px\">\n",
              "    <path d=\"M0 0h24v24H0V0z\" fill=\"none\"/>\n",
              "    <path d=\"M18.56 5.44l.94 2.06.94-2.06 2.06-.94-2.06-.94-.94-2.06-.94 2.06-2.06.94zm-11 1L8.5 8.5l.94-2.06 2.06-.94-2.06-.94L8.5 2.5l-.94 2.06-2.06.94zm10 10l.94 2.06.94-2.06 2.06-.94-2.06-.94-.94-2.06-.94 2.06-2.06.94z\"/><path d=\"M17.41 7.96l-1.37-1.37c-.4-.4-.92-.59-1.43-.59-.52 0-1.04.2-1.43.59L10.3 9.45l-7.72 7.72c-.78.78-.78 2.05 0 2.83L4 21.41c.39.39.9.59 1.41.59.51 0 1.02-.2 1.41-.59l7.78-7.78 2.81-2.81c.8-.78.8-2.07 0-2.86zM5.41 20L4 18.59l7.72-7.72 1.47 1.35L5.41 20z\"/>\n",
              "  </svg>\n",
              "      </button>\n",
              "      \n",
              "  <style>\n",
              "    .colab-df-container {\n",
              "      display:flex;\n",
              "      flex-wrap:wrap;\n",
              "      gap: 12px;\n",
              "    }\n",
              "\n",
              "    .colab-df-convert {\n",
              "      background-color: #E8F0FE;\n",
              "      border: none;\n",
              "      border-radius: 50%;\n",
              "      cursor: pointer;\n",
              "      display: none;\n",
              "      fill: #1967D2;\n",
              "      height: 32px;\n",
              "      padding: 0 0 0 0;\n",
              "      width: 32px;\n",
              "    }\n",
              "\n",
              "    .colab-df-convert:hover {\n",
              "      background-color: #E2EBFA;\n",
              "      box-shadow: 0px 1px 2px rgba(60, 64, 67, 0.3), 0px 1px 3px 1px rgba(60, 64, 67, 0.15);\n",
              "      fill: #174EA6;\n",
              "    }\n",
              "\n",
              "    [theme=dark] .colab-df-convert {\n",
              "      background-color: #3B4455;\n",
              "      fill: #D2E3FC;\n",
              "    }\n",
              "\n",
              "    [theme=dark] .colab-df-convert:hover {\n",
              "      background-color: #434B5C;\n",
              "      box-shadow: 0px 1px 3px 1px rgba(0, 0, 0, 0.15);\n",
              "      filter: drop-shadow(0px 1px 2px rgba(0, 0, 0, 0.3));\n",
              "      fill: #FFFFFF;\n",
              "    }\n",
              "  </style>\n",
              "\n",
              "      <script>\n",
              "        const buttonEl =\n",
              "          document.querySelector('#df-36a31352-1661-43f8-be79-90717dd0ad9d button.colab-df-convert');\n",
              "        buttonEl.style.display =\n",
              "          google.colab.kernel.accessAllowed ? 'block' : 'none';\n",
              "\n",
              "        async function convertToInteractive(key) {\n",
              "          const element = document.querySelector('#df-36a31352-1661-43f8-be79-90717dd0ad9d');\n",
              "          const dataTable =\n",
              "            await google.colab.kernel.invokeFunction('convertToInteractive',\n",
              "                                                     [key], {});\n",
              "          if (!dataTable) return;\n",
              "\n",
              "          const docLinkHtml = 'Like what you see? Visit the ' +\n",
              "            '<a target=\"_blank\" href=https://colab.research.google.com/notebooks/data_table.ipynb>data table notebook</a>'\n",
              "            + ' to learn more about interactive tables.';\n",
              "          element.innerHTML = '';\n",
              "          dataTable['output_type'] = 'display_data';\n",
              "          await google.colab.output.renderOutput(dataTable, element);\n",
              "          const docLink = document.createElement('div');\n",
              "          docLink.innerHTML = docLinkHtml;\n",
              "          element.appendChild(docLink);\n",
              "        }\n",
              "      </script>\n",
              "    </div>\n",
              "  </div>\n",
              "  "
            ]
          },
          "metadata": {},
          "execution_count": 6
        }
      ]
    },
    {
      "cell_type": "code",
      "source": [
        "test_df.head()"
      ],
      "metadata": {
        "colab": {
          "base_uri": "https://localhost:8080/",
          "height": 206
        },
        "id": "p2AXOpzPfikM",
        "outputId": "77c0cfa2-170a-424c-adc4-4db859b08c33"
      },
      "execution_count": null,
      "outputs": [
        {
          "output_type": "execute_result",
          "data": {
            "text/plain": [
              "   id keyword location                                               text\n",
              "0   0     NaN      NaN                 Just happened a terrible car crash\n",
              "1   2     NaN      NaN  Heard about #earthquake is different cities, s...\n",
              "2   3     NaN      NaN  there is a forest fire at spot pond, geese are...\n",
              "3   9     NaN      NaN           Apocalypse lighting. #Spokane #wildfires\n",
              "4  11     NaN      NaN      Typhoon Soudelor kills 28 in China and Taiwan"
            ],
            "text/html": [
              "\n",
              "  <div id=\"df-5552277b-8d6e-475c-b717-8074ec855250\">\n",
              "    <div class=\"colab-df-container\">\n",
              "      <div>\n",
              "<style scoped>\n",
              "    .dataframe tbody tr th:only-of-type {\n",
              "        vertical-align: middle;\n",
              "    }\n",
              "\n",
              "    .dataframe tbody tr th {\n",
              "        vertical-align: top;\n",
              "    }\n",
              "\n",
              "    .dataframe thead th {\n",
              "        text-align: right;\n",
              "    }\n",
              "</style>\n",
              "<table border=\"1\" class=\"dataframe\">\n",
              "  <thead>\n",
              "    <tr style=\"text-align: right;\">\n",
              "      <th></th>\n",
              "      <th>id</th>\n",
              "      <th>keyword</th>\n",
              "      <th>location</th>\n",
              "      <th>text</th>\n",
              "    </tr>\n",
              "  </thead>\n",
              "  <tbody>\n",
              "    <tr>\n",
              "      <th>0</th>\n",
              "      <td>0</td>\n",
              "      <td>NaN</td>\n",
              "      <td>NaN</td>\n",
              "      <td>Just happened a terrible car crash</td>\n",
              "    </tr>\n",
              "    <tr>\n",
              "      <th>1</th>\n",
              "      <td>2</td>\n",
              "      <td>NaN</td>\n",
              "      <td>NaN</td>\n",
              "      <td>Heard about #earthquake is different cities, s...</td>\n",
              "    </tr>\n",
              "    <tr>\n",
              "      <th>2</th>\n",
              "      <td>3</td>\n",
              "      <td>NaN</td>\n",
              "      <td>NaN</td>\n",
              "      <td>there is a forest fire at spot pond, geese are...</td>\n",
              "    </tr>\n",
              "    <tr>\n",
              "      <th>3</th>\n",
              "      <td>9</td>\n",
              "      <td>NaN</td>\n",
              "      <td>NaN</td>\n",
              "      <td>Apocalypse lighting. #Spokane #wildfires</td>\n",
              "    </tr>\n",
              "    <tr>\n",
              "      <th>4</th>\n",
              "      <td>11</td>\n",
              "      <td>NaN</td>\n",
              "      <td>NaN</td>\n",
              "      <td>Typhoon Soudelor kills 28 in China and Taiwan</td>\n",
              "    </tr>\n",
              "  </tbody>\n",
              "</table>\n",
              "</div>\n",
              "      <button class=\"colab-df-convert\" onclick=\"convertToInteractive('df-5552277b-8d6e-475c-b717-8074ec855250')\"\n",
              "              title=\"Convert this dataframe to an interactive table.\"\n",
              "              style=\"display:none;\">\n",
              "        \n",
              "  <svg xmlns=\"http://www.w3.org/2000/svg\" height=\"24px\"viewBox=\"0 0 24 24\"\n",
              "       width=\"24px\">\n",
              "    <path d=\"M0 0h24v24H0V0z\" fill=\"none\"/>\n",
              "    <path d=\"M18.56 5.44l.94 2.06.94-2.06 2.06-.94-2.06-.94-.94-2.06-.94 2.06-2.06.94zm-11 1L8.5 8.5l.94-2.06 2.06-.94-2.06-.94L8.5 2.5l-.94 2.06-2.06.94zm10 10l.94 2.06.94-2.06 2.06-.94-2.06-.94-.94-2.06-.94 2.06-2.06.94z\"/><path d=\"M17.41 7.96l-1.37-1.37c-.4-.4-.92-.59-1.43-.59-.52 0-1.04.2-1.43.59L10.3 9.45l-7.72 7.72c-.78.78-.78 2.05 0 2.83L4 21.41c.39.39.9.59 1.41.59.51 0 1.02-.2 1.41-.59l7.78-7.78 2.81-2.81c.8-.78.8-2.07 0-2.86zM5.41 20L4 18.59l7.72-7.72 1.47 1.35L5.41 20z\"/>\n",
              "  </svg>\n",
              "      </button>\n",
              "      \n",
              "  <style>\n",
              "    .colab-df-container {\n",
              "      display:flex;\n",
              "      flex-wrap:wrap;\n",
              "      gap: 12px;\n",
              "    }\n",
              "\n",
              "    .colab-df-convert {\n",
              "      background-color: #E8F0FE;\n",
              "      border: none;\n",
              "      border-radius: 50%;\n",
              "      cursor: pointer;\n",
              "      display: none;\n",
              "      fill: #1967D2;\n",
              "      height: 32px;\n",
              "      padding: 0 0 0 0;\n",
              "      width: 32px;\n",
              "    }\n",
              "\n",
              "    .colab-df-convert:hover {\n",
              "      background-color: #E2EBFA;\n",
              "      box-shadow: 0px 1px 2px rgba(60, 64, 67, 0.3), 0px 1px 3px 1px rgba(60, 64, 67, 0.15);\n",
              "      fill: #174EA6;\n",
              "    }\n",
              "\n",
              "    [theme=dark] .colab-df-convert {\n",
              "      background-color: #3B4455;\n",
              "      fill: #D2E3FC;\n",
              "    }\n",
              "\n",
              "    [theme=dark] .colab-df-convert:hover {\n",
              "      background-color: #434B5C;\n",
              "      box-shadow: 0px 1px 3px 1px rgba(0, 0, 0, 0.15);\n",
              "      filter: drop-shadow(0px 1px 2px rgba(0, 0, 0, 0.3));\n",
              "      fill: #FFFFFF;\n",
              "    }\n",
              "  </style>\n",
              "\n",
              "      <script>\n",
              "        const buttonEl =\n",
              "          document.querySelector('#df-5552277b-8d6e-475c-b717-8074ec855250 button.colab-df-convert');\n",
              "        buttonEl.style.display =\n",
              "          google.colab.kernel.accessAllowed ? 'block' : 'none';\n",
              "\n",
              "        async function convertToInteractive(key) {\n",
              "          const element = document.querySelector('#df-5552277b-8d6e-475c-b717-8074ec855250');\n",
              "          const dataTable =\n",
              "            await google.colab.kernel.invokeFunction('convertToInteractive',\n",
              "                                                     [key], {});\n",
              "          if (!dataTable) return;\n",
              "\n",
              "          const docLinkHtml = 'Like what you see? Visit the ' +\n",
              "            '<a target=\"_blank\" href=https://colab.research.google.com/notebooks/data_table.ipynb>data table notebook</a>'\n",
              "            + ' to learn more about interactive tables.';\n",
              "          element.innerHTML = '';\n",
              "          dataTable['output_type'] = 'display_data';\n",
              "          await google.colab.output.renderOutput(dataTable, element);\n",
              "          const docLink = document.createElement('div');\n",
              "          docLink.innerHTML = docLinkHtml;\n",
              "          element.appendChild(docLink);\n",
              "        }\n",
              "      </script>\n",
              "    </div>\n",
              "  </div>\n",
              "  "
            ]
          },
          "metadata": {},
          "execution_count": 7
        }
      ]
    },
    {
      "cell_type": "code",
      "source": [
        "train_df_shuffled = train_df.sample(frac = 1, random_state = 42)\n",
        "train_df_shuffled.head()"
      ],
      "metadata": {
        "colab": {
          "base_uri": "https://localhost:8080/",
          "height": 206
        },
        "id": "hD-qtVfIUyhT",
        "outputId": "c2ce3c43-b6fc-453d-ca0b-4f3b16381148"
      },
      "execution_count": null,
      "outputs": [
        {
          "output_type": "execute_result",
          "data": {
            "text/plain": [
              "        id      keyword               location  \\\n",
              "2644  3796  destruction                    NaN   \n",
              "2227  3185       deluge                    NaN   \n",
              "5448  7769       police                     UK   \n",
              "132    191   aftershock                    NaN   \n",
              "6845  9810       trauma  Montgomery County, MD   \n",
              "\n",
              "                                                   text  target  \n",
              "2644  So you have a new weapon that can cause un-ima...       1  \n",
              "2227  The f$&amp;@ing things I do for #GISHWHES Just...       0  \n",
              "5448  DT @georgegalloway: RT @Galloway4Mayor: ÛÏThe...       1  \n",
              "132   Aftershock back to school kick off was great. ...       0  \n",
              "6845  in response to trauma Children of Addicts deve...       0  "
            ],
            "text/html": [
              "\n",
              "  <div id=\"df-7ceac1c7-c7c0-4dbe-b5b4-527c0a3dd2f3\">\n",
              "    <div class=\"colab-df-container\">\n",
              "      <div>\n",
              "<style scoped>\n",
              "    .dataframe tbody tr th:only-of-type {\n",
              "        vertical-align: middle;\n",
              "    }\n",
              "\n",
              "    .dataframe tbody tr th {\n",
              "        vertical-align: top;\n",
              "    }\n",
              "\n",
              "    .dataframe thead th {\n",
              "        text-align: right;\n",
              "    }\n",
              "</style>\n",
              "<table border=\"1\" class=\"dataframe\">\n",
              "  <thead>\n",
              "    <tr style=\"text-align: right;\">\n",
              "      <th></th>\n",
              "      <th>id</th>\n",
              "      <th>keyword</th>\n",
              "      <th>location</th>\n",
              "      <th>text</th>\n",
              "      <th>target</th>\n",
              "    </tr>\n",
              "  </thead>\n",
              "  <tbody>\n",
              "    <tr>\n",
              "      <th>2644</th>\n",
              "      <td>3796</td>\n",
              "      <td>destruction</td>\n",
              "      <td>NaN</td>\n",
              "      <td>So you have a new weapon that can cause un-ima...</td>\n",
              "      <td>1</td>\n",
              "    </tr>\n",
              "    <tr>\n",
              "      <th>2227</th>\n",
              "      <td>3185</td>\n",
              "      <td>deluge</td>\n",
              "      <td>NaN</td>\n",
              "      <td>The f$&amp;amp;@ing things I do for #GISHWHES Just...</td>\n",
              "      <td>0</td>\n",
              "    </tr>\n",
              "    <tr>\n",
              "      <th>5448</th>\n",
              "      <td>7769</td>\n",
              "      <td>police</td>\n",
              "      <td>UK</td>\n",
              "      <td>DT @georgegalloway: RT @Galloway4Mayor: ÛÏThe...</td>\n",
              "      <td>1</td>\n",
              "    </tr>\n",
              "    <tr>\n",
              "      <th>132</th>\n",
              "      <td>191</td>\n",
              "      <td>aftershock</td>\n",
              "      <td>NaN</td>\n",
              "      <td>Aftershock back to school kick off was great. ...</td>\n",
              "      <td>0</td>\n",
              "    </tr>\n",
              "    <tr>\n",
              "      <th>6845</th>\n",
              "      <td>9810</td>\n",
              "      <td>trauma</td>\n",
              "      <td>Montgomery County, MD</td>\n",
              "      <td>in response to trauma Children of Addicts deve...</td>\n",
              "      <td>0</td>\n",
              "    </tr>\n",
              "  </tbody>\n",
              "</table>\n",
              "</div>\n",
              "      <button class=\"colab-df-convert\" onclick=\"convertToInteractive('df-7ceac1c7-c7c0-4dbe-b5b4-527c0a3dd2f3')\"\n",
              "              title=\"Convert this dataframe to an interactive table.\"\n",
              "              style=\"display:none;\">\n",
              "        \n",
              "  <svg xmlns=\"http://www.w3.org/2000/svg\" height=\"24px\"viewBox=\"0 0 24 24\"\n",
              "       width=\"24px\">\n",
              "    <path d=\"M0 0h24v24H0V0z\" fill=\"none\"/>\n",
              "    <path d=\"M18.56 5.44l.94 2.06.94-2.06 2.06-.94-2.06-.94-.94-2.06-.94 2.06-2.06.94zm-11 1L8.5 8.5l.94-2.06 2.06-.94-2.06-.94L8.5 2.5l-.94 2.06-2.06.94zm10 10l.94 2.06.94-2.06 2.06-.94-2.06-.94-.94-2.06-.94 2.06-2.06.94z\"/><path d=\"M17.41 7.96l-1.37-1.37c-.4-.4-.92-.59-1.43-.59-.52 0-1.04.2-1.43.59L10.3 9.45l-7.72 7.72c-.78.78-.78 2.05 0 2.83L4 21.41c.39.39.9.59 1.41.59.51 0 1.02-.2 1.41-.59l7.78-7.78 2.81-2.81c.8-.78.8-2.07 0-2.86zM5.41 20L4 18.59l7.72-7.72 1.47 1.35L5.41 20z\"/>\n",
              "  </svg>\n",
              "      </button>\n",
              "      \n",
              "  <style>\n",
              "    .colab-df-container {\n",
              "      display:flex;\n",
              "      flex-wrap:wrap;\n",
              "      gap: 12px;\n",
              "    }\n",
              "\n",
              "    .colab-df-convert {\n",
              "      background-color: #E8F0FE;\n",
              "      border: none;\n",
              "      border-radius: 50%;\n",
              "      cursor: pointer;\n",
              "      display: none;\n",
              "      fill: #1967D2;\n",
              "      height: 32px;\n",
              "      padding: 0 0 0 0;\n",
              "      width: 32px;\n",
              "    }\n",
              "\n",
              "    .colab-df-convert:hover {\n",
              "      background-color: #E2EBFA;\n",
              "      box-shadow: 0px 1px 2px rgba(60, 64, 67, 0.3), 0px 1px 3px 1px rgba(60, 64, 67, 0.15);\n",
              "      fill: #174EA6;\n",
              "    }\n",
              "\n",
              "    [theme=dark] .colab-df-convert {\n",
              "      background-color: #3B4455;\n",
              "      fill: #D2E3FC;\n",
              "    }\n",
              "\n",
              "    [theme=dark] .colab-df-convert:hover {\n",
              "      background-color: #434B5C;\n",
              "      box-shadow: 0px 1px 3px 1px rgba(0, 0, 0, 0.15);\n",
              "      filter: drop-shadow(0px 1px 2px rgba(0, 0, 0, 0.3));\n",
              "      fill: #FFFFFF;\n",
              "    }\n",
              "  </style>\n",
              "\n",
              "      <script>\n",
              "        const buttonEl =\n",
              "          document.querySelector('#df-7ceac1c7-c7c0-4dbe-b5b4-527c0a3dd2f3 button.colab-df-convert');\n",
              "        buttonEl.style.display =\n",
              "          google.colab.kernel.accessAllowed ? 'block' : 'none';\n",
              "\n",
              "        async function convertToInteractive(key) {\n",
              "          const element = document.querySelector('#df-7ceac1c7-c7c0-4dbe-b5b4-527c0a3dd2f3');\n",
              "          const dataTable =\n",
              "            await google.colab.kernel.invokeFunction('convertToInteractive',\n",
              "                                                     [key], {});\n",
              "          if (!dataTable) return;\n",
              "\n",
              "          const docLinkHtml = 'Like what you see? Visit the ' +\n",
              "            '<a target=\"_blank\" href=https://colab.research.google.com/notebooks/data_table.ipynb>data table notebook</a>'\n",
              "            + ' to learn more about interactive tables.';\n",
              "          element.innerHTML = '';\n",
              "          dataTable['output_type'] = 'display_data';\n",
              "          await google.colab.output.renderOutput(dataTable, element);\n",
              "          const docLink = document.createElement('div');\n",
              "          docLink.innerHTML = docLinkHtml;\n",
              "          element.appendChild(docLink);\n",
              "        }\n",
              "      </script>\n",
              "    </div>\n",
              "  </div>\n",
              "  "
            ]
          },
          "metadata": {},
          "execution_count": 8
        }
      ]
    },
    {
      "cell_type": "code",
      "source": [
        "train_df.target.value_counts()"
      ],
      "metadata": {
        "colab": {
          "base_uri": "https://localhost:8080/"
        },
        "id": "P_ycmXVGW4n4",
        "outputId": "5351aa07-8b36-4639-f703-2dc2dc8cc462"
      },
      "execution_count": null,
      "outputs": [
        {
          "output_type": "execute_result",
          "data": {
            "text/plain": [
              "0    4342\n",
              "1    3271\n",
              "Name: target, dtype: int64"
            ]
          },
          "metadata": {},
          "execution_count": 9
        }
      ]
    },
    {
      "cell_type": "code",
      "source": [
        "len(train_df)"
      ],
      "metadata": {
        "colab": {
          "base_uri": "https://localhost:8080/"
        },
        "id": "Rc7IvDXzXJwK",
        "outputId": "b0456df1-2bf7-4bd3-e5bd-efad7d8ea8d7"
      },
      "execution_count": null,
      "outputs": [
        {
          "output_type": "execute_result",
          "data": {
            "text/plain": [
              "7613"
            ]
          },
          "metadata": {},
          "execution_count": 10
        }
      ]
    },
    {
      "cell_type": "code",
      "source": [
        "len(test_df)"
      ],
      "metadata": {
        "colab": {
          "base_uri": "https://localhost:8080/"
        },
        "id": "Wivu0T4uXuIX",
        "outputId": "751ee56e-1787-4a1f-da7a-36d956c6fa11"
      },
      "execution_count": null,
      "outputs": [
        {
          "output_type": "execute_result",
          "data": {
            "text/plain": [
              "3263"
            ]
          },
          "metadata": {},
          "execution_count": 11
        }
      ]
    },
    {
      "cell_type": "code",
      "source": [
        "train_df.head()"
      ],
      "metadata": {
        "colab": {
          "base_uri": "https://localhost:8080/",
          "height": 206
        },
        "id": "eiAXB7npeOFv",
        "outputId": "6324dcf2-3507-45ab-f105-3afeec21a016"
      },
      "execution_count": null,
      "outputs": [
        {
          "output_type": "execute_result",
          "data": {
            "text/plain": [
              "   id keyword location                                               text  \\\n",
              "0   1     NaN      NaN  Our Deeds are the Reason of this #earthquake M...   \n",
              "1   4     NaN      NaN             Forest fire near La Ronge Sask. Canada   \n",
              "2   5     NaN      NaN  All residents asked to 'shelter in place' are ...   \n",
              "3   6     NaN      NaN  13,000 people receive #wildfires evacuation or...   \n",
              "4   7     NaN      NaN  Just got sent this photo from Ruby #Alaska as ...   \n",
              "\n",
              "   target  \n",
              "0       1  \n",
              "1       1  \n",
              "2       1  \n",
              "3       1  \n",
              "4       1  "
            ],
            "text/html": [
              "\n",
              "  <div id=\"df-45ae1dcc-bed0-490a-8ab0-116c77f2e2d0\">\n",
              "    <div class=\"colab-df-container\">\n",
              "      <div>\n",
              "<style scoped>\n",
              "    .dataframe tbody tr th:only-of-type {\n",
              "        vertical-align: middle;\n",
              "    }\n",
              "\n",
              "    .dataframe tbody tr th {\n",
              "        vertical-align: top;\n",
              "    }\n",
              "\n",
              "    .dataframe thead th {\n",
              "        text-align: right;\n",
              "    }\n",
              "</style>\n",
              "<table border=\"1\" class=\"dataframe\">\n",
              "  <thead>\n",
              "    <tr style=\"text-align: right;\">\n",
              "      <th></th>\n",
              "      <th>id</th>\n",
              "      <th>keyword</th>\n",
              "      <th>location</th>\n",
              "      <th>text</th>\n",
              "      <th>target</th>\n",
              "    </tr>\n",
              "  </thead>\n",
              "  <tbody>\n",
              "    <tr>\n",
              "      <th>0</th>\n",
              "      <td>1</td>\n",
              "      <td>NaN</td>\n",
              "      <td>NaN</td>\n",
              "      <td>Our Deeds are the Reason of this #earthquake M...</td>\n",
              "      <td>1</td>\n",
              "    </tr>\n",
              "    <tr>\n",
              "      <th>1</th>\n",
              "      <td>4</td>\n",
              "      <td>NaN</td>\n",
              "      <td>NaN</td>\n",
              "      <td>Forest fire near La Ronge Sask. Canada</td>\n",
              "      <td>1</td>\n",
              "    </tr>\n",
              "    <tr>\n",
              "      <th>2</th>\n",
              "      <td>5</td>\n",
              "      <td>NaN</td>\n",
              "      <td>NaN</td>\n",
              "      <td>All residents asked to 'shelter in place' are ...</td>\n",
              "      <td>1</td>\n",
              "    </tr>\n",
              "    <tr>\n",
              "      <th>3</th>\n",
              "      <td>6</td>\n",
              "      <td>NaN</td>\n",
              "      <td>NaN</td>\n",
              "      <td>13,000 people receive #wildfires evacuation or...</td>\n",
              "      <td>1</td>\n",
              "    </tr>\n",
              "    <tr>\n",
              "      <th>4</th>\n",
              "      <td>7</td>\n",
              "      <td>NaN</td>\n",
              "      <td>NaN</td>\n",
              "      <td>Just got sent this photo from Ruby #Alaska as ...</td>\n",
              "      <td>1</td>\n",
              "    </tr>\n",
              "  </tbody>\n",
              "</table>\n",
              "</div>\n",
              "      <button class=\"colab-df-convert\" onclick=\"convertToInteractive('df-45ae1dcc-bed0-490a-8ab0-116c77f2e2d0')\"\n",
              "              title=\"Convert this dataframe to an interactive table.\"\n",
              "              style=\"display:none;\">\n",
              "        \n",
              "  <svg xmlns=\"http://www.w3.org/2000/svg\" height=\"24px\"viewBox=\"0 0 24 24\"\n",
              "       width=\"24px\">\n",
              "    <path d=\"M0 0h24v24H0V0z\" fill=\"none\"/>\n",
              "    <path d=\"M18.56 5.44l.94 2.06.94-2.06 2.06-.94-2.06-.94-.94-2.06-.94 2.06-2.06.94zm-11 1L8.5 8.5l.94-2.06 2.06-.94-2.06-.94L8.5 2.5l-.94 2.06-2.06.94zm10 10l.94 2.06.94-2.06 2.06-.94-2.06-.94-.94-2.06-.94 2.06-2.06.94z\"/><path d=\"M17.41 7.96l-1.37-1.37c-.4-.4-.92-.59-1.43-.59-.52 0-1.04.2-1.43.59L10.3 9.45l-7.72 7.72c-.78.78-.78 2.05 0 2.83L4 21.41c.39.39.9.59 1.41.59.51 0 1.02-.2 1.41-.59l7.78-7.78 2.81-2.81c.8-.78.8-2.07 0-2.86zM5.41 20L4 18.59l7.72-7.72 1.47 1.35L5.41 20z\"/>\n",
              "  </svg>\n",
              "      </button>\n",
              "      \n",
              "  <style>\n",
              "    .colab-df-container {\n",
              "      display:flex;\n",
              "      flex-wrap:wrap;\n",
              "      gap: 12px;\n",
              "    }\n",
              "\n",
              "    .colab-df-convert {\n",
              "      background-color: #E8F0FE;\n",
              "      border: none;\n",
              "      border-radius: 50%;\n",
              "      cursor: pointer;\n",
              "      display: none;\n",
              "      fill: #1967D2;\n",
              "      height: 32px;\n",
              "      padding: 0 0 0 0;\n",
              "      width: 32px;\n",
              "    }\n",
              "\n",
              "    .colab-df-convert:hover {\n",
              "      background-color: #E2EBFA;\n",
              "      box-shadow: 0px 1px 2px rgba(60, 64, 67, 0.3), 0px 1px 3px 1px rgba(60, 64, 67, 0.15);\n",
              "      fill: #174EA6;\n",
              "    }\n",
              "\n",
              "    [theme=dark] .colab-df-convert {\n",
              "      background-color: #3B4455;\n",
              "      fill: #D2E3FC;\n",
              "    }\n",
              "\n",
              "    [theme=dark] .colab-df-convert:hover {\n",
              "      background-color: #434B5C;\n",
              "      box-shadow: 0px 1px 3px 1px rgba(0, 0, 0, 0.15);\n",
              "      filter: drop-shadow(0px 1px 2px rgba(0, 0, 0, 0.3));\n",
              "      fill: #FFFFFF;\n",
              "    }\n",
              "  </style>\n",
              "\n",
              "      <script>\n",
              "        const buttonEl =\n",
              "          document.querySelector('#df-45ae1dcc-bed0-490a-8ab0-116c77f2e2d0 button.colab-df-convert');\n",
              "        buttonEl.style.display =\n",
              "          google.colab.kernel.accessAllowed ? 'block' : 'none';\n",
              "\n",
              "        async function convertToInteractive(key) {\n",
              "          const element = document.querySelector('#df-45ae1dcc-bed0-490a-8ab0-116c77f2e2d0');\n",
              "          const dataTable =\n",
              "            await google.colab.kernel.invokeFunction('convertToInteractive',\n",
              "                                                     [key], {});\n",
              "          if (!dataTable) return;\n",
              "\n",
              "          const docLinkHtml = 'Like what you see? Visit the ' +\n",
              "            '<a target=\"_blank\" href=https://colab.research.google.com/notebooks/data_table.ipynb>data table notebook</a>'\n",
              "            + ' to learn more about interactive tables.';\n",
              "          element.innerHTML = '';\n",
              "          dataTable['output_type'] = 'display_data';\n",
              "          await google.colab.output.renderOutput(dataTable, element);\n",
              "          const docLink = document.createElement('div');\n",
              "          docLink.innerHTML = docLinkHtml;\n",
              "          element.appendChild(docLink);\n",
              "        }\n",
              "      </script>\n",
              "    </div>\n",
              "  </div>\n",
              "  "
            ]
          },
          "metadata": {},
          "execution_count": 12
        }
      ]
    },
    {
      "cell_type": "code",
      "source": [
        "import random\n",
        "random_index = random.randint(0, len(train_df)-5)\n",
        "for row in train_df_shuffled[['text', 'target']][random_index : random_index + 5].itertuples():\n",
        "  print(row)\n",
        "  _, text, target = row\n",
        "  print(f'Target: {target}', '(real disaster)' if target > 0 else '(not real disaster)')\n",
        "  print(f'Text:\\n,{text}\\n')\n",
        "  print(f'----\\n')"
      ],
      "metadata": {
        "colab": {
          "base_uri": "https://localhost:8080/"
        },
        "id": "1e50euNDXu8U",
        "outputId": "12793f30-056e-4962-b75f-190a0d97df40"
      },
      "execution_count": null,
      "outputs": [
        {
          "output_type": "stream",
          "name": "stdout",
          "text": [
            "Pandas(Index=138, text='@crobscarla your lifetime odds of dying from an airplane accident are 1 in 8015.', target=0)\n",
            "Target: 0 (not real disaster)\n",
            "Text:\n",
            ",@crobscarla your lifetime odds of dying from an airplane accident are 1 in 8015.\n",
            "\n",
            "----\n",
            "\n",
            "Pandas(Index=299, text='The latest from @BryanSinger reveals #Storm is a queen in #Apocalypse @RuPaul @AlexShipppp http://t.co/oQw8Jx6rTs', target=1)\n",
            "Target: 1 (real disaster)\n",
            "Text:\n",
            ",The latest from @BryanSinger reveals #Storm is a queen in #Apocalypse @RuPaul @AlexShipppp http://t.co/oQw8Jx6rTs\n",
            "\n",
            "----\n",
            "\n",
            "Pandas(Index=1556, text=\"@Chemical_Babe its a family emergency so I can't make it unless I have a chance to use by phone for stream.\", target=0)\n",
            "Target: 0 (not real disaster)\n",
            "Text:\n",
            ",@Chemical_Babe its a family emergency so I can't make it unless I have a chance to use by phone for stream.\n",
            "\n",
            "----\n",
            "\n",
            "Pandas(Index=382, text='Thousands attend a rally organized by Peace Now protesting the arson attack that took the life of an http://t.co/bvCKd9pdTi', target=1)\n",
            "Target: 1 (real disaster)\n",
            "Text:\n",
            ",Thousands attend a rally organized by Peace Now protesting the arson attack that took the life of an http://t.co/bvCKd9pdTi\n",
            "\n",
            "----\n",
            "\n",
            "Pandas(Index=6389, text='ll//ll= Pic of 16yr old PKK suicide bomber who detonated bomb in Turkey Army trench released http://t.co/uoNEbAHH3h /', target=1)\n",
            "Target: 1 (real disaster)\n",
            "Text:\n",
            ",ll//ll= Pic of 16yr old PKK suicide bomber who detonated bomb in Turkey Army trench released http://t.co/uoNEbAHH3h /\n",
            "\n",
            "----\n",
            "\n"
          ]
        }
      ]
    },
    {
      "cell_type": "markdown",
      "source": [
        "### Split data into training and validation sets\n"
      ],
      "metadata": {
        "id": "ypVmXTvmkpq5"
      }
    },
    {
      "cell_type": "code",
      "source": [
        "from sklearn.model_selection import train_test_split\n",
        "\n",
        "# Use train_test_split to split training data into training and validation sets\n",
        "\n",
        "train_sentences, val_sentences, train_labels, val_labels = train_test_split(train_df_shuffled['text'].to_numpy(),\n",
        "                                                              train_df_shuffled['target'].to_numpy(),\n",
        "                                                              test_size = 0.1,\n",
        "                                                              random_state = 42)"
      ],
      "metadata": {
        "id": "rpODnwJ1nnrA"
      },
      "execution_count": null,
      "outputs": []
    },
    {
      "cell_type": "code",
      "source": [
        "# Check the lenghts\n",
        "\n",
        "len(train_sentences), len(train_labels), len(val_sentences), len(val_labels)"
      ],
      "metadata": {
        "colab": {
          "base_uri": "https://localhost:8080/"
        },
        "id": "WB15HMsPoinl",
        "outputId": "614650be-a51a-4664-c616-cc9a024cbbd8"
      },
      "execution_count": null,
      "outputs": [
        {
          "output_type": "execute_result",
          "data": {
            "text/plain": [
              "(6851, 6851, 762, 762)"
            ]
          },
          "metadata": {},
          "execution_count": 15
        }
      ]
    },
    {
      "cell_type": "markdown",
      "source": [
        "## Convert text into numbers\n",
        "\n",
        "Tokenisation - Direct mapping of tokens\n",
        "\n",
        "Embedding - Create a matrix of feature vectors\n"
      ],
      "metadata": {
        "id": "9mmmDCR3pU7j"
      }
    },
    {
      "cell_type": "markdown",
      "source": [
        "### Text vectorisation"
      ],
      "metadata": {
        "id": "ZvtiH8QgBmlu"
      }
    },
    {
      "cell_type": "code",
      "source": [
        "train_sentences[:3]"
      ],
      "metadata": {
        "colab": {
          "base_uri": "https://localhost:8080/"
        },
        "id": "iHa-BZqIBrIZ",
        "outputId": "732a795c-e831-41ee-f9ac-ade1c63decfc"
      },
      "execution_count": null,
      "outputs": [
        {
          "output_type": "execute_result",
          "data": {
            "text/plain": [
              "array(['@mogacola @zamtriossu i screamed after hitting tweet',\n",
              "       'Imagine getting flattened by Kurt Zouma',\n",
              "       '@Gurmeetramrahim #MSGDoing111WelfareWorks Green S welfare force ke appx 65000 members har time disaster victim ki help ke liye tyar hai....'],\n",
              "      dtype=object)"
            ]
          },
          "metadata": {},
          "execution_count": 16
        }
      ]
    },
    {
      "cell_type": "code",
      "source": [
        "import tensorflow as tf\n",
        "from tensorflow.keras.layers.experimental.preprocessing import TextVectorization\n",
        "\n",
        "text_vectorizer = TextVectorization(max_tokens = None, # limit on the no of tokens (uncommon words get replaced by <OOV>)\n",
        "                                     standardize = 'lower_and_strip_punctuation', # lowers text and removes punctuation\n",
        "                                     split = 'whitespace', #split where the white spaces exist\n",
        "                                     ngrams = None, \n",
        "                                     output_mode = 'int',\n",
        "                                    output_sequence_length = None, # how long the sequences should be\n",
        "                                    # pad_to_max_tokens = True\n",
        "                                    )"
      ],
      "metadata": {
        "id": "gJ0mHbhzBvce"
      },
      "execution_count": null,
      "outputs": []
    },
    {
      "cell_type": "code",
      "source": [
        "# Find the average number of tokens in thee trainint twee\n",
        "ln = (sum([len(i.split()) for i in train_sentences]))/len(train_sentences)\n",
        "round(ln)"
      ],
      "metadata": {
        "colab": {
          "base_uri": "https://localhost:8080/"
        },
        "id": "oycg8Lb_jAFx",
        "outputId": "fc6ae17b-5075-4649-d5f8-fc377ee4179f"
      },
      "execution_count": null,
      "outputs": [
        {
          "output_type": "execute_result",
          "data": {
            "text/plain": [
              "15"
            ]
          },
          "metadata": {},
          "execution_count": 18
        }
      ]
    },
    {
      "cell_type": "code",
      "source": [
        "# Setup text vectorisation variables\n",
        "\n",
        "max_vocab_length = 10000\n",
        "max_length = round(ln)\n",
        "\n",
        "text_vectorizer = TextVectorization(max_tokens = max_vocab_length,\n",
        "                                    output_mode = 'int',\n",
        "                                    output_sequence_length = max_length)"
      ],
      "metadata": {
        "id": "OhQkRQtXj36R"
      },
      "execution_count": null,
      "outputs": []
    },
    {
      "cell_type": "code",
      "source": [
        "# Fit the text vectoriser\n",
        "\n",
        "text_vectorizer.adapt(train_sentences)"
      ],
      "metadata": {
        "id": "w6uH4Lgs1RUb"
      },
      "execution_count": null,
      "outputs": []
    },
    {
      "cell_type": "code",
      "source": [
        "sample_sentence = \"There's a flood in my street!\"\n",
        "\n",
        "text_vectorizer([sample_sentence])"
      ],
      "metadata": {
        "colab": {
          "base_uri": "https://localhost:8080/"
        },
        "id": "Q5Scnc5q1jk5",
        "outputId": "26010299-e566-44dd-8dde-a049d89bf519"
      },
      "execution_count": null,
      "outputs": [
        {
          "output_type": "execute_result",
          "data": {
            "text/plain": [
              "<tf.Tensor: shape=(1, 15), dtype=int64, numpy=\n",
              "array([[264,   3, 232,   4,  13, 698,   0,   0,   0,   0,   0,   0,   0,\n",
              "          0,   0]])>"
            ]
          },
          "metadata": {},
          "execution_count": 21
        }
      ]
    },
    {
      "cell_type": "code",
      "source": [
        "# Choose a random sentence from the training dataset and tokenize it \n",
        "\n",
        "random_sentence = random.choice(train_sentences)\n",
        "print(f'OG sent:\\n {random_sentence}\\n')\n",
        "\n",
        "print(f'Vectorized sent:\\n {text_vectorizer([random_sentence])}')"
      ],
      "metadata": {
        "colab": {
          "base_uri": "https://localhost:8080/"
        },
        "id": "UTEeO2C74Ks7",
        "outputId": "5229a320-2875-4803-89a2-aa2a7b1c256f"
      },
      "execution_count": null,
      "outputs": [
        {
          "output_type": "stream",
          "name": "stdout",
          "text": [
            "OG sent:\n",
            " Spokane authorities say they're struggling to solve arson cases like today's on Hamilton. http://t.co/Qbs2k01WzK http://t.co/mvLZIYsGLL\n",
            "\n",
            "Vectorized sent:\n",
            " [[8206 2188  132  723 4517    5 4576  612 1702   25 1169   11 3792    1\n",
            "     1]]\n"
          ]
        }
      ]
    },
    {
      "cell_type": "code",
      "source": [
        "text_vectorizer([random_sentence])"
      ],
      "metadata": {
        "colab": {
          "base_uri": "https://localhost:8080/"
        },
        "id": "mTpYomZw9D2C",
        "outputId": "0b00b2f3-1026-492b-d84f-3be851b10b67"
      },
      "execution_count": null,
      "outputs": [
        {
          "output_type": "execute_result",
          "data": {
            "text/plain": [
              "<tf.Tensor: shape=(1, 15), dtype=int64, numpy=\n",
              "array([[8206, 2188,  132,  723, 4517,    5, 4576,  612, 1702,   25, 1169,\n",
              "          11, 3792,    1,    1]])>"
            ]
          },
          "metadata": {},
          "execution_count": 23
        }
      ]
    },
    {
      "cell_type": "code",
      "source": [
        "# Get the unique words in our vocabulary\n",
        "\n",
        "words_in_vocab = text_vectorizer.get_vocabulary()\n",
        "\n",
        "words_in_vocab[:5]\n"
      ],
      "metadata": {
        "colab": {
          "base_uri": "https://localhost:8080/"
        },
        "id": "oQRMmvVn5egC",
        "outputId": "c0a951ad-141d-43f0-a226-7b022e3ef575"
      },
      "execution_count": null,
      "outputs": [
        {
          "output_type": "execute_result",
          "data": {
            "text/plain": [
              "['', '[UNK]', 'the', 'a', 'in']"
            ]
          },
          "metadata": {},
          "execution_count": 24
        }
      ]
    },
    {
      "cell_type": "code",
      "source": [
        "words_in_vocab[-5:]"
      ],
      "metadata": {
        "colab": {
          "base_uri": "https://localhost:8080/"
        },
        "id": "bketgF9Q7zkg",
        "outputId": "43a92b49-993c-4051-d9c7-d95277c64e16"
      },
      "execution_count": null,
      "outputs": [
        {
          "output_type": "execute_result",
          "data": {
            "text/plain": [
              "['pages', 'paeds', 'pads', 'padres', 'paddytomlinson1']"
            ]
          },
          "metadata": {},
          "execution_count": 25
        }
      ]
    },
    {
      "cell_type": "code",
      "source": [
        "len(words_in_vocab)"
      ],
      "metadata": {
        "colab": {
          "base_uri": "https://localhost:8080/"
        },
        "id": "_wnQQ-AC8flS",
        "outputId": "1fbd82f0-6ec7-49e0-b1e0-220d657c3b51"
      },
      "execution_count": null,
      "outputs": [
        {
          "output_type": "execute_result",
          "data": {
            "text/plain": [
              "10000"
            ]
          },
          "metadata": {},
          "execution_count": 26
        }
      ]
    },
    {
      "cell_type": "code",
      "source": [
        "words_in_vocab[-1]"
      ],
      "metadata": {
        "colab": {
          "base_uri": "https://localhost:8080/"
        },
        "id": "Ga0Rg8u_8yM6",
        "outputId": "fa2ab625-de32-4ddd-b348-5ccfe3451bc3"
      },
      "execution_count": null,
      "outputs": [
        {
          "output_type": "execute_result",
          "data": {
            "text/plain": [
              "'paddytomlinson1'"
            ],
            "application/vnd.google.colaboratory.intrinsic+json": {
              "type": "string"
            }
          },
          "metadata": {},
          "execution_count": 27
        }
      ]
    },
    {
      "cell_type": "markdown",
      "source": [
        "### Create an embedding representation of words\n",
        "\n",
        "Parameters:\n",
        "\n",
        "      input_dim = size of vocab\n",
        "      output_dim = size of the output_sequence_length\n",
        "      input_length = length of the seq\n"
      ],
      "metadata": {
        "id": "zPYPGSLJ-8PK"
      }
    },
    {
      "cell_type": "code",
      "source": [
        "tf.random.set_seed(42)\n",
        "from tensorflow.keras import layers\n",
        "\n",
        "vocab_length = len(words_in_vocab)\n",
        "\n",
        "embedding = layers.Embedding(input_dim = vocab_length,\n",
        "                             output_dim = 128,\n",
        "                             embeddings_initializer = 'uniform',\n",
        "                             input_length = max_length)"
      ],
      "metadata": {
        "id": "it8R2sCf34ST"
      },
      "execution_count": null,
      "outputs": []
    },
    {
      "cell_type": "code",
      "source": [
        "# Get a random sentence from the training set\n",
        "\n",
        "random_sentence = random.choice(train_sentences)\n",
        "\n",
        "print(f'Original text:\\n {random_sentence}\\n')\n",
        "\n",
        "print('After Embedding:')\n",
        "\n",
        "# Embed the ranodm sent\n",
        "\n",
        "sample_embed = embedding(text_vectorizer([random_sentence]))\n",
        "\n",
        "print(sample_embed)"
      ],
      "metadata": {
        "colab": {
          "base_uri": "https://localhost:8080/"
        },
        "id": "CdleTR2V46D6",
        "outputId": "64256a34-cc3a-45aa-e8a2-bf4c52cb101d"
      },
      "execution_count": null,
      "outputs": [
        {
          "output_type": "stream",
          "name": "stdout",
          "text": [
            "Original text:\n",
            " Picking up flattened hay men (@ Masonite in Wahpeton ND) https://t.co/Kw3vq4niJQ\n",
            "\n",
            "After Embedding:\n",
            "tf.Tensor(\n",
            "[[[-0.04515135 -0.01518549  0.04039604 ...  0.00339705 -0.00649456\n",
            "    0.0005693 ]\n",
            "  [ 0.04000009 -0.00109376  0.04168421 ...  0.03278208 -0.04983821\n",
            "    0.0191685 ]\n",
            "  [ 0.02104041  0.01617186 -0.02508427 ...  0.00456551 -0.04562936\n",
            "   -0.00473096]\n",
            "  ...\n",
            "  [ 0.01645621 -0.00589932 -0.01471175 ... -0.02511839  0.00912381\n",
            "   -0.00024097]\n",
            "  [ 0.01645621 -0.00589932 -0.01471175 ... -0.02511839  0.00912381\n",
            "   -0.00024097]\n",
            "  [ 0.01645621 -0.00589932 -0.01471175 ... -0.02511839  0.00912381\n",
            "   -0.00024097]]], shape=(1, 15, 128), dtype=float32)\n"
          ]
        }
      ]
    },
    {
      "cell_type": "code",
      "source": [
        "sample_embed"
      ],
      "metadata": {
        "colab": {
          "base_uri": "https://localhost:8080/"
        },
        "id": "rj0cddwL6G2S",
        "outputId": "6a12d173-5646-4245-e5f2-bb9c3a1929e8"
      },
      "execution_count": null,
      "outputs": [
        {
          "output_type": "execute_result",
          "data": {
            "text/plain": [
              "<tf.Tensor: shape=(1, 15, 128), dtype=float32, numpy=\n",
              "array([[[-0.04515135, -0.01518549,  0.04039604, ...,  0.00339705,\n",
              "         -0.00649456,  0.0005693 ],\n",
              "        [ 0.04000009, -0.00109376,  0.04168421, ...,  0.03278208,\n",
              "         -0.04983821,  0.0191685 ],\n",
              "        [ 0.02104041,  0.01617186, -0.02508427, ...,  0.00456551,\n",
              "         -0.04562936, -0.00473096],\n",
              "        ...,\n",
              "        [ 0.01645621, -0.00589932, -0.01471175, ..., -0.02511839,\n",
              "          0.00912381, -0.00024097],\n",
              "        [ 0.01645621, -0.00589932, -0.01471175, ..., -0.02511839,\n",
              "          0.00912381, -0.00024097],\n",
              "        [ 0.01645621, -0.00589932, -0.01471175, ..., -0.02511839,\n",
              "          0.00912381, -0.00024097]]], dtype=float32)>"
            ]
          },
          "metadata": {},
          "execution_count": 30
        }
      ]
    },
    {
      "cell_type": "code",
      "source": [
        "# Check out a singe token's embedding\n",
        "\n",
        "sample_embed[0][0]"
      ],
      "metadata": {
        "colab": {
          "base_uri": "https://localhost:8080/"
        },
        "id": "dMcCNEPW65v7",
        "outputId": "6be8b38e-b3df-41b3-9f20-6f96215b2850"
      },
      "execution_count": null,
      "outputs": [
        {
          "output_type": "execute_result",
          "data": {
            "text/plain": [
              "<tf.Tensor: shape=(128,), dtype=float32, numpy=\n",
              "array([-4.51513529e-02, -1.51854865e-02,  4.03960384e-02,  3.50998305e-02,\n",
              "        7.77304173e-04,  1.63655989e-02, -3.57919931e-03,  2.73313411e-02,\n",
              "       -1.93721056e-03,  2.18564756e-02,  1.43444538e-03, -8.68457556e-03,\n",
              "       -1.31966360e-02,  1.74061544e-02, -4.87188473e-02,  4.12340872e-02,\n",
              "        4.52918932e-03,  5.83036989e-03, -4.76378091e-02, -3.81214395e-02,\n",
              "       -4.99036908e-02, -9.01661813e-04,  2.83511914e-02, -8.95595551e-03,\n",
              "       -3.23984399e-02,  4.30466980e-03,  6.36097044e-03,  3.62712145e-03,\n",
              "        3.31056230e-02,  1.45638026e-02, -2.97070276e-02, -4.29619215e-02,\n",
              "       -3.74964252e-02, -4.10730727e-02, -2.99071670e-02, -1.19704120e-02,\n",
              "       -1.72489770e-02, -3.53197083e-02, -1.49643645e-02, -5.15010208e-03,\n",
              "       -2.24027280e-02, -8.51420313e-03,  3.42349522e-02,  5.60515001e-03,\n",
              "        3.95355336e-02,  4.24179323e-02, -1.62373409e-02,  1.47879124e-04,\n",
              "       -1.27609260e-02, -2.51847506e-02,  4.22107019e-02,  7.48116896e-03,\n",
              "       -4.80815880e-02,  1.51231326e-02,  4.11114357e-02,  2.33971588e-02,\n",
              "       -3.80468369e-03, -1.53911114e-02,  1.31888315e-03, -3.36898118e-02,\n",
              "        1.17920041e-02,  4.40664627e-02,  3.87255810e-02,  4.12339009e-02,\n",
              "       -3.64471301e-02,  1.37319304e-02, -1.75194964e-02, -7.80217722e-03,\n",
              "        1.98086984e-02,  2.29024999e-02, -1.51072033e-02,  4.05384041e-02,\n",
              "       -4.83096838e-02, -1.78068280e-02,  7.61149079e-03,  3.36796381e-02,\n",
              "       -4.25770395e-02, -9.93013382e-05,  7.17316940e-03, -2.52905972e-02,\n",
              "        4.79435585e-02, -1.23655684e-02, -3.04478407e-03,  1.52947940e-02,\n",
              "       -2.58165598e-03,  6.35439157e-03, -1.65627152e-03, -7.26677477e-04,\n",
              "       -6.71235472e-03, -4.93330620e-02,  2.91330479e-02,  2.25735344e-02,\n",
              "       -1.28271207e-02,  2.34576948e-02,  3.60708944e-02,  6.02451712e-03,\n",
              "       -3.88123505e-02,  3.50349285e-02, -1.19315386e-02, -6.35739416e-03,\n",
              "        2.24045999e-02, -1.95837151e-02,  8.90354067e-03,  9.18506458e-03,\n",
              "        2.00419314e-02,  2.41582654e-02,  1.90679170e-02, -2.24207398e-02,\n",
              "       -3.11706550e-02,  1.15610845e-02, -2.64396798e-02,  3.59086879e-02,\n",
              "        3.10642608e-02,  6.82241842e-03, -2.36873869e-02, -4.19538990e-02,\n",
              "       -1.05881914e-02, -3.84538770e-02,  2.50533484e-02, -1.67801604e-02,\n",
              "       -3.11238170e-02, -1.95756201e-02, -7.24219158e-03, -2.10935604e-02,\n",
              "       -9.52534750e-03,  3.39704752e-03, -6.49455935e-03,  5.69295138e-04],\n",
              "      dtype=float32)>"
            ]
          },
          "metadata": {},
          "execution_count": 31
        }
      ]
    },
    {
      "cell_type": "code",
      "source": [
        "random_sentence"
      ],
      "metadata": {
        "colab": {
          "base_uri": "https://localhost:8080/"
        },
        "id": "ZvnGCWXB9nzC",
        "outputId": "40e54771-cc38-49e2-fa5d-72efcc3ecf95"
      },
      "execution_count": null,
      "outputs": [
        {
          "output_type": "execute_result",
          "data": {
            "text/plain": [
              "'Picking up flattened hay men (@ Masonite in Wahpeton ND) https://t.co/Kw3vq4niJQ'"
            ],
            "application/vnd.google.colaboratory.intrinsic+json": {
              "type": "string"
            }
          },
          "metadata": {},
          "execution_count": 32
        }
      ]
    },
    {
      "cell_type": "markdown",
      "source": [
        "## Modelling a text dataet and running a series of experiments\n",
        "\n",
        "    Model 0 : Naive Bayes (baseline)\n",
        "\n",
        "    Model 1 : Feed Forward Neural Network (Dense)\n",
        "\n",
        "    Model 2 : LSTM model (RNN)\n",
        "\n",
        "    Model 3 : GRU model (RNN)\n",
        "\n",
        "    Model 4 : Bidirectional LSTM model (RNN)\n",
        "\n",
        "    Model 5 : 1D CNN\n",
        "\n",
        "    Model 6:  Tensorflow Hub pretrained Feature Extractor (transfer learning)\n",
        "\n",
        "    Model 7: Same as model 6 with 10% of training data"
      ],
      "metadata": {
        "id": "iOiTaLPz9pha"
      }
    },
    {
      "cell_type": "markdown",
      "source": [
        "### Model 0 : Getting a baseline \n",
        "\n",
        "\n",
        "As with all machine learning experiments its important to create a baseline model for benchmarking\n",
        "\n",
        "> Its common practice to use non_DL as baseline and use DL to see if we can improve upon it"
      ],
      "metadata": {
        "id": "tZeH9cyKApoJ"
      }
    },
    {
      "cell_type": "code",
      "source": [
        "from tensorflow.python.ops.gen_random_ops import Multinomial\n",
        "from sklearn.feature_extraction.text import TfidfVectorizer\n",
        "from sklearn.naive_bayes import MultinomialNB\n",
        "from sklearn.pipeline import Pipeline\n",
        "\n",
        "# Create tokenization and modelling pipeline\n",
        "\n",
        "model_0 = Pipeline([\n",
        "    ('tfidf', TfidfVectorizer()), # turn our text to numbers\n",
        "    ('clf', MultinomialNB())     # model the text\n",
        "])\n",
        "\n",
        "# Fit the pipe line to the training ata\n",
        "\n",
        "model_0.fit(train_sentences, train_labels)\n"
      ],
      "metadata": {
        "id": "MDvoe5ePCIgp",
        "colab": {
          "base_uri": "https://localhost:8080/"
        },
        "outputId": "6640e5ab-c891-4a6d-f56d-2364ca0bb857"
      },
      "execution_count": null,
      "outputs": [
        {
          "output_type": "execute_result",
          "data": {
            "text/plain": [
              "Pipeline(steps=[('tfidf', TfidfVectorizer()), ('clf', MultinomialNB())])"
            ]
          },
          "metadata": {},
          "execution_count": 33
        }
      ]
    },
    {
      "cell_type": "code",
      "source": [
        "# Evaluate our baseline our model\n",
        "\n",
        "baseline_score = model_0.score(val_sentences, val_labels)"
      ],
      "metadata": {
        "id": "SLtMLOlw5mPx"
      },
      "execution_count": null,
      "outputs": []
    },
    {
      "cell_type": "code",
      "source": [
        "print(f'Our baseline model achieves an accurayc of:{baseline_score*100}%')"
      ],
      "metadata": {
        "colab": {
          "base_uri": "https://localhost:8080/"
        },
        "id": "Ax3ZSp2HQkBZ",
        "outputId": "dc7d5b0a-91c3-40a4-e160-a123dc172826"
      },
      "execution_count": null,
      "outputs": [
        {
          "output_type": "stream",
          "name": "stdout",
          "text": [
            "Our baseline model achieves an accurayc of:79.26509186351706%\n"
          ]
        }
      ]
    },
    {
      "cell_type": "code",
      "source": [
        "train_df.target.value_counts()"
      ],
      "metadata": {
        "colab": {
          "base_uri": "https://localhost:8080/"
        },
        "id": "DrQ2kL9DQ2LX",
        "outputId": "12b779d5-d5fb-4f3a-e051-995b354c091c"
      },
      "execution_count": null,
      "outputs": [
        {
          "output_type": "execute_result",
          "data": {
            "text/plain": [
              "0    4342\n",
              "1    3271\n",
              "Name: target, dtype: int64"
            ]
          },
          "metadata": {},
          "execution_count": 36
        }
      ]
    },
    {
      "cell_type": "code",
      "source": [
        "# Make predictions\n",
        "\n",
        "baseline_preds = model_0.predict(val_sentences)\n",
        "baseline_preds[:20]"
      ],
      "metadata": {
        "colab": {
          "base_uri": "https://localhost:8080/"
        },
        "id": "VSLEsxWcRUKo",
        "outputId": "241149fc-a268-4409-84f3-7e8184b46740"
      },
      "execution_count": null,
      "outputs": [
        {
          "output_type": "execute_result",
          "data": {
            "text/plain": [
              "array([1, 1, 1, 0, 0, 1, 1, 1, 1, 0, 0, 1, 0, 0, 0, 0, 0, 0, 0, 1])"
            ]
          },
          "metadata": {},
          "execution_count": 37
        }
      ]
    },
    {
      "cell_type": "markdown",
      "source": [
        "### Creating an evaluation function for our model experiments\n",
        "\n",
        "Compare our model using the following metrics:\n",
        "\n",
        ">Accuracy\n",
        "\n",
        ">Precision\n",
        "\n",
        ">Recall\n",
        "\n",
        ">F1-Score"
      ],
      "metadata": {
        "id": "HKQkQNifSofy"
      }
    },
    {
      "cell_type": "code",
      "source": [
        "# Function to eval \n",
        "\n",
        "from sklearn.metrics import accuracy_score, precision_recall_fscore_support\n",
        "\n",
        "def calculate_results(y_true, y_pred):\n",
        "\n",
        "  # Accuracy\n",
        "  model_accuracy = accuracy_score(y_true, y_pred) * 100\n",
        "  # Precison, Recall, F1-Score\n",
        "  model_precision, model_recall, model_f1, _ = precision_recall_fscore_support(y_true, y_pred, average = 'weighted')\n",
        "  model_results = {'accuracy': model_accuracy,\n",
        "                   'precision' : model_precision,\n",
        "                   'recall': model_recall,\n",
        "                   'f1': model_f1}\n",
        "  return model_results"
      ],
      "metadata": {
        "id": "eBI3X1TJTR-D"
      },
      "execution_count": null,
      "outputs": []
    },
    {
      "cell_type": "code",
      "source": [
        "baseline_results = calculate_results(y_true = val_labels,\n",
        "                                     y_pred = baseline_preds)\n",
        "\n",
        "baseline_results"
      ],
      "metadata": {
        "colab": {
          "base_uri": "https://localhost:8080/"
        },
        "id": "JDoG2QCeXfcF",
        "outputId": "c49c77c7-5097-4818-f015-0f19d356c2db"
      },
      "execution_count": null,
      "outputs": [
        {
          "output_type": "execute_result",
          "data": {
            "text/plain": [
              "{'accuracy': 79.26509186351706,\n",
              " 'precision': 0.8111390004213173,\n",
              " 'recall': 0.7926509186351706,\n",
              " 'f1': 0.7862189758049549}"
            ]
          },
          "metadata": {},
          "execution_count": 39
        }
      ]
    },
    {
      "cell_type": "markdown",
      "source": [
        "### Model 1 : A simple dense model"
      ],
      "metadata": {
        "id": "0w_jqz8iXvTr"
      }
    },
    {
      "cell_type": "code",
      "source": [
        "# Create a tensorboard callback\n",
        "from helper_functions import create_tensorboard_callback\n",
        "\n",
        "# Createa a directory to save TensorBoard lofs\n",
        "SAVE_DIR = 'model_logs'"
      ],
      "metadata": {
        "id": "mnnjzZdHb3CW"
      },
      "execution_count": null,
      "outputs": []
    },
    {
      "cell_type": "code",
      "source": [
        "# Build model with Functional API\n",
        "from tensorflow.keras import layers\n",
        "\n",
        "inputs = layers.Input(shape=(1,), dtype = tf.string) # inputs are 1 dimensinal strting\n",
        "x = text_vectorizer(inputs) # nums to vectors\n",
        "x = embedding(x) \n",
        "x = layers.GlobalAveragePooling1D()(x)\n",
        "outputs = layers.Dense(1, activation='sigmoid')(x)\n",
        "model_1 = tf.keras.Model(inputs, outputs, name='model_1_dense')\n"
      ],
      "metadata": {
        "id": "zwcOh1gLcNAn"
      },
      "execution_count": null,
      "outputs": []
    },
    {
      "cell_type": "code",
      "source": [
        "model_1.summary()"
      ],
      "metadata": {
        "colab": {
          "base_uri": "https://localhost:8080/"
        },
        "id": "ljiEkG3SeFL5",
        "outputId": "0fc93b56-738a-44da-abd0-05c360e2a851"
      },
      "execution_count": null,
      "outputs": [
        {
          "output_type": "stream",
          "name": "stdout",
          "text": [
            "Model: \"model_1_dense\"\n",
            "_________________________________________________________________\n",
            " Layer (type)                Output Shape              Param #   \n",
            "=================================================================\n",
            " input_1 (InputLayer)        [(None, 1)]               0         \n",
            "                                                                 \n",
            " text_vectorization_1 (TextV  (None, 15)               0         \n",
            " ectorization)                                                   \n",
            "                                                                 \n",
            " embedding (Embedding)       (None, 15, 128)           1280000   \n",
            "                                                                 \n",
            " global_average_pooling1d (G  (None, 128)              0         \n",
            " lobalAveragePooling1D)                                          \n",
            "                                                                 \n",
            " dense (Dense)               (None, 1)                 129       \n",
            "                                                                 \n",
            "=================================================================\n",
            "Total params: 1,280,129\n",
            "Trainable params: 1,280,129\n",
            "Non-trainable params: 0\n",
            "_________________________________________________________________\n"
          ]
        }
      ]
    },
    {
      "cell_type": "code",
      "source": [
        "# Compile the model\n",
        "\n",
        "model_1.compile(loss = 'binary_crossentropy',\n",
        "                optimizer = tf.keras.optimizers.Adam(),\n",
        "                metrics = ['accuracy'])"
      ],
      "metadata": {
        "id": "s62oIi6Qefj2"
      },
      "execution_count": null,
      "outputs": []
    },
    {
      "cell_type": "code",
      "source": [
        "# Fit the model\n",
        "\n",
        "model_history = model_1.fit(x = train_sentences,\n",
        "                          y = train_labels,\n",
        "                          epochs = 5,\n",
        "                          validation_data = (val_sentences, val_labels),\n",
        "                          callbacks = [create_tensorboard_callback(dir_name = SAVE_DIR,\n",
        "                                                                   experiment_name = 'model_1_dense')])"
      ],
      "metadata": {
        "colab": {
          "base_uri": "https://localhost:8080/"
        },
        "id": "7epjIpk4f6Pa",
        "outputId": "0031705f-bf71-4ea9-8c0e-20d02b67ccaf"
      },
      "execution_count": null,
      "outputs": [
        {
          "output_type": "stream",
          "name": "stdout",
          "text": [
            "Saving TensorBoard log files to: model_logs/model_1_dense/20220913-130825\n",
            "Epoch 1/5\n",
            "215/215 [==============================] - 5s 5ms/step - loss: 0.6094 - accuracy: 0.6916 - val_loss: 0.5357 - val_accuracy: 0.7572\n",
            "Epoch 2/5\n",
            "215/215 [==============================] - 1s 5ms/step - loss: 0.4410 - accuracy: 0.8189 - val_loss: 0.4691 - val_accuracy: 0.7848\n",
            "Epoch 3/5\n",
            "215/215 [==============================] - 1s 4ms/step - loss: 0.3463 - accuracy: 0.8605 - val_loss: 0.4590 - val_accuracy: 0.7900\n",
            "Epoch 4/5\n",
            "215/215 [==============================] - 1s 4ms/step - loss: 0.2848 - accuracy: 0.8923 - val_loss: 0.4641 - val_accuracy: 0.7927\n",
            "Epoch 5/5\n",
            "215/215 [==============================] - 1s 4ms/step - loss: 0.2380 - accuracy: 0.9118 - val_loss: 0.4767 - val_accuracy: 0.7874\n"
          ]
        }
      ]
    },
    {
      "cell_type": "code",
      "source": [
        "# Check the results\n",
        "\n",
        "model_1.evaluate(val_sentences, val_labels)"
      ],
      "metadata": {
        "colab": {
          "base_uri": "https://localhost:8080/"
        },
        "id": "BAsNyNt-gWGY",
        "outputId": "3e4595e0-fd99-478f-cf85-7e0567974451"
      },
      "execution_count": null,
      "outputs": [
        {
          "output_type": "stream",
          "name": "stdout",
          "text": [
            "24/24 [==============================] - 0s 5ms/step - loss: 0.4767 - accuracy: 0.7874\n"
          ]
        },
        {
          "output_type": "execute_result",
          "data": {
            "text/plain": [
              "[0.4766846001148224, 0.787401556968689]"
            ]
          },
          "metadata": {},
          "execution_count": 45
        }
      ]
    },
    {
      "cell_type": "code",
      "source": [
        "model_1_pred_probs = model_1.predict(val_sentences)\n",
        "model_1_pred_probs[0]"
      ],
      "metadata": {
        "colab": {
          "base_uri": "https://localhost:8080/"
        },
        "id": "4W4ErpMtj_RX",
        "outputId": "574cb76e-6892-4647-a3d8-7fd4484be72b"
      },
      "execution_count": null,
      "outputs": [
        {
          "output_type": "execute_result",
          "data": {
            "text/plain": [
              "array([0.4048821], dtype=float32)"
            ]
          },
          "metadata": {},
          "execution_count": 46
        }
      ]
    },
    {
      "cell_type": "code",
      "source": [
        "model_1_pred_probs.shape"
      ],
      "metadata": {
        "colab": {
          "base_uri": "https://localhost:8080/"
        },
        "id": "cUkhvxNGkYsf",
        "outputId": "0d42125d-1969-4ecf-8ba4-3e987d04e05b"
      },
      "execution_count": null,
      "outputs": [
        {
          "output_type": "execute_result",
          "data": {
            "text/plain": [
              "(762, 1)"
            ]
          },
          "metadata": {},
          "execution_count": 47
        }
      ]
    },
    {
      "cell_type": "code",
      "source": [
        "# Convert model prediction probs to label formats\n",
        "\n",
        "model_1_preds = tf.squeeze(tf.round(model_1_pred_probs))\n",
        "model_1_preds[:20]"
      ],
      "metadata": {
        "colab": {
          "base_uri": "https://localhost:8080/"
        },
        "id": "rnol5qDgkjeY",
        "outputId": "6876bc3a-07bd-4cd1-d7d5-b21bf085e5de"
      },
      "execution_count": null,
      "outputs": [
        {
          "output_type": "execute_result",
          "data": {
            "text/plain": [
              "<tf.Tensor: shape=(20,), dtype=float32, numpy=\n",
              "array([0., 1., 1., 0., 0., 1., 1., 1., 1., 0., 0., 1., 0., 0., 0., 0., 0.,\n",
              "       0., 0., 1.], dtype=float32)>"
            ]
          },
          "metadata": {},
          "execution_count": 48
        }
      ]
    },
    {
      "cell_type": "code",
      "source": [
        "# Calcualte model 1 results\n",
        "model_1_results = calculate_results(y_true = val_labels,\n",
        "                            y_pred = model_1_preds)\n",
        "model_1_results"
      ],
      "metadata": {
        "colab": {
          "base_uri": "https://localhost:8080/"
        },
        "id": "T2AHYMBAoW-_",
        "outputId": "502cbf03-c635-43fa-f6fd-e5d6c5b9f871"
      },
      "execution_count": null,
      "outputs": [
        {
          "output_type": "execute_result",
          "data": {
            "text/plain": [
              "{'accuracy': 78.74015748031496,\n",
              " 'precision': 0.7914920592553047,\n",
              " 'recall': 0.7874015748031497,\n",
              " 'f1': 0.7846966492209201}"
            ]
          },
          "metadata": {},
          "execution_count": 49
        }
      ]
    },
    {
      "cell_type": "markdown",
      "source": [
        "## Visualizing learned embeddings\n",
        "\n"
      ],
      "metadata": {
        "id": "1wBtQhsE4rVc"
      }
    },
    {
      "cell_type": "code",
      "source": [
        "# Get the vocab from the text vectorization layer\n",
        "\n",
        "words_in_vocab = text_vectorizer.get_vocabulary()\n",
        "len(words_in_vocab)"
      ],
      "metadata": {
        "colab": {
          "base_uri": "https://localhost:8080/"
        },
        "id": "y-1L5dbZ5fR8",
        "outputId": "921d6e11-f0c8-47d9-bdb9-9525540c8dda"
      },
      "execution_count": null,
      "outputs": [
        {
          "output_type": "execute_result",
          "data": {
            "text/plain": [
              "10000"
            ]
          },
          "metadata": {},
          "execution_count": 50
        }
      ]
    },
    {
      "cell_type": "code",
      "source": [
        "words_in_vocab[:10]"
      ],
      "metadata": {
        "colab": {
          "base_uri": "https://localhost:8080/"
        },
        "id": "8ciU9Xu55sjc",
        "outputId": "b0683a04-6381-43bf-8f1f-25bab6435078"
      },
      "execution_count": null,
      "outputs": [
        {
          "output_type": "execute_result",
          "data": {
            "text/plain": [
              "['', '[UNK]', 'the', 'a', 'in', 'to', 'of', 'and', 'i', 'is']"
            ]
          },
          "metadata": {},
          "execution_count": 51
        }
      ]
    },
    {
      "cell_type": "code",
      "source": [
        "model_1.summary()"
      ],
      "metadata": {
        "colab": {
          "base_uri": "https://localhost:8080/"
        },
        "id": "QL2EYcz-5xBV",
        "outputId": "83b6f1a4-79d9-4336-b20b-3cc888aac12d"
      },
      "execution_count": null,
      "outputs": [
        {
          "output_type": "stream",
          "name": "stdout",
          "text": [
            "Model: \"model_1_dense\"\n",
            "_________________________________________________________________\n",
            " Layer (type)                Output Shape              Param #   \n",
            "=================================================================\n",
            " input_1 (InputLayer)        [(None, 1)]               0         \n",
            "                                                                 \n",
            " text_vectorization_1 (TextV  (None, 15)               0         \n",
            " ectorization)                                                   \n",
            "                                                                 \n",
            " embedding (Embedding)       (None, 15, 128)           1280000   \n",
            "                                                                 \n",
            " global_average_pooling1d (G  (None, 128)              0         \n",
            " lobalAveragePooling1D)                                          \n",
            "                                                                 \n",
            " dense (Dense)               (None, 1)                 129       \n",
            "                                                                 \n",
            "=================================================================\n",
            "Total params: 1,280,129\n",
            "Trainable params: 1,280,129\n",
            "Non-trainable params: 0\n",
            "_________________________________________________________________\n"
          ]
        }
      ]
    },
    {
      "cell_type": "code",
      "source": [
        "# Get the wieght matrix of embedding layer\n",
        "\n",
        "# These are the numerical representation of each token in our training data which have been \n",
        "\n",
        "embed_weights = model_1.get_layer('embedding').get_weights()[0]\n",
        "embed_weights"
      ],
      "metadata": {
        "colab": {
          "base_uri": "https://localhost:8080/"
        },
        "id": "xY5Q5wTtCZia",
        "outputId": "4c8d4eb6-20f6-49d0-f8dc-8dc9dbc4c3b5"
      },
      "execution_count": null,
      "outputs": [
        {
          "output_type": "execute_result",
          "data": {
            "text/plain": [
              "array([[ 0.00073165,  0.01504801, -0.03425456, ..., -0.04403539,\n",
              "        -0.01042281,  0.01876439],\n",
              "       [ 0.04135862, -0.03945084, -0.0381194 , ...,  0.00464735,\n",
              "         0.03163554,  0.02928302],\n",
              "       [ 0.00684031,  0.05363134, -0.00241555, ..., -0.07082178,\n",
              "        -0.04750703,  0.01448255],\n",
              "       ...,\n",
              "       [-0.03301444, -0.0052493 , -0.04209725, ...,  0.02028764,\n",
              "         0.00308807,  0.02215792],\n",
              "       [ 0.00692343,  0.05942352, -0.01975194, ..., -0.06199061,\n",
              "        -0.01018393,  0.03510419],\n",
              "       [-0.0372346 ,  0.06267187, -0.07451148, ..., -0.02367217,\n",
              "        -0.08643329,  0.01742155]], dtype=float32)"
            ]
          },
          "metadata": {},
          "execution_count": 53
        }
      ]
    },
    {
      "cell_type": "code",
      "source": [
        "# Create embedding files\n",
        "import io\n",
        "\n",
        "out_v = io.open('vectors.tsv', 'w', encoding='utf-8')\n",
        "out_m = io.open('metadata.tsv', 'w', encoding='utf-8')\n",
        "\n",
        "for index, word in enumerate(words_in_vocab):\n",
        "  if index == 0:\n",
        "    continue  # skip 0, it's padding.\n",
        "  vec = embed_weights[index]\n",
        "  out_v.write('\\t'.join([str(x) for x in vec]) + \"\\n\")\n",
        "  out_m.write(word + \"\\n\")\n",
        "out_v.close()\n",
        "out_m.close()"
      ],
      "metadata": {
        "id": "bPK4KqVvGV4N"
      },
      "execution_count": null,
      "outputs": []
    },
    {
      "cell_type": "code",
      "source": [
        "# Download files from colab and upload to projector tool\n",
        "\n",
        "try:\n",
        "  from google.colab import files\n",
        "  files.download('vectors.tsv')\n",
        "  files.download('metadata.tsv')\n",
        "except Exception:\n",
        "  pass"
      ],
      "metadata": {
        "colab": {
          "base_uri": "https://localhost:8080/",
          "height": 17
        },
        "id": "-eIxpRlgGd0E",
        "outputId": "173ece19-6fb6-4e18-8096-19bea3e9fa0d"
      },
      "execution_count": null,
      "outputs": [
        {
          "output_type": "display_data",
          "data": {
            "text/plain": [
              "<IPython.core.display.Javascript object>"
            ],
            "application/javascript": [
              "\n",
              "    async function download(id, filename, size) {\n",
              "      if (!google.colab.kernel.accessAllowed) {\n",
              "        return;\n",
              "      }\n",
              "      const div = document.createElement('div');\n",
              "      const label = document.createElement('label');\n",
              "      label.textContent = `Downloading \"${filename}\": `;\n",
              "      div.appendChild(label);\n",
              "      const progress = document.createElement('progress');\n",
              "      progress.max = size;\n",
              "      div.appendChild(progress);\n",
              "      document.body.appendChild(div);\n",
              "\n",
              "      const buffers = [];\n",
              "      let downloaded = 0;\n",
              "\n",
              "      const channel = await google.colab.kernel.comms.open(id);\n",
              "      // Send a message to notify the kernel that we're ready.\n",
              "      channel.send({})\n",
              "\n",
              "      for await (const message of channel.messages) {\n",
              "        // Send a message to notify the kernel that we're ready.\n",
              "        channel.send({})\n",
              "        if (message.buffers) {\n",
              "          for (const buffer of message.buffers) {\n",
              "            buffers.push(buffer);\n",
              "            downloaded += buffer.byteLength;\n",
              "            progress.value = downloaded;\n",
              "          }\n",
              "        }\n",
              "      }\n",
              "      const blob = new Blob(buffers, {type: 'application/binary'});\n",
              "      const a = document.createElement('a');\n",
              "      a.href = window.URL.createObjectURL(blob);\n",
              "      a.download = filename;\n",
              "      div.appendChild(a);\n",
              "      a.click();\n",
              "      div.remove();\n",
              "    }\n",
              "  "
            ]
          },
          "metadata": {}
        },
        {
          "output_type": "display_data",
          "data": {
            "text/plain": [
              "<IPython.core.display.Javascript object>"
            ],
            "application/javascript": [
              "download(\"download_195dc7d3-8d24-4dee-a626-c48e5d15f001\", \"vectors.tsv\", 15391046)"
            ]
          },
          "metadata": {}
        },
        {
          "output_type": "display_data",
          "data": {
            "text/plain": [
              "<IPython.core.display.Javascript object>"
            ],
            "application/javascript": [
              "\n",
              "    async function download(id, filename, size) {\n",
              "      if (!google.colab.kernel.accessAllowed) {\n",
              "        return;\n",
              "      }\n",
              "      const div = document.createElement('div');\n",
              "      const label = document.createElement('label');\n",
              "      label.textContent = `Downloading \"${filename}\": `;\n",
              "      div.appendChild(label);\n",
              "      const progress = document.createElement('progress');\n",
              "      progress.max = size;\n",
              "      div.appendChild(progress);\n",
              "      document.body.appendChild(div);\n",
              "\n",
              "      const buffers = [];\n",
              "      let downloaded = 0;\n",
              "\n",
              "      const channel = await google.colab.kernel.comms.open(id);\n",
              "      // Send a message to notify the kernel that we're ready.\n",
              "      channel.send({})\n",
              "\n",
              "      for await (const message of channel.messages) {\n",
              "        // Send a message to notify the kernel that we're ready.\n",
              "        channel.send({})\n",
              "        if (message.buffers) {\n",
              "          for (const buffer of message.buffers) {\n",
              "            buffers.push(buffer);\n",
              "            downloaded += buffer.byteLength;\n",
              "            progress.value = downloaded;\n",
              "          }\n",
              "        }\n",
              "      }\n",
              "      const blob = new Blob(buffers, {type: 'application/binary'});\n",
              "      const a = document.createElement('a');\n",
              "      a.href = window.URL.createObjectURL(blob);\n",
              "      a.download = filename;\n",
              "      div.appendChild(a);\n",
              "      a.click();\n",
              "      div.remove();\n",
              "    }\n",
              "  "
            ]
          },
          "metadata": {}
        },
        {
          "output_type": "display_data",
          "data": {
            "text/plain": [
              "<IPython.core.display.Javascript object>"
            ],
            "application/javascript": [
              "download(\"download_f08eeb95-3987-4979-93ab-5f23aa9eb7cd\", \"metadata.tsv\", 80388)"
            ]
          },
          "metadata": {}
        }
      ]
    },
    {
      "cell_type": "markdown",
      "source": [
        "## Recurrent neural network (RNN's)\n",
        "\n",
        "> RNN's are useful for sequence data.\n",
        "\n",
        "> The premise of a recurrent neural network is to use the representation of a previous input to aid the representation of the later input.\n",
        "\n",
        "> "
      ],
      "metadata": {
        "id": "gmALpC1ZIAtE"
      }
    },
    {
      "cell_type": "code",
      "source": [
        "2784 *3*4"
      ],
      "metadata": {
        "id": "C46fH350S_PT",
        "colab": {
          "base_uri": "https://localhost:8080/"
        },
        "outputId": "5b669c46-eebe-4931-fc36-7d8473fa5b1d"
      },
      "execution_count": null,
      "outputs": [
        {
          "output_type": "execute_result",
          "data": {
            "text/plain": [
              "33408"
            ]
          },
          "metadata": {},
          "execution_count": 56
        }
      ]
    },
    {
      "cell_type": "markdown",
      "source": [
        "### Model 2 : LSTM\n",
        "\n",
        "LSTM = Long Short Term \n",
        "\n",
        "Structur of an RNN\n",
        "\n",
        "    Input(text) -> Tokenize -> Embedding -> Layers(RNNs/Dense) -> Output (label probability)"
      ],
      "metadata": {
        "id": "QVNpiR1HzM6t"
      }
    },
    {
      "cell_type": "code",
      "source": [
        "# Create an LSTM Modle\n",
        "\n",
        "from tensorflow.keras import layers\n",
        "\n",
        "inputs = layers.Input(shape=(1, ), dtype = 'string')\n",
        "x = text_vectorizer(inputs)\n",
        "x = embedding(x)\n",
        "# print(x.shape)\n",
        "x = layers.LSTM(64, return_sequences = True)(x) # when you're stacking RNN cells together you need to return sequences\n",
        "# print(x.shape)\n",
        "x = layers.LSTM(64)(x)\n",
        "# print(x.shape)\n",
        "x = layers.Dense(64, activation = 'relu')(x)\n",
        "# print(x.shape)\n",
        "outputs = layers.Dense(1, activation = 'sigmoid')(x)\n",
        "model_2 = tf.keras.Model(inputs, outputs, name = 'model_2_LSTM')"
      ],
      "metadata": {
        "id": "pb3sPZD1zyJN"
      },
      "execution_count": null,
      "outputs": []
    },
    {
      "cell_type": "code",
      "source": [
        "# Get a summary\n",
        "\n",
        "model_2.summary()"
      ],
      "metadata": {
        "colab": {
          "base_uri": "https://localhost:8080/"
        },
        "id": "VGhpxvuc09Gl",
        "outputId": "b5238f41-931f-43bf-f35c-8b952e453c3e"
      },
      "execution_count": null,
      "outputs": [
        {
          "output_type": "stream",
          "name": "stdout",
          "text": [
            "Model: \"model_2_LSTM\"\n",
            "_________________________________________________________________\n",
            " Layer (type)                Output Shape              Param #   \n",
            "=================================================================\n",
            " input_2 (InputLayer)        [(None, 1)]               0         \n",
            "                                                                 \n",
            " text_vectorization_1 (TextV  (None, 15)               0         \n",
            " ectorization)                                                   \n",
            "                                                                 \n",
            " embedding (Embedding)       (None, 15, 128)           1280000   \n",
            "                                                                 \n",
            " lstm (LSTM)                 (None, 15, 64)            49408     \n",
            "                                                                 \n",
            " lstm_1 (LSTM)               (None, 64)                33024     \n",
            "                                                                 \n",
            " dense_1 (Dense)             (None, 64)                4160      \n",
            "                                                                 \n",
            " dense_2 (Dense)             (None, 1)                 65        \n",
            "                                                                 \n",
            "=================================================================\n",
            "Total params: 1,366,657\n",
            "Trainable params: 1,366,657\n",
            "Non-trainable params: 0\n",
            "_________________________________________________________________\n"
          ]
        }
      ]
    },
    {
      "cell_type": "code",
      "source": [
        "# Compile the model\n",
        "model_2.compile(loss= 'binary_crossentropy',\n",
        "                optimizer = tf.keras.optimizers.Adam(),\n",
        "                metrics =['accuracy'])"
      ],
      "metadata": {
        "id": "jW5pdsV58mAC"
      },
      "execution_count": null,
      "outputs": []
    },
    {
      "cell_type": "code",
      "source": [
        "# Fit the model\n",
        "\n",
        "model_2_history = model_2.fit(train_sentences,\n",
        "                              train_labels,\n",
        "                              epochs = 5,\n",
        "                              validation_data = (val_sentences, val_labels),\n",
        "                              callbacks = [create_tensorboard_callback(SAVE_DIR,\n",
        "                                                                       'model_2')])"
      ],
      "metadata": {
        "colab": {
          "base_uri": "https://localhost:8080/"
        },
        "id": "m9AxSznw9zJU",
        "outputId": "aff43a57-89e3-4d22-a19c-1b4bdd23612c"
      },
      "execution_count": null,
      "outputs": [
        {
          "output_type": "stream",
          "name": "stdout",
          "text": [
            "Saving TensorBoard log files to: model_logs/model_2/20220913-130838\n",
            "Epoch 1/5\n",
            "215/215 [==============================] - 14s 20ms/step - loss: 0.2189 - accuracy: 0.9250 - val_loss: 0.5444 - val_accuracy: 0.7795\n",
            "Epoch 2/5\n",
            "215/215 [==============================] - 3s 13ms/step - loss: 0.1634 - accuracy: 0.9412 - val_loss: 0.6071 - val_accuracy: 0.7795\n",
            "Epoch 3/5\n",
            "215/215 [==============================] - 2s 8ms/step - loss: 0.1282 - accuracy: 0.9520 - val_loss: 0.7574 - val_accuracy: 0.7808\n",
            "Epoch 4/5\n",
            "215/215 [==============================] - 2s 8ms/step - loss: 0.1076 - accuracy: 0.9584 - val_loss: 0.9243 - val_accuracy: 0.7848\n",
            "Epoch 5/5\n",
            "215/215 [==============================] - 2s 8ms/step - loss: 0.0815 - accuracy: 0.9635 - val_loss: 0.9809 - val_accuracy: 0.7808\n"
          ]
        }
      ]
    },
    {
      "cell_type": "code",
      "source": [
        "model_2_pred_prob = model_2.predict(val_sentences)"
      ],
      "metadata": {
        "id": "Rt4-QLjJ-yCc"
      },
      "execution_count": null,
      "outputs": []
    },
    {
      "cell_type": "code",
      "source": [
        "model_2_pred_prob[:10]"
      ],
      "metadata": {
        "colab": {
          "base_uri": "https://localhost:8080/"
        },
        "id": "hY82EpWC_jQr",
        "outputId": "f7fa8341-1824-46a5-86b6-069681b6e9fb"
      },
      "execution_count": null,
      "outputs": [
        {
          "output_type": "execute_result",
          "data": {
            "text/plain": [
              "array([[2.3730518e-03],\n",
              "       [5.7842928e-01],\n",
              "       [9.9988604e-01],\n",
              "       [5.8599312e-02],\n",
              "       [2.6671838e-05],\n",
              "       [9.9545348e-01],\n",
              "       [9.3895912e-01],\n",
              "       [9.9989414e-01],\n",
              "       [9.9978155e-01],\n",
              "       [3.9918759e-01]], dtype=float32)"
            ]
          },
          "metadata": {},
          "execution_count": 62
        }
      ]
    },
    {
      "cell_type": "code",
      "source": [
        "# Convert model 2 pred probs to labels\n",
        "\n",
        "model_2_preds = tf.squeeze(tf.round(model_2_pred_prob))\n",
        "model_2_preds[:10]"
      ],
      "metadata": {
        "colab": {
          "base_uri": "https://localhost:8080/"
        },
        "id": "6CF5teuw_kXV",
        "outputId": "55cf201b-e39a-4f47-cd96-4d24e0b59923"
      },
      "execution_count": null,
      "outputs": [
        {
          "output_type": "execute_result",
          "data": {
            "text/plain": [
              "<tf.Tensor: shape=(10,), dtype=float32, numpy=array([0., 1., 1., 0., 0., 1., 1., 1., 1., 0.], dtype=float32)>"
            ]
          },
          "metadata": {},
          "execution_count": 63
        }
      ]
    },
    {
      "cell_type": "code",
      "source": [
        "# Calcualte model 2 results\n",
        "model_2_results = calculate_results(y_true = val_labels,\n",
        "                                    y_pred = model_2_preds)"
      ],
      "metadata": {
        "id": "FVnEA09qJ9Ja"
      },
      "execution_count": null,
      "outputs": []
    },
    {
      "cell_type": "code",
      "source": [
        "model_2_results"
      ],
      "metadata": {
        "colab": {
          "base_uri": "https://localhost:8080/"
        },
        "id": "9G6LNhOyKIKj",
        "outputId": "a4291fa1-0cb1-4bef-e3eb-1c6b8d2bb31a"
      },
      "execution_count": null,
      "outputs": [
        {
          "output_type": "execute_result",
          "data": {
            "text/plain": [
              "{'accuracy': 78.08398950131233,\n",
              " 'precision': 0.7856875884556138,\n",
              " 'recall': 0.7808398950131233,\n",
              " 'f1': 0.777681907957685}"
            ]
          },
          "metadata": {},
          "execution_count": 65
        }
      ]
    },
    {
      "cell_type": "code",
      "source": [
        "baseline_results"
      ],
      "metadata": {
        "colab": {
          "base_uri": "https://localhost:8080/"
        },
        "id": "m1kN3gdkKmsq",
        "outputId": "6013f6fe-6e50-4762-d010-e4c748b08cae"
      },
      "execution_count": null,
      "outputs": [
        {
          "output_type": "execute_result",
          "data": {
            "text/plain": [
              "{'accuracy': 79.26509186351706,\n",
              " 'precision': 0.8111390004213173,\n",
              " 'recall': 0.7926509186351706,\n",
              " 'f1': 0.7862189758049549}"
            ]
          },
          "metadata": {},
          "execution_count": 66
        }
      ]
    },
    {
      "cell_type": "code",
      "source": [
        "model_1_results"
      ],
      "metadata": {
        "colab": {
          "base_uri": "https://localhost:8080/"
        },
        "id": "th81PPROKn8P",
        "outputId": "283eac25-cd77-471f-ceef-1a18ee989984"
      },
      "execution_count": null,
      "outputs": [
        {
          "output_type": "execute_result",
          "data": {
            "text/plain": [
              "{'accuracy': 78.74015748031496,\n",
              " 'precision': 0.7914920592553047,\n",
              " 'recall': 0.7874015748031497,\n",
              " 'f1': 0.7846966492209201}"
            ]
          },
          "metadata": {},
          "execution_count": 67
        }
      ]
    },
    {
      "cell_type": "markdown",
      "source": [
        "### Model_3: GRU\n",
        "\n",
        "GRU - Gated Recurrent Unit\n",
        "The GRU cell has similar features to an LSTM cell but has less parameters."
      ],
      "metadata": {
        "id": "UDZdDb2AKo37"
      }
    },
    {
      "cell_type": "code",
      "source": [
        "from tensorflow.keras import layers\n",
        "inputs = layers.Input(shape =(1, ), dtype = 'string')\n",
        "x = text_vectorizer(inputs)\n",
        "x = embedding(x)\n",
        "x = layers.GRU(64)(x)\n",
        "# x = layers.LSTM(64, return_sequences = True)(x)\n",
        "# x = layers.GRU(64)(x)\n",
        "# x = layers.Dense(64, activation = 'relu')(x)\n",
        "outputs = layers.Dense(1, activation = 'sigmoid')(x)\n",
        "model_3 = tf.keras.Model(inputs, outputs, name = 'model_3_GRU')"
      ],
      "metadata": {
        "id": "R2c3YhI2Lgqu"
      },
      "execution_count": null,
      "outputs": []
    },
    {
      "cell_type": "code",
      "source": [
        "model_3.summary()"
      ],
      "metadata": {
        "colab": {
          "base_uri": "https://localhost:8080/"
        },
        "id": "yQSWN-Iao2ja",
        "outputId": "9ef37e20-0ff6-4997-daf0-2395c5eaaffb"
      },
      "execution_count": null,
      "outputs": [
        {
          "output_type": "stream",
          "name": "stdout",
          "text": [
            "Model: \"model_3_GRU\"\n",
            "_________________________________________________________________\n",
            " Layer (type)                Output Shape              Param #   \n",
            "=================================================================\n",
            " input_3 (InputLayer)        [(None, 1)]               0         \n",
            "                                                                 \n",
            " text_vectorization_1 (TextV  (None, 15)               0         \n",
            " ectorization)                                                   \n",
            "                                                                 \n",
            " embedding (Embedding)       (None, 15, 128)           1280000   \n",
            "                                                                 \n",
            " gru (GRU)                   (None, 64)                37248     \n",
            "                                                                 \n",
            " dense_3 (Dense)             (None, 1)                 65        \n",
            "                                                                 \n",
            "=================================================================\n",
            "Total params: 1,317,313\n",
            "Trainable params: 1,317,313\n",
            "Non-trainable params: 0\n",
            "_________________________________________________________________\n"
          ]
        }
      ]
    },
    {
      "cell_type": "code",
      "source": [
        "# Xomile the modle\n",
        "\n",
        "model_3.compile(loss = 'binary_crossentropy',\n",
        "                optimizer = tf.keras.optimizers.Adam(),\n",
        "                metrics= ['accuracy'])\n",
        "\n",
        "# Fit the model\n",
        "\n",
        "model_3.history = model_3.fit(train_sentences,\n",
        "                              train_labels,\n",
        "                              epochs = 5,\n",
        "                              validation_data = (val_sentences, val_labels),\n",
        "                              callbacks = [create_tensorboard_callback(SAVE_DIR,\n",
        "                                                                       'model_3_Gru')])"
      ],
      "metadata": {
        "colab": {
          "base_uri": "https://localhost:8080/"
        },
        "id": "BREv_JgSp6oO",
        "outputId": "df91ebdd-5a08-41bf-dda7-742c9afd943a"
      },
      "execution_count": null,
      "outputs": [
        {
          "output_type": "stream",
          "name": "stdout",
          "text": [
            "Saving TensorBoard log files to: model_logs/model_3_Gru/20220913-130901\n",
            "Epoch 1/5\n",
            "215/215 [==============================] - 4s 8ms/step - loss: 0.1620 - accuracy: 0.9377 - val_loss: 0.6392 - val_accuracy: 0.7795\n",
            "Epoch 2/5\n",
            "215/215 [==============================] - 1s 6ms/step - loss: 0.0887 - accuracy: 0.9672 - val_loss: 0.7860 - val_accuracy: 0.7808\n",
            "Epoch 3/5\n",
            "215/215 [==============================] - 1s 6ms/step - loss: 0.0717 - accuracy: 0.9721 - val_loss: 1.0992 - val_accuracy: 0.7664\n",
            "Epoch 4/5\n",
            "215/215 [==============================] - 1s 6ms/step - loss: 0.0630 - accuracy: 0.9739 - val_loss: 1.0155 - val_accuracy: 0.7782\n",
            "Epoch 5/5\n",
            "215/215 [==============================] - 1s 6ms/step - loss: 0.0519 - accuracy: 0.9758 - val_loss: 1.2545 - val_accuracy: 0.7782\n"
          ]
        }
      ]
    },
    {
      "cell_type": "code",
      "source": [
        "model_3_pred_probs = model_3.predict(val_sentences)\n",
        "model_3_pred_probs[:10]"
      ],
      "metadata": {
        "colab": {
          "base_uri": "https://localhost:8080/"
        },
        "id": "dfweqARxsA56",
        "outputId": "1c78aba4-e7a0-464e-a731-e14444949c67"
      },
      "execution_count": null,
      "outputs": [
        {
          "output_type": "execute_result",
          "data": {
            "text/plain": [
              "array([[4.7421377e-04],\n",
              "       [7.2494876e-01],\n",
              "       [9.9988055e-01],\n",
              "       [9.6555941e-02],\n",
              "       [6.1819919e-05],\n",
              "       [9.9976522e-01],\n",
              "       [9.6143889e-01],\n",
              "       [9.9993181e-01],\n",
              "       [9.9987459e-01],\n",
              "       [9.8283893e-01]], dtype=float32)"
            ]
          },
          "metadata": {},
          "execution_count": 71
        }
      ]
    },
    {
      "cell_type": "code",
      "source": [
        "model_3_preds = tf.squeeze(tf.round(model_3_pred_probs))"
      ],
      "metadata": {
        "id": "NOch9NUdsIeW"
      },
      "execution_count": null,
      "outputs": []
    },
    {
      "cell_type": "code",
      "source": [
        "model_3_results = calculate_results(y_true = val_labels,\n",
        "                                    y_pred = model_3_preds)"
      ],
      "metadata": {
        "id": "eC7xWHTisTln"
      },
      "execution_count": null,
      "outputs": []
    },
    {
      "cell_type": "code",
      "source": [
        "model_3_results"
      ],
      "metadata": {
        "colab": {
          "base_uri": "https://localhost:8080/"
        },
        "id": "lRaZDvAgsn7j",
        "outputId": "dfcafc2a-49ae-4477-bc3e-ae5364c62746"
      },
      "execution_count": null,
      "outputs": [
        {
          "output_type": "execute_result",
          "data": {
            "text/plain": [
              "{'accuracy': 77.82152230971128,\n",
              " 'precision': 0.7791991586469295,\n",
              " 'recall': 0.7782152230971129,\n",
              " 'f1': 0.7766208088282468}"
            ]
          },
          "metadata": {},
          "execution_count": 74
        }
      ]
    },
    {
      "cell_type": "code",
      "source": [
        "model_2_results"
      ],
      "metadata": {
        "colab": {
          "base_uri": "https://localhost:8080/"
        },
        "id": "KGvsLuDCsrBX",
        "outputId": "637eb7e8-71da-4f0b-de70-4c586a4f853e"
      },
      "execution_count": null,
      "outputs": [
        {
          "output_type": "execute_result",
          "data": {
            "text/plain": [
              "{'accuracy': 78.08398950131233,\n",
              " 'precision': 0.7856875884556138,\n",
              " 'recall': 0.7808398950131233,\n",
              " 'f1': 0.777681907957685}"
            ]
          },
          "metadata": {},
          "execution_count": 75
        }
      ]
    },
    {
      "cell_type": "code",
      "source": [
        "model_2_results"
      ],
      "metadata": {
        "colab": {
          "base_uri": "https://localhost:8080/"
        },
        "id": "OUch1We6ssu4",
        "outputId": "01599847-151f-4035-ab6b-438450c04887"
      },
      "execution_count": null,
      "outputs": [
        {
          "output_type": "execute_result",
          "data": {
            "text/plain": [
              "{'accuracy': 78.08398950131233,\n",
              " 'precision': 0.7856875884556138,\n",
              " 'recall': 0.7808398950131233,\n",
              " 'f1': 0.777681907957685}"
            ]
          },
          "metadata": {},
          "execution_count": 76
        }
      ]
    },
    {
      "cell_type": "code",
      "source": [
        "baseline_results"
      ],
      "metadata": {
        "colab": {
          "base_uri": "https://localhost:8080/"
        },
        "id": "EMtHX-hgst6w",
        "outputId": "3f405149-b3ce-4ca2-8217-918d654de264"
      },
      "execution_count": null,
      "outputs": [
        {
          "output_type": "execute_result",
          "data": {
            "text/plain": [
              "{'accuracy': 79.26509186351706,\n",
              " 'precision': 0.8111390004213173,\n",
              " 'recall': 0.7926509186351706,\n",
              " 'f1': 0.7862189758049549}"
            ]
          },
          "metadata": {},
          "execution_count": 77
        }
      ]
    },
    {
      "cell_type": "markdown",
      "source": [
        "### Model 4: Bidirectional RNN\n",
        "\n",
        "Normal RNN's go from left to right to left.\n",
        "\n",
        "Bidrectional RNN goes from right to left aswell as left to right"
      ],
      "metadata": {
        "id": "8Zqef0DDvqrf"
      }
    },
    {
      "cell_type": "code",
      "source": [
        "# Bulid a bidirectional RNN in tensorflow\n",
        "\n",
        "from tensorflow.keras import layers\n",
        "\n",
        "inputs = layers.Input(shape = (1,), dtype = 'string')\n",
        "x = text_vectorizer(inputs)\n",
        "x = embedding(x)\n",
        "x = layers.Bidirectional(layers.LSTM(64))(x)\n",
        "# x = layers.Bidirectional(layers.GRU(64))(x)\n",
        "outputs = layers.Dense(1, activation = 'sigmoid')(x)\n",
        "model_4 =  tf.keras.Model(inputs, outputs, name = 'model_4_bidirectional')"
      ],
      "metadata": {
        "id": "bHDp8FQOfiHV"
      },
      "execution_count": null,
      "outputs": []
    },
    {
      "cell_type": "code",
      "source": [
        "# Model 4 summary\n",
        "\n",
        "model_4.summary()"
      ],
      "metadata": {
        "colab": {
          "base_uri": "https://localhost:8080/"
        },
        "id": "Wa2g2IRAg00D",
        "outputId": "06e9654c-ee84-4cdb-cb31-9aff83b28b0f"
      },
      "execution_count": null,
      "outputs": [
        {
          "output_type": "stream",
          "name": "stdout",
          "text": [
            "Model: \"model_4_bidirectional\"\n",
            "_________________________________________________________________\n",
            " Layer (type)                Output Shape              Param #   \n",
            "=================================================================\n",
            " input_4 (InputLayer)        [(None, 1)]               0         \n",
            "                                                                 \n",
            " text_vectorization_1 (TextV  (None, 15)               0         \n",
            " ectorization)                                                   \n",
            "                                                                 \n",
            " embedding (Embedding)       (None, 15, 128)           1280000   \n",
            "                                                                 \n",
            " bidirectional (Bidirectiona  (None, 128)              98816     \n",
            " l)                                                              \n",
            "                                                                 \n",
            " dense_4 (Dense)             (None, 1)                 129       \n",
            "                                                                 \n",
            "=================================================================\n",
            "Total params: 1,378,945\n",
            "Trainable params: 1,378,945\n",
            "Non-trainable params: 0\n",
            "_________________________________________________________________\n"
          ]
        }
      ]
    },
    {
      "cell_type": "code",
      "source": [
        "# Compile the model\n",
        "\n",
        "model_4.compile(loss = 'binary_crossentropy',\n",
        "                optimizer = tf.keras.optimizers.Adam(),\n",
        "                metrics = ['accuracy'])\n"
      ],
      "metadata": {
        "id": "e2EAZtbbhPGV"
      },
      "execution_count": null,
      "outputs": []
    },
    {
      "cell_type": "code",
      "source": [
        "# Fit the model\n",
        "\n",
        "model_4_history = model_4.fit(train_sentences, train_labels, epochs  =5,\n",
        "                              validation_data = (val_sentences, val_labels),\n",
        "                              callbacks = [create_tensorboard_callback(SAVE_DIR,\n",
        "                                                                       'Model_4_Bidirectioanl')])"
      ],
      "metadata": {
        "colab": {
          "base_uri": "https://localhost:8080/"
        },
        "id": "ubHg19zVnxiL",
        "outputId": "420531d9-aa32-4389-ea9b-8451f731ed34"
      },
      "execution_count": null,
      "outputs": [
        {
          "output_type": "stream",
          "name": "stdout",
          "text": [
            "Saving TensorBoard log files to: model_logs/Model_4_Bidirectioanl/20220913-130911\n",
            "Epoch 1/5\n",
            "215/215 [==============================] - 5s 12ms/step - loss: 0.1096 - accuracy: 0.9692 - val_loss: 0.9659 - val_accuracy: 0.7730\n",
            "Epoch 2/5\n",
            "215/215 [==============================] - 2s 9ms/step - loss: 0.0519 - accuracy: 0.9762 - val_loss: 1.2894 - val_accuracy: 0.7717\n",
            "Epoch 3/5\n",
            "215/215 [==============================] - 2s 9ms/step - loss: 0.0458 - accuracy: 0.9791 - val_loss: 1.3640 - val_accuracy: 0.7677\n",
            "Epoch 4/5\n",
            "215/215 [==============================] - 2s 9ms/step - loss: 0.0431 - accuracy: 0.9806 - val_loss: 1.0325 - val_accuracy: 0.7533\n",
            "Epoch 5/5\n",
            "215/215 [==============================] - 2s 9ms/step - loss: 0.0454 - accuracy: 0.9796 - val_loss: 1.4620 - val_accuracy: 0.7664\n"
          ]
        }
      ]
    },
    {
      "cell_type": "code",
      "source": [
        "# Make prediction \n",
        "\n",
        "model_4_pred_probs = model_4.predict(val_sentences)\n",
        "model_4_pred_probs[:10]"
      ],
      "metadata": {
        "colab": {
          "base_uri": "https://localhost:8080/"
        },
        "id": "ICTzsM9loKva",
        "outputId": "9d0d3cf5-26b6-4c56-fe9d-cfbf3e891ac5"
      },
      "execution_count": null,
      "outputs": [
        {
          "output_type": "execute_result",
          "data": {
            "text/plain": [
              "array([[1.0680422e-04],\n",
              "       [6.5519333e-01],\n",
              "       [9.9995661e-01],\n",
              "       [1.8717255e-01],\n",
              "       [5.4288416e-06],\n",
              "       [9.9859160e-01],\n",
              "       [5.6148523e-01],\n",
              "       [9.9997497e-01],\n",
              "       [9.9994779e-01],\n",
              "       [9.3294626e-01]], dtype=float32)"
            ]
          },
          "metadata": {},
          "execution_count": 82
        }
      ]
    },
    {
      "cell_type": "code",
      "source": [
        "model_4_preds = tf.squeeze(tf.round(model_4_pred_probs))\n",
        "model_4_preds[:10]"
      ],
      "metadata": {
        "colab": {
          "base_uri": "https://localhost:8080/"
        },
        "id": "KgcIupBIoqfz",
        "outputId": "ca347bd0-1acd-4763-c326-9af698e34c23"
      },
      "execution_count": null,
      "outputs": [
        {
          "output_type": "execute_result",
          "data": {
            "text/plain": [
              "<tf.Tensor: shape=(10,), dtype=float32, numpy=array([0., 1., 1., 0., 0., 1., 1., 1., 1., 1.], dtype=float32)>"
            ]
          },
          "metadata": {},
          "execution_count": 83
        }
      ]
    },
    {
      "cell_type": "code",
      "source": [
        "# Calculate the results of our bidirectional model\n",
        "\n",
        "model_4_results = calculate_results(y_true = val_labels,\n",
        "                                    y_pred = model_4_preds)"
      ],
      "metadata": {
        "id": "tf8Oxs75qkB-"
      },
      "execution_count": null,
      "outputs": []
    },
    {
      "cell_type": "code",
      "source": [
        "print( model_4_results, '\\n', model_3_results, '\\n', model_2_results, '\\n', model_1_results, '\\n', baseline_results)"
      ],
      "metadata": {
        "colab": {
          "base_uri": "https://localhost:8080/"
        },
        "id": "0zTXBk-7qe4c",
        "outputId": "f483cf6f-7bad-44cd-d75b-b4a3281f9744"
      },
      "execution_count": null,
      "outputs": [
        {
          "output_type": "stream",
          "name": "stdout",
          "text": [
            "{'accuracy': 76.64041994750657, 'precision': 0.771218657508237, 'recall': 0.7664041994750657, 'f1': 0.7627908927491446} \n",
            " {'accuracy': 77.82152230971128, 'precision': 0.7791991586469295, 'recall': 0.7782152230971129, 'f1': 0.7766208088282468} \n",
            " {'accuracy': 78.08398950131233, 'precision': 0.7856875884556138, 'recall': 0.7808398950131233, 'f1': 0.777681907957685} \n",
            " {'accuracy': 78.74015748031496, 'precision': 0.7914920592553047, 'recall': 0.7874015748031497, 'f1': 0.7846966492209201} \n",
            " {'accuracy': 79.26509186351706, 'precision': 0.8111390004213173, 'recall': 0.7926509186351706, 'f1': 0.7862189758049549}\n"
          ]
        }
      ]
    },
    {
      "cell_type": "markdown",
      "source": [
        "## Convolutional Neural Network for Text (and other type of sequences)\n",
        "\n",
        ">Images are 2D (Conv2D)\n",
        "\n",
        ">Text are 1D (Conv1D)\n",
        "\n",
        "Typical Structure of Conv2D:\n",
        "\n",
        "    Inputs(test) --> Tokenisatin --> Embedding --> Conv1D --> Pooling --> Outputs"
      ],
      "metadata": {
        "id": "EGkUXvtErVhN"
      }
    },
    {
      "cell_type": "markdown",
      "source": [
        "### Model_5: Conv1D"
      ],
      "metadata": {
        "id": "N_hmPaUfuaKF"
      }
    },
    {
      "cell_type": "markdown",
      "source": [
        "####Brief Overview"
      ],
      "metadata": {
        "id": "laFqP5y_2zKT"
      }
    },
    {
      "cell_type": "code",
      "source": [
        "# Test out our embedding layer, Conv1D layer and max pooling\n",
        "\n",
        "embedding_text = embedding(text_vectorizer(['this is a test sentence'])) # Turn into Embedding\n",
        "conv_1d = layers.Conv1D(filters = 64,\n",
        "                        kernel_size = 5,\n",
        "                        activation = 'relu',\n",
        "                        padding = 'same')"
      ],
      "metadata": {
        "id": "FXFVzHx6tAn2"
      },
      "execution_count": null,
      "outputs": []
    },
    {
      "cell_type": "code",
      "source": [
        "conv_1d_output = conv_1d(embedding_text)\n",
        "conv_1d_output[0]"
      ],
      "metadata": {
        "colab": {
          "base_uri": "https://localhost:8080/"
        },
        "id": "IolM284Nu_-n",
        "outputId": "6e113e4b-1ccf-4716-c442-f2969be14c77"
      },
      "execution_count": null,
      "outputs": [
        {
          "output_type": "execute_result",
          "data": {
            "text/plain": [
              "<tf.Tensor: shape=(15, 64), dtype=float32, numpy=\n",
              "array([[0.00000000e+00, 5.64292725e-03, 0.00000000e+00, 0.00000000e+00,\n",
              "        0.00000000e+00, 2.95088813e-02, 0.00000000e+00, 0.00000000e+00,\n",
              "        0.00000000e+00, 0.00000000e+00, 3.20099667e-02, 3.30229616e-03,\n",
              "        3.23483348e-02, 0.00000000e+00, 0.00000000e+00, 5.22695147e-02,\n",
              "        8.45736731e-03, 0.00000000e+00, 0.00000000e+00, 0.00000000e+00,\n",
              "        0.00000000e+00, 3.33271101e-02, 6.20522499e-02, 0.00000000e+00,\n",
              "        1.18713174e-02, 6.59507466e-03, 1.41528789e-02, 0.00000000e+00,\n",
              "        9.59369540e-03, 1.54184774e-02, 0.00000000e+00, 0.00000000e+00,\n",
              "        3.26000601e-02, 1.31925996e-02, 0.00000000e+00, 7.77270226e-03,\n",
              "        1.20486561e-02, 0.00000000e+00, 0.00000000e+00, 0.00000000e+00,\n",
              "        3.15574706e-02, 4.71361205e-02, 1.63532682e-02, 5.90558983e-02,\n",
              "        2.85437237e-02, 0.00000000e+00, 5.44695854e-02, 0.00000000e+00,\n",
              "        2.50990558e-02, 0.00000000e+00, 0.00000000e+00, 8.56747180e-02,\n",
              "        0.00000000e+00, 0.00000000e+00, 0.00000000e+00, 9.27752163e-03,\n",
              "        0.00000000e+00, 0.00000000e+00, 0.00000000e+00, 3.67527851e-03,\n",
              "        6.46853819e-03, 9.82164871e-03, 2.74898428e-02, 4.47062179e-02],\n",
              "       [5.92341740e-03, 3.42177264e-02, 0.00000000e+00, 0.00000000e+00,\n",
              "        0.00000000e+00, 0.00000000e+00, 0.00000000e+00, 7.68912733e-02,\n",
              "        0.00000000e+00, 4.02230471e-02, 0.00000000e+00, 0.00000000e+00,\n",
              "        2.18955986e-02, 0.00000000e+00, 0.00000000e+00, 4.19950113e-02,\n",
              "        0.00000000e+00, 0.00000000e+00, 0.00000000e+00, 0.00000000e+00,\n",
              "        0.00000000e+00, 3.18572391e-03, 0.00000000e+00, 0.00000000e+00,\n",
              "        0.00000000e+00, 2.46554222e-02, 3.85213410e-03, 0.00000000e+00,\n",
              "        0.00000000e+00, 7.90685713e-02, 2.73899455e-02, 0.00000000e+00,\n",
              "        0.00000000e+00, 2.08871756e-02, 0.00000000e+00, 0.00000000e+00,\n",
              "        1.36708617e-02, 0.00000000e+00, 0.00000000e+00, 0.00000000e+00,\n",
              "        0.00000000e+00, 0.00000000e+00, 4.91956659e-02, 0.00000000e+00,\n",
              "        0.00000000e+00, 0.00000000e+00, 3.21368426e-02, 4.92328312e-03,\n",
              "        0.00000000e+00, 1.61936146e-03, 4.67774048e-02, 1.45187303e-02,\n",
              "        0.00000000e+00, 0.00000000e+00, 0.00000000e+00, 0.00000000e+00,\n",
              "        0.00000000e+00, 0.00000000e+00, 0.00000000e+00, 5.08876219e-02,\n",
              "        0.00000000e+00, 4.31392295e-03, 0.00000000e+00, 0.00000000e+00],\n",
              "       [0.00000000e+00, 6.51403666e-02, 1.82171899e-03, 0.00000000e+00,\n",
              "        0.00000000e+00, 0.00000000e+00, 7.55408704e-02, 8.30033123e-02,\n",
              "        1.91503447e-02, 0.00000000e+00, 0.00000000e+00, 6.61306269e-03,\n",
              "        0.00000000e+00, 0.00000000e+00, 0.00000000e+00, 3.52867693e-02,\n",
              "        1.96342189e-02, 0.00000000e+00, 0.00000000e+00, 0.00000000e+00,\n",
              "        0.00000000e+00, 3.34842429e-02, 5.46606705e-02, 5.53941727e-03,\n",
              "        0.00000000e+00, 2.33287029e-02, 0.00000000e+00, 0.00000000e+00,\n",
              "        0.00000000e+00, 8.76418278e-02, 2.03415612e-03, 2.38409881e-02,\n",
              "        0.00000000e+00, 0.00000000e+00, 0.00000000e+00, 0.00000000e+00,\n",
              "        6.75633848e-02, 0.00000000e+00, 4.59813476e-02, 0.00000000e+00,\n",
              "        2.85747908e-02, 0.00000000e+00, 6.56736922e-03, 1.42903198e-02,\n",
              "        0.00000000e+00, 0.00000000e+00, 1.40239336e-02, 2.90670525e-02,\n",
              "        0.00000000e+00, 1.24601852e-02, 0.00000000e+00, 4.05419990e-03,\n",
              "        0.00000000e+00, 3.15257087e-02, 0.00000000e+00, 3.40423025e-02,\n",
              "        3.94814834e-02, 0.00000000e+00, 5.69019169e-02, 1.38200913e-03,\n",
              "        7.90130869e-02, 1.76039971e-02, 6.46180958e-02, 0.00000000e+00],\n",
              "       [4.52181883e-03, 0.00000000e+00, 0.00000000e+00, 0.00000000e+00,\n",
              "        0.00000000e+00, 0.00000000e+00, 0.00000000e+00, 0.00000000e+00,\n",
              "        5.68747893e-02, 4.14642096e-02, 0.00000000e+00, 0.00000000e+00,\n",
              "        0.00000000e+00, 0.00000000e+00, 0.00000000e+00, 8.91008005e-02,\n",
              "        0.00000000e+00, 0.00000000e+00, 0.00000000e+00, 4.40948680e-02,\n",
              "        0.00000000e+00, 1.01922646e-01, 3.54857817e-02, 0.00000000e+00,\n",
              "        0.00000000e+00, 2.95229908e-03, 0.00000000e+00, 1.79460458e-02,\n",
              "        2.17382051e-02, 6.33285102e-03, 3.56222503e-02, 3.12658027e-02,\n",
              "        2.11106353e-02, 1.85745838e-03, 0.00000000e+00, 6.02998026e-03,\n",
              "        3.89440954e-02, 0.00000000e+00, 1.57203004e-02, 3.31496149e-02,\n",
              "        0.00000000e+00, 7.17537105e-02, 0.00000000e+00, 0.00000000e+00,\n",
              "        0.00000000e+00, 0.00000000e+00, 2.56245136e-02, 2.88185403e-02,\n",
              "        0.00000000e+00, 0.00000000e+00, 0.00000000e+00, 2.12498754e-02,\n",
              "        2.44250596e-02, 1.22543462e-02, 0.00000000e+00, 0.00000000e+00,\n",
              "        0.00000000e+00, 1.42268278e-02, 0.00000000e+00, 0.00000000e+00,\n",
              "        5.91861904e-02, 8.70172530e-02, 3.71637149e-03, 3.09304744e-02],\n",
              "       [1.05250962e-02, 0.00000000e+00, 1.47029813e-02, 0.00000000e+00,\n",
              "        0.00000000e+00, 4.24602069e-04, 1.70036852e-02, 2.94143818e-02,\n",
              "        0.00000000e+00, 1.66248735e-02, 2.37677768e-02, 3.22182626e-02,\n",
              "        5.70914941e-04, 1.79206580e-02, 3.70074972e-03, 4.84456569e-02,\n",
              "        5.36400154e-02, 2.21616239e-04, 2.06223782e-02, 0.00000000e+00,\n",
              "        0.00000000e+00, 1.93494954e-03, 1.19139422e-02, 0.00000000e+00,\n",
              "        0.00000000e+00, 0.00000000e+00, 2.23314809e-03, 3.02288309e-02,\n",
              "        7.33503550e-02, 1.43438894e-02, 1.15102157e-02, 3.90054137e-02,\n",
              "        0.00000000e+00, 3.10779344e-02, 0.00000000e+00, 0.00000000e+00,\n",
              "        7.78716151e-03, 0.00000000e+00, 0.00000000e+00, 2.00798064e-02,\n",
              "        5.31207724e-03, 5.60845360e-02, 2.38418281e-02, 0.00000000e+00,\n",
              "        0.00000000e+00, 3.83408926e-02, 1.30058154e-02, 0.00000000e+00,\n",
              "        9.59257595e-03, 4.63613495e-02, 0.00000000e+00, 1.76969394e-02,\n",
              "        5.66009106e-03, 6.23982102e-02, 2.93522421e-02, 9.39129218e-02,\n",
              "        0.00000000e+00, 0.00000000e+00, 1.79120079e-02, 0.00000000e+00,\n",
              "        0.00000000e+00, 1.39717953e-02, 2.27648430e-02, 1.29912468e-03],\n",
              "       [0.00000000e+00, 3.78581434e-02, 0.00000000e+00, 0.00000000e+00,\n",
              "        1.55341476e-02, 0.00000000e+00, 0.00000000e+00, 0.00000000e+00,\n",
              "        8.52925703e-03, 1.03036482e-02, 2.21205242e-02, 0.00000000e+00,\n",
              "        0.00000000e+00, 0.00000000e+00, 9.01396852e-03, 2.28330828e-02,\n",
              "        0.00000000e+00, 0.00000000e+00, 0.00000000e+00, 4.37239185e-03,\n",
              "        0.00000000e+00, 0.00000000e+00, 0.00000000e+00, 0.00000000e+00,\n",
              "        0.00000000e+00, 0.00000000e+00, 0.00000000e+00, 0.00000000e+00,\n",
              "        3.42290923e-02, 1.83486324e-02, 0.00000000e+00, 3.56144421e-02,\n",
              "        1.39952814e-02, 0.00000000e+00, 0.00000000e+00, 0.00000000e+00,\n",
              "        1.94650330e-02, 0.00000000e+00, 1.13956472e-02, 2.52530091e-02,\n",
              "        5.77390799e-03, 0.00000000e+00, 0.00000000e+00, 6.29833043e-02,\n",
              "        0.00000000e+00, 1.40685216e-03, 2.48502269e-02, 1.69996805e-02,\n",
              "        0.00000000e+00, 0.00000000e+00, 3.15039307e-02, 1.08384350e-02,\n",
              "        0.00000000e+00, 0.00000000e+00, 0.00000000e+00, 6.56700730e-02,\n",
              "        0.00000000e+00, 2.29643099e-03, 0.00000000e+00, 3.28353755e-02,\n",
              "        0.00000000e+00, 4.21625972e-02, 1.96593478e-02, 8.21254998e-02],\n",
              "       [0.00000000e+00, 0.00000000e+00, 0.00000000e+00, 0.00000000e+00,\n",
              "        0.00000000e+00, 0.00000000e+00, 0.00000000e+00, 4.24383470e-05,\n",
              "        0.00000000e+00, 0.00000000e+00, 3.67597979e-03, 3.62541452e-02,\n",
              "        0.00000000e+00, 1.58417933e-02, 4.62520309e-03, 3.78177539e-02,\n",
              "        0.00000000e+00, 0.00000000e+00, 0.00000000e+00, 0.00000000e+00,\n",
              "        0.00000000e+00, 0.00000000e+00, 0.00000000e+00, 5.35902102e-04,\n",
              "        0.00000000e+00, 0.00000000e+00, 0.00000000e+00, 2.17437893e-02,\n",
              "        5.54409949e-03, 0.00000000e+00, 0.00000000e+00, 9.08645391e-02,\n",
              "        0.00000000e+00, 0.00000000e+00, 0.00000000e+00, 4.70164120e-02,\n",
              "        1.93825699e-02, 0.00000000e+00, 2.40931357e-03, 0.00000000e+00,\n",
              "        0.00000000e+00, 0.00000000e+00, 0.00000000e+00, 1.99148282e-02,\n",
              "        0.00000000e+00, 0.00000000e+00, 1.10569978e-02, 0.00000000e+00,\n",
              "        0.00000000e+00, 0.00000000e+00, 1.87325059e-03, 0.00000000e+00,\n",
              "        3.59352902e-02, 0.00000000e+00, 0.00000000e+00, 0.00000000e+00,\n",
              "        0.00000000e+00, 0.00000000e+00, 0.00000000e+00, 0.00000000e+00,\n",
              "        0.00000000e+00, 2.34467611e-02, 1.69332623e-02, 3.36925685e-02],\n",
              "       [0.00000000e+00, 0.00000000e+00, 0.00000000e+00, 0.00000000e+00,\n",
              "        0.00000000e+00, 0.00000000e+00, 0.00000000e+00, 8.08198191e-03,\n",
              "        7.57631799e-03, 4.69688699e-03, 0.00000000e+00, 7.83900172e-03,\n",
              "        0.00000000e+00, 0.00000000e+00, 0.00000000e+00, 7.54479552e-03,\n",
              "        0.00000000e+00, 0.00000000e+00, 0.00000000e+00, 0.00000000e+00,\n",
              "        6.04839344e-03, 1.95756368e-02, 0.00000000e+00, 0.00000000e+00,\n",
              "        0.00000000e+00, 0.00000000e+00, 0.00000000e+00, 1.45575851e-02,\n",
              "        0.00000000e+00, 4.74664907e-04, 0.00000000e+00, 4.51194420e-02,\n",
              "        2.03508511e-03, 0.00000000e+00, 0.00000000e+00, 3.20496224e-02,\n",
              "        0.00000000e+00, 3.33314901e-03, 2.61091962e-02, 0.00000000e+00,\n",
              "        0.00000000e+00, 3.02108144e-03, 0.00000000e+00, 6.98617368e-04,\n",
              "        0.00000000e+00, 0.00000000e+00, 4.55568195e-04, 9.32201836e-03,\n",
              "        1.01076672e-03, 1.58212031e-03, 0.00000000e+00, 2.69766003e-02,\n",
              "        0.00000000e+00, 0.00000000e+00, 0.00000000e+00, 1.16280057e-02,\n",
              "        0.00000000e+00, 9.69144399e-04, 0.00000000e+00, 1.00321602e-02,\n",
              "        0.00000000e+00, 4.18138728e-02, 1.61603913e-02, 2.96057723e-02],\n",
              "       [0.00000000e+00, 0.00000000e+00, 0.00000000e+00, 0.00000000e+00,\n",
              "        0.00000000e+00, 0.00000000e+00, 0.00000000e+00, 8.08198750e-03,\n",
              "        7.57631194e-03, 4.69688373e-03, 0.00000000e+00, 7.83900544e-03,\n",
              "        0.00000000e+00, 0.00000000e+00, 0.00000000e+00, 7.54479133e-03,\n",
              "        0.00000000e+00, 0.00000000e+00, 0.00000000e+00, 0.00000000e+00,\n",
              "        6.04839623e-03, 1.95756331e-02, 0.00000000e+00, 0.00000000e+00,\n",
              "        0.00000000e+00, 0.00000000e+00, 0.00000000e+00, 1.45575870e-02,\n",
              "        0.00000000e+00, 4.74658853e-04, 0.00000000e+00, 4.51194420e-02,\n",
              "        2.03508511e-03, 0.00000000e+00, 0.00000000e+00, 3.20496261e-02,\n",
              "        0.00000000e+00, 3.33315041e-03, 2.61091925e-02, 0.00000000e+00,\n",
              "        0.00000000e+00, 3.02107865e-03, 0.00000000e+00, 6.98609045e-04,\n",
              "        0.00000000e+00, 0.00000000e+00, 4.55567031e-04, 9.32202116e-03,\n",
              "        1.01076730e-03, 1.58212637e-03, 0.00000000e+00, 2.69766003e-02,\n",
              "        0.00000000e+00, 0.00000000e+00, 0.00000000e+00, 1.16280066e-02,\n",
              "        0.00000000e+00, 9.69140441e-04, 0.00000000e+00, 1.00321621e-02,\n",
              "        0.00000000e+00, 4.18138728e-02, 1.61603913e-02, 2.96057723e-02],\n",
              "       [0.00000000e+00, 0.00000000e+00, 0.00000000e+00, 0.00000000e+00,\n",
              "        0.00000000e+00, 0.00000000e+00, 0.00000000e+00, 8.08199123e-03,\n",
              "        7.57631194e-03, 4.69688792e-03, 0.00000000e+00, 7.83899613e-03,\n",
              "        0.00000000e+00, 0.00000000e+00, 0.00000000e+00, 7.54479505e-03,\n",
              "        0.00000000e+00, 0.00000000e+00, 0.00000000e+00, 0.00000000e+00,\n",
              "        6.04839483e-03, 1.95756257e-02, 0.00000000e+00, 0.00000000e+00,\n",
              "        0.00000000e+00, 0.00000000e+00, 0.00000000e+00, 1.45575833e-02,\n",
              "        0.00000000e+00, 4.74665489e-04, 0.00000000e+00, 4.51194346e-02,\n",
              "        2.03508604e-03, 0.00000000e+00, 0.00000000e+00, 3.20496187e-02,\n",
              "        0.00000000e+00, 3.33314948e-03, 2.61091851e-02, 0.00000000e+00,\n",
              "        0.00000000e+00, 3.02107213e-03, 0.00000000e+00, 6.98609045e-04,\n",
              "        0.00000000e+00, 0.00000000e+00, 4.55568777e-04, 9.32202488e-03,\n",
              "        1.01076323e-03, 1.58212520e-03, 0.00000000e+00, 2.69765891e-02,\n",
              "        0.00000000e+00, 0.00000000e+00, 0.00000000e+00, 1.16280084e-02,\n",
              "        0.00000000e+00, 9.69142187e-04, 0.00000000e+00, 1.00321714e-02,\n",
              "        0.00000000e+00, 4.18138653e-02, 1.61603875e-02, 2.96057723e-02],\n",
              "       [0.00000000e+00, 0.00000000e+00, 0.00000000e+00, 0.00000000e+00,\n",
              "        0.00000000e+00, 0.00000000e+00, 0.00000000e+00, 8.08198936e-03,\n",
              "        7.57631846e-03, 4.69688093e-03, 0.00000000e+00, 7.83899985e-03,\n",
              "        0.00000000e+00, 0.00000000e+00, 0.00000000e+00, 7.54479272e-03,\n",
              "        0.00000000e+00, 0.00000000e+00, 0.00000000e+00, 0.00000000e+00,\n",
              "        6.04839623e-03, 1.95756294e-02, 0.00000000e+00, 0.00000000e+00,\n",
              "        0.00000000e+00, 0.00000000e+00, 0.00000000e+00, 1.45575814e-02,\n",
              "        0.00000000e+00, 4.74666944e-04, 0.00000000e+00, 4.51194346e-02,\n",
              "        2.03508511e-03, 0.00000000e+00, 0.00000000e+00, 3.20496261e-02,\n",
              "        0.00000000e+00, 3.33314994e-03, 2.61091925e-02, 0.00000000e+00,\n",
              "        0.00000000e+00, 3.02107912e-03, 0.00000000e+00, 6.98607182e-04,\n",
              "        0.00000000e+00, 0.00000000e+00, 4.55566391e-04, 9.32202302e-03,\n",
              "        1.01077394e-03, 1.58212928e-03, 0.00000000e+00, 2.69765928e-02,\n",
              "        0.00000000e+00, 0.00000000e+00, 0.00000000e+00, 1.16280075e-02,\n",
              "        0.00000000e+00, 9.69140907e-04, 0.00000000e+00, 1.00321583e-02,\n",
              "        0.00000000e+00, 4.18138653e-02, 1.61603913e-02, 2.96057742e-02],\n",
              "       [0.00000000e+00, 0.00000000e+00, 0.00000000e+00, 0.00000000e+00,\n",
              "        0.00000000e+00, 0.00000000e+00, 0.00000000e+00, 8.08198377e-03,\n",
              "        7.57631240e-03, 4.69688792e-03, 0.00000000e+00, 7.83899985e-03,\n",
              "        0.00000000e+00, 0.00000000e+00, 0.00000000e+00, 7.54479179e-03,\n",
              "        0.00000000e+00, 0.00000000e+00, 0.00000000e+00, 0.00000000e+00,\n",
              "        6.04839576e-03, 1.95756368e-02, 0.00000000e+00, 0.00000000e+00,\n",
              "        0.00000000e+00, 0.00000000e+00, 0.00000000e+00, 1.45575944e-02,\n",
              "        0.00000000e+00, 4.74666769e-04, 0.00000000e+00, 4.51194420e-02,\n",
              "        2.03508418e-03, 0.00000000e+00, 0.00000000e+00, 3.20496336e-02,\n",
              "        0.00000000e+00, 3.33314785e-03, 2.61092000e-02, 0.00000000e+00,\n",
              "        0.00000000e+00, 3.02108284e-03, 0.00000000e+00, 6.98603224e-04,\n",
              "        0.00000000e+00, 0.00000000e+00, 4.55563626e-04, 9.32202488e-03,\n",
              "        1.01076928e-03, 1.58212218e-03, 0.00000000e+00, 2.69765966e-02,\n",
              "        0.00000000e+00, 0.00000000e+00, 0.00000000e+00, 1.16280075e-02,\n",
              "        0.00000000e+00, 9.69140907e-04, 0.00000000e+00, 1.00321565e-02,\n",
              "        0.00000000e+00, 4.18138728e-02, 1.61603875e-02, 2.96057705e-02],\n",
              "       [0.00000000e+00, 0.00000000e+00, 0.00000000e+00, 0.00000000e+00,\n",
              "        0.00000000e+00, 0.00000000e+00, 0.00000000e+00, 8.08199123e-03,\n",
              "        7.57631287e-03, 4.69688233e-03, 0.00000000e+00, 7.83899799e-03,\n",
              "        0.00000000e+00, 0.00000000e+00, 0.00000000e+00, 7.54479412e-03,\n",
              "        0.00000000e+00, 0.00000000e+00, 0.00000000e+00, 0.00000000e+00,\n",
              "        6.04839204e-03, 1.95756312e-02, 0.00000000e+00, 0.00000000e+00,\n",
              "        0.00000000e+00, 0.00000000e+00, 0.00000000e+00, 1.45575935e-02,\n",
              "        0.00000000e+00, 4.74664848e-04, 0.00000000e+00, 4.51194346e-02,\n",
              "        2.03508791e-03, 0.00000000e+00, 0.00000000e+00, 3.20496261e-02,\n",
              "        0.00000000e+00, 3.33315320e-03, 2.61091944e-02, 0.00000000e+00,\n",
              "        0.00000000e+00, 3.02108005e-03, 0.00000000e+00, 6.98606484e-04,\n",
              "        0.00000000e+00, 0.00000000e+00, 4.55569010e-04, 9.32202116e-03,\n",
              "        1.01077231e-03, 1.58212986e-03, 0.00000000e+00, 2.69766003e-02,\n",
              "        0.00000000e+00, 0.00000000e+00, 0.00000000e+00, 1.16280019e-02,\n",
              "        0.00000000e+00, 9.69136250e-04, 0.00000000e+00, 1.00321565e-02,\n",
              "        0.00000000e+00, 4.18138653e-02, 1.61603875e-02, 2.96057723e-02],\n",
              "       [0.00000000e+00, 0.00000000e+00, 0.00000000e+00, 0.00000000e+00,\n",
              "        0.00000000e+00, 0.00000000e+00, 0.00000000e+00, 3.26600601e-03,\n",
              "        7.36443233e-03, 5.76554984e-03, 0.00000000e+00, 0.00000000e+00,\n",
              "        0.00000000e+00, 7.45024998e-04, 0.00000000e+00, 0.00000000e+00,\n",
              "        0.00000000e+00, 7.71651627e-04, 0.00000000e+00, 0.00000000e+00,\n",
              "        1.32635273e-02, 9.65816993e-03, 0.00000000e+00, 0.00000000e+00,\n",
              "        0.00000000e+00, 1.71657819e-02, 6.28156262e-03, 2.32513174e-02,\n",
              "        0.00000000e+00, 1.61498878e-02, 0.00000000e+00, 2.81925350e-02,\n",
              "        1.48837548e-03, 0.00000000e+00, 0.00000000e+00, 3.25623080e-02,\n",
              "        0.00000000e+00, 7.04211323e-03, 1.54972095e-02, 9.35360976e-03,\n",
              "        0.00000000e+00, 1.24878902e-03, 0.00000000e+00, 0.00000000e+00,\n",
              "        0.00000000e+00, 0.00000000e+00, 0.00000000e+00, 2.62738881e-03,\n",
              "        0.00000000e+00, 7.85192661e-03, 0.00000000e+00, 2.05228571e-03,\n",
              "        0.00000000e+00, 0.00000000e+00, 3.75394989e-03, 0.00000000e+00,\n",
              "        0.00000000e+00, 0.00000000e+00, 0.00000000e+00, 2.90451422e-02,\n",
              "        3.49282566e-03, 3.32889818e-02, 8.78586713e-03, 6.87492313e-03],\n",
              "       [0.00000000e+00, 0.00000000e+00, 0.00000000e+00, 1.05094397e-03,\n",
              "        6.88223168e-03, 0.00000000e+00, 1.52293697e-03, 0.00000000e+00,\n",
              "        2.44114138e-02, 0.00000000e+00, 0.00000000e+00, 9.98515170e-04,\n",
              "        0.00000000e+00, 0.00000000e+00, 0.00000000e+00, 3.98541614e-03,\n",
              "        0.00000000e+00, 0.00000000e+00, 0.00000000e+00, 0.00000000e+00,\n",
              "        7.49088265e-03, 4.46587149e-03, 0.00000000e+00, 0.00000000e+00,\n",
              "        0.00000000e+00, 1.59773193e-02, 1.80683797e-04, 7.38057401e-03,\n",
              "        0.00000000e+00, 1.74581353e-02, 0.00000000e+00, 1.95504650e-02,\n",
              "        6.71798550e-03, 0.00000000e+00, 0.00000000e+00, 2.43114252e-02,\n",
              "        0.00000000e+00, 0.00000000e+00, 1.58737954e-02, 4.13556257e-03,\n",
              "        0.00000000e+00, 9.03996266e-03, 0.00000000e+00, 0.00000000e+00,\n",
              "        0.00000000e+00, 0.00000000e+00, 0.00000000e+00, 8.98535177e-03,\n",
              "        9.02969670e-03, 1.63363237e-02, 0.00000000e+00, 0.00000000e+00,\n",
              "        0.00000000e+00, 0.00000000e+00, 0.00000000e+00, 0.00000000e+00,\n",
              "        0.00000000e+00, 0.00000000e+00, 0.00000000e+00, 1.66549534e-02,\n",
              "        2.86581665e-02, 2.29443219e-02, 1.34862661e-02, 1.83795486e-02]],\n",
              "      dtype=float32)>"
            ]
          },
          "metadata": {},
          "execution_count": 87
        }
      ]
    },
    {
      "cell_type": "code",
      "source": [
        "max_pool = layers.GlobalMaxPool1D()\n",
        "max_pool_output = max_pool(conv_1d_output) # Get the most important feature\n",
        "max_pool_output[0]"
      ],
      "metadata": {
        "colab": {
          "base_uri": "https://localhost:8080/"
        },
        "id": "xz7wVZWEvFsX",
        "outputId": "70ad83b2-92c7-4bec-b4f5-fcaaf8ffd3f8"
      },
      "execution_count": null,
      "outputs": [
        {
          "output_type": "execute_result",
          "data": {
            "text/plain": [
              "<tf.Tensor: shape=(64,), dtype=float32, numpy=\n",
              "array([0.0105251 , 0.06514037, 0.01470298, 0.00105094, 0.01553415,\n",
              "       0.02950888, 0.07554087, 0.08300331, 0.05687479, 0.04146421,\n",
              "       0.03200997, 0.03625415, 0.03234833, 0.01792066, 0.00901397,\n",
              "       0.0891008 , 0.05364002, 0.00077165, 0.02062238, 0.04409487,\n",
              "       0.01326353, 0.10192265, 0.06205225, 0.00553942, 0.01187132,\n",
              "       0.02465542, 0.01415288, 0.03022883, 0.07335036, 0.08764183,\n",
              "       0.03562225, 0.09086454, 0.03260006, 0.03107793, 0.        ,\n",
              "       0.04701641, 0.06756338, 0.00704211, 0.04598135, 0.03314961,\n",
              "       0.03155747, 0.07175371, 0.04919567, 0.0629833 , 0.02854372,\n",
              "       0.03834089, 0.05446959, 0.02906705, 0.02509906, 0.04636135,\n",
              "       0.0467774 , 0.08567472, 0.03593529, 0.06239821, 0.02935224,\n",
              "       0.09391292, 0.03948148, 0.01422683, 0.05690192, 0.05088762,\n",
              "       0.07901309, 0.08701725, 0.0646181 , 0.0821255 ], dtype=float32)>"
            ]
          },
          "metadata": {},
          "execution_count": 88
        }
      ]
    },
    {
      "cell_type": "markdown",
      "source": [
        "###Building the model"
      ],
      "metadata": {
        "id": "CqWV4EkH2nxu"
      }
    },
    {
      "cell_type": "code",
      "source": [
        "# Create 1-dimenstioanl convolutional layer to model sequence\n",
        "\n",
        "from tensorflow.keras import layers\n",
        "\n",
        "inputs = layers.Input(shape = (1, ), dtype = tf.string)\n",
        "x = text_vectorizer(inputs)\n",
        "x = embedding(x)\n",
        "x = layers.Conv1D(filters = 64,\n",
        "                  kernel_size = 5,\n",
        "                  activation = 'relu',\n",
        "                  padding = 'valid',\n",
        "                  strides = 1)(x)\n",
        "x = layers.GlobalMaxPool1D()(x)\n",
        "# x = layers.Dense(64, activation = 'relu')(x)\n",
        "outputs = layers.Dense(1, activation = 'sigmoid')(x)\n",
        "model_5 = tf.keras.Model(inputs, outputs, name = 'model_5_Conv1D')\n",
        "\n",
        "# Compile the model\n",
        "model_5.compile(loss ='binary_crossentropy',\n",
        "                optimizer = tf.keras.optimizers.Adam(),\n",
        "                metrics = ['accuracy'])"
      ],
      "metadata": {
        "id": "pLFNsz5U3Ds4"
      },
      "execution_count": null,
      "outputs": []
    },
    {
      "cell_type": "code",
      "source": [
        "# Model 5 summary\n",
        "model_5.summary()"
      ],
      "metadata": {
        "colab": {
          "base_uri": "https://localhost:8080/"
        },
        "id": "ZocdyKV74Qzx",
        "outputId": "6517968a-dc71-4f0e-8ff4-680a70a18e8f"
      },
      "execution_count": null,
      "outputs": [
        {
          "output_type": "stream",
          "name": "stdout",
          "text": [
            "Model: \"model_5_Conv1D\"\n",
            "_________________________________________________________________\n",
            " Layer (type)                Output Shape              Param #   \n",
            "=================================================================\n",
            " input_5 (InputLayer)        [(None, 1)]               0         \n",
            "                                                                 \n",
            " text_vectorization_1 (TextV  (None, 15)               0         \n",
            " ectorization)                                                   \n",
            "                                                                 \n",
            " embedding (Embedding)       (None, 15, 128)           1280000   \n",
            "                                                                 \n",
            " conv1d_1 (Conv1D)           (None, 11, 64)            41024     \n",
            "                                                                 \n",
            " global_max_pooling1d_1 (Glo  (None, 64)               0         \n",
            " balMaxPooling1D)                                                \n",
            "                                                                 \n",
            " dense_5 (Dense)             (None, 1)                 65        \n",
            "                                                                 \n",
            "=================================================================\n",
            "Total params: 1,321,089\n",
            "Trainable params: 1,321,089\n",
            "Non-trainable params: 0\n",
            "_________________________________________________________________\n"
          ]
        }
      ]
    },
    {
      "cell_type": "code",
      "source": [
        "# Fit the model\n",
        "\n",
        "model_5_history = model_5.fit(train_sentences,\n",
        "                              train_labels,\n",
        "                              epochs = 5 ,\n",
        "                              validation_data = (val_sentences, val_labels),\n",
        "                              callbacks = [create_tensorboard_callback(SAVE_DIR,\n",
        "                                                                       'Conv1D')])"
      ],
      "metadata": {
        "colab": {
          "base_uri": "https://localhost:8080/"
        },
        "id": "zX4fkuHm4g-w",
        "outputId": "8ab02a0c-2fd4-43a6-b8b6-0c6ab232042a"
      },
      "execution_count": null,
      "outputs": [
        {
          "output_type": "stream",
          "name": "stdout",
          "text": [
            "Saving TensorBoard log files to: model_logs/Conv1D/20220913-130931\n",
            "Epoch 1/5\n",
            "215/215 [==============================] - 3s 6ms/step - loss: 0.1200 - accuracy: 0.9604 - val_loss: 0.8668 - val_accuracy: 0.7769\n",
            "Epoch 2/5\n",
            "215/215 [==============================] - 1s 5ms/step - loss: 0.0731 - accuracy: 0.9730 - val_loss: 1.0257 - val_accuracy: 0.7638\n",
            "Epoch 3/5\n",
            "215/215 [==============================] - 1s 5ms/step - loss: 0.0610 - accuracy: 0.9768 - val_loss: 1.1055 - val_accuracy: 0.7638\n",
            "Epoch 4/5\n",
            "215/215 [==============================] - 1s 5ms/step - loss: 0.0546 - accuracy: 0.9772 - val_loss: 1.1706 - val_accuracy: 0.7612\n",
            "Epoch 5/5\n",
            "215/215 [==============================] - 1s 5ms/step - loss: 0.0502 - accuracy: 0.9788 - val_loss: 1.2196 - val_accuracy: 0.7598\n"
          ]
        }
      ]
    },
    {
      "cell_type": "code",
      "source": [
        "# Make some predictions with out Conv1D model\n",
        "\n",
        "model_5_pred_probs = model_5.predict(val_sentences)\n",
        "model_5_pred_probs[:10]"
      ],
      "metadata": {
        "colab": {
          "base_uri": "https://localhost:8080/"
        },
        "id": "38FPystc48_K",
        "outputId": "6fb3bd01-77af-4ef0-e89d-89d4d75ae346"
      },
      "execution_count": null,
      "outputs": [
        {
          "output_type": "execute_result",
          "data": {
            "text/plain": [
              "array([[8.9593843e-02],\n",
              "       [6.9590032e-01],\n",
              "       [9.9995077e-01],\n",
              "       [8.3158366e-02],\n",
              "       [1.5314707e-07],\n",
              "       [9.9462187e-01],\n",
              "       [9.6111482e-01],\n",
              "       [9.9997127e-01],\n",
              "       [9.9999928e-01],\n",
              "       [8.7462819e-01]], dtype=float32)"
            ]
          },
          "metadata": {},
          "execution_count": 92
        }
      ]
    },
    {
      "cell_type": "code",
      "source": [
        "model_5_preds = tf.squeeze(tf.round(model_5_pred_probs))"
      ],
      "metadata": {
        "id": "3jgA94GW5L-f"
      },
      "execution_count": null,
      "outputs": []
    },
    {
      "cell_type": "code",
      "source": [
        "model_5_results = calculate_results(y_true = val_labels,\n",
        "                            y_pred = model_5_preds)"
      ],
      "metadata": {
        "id": "k-sqWAXJ5b7L"
      },
      "execution_count": null,
      "outputs": []
    },
    {
      "cell_type": "code",
      "source": [
        "print(model_5_results, '\\n', model_4_results, '\\n', model_3_results, '\\n', model_2_results, '\\n', model_1_results, '\\n', baseline_results)"
      ],
      "metadata": {
        "colab": {
          "base_uri": "https://localhost:8080/"
        },
        "id": "CP4JH4bf5sA7",
        "outputId": "57513066-d672-4197-c347-b9932aabb62a"
      },
      "execution_count": null,
      "outputs": [
        {
          "output_type": "stream",
          "name": "stdout",
          "text": [
            "{'accuracy': 75.98425196850394, 'precision': 0.7604578907479682, 'recall': 0.7598425196850394, 'f1': 0.758116023760764} \n",
            " {'accuracy': 76.64041994750657, 'precision': 0.771218657508237, 'recall': 0.7664041994750657, 'f1': 0.7627908927491446} \n",
            " {'accuracy': 77.82152230971128, 'precision': 0.7791991586469295, 'recall': 0.7782152230971129, 'f1': 0.7766208088282468} \n",
            " {'accuracy': 78.08398950131233, 'precision': 0.7856875884556138, 'recall': 0.7808398950131233, 'f1': 0.777681907957685} \n",
            " {'accuracy': 78.74015748031496, 'precision': 0.7914920592553047, 'recall': 0.7874015748031497, 'f1': 0.7846966492209201} \n",
            " {'accuracy': 79.26509186351706, 'precision': 0.8111390004213173, 'recall': 0.7926509186351706, 'f1': 0.7862189758049549}\n"
          ]
        }
      ]
    },
    {
      "cell_type": "markdown",
      "source": [
        "## Model_6 : TensorFlow Hub Pretrained Sentence Encoder"
      ],
      "metadata": {
        "id": "KRx6SWBi55Hg"
      }
    },
    {
      "cell_type": "code",
      "source": [
        "import tensorflow_hub as hub\n",
        "embed = hub.load('https://tfhub.dev/google/universal-sentence-encoder/4')\n",
        "embed_samples = embed([sample_sentence, 'When you can the universal sentence encoder on a sentence, it turns it into numbers'])\n",
        "print(embed_samples[0][:50])"
      ],
      "metadata": {
        "colab": {
          "base_uri": "https://localhost:8080/"
        },
        "id": "GU64hrd86r2e",
        "outputId": "28630aa9-9d26-4d83-d649-ab51ae54d29b"
      },
      "execution_count": null,
      "outputs": [
        {
          "output_type": "stream",
          "name": "stdout",
          "text": [
            "tf.Tensor(\n",
            "[-0.01157028  0.0248591   0.02878048 -0.012715    0.03971538  0.0882776\n",
            "  0.02680984  0.05589836 -0.0106873  -0.00597291  0.00639323 -0.01819518\n",
            "  0.00030813  0.09105888  0.05874644 -0.03180628  0.01512474 -0.05162929\n",
            "  0.00991367 -0.06865347 -0.04209306  0.02678981  0.03011006  0.00321069\n",
            " -0.00337973 -0.04787357  0.0226672  -0.00985925 -0.04063613 -0.01292092\n",
            " -0.04666384  0.05630299 -0.03949255  0.00517686  0.02495829 -0.0701444\n",
            "  0.02871508  0.04947684 -0.00633979 -0.08960192  0.02807118 -0.00808364\n",
            " -0.01360602  0.0599865  -0.10361787 -0.05195374  0.00232954 -0.02332531\n",
            " -0.03758105  0.03327728], shape=(50,), dtype=float32)\n"
          ]
        }
      ]
    },
    {
      "cell_type": "code",
      "source": [
        "embed_samples"
      ],
      "metadata": {
        "colab": {
          "base_uri": "https://localhost:8080/"
        },
        "id": "xCP_nYLj_uI8",
        "outputId": "0e2cd4b4-3a3a-498e-d98e-b5e08a6f1e8c"
      },
      "execution_count": null,
      "outputs": [
        {
          "output_type": "execute_result",
          "data": {
            "text/plain": [
              "<tf.Tensor: shape=(2, 512), dtype=float32, numpy=\n",
              "array([[-0.01157028,  0.0248591 ,  0.02878048, ..., -0.00186124,\n",
              "         0.02315826, -0.01485021],\n",
              "       [ 0.03485871, -0.08845595, -0.01677877, ..., -0.02750706,\n",
              "         0.03230235, -0.0082009 ]], dtype=float32)>"
            ]
          },
          "metadata": {},
          "execution_count": 97
        }
      ]
    },
    {
      "cell_type": "code",
      "source": [
        "# Create a keras layer using the USE Pretrained layer form tensorflow hub\n",
        "\n",
        "sentence_encoder_layer = hub.KerasLayer('https://tfhub.dev/google/universal-sentence-encoder/4',\n",
        "                                       input_shape = [],\n",
        "                                       dtype = tf.string,\n",
        "                                       name = 'USE')\n"
      ],
      "metadata": {
        "id": "rfvjyMmgAZzC"
      },
      "execution_count": null,
      "outputs": []
    },
    {
      "cell_type": "code",
      "source": [
        "# Create model using the Sequential API:\n",
        "\n",
        "model_6 = tf.keras.Sequential([\n",
        "    sentence_encoder_layer,\n",
        "    layers.Dense(64, activation = 'relu'),\n",
        "    layers.Dense(1, activation = 'sigmoid')\n",
        "], name = 'model_6_USE')"
      ],
      "metadata": {
        "id": "FOxsYmgeDQSa"
      },
      "execution_count": null,
      "outputs": []
    },
    {
      "cell_type": "code",
      "source": [
        "# Compile the model\n",
        "\n",
        "model_6.compile(loss = 'binary_crossentropy',\n",
        "            optimizer = tf.keras.optimizers.Adam(),\n",
        "            metrics = ['accuracy'])"
      ],
      "metadata": {
        "id": "8W2ti9fUDnrV"
      },
      "execution_count": null,
      "outputs": []
    },
    {
      "cell_type": "code",
      "source": [
        "model_6.summary()"
      ],
      "metadata": {
        "colab": {
          "base_uri": "https://localhost:8080/"
        },
        "id": "N1jhwi4WD4sP",
        "outputId": "0195789c-4845-4f5e-f2d5-a9406356f24e"
      },
      "execution_count": null,
      "outputs": [
        {
          "output_type": "stream",
          "name": "stdout",
          "text": [
            "Model: \"model_6_USE\"\n",
            "_________________________________________________________________\n",
            " Layer (type)                Output Shape              Param #   \n",
            "=================================================================\n",
            " USE (KerasLayer)            (None, 512)               256797824 \n",
            "                                                                 \n",
            " dense_6 (Dense)             (None, 64)                32832     \n",
            "                                                                 \n",
            " dense_7 (Dense)             (None, 1)                 65        \n",
            "                                                                 \n",
            "=================================================================\n",
            "Total params: 256,830,721\n",
            "Trainable params: 32,897\n",
            "Non-trainable params: 256,797,824\n",
            "_________________________________________________________________\n"
          ]
        }
      ]
    },
    {
      "cell_type": "code",
      "source": [
        "# Train a classifer on top of USE Pretrained embeddings\n",
        "\n",
        "model_6_history = model_6.fit(train_sentences,\n",
        "                              train_labels,\n",
        "                              epochs = 5,\n",
        "                              validation_data = (val_sentences, val_labels),\n",
        "                              callbacks = [create_tensorboard_callback(SAVE_DIR,\n",
        "                                                                       'tf_hub_sent_encoder')])"
      ],
      "metadata": {
        "colab": {
          "base_uri": "https://localhost:8080/"
        },
        "id": "AKhxE5W8EK9k",
        "outputId": "f91055b9-dba1-4e56-c22f-1b4caea1a21b"
      },
      "execution_count": null,
      "outputs": [
        {
          "output_type": "stream",
          "name": "stdout",
          "text": [
            "Saving TensorBoard log files to: model_logs/tf_hub_sent_encoder/20220913-131000\n",
            "Epoch 1/5\n",
            "215/215 [==============================] - 5s 13ms/step - loss: 0.5033 - accuracy: 0.7838 - val_loss: 0.4466 - val_accuracy: 0.7940\n",
            "Epoch 2/5\n",
            "215/215 [==============================] - 3s 12ms/step - loss: 0.4142 - accuracy: 0.8142 - val_loss: 0.4350 - val_accuracy: 0.8110\n",
            "Epoch 3/5\n",
            "215/215 [==============================] - 2s 12ms/step - loss: 0.3994 - accuracy: 0.8222 - val_loss: 0.4308 - val_accuracy: 0.8123\n",
            "Epoch 4/5\n",
            "215/215 [==============================] - 3s 16ms/step - loss: 0.3920 - accuracy: 0.8269 - val_loss: 0.4265 - val_accuracy: 0.8176\n",
            "Epoch 5/5\n",
            "215/215 [==============================] - 2s 12ms/step - loss: 0.3858 - accuracy: 0.8291 - val_loss: 0.4281 - val_accuracy: 0.8136\n"
          ]
        }
      ]
    },
    {
      "cell_type": "code",
      "source": [
        "# Make predictions with USE tf hub models\n",
        "\n",
        "model_6_pred_probs = model_6.predict(val_sentences)"
      ],
      "metadata": {
        "id": "Rr3Jz7dDEodo"
      },
      "execution_count": null,
      "outputs": []
    },
    {
      "cell_type": "code",
      "source": [
        "model_6_preds = tf.squeeze(tf.round(model_6_pred_probs))"
      ],
      "metadata": {
        "id": "48FaAaddEzdv"
      },
      "execution_count": null,
      "outputs": []
    },
    {
      "cell_type": "code",
      "source": [
        "# Calculate model 6 performance\n",
        "\n",
        "model_6_results = calculate_results(y_true = val_labels,\n",
        "                                    y_pred = model_6_preds)"
      ],
      "metadata": {
        "id": "A-WAh5pOE6yX"
      },
      "execution_count": null,
      "outputs": []
    },
    {
      "cell_type": "code",
      "source": [
        "print(model_6_results, '\\n', model_5_results, '\\n', model_4_results, '\\n', model_3_results, '\\n', model_2_results, '\\n', model_1_results, '\\n', baseline_results)"
      ],
      "metadata": {
        "colab": {
          "base_uri": "https://localhost:8080/"
        },
        "id": "4jXK3pN6FKjx",
        "outputId": "69064429-3c37-4c88-f883-1304d7fa2408"
      },
      "execution_count": null,
      "outputs": [
        {
          "output_type": "stream",
          "name": "stdout",
          "text": [
            "{'accuracy': 81.36482939632546, 'precision': 0.8160661319598898, 'recall': 0.8136482939632546, 'f1': 0.8120618868299143} \n",
            " {'accuracy': 75.98425196850394, 'precision': 0.7604578907479682, 'recall': 0.7598425196850394, 'f1': 0.758116023760764} \n",
            " {'accuracy': 76.64041994750657, 'precision': 0.771218657508237, 'recall': 0.7664041994750657, 'f1': 0.7627908927491446} \n",
            " {'accuracy': 77.82152230971128, 'precision': 0.7791991586469295, 'recall': 0.7782152230971129, 'f1': 0.7766208088282468} \n",
            " {'accuracy': 78.08398950131233, 'precision': 0.7856875884556138, 'recall': 0.7808398950131233, 'f1': 0.777681907957685} \n",
            " {'accuracy': 78.74015748031496, 'precision': 0.7914920592553047, 'recall': 0.7874015748031497, 'f1': 0.7846966492209201} \n",
            " {'accuracy': 79.26509186351706, 'precision': 0.8111390004213173, 'recall': 0.7926509186351706, 'f1': 0.7862189758049549}\n"
          ]
        }
      ]
    },
    {
      "cell_type": "markdown",
      "source": [
        "## Model_7 : TF Hub pretrained but with 10% of training data\n",
        "\n",
        "Transfer Learning really helps when you dont have a large dataset"
      ],
      "metadata": {
        "id": "I6WgqhqNFbNI"
      }
    },
    {
      "cell_type": "code",
      "source": [
        "# Create subsets of 10% of the training data (SPLITTING DATA LIKE THIS CAUSES DATA lEAKGAE)\n",
        "\n",
        "# train_10_percent = train_df_shuffled[['text', 'target']].sample(frac=0.1, random_state =42)\n",
        "# train_10_percent.head()"
      ],
      "metadata": {
        "id": "ta7w5ZIeH2Bp"
      },
      "execution_count": null,
      "outputs": []
    },
    {
      "cell_type": "code",
      "source": [
        "train_10_percent_split = int(0.1 * len(train_sentences))\n",
        "train_sents_10_percent = train_sentences[:train_10_percent_split]\n",
        "\n",
        "train_labels_10_percent = int(0.1 * len(train_labels))\n",
        "train_labels_10_percent = train_labels[:train_labels_10_percent]\n"
      ],
      "metadata": {
        "id": "jELIU7ovSQuU"
      },
      "execution_count": null,
      "outputs": []
    },
    {
      "cell_type": "code",
      "source": [
        "#\n",
        "# train_sents_10_percent = train_10_percent['text'].to_list()\n",
        "# train_labels_10_percent = train_10_percent['target'].to_list()"
      ],
      "metadata": {
        "id": "UBEMYg66Ick7"
      },
      "execution_count": null,
      "outputs": []
    },
    {
      "cell_type": "code",
      "source": [
        "# train_10_percent['target'].value_counts()"
      ],
      "metadata": {
        "id": "xwRpr_8yJAZr"
      },
      "execution_count": null,
      "outputs": []
    },
    {
      "cell_type": "code",
      "source": [
        "# train_df_shuffled['target'].value_counts()"
      ],
      "metadata": {
        "id": "7JJlvnF6Jvyz"
      },
      "execution_count": null,
      "outputs": []
    },
    {
      "cell_type": "markdown",
      "source": [
        "To recreate a model same as the previous model you created you can use the tf.keras clone model"
      ],
      "metadata": {
        "id": "0stTEFHsAhCa"
      }
    },
    {
      "cell_type": "code",
      "source": [
        "# Lets build a model the same as model_6\n",
        "\n",
        "model_7 = tf.keras.models.clone_model(model_6)\n",
        "\n",
        "# Compile the model\n",
        "\n",
        "model_7.compile(loss = 'binary_crossentropy',\n",
        "                optimizer = tf.keras.optimizers.Adam(),\n",
        "                metrics = ['accuracy'])"
      ],
      "metadata": {
        "id": "WiyI0LeRJ4x-"
      },
      "execution_count": null,
      "outputs": []
    },
    {
      "cell_type": "code",
      "source": [
        "model_7.summary()"
      ],
      "metadata": {
        "colab": {
          "base_uri": "https://localhost:8080/"
        },
        "id": "pYKg2nXjBCrW",
        "outputId": "80a48371-04a7-4c30-ff97-7d90188b1045"
      },
      "execution_count": null,
      "outputs": [
        {
          "output_type": "stream",
          "name": "stdout",
          "text": [
            "Model: \"model_6_USE\"\n",
            "_________________________________________________________________\n",
            " Layer (type)                Output Shape              Param #   \n",
            "=================================================================\n",
            " USE (KerasLayer)            (None, 512)               256797824 \n",
            "                                                                 \n",
            " dense_6 (Dense)             (None, 64)                32832     \n",
            "                                                                 \n",
            " dense_7 (Dense)             (None, 1)                 65        \n",
            "                                                                 \n",
            "=================================================================\n",
            "Total params: 256,830,721\n",
            "Trainable params: 32,897\n",
            "Non-trainable params: 256,797,824\n",
            "_________________________________________________________________\n"
          ]
        }
      ]
    },
    {
      "cell_type": "code",
      "source": [
        "# Fit the model\n",
        "model_7.fit(train_sents_10_percent, train_labels_10_percent,\n",
        "            validation_data = (val_sentences, val_labels),\n",
        "            epochs = 5,\n",
        "            callbacks = [create_tensorboard_callback(SAVE_DIR,\n",
        "                                                     'tf_hub_model_7_10%')])"
      ],
      "metadata": {
        "colab": {
          "base_uri": "https://localhost:8080/"
        },
        "id": "9V0YIuERBBQW",
        "outputId": "d44f8f5f-ac1f-4442-e211-67b2b2b7b79b"
      },
      "execution_count": null,
      "outputs": [
        {
          "output_type": "stream",
          "name": "stdout",
          "text": [
            "Saving TensorBoard log files to: model_logs/tf_hub_model_7_10%/20220913-131029\n",
            "Epoch 1/5\n",
            "22/22 [==============================] - 3s 44ms/step - loss: 0.6694 - accuracy: 0.6409 - val_loss: 0.6534 - val_accuracy: 0.6627\n",
            "Epoch 2/5\n",
            "22/22 [==============================] - 1s 26ms/step - loss: 0.6032 - accuracy: 0.7869 - val_loss: 0.5996 - val_accuracy: 0.7441\n",
            "Epoch 3/5\n",
            "22/22 [==============================] - 1s 26ms/step - loss: 0.5273 - accuracy: 0.8248 - val_loss: 0.5400 - val_accuracy: 0.7717\n",
            "Epoch 4/5\n",
            "22/22 [==============================] - 0s 23ms/step - loss: 0.4629 - accuracy: 0.8219 - val_loss: 0.5056 - val_accuracy: 0.7769\n",
            "Epoch 5/5\n",
            "22/22 [==============================] - 1s 25ms/step - loss: 0.4198 - accuracy: 0.8365 - val_loss: 0.4888 - val_accuracy: 0.7848\n"
          ]
        },
        {
          "output_type": "execute_result",
          "data": {
            "text/plain": [
              "<keras.callbacks.History at 0x7f54a99c3f90>"
            ]
          },
          "metadata": {},
          "execution_count": 114
        }
      ]
    },
    {
      "cell_type": "code",
      "source": [
        "# Make predictions with the models trained on 10% of the data\n",
        "\n",
        "model_7_pred_probs = model_7.predict(val_sentences)\n",
        "model_7_preds = tf.squeeze(tf.round(model_7_pred_probs))"
      ],
      "metadata": {
        "id": "N55L0nFpAuQS"
      },
      "execution_count": null,
      "outputs": []
    },
    {
      "cell_type": "code",
      "source": [
        "# Eval moddel 7\n",
        "\n",
        "model_7_results = calculate_results(y_true = val_labels,\n",
        "                                    y_pred = model_7_preds)\n",
        "model_7_results"
      ],
      "metadata": {
        "colab": {
          "base_uri": "https://localhost:8080/"
        },
        "id": "P08At0OvDyIZ",
        "outputId": "e75f08f3-e565-45a9-813c-6fa208682785"
      },
      "execution_count": null,
      "outputs": [
        {
          "output_type": "execute_result",
          "data": {
            "text/plain": [
              "{'accuracy': 78.4776902887139,\n",
              " 'precision': 0.7862392297712013,\n",
              " 'recall': 0.7847769028871391,\n",
              " 'f1': 0.7830611097687449}"
            ]
          },
          "metadata": {},
          "execution_count": 116
        }
      ]
    },
    {
      "cell_type": "markdown",
      "source": [
        "## Comparing the performnace of each of our models"
      ],
      "metadata": {
        "id": "Bijl7hZ4D7Sh"
      }
    },
    {
      "cell_type": "code",
      "source": [
        "# Combine model results into a DataFrame\n",
        "\n",
        "all_model_results = pd.DataFrame({'0_baseline': baseline_results,\n",
        "                                  '1_simple_dense': model_1_results,\n",
        "                                  '2_LSTM': model_2_results,\n",
        "                                  '3_GRU': model_3_results,\n",
        "                                  '4_BI': model_4_results,\n",
        "                                  '5_CONV-1D':model_5_results,\n",
        "                                  '6_TF_HUB_ALL': model_6_results,\n",
        "                                  '7_TF_HUB_10_%': model_7_results})\n",
        "all_model_results = all_model_results.transpose()"
      ],
      "metadata": {
        "id": "3eYcAPdkVV_5"
      },
      "execution_count": null,
      "outputs": []
    },
    {
      "cell_type": "code",
      "source": [
        "# Reduce the accuracy to the same scale as other metrics\n",
        "\n",
        "all_model_results['accuracy'] = all_model_results['accuracy'] /100"
      ],
      "metadata": {
        "id": "Z96QNU_6Wsjh"
      },
      "execution_count": null,
      "outputs": []
    },
    {
      "cell_type": "code",
      "source": [
        "all_model_results"
      ],
      "metadata": {
        "colab": {
          "base_uri": "https://localhost:8080/",
          "height": 300
        },
        "id": "N7k3WWfzXd_3",
        "outputId": "52741763-8411-43c8-e0d7-34589f5c54db"
      },
      "execution_count": null,
      "outputs": [
        {
          "output_type": "execute_result",
          "data": {
            "text/plain": [
              "                accuracy  precision    recall        f1\n",
              "0_baseline      0.792651   0.811139  0.792651  0.786219\n",
              "1_simple_dense  0.787402   0.791492  0.787402  0.784697\n",
              "2_LSTM          0.780840   0.785688  0.780840  0.777682\n",
              "3_GRU           0.778215   0.779199  0.778215  0.776621\n",
              "4_BI            0.766404   0.771219  0.766404  0.762791\n",
              "5_CONV-1D       0.759843   0.760458  0.759843  0.758116\n",
              "6_TF_HUB_ALL    0.813648   0.816066  0.813648  0.812062\n",
              "7_TF_HUB_10_%   0.784777   0.786239  0.784777  0.783061"
            ],
            "text/html": [
              "\n",
              "  <div id=\"df-be3d290c-1da7-45d6-92b2-681b39623c8b\">\n",
              "    <div class=\"colab-df-container\">\n",
              "      <div>\n",
              "<style scoped>\n",
              "    .dataframe tbody tr th:only-of-type {\n",
              "        vertical-align: middle;\n",
              "    }\n",
              "\n",
              "    .dataframe tbody tr th {\n",
              "        vertical-align: top;\n",
              "    }\n",
              "\n",
              "    .dataframe thead th {\n",
              "        text-align: right;\n",
              "    }\n",
              "</style>\n",
              "<table border=\"1\" class=\"dataframe\">\n",
              "  <thead>\n",
              "    <tr style=\"text-align: right;\">\n",
              "      <th></th>\n",
              "      <th>accuracy</th>\n",
              "      <th>precision</th>\n",
              "      <th>recall</th>\n",
              "      <th>f1</th>\n",
              "    </tr>\n",
              "  </thead>\n",
              "  <tbody>\n",
              "    <tr>\n",
              "      <th>0_baseline</th>\n",
              "      <td>0.792651</td>\n",
              "      <td>0.811139</td>\n",
              "      <td>0.792651</td>\n",
              "      <td>0.786219</td>\n",
              "    </tr>\n",
              "    <tr>\n",
              "      <th>1_simple_dense</th>\n",
              "      <td>0.787402</td>\n",
              "      <td>0.791492</td>\n",
              "      <td>0.787402</td>\n",
              "      <td>0.784697</td>\n",
              "    </tr>\n",
              "    <tr>\n",
              "      <th>2_LSTM</th>\n",
              "      <td>0.780840</td>\n",
              "      <td>0.785688</td>\n",
              "      <td>0.780840</td>\n",
              "      <td>0.777682</td>\n",
              "    </tr>\n",
              "    <tr>\n",
              "      <th>3_GRU</th>\n",
              "      <td>0.778215</td>\n",
              "      <td>0.779199</td>\n",
              "      <td>0.778215</td>\n",
              "      <td>0.776621</td>\n",
              "    </tr>\n",
              "    <tr>\n",
              "      <th>4_BI</th>\n",
              "      <td>0.766404</td>\n",
              "      <td>0.771219</td>\n",
              "      <td>0.766404</td>\n",
              "      <td>0.762791</td>\n",
              "    </tr>\n",
              "    <tr>\n",
              "      <th>5_CONV-1D</th>\n",
              "      <td>0.759843</td>\n",
              "      <td>0.760458</td>\n",
              "      <td>0.759843</td>\n",
              "      <td>0.758116</td>\n",
              "    </tr>\n",
              "    <tr>\n",
              "      <th>6_TF_HUB_ALL</th>\n",
              "      <td>0.813648</td>\n",
              "      <td>0.816066</td>\n",
              "      <td>0.813648</td>\n",
              "      <td>0.812062</td>\n",
              "    </tr>\n",
              "    <tr>\n",
              "      <th>7_TF_HUB_10_%</th>\n",
              "      <td>0.784777</td>\n",
              "      <td>0.786239</td>\n",
              "      <td>0.784777</td>\n",
              "      <td>0.783061</td>\n",
              "    </tr>\n",
              "  </tbody>\n",
              "</table>\n",
              "</div>\n",
              "      <button class=\"colab-df-convert\" onclick=\"convertToInteractive('df-be3d290c-1da7-45d6-92b2-681b39623c8b')\"\n",
              "              title=\"Convert this dataframe to an interactive table.\"\n",
              "              style=\"display:none;\">\n",
              "        \n",
              "  <svg xmlns=\"http://www.w3.org/2000/svg\" height=\"24px\"viewBox=\"0 0 24 24\"\n",
              "       width=\"24px\">\n",
              "    <path d=\"M0 0h24v24H0V0z\" fill=\"none\"/>\n",
              "    <path d=\"M18.56 5.44l.94 2.06.94-2.06 2.06-.94-2.06-.94-.94-2.06-.94 2.06-2.06.94zm-11 1L8.5 8.5l.94-2.06 2.06-.94-2.06-.94L8.5 2.5l-.94 2.06-2.06.94zm10 10l.94 2.06.94-2.06 2.06-.94-2.06-.94-.94-2.06-.94 2.06-2.06.94z\"/><path d=\"M17.41 7.96l-1.37-1.37c-.4-.4-.92-.59-1.43-.59-.52 0-1.04.2-1.43.59L10.3 9.45l-7.72 7.72c-.78.78-.78 2.05 0 2.83L4 21.41c.39.39.9.59 1.41.59.51 0 1.02-.2 1.41-.59l7.78-7.78 2.81-2.81c.8-.78.8-2.07 0-2.86zM5.41 20L4 18.59l7.72-7.72 1.47 1.35L5.41 20z\"/>\n",
              "  </svg>\n",
              "      </button>\n",
              "      \n",
              "  <style>\n",
              "    .colab-df-container {\n",
              "      display:flex;\n",
              "      flex-wrap:wrap;\n",
              "      gap: 12px;\n",
              "    }\n",
              "\n",
              "    .colab-df-convert {\n",
              "      background-color: #E8F0FE;\n",
              "      border: none;\n",
              "      border-radius: 50%;\n",
              "      cursor: pointer;\n",
              "      display: none;\n",
              "      fill: #1967D2;\n",
              "      height: 32px;\n",
              "      padding: 0 0 0 0;\n",
              "      width: 32px;\n",
              "    }\n",
              "\n",
              "    .colab-df-convert:hover {\n",
              "      background-color: #E2EBFA;\n",
              "      box-shadow: 0px 1px 2px rgba(60, 64, 67, 0.3), 0px 1px 3px 1px rgba(60, 64, 67, 0.15);\n",
              "      fill: #174EA6;\n",
              "    }\n",
              "\n",
              "    [theme=dark] .colab-df-convert {\n",
              "      background-color: #3B4455;\n",
              "      fill: #D2E3FC;\n",
              "    }\n",
              "\n",
              "    [theme=dark] .colab-df-convert:hover {\n",
              "      background-color: #434B5C;\n",
              "      box-shadow: 0px 1px 3px 1px rgba(0, 0, 0, 0.15);\n",
              "      filter: drop-shadow(0px 1px 2px rgba(0, 0, 0, 0.3));\n",
              "      fill: #FFFFFF;\n",
              "    }\n",
              "  </style>\n",
              "\n",
              "      <script>\n",
              "        const buttonEl =\n",
              "          document.querySelector('#df-be3d290c-1da7-45d6-92b2-681b39623c8b button.colab-df-convert');\n",
              "        buttonEl.style.display =\n",
              "          google.colab.kernel.accessAllowed ? 'block' : 'none';\n",
              "\n",
              "        async function convertToInteractive(key) {\n",
              "          const element = document.querySelector('#df-be3d290c-1da7-45d6-92b2-681b39623c8b');\n",
              "          const dataTable =\n",
              "            await google.colab.kernel.invokeFunction('convertToInteractive',\n",
              "                                                     [key], {});\n",
              "          if (!dataTable) return;\n",
              "\n",
              "          const docLinkHtml = 'Like what you see? Visit the ' +\n",
              "            '<a target=\"_blank\" href=https://colab.research.google.com/notebooks/data_table.ipynb>data table notebook</a>'\n",
              "            + ' to learn more about interactive tables.';\n",
              "          element.innerHTML = '';\n",
              "          dataTable['output_type'] = 'display_data';\n",
              "          await google.colab.output.renderOutput(dataTable, element);\n",
              "          const docLink = document.createElement('div');\n",
              "          docLink.innerHTML = docLinkHtml;\n",
              "          element.appendChild(docLink);\n",
              "        }\n",
              "      </script>\n",
              "    </div>\n",
              "  </div>\n",
              "  "
            ]
          },
          "metadata": {},
          "execution_count": 119
        }
      ]
    },
    {
      "cell_type": "code",
      "source": [
        "## Plot and compare all of the models results\n",
        "\n",
        "all_model_results.plot(kind='bar', figsize = (10, 7)).legend(bbox_to_anchor=(1.0, 1.0))"
      ],
      "metadata": {
        "colab": {
          "base_uri": "https://localhost:8080/",
          "height": 518
        },
        "id": "vJzscqBqXfSA",
        "outputId": "0712a934-3aa1-4374-ac6b-57fae79d80e5"
      },
      "execution_count": null,
      "outputs": [
        {
          "output_type": "execute_result",
          "data": {
            "text/plain": [
              "<matplotlib.legend.Legend at 0x7f550eb65990>"
            ]
          },
          "metadata": {},
          "execution_count": 120
        },
        {
          "output_type": "display_data",
          "data": {
            "text/plain": [
              "<Figure size 720x504 with 1 Axes>"
            ],
            "image/png": "[encoded data removed]"
          },
          "metadata": {
            "needs_background": "light"
          }
        }
      ]
    },
    {
      "cell_type": "code",
      "source": [
        "# Sort model results by f1 score\n",
        "\n",
        "all_model_results.sort_values('f1', ascending = False)['f1'].plot(kind = 'bar', figsize = (10, 7))"
      ],
      "metadata": {
        "colab": {
          "base_uri": "https://localhost:8080/",
          "height": 518
        },
        "id": "WoLXRdXbYEfg",
        "outputId": "25a7d82a-fac4-44dd-8136-393133bc8259"
      },
      "execution_count": null,
      "outputs": [
        {
          "output_type": "execute_result",
          "data": {
            "text/plain": [
              "<matplotlib.axes._subplots.AxesSubplot at 0x7f54a82e6250>"
            ]
          },
          "metadata": {},
          "execution_count": 121
        },
        {
          "output_type": "display_data",
          "data": {
            "text/plain": [
              "<Figure size 720x504 with 1 Axes>"
            ],
            "image/png": "[encoded data removed]"
          },
          "metadata": {
            "needs_background": "light"
          }
        }
      ]
    },
    {
      "cell_type": "code",
      "source": [
        "all_model_results.sort_values('f1', ascending = False)['f1'].plot(kind = 'bar', figsize = (10, 7))"
      ],
      "metadata": {
        "colab": {
          "base_uri": "https://localhost:8080/",
          "height": 518
        },
        "id": "845WiCSxOPIi",
        "outputId": "c8e5d1f4-d932-47ea-bd62-8557009cd4fc"
      },
      "execution_count": null,
      "outputs": [
        {
          "output_type": "execute_result",
          "data": {
            "text/plain": [
              "<matplotlib.axes._subplots.AxesSubplot at 0x7f54a8025e50>"
            ]
          },
          "metadata": {},
          "execution_count": 122
        },
        {
          "output_type": "display_data",
          "data": {
            "text/plain": [
              "<Figure size 720x504 with 1 Axes>"
            ],
            "image/png": "[encoded data removed]"
          },
          "metadata": {
            "needs_background": "light"
          }
        }
      ]
    },
    {
      "cell_type": "code",
      "source": [
        "!tensorboard dev upload --logdir ./model_logs \\\n",
        "  --name 'NLP modelling experiments' \\\n",
        "  --description 'Comparing Multiple Diff Types'  \\\n",
        "  --one_shot"
      ],
      "metadata": {
        "colab": {
          "base_uri": "https://localhost:8080/"
        },
        "id": "jnRUoxm9bjAr",
        "outputId": "4b312b2f-ae42-4a67-bc93-a7984e83e150"
      },
      "execution_count": null,
      "outputs": [
        {
          "output_type": "stream",
          "name": "stdout",
          "text": [
            "\n",
            "***** TensorBoard Uploader *****\n",
            "\n",
            "This will upload your TensorBoard logs to https://tensorboard.dev/ from\n",
            "the following directory:\n",
            "\n",
            "./model_logs\n",
            "\n",
            "This TensorBoard will be visible to everyone. Do not upload sensitive\n",
            "data.\n",
            "\n",
            "Your use of this service is subject to Google's Terms of Service\n",
            "<https://policies.google.com/terms> and Privacy Policy\n",
            "<https://policies.google.com/privacy>, and TensorBoard.dev's Terms of Service\n",
            "<https://tensorboard.dev/policy/terms/>.\n",
            "\n",
            "This notice will not be shown again while you are logged into the uploader.\n",
            "To log out, run `tensorboard dev auth revoke`.\n",
            "\n",
            "Continue? (yes/NO) yes\n",
            "\n",
            "Please visit this URL to authorize this application: https://accounts.google.com/o/oauth2/auth?response_type=code&client_id=373649185512-8v619h5kft38l4456nm2dj4ubeqsrvh6.apps.googleusercontent.com&redirect_uri=urn%3Aietf%3Awg%3Aoauth%3A2.0%3Aoob&scope=openid+https%3A%2F%2Fwww.googleapis.com%2Fauth%2Fuserinfo.email&state=oLUIEsCIA6lJzGH5E0sKkmsNiu72UO&prompt=consent&access_type=offline\n",
            "Enter the authorization code: 4/1AdQt8qgFroX3E0bBIeaj_CFyj51s4cE-eA7EQdLIIne7u4yEvBgQNk2mzyE\n",
            "\n",
            "\n",
            "New experiment created. View your TensorBoard at: https://tensorboard.dev/experiment/YVuNDub5SmKE9rnLAx9G4g/\n",
            "\n",
            "\u001b[1m[2022-09-13T13:17:20]\u001b[0m Started scanning logdir.\n",
            "4/1AdQt8qgFroX3E0bBIeaj_CFyj51s4cE-eA7EQdLIIne7u4yEvBgQNk2mzyE\n",
            "\u001b[1m[2022-09-13T13:17:27]\u001b[0m Total uploaded: 210 scalars, 0 tensors, 7 binary objects (2.9 MB)\n",
            "\u001b[1m[2022-09-13T13:17:27]\u001b[0m Done scanning logdir.\n",
            "\n",
            "\n",
            "Done. View your TensorBoard at https://tensorboard.dev/experiment/YVuNDub5SmKE9rnLAx9G4g/\n"
          ]
        }
      ]
    },
    {
      "cell_type": "markdown",
      "source": [
        "## Save and loading a trained model\n",
        "\n",
        "Two formats to save a model\n",
        "\n",
        ">`HDF5` format\n",
        "\n",
        ">`SaveModel` format"
      ],
      "metadata": {
        "id": "PV-kkO6pf1Gn"
      }
    },
    {
      "cell_type": "code",
      "source": [
        "# save HDF5\n",
        "\n",
        "model_6.save('model_6.h5')\n",
        "\n",
        "# Load Model with custom hub layer\n",
        "loaded_model_6 = tf.keras.models.load_model('model_6.h5',\n",
        "                                            custom_objects={'KerasLayer':hub.KerasLayer})"
      ],
      "metadata": {
        "id": "BH2ja0JvjjpV"
      },
      "execution_count": null,
      "outputs": []
    },
    {
      "cell_type": "code",
      "source": [
        "# How does our loaded model perform\n",
        "\n",
        "loaded_model_6.evaluate(val_sentences, val_labels)"
      ],
      "metadata": {
        "colab": {
          "base_uri": "https://localhost:8080/"
        },
        "id": "SVQLCDFTj5jh",
        "outputId": "4b97c52c-44f8-449e-8412-87a1aa7a92df"
      },
      "execution_count": null,
      "outputs": [
        {
          "output_type": "stream",
          "name": "stdout",
          "text": [
            "24/24 [==============================] - 1s 10ms/step - loss: 0.4281 - accuracy: 0.8136\n"
          ]
        },
        {
          "output_type": "execute_result",
          "data": {
            "text/plain": [
              "[0.4281088411808014, 0.8136482834815979]"
            ]
          },
          "metadata": {},
          "execution_count": 125
        }
      ]
    },
    {
      "cell_type": "code",
      "source": [
        "# save SaveModel\n",
        "\n",
        "model_6.save('model_6_SAVEDMODEL_format')\n",
        "loaded_model_6 = tf.keras.models.load_model('model_6_SAVEDMODEL_format')\n"
      ],
      "metadata": {
        "colab": {
          "base_uri": "https://localhost:8080/"
        },
        "id": "JBonL6ERksWD",
        "outputId": "133afd5a-4a5c-4164-bd8d-143ed3f6e219"
      },
      "execution_count": null,
      "outputs": [
        {
          "output_type": "stream",
          "name": "stderr",
          "text": [
            "WARNING:absl:Function `_wrapped_model` contains input name(s) USE_input with unsupported characters which will be renamed to use_input in the SavedModel.\n"
          ]
        }
      ]
    },
    {
      "cell_type": "markdown",
      "source": [
        "## Finding the most wrong examples"
      ],
      "metadata": {
        "id": "h4UR3QnuZ528"
      }
    },
    {
      "cell_type": "code",
      "source": [
        "val_df = pd.DataFrame({'text':  val_sentences,\n",
        "                       'target': val_labels,\n",
        "                       'pred' : model_6_preds,\n",
        "                       'pred_probs': tf.squeeze(model_6_pred_probs)\n",
        "                       })"
      ],
      "metadata": {
        "id": "OyCmgI8iaBf-"
      },
      "execution_count": null,
      "outputs": []
    },
    {
      "cell_type": "code",
      "source": [
        "val_df"
      ],
      "metadata": {
        "colab": {
          "base_uri": "https://localhost:8080/",
          "height": 423
        },
        "id": "k6fuGAIUaWuq",
        "outputId": "46bde2c9-b572-4338-f44e-1381c216be96"
      },
      "execution_count": null,
      "outputs": [
        {
          "output_type": "execute_result",
          "data": {
            "text/plain": [
              "                                                  text  target  pred  \\\n",
              "0    DFR EP016 Monthly Meltdown - On Dnbheaven 2015...       0   0.0   \n",
              "1    FedEx no longer to transport bioterror germs i...       0   1.0   \n",
              "2    Gunmen kill four in El Salvador bus attack: Su...       1   1.0   \n",
              "3    @camilacabello97 Internally and externally scr...       1   0.0   \n",
              "4    Radiation emergency #preparedness starts with ...       1   1.0   \n",
              "..                                                 ...     ...   ...   \n",
              "757            That's the ultimate road to destruction       0   0.0   \n",
              "758  @SetZorah dad why dont you claim me that mean ...       0   0.0   \n",
              "759  FedEx will no longer transport bioterror patho...       0   1.0   \n",
              "760  Crack in the path where I wiped out this morni...       0   1.0   \n",
              "761  I liked a @YouTube video from @dannyonpc http:...       0   0.0   \n",
              "\n",
              "     pred_probs  \n",
              "0      0.150007  \n",
              "1      0.741510  \n",
              "2      0.989143  \n",
              "3      0.188551  \n",
              "4      0.712807  \n",
              "..          ...  \n",
              "757    0.118185  \n",
              "758    0.092258  \n",
              "759    0.851194  \n",
              "760    0.658268  \n",
              "761    0.084894  \n",
              "\n",
              "[762 rows x 4 columns]"
            ],
            "text/html": [
              "\n",
              "  <div id=\"df-d1844738-f3e4-4b8a-abd0-286589ead8bd\">\n",
              "    <div class=\"colab-df-container\">\n",
              "      <div>\n",
              "<style scoped>\n",
              "    .dataframe tbody tr th:only-of-type {\n",
              "        vertical-align: middle;\n",
              "    }\n",
              "\n",
              "    .dataframe tbody tr th {\n",
              "        vertical-align: top;\n",
              "    }\n",
              "\n",
              "    .dataframe thead th {\n",
              "        text-align: right;\n",
              "    }\n",
              "</style>\n",
              "<table border=\"1\" class=\"dataframe\">\n",
              "  <thead>\n",
              "    <tr style=\"text-align: right;\">\n",
              "      <th></th>\n",
              "      <th>text</th>\n",
              "      <th>target</th>\n",
              "      <th>pred</th>\n",
              "      <th>pred_probs</th>\n",
              "    </tr>\n",
              "  </thead>\n",
              "  <tbody>\n",
              "    <tr>\n",
              "      <th>0</th>\n",
              "      <td>DFR EP016 Monthly Meltdown - On Dnbheaven 2015...</td>\n",
              "      <td>0</td>\n",
              "      <td>0.0</td>\n",
              "      <td>0.150007</td>\n",
              "    </tr>\n",
              "    <tr>\n",
              "      <th>1</th>\n",
              "      <td>FedEx no longer to transport bioterror germs i...</td>\n",
              "      <td>0</td>\n",
              "      <td>1.0</td>\n",
              "      <td>0.741510</td>\n",
              "    </tr>\n",
              "    <tr>\n",
              "      <th>2</th>\n",
              "      <td>Gunmen kill four in El Salvador bus attack: Su...</td>\n",
              "      <td>1</td>\n",
              "      <td>1.0</td>\n",
              "      <td>0.989143</td>\n",
              "    </tr>\n",
              "    <tr>\n",
              "      <th>3</th>\n",
              "      <td>@camilacabello97 Internally and externally scr...</td>\n",
              "      <td>1</td>\n",
              "      <td>0.0</td>\n",
              "      <td>0.188551</td>\n",
              "    </tr>\n",
              "    <tr>\n",
              "      <th>4</th>\n",
              "      <td>Radiation emergency #preparedness starts with ...</td>\n",
              "      <td>1</td>\n",
              "      <td>1.0</td>\n",
              "      <td>0.712807</td>\n",
              "    </tr>\n",
              "    <tr>\n",
              "      <th>...</th>\n",
              "      <td>...</td>\n",
              "      <td>...</td>\n",
              "      <td>...</td>\n",
              "      <td>...</td>\n",
              "    </tr>\n",
              "    <tr>\n",
              "      <th>757</th>\n",
              "      <td>That's the ultimate road to destruction</td>\n",
              "      <td>0</td>\n",
              "      <td>0.0</td>\n",
              "      <td>0.118185</td>\n",
              "    </tr>\n",
              "    <tr>\n",
              "      <th>758</th>\n",
              "      <td>@SetZorah dad why dont you claim me that mean ...</td>\n",
              "      <td>0</td>\n",
              "      <td>0.0</td>\n",
              "      <td>0.092258</td>\n",
              "    </tr>\n",
              "    <tr>\n",
              "      <th>759</th>\n",
              "      <td>FedEx will no longer transport bioterror patho...</td>\n",
              "      <td>0</td>\n",
              "      <td>1.0</td>\n",
              "      <td>0.851194</td>\n",
              "    </tr>\n",
              "    <tr>\n",
              "      <th>760</th>\n",
              "      <td>Crack in the path where I wiped out this morni...</td>\n",
              "      <td>0</td>\n",
              "      <td>1.0</td>\n",
              "      <td>0.658268</td>\n",
              "    </tr>\n",
              "    <tr>\n",
              "      <th>761</th>\n",
              "      <td>I liked a @YouTube video from @dannyonpc http:...</td>\n",
              "      <td>0</td>\n",
              "      <td>0.0</td>\n",
              "      <td>0.084894</td>\n",
              "    </tr>\n",
              "  </tbody>\n",
              "</table>\n",
              "<p>762 rows × 4 columns</p>\n",
              "</div>\n",
              "      <button class=\"colab-df-convert\" onclick=\"convertToInteractive('df-d1844738-f3e4-4b8a-abd0-286589ead8bd')\"\n",
              "              title=\"Convert this dataframe to an interactive table.\"\n",
              "              style=\"display:none;\">\n",
              "        \n",
              "  <svg xmlns=\"http://www.w3.org/2000/svg\" height=\"24px\"viewBox=\"0 0 24 24\"\n",
              "       width=\"24px\">\n",
              "    <path d=\"M0 0h24v24H0V0z\" fill=\"none\"/>\n",
              "    <path d=\"M18.56 5.44l.94 2.06.94-2.06 2.06-.94-2.06-.94-.94-2.06-.94 2.06-2.06.94zm-11 1L8.5 8.5l.94-2.06 2.06-.94-2.06-.94L8.5 2.5l-.94 2.06-2.06.94zm10 10l.94 2.06.94-2.06 2.06-.94-2.06-.94-.94-2.06-.94 2.06-2.06.94z\"/><path d=\"M17.41 7.96l-1.37-1.37c-.4-.4-.92-.59-1.43-.59-.52 0-1.04.2-1.43.59L10.3 9.45l-7.72 7.72c-.78.78-.78 2.05 0 2.83L4 21.41c.39.39.9.59 1.41.59.51 0 1.02-.2 1.41-.59l7.78-7.78 2.81-2.81c.8-.78.8-2.07 0-2.86zM5.41 20L4 18.59l7.72-7.72 1.47 1.35L5.41 20z\"/>\n",
              "  </svg>\n",
              "      </button>\n",
              "      \n",
              "  <style>\n",
              "    .colab-df-container {\n",
              "      display:flex;\n",
              "      flex-wrap:wrap;\n",
              "      gap: 12px;\n",
              "    }\n",
              "\n",
              "    .colab-df-convert {\n",
              "      background-color: #E8F0FE;\n",
              "      border: none;\n",
              "      border-radius: 50%;\n",
              "      cursor: pointer;\n",
              "      display: none;\n",
              "      fill: #1967D2;\n",
              "      height: 32px;\n",
              "      padding: 0 0 0 0;\n",
              "      width: 32px;\n",
              "    }\n",
              "\n",
              "    .colab-df-convert:hover {\n",
              "      background-color: #E2EBFA;\n",
              "      box-shadow: 0px 1px 2px rgba(60, 64, 67, 0.3), 0px 1px 3px 1px rgba(60, 64, 67, 0.15);\n",
              "      fill: #174EA6;\n",
              "    }\n",
              "\n",
              "    [theme=dark] .colab-df-convert {\n",
              "      background-color: #3B4455;\n",
              "      fill: #D2E3FC;\n",
              "    }\n",
              "\n",
              "    [theme=dark] .colab-df-convert:hover {\n",
              "      background-color: #434B5C;\n",
              "      box-shadow: 0px 1px 3px 1px rgba(0, 0, 0, 0.15);\n",
              "      filter: drop-shadow(0px 1px 2px rgba(0, 0, 0, 0.3));\n",
              "      fill: #FFFFFF;\n",
              "    }\n",
              "  </style>\n",
              "\n",
              "      <script>\n",
              "        const buttonEl =\n",
              "          document.querySelector('#df-d1844738-f3e4-4b8a-abd0-286589ead8bd button.colab-df-convert');\n",
              "        buttonEl.style.display =\n",
              "          google.colab.kernel.accessAllowed ? 'block' : 'none';\n",
              "\n",
              "        async function convertToInteractive(key) {\n",
              "          const element = document.querySelector('#df-d1844738-f3e4-4b8a-abd0-286589ead8bd');\n",
              "          const dataTable =\n",
              "            await google.colab.kernel.invokeFunction('convertToInteractive',\n",
              "                                                     [key], {});\n",
              "          if (!dataTable) return;\n",
              "\n",
              "          const docLinkHtml = 'Like what you see? Visit the ' +\n",
              "            '<a target=\"_blank\" href=https://colab.research.google.com/notebooks/data_table.ipynb>data table notebook</a>'\n",
              "            + ' to learn more about interactive tables.';\n",
              "          element.innerHTML = '';\n",
              "          dataTable['output_type'] = 'display_data';\n",
              "          await google.colab.output.renderOutput(dataTable, element);\n",
              "          const docLink = document.createElement('div');\n",
              "          docLink.innerHTML = docLinkHtml;\n",
              "          element.appendChild(docLink);\n",
              "        }\n",
              "      </script>\n",
              "    </div>\n",
              "  </div>\n",
              "  "
            ]
          },
          "metadata": {},
          "execution_count": 128
        }
      ]
    },
    {
      "cell_type": "code",
      "source": [
        "# Finding the wrong prediction and sort by prediction probabilities\n",
        "most_wrong = val_df[val_df['target'] != val_df['pred']].sort_values('pred_probs', ascending = False)"
      ],
      "metadata": {
        "id": "_BvzMlFbalqv"
      },
      "execution_count": null,
      "outputs": []
    },
    {
      "cell_type": "code",
      "source": [
        "most_wrong.head()"
      ],
      "metadata": {
        "colab": {
          "base_uri": "https://localhost:8080/",
          "height": 206
        },
        "id": "piaO-8XEbZkx",
        "outputId": "1da02ebb-c092-4601-8f38-6e2e7cae27e4"
      },
      "execution_count": null,
      "outputs": [
        {
          "output_type": "execute_result",
          "data": {
            "text/plain": [
              "                                                  text  target  pred  \\\n",
              "31   ? High Skies - Burning Buildings ? http://t.co...       0   1.0   \n",
              "628  @noah_anyname That's where the concentration c...       0   1.0   \n",
              "759  FedEx will no longer transport bioterror patho...       0   1.0   \n",
              "49   @madonnamking RSPCA site multiple 7 story high...       0   1.0   \n",
              "393  @SonofLiberty357 all illuminated by the bright...       0   1.0   \n",
              "\n",
              "     pred_probs  \n",
              "31     0.899297  \n",
              "628    0.854212  \n",
              "759    0.851194  \n",
              "49     0.847378  \n",
              "393    0.832454  "
            ],
            "text/html": [
              "\n",
              "  <div id=\"df-0c2bd73e-f7cc-453b-8433-3a9034dc1689\">\n",
              "    <div class=\"colab-df-container\">\n",
              "      <div>\n",
              "<style scoped>\n",
              "    .dataframe tbody tr th:only-of-type {\n",
              "        vertical-align: middle;\n",
              "    }\n",
              "\n",
              "    .dataframe tbody tr th {\n",
              "        vertical-align: top;\n",
              "    }\n",
              "\n",
              "    .dataframe thead th {\n",
              "        text-align: right;\n",
              "    }\n",
              "</style>\n",
              "<table border=\"1\" class=\"dataframe\">\n",
              "  <thead>\n",
              "    <tr style=\"text-align: right;\">\n",
              "      <th></th>\n",
              "      <th>text</th>\n",
              "      <th>target</th>\n",
              "      <th>pred</th>\n",
              "      <th>pred_probs</th>\n",
              "    </tr>\n",
              "  </thead>\n",
              "  <tbody>\n",
              "    <tr>\n",
              "      <th>31</th>\n",
              "      <td>? High Skies - Burning Buildings ? http://t.co...</td>\n",
              "      <td>0</td>\n",
              "      <td>1.0</td>\n",
              "      <td>0.899297</td>\n",
              "    </tr>\n",
              "    <tr>\n",
              "      <th>628</th>\n",
              "      <td>@noah_anyname That's where the concentration c...</td>\n",
              "      <td>0</td>\n",
              "      <td>1.0</td>\n",
              "      <td>0.854212</td>\n",
              "    </tr>\n",
              "    <tr>\n",
              "      <th>759</th>\n",
              "      <td>FedEx will no longer transport bioterror patho...</td>\n",
              "      <td>0</td>\n",
              "      <td>1.0</td>\n",
              "      <td>0.851194</td>\n",
              "    </tr>\n",
              "    <tr>\n",
              "      <th>49</th>\n",
              "      <td>@madonnamking RSPCA site multiple 7 story high...</td>\n",
              "      <td>0</td>\n",
              "      <td>1.0</td>\n",
              "      <td>0.847378</td>\n",
              "    </tr>\n",
              "    <tr>\n",
              "      <th>393</th>\n",
              "      <td>@SonofLiberty357 all illuminated by the bright...</td>\n",
              "      <td>0</td>\n",
              "      <td>1.0</td>\n",
              "      <td>0.832454</td>\n",
              "    </tr>\n",
              "  </tbody>\n",
              "</table>\n",
              "</div>\n",
              "      <button class=\"colab-df-convert\" onclick=\"convertToInteractive('df-0c2bd73e-f7cc-453b-8433-3a9034dc1689')\"\n",
              "              title=\"Convert this dataframe to an interactive table.\"\n",
              "              style=\"display:none;\">\n",
              "        \n",
              "  <svg xmlns=\"http://www.w3.org/2000/svg\" height=\"24px\"viewBox=\"0 0 24 24\"\n",
              "       width=\"24px\">\n",
              "    <path d=\"M0 0h24v24H0V0z\" fill=\"none\"/>\n",
              "    <path d=\"M18.56 5.44l.94 2.06.94-2.06 2.06-.94-2.06-.94-.94-2.06-.94 2.06-2.06.94zm-11 1L8.5 8.5l.94-2.06 2.06-.94-2.06-.94L8.5 2.5l-.94 2.06-2.06.94zm10 10l.94 2.06.94-2.06 2.06-.94-2.06-.94-.94-2.06-.94 2.06-2.06.94z\"/><path d=\"M17.41 7.96l-1.37-1.37c-.4-.4-.92-.59-1.43-.59-.52 0-1.04.2-1.43.59L10.3 9.45l-7.72 7.72c-.78.78-.78 2.05 0 2.83L4 21.41c.39.39.9.59 1.41.59.51 0 1.02-.2 1.41-.59l7.78-7.78 2.81-2.81c.8-.78.8-2.07 0-2.86zM5.41 20L4 18.59l7.72-7.72 1.47 1.35L5.41 20z\"/>\n",
              "  </svg>\n",
              "      </button>\n",
              "      \n",
              "  <style>\n",
              "    .colab-df-container {\n",
              "      display:flex;\n",
              "      flex-wrap:wrap;\n",
              "      gap: 12px;\n",
              "    }\n",
              "\n",
              "    .colab-df-convert {\n",
              "      background-color: #E8F0FE;\n",
              "      border: none;\n",
              "      border-radius: 50%;\n",
              "      cursor: pointer;\n",
              "      display: none;\n",
              "      fill: #1967D2;\n",
              "      height: 32px;\n",
              "      padding: 0 0 0 0;\n",
              "      width: 32px;\n",
              "    }\n",
              "\n",
              "    .colab-df-convert:hover {\n",
              "      background-color: #E2EBFA;\n",
              "      box-shadow: 0px 1px 2px rgba(60, 64, 67, 0.3), 0px 1px 3px 1px rgba(60, 64, 67, 0.15);\n",
              "      fill: #174EA6;\n",
              "    }\n",
              "\n",
              "    [theme=dark] .colab-df-convert {\n",
              "      background-color: #3B4455;\n",
              "      fill: #D2E3FC;\n",
              "    }\n",
              "\n",
              "    [theme=dark] .colab-df-convert:hover {\n",
              "      background-color: #434B5C;\n",
              "      box-shadow: 0px 1px 3px 1px rgba(0, 0, 0, 0.15);\n",
              "      filter: drop-shadow(0px 1px 2px rgba(0, 0, 0, 0.3));\n",
              "      fill: #FFFFFF;\n",
              "    }\n",
              "  </style>\n",
              "\n",
              "      <script>\n",
              "        const buttonEl =\n",
              "          document.querySelector('#df-0c2bd73e-f7cc-453b-8433-3a9034dc1689 button.colab-df-convert');\n",
              "        buttonEl.style.display =\n",
              "          google.colab.kernel.accessAllowed ? 'block' : 'none';\n",
              "\n",
              "        async function convertToInteractive(key) {\n",
              "          const element = document.querySelector('#df-0c2bd73e-f7cc-453b-8433-3a9034dc1689');\n",
              "          const dataTable =\n",
              "            await google.colab.kernel.invokeFunction('convertToInteractive',\n",
              "                                                     [key], {});\n",
              "          if (!dataTable) return;\n",
              "\n",
              "          const docLinkHtml = 'Like what you see? Visit the ' +\n",
              "            '<a target=\"_blank\" href=https://colab.research.google.com/notebooks/data_table.ipynb>data table notebook</a>'\n",
              "            + ' to learn more about interactive tables.';\n",
              "          element.innerHTML = '';\n",
              "          dataTable['output_type'] = 'display_data';\n",
              "          await google.colab.output.renderOutput(dataTable, element);\n",
              "          const docLink = document.createElement('div');\n",
              "          docLink.innerHTML = docLinkHtml;\n",
              "          element.appendChild(docLink);\n",
              "        }\n",
              "      </script>\n",
              "    </div>\n",
              "  </div>\n",
              "  "
            ]
          },
          "metadata": {},
          "execution_count": 130
        }
      ]
    },
    {
      "cell_type": "code",
      "source": [
        "most_wrong.tail()"
      ],
      "metadata": {
        "colab": {
          "base_uri": "https://localhost:8080/",
          "height": 206
        },
        "id": "ICa-OxfQfxXo",
        "outputId": "d5bac451-a7d3-421a-8fc0-ffe77a838885"
      },
      "execution_count": null,
      "outputs": [
        {
          "output_type": "execute_result",
          "data": {
            "text/plain": [
              "                                                  text  target  pred  \\\n",
              "233                    I get to smoke my shit in peace       1   0.0   \n",
              "244  Reddit Will Now QuarantineÛ_ http://t.co/pkUA...       1   0.0   \n",
              "411  @SoonerMagic_ I mean I'm a fan but I don't nee...       1   0.0   \n",
              "38   Why are you deluged with low self-image? Take ...       1   0.0   \n",
              "23   Ron &amp; Fez - Dave's High School Crush https...       1   0.0   \n",
              "\n",
              "     pred_probs  \n",
              "233    0.047264  \n",
              "244    0.041225  \n",
              "411    0.039249  \n",
              "38     0.035117  \n",
              "23     0.029797  "
            ],
            "text/html": [
              "\n",
              "  <div id=\"df-593ee86c-e3ee-4165-9dfd-416b8e2f84a3\">\n",
              "    <div class=\"colab-df-container\">\n",
              "      <div>\n",
              "<style scoped>\n",
              "    .dataframe tbody tr th:only-of-type {\n",
              "        vertical-align: middle;\n",
              "    }\n",
              "\n",
              "    .dataframe tbody tr th {\n",
              "        vertical-align: top;\n",
              "    }\n",
              "\n",
              "    .dataframe thead th {\n",
              "        text-align: right;\n",
              "    }\n",
              "</style>\n",
              "<table border=\"1\" class=\"dataframe\">\n",
              "  <thead>\n",
              "    <tr style=\"text-align: right;\">\n",
              "      <th></th>\n",
              "      <th>text</th>\n",
              "      <th>target</th>\n",
              "      <th>pred</th>\n",
              "      <th>pred_probs</th>\n",
              "    </tr>\n",
              "  </thead>\n",
              "  <tbody>\n",
              "    <tr>\n",
              "      <th>233</th>\n",
              "      <td>I get to smoke my shit in peace</td>\n",
              "      <td>1</td>\n",
              "      <td>0.0</td>\n",
              "      <td>0.047264</td>\n",
              "    </tr>\n",
              "    <tr>\n",
              "      <th>244</th>\n",
              "      <td>Reddit Will Now QuarantineÛ_ http://t.co/pkUA...</td>\n",
              "      <td>1</td>\n",
              "      <td>0.0</td>\n",
              "      <td>0.041225</td>\n",
              "    </tr>\n",
              "    <tr>\n",
              "      <th>411</th>\n",
              "      <td>@SoonerMagic_ I mean I'm a fan but I don't nee...</td>\n",
              "      <td>1</td>\n",
              "      <td>0.0</td>\n",
              "      <td>0.039249</td>\n",
              "    </tr>\n",
              "    <tr>\n",
              "      <th>38</th>\n",
              "      <td>Why are you deluged with low self-image? Take ...</td>\n",
              "      <td>1</td>\n",
              "      <td>0.0</td>\n",
              "      <td>0.035117</td>\n",
              "    </tr>\n",
              "    <tr>\n",
              "      <th>23</th>\n",
              "      <td>Ron &amp;amp; Fez - Dave's High School Crush https...</td>\n",
              "      <td>1</td>\n",
              "      <td>0.0</td>\n",
              "      <td>0.029797</td>\n",
              "    </tr>\n",
              "  </tbody>\n",
              "</table>\n",
              "</div>\n",
              "      <button class=\"colab-df-convert\" onclick=\"convertToInteractive('df-593ee86c-e3ee-4165-9dfd-416b8e2f84a3')\"\n",
              "              title=\"Convert this dataframe to an interactive table.\"\n",
              "              style=\"display:none;\">\n",
              "        \n",
              "  <svg xmlns=\"http://www.w3.org/2000/svg\" height=\"24px\"viewBox=\"0 0 24 24\"\n",
              "       width=\"24px\">\n",
              "    <path d=\"M0 0h24v24H0V0z\" fill=\"none\"/>\n",
              "    <path d=\"M18.56 5.44l.94 2.06.94-2.06 2.06-.94-2.06-.94-.94-2.06-.94 2.06-2.06.94zm-11 1L8.5 8.5l.94-2.06 2.06-.94-2.06-.94L8.5 2.5l-.94 2.06-2.06.94zm10 10l.94 2.06.94-2.06 2.06-.94-2.06-.94-.94-2.06-.94 2.06-2.06.94z\"/><path d=\"M17.41 7.96l-1.37-1.37c-.4-.4-.92-.59-1.43-.59-.52 0-1.04.2-1.43.59L10.3 9.45l-7.72 7.72c-.78.78-.78 2.05 0 2.83L4 21.41c.39.39.9.59 1.41.59.51 0 1.02-.2 1.41-.59l7.78-7.78 2.81-2.81c.8-.78.8-2.07 0-2.86zM5.41 20L4 18.59l7.72-7.72 1.47 1.35L5.41 20z\"/>\n",
              "  </svg>\n",
              "      </button>\n",
              "      \n",
              "  <style>\n",
              "    .colab-df-container {\n",
              "      display:flex;\n",
              "      flex-wrap:wrap;\n",
              "      gap: 12px;\n",
              "    }\n",
              "\n",
              "    .colab-df-convert {\n",
              "      background-color: #E8F0FE;\n",
              "      border: none;\n",
              "      border-radius: 50%;\n",
              "      cursor: pointer;\n",
              "      display: none;\n",
              "      fill: #1967D2;\n",
              "      height: 32px;\n",
              "      padding: 0 0 0 0;\n",
              "      width: 32px;\n",
              "    }\n",
              "\n",
              "    .colab-df-convert:hover {\n",
              "      background-color: #E2EBFA;\n",
              "      box-shadow: 0px 1px 2px rgba(60, 64, 67, 0.3), 0px 1px 3px 1px rgba(60, 64, 67, 0.15);\n",
              "      fill: #174EA6;\n",
              "    }\n",
              "\n",
              "    [theme=dark] .colab-df-convert {\n",
              "      background-color: #3B4455;\n",
              "      fill: #D2E3FC;\n",
              "    }\n",
              "\n",
              "    [theme=dark] .colab-df-convert:hover {\n",
              "      background-color: #434B5C;\n",
              "      box-shadow: 0px 1px 3px 1px rgba(0, 0, 0, 0.15);\n",
              "      filter: drop-shadow(0px 1px 2px rgba(0, 0, 0, 0.3));\n",
              "      fill: #FFFFFF;\n",
              "    }\n",
              "  </style>\n",
              "\n",
              "      <script>\n",
              "        const buttonEl =\n",
              "          document.querySelector('#df-593ee86c-e3ee-4165-9dfd-416b8e2f84a3 button.colab-df-convert');\n",
              "        buttonEl.style.display =\n",
              "          google.colab.kernel.accessAllowed ? 'block' : 'none';\n",
              "\n",
              "        async function convertToInteractive(key) {\n",
              "          const element = document.querySelector('#df-593ee86c-e3ee-4165-9dfd-416b8e2f84a3');\n",
              "          const dataTable =\n",
              "            await google.colab.kernel.invokeFunction('convertToInteractive',\n",
              "                                                     [key], {});\n",
              "          if (!dataTable) return;\n",
              "\n",
              "          const docLinkHtml = 'Like what you see? Visit the ' +\n",
              "            '<a target=\"_blank\" href=https://colab.research.google.com/notebooks/data_table.ipynb>data table notebook</a>'\n",
              "            + ' to learn more about interactive tables.';\n",
              "          element.innerHTML = '';\n",
              "          dataTable['output_type'] = 'display_data';\n",
              "          await google.colab.output.renderOutput(dataTable, element);\n",
              "          const docLink = document.createElement('div');\n",
              "          docLink.innerHTML = docLinkHtml;\n",
              "          element.appendChild(docLink);\n",
              "        }\n",
              "      </script>\n",
              "    </div>\n",
              "  </div>\n",
              "  "
            ]
          },
          "metadata": {},
          "execution_count": 131
        }
      ]
    },
    {
      "cell_type": "code",
      "source": [
        "# Check the falsst postives [predicted 1 when it should have been 0]\n",
        "\n",
        "for row in most_wrong[:10].itertuples():\n",
        "  _, text, target, pred, pred_prob = row\n",
        "  print(f'Target:{target}, Pred: {pred}, Prob: {pred_prob}')\n",
        "  print(f'Text: \\n{text}\\n')\n",
        "  print(f'------\\n')"
      ],
      "metadata": {
        "colab": {
          "base_uri": "https://localhost:8080/"
        },
        "id": "4iKl9t__gMl-",
        "outputId": "a5e7157d-52d9-4059-d3cf-678c169682ab"
      },
      "execution_count": null,
      "outputs": [
        {
          "output_type": "stream",
          "name": "stdout",
          "text": [
            "Target:0, Pred: 1.0, Prob: 0.8992974758148193\n",
            "Text: \n",
            "? High Skies - Burning Buildings ? http://t.co/uVq41i3Kx2 #nowplaying\n",
            "\n",
            "------\n",
            "\n",
            "Target:0, Pred: 1.0, Prob: 0.8542121052742004\n",
            "Text: \n",
            "@noah_anyname That's where the concentration camps and mass murder come in. \n",
            " \n",
            "EVERY. FUCKING. TIME.\n",
            "\n",
            "------\n",
            "\n",
            "Target:0, Pred: 1.0, Prob: 0.851194441318512\n",
            "Text: \n",
            "FedEx will no longer transport bioterror pathogens in wake of anthrax lab mishaps http://t.co/lHpgxc4b8J\n",
            "\n",
            "------\n",
            "\n",
            "Target:0, Pred: 1.0, Prob: 0.847377598285675\n",
            "Text: \n",
            "@madonnamking RSPCA site multiple 7 story high rise buildings next to low density character residential in an area that floods\n",
            "\n",
            "------\n",
            "\n",
            "Target:0, Pred: 1.0, Prob: 0.8324535489082336\n",
            "Text: \n",
            "@SonofLiberty357 all illuminated by the brightly burning buildings all around the town!\n",
            "\n",
            "------\n",
            "\n",
            "Target:0, Pred: 1.0, Prob: 0.8187073469161987\n",
            "Text: \n",
            "Ashes 2015: AustraliaÛªs collapse at Trent Bridge among worst in history: England bundled out Australia for 60 ... http://t.co/t5TrhjUAU0\n",
            "\n",
            "------\n",
            "\n",
            "Target:0, Pred: 1.0, Prob: 0.7938507199287415\n",
            "Text: \n",
            "åÈMGN-AFRICAå¨ pin:263789F4 åÈ Correction: Tent Collapse Story: Correction: Tent Collapse story åÈ http://t.co/fDJUYvZMrv @wizkidayo\n",
            "\n",
            "------\n",
            "\n",
            "Target:0, Pred: 1.0, Prob: 0.7935606837272644\n",
            "Text: \n",
            "@AshGhebranious civil rights continued in the 60s. And what about trans-generational trauma? if anything we should listen to the Americans.\n",
            "\n",
            "------\n",
            "\n",
            "Target:0, Pred: 1.0, Prob: 0.7796608209609985\n",
            "Text: \n",
            "[55436] 1950 LIONEL TRAINS SMOKE LOCOMOTIVES WITH MAGNE-TRACTION INSTRUCTIONS http://t.co/xEZBs3sq0y http://t.co/C2x0QoKGlY\n",
            "\n",
            "------\n",
            "\n",
            "Target:0, Pred: 1.0, Prob: 0.7769186496734619\n",
            "Text: \n",
            "A look at state actions a year after Ferguson's upheaval http://t.co/GZEkQWzijq\n",
            "\n",
            "------\n",
            "\n"
          ]
        }
      ]
    },
    {
      "cell_type": "code",
      "source": [
        "for row in most_wrong[-10:].itertuples():\n",
        "  _, text, target, pred, pred_prob = row\n",
        "  print(f'Target:{target}, Pred: {pred}, Prob: {pred_prob}')\n",
        "  print(f'Text: \\n{test_sample}\\n')\n",
        "  print(f'------\\n')"
      ],
      "metadata": {
        "colab": {
          "base_uri": "https://localhost:8080/"
        },
        "id": "wpR61AEwhGg2",
        "outputId": "f34cd03e-f305-458e-e681-1705bdef939c"
      },
      "execution_count": null,
      "outputs": [
        {
          "output_type": "stream",
          "name": "stdout",
          "text": [
            "Target:1, Pred: 0.0, Prob: 0.06406304985284805\n",
            "Text: \n",
            "VICTORINOX SWISS ARMY DATE WOMEN'S RUBBER MOP WATCH 241487 http://t.co/yFy3nkkcoH http://t.co/KNEhVvOHVK\n",
            "\n",
            "------\n",
            "\n",
            "Target:1, Pred: 0.0, Prob: 0.061821646988391876\n",
            "Text: \n",
            "going to redo my nails and watch behind the scenes of desolation of smaug ayyy\n",
            "\n",
            "------\n",
            "\n",
            "Target:1, Pred: 0.0, Prob: 0.060019832104444504\n",
            "Text: \n",
            "Lucas Duda is Ghost Rider. Not the Nic Cage version but an actual 'engulfed in flames' badass. #Mets\n",
            "\n",
            "------\n",
            "\n",
            "Target:1, Pred: 0.0, Prob: 0.05551180988550186\n",
            "Text: \n",
            "You can never escape me. Bullets don't harm me. Nothing harms me. But I know pain. I know pain. Sometimes I share it. With someone like you.\n",
            "\n",
            "------\n",
            "\n",
            "Target:1, Pred: 0.0, Prob: 0.052822135388851166\n",
            "Text: \n",
            "@willienelson We need help! Horses will die!Please RT &amp; sign petition!Take a stand &amp; be a voice for them! #gilbert23 https://t.co/e8dl1lNCVu\n",
            "\n",
            "------\n",
            "\n",
            "Target:1, Pred: 0.0, Prob: 0.04726378619670868\n",
            "Text: \n",
            "I get to smoke my shit in peace\n",
            "\n",
            "------\n",
            "\n",
            "Target:1, Pred: 0.0, Prob: 0.041224826127290726\n",
            "Text: \n",
            "Reddit Will Now QuarantineÛ_ http://t.co/pkUAMXw6pm #onlinecommunities #reddit #amageddon #freespeech #Business http://t.co/PAWvNJ4sAP\n",
            "\n",
            "------\n",
            "\n",
            "Target:1, Pred: 0.0, Prob: 0.039248500019311905\n",
            "Text: \n",
            "@SoonerMagic_ I mean I'm a fan but I don't need a girl sounding off like a damn siren\n",
            "\n",
            "------\n",
            "\n",
            "Target:1, Pred: 0.0, Prob: 0.035116665065288544\n",
            "Text: \n",
            "Why are you deluged with low self-image? Take the quiz: http://t.co/XsPqdOrIqj http://t.co/CQYvFR4UCy\n",
            "\n",
            "------\n",
            "\n",
            "Target:1, Pred: 0.0, Prob: 0.02979704737663269\n",
            "Text: \n",
            "Ron &amp; Fez - Dave's High School Crush https://t.co/aN3W16c8F6 via @YouTube\n",
            "\n",
            "------\n",
            "\n"
          ]
        }
      ]
    },
    {
      "cell_type": "code",
      "source": [
        "test_df "
      ],
      "metadata": {
        "colab": {
          "base_uri": "https://localhost:8080/",
          "height": 423
        },
        "id": "iaC1YJxuhihv",
        "outputId": "06d382aa-9666-4336-ed4d-aaedfd82287f"
      },
      "execution_count": null,
      "outputs": [
        {
          "output_type": "execute_result",
          "data": {
            "text/plain": [
              "         id keyword location  \\\n",
              "0         0     NaN      NaN   \n",
              "1         2     NaN      NaN   \n",
              "2         3     NaN      NaN   \n",
              "3         9     NaN      NaN   \n",
              "4        11     NaN      NaN   \n",
              "...     ...     ...      ...   \n",
              "3258  10861     NaN      NaN   \n",
              "3259  10865     NaN      NaN   \n",
              "3260  10868     NaN      NaN   \n",
              "3261  10874     NaN      NaN   \n",
              "3262  10875     NaN      NaN   \n",
              "\n",
              "                                                   text  \n",
              "0                    Just happened a terrible car crash  \n",
              "1     Heard about #earthquake is different cities, s...  \n",
              "2     there is a forest fire at spot pond, geese are...  \n",
              "3              Apocalypse lighting. #Spokane #wildfires  \n",
              "4         Typhoon Soudelor kills 28 in China and Taiwan  \n",
              "...                                                 ...  \n",
              "3258  EARTHQUAKE SAFETY LOS ANGELES ÛÒ SAFETY FASTE...  \n",
              "3259  Storm in RI worse than last hurricane. My city...  \n",
              "3260  Green Line derailment in Chicago http://t.co/U...  \n",
              "3261  MEG issues Hazardous Weather Outlook (HWO) htt...  \n",
              "3262  #CityofCalgary has activated its Municipal Eme...  \n",
              "\n",
              "[3263 rows x 4 columns]"
            ],
            "text/html": [
              "\n",
              "  <div id=\"df-cf69ca02-9db3-4b83-b548-be752c9ba3a6\">\n",
              "    <div class=\"colab-df-container\">\n",
              "      <div>\n",
              "<style scoped>\n",
              "    .dataframe tbody tr th:only-of-type {\n",
              "        vertical-align: middle;\n",
              "    }\n",
              "\n",
              "    .dataframe tbody tr th {\n",
              "        vertical-align: top;\n",
              "    }\n",
              "\n",
              "    .dataframe thead th {\n",
              "        text-align: right;\n",
              "    }\n",
              "</style>\n",
              "<table border=\"1\" class=\"dataframe\">\n",
              "  <thead>\n",
              "    <tr style=\"text-align: right;\">\n",
              "      <th></th>\n",
              "      <th>id</th>\n",
              "      <th>keyword</th>\n",
              "      <th>location</th>\n",
              "      <th>text</th>\n",
              "    </tr>\n",
              "  </thead>\n",
              "  <tbody>\n",
              "    <tr>\n",
              "      <th>0</th>\n",
              "      <td>0</td>\n",
              "      <td>NaN</td>\n",
              "      <td>NaN</td>\n",
              "      <td>Just happened a terrible car crash</td>\n",
              "    </tr>\n",
              "    <tr>\n",
              "      <th>1</th>\n",
              "      <td>2</td>\n",
              "      <td>NaN</td>\n",
              "      <td>NaN</td>\n",
              "      <td>Heard about #earthquake is different cities, s...</td>\n",
              "    </tr>\n",
              "    <tr>\n",
              "      <th>2</th>\n",
              "      <td>3</td>\n",
              "      <td>NaN</td>\n",
              "      <td>NaN</td>\n",
              "      <td>there is a forest fire at spot pond, geese are...</td>\n",
              "    </tr>\n",
              "    <tr>\n",
              "      <th>3</th>\n",
              "      <td>9</td>\n",
              "      <td>NaN</td>\n",
              "      <td>NaN</td>\n",
              "      <td>Apocalypse lighting. #Spokane #wildfires</td>\n",
              "    </tr>\n",
              "    <tr>\n",
              "      <th>4</th>\n",
              "      <td>11</td>\n",
              "      <td>NaN</td>\n",
              "      <td>NaN</td>\n",
              "      <td>Typhoon Soudelor kills 28 in China and Taiwan</td>\n",
              "    </tr>\n",
              "    <tr>\n",
              "      <th>...</th>\n",
              "      <td>...</td>\n",
              "      <td>...</td>\n",
              "      <td>...</td>\n",
              "      <td>...</td>\n",
              "    </tr>\n",
              "    <tr>\n",
              "      <th>3258</th>\n",
              "      <td>10861</td>\n",
              "      <td>NaN</td>\n",
              "      <td>NaN</td>\n",
              "      <td>EARTHQUAKE SAFETY LOS ANGELES ÛÒ SAFETY FASTE...</td>\n",
              "    </tr>\n",
              "    <tr>\n",
              "      <th>3259</th>\n",
              "      <td>10865</td>\n",
              "      <td>NaN</td>\n",
              "      <td>NaN</td>\n",
              "      <td>Storm in RI worse than last hurricane. My city...</td>\n",
              "    </tr>\n",
              "    <tr>\n",
              "      <th>3260</th>\n",
              "      <td>10868</td>\n",
              "      <td>NaN</td>\n",
              "      <td>NaN</td>\n",
              "      <td>Green Line derailment in Chicago http://t.co/U...</td>\n",
              "    </tr>\n",
              "    <tr>\n",
              "      <th>3261</th>\n",
              "      <td>10874</td>\n",
              "      <td>NaN</td>\n",
              "      <td>NaN</td>\n",
              "      <td>MEG issues Hazardous Weather Outlook (HWO) htt...</td>\n",
              "    </tr>\n",
              "    <tr>\n",
              "      <th>3262</th>\n",
              "      <td>10875</td>\n",
              "      <td>NaN</td>\n",
              "      <td>NaN</td>\n",
              "      <td>#CityofCalgary has activated its Municipal Eme...</td>\n",
              "    </tr>\n",
              "  </tbody>\n",
              "</table>\n",
              "<p>3263 rows × 4 columns</p>\n",
              "</div>\n",
              "      <button class=\"colab-df-convert\" onclick=\"convertToInteractive('df-cf69ca02-9db3-4b83-b548-be752c9ba3a6')\"\n",
              "              title=\"Convert this dataframe to an interactive table.\"\n",
              "              style=\"display:none;\">\n",
              "        \n",
              "  <svg xmlns=\"http://www.w3.org/2000/svg\" height=\"24px\"viewBox=\"0 0 24 24\"\n",
              "       width=\"24px\">\n",
              "    <path d=\"M0 0h24v24H0V0z\" fill=\"none\"/>\n",
              "    <path d=\"M18.56 5.44l.94 2.06.94-2.06 2.06-.94-2.06-.94-.94-2.06-.94 2.06-2.06.94zm-11 1L8.5 8.5l.94-2.06 2.06-.94-2.06-.94L8.5 2.5l-.94 2.06-2.06.94zm10 10l.94 2.06.94-2.06 2.06-.94-2.06-.94-.94-2.06-.94 2.06-2.06.94z\"/><path d=\"M17.41 7.96l-1.37-1.37c-.4-.4-.92-.59-1.43-.59-.52 0-1.04.2-1.43.59L10.3 9.45l-7.72 7.72c-.78.78-.78 2.05 0 2.83L4 21.41c.39.39.9.59 1.41.59.51 0 1.02-.2 1.41-.59l7.78-7.78 2.81-2.81c.8-.78.8-2.07 0-2.86zM5.41 20L4 18.59l7.72-7.72 1.47 1.35L5.41 20z\"/>\n",
              "  </svg>\n",
              "      </button>\n",
              "      \n",
              "  <style>\n",
              "    .colab-df-container {\n",
              "      display:flex;\n",
              "      flex-wrap:wrap;\n",
              "      gap: 12px;\n",
              "    }\n",
              "\n",
              "    .colab-df-convert {\n",
              "      background-color: #E8F0FE;\n",
              "      border: none;\n",
              "      border-radius: 50%;\n",
              "      cursor: pointer;\n",
              "      display: none;\n",
              "      fill: #1967D2;\n",
              "      height: 32px;\n",
              "      padding: 0 0 0 0;\n",
              "      width: 32px;\n",
              "    }\n",
              "\n",
              "    .colab-df-convert:hover {\n",
              "      background-color: #E2EBFA;\n",
              "      box-shadow: 0px 1px 2px rgba(60, 64, 67, 0.3), 0px 1px 3px 1px rgba(60, 64, 67, 0.15);\n",
              "      fill: #174EA6;\n",
              "    }\n",
              "\n",
              "    [theme=dark] .colab-df-convert {\n",
              "      background-color: #3B4455;\n",
              "      fill: #D2E3FC;\n",
              "    }\n",
              "\n",
              "    [theme=dark] .colab-df-convert:hover {\n",
              "      background-color: #434B5C;\n",
              "      box-shadow: 0px 1px 3px 1px rgba(0, 0, 0, 0.15);\n",
              "      filter: drop-shadow(0px 1px 2px rgba(0, 0, 0, 0.3));\n",
              "      fill: #FFFFFF;\n",
              "    }\n",
              "  </style>\n",
              "\n",
              "      <script>\n",
              "        const buttonEl =\n",
              "          document.querySelector('#df-cf69ca02-9db3-4b83-b548-be752c9ba3a6 button.colab-df-convert');\n",
              "        buttonEl.style.display =\n",
              "          google.colab.kernel.accessAllowed ? 'block' : 'none';\n",
              "\n",
              "        async function convertToInteractive(key) {\n",
              "          const element = document.querySelector('#df-cf69ca02-9db3-4b83-b548-be752c9ba3a6');\n",
              "          const dataTable =\n",
              "            await google.colab.kernel.invokeFunction('convertToInteractive',\n",
              "                                                     [key], {});\n",
              "          if (!dataTable) return;\n",
              "\n",
              "          const docLinkHtml = 'Like what you see? Visit the ' +\n",
              "            '<a target=\"_blank\" href=https://colab.research.google.com/notebooks/data_table.ipynb>data table notebook</a>'\n",
              "            + ' to learn more about interactive tables.';\n",
              "          element.innerHTML = '';\n",
              "          dataTable['output_type'] = 'display_data';\n",
              "          await google.colab.output.renderOutput(dataTable, element);\n",
              "          const docLink = document.createElement('div');\n",
              "          docLink.innerHTML = docLinkHtml;\n",
              "          element.appendChild(docLink);\n",
              "        }\n",
              "      </script>\n",
              "    </div>\n",
              "  </div>\n",
              "  "
            ]
          },
          "metadata": {},
          "execution_count": 134
        }
      ]
    },
    {
      "cell_type": "markdown",
      "source": [
        "## Making predictions on the test dataset"
      ],
      "metadata": {
        "id": "hd5SJF_U-Zd2"
      }
    },
    {
      "cell_type": "code",
      "source": [
        "# Making predictions on the test dataset and visualising them\n",
        "\n",
        "test_sentences = test_df['text'].to_list()\n",
        "test_samples = random.sample(test_sentences, 10)\n",
        "\n",
        "for test_sample in test_samples:\n",
        "  pred_prob = tf.squeeze(model_6.predict([test_sample]))\n",
        "  pred = tf.round(pred_prob)\n",
        "  print(f'Pred:{int(pred)}, Prob:{pred_prob}')\n",
        "  print(f'Text:\\n{test_sample}\\n')\n",
        "  print(f'------\\n')"
      ],
      "metadata": {
        "colab": {
          "base_uri": "https://localhost:8080/"
        },
        "id": "KeYreQQc-efL",
        "outputId": "97ce5ec7-4236-4a4a-87a0-fd4d0a034834"
      },
      "execution_count": null,
      "outputs": [
        {
          "output_type": "stream",
          "name": "stdout",
          "text": [
            "Pred:1, Prob:0.949220597743988\n",
            "Text:\n",
            "The Latest: More Homes Razed by Northern California Wildfire - ABC News http://t.co/ATokCD74bA\n",
            "\n",
            "------\n",
            "\n",
            "Pred:1, Prob:0.6587494611740112\n",
            "Text:\n",
            "Photoset: hookier: New stills from The Dust Storm (x) http://t.co/h8YjcFG8hv\n",
            "\n",
            "------\n",
            "\n",
            "Pred:0, Prob:0.11415968835353851\n",
            "Text:\n",
            "Bloody nurses waking me up just when I eventually fall asleep lol #Hospital\n",
            "\n",
            "------\n",
            "\n",
            "Pred:1, Prob:0.9823669195175171\n",
            "Text:\n",
            "Officer Wounded Suspect Killed in Exchange of Gunfire http://t.co/HHSjnAVHUA\n",
            "\n",
            "------\n",
            "\n",
            "Pred:0, Prob:0.30570825934410095\n",
            "Text:\n",
            "Texas Seeks Comment on Rules for Changes to Windstorm Insurer http://t.co/SDZLVBiFbN\n",
            "\n",
            "------\n",
            "\n",
            "Pred:1, Prob:0.9837618470191956\n",
            "Text:\n",
            "Deadly suicide bombing hits mosque in Saudi Arabia: A suicide bomber has blown himself up at a mosque in the s... http://t.co/RkvU3xjAzH\n",
            "\n",
            "------\n",
            "\n",
            "Pred:1, Prob:0.5161922574043274\n",
            "Text:\n",
            "That stadium blew up!!\n",
            "\n",
            "------\n",
            "\n",
            "Pred:1, Prob:0.9275608658790588\n",
            "Text:\n",
            "Grandma's friends survived to the attack in Hiroshima but they died with cancer when kids/teenagers??\n",
            "#BombEffects\n",
            "\n",
            "------\n",
            "\n",
            "Pred:0, Prob:0.10345645993947983\n",
            "Text:\n",
            "Sitting in my room the whole time in vegas to stay out of trouble\n",
            "\n",
            "------\n",
            "\n",
            "Pred:0, Prob:0.3258037269115448\n",
            "Text:\n",
            "Swansea ?plot hijack transfer move for Southampton target Virgil van Dijk? http://t.co/PYL26NFEn8\n",
            "\n",
            "------\n",
            "\n"
          ]
        }
      ]
    },
    {
      "cell_type": "code",
      "source": [
        "test_sample.s"
      ],
      "metadata": {
        "colab": {
          "base_uri": "https://localhost:8080/",
          "height": 36
        },
        "id": "8wS49HljAAkW",
        "outputId": "6e34aa9f-dfcc-483a-e5ae-4651d96cd1e2"
      },
      "execution_count": null,
      "outputs": [
        {
          "output_type": "execute_result",
          "data": {
            "text/plain": [
              "'Swansea ?plot hijack transfer move for Southampton target Virgil van Dijk? http://t.co/PYL26NFEn8'"
            ],
            "application/vnd.google.colaboratory.intrinsic+json": {
              "type": "string"
            }
          },
          "metadata": {},
          "execution_count": 139
        }
      ]
    },
    {
      "cell_type": "code",
      "source": [
        "model_6.predict(['The Tsuanmi wiped the entire state off the map'])"
      ],
      "metadata": {
        "colab": {
          "base_uri": "https://localhost:8080/"
        },
        "id": "ONUz3pojC7y-",
        "outputId": "b404ddb2-4286-4425-9a74-5d47d18db5c3"
      },
      "execution_count": null,
      "outputs": [
        {
          "output_type": "execute_result",
          "data": {
            "text/plain": [
              "array([[0.8837686]], dtype=float32)"
            ]
          },
          "metadata": {},
          "execution_count": 174
        }
      ]
    },
    {
      "cell_type": "markdown",
      "source": [
        "\n",
        "##The speed/score tradeoff"
      ],
      "metadata": {
        "id": "NaHIQlW8D5hG"
      }
    },
    {
      "cell_type": "code",
      "source": [
        "# Lets make a functin to measure the time of prediction\n",
        "\n",
        "import time\n",
        "\n",
        "def pred_timer(model, samples):\n",
        "  start_time = time.perf_counter()\n",
        "  model.predict(samples)\n",
        "  end_time = time.perf_counter()\n",
        "  total_time = end_time-start_time\n",
        "  time_per_pred = total_time/len(samples)\n",
        "  return total_time, time_per_pred"
      ],
      "metadata": {
        "id": "WQV4Ic2RD75d"
      },
      "execution_count": null,
      "outputs": []
    },
    {
      "cell_type": "code",
      "source": [
        "# Calculate TF hub time per pred\n",
        "\n",
        "model_6_total_pred_time, model_6_time_per_pred = pred_timer(model = model_6,\n",
        "                                                            samples = val_sentences)\n",
        "\n",
        "model_6_total_pred_time, model_6_time_per_pred"
      ],
      "metadata": {
        "colab": {
          "base_uri": "https://localhost:8080/"
        },
        "id": "K4jFAttOFAYW",
        "outputId": "a1f9c943-b0a9-41a0-d892-976448b54e6d"
      },
      "execution_count": null,
      "outputs": [
        {
          "output_type": "execute_result",
          "data": {
            "text/plain": [
              "(0.25336707000042225, 0.0003325027165359872)"
            ]
          },
          "metadata": {},
          "execution_count": 158
        }
      ]
    },
    {
      "cell_type": "code",
      "source": [
        "baseline_total_pred_time, baseline_time_per_pred = pred_timer(model_0, val_sentences)\n",
        "baseline_total_pred_time, baseline_time_per_pred"
      ],
      "metadata": {
        "colab": {
          "base_uri": "https://localhost:8080/"
        },
        "id": "qreJ2LIMK3ih",
        "outputId": "89245ece-4900-431d-ac24-295c38caca19"
      },
      "execution_count": null,
      "outputs": [
        {
          "output_type": "execute_result",
          "data": {
            "text/plain": [
              "(0.035990153000057035, 4.7231171916085347e-05)"
            ]
          },
          "metadata": {},
          "execution_count": 161
        }
      ]
    },
    {
      "cell_type": "code",
      "source": [
        "# Get results for pretrained GS model\n",
        "\n",
        "import matplotlib.pyplot as plt\n",
        "plt.figure(figsize = (10, 7))\n",
        "plt.scatter(baseline_time_per_pred, baseline_results['f1'], label = 'baseline')\n",
        "plt.scatter(model_6_time_per_pred, model_6_results['f1'], label = 'tf_hub')\n",
        "plt.xlabel('Time Per prediction')\n",
        "plt.ylabel('F1 Score')\n",
        "plt.title('F1-Socre verus time per prediction')\n",
        "plt.legend()"
      ],
      "metadata": {
        "colab": {
          "base_uri": "https://localhost:8080/",
          "height": 476
        },
        "id": "TJ0645IyJ72E",
        "outputId": "4875420f-047c-4d31-d53a-c8effb80b68f"
      },
      "execution_count": null,
      "outputs": [
        {
          "output_type": "execute_result",
          "data": {
            "text/plain": [
              "<matplotlib.legend.Legend at 0x7f52954ad510>"
            ]
          },
          "metadata": {},
          "execution_count": 167
        },
        {
          "output_type": "display_data",
          "data": {
            "text/plain": [
              "<Figure size 720x504 with 1 Axes>"
            ],
            "image/png": "[encoded data removed]"
          },
          "metadata": {
            "needs_background": "light"
          }
        }
      ]
    },
    {
      "cell_type": "code",
      "source": [],
      "metadata": {
        "id": "OtUInmRlLOeX"
      },
      "execution_count": null,
      "outputs": []
    }
  ]
}