{
  "nbformat": 4,
  "nbformat_minor": 0,
  "metadata": {
    "colab": {
      "provenance": [],
      "authorship_tag": "ABX9TyP+P1QVeFax96GNYEOGYtJq",
      "include_colab_link": true
    },
    "kernelspec": {
      "name": "python3",
      "display_name": "Python 3"
    },
    "language_info": {
      "name": "python"
    },
    "accelerator": "GPU",
    "gpuClass": "standard"
  },
  "cells": [
    {
      "cell_type": "markdown",
      "metadata": {
        "id": "view-in-github",
        "colab_type": "text"
      },
      "source": [
        "<a href=\"https://colab.research.google.com/github/greygrease/tf-stuff/blob/main/08_introduction_to_nlp_in_tensorflow.ipynb\" target=\"_parent\"><img src=\"https://colab.research.google.com/assets/colab-badge.svg\" alt=\"Open In Colab\"/></a>"
      ]
    },
    {
      "cell_type": "markdown",
      "source": [
        "# Introdunction to NLP in Tensorlfow\n",
        "\n",
        "NLP has the goal of deriving information our of natural language (text or speech)\n",
        "\n",
        "Commom NLP problems are sequence to sequence problems (seq2seq)"
      ],
      "metadata": {
        "id": "91I8CyMPjAlP"
      }
    },
    {
      "cell_type": "markdown",
      "source": [
        "## Get helper function"
      ],
      "metadata": {
        "id": "xspyKvc_O786"
      }
    },
    {
      "cell_type": "code",
      "source": [
        "!wget https://raw.githubusercontent.com/mrdbourke/tensorflow-deep-learning/main/extras/helper_functions.py"
      ],
      "metadata": {
        "colab": {
          "base_uri": "https://localhost:8080/"
        },
        "id": "WUbe01vJPDl7",
        "outputId": "fe3a21ee-03ea-44b6-e1f0-28a2b44a759f"
      },
      "execution_count": 1,
      "outputs": [
        {
          "output_type": "stream",
          "name": "stdout",
          "text": [
            "--2022-09-12 18:23:59--  https://raw.githubusercontent.com/mrdbourke/tensorflow-deep-learning/main/extras/helper_functions.py\n",
            "Resolving raw.githubusercontent.com (raw.githubusercontent.com)... 185.199.108.133, 185.199.109.133, 185.199.110.133, ...\n",
            "Connecting to raw.githubusercontent.com (raw.githubusercontent.com)|185.199.108.133|:443... connected.\n",
            "HTTP request sent, awaiting response... 200 OK\n",
            "Length: 10246 (10K) [text/plain]\n",
            "Saving to: ‘helper_functions.py’\n",
            "\n",
            "helper_functions.py 100%[===================>]  10.01K  --.-KB/s    in 0s      \n",
            "\n",
            "2022-09-12 18:23:59 (110 MB/s) - ‘helper_functions.py’ saved [10246/10246]\n",
            "\n"
          ]
        }
      ]
    },
    {
      "cell_type": "code",
      "source": [
        "# Import series of helper function for the notebook\n",
        "\n",
        "from helper_functions import unzip_data, create_tensorboard_callback,compare_historys, plot_loss_curves"
      ],
      "metadata": {
        "id": "Ce0EfsV6PM8I"
      },
      "execution_count": 2,
      "outputs": []
    },
    {
      "cell_type": "markdown",
      "source": [
        "## Get a text dataset\n",
        "Kaggle's Introdunction to NLP dataset\n",
        "\n"
      ],
      "metadata": {
        "id": "0BahqaqXPXrr"
      }
    },
    {
      "cell_type": "code",
      "source": [
        "!wget https://storage.googleapis.com/ztm_tf_course/nlp_getting_started.zip"
      ],
      "metadata": {
        "colab": {
          "base_uri": "https://localhost:8080/"
        },
        "id": "vvRsnao_QJJP",
        "outputId": "ce60e764-9fb8-426f-9ce4-dc7b9820c9a0"
      },
      "execution_count": 3,
      "outputs": [
        {
          "output_type": "stream",
          "name": "stdout",
          "text": [
            "--2022-09-12 18:24:02--  https://storage.googleapis.com/ztm_tf_course/nlp_getting_started.zip\n",
            "Resolving storage.googleapis.com (storage.googleapis.com)... 74.125.68.128, 74.125.24.128, 172.217.194.128, ...\n",
            "Connecting to storage.googleapis.com (storage.googleapis.com)|74.125.68.128|:443... connected.\n",
            "HTTP request sent, awaiting response... 200 OK\n",
            "Length: 607343 (593K) [application/zip]\n",
            "Saving to: ‘nlp_getting_started.zip’\n",
            "\n",
            "nlp_getting_started 100%[===================>] 593.11K  --.-KB/s    in 0.008s  \n",
            "\n",
            "2022-09-12 18:24:02 (77.0 MB/s) - ‘nlp_getting_started.zip’ saved [607343/607343]\n",
            "\n"
          ]
        }
      ]
    },
    {
      "cell_type": "code",
      "source": [
        "# Unzip data\n",
        "\n",
        "unzip_data('nlp_getting_started.zip')"
      ],
      "metadata": {
        "id": "Yid-4ph0QKxb"
      },
      "execution_count": 4,
      "outputs": []
    },
    {
      "cell_type": "markdown",
      "source": [
        "## Visualize a text dataset"
      ],
      "metadata": {
        "id": "q_TH2BlXQS2q"
      }
    },
    {
      "cell_type": "code",
      "source": [
        "import pandas as pd\n",
        "\n",
        "train_df = pd.read_csv('train.csv')\n",
        "test_df = pd.read_csv('test.csv')"
      ],
      "metadata": {
        "id": "CT-qUCmeSker"
      },
      "execution_count": 5,
      "outputs": []
    },
    {
      "cell_type": "code",
      "source": [
        "train_df.head()"
      ],
      "metadata": {
        "colab": {
          "base_uri": "https://localhost:8080/",
          "height": 206
        },
        "id": "_MWXR41HTCp5",
        "outputId": "e417c052-483d-473b-8041-de494bc83f75"
      },
      "execution_count": 6,
      "outputs": [
        {
          "output_type": "execute_result",
          "data": {
            "text/plain": [
              "   id keyword location                                               text  \\\n",
              "0   1     NaN      NaN  Our Deeds are the Reason of this #earthquake M...   \n",
              "1   4     NaN      NaN             Forest fire near La Ronge Sask. Canada   \n",
              "2   5     NaN      NaN  All residents asked to 'shelter in place' are ...   \n",
              "3   6     NaN      NaN  13,000 people receive #wildfires evacuation or...   \n",
              "4   7     NaN      NaN  Just got sent this photo from Ruby #Alaska as ...   \n",
              "\n",
              "   target  \n",
              "0       1  \n",
              "1       1  \n",
              "2       1  \n",
              "3       1  \n",
              "4       1  "
            ],
            "text/html": [
              "\n",
              "  <div id=\"df-e70ce673-152c-4f28-a868-e56cd036c0ff\">\n",
              "    <div class=\"colab-df-container\">\n",
              "      <div>\n",
              "<style scoped>\n",
              "    .dataframe tbody tr th:only-of-type {\n",
              "        vertical-align: middle;\n",
              "    }\n",
              "\n",
              "    .dataframe tbody tr th {\n",
              "        vertical-align: top;\n",
              "    }\n",
              "\n",
              "    .dataframe thead th {\n",
              "        text-align: right;\n",
              "    }\n",
              "</style>\n",
              "<table border=\"1\" class=\"dataframe\">\n",
              "  <thead>\n",
              "    <tr style=\"text-align: right;\">\n",
              "      <th></th>\n",
              "      <th>id</th>\n",
              "      <th>keyword</th>\n",
              "      <th>location</th>\n",
              "      <th>text</th>\n",
              "      <th>target</th>\n",
              "    </tr>\n",
              "  </thead>\n",
              "  <tbody>\n",
              "    <tr>\n",
              "      <th>0</th>\n",
              "      <td>1</td>\n",
              "      <td>NaN</td>\n",
              "      <td>NaN</td>\n",
              "      <td>Our Deeds are the Reason of this #earthquake M...</td>\n",
              "      <td>1</td>\n",
              "    </tr>\n",
              "    <tr>\n",
              "      <th>1</th>\n",
              "      <td>4</td>\n",
              "      <td>NaN</td>\n",
              "      <td>NaN</td>\n",
              "      <td>Forest fire near La Ronge Sask. Canada</td>\n",
              "      <td>1</td>\n",
              "    </tr>\n",
              "    <tr>\n",
              "      <th>2</th>\n",
              "      <td>5</td>\n",
              "      <td>NaN</td>\n",
              "      <td>NaN</td>\n",
              "      <td>All residents asked to 'shelter in place' are ...</td>\n",
              "      <td>1</td>\n",
              "    </tr>\n",
              "    <tr>\n",
              "      <th>3</th>\n",
              "      <td>6</td>\n",
              "      <td>NaN</td>\n",
              "      <td>NaN</td>\n",
              "      <td>13,000 people receive #wildfires evacuation or...</td>\n",
              "      <td>1</td>\n",
              "    </tr>\n",
              "    <tr>\n",
              "      <th>4</th>\n",
              "      <td>7</td>\n",
              "      <td>NaN</td>\n",
              "      <td>NaN</td>\n",
              "      <td>Just got sent this photo from Ruby #Alaska as ...</td>\n",
              "      <td>1</td>\n",
              "    </tr>\n",
              "  </tbody>\n",
              "</table>\n",
              "</div>\n",
              "      <button class=\"colab-df-convert\" onclick=\"convertToInteractive('df-e70ce673-152c-4f28-a868-e56cd036c0ff')\"\n",
              "              title=\"Convert this dataframe to an interactive table.\"\n",
              "              style=\"display:none;\">\n",
              "        \n",
              "  <svg xmlns=\"http://www.w3.org/2000/svg\" height=\"24px\"viewBox=\"0 0 24 24\"\n",
              "       width=\"24px\">\n",
              "    <path d=\"M0 0h24v24H0V0z\" fill=\"none\"/>\n",
              "    <path d=\"M18.56 5.44l.94 2.06.94-2.06 2.06-.94-2.06-.94-.94-2.06-.94 2.06-2.06.94zm-11 1L8.5 8.5l.94-2.06 2.06-.94-2.06-.94L8.5 2.5l-.94 2.06-2.06.94zm10 10l.94 2.06.94-2.06 2.06-.94-2.06-.94-.94-2.06-.94 2.06-2.06.94z\"/><path d=\"M17.41 7.96l-1.37-1.37c-.4-.4-.92-.59-1.43-.59-.52 0-1.04.2-1.43.59L10.3 9.45l-7.72 7.72c-.78.78-.78 2.05 0 2.83L4 21.41c.39.39.9.59 1.41.59.51 0 1.02-.2 1.41-.59l7.78-7.78 2.81-2.81c.8-.78.8-2.07 0-2.86zM5.41 20L4 18.59l7.72-7.72 1.47 1.35L5.41 20z\"/>\n",
              "  </svg>\n",
              "      </button>\n",
              "      \n",
              "  <style>\n",
              "    .colab-df-container {\n",
              "      display:flex;\n",
              "      flex-wrap:wrap;\n",
              "      gap: 12px;\n",
              "    }\n",
              "\n",
              "    .colab-df-convert {\n",
              "      background-color: #E8F0FE;\n",
              "      border: none;\n",
              "      border-radius: 50%;\n",
              "      cursor: pointer;\n",
              "      display: none;\n",
              "      fill: #1967D2;\n",
              "      height: 32px;\n",
              "      padding: 0 0 0 0;\n",
              "      width: 32px;\n",
              "    }\n",
              "\n",
              "    .colab-df-convert:hover {\n",
              "      background-color: #E2EBFA;\n",
              "      box-shadow: 0px 1px 2px rgba(60, 64, 67, 0.3), 0px 1px 3px 1px rgba(60, 64, 67, 0.15);\n",
              "      fill: #174EA6;\n",
              "    }\n",
              "\n",
              "    [theme=dark] .colab-df-convert {\n",
              "      background-color: #3B4455;\n",
              "      fill: #D2E3FC;\n",
              "    }\n",
              "\n",
              "    [theme=dark] .colab-df-convert:hover {\n",
              "      background-color: #434B5C;\n",
              "      box-shadow: 0px 1px 3px 1px rgba(0, 0, 0, 0.15);\n",
              "      filter: drop-shadow(0px 1px 2px rgba(0, 0, 0, 0.3));\n",
              "      fill: #FFFFFF;\n",
              "    }\n",
              "  </style>\n",
              "\n",
              "      <script>\n",
              "        const buttonEl =\n",
              "          document.querySelector('#df-e70ce673-152c-4f28-a868-e56cd036c0ff button.colab-df-convert');\n",
              "        buttonEl.style.display =\n",
              "          google.colab.kernel.accessAllowed ? 'block' : 'none';\n",
              "\n",
              "        async function convertToInteractive(key) {\n",
              "          const element = document.querySelector('#df-e70ce673-152c-4f28-a868-e56cd036c0ff');\n",
              "          const dataTable =\n",
              "            await google.colab.kernel.invokeFunction('convertToInteractive',\n",
              "                                                     [key], {});\n",
              "          if (!dataTable) return;\n",
              "\n",
              "          const docLinkHtml = 'Like what you see? Visit the ' +\n",
              "            '<a target=\"_blank\" href=https://colab.research.google.com/notebooks/data_table.ipynb>data table notebook</a>'\n",
              "            + ' to learn more about interactive tables.';\n",
              "          element.innerHTML = '';\n",
              "          dataTable['output_type'] = 'display_data';\n",
              "          await google.colab.output.renderOutput(dataTable, element);\n",
              "          const docLink = document.createElement('div');\n",
              "          docLink.innerHTML = docLinkHtml;\n",
              "          element.appendChild(docLink);\n",
              "        }\n",
              "      </script>\n",
              "    </div>\n",
              "  </div>\n",
              "  "
            ]
          },
          "metadata": {},
          "execution_count": 6
        }
      ]
    },
    {
      "cell_type": "code",
      "source": [
        "test_df.head()"
      ],
      "metadata": {
        "colab": {
          "base_uri": "https://localhost:8080/",
          "height": 206
        },
        "id": "p2AXOpzPfikM",
        "outputId": "d1d67adf-6451-4730-ae37-1400aa19fb96"
      },
      "execution_count": 7,
      "outputs": [
        {
          "output_type": "execute_result",
          "data": {
            "text/plain": [
              "   id keyword location                                               text\n",
              "0   0     NaN      NaN                 Just happened a terrible car crash\n",
              "1   2     NaN      NaN  Heard about #earthquake is different cities, s...\n",
              "2   3     NaN      NaN  there is a forest fire at spot pond, geese are...\n",
              "3   9     NaN      NaN           Apocalypse lighting. #Spokane #wildfires\n",
              "4  11     NaN      NaN      Typhoon Soudelor kills 28 in China and Taiwan"
            ],
            "text/html": [
              "\n",
              "  <div id=\"df-d27fe1d0-5976-400f-b242-ed9f4d480794\">\n",
              "    <div class=\"colab-df-container\">\n",
              "      <div>\n",
              "<style scoped>\n",
              "    .dataframe tbody tr th:only-of-type {\n",
              "        vertical-align: middle;\n",
              "    }\n",
              "\n",
              "    .dataframe tbody tr th {\n",
              "        vertical-align: top;\n",
              "    }\n",
              "\n",
              "    .dataframe thead th {\n",
              "        text-align: right;\n",
              "    }\n",
              "</style>\n",
              "<table border=\"1\" class=\"dataframe\">\n",
              "  <thead>\n",
              "    <tr style=\"text-align: right;\">\n",
              "      <th></th>\n",
              "      <th>id</th>\n",
              "      <th>keyword</th>\n",
              "      <th>location</th>\n",
              "      <th>text</th>\n",
              "    </tr>\n",
              "  </thead>\n",
              "  <tbody>\n",
              "    <tr>\n",
              "      <th>0</th>\n",
              "      <td>0</td>\n",
              "      <td>NaN</td>\n",
              "      <td>NaN</td>\n",
              "      <td>Just happened a terrible car crash</td>\n",
              "    </tr>\n",
              "    <tr>\n",
              "      <th>1</th>\n",
              "      <td>2</td>\n",
              "      <td>NaN</td>\n",
              "      <td>NaN</td>\n",
              "      <td>Heard about #earthquake is different cities, s...</td>\n",
              "    </tr>\n",
              "    <tr>\n",
              "      <th>2</th>\n",
              "      <td>3</td>\n",
              "      <td>NaN</td>\n",
              "      <td>NaN</td>\n",
              "      <td>there is a forest fire at spot pond, geese are...</td>\n",
              "    </tr>\n",
              "    <tr>\n",
              "      <th>3</th>\n",
              "      <td>9</td>\n",
              "      <td>NaN</td>\n",
              "      <td>NaN</td>\n",
              "      <td>Apocalypse lighting. #Spokane #wildfires</td>\n",
              "    </tr>\n",
              "    <tr>\n",
              "      <th>4</th>\n",
              "      <td>11</td>\n",
              "      <td>NaN</td>\n",
              "      <td>NaN</td>\n",
              "      <td>Typhoon Soudelor kills 28 in China and Taiwan</td>\n",
              "    </tr>\n",
              "  </tbody>\n",
              "</table>\n",
              "</div>\n",
              "      <button class=\"colab-df-convert\" onclick=\"convertToInteractive('df-d27fe1d0-5976-400f-b242-ed9f4d480794')\"\n",
              "              title=\"Convert this dataframe to an interactive table.\"\n",
              "              style=\"display:none;\">\n",
              "        \n",
              "  <svg xmlns=\"http://www.w3.org/2000/svg\" height=\"24px\"viewBox=\"0 0 24 24\"\n",
              "       width=\"24px\">\n",
              "    <path d=\"M0 0h24v24H0V0z\" fill=\"none\"/>\n",
              "    <path d=\"M18.56 5.44l.94 2.06.94-2.06 2.06-.94-2.06-.94-.94-2.06-.94 2.06-2.06.94zm-11 1L8.5 8.5l.94-2.06 2.06-.94-2.06-.94L8.5 2.5l-.94 2.06-2.06.94zm10 10l.94 2.06.94-2.06 2.06-.94-2.06-.94-.94-2.06-.94 2.06-2.06.94z\"/><path d=\"M17.41 7.96l-1.37-1.37c-.4-.4-.92-.59-1.43-.59-.52 0-1.04.2-1.43.59L10.3 9.45l-7.72 7.72c-.78.78-.78 2.05 0 2.83L4 21.41c.39.39.9.59 1.41.59.51 0 1.02-.2 1.41-.59l7.78-7.78 2.81-2.81c.8-.78.8-2.07 0-2.86zM5.41 20L4 18.59l7.72-7.72 1.47 1.35L5.41 20z\"/>\n",
              "  </svg>\n",
              "      </button>\n",
              "      \n",
              "  <style>\n",
              "    .colab-df-container {\n",
              "      display:flex;\n",
              "      flex-wrap:wrap;\n",
              "      gap: 12px;\n",
              "    }\n",
              "\n",
              "    .colab-df-convert {\n",
              "      background-color: #E8F0FE;\n",
              "      border: none;\n",
              "      border-radius: 50%;\n",
              "      cursor: pointer;\n",
              "      display: none;\n",
              "      fill: #1967D2;\n",
              "      height: 32px;\n",
              "      padding: 0 0 0 0;\n",
              "      width: 32px;\n",
              "    }\n",
              "\n",
              "    .colab-df-convert:hover {\n",
              "      background-color: #E2EBFA;\n",
              "      box-shadow: 0px 1px 2px rgba(60, 64, 67, 0.3), 0px 1px 3px 1px rgba(60, 64, 67, 0.15);\n",
              "      fill: #174EA6;\n",
              "    }\n",
              "\n",
              "    [theme=dark] .colab-df-convert {\n",
              "      background-color: #3B4455;\n",
              "      fill: #D2E3FC;\n",
              "    }\n",
              "\n",
              "    [theme=dark] .colab-df-convert:hover {\n",
              "      background-color: #434B5C;\n",
              "      box-shadow: 0px 1px 3px 1px rgba(0, 0, 0, 0.15);\n",
              "      filter: drop-shadow(0px 1px 2px rgba(0, 0, 0, 0.3));\n",
              "      fill: #FFFFFF;\n",
              "    }\n",
              "  </style>\n",
              "\n",
              "      <script>\n",
              "        const buttonEl =\n",
              "          document.querySelector('#df-d27fe1d0-5976-400f-b242-ed9f4d480794 button.colab-df-convert');\n",
              "        buttonEl.style.display =\n",
              "          google.colab.kernel.accessAllowed ? 'block' : 'none';\n",
              "\n",
              "        async function convertToInteractive(key) {\n",
              "          const element = document.querySelector('#df-d27fe1d0-5976-400f-b242-ed9f4d480794');\n",
              "          const dataTable =\n",
              "            await google.colab.kernel.invokeFunction('convertToInteractive',\n",
              "                                                     [key], {});\n",
              "          if (!dataTable) return;\n",
              "\n",
              "          const docLinkHtml = 'Like what you see? Visit the ' +\n",
              "            '<a target=\"_blank\" href=https://colab.research.google.com/notebooks/data_table.ipynb>data table notebook</a>'\n",
              "            + ' to learn more about interactive tables.';\n",
              "          element.innerHTML = '';\n",
              "          dataTable['output_type'] = 'display_data';\n",
              "          await google.colab.output.renderOutput(dataTable, element);\n",
              "          const docLink = document.createElement('div');\n",
              "          docLink.innerHTML = docLinkHtml;\n",
              "          element.appendChild(docLink);\n",
              "        }\n",
              "      </script>\n",
              "    </div>\n",
              "  </div>\n",
              "  "
            ]
          },
          "metadata": {},
          "execution_count": 7
        }
      ]
    },
    {
      "cell_type": "code",
      "source": [
        "train_df_shuffled = train_df.sample(frac = 1, random_state = 42)\n",
        "train_df_shuffled.head()"
      ],
      "metadata": {
        "colab": {
          "base_uri": "https://localhost:8080/",
          "height": 337
        },
        "id": "hD-qtVfIUyhT",
        "outputId": "8553dd65-72c8-4366-8eb7-6d48885ea722"
      },
      "execution_count": 8,
      "outputs": [
        {
          "output_type": "execute_result",
          "data": {
            "text/plain": [
              "        id      keyword               location  \\\n",
              "2644  3796  destruction                    NaN   \n",
              "2227  3185       deluge                    NaN   \n",
              "5448  7769       police                     UK   \n",
              "132    191   aftershock                    NaN   \n",
              "6845  9810       trauma  Montgomery County, MD   \n",
              "\n",
              "                                                   text  target  \n",
              "2644  So you have a new weapon that can cause un-ima...       1  \n",
              "2227  The f$&amp;@ing things I do for #GISHWHES Just...       0  \n",
              "5448  DT @georgegalloway: RT @Galloway4Mayor: ÛÏThe...       1  \n",
              "132   Aftershock back to school kick off was great. ...       0  \n",
              "6845  in response to trauma Children of Addicts deve...       0  "
            ],
            "text/html": [
              "\n",
              "  <div id=\"df-e60a369d-a492-421c-98eb-b9a74585bf7a\">\n",
              "    <div class=\"colab-df-container\">\n",
              "      <div>\n",
              "<style scoped>\n",
              "    .dataframe tbody tr th:only-of-type {\n",
              "        vertical-align: middle;\n",
              "    }\n",
              "\n",
              "    .dataframe tbody tr th {\n",
              "        vertical-align: top;\n",
              "    }\n",
              "\n",
              "    .dataframe thead th {\n",
              "        text-align: right;\n",
              "    }\n",
              "</style>\n",
              "<table border=\"1\" class=\"dataframe\">\n",
              "  <thead>\n",
              "    <tr style=\"text-align: right;\">\n",
              "      <th></th>\n",
              "      <th>id</th>\n",
              "      <th>keyword</th>\n",
              "      <th>location</th>\n",
              "      <th>text</th>\n",
              "      <th>target</th>\n",
              "    </tr>\n",
              "  </thead>\n",
              "  <tbody>\n",
              "    <tr>\n",
              "      <th>2644</th>\n",
              "      <td>3796</td>\n",
              "      <td>destruction</td>\n",
              "      <td>NaN</td>\n",
              "      <td>So you have a new weapon that can cause un-ima...</td>\n",
              "      <td>1</td>\n",
              "    </tr>\n",
              "    <tr>\n",
              "      <th>2227</th>\n",
              "      <td>3185</td>\n",
              "      <td>deluge</td>\n",
              "      <td>NaN</td>\n",
              "      <td>The f$&amp;amp;@ing things I do for #GISHWHES Just...</td>\n",
              "      <td>0</td>\n",
              "    </tr>\n",
              "    <tr>\n",
              "      <th>5448</th>\n",
              "      <td>7769</td>\n",
              "      <td>police</td>\n",
              "      <td>UK</td>\n",
              "      <td>DT @georgegalloway: RT @Galloway4Mayor: ÛÏThe...</td>\n",
              "      <td>1</td>\n",
              "    </tr>\n",
              "    <tr>\n",
              "      <th>132</th>\n",
              "      <td>191</td>\n",
              "      <td>aftershock</td>\n",
              "      <td>NaN</td>\n",
              "      <td>Aftershock back to school kick off was great. ...</td>\n",
              "      <td>0</td>\n",
              "    </tr>\n",
              "    <tr>\n",
              "      <th>6845</th>\n",
              "      <td>9810</td>\n",
              "      <td>trauma</td>\n",
              "      <td>Montgomery County, MD</td>\n",
              "      <td>in response to trauma Children of Addicts deve...</td>\n",
              "      <td>0</td>\n",
              "    </tr>\n",
              "  </tbody>\n",
              "</table>\n",
              "</div>\n",
              "      <button class=\"colab-df-convert\" onclick=\"convertToInteractive('df-e60a369d-a492-421c-98eb-b9a74585bf7a')\"\n",
              "              title=\"Convert this dataframe to an interactive table.\"\n",
              "              style=\"display:none;\">\n",
              "        \n",
              "  <svg xmlns=\"http://www.w3.org/2000/svg\" height=\"24px\"viewBox=\"0 0 24 24\"\n",
              "       width=\"24px\">\n",
              "    <path d=\"M0 0h24v24H0V0z\" fill=\"none\"/>\n",
              "    <path d=\"M18.56 5.44l.94 2.06.94-2.06 2.06-.94-2.06-.94-.94-2.06-.94 2.06-2.06.94zm-11 1L8.5 8.5l.94-2.06 2.06-.94-2.06-.94L8.5 2.5l-.94 2.06-2.06.94zm10 10l.94 2.06.94-2.06 2.06-.94-2.06-.94-.94-2.06-.94 2.06-2.06.94z\"/><path d=\"M17.41 7.96l-1.37-1.37c-.4-.4-.92-.59-1.43-.59-.52 0-1.04.2-1.43.59L10.3 9.45l-7.72 7.72c-.78.78-.78 2.05 0 2.83L4 21.41c.39.39.9.59 1.41.59.51 0 1.02-.2 1.41-.59l7.78-7.78 2.81-2.81c.8-.78.8-2.07 0-2.86zM5.41 20L4 18.59l7.72-7.72 1.47 1.35L5.41 20z\"/>\n",
              "  </svg>\n",
              "      </button>\n",
              "      \n",
              "  <style>\n",
              "    .colab-df-container {\n",
              "      display:flex;\n",
              "      flex-wrap:wrap;\n",
              "      gap: 12px;\n",
              "    }\n",
              "\n",
              "    .colab-df-convert {\n",
              "      background-color: #E8F0FE;\n",
              "      border: none;\n",
              "      border-radius: 50%;\n",
              "      cursor: pointer;\n",
              "      display: none;\n",
              "      fill: #1967D2;\n",
              "      height: 32px;\n",
              "      padding: 0 0 0 0;\n",
              "      width: 32px;\n",
              "    }\n",
              "\n",
              "    .colab-df-convert:hover {\n",
              "      background-color: #E2EBFA;\n",
              "      box-shadow: 0px 1px 2px rgba(60, 64, 67, 0.3), 0px 1px 3px 1px rgba(60, 64, 67, 0.15);\n",
              "      fill: #174EA6;\n",
              "    }\n",
              "\n",
              "    [theme=dark] .colab-df-convert {\n",
              "      background-color: #3B4455;\n",
              "      fill: #D2E3FC;\n",
              "    }\n",
              "\n",
              "    [theme=dark] .colab-df-convert:hover {\n",
              "      background-color: #434B5C;\n",
              "      box-shadow: 0px 1px 3px 1px rgba(0, 0, 0, 0.15);\n",
              "      filter: drop-shadow(0px 1px 2px rgba(0, 0, 0, 0.3));\n",
              "      fill: #FFFFFF;\n",
              "    }\n",
              "  </style>\n",
              "\n",
              "      <script>\n",
              "        const buttonEl =\n",
              "          document.querySelector('#df-e60a369d-a492-421c-98eb-b9a74585bf7a button.colab-df-convert');\n",
              "        buttonEl.style.display =\n",
              "          google.colab.kernel.accessAllowed ? 'block' : 'none';\n",
              "\n",
              "        async function convertToInteractive(key) {\n",
              "          const element = document.querySelector('#df-e60a369d-a492-421c-98eb-b9a74585bf7a');\n",
              "          const dataTable =\n",
              "            await google.colab.kernel.invokeFunction('convertToInteractive',\n",
              "                                                     [key], {});\n",
              "          if (!dataTable) return;\n",
              "\n",
              "          const docLinkHtml = 'Like what you see? Visit the ' +\n",
              "            '<a target=\"_blank\" href=https://colab.research.google.com/notebooks/data_table.ipynb>data table notebook</a>'\n",
              "            + ' to learn more about interactive tables.';\n",
              "          element.innerHTML = '';\n",
              "          dataTable['output_type'] = 'display_data';\n",
              "          await google.colab.output.renderOutput(dataTable, element);\n",
              "          const docLink = document.createElement('div');\n",
              "          docLink.innerHTML = docLinkHtml;\n",
              "          element.appendChild(docLink);\n",
              "        }\n",
              "      </script>\n",
              "    </div>\n",
              "  </div>\n",
              "  "
            ]
          },
          "metadata": {},
          "execution_count": 8
        }
      ]
    },
    {
      "cell_type": "code",
      "source": [
        "train_df.target.value_counts()"
      ],
      "metadata": {
        "colab": {
          "base_uri": "https://localhost:8080/"
        },
        "id": "P_ycmXVGW4n4",
        "outputId": "95c4a252-65f2-4f52-d906-5e4e1b059246"
      },
      "execution_count": 9,
      "outputs": [
        {
          "output_type": "execute_result",
          "data": {
            "text/plain": [
              "0    4342\n",
              "1    3271\n",
              "Name: target, dtype: int64"
            ]
          },
          "metadata": {},
          "execution_count": 9
        }
      ]
    },
    {
      "cell_type": "code",
      "source": [
        "len(train_df)"
      ],
      "metadata": {
        "colab": {
          "base_uri": "https://localhost:8080/"
        },
        "id": "Rc7IvDXzXJwK",
        "outputId": "ab64c494-58a1-4056-c9fe-a54c30866a47"
      },
      "execution_count": 10,
      "outputs": [
        {
          "output_type": "execute_result",
          "data": {
            "text/plain": [
              "7613"
            ]
          },
          "metadata": {},
          "execution_count": 10
        }
      ]
    },
    {
      "cell_type": "code",
      "source": [
        "len(test_df)"
      ],
      "metadata": {
        "colab": {
          "base_uri": "https://localhost:8080/"
        },
        "id": "Wivu0T4uXuIX",
        "outputId": "7b72fd45-9b0c-4c24-a4a0-322c9e39b573"
      },
      "execution_count": 11,
      "outputs": [
        {
          "output_type": "execute_result",
          "data": {
            "text/plain": [
              "3263"
            ]
          },
          "metadata": {},
          "execution_count": 11
        }
      ]
    },
    {
      "cell_type": "code",
      "source": [
        "train_df.head()"
      ],
      "metadata": {
        "colab": {
          "base_uri": "https://localhost:8080/",
          "height": 206
        },
        "id": "eiAXB7npeOFv",
        "outputId": "80e1efd7-a63d-4e59-ff16-ec67347d310f"
      },
      "execution_count": 12,
      "outputs": [
        {
          "output_type": "execute_result",
          "data": {
            "text/plain": [
              "   id keyword location                                               text  \\\n",
              "0   1     NaN      NaN  Our Deeds are the Reason of this #earthquake M...   \n",
              "1   4     NaN      NaN             Forest fire near La Ronge Sask. Canada   \n",
              "2   5     NaN      NaN  All residents asked to 'shelter in place' are ...   \n",
              "3   6     NaN      NaN  13,000 people receive #wildfires evacuation or...   \n",
              "4   7     NaN      NaN  Just got sent this photo from Ruby #Alaska as ...   \n",
              "\n",
              "   target  \n",
              "0       1  \n",
              "1       1  \n",
              "2       1  \n",
              "3       1  \n",
              "4       1  "
            ],
            "text/html": [
              "\n",
              "  <div id=\"df-6064edb5-32e3-4f8f-a4a6-2d17c394e6de\">\n",
              "    <div class=\"colab-df-container\">\n",
              "      <div>\n",
              "<style scoped>\n",
              "    .dataframe tbody tr th:only-of-type {\n",
              "        vertical-align: middle;\n",
              "    }\n",
              "\n",
              "    .dataframe tbody tr th {\n",
              "        vertical-align: top;\n",
              "    }\n",
              "\n",
              "    .dataframe thead th {\n",
              "        text-align: right;\n",
              "    }\n",
              "</style>\n",
              "<table border=\"1\" class=\"dataframe\">\n",
              "  <thead>\n",
              "    <tr style=\"text-align: right;\">\n",
              "      <th></th>\n",
              "      <th>id</th>\n",
              "      <th>keyword</th>\n",
              "      <th>location</th>\n",
              "      <th>text</th>\n",
              "      <th>target</th>\n",
              "    </tr>\n",
              "  </thead>\n",
              "  <tbody>\n",
              "    <tr>\n",
              "      <th>0</th>\n",
              "      <td>1</td>\n",
              "      <td>NaN</td>\n",
              "      <td>NaN</td>\n",
              "      <td>Our Deeds are the Reason of this #earthquake M...</td>\n",
              "      <td>1</td>\n",
              "    </tr>\n",
              "    <tr>\n",
              "      <th>1</th>\n",
              "      <td>4</td>\n",
              "      <td>NaN</td>\n",
              "      <td>NaN</td>\n",
              "      <td>Forest fire near La Ronge Sask. Canada</td>\n",
              "      <td>1</td>\n",
              "    </tr>\n",
              "    <tr>\n",
              "      <th>2</th>\n",
              "      <td>5</td>\n",
              "      <td>NaN</td>\n",
              "      <td>NaN</td>\n",
              "      <td>All residents asked to 'shelter in place' are ...</td>\n",
              "      <td>1</td>\n",
              "    </tr>\n",
              "    <tr>\n",
              "      <th>3</th>\n",
              "      <td>6</td>\n",
              "      <td>NaN</td>\n",
              "      <td>NaN</td>\n",
              "      <td>13,000 people receive #wildfires evacuation or...</td>\n",
              "      <td>1</td>\n",
              "    </tr>\n",
              "    <tr>\n",
              "      <th>4</th>\n",
              "      <td>7</td>\n",
              "      <td>NaN</td>\n",
              "      <td>NaN</td>\n",
              "      <td>Just got sent this photo from Ruby #Alaska as ...</td>\n",
              "      <td>1</td>\n",
              "    </tr>\n",
              "  </tbody>\n",
              "</table>\n",
              "</div>\n",
              "      <button class=\"colab-df-convert\" onclick=\"convertToInteractive('df-6064edb5-32e3-4f8f-a4a6-2d17c394e6de')\"\n",
              "              title=\"Convert this dataframe to an interactive table.\"\n",
              "              style=\"display:none;\">\n",
              "        \n",
              "  <svg xmlns=\"http://www.w3.org/2000/svg\" height=\"24px\"viewBox=\"0 0 24 24\"\n",
              "       width=\"24px\">\n",
              "    <path d=\"M0 0h24v24H0V0z\" fill=\"none\"/>\n",
              "    <path d=\"M18.56 5.44l.94 2.06.94-2.06 2.06-.94-2.06-.94-.94-2.06-.94 2.06-2.06.94zm-11 1L8.5 8.5l.94-2.06 2.06-.94-2.06-.94L8.5 2.5l-.94 2.06-2.06.94zm10 10l.94 2.06.94-2.06 2.06-.94-2.06-.94-.94-2.06-.94 2.06-2.06.94z\"/><path d=\"M17.41 7.96l-1.37-1.37c-.4-.4-.92-.59-1.43-.59-.52 0-1.04.2-1.43.59L10.3 9.45l-7.72 7.72c-.78.78-.78 2.05 0 2.83L4 21.41c.39.39.9.59 1.41.59.51 0 1.02-.2 1.41-.59l7.78-7.78 2.81-2.81c.8-.78.8-2.07 0-2.86zM5.41 20L4 18.59l7.72-7.72 1.47 1.35L5.41 20z\"/>\n",
              "  </svg>\n",
              "      </button>\n",
              "      \n",
              "  <style>\n",
              "    .colab-df-container {\n",
              "      display:flex;\n",
              "      flex-wrap:wrap;\n",
              "      gap: 12px;\n",
              "    }\n",
              "\n",
              "    .colab-df-convert {\n",
              "      background-color: #E8F0FE;\n",
              "      border: none;\n",
              "      border-radius: 50%;\n",
              "      cursor: pointer;\n",
              "      display: none;\n",
              "      fill: #1967D2;\n",
              "      height: 32px;\n",
              "      padding: 0 0 0 0;\n",
              "      width: 32px;\n",
              "    }\n",
              "\n",
              "    .colab-df-convert:hover {\n",
              "      background-color: #E2EBFA;\n",
              "      box-shadow: 0px 1px 2px rgba(60, 64, 67, 0.3), 0px 1px 3px 1px rgba(60, 64, 67, 0.15);\n",
              "      fill: #174EA6;\n",
              "    }\n",
              "\n",
              "    [theme=dark] .colab-df-convert {\n",
              "      background-color: #3B4455;\n",
              "      fill: #D2E3FC;\n",
              "    }\n",
              "\n",
              "    [theme=dark] .colab-df-convert:hover {\n",
              "      background-color: #434B5C;\n",
              "      box-shadow: 0px 1px 3px 1px rgba(0, 0, 0, 0.15);\n",
              "      filter: drop-shadow(0px 1px 2px rgba(0, 0, 0, 0.3));\n",
              "      fill: #FFFFFF;\n",
              "    }\n",
              "  </style>\n",
              "\n",
              "      <script>\n",
              "        const buttonEl =\n",
              "          document.querySelector('#df-6064edb5-32e3-4f8f-a4a6-2d17c394e6de button.colab-df-convert');\n",
              "        buttonEl.style.display =\n",
              "          google.colab.kernel.accessAllowed ? 'block' : 'none';\n",
              "\n",
              "        async function convertToInteractive(key) {\n",
              "          const element = document.querySelector('#df-6064edb5-32e3-4f8f-a4a6-2d17c394e6de');\n",
              "          const dataTable =\n",
              "            await google.colab.kernel.invokeFunction('convertToInteractive',\n",
              "                                                     [key], {});\n",
              "          if (!dataTable) return;\n",
              "\n",
              "          const docLinkHtml = 'Like what you see? Visit the ' +\n",
              "            '<a target=\"_blank\" href=https://colab.research.google.com/notebooks/data_table.ipynb>data table notebook</a>'\n",
              "            + ' to learn more about interactive tables.';\n",
              "          element.innerHTML = '';\n",
              "          dataTable['output_type'] = 'display_data';\n",
              "          await google.colab.output.renderOutput(dataTable, element);\n",
              "          const docLink = document.createElement('div');\n",
              "          docLink.innerHTML = docLinkHtml;\n",
              "          element.appendChild(docLink);\n",
              "        }\n",
              "      </script>\n",
              "    </div>\n",
              "  </div>\n",
              "  "
            ]
          },
          "metadata": {},
          "execution_count": 12
        }
      ]
    },
    {
      "cell_type": "code",
      "source": [
        "import random\n",
        "random_index = random.randint(0, len(train_df)-5)\n",
        "for row in train_df_shuffled[['text', 'target']][random_index : random_index + 5].itertuples():\n",
        "  print(row)\n",
        "  _, text, target = row\n",
        "  print(f'Target: {target}', '(real disaster)' if target > 0 else '(not real disaster)')\n",
        "  print(f'Text:\\n,{text}\\n')\n",
        "  print(f'----\\n')"
      ],
      "metadata": {
        "colab": {
          "base_uri": "https://localhost:8080/"
        },
        "id": "1e50euNDXu8U",
        "outputId": "b608792c-d23a-41a6-95b5-af56dbdb7744"
      },
      "execution_count": 13,
      "outputs": [
        {
          "output_type": "stream",
          "name": "stdout",
          "text": [
            "Pandas(Index=6607, text='DireTube Information \\x89ÛÒ Egypt Cyprus and Greece agreed to fightåÊterrorism http://t.co/V6IjxCCD2I http://t.co/YSXhFWMGOD', target=1)\n",
            "Target: 1 (real disaster)\n",
            "Text:\n",
            ",DireTube Information ÛÒ Egypt Cyprus and Greece agreed to fightåÊterrorism http://t.co/V6IjxCCD2I http://t.co/YSXhFWMGOD\n",
            "\n",
            "----\n",
            "\n",
            "Pandas(Index=3345, text='Our thoughts are with these local residents! Time for some heavy rain!!! http://t.co/x3g2OX6K8R', target=1)\n",
            "Target: 1 (real disaster)\n",
            "Text:\n",
            ",Our thoughts are with these local residents! Time for some heavy rain!!! http://t.co/x3g2OX6K8R\n",
            "\n",
            "----\n",
            "\n",
            "Pandas(Index=6798, text='@itss_selenaluna like a beautiful ass tragedy lol', target=1)\n",
            "Target: 1 (real disaster)\n",
            "Text:\n",
            ",@itss_selenaluna like a beautiful ass tragedy lol\n",
            "\n",
            "----\n",
            "\n",
            "Pandas(Index=5870, text='@nbc I wanna see you reboot The Fresh Prince of Bel-Air bring back the original cast and everything &amp; do nothing that will ruin the show.', target=0)\n",
            "Target: 0 (not real disaster)\n",
            "Text:\n",
            ",@nbc I wanna see you reboot The Fresh Prince of Bel-Air bring back the original cast and everything &amp; do nothing that will ruin the show.\n",
            "\n",
            "----\n",
            "\n",
            "Pandas(Index=6506, text='So much shit has happened today wtf idk how I survive thruuu it all', target=1)\n",
            "Target: 1 (real disaster)\n",
            "Text:\n",
            ",So much shit has happened today wtf idk how I survive thruuu it all\n",
            "\n",
            "----\n",
            "\n"
          ]
        }
      ]
    },
    {
      "cell_type": "markdown",
      "source": [
        "### Split data into training and validation sets\n"
      ],
      "metadata": {
        "id": "ypVmXTvmkpq5"
      }
    },
    {
      "cell_type": "code",
      "source": [
        "from sklearn.model_selection import train_test_split\n",
        "\n",
        "# Use train_test_split to split training data into training and validation sets\n",
        "\n",
        "train_sentences, val_sentences, train_labels, val_labels = train_test_split(train_df_shuffled['text'].to_numpy(),\n",
        "                                                              train_df_shuffled['target'].to_numpy(),\n",
        "                                                              test_size = 0.1,\n",
        "                                                              random_state = 42)"
      ],
      "metadata": {
        "id": "rpODnwJ1nnrA"
      },
      "execution_count": 14,
      "outputs": []
    },
    {
      "cell_type": "code",
      "source": [
        "# Check the lenghts\n",
        "\n",
        "len(train_sentences), len(train_labels), len(val_sentences), len(val_labels)"
      ],
      "metadata": {
        "colab": {
          "base_uri": "https://localhost:8080/"
        },
        "id": "WB15HMsPoinl",
        "outputId": "873e4190-b934-4328-ab80-f22671c94bf0"
      },
      "execution_count": 15,
      "outputs": [
        {
          "output_type": "execute_result",
          "data": {
            "text/plain": [
              "(6851, 6851, 762, 762)"
            ]
          },
          "metadata": {},
          "execution_count": 15
        }
      ]
    },
    {
      "cell_type": "markdown",
      "source": [
        "## Convert text into numbers\n",
        "\n",
        "Tokenisation - Direct mapping of tokens\n",
        "\n",
        "Embedding - Create a matrix of feature vectors\n"
      ],
      "metadata": {
        "id": "9mmmDCR3pU7j"
      }
    },
    {
      "cell_type": "markdown",
      "source": [
        "### Text vectorisation"
      ],
      "metadata": {
        "id": "ZvtiH8QgBmlu"
      }
    },
    {
      "cell_type": "code",
      "source": [
        "train_sentences[:3]"
      ],
      "metadata": {
        "colab": {
          "base_uri": "https://localhost:8080/"
        },
        "id": "iHa-BZqIBrIZ",
        "outputId": "a1b0180d-0111-4b59-da9f-99630da20a97"
      },
      "execution_count": 16,
      "outputs": [
        {
          "output_type": "execute_result",
          "data": {
            "text/plain": [
              "array(['@mogacola @zamtriossu i screamed after hitting tweet',\n",
              "       'Imagine getting flattened by Kurt Zouma',\n",
              "       '@Gurmeetramrahim #MSGDoing111WelfareWorks Green S welfare force ke appx 65000 members har time disaster victim ki help ke liye tyar hai....'],\n",
              "      dtype=object)"
            ]
          },
          "metadata": {},
          "execution_count": 16
        }
      ]
    },
    {
      "cell_type": "code",
      "source": [
        "import tensorflow as tf\n",
        "from tensorflow.keras.layers.experimental.preprocessing import TextVectorization\n",
        "\n",
        "text_vectorizer = TextVectorization(max_tokens = None, # limit on the no of tokens (uncommon words get replaced by <OOV>)\n",
        "                                     standardize = 'lower_and_strip_punctuation', # lowers text and removes punctuation\n",
        "                                     split = 'whitespace', #split where the white spaces exist\n",
        "                                     ngrams = None, \n",
        "                                     output_mode = 'int',\n",
        "                                    output_sequence_length = None, # how long the sequences should be\n",
        "                                    # pad_to_max_tokens = True\n",
        "                                    )"
      ],
      "metadata": {
        "id": "gJ0mHbhzBvce"
      },
      "execution_count": 17,
      "outputs": []
    },
    {
      "cell_type": "code",
      "source": [
        "# Find the average number of tokens in thee trainint twee\n",
        "ln = (sum([len(i.split()) for i in train_sentences]))/len(train_sentences)\n",
        "round(ln)"
      ],
      "metadata": {
        "colab": {
          "base_uri": "https://localhost:8080/"
        },
        "id": "oycg8Lb_jAFx",
        "outputId": "be0cb7fa-6b72-4111-f92a-6ca64758940e"
      },
      "execution_count": 18,
      "outputs": [
        {
          "output_type": "execute_result",
          "data": {
            "text/plain": [
              "15"
            ]
          },
          "metadata": {},
          "execution_count": 18
        }
      ]
    },
    {
      "cell_type": "code",
      "source": [
        "# Setup text vectorisation variables\n",
        "\n",
        "max_vocab_length = 10000\n",
        "max_length = round(ln)\n",
        "\n",
        "text_vectorizer = TextVectorization(max_tokens = max_vocab_length,\n",
        "                                    output_mode = 'int',\n",
        "                                    output_sequence_length = max_length)"
      ],
      "metadata": {
        "id": "OhQkRQtXj36R"
      },
      "execution_count": 19,
      "outputs": []
    },
    {
      "cell_type": "code",
      "source": [
        "# Fit the text vectoriser\n",
        "\n",
        "text_vectorizer.adapt(train_sentences)"
      ],
      "metadata": {
        "id": "w6uH4Lgs1RUb"
      },
      "execution_count": 20,
      "outputs": []
    },
    {
      "cell_type": "code",
      "source": [
        "sample_sentence = \"There's a flood in my street!\"\n",
        "\n",
        "text_vectorizer([sample_sentence])"
      ],
      "metadata": {
        "colab": {
          "base_uri": "https://localhost:8080/"
        },
        "id": "Q5Scnc5q1jk5",
        "outputId": "ea29fe52-9b46-4e95-dc76-33f981dfe68a"
      },
      "execution_count": 21,
      "outputs": [
        {
          "output_type": "execute_result",
          "data": {
            "text/plain": [
              "<tf.Tensor: shape=(1, 15), dtype=int64, numpy=\n",
              "array([[264,   3, 232,   4,  13, 698,   0,   0,   0,   0,   0,   0,   0,\n",
              "          0,   0]])>"
            ]
          },
          "metadata": {},
          "execution_count": 21
        }
      ]
    },
    {
      "cell_type": "code",
      "source": [
        "# Choose a random sentence from the training dataset and tokenize it \n",
        "\n",
        "random_sentence = random.choice(train_sentences)\n",
        "print(f'OG sent:\\n {random_sentence}\\n')\n",
        "\n",
        "print(f'Vectorized sent:\\n {text_vectorizer([random_sentence])}')"
      ],
      "metadata": {
        "colab": {
          "base_uri": "https://localhost:8080/"
        },
        "id": "UTEeO2C74Ks7",
        "outputId": "9ad14bcd-788f-48bc-a73a-a36cdf071fdc"
      },
      "execution_count": 22,
      "outputs": [
        {
          "output_type": "stream",
          "name": "stdout",
          "text": [
            "OG sent:\n",
            " #Insurance: Texas Seeks Comment on Rules for Changes to Windstorm Insurer http://t.co/rb02svlpPu\n",
            "\n",
            "Vectorized sent:\n",
            " [[ 887  758 1479 1219   11  993   10 1314    5  428 1512    1    0    0\n",
            "     0]]\n"
          ]
        }
      ]
    },
    {
      "cell_type": "code",
      "source": [
        "text_vectorizer([random_sentence])"
      ],
      "metadata": {
        "colab": {
          "base_uri": "https://localhost:8080/"
        },
        "id": "mTpYomZw9D2C",
        "outputId": "763fffea-cab2-42e5-ebc3-292287015755"
      },
      "execution_count": 23,
      "outputs": [
        {
          "output_type": "execute_result",
          "data": {
            "text/plain": [
              "<tf.Tensor: shape=(1, 15), dtype=int64, numpy=\n",
              "array([[ 887,  758, 1479, 1219,   11,  993,   10, 1314,    5,  428, 1512,\n",
              "           1,    0,    0,    0]])>"
            ]
          },
          "metadata": {},
          "execution_count": 23
        }
      ]
    },
    {
      "cell_type": "code",
      "source": [
        "# Get the unique words in our vocabulary\n",
        "\n",
        "words_in_vocab = text_vectorizer.get_vocabulary()\n",
        "\n",
        "words_in_vocab[:5]\n"
      ],
      "metadata": {
        "colab": {
          "base_uri": "https://localhost:8080/"
        },
        "id": "oQRMmvVn5egC",
        "outputId": "fac2831d-8aa1-415d-a8a6-b4b962577b5f"
      },
      "execution_count": 24,
      "outputs": [
        {
          "output_type": "execute_result",
          "data": {
            "text/plain": [
              "['', '[UNK]', 'the', 'a', 'in']"
            ]
          },
          "metadata": {},
          "execution_count": 24
        }
      ]
    },
    {
      "cell_type": "code",
      "source": [
        "words_in_vocab[-5:]"
      ],
      "metadata": {
        "colab": {
          "base_uri": "https://localhost:8080/"
        },
        "id": "bketgF9Q7zkg",
        "outputId": "34cc1245-6dd3-462e-eff5-ef5f27b6be02"
      },
      "execution_count": 25,
      "outputs": [
        {
          "output_type": "execute_result",
          "data": {
            "text/plain": [
              "['pages', 'paeds', 'pads', 'padres', 'paddytomlinson1']"
            ]
          },
          "metadata": {},
          "execution_count": 25
        }
      ]
    },
    {
      "cell_type": "code",
      "source": [
        "len(words_in_vocab)"
      ],
      "metadata": {
        "colab": {
          "base_uri": "https://localhost:8080/"
        },
        "id": "_wnQQ-AC8flS",
        "outputId": "2b34d294-710b-4b31-f4b3-afb8e5ca7ddc"
      },
      "execution_count": 26,
      "outputs": [
        {
          "output_type": "execute_result",
          "data": {
            "text/plain": [
              "10000"
            ]
          },
          "metadata": {},
          "execution_count": 26
        }
      ]
    },
    {
      "cell_type": "code",
      "source": [
        "words_in_vocab[-1]"
      ],
      "metadata": {
        "colab": {
          "base_uri": "https://localhost:8080/",
          "height": 0
        },
        "id": "Ga0Rg8u_8yM6",
        "outputId": "8609b4a2-e073-4af1-af5a-76767187c4be"
      },
      "execution_count": 27,
      "outputs": [
        {
          "output_type": "execute_result",
          "data": {
            "text/plain": [
              "'paddytomlinson1'"
            ],
            "application/vnd.google.colaboratory.intrinsic+json": {
              "type": "string"
            }
          },
          "metadata": {},
          "execution_count": 27
        }
      ]
    },
    {
      "cell_type": "markdown",
      "source": [
        "### Create an embedding representation of words\n",
        "\n",
        "Parameters:\n",
        "\n",
        "      input_dim = size of vocab\n",
        "      output_dim = size of the output_sequence_length\n",
        "      input_length = length of the seq\n"
      ],
      "metadata": {
        "id": "zPYPGSLJ-8PK"
      }
    },
    {
      "cell_type": "code",
      "source": [
        "tf.random.set_seed(42)\n",
        "from tensorflow.keras import layers\n",
        "\n",
        "vocab_length = len(words_in_vocab)\n",
        "\n",
        "embedding = layers.Embedding(input_dim = vocab_length,\n",
        "                             output_dim = 128,\n",
        "                             embeddings_initializer = 'uniform',\n",
        "                             input_length = max_length)"
      ],
      "metadata": {
        "id": "it8R2sCf34ST"
      },
      "execution_count": 28,
      "outputs": []
    },
    {
      "cell_type": "code",
      "source": [
        "# Get a random sentence from the training set\n",
        "\n",
        "random_sentence = random.choice(train_sentences)\n",
        "\n",
        "print(f'Original text:\\n {random_sentence}\\n')\n",
        "\n",
        "print('After Embedding:')\n",
        "\n",
        "# Embed the ranodm sent\n",
        "\n",
        "sample_embed = embedding(text_vectorizer([random_sentence]))\n",
        "\n",
        "print(sample_embed)"
      ],
      "metadata": {
        "colab": {
          "base_uri": "https://localhost:8080/"
        },
        "id": "CdleTR2V46D6",
        "outputId": "33e7ebf3-bbba-43bc-e3af-79f4acfad010"
      },
      "execution_count": 29,
      "outputs": [
        {
          "output_type": "stream",
          "name": "stdout",
          "text": [
            "Original text:\n",
            " Reddit: http://t.co/UtuMVaABz6 Lightning sparks new fires in Boise National Forest /r/StormComing\n",
            "\n",
            "After Embedding:\n",
            "tf.Tensor(\n",
            "[[[-0.04901577  0.01449073  0.00180269 ... -0.0090353   0.03036625\n",
            "   -0.04714844]\n",
            "  [ 0.03977952 -0.03782602 -0.03646283 ...  0.00236253  0.03332629\n",
            "    0.02803668]\n",
            "  [-0.00418826 -0.02975574  0.04156275 ... -0.0264973  -0.01173973\n",
            "    0.01569256]\n",
            "  ...\n",
            "  [ 0.01645621 -0.00589932 -0.01471175 ... -0.02511839  0.00912381\n",
            "   -0.00024097]\n",
            "  [ 0.01645621 -0.00589932 -0.01471175 ... -0.02511839  0.00912381\n",
            "   -0.00024097]\n",
            "  [ 0.01645621 -0.00589932 -0.01471175 ... -0.02511839  0.00912381\n",
            "   -0.00024097]]], shape=(1, 15, 128), dtype=float32)\n"
          ]
        }
      ]
    },
    {
      "cell_type": "code",
      "source": [
        "sample_embed"
      ],
      "metadata": {
        "colab": {
          "base_uri": "https://localhost:8080/"
        },
        "id": "rj0cddwL6G2S",
        "outputId": "592bd20d-4ee3-4b8d-8474-17e885527e81"
      },
      "execution_count": 30,
      "outputs": [
        {
          "output_type": "execute_result",
          "data": {
            "text/plain": [
              "<tf.Tensor: shape=(1, 15, 128), dtype=float32, numpy=\n",
              "array([[[-0.04901577,  0.01449073,  0.00180269, ..., -0.0090353 ,\n",
              "          0.03036625, -0.04714844],\n",
              "        [ 0.03977952, -0.03782602, -0.03646283, ...,  0.00236253,\n",
              "          0.03332629,  0.02803668],\n",
              "        [-0.00418826, -0.02975574,  0.04156275, ..., -0.0264973 ,\n",
              "         -0.01173973,  0.01569256],\n",
              "        ...,\n",
              "        [ 0.01645621, -0.00589932, -0.01471175, ..., -0.02511839,\n",
              "          0.00912381, -0.00024097],\n",
              "        [ 0.01645621, -0.00589932, -0.01471175, ..., -0.02511839,\n",
              "          0.00912381, -0.00024097],\n",
              "        [ 0.01645621, -0.00589932, -0.01471175, ..., -0.02511839,\n",
              "          0.00912381, -0.00024097]]], dtype=float32)>"
            ]
          },
          "metadata": {},
          "execution_count": 30
        }
      ]
    },
    {
      "cell_type": "code",
      "source": [
        "# Check out a singe token's embedding\n",
        "\n",
        "sample_embed[0][0]"
      ],
      "metadata": {
        "colab": {
          "base_uri": "https://localhost:8080/"
        },
        "id": "dMcCNEPW65v7",
        "outputId": "8afd20ac-902c-4b17-9809-72ca0254b9d1"
      },
      "execution_count": 31,
      "outputs": [
        {
          "output_type": "execute_result",
          "data": {
            "text/plain": [
              "<tf.Tensor: shape=(128,), dtype=float32, numpy=\n",
              "array([-0.04901577,  0.01449073,  0.00180269,  0.03145752,  0.03001913,\n",
              "        0.04779543,  0.01454267, -0.04404233,  0.01641065, -0.01868325,\n",
              "        0.03098175,  0.04230898, -0.04427271, -0.02168292, -0.03067183,\n",
              "        0.00052283,  0.04506895,  0.03119186,  0.04603002,  0.04919041,\n",
              "        0.03823203, -0.04824071,  0.04257606, -0.0275    ,  0.04433152,\n",
              "        0.02838036, -0.04082304, -0.03536421,  0.00921013,  0.00343283,\n",
              "        0.00741158,  0.02859265, -0.03695261,  0.03345582, -0.02572121,\n",
              "        0.03614236, -0.02552737, -0.02286865, -0.04795185, -0.04963329,\n",
              "       -0.04766253,  0.02352193,  0.00826324,  0.04830314, -0.02283541,\n",
              "       -0.02283167,  0.04145231,  0.02272217,  0.00565696,  0.02288375,\n",
              "        0.00543882,  0.03858927,  0.03044422, -0.00135201,  0.02223692,\n",
              "        0.02482006, -0.00802596, -0.0392676 , -0.00523003, -0.04668751,\n",
              "        0.02673248, -0.02740769, -0.03583468, -0.00852951,  0.0188503 ,\n",
              "       -0.0386381 , -0.04756455,  0.01851453, -0.04418258,  0.02143831,\n",
              "        0.01259332, -0.03011363, -0.04623124,  0.03939484, -0.04813569,\n",
              "       -0.00368584,  0.02777788, -0.02248622,  0.03906408, -0.01062629,\n",
              "        0.0338846 ,  0.03552662,  0.0358533 , -0.03316647,  0.00093657,\n",
              "       -0.01694022,  0.00359845,  0.03415836,  0.03994801, -0.01700052,\n",
              "       -0.02336578, -0.01757431,  0.0410735 , -0.00123776,  0.03279454,\n",
              "       -0.04640203,  0.03834944, -0.01692227, -0.0366264 , -0.01297427,\n",
              "        0.02228708, -0.02501897,  0.02150114,  0.04170297, -0.00574896,\n",
              "       -0.04848009, -0.01860886, -0.01961484, -0.04294613, -0.03210673,\n",
              "       -0.0170837 ,  0.01586528, -0.02727052,  0.03415904, -0.03894451,\n",
              "       -0.04465256,  0.02051732,  0.03219556, -0.00631825, -0.04547924,\n",
              "       -0.01760264,  0.01560481, -0.00429983,  0.01854494, -0.00933611,\n",
              "       -0.0090353 ,  0.03036625, -0.04714844], dtype=float32)>"
            ]
          },
          "metadata": {},
          "execution_count": 31
        }
      ]
    },
    {
      "cell_type": "code",
      "source": [
        "random_sentence"
      ],
      "metadata": {
        "colab": {
          "base_uri": "https://localhost:8080/",
          "height": 0
        },
        "id": "ZvnGCWXB9nzC",
        "outputId": "ba87fff2-28f1-4979-9a67-387ffe50a37a"
      },
      "execution_count": 32,
      "outputs": [
        {
          "output_type": "execute_result",
          "data": {
            "text/plain": [
              "'Reddit: http://t.co/UtuMVaABz6 Lightning sparks new fires in Boise National Forest /r/StormComing'"
            ],
            "application/vnd.google.colaboratory.intrinsic+json": {
              "type": "string"
            }
          },
          "metadata": {},
          "execution_count": 32
        }
      ]
    },
    {
      "cell_type": "markdown",
      "source": [
        "## Modelling a text dataet and running a series of experiments\n",
        "\n",
        "    Model 0 : Naive Bayes (baseline)\n",
        "\n",
        "    Model 1 : Feed Forward Neural Network (Dense)\n",
        "\n",
        "    Model 2 : LSTM model (RNN)\n",
        "\n",
        "    Model 3 : GRU model (RNN)\n",
        "\n",
        "    Model 4 : Bidirectional LSTM model (RNN)\n",
        "\n",
        "    Model 5 : 1D CNN\n",
        "\n",
        "    Model 6:  Tensorflow Hub pretrained Feature Extractor (transfer learning)\n",
        "\n",
        "    Model 7: Same as model 6 with 10% of training data"
      ],
      "metadata": {
        "id": "iOiTaLPz9pha"
      }
    },
    {
      "cell_type": "markdown",
      "source": [
        "### Model 0 : Getting a baseline \n",
        "\n",
        "\n",
        "As with all machine learning experiments its important to create a baseline model for benchmarking\n",
        "\n",
        "> Its common practice to use non_DL as baseline and use DL to see if we can improve upon it"
      ],
      "metadata": {
        "id": "tZeH9cyKApoJ"
      }
    },
    {
      "cell_type": "code",
      "source": [
        "from tensorflow.python.ops.gen_random_ops import Multinomial\n",
        "from sklearn.feature_extraction.text import TfidfVectorizer\n",
        "from sklearn.naive_bayes import MultinomialNB\n",
        "from sklearn.pipeline import Pipeline\n",
        "\n",
        "# Create tokenization and modelling pipeline\n",
        "\n",
        "model_0 = Pipeline([\n",
        "    ('tfidf', TfidfVectorizer()), # turn our text to numbers\n",
        "    ('clf', MultinomialNB())     # model the text\n",
        "])\n",
        "\n",
        "# Fit the pipe line to the training ata\n",
        "\n",
        "model_0.fit(train_sentences, train_labels)\n"
      ],
      "metadata": {
        "id": "MDvoe5ePCIgp",
        "colab": {
          "base_uri": "https://localhost:8080/"
        },
        "outputId": "2dfdd9e6-e7e5-4d75-95b2-47dc36f35080"
      },
      "execution_count": 33,
      "outputs": [
        {
          "output_type": "execute_result",
          "data": {
            "text/plain": [
              "Pipeline(steps=[('tfidf', TfidfVectorizer()), ('clf', MultinomialNB())])"
            ]
          },
          "metadata": {},
          "execution_count": 33
        }
      ]
    },
    {
      "cell_type": "code",
      "source": [
        "# Evaluate our baseline our model\n",
        "\n",
        "baseline_score = model_0.score(val_sentences, val_labels)"
      ],
      "metadata": {
        "id": "SLtMLOlw5mPx"
      },
      "execution_count": 34,
      "outputs": []
    },
    {
      "cell_type": "code",
      "source": [
        "print(f'Our baseline model achieves an accurayc of:{baseline_score*100}%')"
      ],
      "metadata": {
        "colab": {
          "base_uri": "https://localhost:8080/"
        },
        "id": "Ax3ZSp2HQkBZ",
        "outputId": "8ac8d909-1c34-4bdb-be5f-5e3bdfbac89b"
      },
      "execution_count": 35,
      "outputs": [
        {
          "output_type": "stream",
          "name": "stdout",
          "text": [
            "Our baseline model achieves an accurayc of:79.26509186351706%\n"
          ]
        }
      ]
    },
    {
      "cell_type": "code",
      "source": [
        "train_df.target.value_counts()"
      ],
      "metadata": {
        "colab": {
          "base_uri": "https://localhost:8080/"
        },
        "id": "DrQ2kL9DQ2LX",
        "outputId": "91f4da6a-9008-4f23-d832-e362d3318588"
      },
      "execution_count": 36,
      "outputs": [
        {
          "output_type": "execute_result",
          "data": {
            "text/plain": [
              "0    4342\n",
              "1    3271\n",
              "Name: target, dtype: int64"
            ]
          },
          "metadata": {},
          "execution_count": 36
        }
      ]
    },
    {
      "cell_type": "code",
      "source": [
        "# Make predictions\n",
        "\n",
        "baseline_preds = model_0.predict(val_sentences)\n",
        "baseline_preds[:20]"
      ],
      "metadata": {
        "colab": {
          "base_uri": "https://localhost:8080/"
        },
        "id": "VSLEsxWcRUKo",
        "outputId": "6226599f-2f9e-4d35-a926-c84f05dd1b75"
      },
      "execution_count": 37,
      "outputs": [
        {
          "output_type": "execute_result",
          "data": {
            "text/plain": [
              "array([1, 1, 1, 0, 0, 1, 1, 1, 1, 0, 0, 1, 0, 0, 0, 0, 0, 0, 0, 1])"
            ]
          },
          "metadata": {},
          "execution_count": 37
        }
      ]
    },
    {
      "cell_type": "markdown",
      "source": [
        "### Creating an evaluation function for our model experiments\n",
        "\n",
        "Compare our model using the following metrics:\n",
        "\n",
        ">Accuracy\n",
        "\n",
        ">Precision\n",
        "\n",
        ">Recall\n",
        "\n",
        ">F1-Score"
      ],
      "metadata": {
        "id": "HKQkQNifSofy"
      }
    },
    {
      "cell_type": "code",
      "source": [
        "# Function to eval \n",
        "\n",
        "from sklearn.metrics import accuracy_score, precision_recall_fscore_support\n",
        "\n",
        "def calculate_results(y_true, y_pred):\n",
        "\n",
        "  # Accuracy\n",
        "  model_accuracy = accuracy_score(y_true, y_pred) * 100\n",
        "  # Precison, Recall, F1-Score\n",
        "  model_precision, model_recall, model_f1, _ = precision_recall_fscore_support(y_true, y_pred, average = 'weighted')\n",
        "  model_results = {'accuracy': model_accuracy,\n",
        "                   'precision' : model_precision,\n",
        "                   'recall': model_recall,\n",
        "                   'f1': model_f1}\n",
        "  return model_results"
      ],
      "metadata": {
        "id": "eBI3X1TJTR-D"
      },
      "execution_count": 38,
      "outputs": []
    },
    {
      "cell_type": "code",
      "source": [
        "baseline_results = calculate_results(y_true = val_labels,\n",
        "                                     y_pred = baseline_preds)\n",
        "\n",
        "baseline_results"
      ],
      "metadata": {
        "colab": {
          "base_uri": "https://localhost:8080/"
        },
        "id": "JDoG2QCeXfcF",
        "outputId": "e67f62bf-9d23-473e-a278-1149717b6e29"
      },
      "execution_count": 39,
      "outputs": [
        {
          "output_type": "execute_result",
          "data": {
            "text/plain": [
              "{'accuracy': 79.26509186351706,\n",
              " 'precision': 0.8111390004213173,\n",
              " 'recall': 0.7926509186351706,\n",
              " 'f1': 0.7862189758049549}"
            ]
          },
          "metadata": {},
          "execution_count": 39
        }
      ]
    },
    {
      "cell_type": "markdown",
      "source": [
        "### Model 1 : A simple dense model"
      ],
      "metadata": {
        "id": "0w_jqz8iXvTr"
      }
    },
    {
      "cell_type": "code",
      "source": [
        "# Create a tensorboard callback\n",
        "from helper_functions import create_tensorboard_callback\n",
        "\n",
        "# Createa a directory to save TensorBoard lofs\n",
        "SAVE_DIR = 'model_logs'"
      ],
      "metadata": {
        "id": "mnnjzZdHb3CW"
      },
      "execution_count": 40,
      "outputs": []
    },
    {
      "cell_type": "code",
      "source": [
        "# Build model with Functional API\n",
        "from tensorflow.keras import layers\n",
        "\n",
        "inputs = layers.Input(shape=(1,), dtype = tf.string) # inputs are 1 dimensinal strting\n",
        "x = text_vectorizer(inputs) # nums to vectors\n",
        "x = embedding(x) \n",
        "x = layers.GlobalAveragePooling1D()(x)\n",
        "outputs = layers.Dense(1, activation='sigmoid')(x)\n",
        "model_1 = tf.keras.Model(inputs, outputs, name='model_1_dense')\n"
      ],
      "metadata": {
        "id": "zwcOh1gLcNAn"
      },
      "execution_count": 41,
      "outputs": []
    },
    {
      "cell_type": "code",
      "source": [
        "model_1.summary()"
      ],
      "metadata": {
        "colab": {
          "base_uri": "https://localhost:8080/"
        },
        "id": "ljiEkG3SeFL5",
        "outputId": "06fb7a24-4c9b-43f1-b3c3-43031facf3ad"
      },
      "execution_count": 42,
      "outputs": [
        {
          "output_type": "stream",
          "name": "stdout",
          "text": [
            "Model: \"model_1_dense\"\n",
            "_________________________________________________________________\n",
            " Layer (type)                Output Shape              Param #   \n",
            "=================================================================\n",
            " input_1 (InputLayer)        [(None, 1)]               0         \n",
            "                                                                 \n",
            " text_vectorization_1 (TextV  (None, 15)               0         \n",
            " ectorization)                                                   \n",
            "                                                                 \n",
            " embedding (Embedding)       (None, 15, 128)           1280000   \n",
            "                                                                 \n",
            " global_average_pooling1d (G  (None, 128)              0         \n",
            " lobalAveragePooling1D)                                          \n",
            "                                                                 \n",
            " dense (Dense)               (None, 1)                 129       \n",
            "                                                                 \n",
            "=================================================================\n",
            "Total params: 1,280,129\n",
            "Trainable params: 1,280,129\n",
            "Non-trainable params: 0\n",
            "_________________________________________________________________\n"
          ]
        }
      ]
    },
    {
      "cell_type": "code",
      "source": [
        "# Compile the model\n",
        "\n",
        "model_1.compile(loss = 'binary_crossentropy',\n",
        "                optimizer = tf.keras.optimizers.Adam(),\n",
        "                metrics = ['accuracy'])"
      ],
      "metadata": {
        "id": "s62oIi6Qefj2"
      },
      "execution_count": 43,
      "outputs": []
    },
    {
      "cell_type": "code",
      "source": [
        "# Fit the model\n",
        "\n",
        "model_history = model_1.fit(x = train_sentences,\n",
        "                          y = train_labels,\n",
        "                          epochs = 5,\n",
        "                          validation_data = (val_sentences, val_labels),\n",
        "                          callbacks = [create_tensorboard_callback(dir_name = SAVE_DIR,\n",
        "                                                                   experiment_name = 'model_1_dense')])"
      ],
      "metadata": {
        "colab": {
          "base_uri": "https://localhost:8080/"
        },
        "id": "7epjIpk4f6Pa",
        "outputId": "9d0adcf9-6bda-4ede-efe7-97caad38a836"
      },
      "execution_count": 44,
      "outputs": [
        {
          "output_type": "stream",
          "name": "stdout",
          "text": [
            "Saving TensorBoard log files to: model_logs/model_1_dense/20220912-182407\n",
            "Epoch 1/5\n",
            "215/215 [==============================] - 5s 5ms/step - loss: 0.6094 - accuracy: 0.6916 - val_loss: 0.5357 - val_accuracy: 0.7572\n",
            "Epoch 2/5\n",
            "215/215 [==============================] - 1s 6ms/step - loss: 0.4410 - accuracy: 0.8189 - val_loss: 0.4691 - val_accuracy: 0.7848\n",
            "Epoch 3/5\n",
            "215/215 [==============================] - 2s 8ms/step - loss: 0.3463 - accuracy: 0.8605 - val_loss: 0.4590 - val_accuracy: 0.7900\n",
            "Epoch 4/5\n",
            "215/215 [==============================] - 2s 8ms/step - loss: 0.2848 - accuracy: 0.8923 - val_loss: 0.4641 - val_accuracy: 0.7927\n",
            "Epoch 5/5\n",
            "215/215 [==============================] - 2s 8ms/step - loss: 0.2380 - accuracy: 0.9118 - val_loss: 0.4767 - val_accuracy: 0.7874\n"
          ]
        }
      ]
    },
    {
      "cell_type": "code",
      "source": [
        "# Check the results\n",
        "\n",
        "model_1.evaluate(val_sentences, val_labels)"
      ],
      "metadata": {
        "colab": {
          "base_uri": "https://localhost:8080/"
        },
        "id": "BAsNyNt-gWGY",
        "outputId": "2d8522ea-eaf7-47e7-ccf3-bb9ecb9299d8"
      },
      "execution_count": 45,
      "outputs": [
        {
          "output_type": "stream",
          "name": "stdout",
          "text": [
            "24/24 [==============================] - 0s 4ms/step - loss: 0.4767 - accuracy: 0.7874\n"
          ]
        },
        {
          "output_type": "execute_result",
          "data": {
            "text/plain": [
              "[0.47668465971946716, 0.787401556968689]"
            ]
          },
          "metadata": {},
          "execution_count": 45
        }
      ]
    },
    {
      "cell_type": "code",
      "source": [
        "model_1_pred_probs = model_1.predict(val_sentences)\n",
        "model_1_pred_probs[0]"
      ],
      "metadata": {
        "colab": {
          "base_uri": "https://localhost:8080/"
        },
        "id": "4W4ErpMtj_RX",
        "outputId": "abcb3aa6-4eb3-4104-d2ee-4d5dba9bb338"
      },
      "execution_count": 46,
      "outputs": [
        {
          "output_type": "execute_result",
          "data": {
            "text/plain": [
              "array([0.40488204], dtype=float32)"
            ]
          },
          "metadata": {},
          "execution_count": 46
        }
      ]
    },
    {
      "cell_type": "code",
      "source": [
        "model_1_pred_probs.shape"
      ],
      "metadata": {
        "colab": {
          "base_uri": "https://localhost:8080/"
        },
        "id": "cUkhvxNGkYsf",
        "outputId": "764c1c3f-c897-4736-d333-dae92193236c"
      },
      "execution_count": 47,
      "outputs": [
        {
          "output_type": "execute_result",
          "data": {
            "text/plain": [
              "(762, 1)"
            ]
          },
          "metadata": {},
          "execution_count": 47
        }
      ]
    },
    {
      "cell_type": "code",
      "source": [
        "# Convert model prediction probs to label formats\n",
        "\n",
        "model_1_preds = tf.squeeze(tf.round(model_1_pred_probs))\n",
        "model_1_preds[:20]"
      ],
      "metadata": {
        "colab": {
          "base_uri": "https://localhost:8080/"
        },
        "id": "rnol5qDgkjeY",
        "outputId": "c9972371-a374-44ca-987e-20fae8ad5d0d"
      },
      "execution_count": 48,
      "outputs": [
        {
          "output_type": "execute_result",
          "data": {
            "text/plain": [
              "<tf.Tensor: shape=(20,), dtype=float32, numpy=\n",
              "array([0., 1., 1., 0., 0., 1., 1., 1., 1., 0., 0., 1., 0., 0., 0., 0., 0.,\n",
              "       0., 0., 1.], dtype=float32)>"
            ]
          },
          "metadata": {},
          "execution_count": 48
        }
      ]
    },
    {
      "cell_type": "code",
      "source": [
        "# Calcualte model 1 results\n",
        "model_1_results = calculate_results(y_true = val_labels,\n",
        "                            y_pred = model_1_preds)\n",
        "model_1_results"
      ],
      "metadata": {
        "colab": {
          "base_uri": "https://localhost:8080/"
        },
        "id": "T2AHYMBAoW-_",
        "outputId": "e7b04911-b46d-4723-fb15-84fe443a03a8"
      },
      "execution_count": 49,
      "outputs": [
        {
          "output_type": "execute_result",
          "data": {
            "text/plain": [
              "{'accuracy': 78.74015748031496,\n",
              " 'precision': 0.7914920592553047,\n",
              " 'recall': 0.7874015748031497,\n",
              " 'f1': 0.7846966492209201}"
            ]
          },
          "metadata": {},
          "execution_count": 49
        }
      ]
    },
    {
      "cell_type": "markdown",
      "source": [
        "## Visualizing learned embeddings\n",
        "\n"
      ],
      "metadata": {
        "id": "1wBtQhsE4rVc"
      }
    },
    {
      "cell_type": "code",
      "source": [
        "# Get the vocab from the text vectorization layer\n",
        "\n",
        "words_in_vocab = text_vectorizer.get_vocabulary()\n",
        "len(words_in_vocab)"
      ],
      "metadata": {
        "colab": {
          "base_uri": "https://localhost:8080/"
        },
        "id": "y-1L5dbZ5fR8",
        "outputId": "c4006d73-e4d7-479e-e514-640967a30d7a"
      },
      "execution_count": 50,
      "outputs": [
        {
          "output_type": "execute_result",
          "data": {
            "text/plain": [
              "10000"
            ]
          },
          "metadata": {},
          "execution_count": 50
        }
      ]
    },
    {
      "cell_type": "code",
      "source": [
        "words_in_vocab[:10]"
      ],
      "metadata": {
        "colab": {
          "base_uri": "https://localhost:8080/"
        },
        "id": "8ciU9Xu55sjc",
        "outputId": "16da2d87-5828-4d4a-bf89-25ea8ae86b24"
      },
      "execution_count": 51,
      "outputs": [
        {
          "output_type": "execute_result",
          "data": {
            "text/plain": [
              "['', '[UNK]', 'the', 'a', 'in', 'to', 'of', 'and', 'i', 'is']"
            ]
          },
          "metadata": {},
          "execution_count": 51
        }
      ]
    },
    {
      "cell_type": "code",
      "source": [
        "model_1.summary()"
      ],
      "metadata": {
        "colab": {
          "base_uri": "https://localhost:8080/"
        },
        "id": "QL2EYcz-5xBV",
        "outputId": "5d39ee2f-3f03-43c3-f95b-86d45d1d5b9c"
      },
      "execution_count": 52,
      "outputs": [
        {
          "output_type": "stream",
          "name": "stdout",
          "text": [
            "Model: \"model_1_dense\"\n",
            "_________________________________________________________________\n",
            " Layer (type)                Output Shape              Param #   \n",
            "=================================================================\n",
            " input_1 (InputLayer)        [(None, 1)]               0         \n",
            "                                                                 \n",
            " text_vectorization_1 (TextV  (None, 15)               0         \n",
            " ectorization)                                                   \n",
            "                                                                 \n",
            " embedding (Embedding)       (None, 15, 128)           1280000   \n",
            "                                                                 \n",
            " global_average_pooling1d (G  (None, 128)              0         \n",
            " lobalAveragePooling1D)                                          \n",
            "                                                                 \n",
            " dense (Dense)               (None, 1)                 129       \n",
            "                                                                 \n",
            "=================================================================\n",
            "Total params: 1,280,129\n",
            "Trainable params: 1,280,129\n",
            "Non-trainable params: 0\n",
            "_________________________________________________________________\n"
          ]
        }
      ]
    },
    {
      "cell_type": "code",
      "source": [
        "# Get the wieght matrix of embedding layer\n",
        "\n",
        "# These are the numerical representation of each token in our training data which have been \n",
        "\n",
        "embed_weights = model_1.get_layer('embedding').get_weights()[0]\n",
        "embed_weights"
      ],
      "metadata": {
        "colab": {
          "base_uri": "https://localhost:8080/"
        },
        "id": "xY5Q5wTtCZia",
        "outputId": "e41282df-8f57-49eb-a71a-36620bb995a4"
      },
      "execution_count": 54,
      "outputs": [
        {
          "output_type": "execute_result",
          "data": {
            "text/plain": [
              "array([[ 0.00073165,  0.015048  , -0.03425455, ..., -0.04403539,\n",
              "        -0.0104228 ,  0.01876438],\n",
              "       [ 0.04135862, -0.03945085, -0.03811941, ...,  0.00464736,\n",
              "         0.03163552,  0.029283  ],\n",
              "       [ 0.00684031,  0.05363133, -0.00241554, ..., -0.07082179,\n",
              "        -0.04750704,  0.01448255],\n",
              "       ...,\n",
              "       [-0.03301444, -0.0052493 , -0.04209725, ...,  0.02028764,\n",
              "         0.00308807,  0.02215792],\n",
              "       [ 0.00692342,  0.05942352, -0.01975194, ..., -0.06199061,\n",
              "        -0.01018393,  0.03510419],\n",
              "       [-0.0372346 ,  0.06267187, -0.07451146, ..., -0.02367218,\n",
              "        -0.0864333 ,  0.01742155]], dtype=float32)"
            ]
          },
          "metadata": {},
          "execution_count": 54
        }
      ]
    },
    {
      "cell_type": "code",
      "source": [
        "# Create embedding files\n",
        "import io\n",
        "\n",
        "out_v = io.open('vectors.tsv', 'w', encoding='utf-8')\n",
        "out_m = io.open('metadata.tsv', 'w', encoding='utf-8')\n",
        "\n",
        "for index, word in enumerate(words_in_vocab):\n",
        "  if index == 0:\n",
        "    continue  # skip 0, it's padding.\n",
        "  vec = embed_weights[index]\n",
        "  out_v.write('\\t'.join([str(x) for x in vec]) + \"\\n\")\n",
        "  out_m.write(word + \"\\n\")\n",
        "out_v.close()\n",
        "out_m.close()"
      ],
      "metadata": {
        "id": "bPK4KqVvGV4N"
      },
      "execution_count": 55,
      "outputs": []
    },
    {
      "cell_type": "code",
      "source": [
        "# Download files from colab and upload to projector tool\n",
        "\n",
        "try:\n",
        "  from google.colab import files\n",
        "  files.download('vectors.tsv')\n",
        "  files.download('metadata.tsv')\n",
        "except Exception:\n",
        "  pass"
      ],
      "metadata": {
        "colab": {
          "base_uri": "https://localhost:8080/",
          "height": 52
        },
        "id": "-eIxpRlgGd0E",
        "outputId": "1c9fe6e9-4068-4caf-9641-162e1a96257c"
      },
      "execution_count": 56,
      "outputs": [
        {
          "output_type": "display_data",
          "data": {
            "text/plain": [
              "<IPython.core.display.Javascript object>"
            ],
            "application/javascript": [
              "\n",
              "    async function download(id, filename, size) {\n",
              "      if (!google.colab.kernel.accessAllowed) {\n",
              "        return;\n",
              "      }\n",
              "      const div = document.createElement('div');\n",
              "      const label = document.createElement('label');\n",
              "      label.textContent = `Downloading \"${filename}\": `;\n",
              "      div.appendChild(label);\n",
              "      const progress = document.createElement('progress');\n",
              "      progress.max = size;\n",
              "      div.appendChild(progress);\n",
              "      document.body.appendChild(div);\n",
              "\n",
              "      const buffers = [];\n",
              "      let downloaded = 0;\n",
              "\n",
              "      const channel = await google.colab.kernel.comms.open(id);\n",
              "      // Send a message to notify the kernel that we're ready.\n",
              "      channel.send({})\n",
              "\n",
              "      for await (const message of channel.messages) {\n",
              "        // Send a message to notify the kernel that we're ready.\n",
              "        channel.send({})\n",
              "        if (message.buffers) {\n",
              "          for (const buffer of message.buffers) {\n",
              "            buffers.push(buffer);\n",
              "            downloaded += buffer.byteLength;\n",
              "            progress.value = downloaded;\n",
              "          }\n",
              "        }\n",
              "      }\n",
              "      const blob = new Blob(buffers, {type: 'application/binary'});\n",
              "      const a = document.createElement('a');\n",
              "      a.href = window.URL.createObjectURL(blob);\n",
              "      a.download = filename;\n",
              "      div.appendChild(a);\n",
              "      a.click();\n",
              "      div.remove();\n",
              "    }\n",
              "  "
            ]
          },
          "metadata": {}
        },
        {
          "output_type": "display_data",
          "data": {
            "text/plain": [
              "<IPython.core.display.Javascript object>"
            ],
            "application/javascript": [
              "download(\"download_28fc1230-e816-489b-afe3-0afa51b2bc9f\", \"vectors.tsv\", 15391240)"
            ]
          },
          "metadata": {}
        },
        {
          "output_type": "display_data",
          "data": {
            "text/plain": [
              "<IPython.core.display.Javascript object>"
            ],
            "application/javascript": [
              "\n",
              "    async function download(id, filename, size) {\n",
              "      if (!google.colab.kernel.accessAllowed) {\n",
              "        return;\n",
              "      }\n",
              "      const div = document.createElement('div');\n",
              "      const label = document.createElement('label');\n",
              "      label.textContent = `Downloading \"${filename}\": `;\n",
              "      div.appendChild(label);\n",
              "      const progress = document.createElement('progress');\n",
              "      progress.max = size;\n",
              "      div.appendChild(progress);\n",
              "      document.body.appendChild(div);\n",
              "\n",
              "      const buffers = [];\n",
              "      let downloaded = 0;\n",
              "\n",
              "      const channel = await google.colab.kernel.comms.open(id);\n",
              "      // Send a message to notify the kernel that we're ready.\n",
              "      channel.send({})\n",
              "\n",
              "      for await (const message of channel.messages) {\n",
              "        // Send a message to notify the kernel that we're ready.\n",
              "        channel.send({})\n",
              "        if (message.buffers) {\n",
              "          for (const buffer of message.buffers) {\n",
              "            buffers.push(buffer);\n",
              "            downloaded += buffer.byteLength;\n",
              "            progress.value = downloaded;\n",
              "          }\n",
              "        }\n",
              "      }\n",
              "      const blob = new Blob(buffers, {type: 'application/binary'});\n",
              "      const a = document.createElement('a');\n",
              "      a.href = window.URL.createObjectURL(blob);\n",
              "      a.download = filename;\n",
              "      div.appendChild(a);\n",
              "      a.click();\n",
              "      div.remove();\n",
              "    }\n",
              "  "
            ]
          },
          "metadata": {}
        },
        {
          "output_type": "display_data",
          "data": {
            "text/plain": [
              "<IPython.core.display.Javascript object>"
            ],
            "application/javascript": [
              "download(\"download_3ef01fce-4809-4870-a908-62eab771b256\", \"metadata.tsv\", 80388)"
            ]
          },
          "metadata": {}
        }
      ]
    },
    {
      "cell_type": "markdown",
      "source": [
        "## Recurrent neural network (RNN's)\n",
        "\n",
        "> RNN's are useful for sequence data.\n",
        "\n",
        "> The premise of a recurrent neural network is to use the representation of a previous input to aid the representation of the later input.\n",
        "\n",
        "> "
      ],
      "metadata": {
        "id": "gmALpC1ZIAtE"
      }
    },
    {
      "cell_type": "code",
      "source": [
        "2784 *3*4"
      ],
      "metadata": {
        "id": "C46fH350S_PT",
        "colab": {
          "base_uri": "https://localhost:8080/"
        },
        "outputId": "2ffb7a34-4d6f-4b02-c3cf-b5fc48be1267"
      },
      "execution_count": 57,
      "outputs": [
        {
          "output_type": "execute_result",
          "data": {
            "text/plain": [
              "33408"
            ]
          },
          "metadata": {},
          "execution_count": 57
        }
      ]
    },
    {
      "cell_type": "markdown",
      "source": [
        "### Model 2 : LSTM\n",
        "\n",
        "LSTM = Long Short Term \n",
        "\n",
        "Structur of an RNN\n",
        "\n",
        "    Input(text) -> Tokenize -> Embedding -> Layers(RNNs/Dense) -> Output (label probability)"
      ],
      "metadata": {
        "id": "QVNpiR1HzM6t"
      }
    },
    {
      "cell_type": "code",
      "source": [
        "# Create an LSTM Modle\n",
        "\n",
        "from tensorflow.keras import layers\n",
        "\n",
        "inputs = layers.Input(shape=(1, ), dtype = 'string')\n",
        "x = text_vectorizer(inputs)\n",
        "x = embedding(x)\n",
        "# print(x.shape)\n",
        "x = layers.LSTM(64, return_sequences = True)(x) # when you're stacking RNN cells together you need to return sequences\n",
        "# print(x.shape)\n",
        "x = layers.LSTM(64)(x)\n",
        "# print(x.shape)\n",
        "x = layers.Dense(64, activation = 'relu')(x)\n",
        "# print(x.shape)\n",
        "outputs = layers.Dense(1, activation = 'sigmoid')(x)\n",
        "model_2 = tf.keras.Model(inputs, outputs, name = 'model_2_LSTM')"
      ],
      "metadata": {
        "id": "pb3sPZD1zyJN"
      },
      "execution_count": 58,
      "outputs": []
    },
    {
      "cell_type": "code",
      "source": [
        "# Get a summary\n",
        "\n",
        "model_2.summary()"
      ],
      "metadata": {
        "colab": {
          "base_uri": "https://localhost:8080/"
        },
        "id": "VGhpxvuc09Gl",
        "outputId": "a15e4c32-c971-4033-8d1b-3033ec13ad21"
      },
      "execution_count": 59,
      "outputs": [
        {
          "output_type": "stream",
          "name": "stdout",
          "text": [
            "Model: \"model_2_LSTM\"\n",
            "_________________________________________________________________\n",
            " Layer (type)                Output Shape              Param #   \n",
            "=================================================================\n",
            " input_2 (InputLayer)        [(None, 1)]               0         \n",
            "                                                                 \n",
            " text_vectorization_1 (TextV  (None, 15)               0         \n",
            " ectorization)                                                   \n",
            "                                                                 \n",
            " embedding (Embedding)       (None, 15, 128)           1280000   \n",
            "                                                                 \n",
            " lstm (LSTM)                 (None, 15, 64)            49408     \n",
            "                                                                 \n",
            " lstm_1 (LSTM)               (None, 64)                33024     \n",
            "                                                                 \n",
            " dense_1 (Dense)             (None, 64)                4160      \n",
            "                                                                 \n",
            " dense_2 (Dense)             (None, 1)                 65        \n",
            "                                                                 \n",
            "=================================================================\n",
            "Total params: 1,366,657\n",
            "Trainable params: 1,366,657\n",
            "Non-trainable params: 0\n",
            "_________________________________________________________________\n"
          ]
        }
      ]
    },
    {
      "cell_type": "code",
      "source": [
        "# Compile the model\n",
        "model_2.compile(loss= 'binary_crossentropy',\n",
        "                optimizer = tf.keras.optimizers.Adam(),\n",
        "                metrics =['accuracy'])"
      ],
      "metadata": {
        "id": "jW5pdsV58mAC"
      },
      "execution_count": 60,
      "outputs": []
    },
    {
      "cell_type": "code",
      "source": [
        "# Fit the model\n",
        "\n",
        "model_2_history = model_2.fit(train_sentences,\n",
        "                              train_labels,\n",
        "                              epochs = 5,\n",
        "                              validation_data = (val_sentences, val_labels),\n",
        "                              callbacks = [create_tensorboard_callback(SAVE_DIR,\n",
        "                                                                       'model_2')])"
      ],
      "metadata": {
        "colab": {
          "base_uri": "https://localhost:8080/"
        },
        "id": "m9AxSznw9zJU",
        "outputId": "1a0796be-0ec6-41aa-ed25-f471ff368435"
      },
      "execution_count": 61,
      "outputs": [
        {
          "output_type": "stream",
          "name": "stdout",
          "text": [
            "Saving TensorBoard log files to: model_logs/model_2/20220912-182442\n",
            "Epoch 1/5\n",
            "215/215 [==============================] - 10s 20ms/step - loss: 0.2189 - accuracy: 0.9250 - val_loss: 0.5444 - val_accuracy: 0.7795\n",
            "Epoch 2/5\n",
            "215/215 [==============================] - 3s 15ms/step - loss: 0.1634 - accuracy: 0.9412 - val_loss: 0.6071 - val_accuracy: 0.7795\n",
            "Epoch 3/5\n",
            "215/215 [==============================] - 3s 15ms/step - loss: 0.1282 - accuracy: 0.9520 - val_loss: 0.7574 - val_accuracy: 0.7808\n",
            "Epoch 4/5\n",
            "215/215 [==============================] - 2s 11ms/step - loss: 0.1076 - accuracy: 0.9584 - val_loss: 0.9243 - val_accuracy: 0.7848\n",
            "Epoch 5/5\n",
            "215/215 [==============================] - 2s 9ms/step - loss: 0.0815 - accuracy: 0.9635 - val_loss: 0.9809 - val_accuracy: 0.7808\n"
          ]
        }
      ]
    },
    {
      "cell_type": "code",
      "source": [
        "model_2_pred_prob = model_2.predict(val_sentences)"
      ],
      "metadata": {
        "id": "Rt4-QLjJ-yCc"
      },
      "execution_count": 62,
      "outputs": []
    },
    {
      "cell_type": "code",
      "source": [
        "model_2_pred_prob[:10]"
      ],
      "metadata": {
        "colab": {
          "base_uri": "https://localhost:8080/"
        },
        "id": "hY82EpWC_jQr",
        "outputId": "b3d095c2-7ed5-4af0-de65-03a01fc4298e"
      },
      "execution_count": 63,
      "outputs": [
        {
          "output_type": "execute_result",
          "data": {
            "text/plain": [
              "array([[2.3730553e-03],\n",
              "       [5.7842934e-01],\n",
              "       [9.9988604e-01],\n",
              "       [5.8599312e-02],\n",
              "       [2.6671814e-05],\n",
              "       [9.9545348e-01],\n",
              "       [9.3895912e-01],\n",
              "       [9.9989414e-01],\n",
              "       [9.9978155e-01],\n",
              "       [3.9918759e-01]], dtype=float32)"
            ]
          },
          "metadata": {},
          "execution_count": 63
        }
      ]
    },
    {
      "cell_type": "code",
      "source": [
        "# Convert model 2 pred probs to labels\n",
        "\n",
        "model_2_preds = tf.squeeze(tf.round(model_2_pred_prob))\n",
        "model_2_preds[:10]"
      ],
      "metadata": {
        "colab": {
          "base_uri": "https://localhost:8080/"
        },
        "id": "6CF5teuw_kXV",
        "outputId": "fce5f2dd-f0f7-4440-b68c-28ea9dd15469"
      },
      "execution_count": 64,
      "outputs": [
        {
          "output_type": "execute_result",
          "data": {
            "text/plain": [
              "<tf.Tensor: shape=(10,), dtype=float32, numpy=array([0., 1., 1., 0., 0., 1., 1., 1., 1., 0.], dtype=float32)>"
            ]
          },
          "metadata": {},
          "execution_count": 64
        }
      ]
    },
    {
      "cell_type": "code",
      "source": [
        "# Calcualte model 2 results\n",
        "model_2_results = calculate_results(y_true = val_labels,\n",
        "                                    y_pred = model_2_preds)"
      ],
      "metadata": {
        "id": "FVnEA09qJ9Ja"
      },
      "execution_count": 65,
      "outputs": []
    },
    {
      "cell_type": "code",
      "source": [
        "model_2_results"
      ],
      "metadata": {
        "colab": {
          "base_uri": "https://localhost:8080/"
        },
        "id": "9G6LNhOyKIKj",
        "outputId": "d8cd0ff8-da87-4fb5-d9aa-55dd94a4d959"
      },
      "execution_count": 66,
      "outputs": [
        {
          "output_type": "execute_result",
          "data": {
            "text/plain": [
              "{'accuracy': 78.08398950131233,\n",
              " 'precision': 0.7856875884556138,\n",
              " 'recall': 0.7808398950131233,\n",
              " 'f1': 0.777681907957685}"
            ]
          },
          "metadata": {},
          "execution_count": 66
        }
      ]
    },
    {
      "cell_type": "code",
      "source": [
        "baseline_results"
      ],
      "metadata": {
        "colab": {
          "base_uri": "https://localhost:8080/"
        },
        "id": "m1kN3gdkKmsq",
        "outputId": "e48cd905-cf76-48e0-afb8-2d00a1924c62"
      },
      "execution_count": 67,
      "outputs": [
        {
          "output_type": "execute_result",
          "data": {
            "text/plain": [
              "{'accuracy': 79.26509186351706,\n",
              " 'precision': 0.8111390004213173,\n",
              " 'recall': 0.7926509186351706,\n",
              " 'f1': 0.7862189758049549}"
            ]
          },
          "metadata": {},
          "execution_count": 67
        }
      ]
    },
    {
      "cell_type": "code",
      "source": [
        "model_1_results"
      ],
      "metadata": {
        "colab": {
          "base_uri": "https://localhost:8080/"
        },
        "id": "th81PPROKn8P",
        "outputId": "31f3e11f-05fa-41cd-8740-b849a31213bb"
      },
      "execution_count": 68,
      "outputs": [
        {
          "output_type": "execute_result",
          "data": {
            "text/plain": [
              "{'accuracy': 78.74015748031496,\n",
              " 'precision': 0.7914920592553047,\n",
              " 'recall': 0.7874015748031497,\n",
              " 'f1': 0.7846966492209201}"
            ]
          },
          "metadata": {},
          "execution_count": 68
        }
      ]
    },
    {
      "cell_type": "markdown",
      "source": [
        "### Model_3: GRU\n",
        "\n",
        "GRU - Gated Recurrent Unit\n",
        "The GRU cell has similar features to an LSTM cell but has less parameters."
      ],
      "metadata": {
        "id": "UDZdDb2AKo37"
      }
    },
    {
      "cell_type": "code",
      "source": [
        "from tensorflow.keras import layers\n",
        "inputs = layers.Input(shape =(1, ), dtype = 'string')\n",
        "x = text_vectorizer(inputs)\n",
        "x = embedding(x)\n",
        "x = layers.GRU(64)(x)\n",
        "# x = layers.LSTM(64, return_sequences = True)(x)\n",
        "# x = layers.GRU(64)(x)\n",
        "# x = layers.Dense(64, activation = 'relu')(x)\n",
        "outputs = layers.Dense(1, activation = 'sigmoid')(x)\n",
        "model_3 = tf.keras.Model(inputs, outputs, name = 'model_3_GRU')"
      ],
      "metadata": {
        "id": "R2c3YhI2Lgqu"
      },
      "execution_count": 69,
      "outputs": []
    },
    {
      "cell_type": "code",
      "source": [
        "model_3.summary()"
      ],
      "metadata": {
        "colab": {
          "base_uri": "https://localhost:8080/"
        },
        "id": "yQSWN-Iao2ja",
        "outputId": "4689259f-83ac-4193-8fe3-254e40d25b82"
      },
      "execution_count": 70,
      "outputs": [
        {
          "output_type": "stream",
          "name": "stdout",
          "text": [
            "Model: \"model_3_GRU\"\n",
            "_________________________________________________________________\n",
            " Layer (type)                Output Shape              Param #   \n",
            "=================================================================\n",
            " input_3 (InputLayer)        [(None, 1)]               0         \n",
            "                                                                 \n",
            " text_vectorization_1 (TextV  (None, 15)               0         \n",
            " ectorization)                                                   \n",
            "                                                                 \n",
            " embedding (Embedding)       (None, 15, 128)           1280000   \n",
            "                                                                 \n",
            " gru (GRU)                   (None, 64)                37248     \n",
            "                                                                 \n",
            " dense_3 (Dense)             (None, 1)                 65        \n",
            "                                                                 \n",
            "=================================================================\n",
            "Total params: 1,317,313\n",
            "Trainable params: 1,317,313\n",
            "Non-trainable params: 0\n",
            "_________________________________________________________________\n"
          ]
        }
      ]
    },
    {
      "cell_type": "code",
      "source": [
        "# Xomile the modle\n",
        "\n",
        "model_3.compile(loss = 'binary_crossentropy',\n",
        "                optimizer = tf.keras.optimizers.Adam(),\n",
        "                metrics= ['accuracy'])\n",
        "\n",
        "# Fit the model\n",
        "\n",
        "model_3.history = model_3.fit(train_sentences,\n",
        "                              train_labels,\n",
        "                              epochs = 5,\n",
        "                              validation_data = (val_sentences, val_labels),\n",
        "                              callbacks = [create_tensorboard_callback(SAVE_DIR,\n",
        "                                                                       'model_3_Gru')])"
      ],
      "metadata": {
        "colab": {
          "base_uri": "https://localhost:8080/"
        },
        "id": "BREv_JgSp6oO",
        "outputId": "d118a2aa-99fb-4726-c598-a29df711cff6"
      },
      "execution_count": 71,
      "outputs": [
        {
          "output_type": "stream",
          "name": "stdout",
          "text": [
            "Saving TensorBoard log files to: model_logs/model_3_Gru/20220912-182503\n",
            "Epoch 1/5\n",
            "215/215 [==============================] - 4s 8ms/step - loss: 0.1620 - accuracy: 0.9377 - val_loss: 0.6392 - val_accuracy: 0.7795\n",
            "Epoch 2/5\n",
            "215/215 [==============================] - 1s 6ms/step - loss: 0.0887 - accuracy: 0.9672 - val_loss: 0.7860 - val_accuracy: 0.7808\n",
            "Epoch 3/5\n",
            "215/215 [==============================] - 1s 6ms/step - loss: 0.0717 - accuracy: 0.9721 - val_loss: 1.0992 - val_accuracy: 0.7664\n",
            "Epoch 4/5\n",
            "215/215 [==============================] - 1s 6ms/step - loss: 0.0630 - accuracy: 0.9739 - val_loss: 1.0155 - val_accuracy: 0.7782\n",
            "Epoch 5/5\n",
            "215/215 [==============================] - 1s 6ms/step - loss: 0.0519 - accuracy: 0.9758 - val_loss: 1.2545 - val_accuracy: 0.7782\n"
          ]
        }
      ]
    },
    {
      "cell_type": "code",
      "source": [
        "model_3_pred_probs = model_3.predict(val_sentences)\n",
        "model_3_pred_probs[:10]"
      ],
      "metadata": {
        "colab": {
          "base_uri": "https://localhost:8080/"
        },
        "id": "dfweqARxsA56",
        "outputId": "08955be6-e55c-4b32-950d-fc4e90c64882"
      },
      "execution_count": 72,
      "outputs": [
        {
          "output_type": "execute_result",
          "data": {
            "text/plain": [
              "array([[4.7421441e-04],\n",
              "       [7.2494882e-01],\n",
              "       [9.9988055e-01],\n",
              "       [9.6555941e-02],\n",
              "       [6.1819919e-05],\n",
              "       [9.9976522e-01],\n",
              "       [9.6143895e-01],\n",
              "       [9.9993181e-01],\n",
              "       [9.9987459e-01],\n",
              "       [9.8283893e-01]], dtype=float32)"
            ]
          },
          "metadata": {},
          "execution_count": 72
        }
      ]
    },
    {
      "cell_type": "code",
      "source": [
        "model_3_preds = tf.squeeze(tf.round(model_3_pred_probs))"
      ],
      "metadata": {
        "id": "NOch9NUdsIeW"
      },
      "execution_count": 73,
      "outputs": []
    },
    {
      "cell_type": "code",
      "source": [
        "model_3_results = calculate_results(y_true = val_labels,\n",
        "                                    y_pred = model_3_preds)"
      ],
      "metadata": {
        "id": "eC7xWHTisTln"
      },
      "execution_count": 74,
      "outputs": []
    },
    {
      "cell_type": "code",
      "source": [
        "model_3_results"
      ],
      "metadata": {
        "colab": {
          "base_uri": "https://localhost:8080/"
        },
        "id": "lRaZDvAgsn7j",
        "outputId": "f63f7ade-928e-4189-e635-ea8a9ebc07a9"
      },
      "execution_count": 75,
      "outputs": [
        {
          "output_type": "execute_result",
          "data": {
            "text/plain": [
              "{'accuracy': 77.82152230971128,\n",
              " 'precision': 0.7791991586469295,\n",
              " 'recall': 0.7782152230971129,\n",
              " 'f1': 0.7766208088282468}"
            ]
          },
          "metadata": {},
          "execution_count": 75
        }
      ]
    },
    {
      "cell_type": "code",
      "source": [
        "model_2_results"
      ],
      "metadata": {
        "colab": {
          "base_uri": "https://localhost:8080/"
        },
        "id": "KGvsLuDCsrBX",
        "outputId": "5bdaf9fd-255c-4d16-e624-b1e4e1c9c472"
      },
      "execution_count": 76,
      "outputs": [
        {
          "output_type": "execute_result",
          "data": {
            "text/plain": [
              "{'accuracy': 78.08398950131233,\n",
              " 'precision': 0.7856875884556138,\n",
              " 'recall': 0.7808398950131233,\n",
              " 'f1': 0.777681907957685}"
            ]
          },
          "metadata": {},
          "execution_count": 76
        }
      ]
    },
    {
      "cell_type": "code",
      "source": [
        "model_2_results"
      ],
      "metadata": {
        "colab": {
          "base_uri": "https://localhost:8080/"
        },
        "id": "OUch1We6ssu4",
        "outputId": "6ca1a5df-a7ed-4692-a410-59c969f0de71"
      },
      "execution_count": 77,
      "outputs": [
        {
          "output_type": "execute_result",
          "data": {
            "text/plain": [
              "{'accuracy': 78.08398950131233,\n",
              " 'precision': 0.7856875884556138,\n",
              " 'recall': 0.7808398950131233,\n",
              " 'f1': 0.777681907957685}"
            ]
          },
          "metadata": {},
          "execution_count": 77
        }
      ]
    },
    {
      "cell_type": "code",
      "source": [
        "baseline_results"
      ],
      "metadata": {
        "colab": {
          "base_uri": "https://localhost:8080/"
        },
        "id": "EMtHX-hgst6w",
        "outputId": "663f399e-6247-4ea3-e083-6bb18d3d9c3b"
      },
      "execution_count": 78,
      "outputs": [
        {
          "output_type": "execute_result",
          "data": {
            "text/plain": [
              "{'accuracy': 79.26509186351706,\n",
              " 'precision': 0.8111390004213173,\n",
              " 'recall': 0.7926509186351706,\n",
              " 'f1': 0.7862189758049549}"
            ]
          },
          "metadata": {},
          "execution_count": 78
        }
      ]
    },
    {
      "cell_type": "markdown",
      "source": [
        "### Model 4: Bidirectional RNN\n",
        "\n",
        "Normal RNN's go from left to right to left.\n",
        "\n",
        "Bidrectional RNN goes from right to left aswell as left to right"
      ],
      "metadata": {
        "id": "8Zqef0DDvqrf"
      }
    },
    {
      "cell_type": "code",
      "source": [
        "# Bulid a bidirectional RNN in tensorflow\n",
        "\n",
        "from tensorflow.keras import layers\n",
        "\n",
        "inputs = layers.Input(shape = (1,), dtype = 'string')\n",
        "x = text_vectorizer(inputs)\n",
        "x = embedding(x)\n",
        "x = layers.Bidirectional(layers.LSTM(64))(x)\n",
        "# x = layers.Bidirectional(layers.GRU(64))(x)\n",
        "outputs = layers.Dense(1, activation = 'sigmoid')(x)\n",
        "model_4 =  tf.keras.Model(inputs, outputs, name = 'model_4_bidirectional')"
      ],
      "metadata": {
        "id": "bHDp8FQOfiHV"
      },
      "execution_count": 79,
      "outputs": []
    },
    {
      "cell_type": "code",
      "source": [
        "# Model 4 summary\n",
        "\n",
        "model_4.summary()"
      ],
      "metadata": {
        "colab": {
          "base_uri": "https://localhost:8080/"
        },
        "id": "Wa2g2IRAg00D",
        "outputId": "91b00c7d-511f-400e-8739-c362125434b8"
      },
      "execution_count": 80,
      "outputs": [
        {
          "output_type": "stream",
          "name": "stdout",
          "text": [
            "Model: \"model_4_bidirectional\"\n",
            "_________________________________________________________________\n",
            " Layer (type)                Output Shape              Param #   \n",
            "=================================================================\n",
            " input_4 (InputLayer)        [(None, 1)]               0         \n",
            "                                                                 \n",
            " text_vectorization_1 (TextV  (None, 15)               0         \n",
            " ectorization)                                                   \n",
            "                                                                 \n",
            " embedding (Embedding)       (None, 15, 128)           1280000   \n",
            "                                                                 \n",
            " bidirectional (Bidirectiona  (None, 128)              98816     \n",
            " l)                                                              \n",
            "                                                                 \n",
            " dense_4 (Dense)             (None, 1)                 129       \n",
            "                                                                 \n",
            "=================================================================\n",
            "Total params: 1,378,945\n",
            "Trainable params: 1,378,945\n",
            "Non-trainable params: 0\n",
            "_________________________________________________________________\n"
          ]
        }
      ]
    },
    {
      "cell_type": "code",
      "source": [
        "# Compile the model\n",
        "\n",
        "model_4.compile(loss = 'binary_crossentropy',\n",
        "                optimizer = tf.keras.optimizers.Adam(),\n",
        "                metrics = ['accuracy'])\n"
      ],
      "metadata": {
        "id": "e2EAZtbbhPGV"
      },
      "execution_count": 81,
      "outputs": []
    },
    {
      "cell_type": "code",
      "source": [
        "# Fit the model\n",
        "\n",
        "model_4_history = model_4.fit(train_sentences, train_labels, epochs  =5,\n",
        "                              validation_data = (val_sentences, val_labels),\n",
        "                              callbacks = [create_tensorboard_callback(SAVE_DIR,\n",
        "                                                                       'Model_4_Bidirectioanl')])"
      ],
      "metadata": {
        "colab": {
          "base_uri": "https://localhost:8080/"
        },
        "id": "ubHg19zVnxiL",
        "outputId": "14291657-e5dd-4231-9e27-dded5ad53b14"
      },
      "execution_count": 82,
      "outputs": [
        {
          "output_type": "stream",
          "name": "stdout",
          "text": [
            "Saving TensorBoard log files to: model_logs/Model_4_Bidirectioanl/20220912-182516\n",
            "Epoch 1/5\n",
            "215/215 [==============================] - 5s 12ms/step - loss: 0.1096 - accuracy: 0.9692 - val_loss: 0.9659 - val_accuracy: 0.7730\n",
            "Epoch 2/5\n",
            "215/215 [==============================] - 2s 8ms/step - loss: 0.0519 - accuracy: 0.9762 - val_loss: 1.2894 - val_accuracy: 0.7717\n",
            "Epoch 3/5\n",
            "215/215 [==============================] - 2s 9ms/step - loss: 0.0458 - accuracy: 0.9791 - val_loss: 1.3640 - val_accuracy: 0.7677\n",
            "Epoch 4/5\n",
            "215/215 [==============================] - 2s 8ms/step - loss: 0.0431 - accuracy: 0.9806 - val_loss: 1.0325 - val_accuracy: 0.7533\n",
            "Epoch 5/5\n",
            "215/215 [==============================] - 2s 8ms/step - loss: 0.0454 - accuracy: 0.9796 - val_loss: 1.4523 - val_accuracy: 0.7625\n"
          ]
        }
      ]
    },
    {
      "cell_type": "code",
      "source": [
        "# Make prediction \n",
        "\n",
        "model_4_pred_probs = model_4.predict(val_sentences)\n",
        "model_4_pred_probs[:10]"
      ],
      "metadata": {
        "colab": {
          "base_uri": "https://localhost:8080/"
        },
        "id": "ICTzsM9loKva",
        "outputId": "7b299236-bf42-43bb-ff93-e9368a374461"
      },
      "execution_count": 83,
      "outputs": [
        {
          "output_type": "execute_result",
          "data": {
            "text/plain": [
              "array([[1.1540219e-04],\n",
              "       [6.5747565e-01],\n",
              "       [9.9995530e-01],\n",
              "       [1.9027892e-01],\n",
              "       [5.4347520e-06],\n",
              "       [9.9795640e-01],\n",
              "       [5.0462466e-01],\n",
              "       [9.9997413e-01],\n",
              "       [9.9994719e-01],\n",
              "       [8.9158070e-01]], dtype=float32)"
            ]
          },
          "metadata": {},
          "execution_count": 83
        }
      ]
    },
    {
      "cell_type": "code",
      "source": [
        "model_4_preds = tf.squeeze(tf.round(model_4_pred_probs))\n",
        "model_4_preds[:10]"
      ],
      "metadata": {
        "colab": {
          "base_uri": "https://localhost:8080/"
        },
        "id": "KgcIupBIoqfz",
        "outputId": "73bde1c7-f0af-4853-c30f-0f3cd6b67e5c"
      },
      "execution_count": 84,
      "outputs": [
        {
          "output_type": "execute_result",
          "data": {
            "text/plain": [
              "<tf.Tensor: shape=(10,), dtype=float32, numpy=array([0., 1., 1., 0., 0., 1., 1., 1., 1., 1.], dtype=float32)>"
            ]
          },
          "metadata": {},
          "execution_count": 84
        }
      ]
    },
    {
      "cell_type": "code",
      "source": [
        "# Calculate the results of our bidirectional model\n",
        "\n",
        "model_4_results = calculate_results(y_true = val_labels,\n",
        "                                    y_pred = model_4_preds)"
      ],
      "metadata": {
        "id": "tf8Oxs75qkB-"
      },
      "execution_count": 85,
      "outputs": []
    },
    {
      "cell_type": "code",
      "source": [
        "print( model_4_results, '\\n', model_3_results, '\\n', model_2_results, '\\n', model_1_results, '\\n', baseline_results)"
      ],
      "metadata": {
        "colab": {
          "base_uri": "https://localhost:8080/"
        },
        "id": "0zTXBk-7qe4c",
        "outputId": "2aa65bdc-3e2e-4287-b752-44e951f4dc58"
      },
      "execution_count": 86,
      "outputs": [
        {
          "output_type": "stream",
          "name": "stdout",
          "text": [
            "{'accuracy': 76.24671916010499, 'precision': 0.7677266148183088, 'recall': 0.7624671916010499, 'f1': 0.7585330817821493} \n",
            " {'accuracy': 77.82152230971128, 'precision': 0.7791991586469295, 'recall': 0.7782152230971129, 'f1': 0.7766208088282468} \n",
            " {'accuracy': 78.08398950131233, 'precision': 0.7856875884556138, 'recall': 0.7808398950131233, 'f1': 0.777681907957685} \n",
            " {'accuracy': 78.74015748031496, 'precision': 0.7914920592553047, 'recall': 0.7874015748031497, 'f1': 0.7846966492209201} \n",
            " {'accuracy': 79.26509186351706, 'precision': 0.8111390004213173, 'recall': 0.7926509186351706, 'f1': 0.7862189758049549}\n"
          ]
        }
      ]
    },
    {
      "cell_type": "markdown",
      "source": [
        "## Convolutional Neural Network for Text (and other type of sequences)\n",
        "\n",
        ">Images are 2D (Conv2D)\n",
        "\n",
        ">Text are 1D (Conv1D)\n",
        "\n",
        "Typical Structure of Conv2D:\n",
        "\n",
        "    Inputs(test) --> Tokenisatin --> Embedding --> Conv1D --> Pooling --> Outputs"
      ],
      "metadata": {
        "id": "EGkUXvtErVhN"
      }
    },
    {
      "cell_type": "markdown",
      "source": [
        "### Model_5: Conv1D"
      ],
      "metadata": {
        "id": "N_hmPaUfuaKF"
      }
    },
    {
      "cell_type": "markdown",
      "source": [
        "####Brief Overview"
      ],
      "metadata": {
        "id": "laFqP5y_2zKT"
      }
    },
    {
      "cell_type": "code",
      "source": [
        "# Test out our embedding layer, Conv1D layer and max pooling\n",
        "\n",
        "embedding_test = embedding(text_vectorizer(['this is a test sentence'])) # Turn into Embedding\n",
        "conv_1d = layers.Conv1D(filters = 64,\n",
        "                        kernel_size = 5,\n",
        "                        activation = 'relu',\n",
        "                        padding = 'same')"
      ],
      "metadata": {
        "id": "FXFVzHx6tAn2"
      },
      "execution_count": 90,
      "outputs": []
    },
    {
      "cell_type": "code",
      "source": [
        "conv_1d_output = conv_1d(embedding_text)\n",
        "conv_1d_output[0]"
      ],
      "metadata": {
        "colab": {
          "base_uri": "https://localhost:8080/"
        },
        "id": "IolM284Nu_-n",
        "outputId": "3107dd93-6cd9-4fa9-ee2f-5e740698c370"
      },
      "execution_count": 94,
      "outputs": [
        {
          "output_type": "execute_result",
          "data": {
            "text/plain": [
              "<tf.Tensor: shape=(15, 64), dtype=float32, numpy=\n",
              "array([[0.        , 0.00556169, 0.        , 0.        , 0.        ,\n",
              "        0.03012613, 0.        , 0.        , 0.        , 0.        ,\n",
              "        0.03184682, 0.00337346, 0.03176581, 0.        , 0.        ,\n",
              "        0.05261538, 0.0076737 , 0.        , 0.        , 0.        ,\n",
              "        0.        , 0.03427724, 0.06237193, 0.        , 0.01206259,\n",
              "        0.00637787, 0.01392604, 0.        , 0.00983667, 0.01492696,\n",
              "        0.        , 0.        , 0.03280503, 0.01289649, 0.        ,\n",
              "        0.00830543, 0.01175603, 0.        , 0.        , 0.        ,\n",
              "        0.0314199 , 0.04730297, 0.01655575, 0.05854502, 0.02888556,\n",
              "        0.        , 0.0541241 , 0.        , 0.02514843, 0.        ,\n",
              "        0.        , 0.08583094, 0.        , 0.        , 0.        ,\n",
              "        0.00904964, 0.        , 0.        , 0.        , 0.00457649,\n",
              "        0.00718857, 0.00888377, 0.02674362, 0.04487272],\n",
              "       [0.00660127, 0.03351861, 0.        , 0.        , 0.        ,\n",
              "        0.        , 0.        , 0.07701308, 0.        , 0.0408925 ,\n",
              "        0.        , 0.        , 0.02220425, 0.        , 0.        ,\n",
              "        0.04257508, 0.        , 0.        , 0.        , 0.        ,\n",
              "        0.        , 0.00315462, 0.        , 0.        , 0.        ,\n",
              "        0.02422307, 0.005175  , 0.        , 0.        , 0.07912051,\n",
              "        0.02724387, 0.        , 0.        , 0.02023801, 0.        ,\n",
              "        0.        , 0.01215487, 0.        , 0.        , 0.        ,\n",
              "        0.        , 0.        , 0.04907646, 0.        , 0.        ,\n",
              "        0.        , 0.03228676, 0.00461838, 0.        , 0.00153333,\n",
              "        0.04625812, 0.0137924 , 0.        , 0.        , 0.        ,\n",
              "        0.        , 0.        , 0.        , 0.        , 0.05069713,\n",
              "        0.        , 0.00428335, 0.        , 0.        ],\n",
              "       [0.        , 0.06478687, 0.00119487, 0.        , 0.        ,\n",
              "        0.        , 0.07528871, 0.08397712, 0.01985135, 0.        ,\n",
              "        0.        , 0.00615181, 0.        , 0.        , 0.        ,\n",
              "        0.03595338, 0.01949558, 0.        , 0.        , 0.        ,\n",
              "        0.        , 0.0334455 , 0.05447079, 0.00535074, 0.        ,\n",
              "        0.02362659, 0.        , 0.        , 0.        , 0.08802286,\n",
              "        0.00205851, 0.02282171, 0.        , 0.        , 0.        ,\n",
              "        0.        , 0.06709199, 0.        , 0.04661107, 0.        ,\n",
              "        0.02872542, 0.        , 0.00599041, 0.01351687, 0.        ,\n",
              "        0.        , 0.01353838, 0.02986691, 0.        , 0.01269628,\n",
              "        0.        , 0.00436244, 0.        , 0.03146213, 0.        ,\n",
              "        0.03401089, 0.03912998, 0.        , 0.05695824, 0.00180502,\n",
              "        0.07943203, 0.01805284, 0.06441031, 0.        ],\n",
              "       [0.00433932, 0.        , 0.        , 0.        , 0.        ,\n",
              "        0.        , 0.        , 0.        , 0.05726048, 0.04120113,\n",
              "        0.        , 0.        , 0.        , 0.        , 0.        ,\n",
              "        0.08946073, 0.        , 0.        , 0.        , 0.04391163,\n",
              "        0.        , 0.1017101 , 0.03539277, 0.        , 0.        ,\n",
              "        0.00309778, 0.        , 0.01777642, 0.02167659, 0.00637963,\n",
              "        0.03549784, 0.03124708, 0.02101787, 0.00206175, 0.        ,\n",
              "        0.00593961, 0.03891196, 0.        , 0.01571485, 0.03307819,\n",
              "        0.        , 0.07150989, 0.        , 0.        , 0.        ,\n",
              "        0.        , 0.02558557, 0.02882521, 0.        , 0.        ,\n",
              "        0.        , 0.02107   , 0.0244744 , 0.01233515, 0.        ,\n",
              "        0.        , 0.        , 0.0143307 , 0.        , 0.        ,\n",
              "        0.05935885, 0.08708324, 0.00355037, 0.03100092],\n",
              "       [0.01055856, 0.        , 0.01472261, 0.        , 0.        ,\n",
              "        0.0004727 , 0.01676069, 0.02957897, 0.        , 0.01658073,\n",
              "        0.02382009, 0.03212946, 0.0005741 , 0.01802219, 0.00387808,\n",
              "        0.04846273, 0.0539113 , 0.00019759, 0.02082286, 0.        ,\n",
              "        0.        , 0.00172581, 0.01192917, 0.        , 0.        ,\n",
              "        0.        , 0.00218999, 0.0301909 , 0.07318126, 0.01440839,\n",
              "        0.01146519, 0.03914631, 0.        , 0.0311834 , 0.        ,\n",
              "        0.        , 0.00778833, 0.        , 0.        , 0.02020298,\n",
              "        0.00536586, 0.05577968, 0.02379512, 0.        , 0.        ,\n",
              "        0.03862662, 0.01312799, 0.        , 0.0094841 , 0.0464445 ,\n",
              "        0.        , 0.01758832, 0.00567269, 0.06253541, 0.02931677,\n",
              "        0.09385747, 0.        , 0.        , 0.01797692, 0.        ,\n",
              "        0.        , 0.01423754, 0.02278211, 0.00135137],\n",
              "       [0.        , 0.03790238, 0.        , 0.        , 0.01566675,\n",
              "        0.        , 0.        , 0.        , 0.00850734, 0.01012286,\n",
              "        0.02216317, 0.        , 0.        , 0.        , 0.0090463 ,\n",
              "        0.02272231, 0.        , 0.        , 0.        , 0.00455397,\n",
              "        0.        , 0.        , 0.        , 0.        , 0.        ,\n",
              "        0.        , 0.        , 0.        , 0.03424159, 0.01832992,\n",
              "        0.        , 0.03555699, 0.01413195, 0.        , 0.        ,\n",
              "        0.        , 0.01965737, 0.        , 0.01157954, 0.02520152,\n",
              "        0.0056908 , 0.        , 0.        , 0.06292878, 0.        ,\n",
              "        0.0013987 , 0.02484464, 0.01711723, 0.        , 0.        ,\n",
              "        0.03167126, 0.01095806, 0.        , 0.        , 0.        ,\n",
              "        0.06574086, 0.        , 0.00229616, 0.        , 0.0327366 ,\n",
              "        0.        , 0.04216265, 0.0196744 , 0.0821481 ],\n",
              "       [0.        , 0.        , 0.        , 0.        , 0.        ,\n",
              "        0.        , 0.        , 0.        , 0.        , 0.        ,\n",
              "        0.00370359, 0.03629782, 0.        , 0.01603845, 0.00464547,\n",
              "        0.03760193, 0.        , 0.        , 0.        , 0.        ,\n",
              "        0.        , 0.        , 0.        , 0.00046959, 0.        ,\n",
              "        0.        , 0.        , 0.02166174, 0.00564934, 0.        ,\n",
              "        0.        , 0.09100123, 0.        , 0.        , 0.        ,\n",
              "        0.04703682, 0.01942413, 0.        , 0.00235276, 0.        ,\n",
              "        0.        , 0.        , 0.        , 0.01998146, 0.        ,\n",
              "        0.        , 0.01106961, 0.        , 0.        , 0.        ,\n",
              "        0.00191331, 0.        , 0.03607662, 0.        , 0.        ,\n",
              "        0.        , 0.        , 0.        , 0.        , 0.        ,\n",
              "        0.        , 0.02342893, 0.01692644, 0.03368131],\n",
              "       [0.        , 0.        , 0.        , 0.        , 0.        ,\n",
              "        0.        , 0.        , 0.00805011, 0.007538  , 0.00460649,\n",
              "        0.        , 0.00781465, 0.        , 0.        , 0.        ,\n",
              "        0.00740467, 0.        , 0.        , 0.        , 0.        ,\n",
              "        0.00602089, 0.01966719, 0.        , 0.        , 0.        ,\n",
              "        0.        , 0.        , 0.01454994, 0.        , 0.0004319 ,\n",
              "        0.        , 0.04506399, 0.00211773, 0.        , 0.        ,\n",
              "        0.03204577, 0.        , 0.00332577, 0.02622261, 0.        ,\n",
              "        0.        , 0.00308457, 0.        , 0.00060768, 0.        ,\n",
              "        0.        , 0.00043823, 0.00934551, 0.00105665, 0.00153366,\n",
              "        0.        , 0.02702338, 0.        , 0.        , 0.        ,\n",
              "        0.01154393, 0.        , 0.0010451 , 0.        , 0.00992014,\n",
              "        0.        , 0.0418709 , 0.01614797, 0.02955807],\n",
              "       [0.        , 0.        , 0.        , 0.        , 0.        ,\n",
              "        0.        , 0.        , 0.00805012, 0.00753799, 0.00460649,\n",
              "        0.        , 0.00781465, 0.        , 0.        , 0.        ,\n",
              "        0.00740467, 0.        , 0.        , 0.        , 0.        ,\n",
              "        0.00602089, 0.01966719, 0.        , 0.        , 0.        ,\n",
              "        0.        , 0.        , 0.01454994, 0.        , 0.0004319 ,\n",
              "        0.        , 0.04506399, 0.00211773, 0.        , 0.        ,\n",
              "        0.03204577, 0.        , 0.00332578, 0.02622261, 0.        ,\n",
              "        0.        , 0.00308457, 0.        , 0.00060768, 0.        ,\n",
              "        0.        , 0.00043823, 0.00934551, 0.00105665, 0.00153367,\n",
              "        0.        , 0.02702338, 0.        , 0.        , 0.        ,\n",
              "        0.01154393, 0.        , 0.00104509, 0.        , 0.00992015,\n",
              "        0.        , 0.0418709 , 0.01614798, 0.02955807],\n",
              "       [0.        , 0.        , 0.        , 0.        , 0.        ,\n",
              "        0.        , 0.        , 0.00805013, 0.007538  , 0.00460649,\n",
              "        0.        , 0.00781464, 0.        , 0.        , 0.        ,\n",
              "        0.00740468, 0.        , 0.        , 0.        , 0.        ,\n",
              "        0.00602089, 0.01966718, 0.        , 0.        , 0.        ,\n",
              "        0.        , 0.        , 0.01454993, 0.        , 0.00043191,\n",
              "        0.        , 0.04506399, 0.00211772, 0.        , 0.        ,\n",
              "        0.03204577, 0.        , 0.00332578, 0.0262226 , 0.        ,\n",
              "        0.        , 0.00308457, 0.        , 0.00060767, 0.        ,\n",
              "        0.        , 0.00043823, 0.00934551, 0.00105665, 0.00153368,\n",
              "        0.        , 0.02702337, 0.        , 0.        , 0.        ,\n",
              "        0.01154394, 0.        , 0.00104509, 0.        , 0.00992015,\n",
              "        0.        , 0.04187089, 0.01614797, 0.02955806],\n",
              "       [0.        , 0.        , 0.        , 0.        , 0.        ,\n",
              "        0.        , 0.        , 0.00805012, 0.00753799, 0.00460649,\n",
              "        0.        , 0.00781465, 0.        , 0.        , 0.        ,\n",
              "        0.00740467, 0.        , 0.        , 0.        , 0.        ,\n",
              "        0.00602089, 0.01966719, 0.        , 0.        , 0.        ,\n",
              "        0.        , 0.        , 0.01454993, 0.        , 0.0004319 ,\n",
              "        0.        , 0.04506399, 0.00211773, 0.        , 0.        ,\n",
              "        0.03204577, 0.        , 0.00332578, 0.02622261, 0.        ,\n",
              "        0.        , 0.00308458, 0.        , 0.00060768, 0.        ,\n",
              "        0.        , 0.00043823, 0.00934551, 0.00105665, 0.00153367,\n",
              "        0.        , 0.02702338, 0.        , 0.        , 0.        ,\n",
              "        0.01154393, 0.        , 0.00104509, 0.        , 0.00992014,\n",
              "        0.        , 0.04187089, 0.01614798, 0.02955807],\n",
              "       [0.        , 0.        , 0.        , 0.        , 0.        ,\n",
              "        0.        , 0.        , 0.00805012, 0.007538  , 0.00460649,\n",
              "        0.        , 0.00781465, 0.        , 0.        , 0.        ,\n",
              "        0.00740468, 0.        , 0.        , 0.        , 0.        ,\n",
              "        0.00602089, 0.0196672 , 0.        , 0.        , 0.        ,\n",
              "        0.        , 0.        , 0.01454994, 0.        , 0.00043191,\n",
              "        0.        , 0.04506399, 0.00211773, 0.        , 0.        ,\n",
              "        0.03204577, 0.        , 0.00332578, 0.02622262, 0.        ,\n",
              "        0.        , 0.00308458, 0.        , 0.00060767, 0.        ,\n",
              "        0.        , 0.00043823, 0.00934551, 0.00105665, 0.00153367,\n",
              "        0.        , 0.02702337, 0.        , 0.        , 0.        ,\n",
              "        0.01154394, 0.        , 0.0010451 , 0.        , 0.00992014,\n",
              "        0.        , 0.0418709 , 0.01614797, 0.02955806],\n",
              "       [0.        , 0.        , 0.        , 0.        , 0.        ,\n",
              "        0.        , 0.        , 0.00805012, 0.007538  , 0.00460648,\n",
              "        0.        , 0.00781465, 0.        , 0.        , 0.        ,\n",
              "        0.00740467, 0.        , 0.        , 0.        , 0.        ,\n",
              "        0.0060209 , 0.0196672 , 0.        , 0.        , 0.        ,\n",
              "        0.        , 0.        , 0.01454994, 0.        , 0.00043191,\n",
              "        0.        , 0.04506399, 0.00211773, 0.        , 0.        ,\n",
              "        0.03204577, 0.        , 0.00332578, 0.02622261, 0.        ,\n",
              "        0.        , 0.00308457, 0.        , 0.00060767, 0.        ,\n",
              "        0.        , 0.00043823, 0.00934551, 0.00105665, 0.00153367,\n",
              "        0.        , 0.02702338, 0.        , 0.        , 0.        ,\n",
              "        0.01154394, 0.        , 0.00104509, 0.        , 0.00992014,\n",
              "        0.        , 0.04187089, 0.01614798, 0.02955806],\n",
              "       [0.        , 0.        , 0.        , 0.        , 0.        ,\n",
              "        0.        , 0.        , 0.00330379, 0.00733284, 0.00568246,\n",
              "        0.        , 0.        , 0.        , 0.00086215, 0.        ,\n",
              "        0.        , 0.        , 0.0007759 , 0.        , 0.        ,\n",
              "        0.01326357, 0.00978047, 0.        , 0.        , 0.        ,\n",
              "        0.01717969, 0.00620318, 0.02324972, 0.        , 0.01609662,\n",
              "        0.        , 0.02812354, 0.00157021, 0.        , 0.        ,\n",
              "        0.03255659, 0.        , 0.0070895 , 0.01558079, 0.00931667,\n",
              "        0.        , 0.00129908, 0.        , 0.        , 0.        ,\n",
              "        0.        , 0.        , 0.00268563, 0.        , 0.00784113,\n",
              "        0.        , 0.00215254, 0.        , 0.        , 0.00371849,\n",
              "        0.        , 0.        , 0.        , 0.        , 0.02898234,\n",
              "        0.00343014, 0.03331038, 0.00881378, 0.00678357],\n",
              "       [0.        , 0.        , 0.        , 0.00102557, 0.00698025,\n",
              "        0.        , 0.00157017, 0.        , 0.02431864, 0.        ,\n",
              "        0.        , 0.0010368 , 0.        , 0.        , 0.        ,\n",
              "        0.00382031, 0.        , 0.        , 0.        , 0.        ,\n",
              "        0.00753212, 0.00457315, 0.        , 0.        , 0.        ,\n",
              "        0.01595565, 0.00017075, 0.00740253, 0.        , 0.01746961,\n",
              "        0.        , 0.01948526, 0.00675736, 0.        , 0.        ,\n",
              "        0.02429508, 0.        , 0.        , 0.01598057, 0.00412841,\n",
              "        0.        , 0.00906196, 0.        , 0.        , 0.        ,\n",
              "        0.        , 0.        , 0.00902905, 0.00904892, 0.01633446,\n",
              "        0.        , 0.        , 0.        , 0.        , 0.        ,\n",
              "        0.        , 0.        , 0.        , 0.        , 0.01660703,\n",
              "        0.02862922, 0.02296376, 0.01355176, 0.01830385]], dtype=float32)>"
            ]
          },
          "metadata": {},
          "execution_count": 94
        }
      ]
    },
    {
      "cell_type": "code",
      "source": [
        "max_pool = layers.GlobalMaxPool1D()\n",
        "max_pool_output = max_pool(conv_1d_output) # Get the most important feature\n",
        "max_pool_output[0]"
      ],
      "metadata": {
        "colab": {
          "base_uri": "https://localhost:8080/"
        },
        "id": "xz7wVZWEvFsX",
        "outputId": "66f346ec-06ba-465d-91ee-248121e14191"
      },
      "execution_count": 95,
      "outputs": [
        {
          "output_type": "execute_result",
          "data": {
            "text/plain": [
              "<tf.Tensor: shape=(64,), dtype=float32, numpy=\n",
              "array([0.01055856, 0.06478687, 0.01472261, 0.00102557, 0.01566675,\n",
              "       0.03012613, 0.07528871, 0.08397712, 0.05726048, 0.04120113,\n",
              "       0.03184682, 0.03629782, 0.03176581, 0.01802219, 0.0090463 ,\n",
              "       0.08946073, 0.0539113 , 0.0007759 , 0.02082286, 0.04391163,\n",
              "       0.01326357, 0.1017101 , 0.06237193, 0.00535074, 0.01206259,\n",
              "       0.02422307, 0.01392604, 0.0301909 , 0.07318126, 0.08802286,\n",
              "       0.03549784, 0.09100123, 0.03280503, 0.0311834 , 0.        ,\n",
              "       0.04703682, 0.06709199, 0.0070895 , 0.04661107, 0.03307819,\n",
              "       0.0314199 , 0.07150989, 0.04907646, 0.06292878, 0.02888556,\n",
              "       0.03862662, 0.0541241 , 0.02986691, 0.02514843, 0.0464445 ,\n",
              "       0.04625812, 0.08583094, 0.03607662, 0.06253541, 0.02931677,\n",
              "       0.09385747, 0.03912998, 0.0143307 , 0.05695824, 0.05069713,\n",
              "       0.07943203, 0.08708324, 0.06441031, 0.0821481 ], dtype=float32)>"
            ]
          },
          "metadata": {},
          "execution_count": 95
        }
      ]
    },
    {
      "cell_type": "code",
      "source": [
        "embedding_test"
      ],
      "metadata": {
        "colab": {
          "base_uri": "https://localhost:8080/"
        },
        "id": "k9abaHCg1Zjn",
        "outputId": "136683ad-2b99-40a5-8a14-438f5783cc09"
      },
      "execution_count": 97,
      "outputs": [
        {
          "output_type": "execute_result",
          "data": {
            "text/plain": [
              "<tf.Tensor: shape=(1, 15, 128), dtype=float32, numpy=\n",
              "array([[[-0.0161108 , -0.08999023, -0.02478556, ..., -0.01295709,\n",
              "         -0.06609146,  0.00225566],\n",
              "        [-0.03420832,  0.01560463, -0.00260672, ..., -0.03109274,\n",
              "         -0.01397596,  0.08134957],\n",
              "        [-0.04404969, -0.0465281 , -0.02806975, ..., -0.01460602,\n",
              "          0.01121991,  0.05237249],\n",
              "        ...,\n",
              "        [-0.00913715, -0.01031336, -0.01518035, ..., -0.01903374,\n",
              "         -0.01438572,  0.02821921],\n",
              "        [-0.00913715, -0.01031336, -0.01518035, ..., -0.01903374,\n",
              "         -0.01438572,  0.02821921],\n",
              "        [-0.00913715, -0.01031336, -0.01518035, ..., -0.01903374,\n",
              "         -0.01438572,  0.02821921]]], dtype=float32)>"
            ]
          },
          "metadata": {},
          "execution_count": 97
        }
      ]
    },
    {
      "cell_type": "code",
      "source": [
        "conv_1d_output"
      ],
      "metadata": {
        "colab": {
          "base_uri": "https://localhost:8080/"
        },
        "id": "DcoMitDq2IUq",
        "outputId": "1dcfcfda-3768-45b8-d412-e4c4e64de424"
      },
      "execution_count": 98,
      "outputs": [
        {
          "output_type": "execute_result",
          "data": {
            "text/plain": [
              "<tf.Tensor: shape=(1, 15, 64), dtype=float32, numpy=\n",
              "array([[[0.        , 0.00556169, 0.        , 0.        , 0.        ,\n",
              "         0.03012613, 0.        , 0.        , 0.        , 0.        ,\n",
              "         0.03184682, 0.00337346, 0.03176581, 0.        , 0.        ,\n",
              "         0.05261538, 0.0076737 , 0.        , 0.        , 0.        ,\n",
              "         0.        , 0.03427724, 0.06237193, 0.        , 0.01206259,\n",
              "         0.00637787, 0.01392604, 0.        , 0.00983667, 0.01492696,\n",
              "         0.        , 0.        , 0.03280503, 0.01289649, 0.        ,\n",
              "         0.00830543, 0.01175603, 0.        , 0.        , 0.        ,\n",
              "         0.0314199 , 0.04730297, 0.01655575, 0.05854502, 0.02888556,\n",
              "         0.        , 0.0541241 , 0.        , 0.02514843, 0.        ,\n",
              "         0.        , 0.08583094, 0.        , 0.        , 0.        ,\n",
              "         0.00904964, 0.        , 0.        , 0.        , 0.00457649,\n",
              "         0.00718857, 0.00888377, 0.02674362, 0.04487272],\n",
              "        [0.00660127, 0.03351861, 0.        , 0.        , 0.        ,\n",
              "         0.        , 0.        , 0.07701308, 0.        , 0.0408925 ,\n",
              "         0.        , 0.        , 0.02220425, 0.        , 0.        ,\n",
              "         0.04257508, 0.        , 0.        , 0.        , 0.        ,\n",
              "         0.        , 0.00315462, 0.        , 0.        , 0.        ,\n",
              "         0.02422307, 0.005175  , 0.        , 0.        , 0.07912051,\n",
              "         0.02724387, 0.        , 0.        , 0.02023801, 0.        ,\n",
              "         0.        , 0.01215487, 0.        , 0.        , 0.        ,\n",
              "         0.        , 0.        , 0.04907646, 0.        , 0.        ,\n",
              "         0.        , 0.03228676, 0.00461838, 0.        , 0.00153333,\n",
              "         0.04625812, 0.0137924 , 0.        , 0.        , 0.        ,\n",
              "         0.        , 0.        , 0.        , 0.        , 0.05069713,\n",
              "         0.        , 0.00428335, 0.        , 0.        ],\n",
              "        [0.        , 0.06478687, 0.00119487, 0.        , 0.        ,\n",
              "         0.        , 0.07528871, 0.08397712, 0.01985135, 0.        ,\n",
              "         0.        , 0.00615181, 0.        , 0.        , 0.        ,\n",
              "         0.03595338, 0.01949558, 0.        , 0.        , 0.        ,\n",
              "         0.        , 0.0334455 , 0.05447079, 0.00535074, 0.        ,\n",
              "         0.02362659, 0.        , 0.        , 0.        , 0.08802286,\n",
              "         0.00205851, 0.02282171, 0.        , 0.        , 0.        ,\n",
              "         0.        , 0.06709199, 0.        , 0.04661107, 0.        ,\n",
              "         0.02872542, 0.        , 0.00599041, 0.01351687, 0.        ,\n",
              "         0.        , 0.01353838, 0.02986691, 0.        , 0.01269628,\n",
              "         0.        , 0.00436244, 0.        , 0.03146213, 0.        ,\n",
              "         0.03401089, 0.03912998, 0.        , 0.05695824, 0.00180502,\n",
              "         0.07943203, 0.01805284, 0.06441031, 0.        ],\n",
              "        [0.00433932, 0.        , 0.        , 0.        , 0.        ,\n",
              "         0.        , 0.        , 0.        , 0.05726048, 0.04120113,\n",
              "         0.        , 0.        , 0.        , 0.        , 0.        ,\n",
              "         0.08946073, 0.        , 0.        , 0.        , 0.04391163,\n",
              "         0.        , 0.1017101 , 0.03539277, 0.        , 0.        ,\n",
              "         0.00309778, 0.        , 0.01777642, 0.02167659, 0.00637963,\n",
              "         0.03549784, 0.03124708, 0.02101787, 0.00206175, 0.        ,\n",
              "         0.00593961, 0.03891196, 0.        , 0.01571485, 0.03307819,\n",
              "         0.        , 0.07150989, 0.        , 0.        , 0.        ,\n",
              "         0.        , 0.02558557, 0.02882521, 0.        , 0.        ,\n",
              "         0.        , 0.02107   , 0.0244744 , 0.01233515, 0.        ,\n",
              "         0.        , 0.        , 0.0143307 , 0.        , 0.        ,\n",
              "         0.05935885, 0.08708324, 0.00355037, 0.03100092],\n",
              "        [0.01055856, 0.        , 0.01472261, 0.        , 0.        ,\n",
              "         0.0004727 , 0.01676069, 0.02957897, 0.        , 0.01658073,\n",
              "         0.02382009, 0.03212946, 0.0005741 , 0.01802219, 0.00387808,\n",
              "         0.04846273, 0.0539113 , 0.00019759, 0.02082286, 0.        ,\n",
              "         0.        , 0.00172581, 0.01192917, 0.        , 0.        ,\n",
              "         0.        , 0.00218999, 0.0301909 , 0.07318126, 0.01440839,\n",
              "         0.01146519, 0.03914631, 0.        , 0.0311834 , 0.        ,\n",
              "         0.        , 0.00778833, 0.        , 0.        , 0.02020298,\n",
              "         0.00536586, 0.05577968, 0.02379512, 0.        , 0.        ,\n",
              "         0.03862662, 0.01312799, 0.        , 0.0094841 , 0.0464445 ,\n",
              "         0.        , 0.01758832, 0.00567269, 0.06253541, 0.02931677,\n",
              "         0.09385747, 0.        , 0.        , 0.01797692, 0.        ,\n",
              "         0.        , 0.01423754, 0.02278211, 0.00135137],\n",
              "        [0.        , 0.03790238, 0.        , 0.        , 0.01566675,\n",
              "         0.        , 0.        , 0.        , 0.00850734, 0.01012286,\n",
              "         0.02216317, 0.        , 0.        , 0.        , 0.0090463 ,\n",
              "         0.02272231, 0.        , 0.        , 0.        , 0.00455397,\n",
              "         0.        , 0.        , 0.        , 0.        , 0.        ,\n",
              "         0.        , 0.        , 0.        , 0.03424159, 0.01832992,\n",
              "         0.        , 0.03555699, 0.01413195, 0.        , 0.        ,\n",
              "         0.        , 0.01965737, 0.        , 0.01157954, 0.02520152,\n",
              "         0.0056908 , 0.        , 0.        , 0.06292878, 0.        ,\n",
              "         0.0013987 , 0.02484464, 0.01711723, 0.        , 0.        ,\n",
              "         0.03167126, 0.01095806, 0.        , 0.        , 0.        ,\n",
              "         0.06574086, 0.        , 0.00229616, 0.        , 0.0327366 ,\n",
              "         0.        , 0.04216265, 0.0196744 , 0.0821481 ],\n",
              "        [0.        , 0.        , 0.        , 0.        , 0.        ,\n",
              "         0.        , 0.        , 0.        , 0.        , 0.        ,\n",
              "         0.00370359, 0.03629782, 0.        , 0.01603845, 0.00464547,\n",
              "         0.03760193, 0.        , 0.        , 0.        , 0.        ,\n",
              "         0.        , 0.        , 0.        , 0.00046959, 0.        ,\n",
              "         0.        , 0.        , 0.02166174, 0.00564934, 0.        ,\n",
              "         0.        , 0.09100123, 0.        , 0.        , 0.        ,\n",
              "         0.04703682, 0.01942413, 0.        , 0.00235276, 0.        ,\n",
              "         0.        , 0.        , 0.        , 0.01998146, 0.        ,\n",
              "         0.        , 0.01106961, 0.        , 0.        , 0.        ,\n",
              "         0.00191331, 0.        , 0.03607662, 0.        , 0.        ,\n",
              "         0.        , 0.        , 0.        , 0.        , 0.        ,\n",
              "         0.        , 0.02342893, 0.01692644, 0.03368131],\n",
              "        [0.        , 0.        , 0.        , 0.        , 0.        ,\n",
              "         0.        , 0.        , 0.00805011, 0.007538  , 0.00460649,\n",
              "         0.        , 0.00781465, 0.        , 0.        , 0.        ,\n",
              "         0.00740467, 0.        , 0.        , 0.        , 0.        ,\n",
              "         0.00602089, 0.01966719, 0.        , 0.        , 0.        ,\n",
              "         0.        , 0.        , 0.01454994, 0.        , 0.0004319 ,\n",
              "         0.        , 0.04506399, 0.00211773, 0.        , 0.        ,\n",
              "         0.03204577, 0.        , 0.00332577, 0.02622261, 0.        ,\n",
              "         0.        , 0.00308457, 0.        , 0.00060768, 0.        ,\n",
              "         0.        , 0.00043823, 0.00934551, 0.00105665, 0.00153366,\n",
              "         0.        , 0.02702338, 0.        , 0.        , 0.        ,\n",
              "         0.01154393, 0.        , 0.0010451 , 0.        , 0.00992014,\n",
              "         0.        , 0.0418709 , 0.01614797, 0.02955807],\n",
              "        [0.        , 0.        , 0.        , 0.        , 0.        ,\n",
              "         0.        , 0.        , 0.00805012, 0.00753799, 0.00460649,\n",
              "         0.        , 0.00781465, 0.        , 0.        , 0.        ,\n",
              "         0.00740467, 0.        , 0.        , 0.        , 0.        ,\n",
              "         0.00602089, 0.01966719, 0.        , 0.        , 0.        ,\n",
              "         0.        , 0.        , 0.01454994, 0.        , 0.0004319 ,\n",
              "         0.        , 0.04506399, 0.00211773, 0.        , 0.        ,\n",
              "         0.03204577, 0.        , 0.00332578, 0.02622261, 0.        ,\n",
              "         0.        , 0.00308457, 0.        , 0.00060768, 0.        ,\n",
              "         0.        , 0.00043823, 0.00934551, 0.00105665, 0.00153367,\n",
              "         0.        , 0.02702338, 0.        , 0.        , 0.        ,\n",
              "         0.01154393, 0.        , 0.00104509, 0.        , 0.00992015,\n",
              "         0.        , 0.0418709 , 0.01614798, 0.02955807],\n",
              "        [0.        , 0.        , 0.        , 0.        , 0.        ,\n",
              "         0.        , 0.        , 0.00805013, 0.007538  , 0.00460649,\n",
              "         0.        , 0.00781464, 0.        , 0.        , 0.        ,\n",
              "         0.00740468, 0.        , 0.        , 0.        , 0.        ,\n",
              "         0.00602089, 0.01966718, 0.        , 0.        , 0.        ,\n",
              "         0.        , 0.        , 0.01454993, 0.        , 0.00043191,\n",
              "         0.        , 0.04506399, 0.00211772, 0.        , 0.        ,\n",
              "         0.03204577, 0.        , 0.00332578, 0.0262226 , 0.        ,\n",
              "         0.        , 0.00308457, 0.        , 0.00060767, 0.        ,\n",
              "         0.        , 0.00043823, 0.00934551, 0.00105665, 0.00153368,\n",
              "         0.        , 0.02702337, 0.        , 0.        , 0.        ,\n",
              "         0.01154394, 0.        , 0.00104509, 0.        , 0.00992015,\n",
              "         0.        , 0.04187089, 0.01614797, 0.02955806],\n",
              "        [0.        , 0.        , 0.        , 0.        , 0.        ,\n",
              "         0.        , 0.        , 0.00805012, 0.00753799, 0.00460649,\n",
              "         0.        , 0.00781465, 0.        , 0.        , 0.        ,\n",
              "         0.00740467, 0.        , 0.        , 0.        , 0.        ,\n",
              "         0.00602089, 0.01966719, 0.        , 0.        , 0.        ,\n",
              "         0.        , 0.        , 0.01454993, 0.        , 0.0004319 ,\n",
              "         0.        , 0.04506399, 0.00211773, 0.        , 0.        ,\n",
              "         0.03204577, 0.        , 0.00332578, 0.02622261, 0.        ,\n",
              "         0.        , 0.00308458, 0.        , 0.00060768, 0.        ,\n",
              "         0.        , 0.00043823, 0.00934551, 0.00105665, 0.00153367,\n",
              "         0.        , 0.02702338, 0.        , 0.        , 0.        ,\n",
              "         0.01154393, 0.        , 0.00104509, 0.        , 0.00992014,\n",
              "         0.        , 0.04187089, 0.01614798, 0.02955807],\n",
              "        [0.        , 0.        , 0.        , 0.        , 0.        ,\n",
              "         0.        , 0.        , 0.00805012, 0.007538  , 0.00460649,\n",
              "         0.        , 0.00781465, 0.        , 0.        , 0.        ,\n",
              "         0.00740468, 0.        , 0.        , 0.        , 0.        ,\n",
              "         0.00602089, 0.0196672 , 0.        , 0.        , 0.        ,\n",
              "         0.        , 0.        , 0.01454994, 0.        , 0.00043191,\n",
              "         0.        , 0.04506399, 0.00211773, 0.        , 0.        ,\n",
              "         0.03204577, 0.        , 0.00332578, 0.02622262, 0.        ,\n",
              "         0.        , 0.00308458, 0.        , 0.00060767, 0.        ,\n",
              "         0.        , 0.00043823, 0.00934551, 0.00105665, 0.00153367,\n",
              "         0.        , 0.02702337, 0.        , 0.        , 0.        ,\n",
              "         0.01154394, 0.        , 0.0010451 , 0.        , 0.00992014,\n",
              "         0.        , 0.0418709 , 0.01614797, 0.02955806],\n",
              "        [0.        , 0.        , 0.        , 0.        , 0.        ,\n",
              "         0.        , 0.        , 0.00805012, 0.007538  , 0.00460648,\n",
              "         0.        , 0.00781465, 0.        , 0.        , 0.        ,\n",
              "         0.00740467, 0.        , 0.        , 0.        , 0.        ,\n",
              "         0.0060209 , 0.0196672 , 0.        , 0.        , 0.        ,\n",
              "         0.        , 0.        , 0.01454994, 0.        , 0.00043191,\n",
              "         0.        , 0.04506399, 0.00211773, 0.        , 0.        ,\n",
              "         0.03204577, 0.        , 0.00332578, 0.02622261, 0.        ,\n",
              "         0.        , 0.00308457, 0.        , 0.00060767, 0.        ,\n",
              "         0.        , 0.00043823, 0.00934551, 0.00105665, 0.00153367,\n",
              "         0.        , 0.02702338, 0.        , 0.        , 0.        ,\n",
              "         0.01154394, 0.        , 0.00104509, 0.        , 0.00992014,\n",
              "         0.        , 0.04187089, 0.01614798, 0.02955806],\n",
              "        [0.        , 0.        , 0.        , 0.        , 0.        ,\n",
              "         0.        , 0.        , 0.00330379, 0.00733284, 0.00568246,\n",
              "         0.        , 0.        , 0.        , 0.00086215, 0.        ,\n",
              "         0.        , 0.        , 0.0007759 , 0.        , 0.        ,\n",
              "         0.01326357, 0.00978047, 0.        , 0.        , 0.        ,\n",
              "         0.01717969, 0.00620318, 0.02324972, 0.        , 0.01609662,\n",
              "         0.        , 0.02812354, 0.00157021, 0.        , 0.        ,\n",
              "         0.03255659, 0.        , 0.0070895 , 0.01558079, 0.00931667,\n",
              "         0.        , 0.00129908, 0.        , 0.        , 0.        ,\n",
              "         0.        , 0.        , 0.00268563, 0.        , 0.00784113,\n",
              "         0.        , 0.00215254, 0.        , 0.        , 0.00371849,\n",
              "         0.        , 0.        , 0.        , 0.        , 0.02898234,\n",
              "         0.00343014, 0.03331038, 0.00881378, 0.00678357],\n",
              "        [0.        , 0.        , 0.        , 0.00102557, 0.00698025,\n",
              "         0.        , 0.00157017, 0.        , 0.02431864, 0.        ,\n",
              "         0.        , 0.0010368 , 0.        , 0.        , 0.        ,\n",
              "         0.00382031, 0.        , 0.        , 0.        , 0.        ,\n",
              "         0.00753212, 0.00457315, 0.        , 0.        , 0.        ,\n",
              "         0.01595565, 0.00017075, 0.00740253, 0.        , 0.01746961,\n",
              "         0.        , 0.01948526, 0.00675736, 0.        , 0.        ,\n",
              "         0.02429508, 0.        , 0.        , 0.01598057, 0.00412841,\n",
              "         0.        , 0.00906196, 0.        , 0.        , 0.        ,\n",
              "         0.        , 0.        , 0.00902905, 0.00904892, 0.01633446,\n",
              "         0.        , 0.        , 0.        , 0.        , 0.        ,\n",
              "         0.        , 0.        , 0.        , 0.        , 0.01660703,\n",
              "         0.02862922, 0.02296376, 0.01355176, 0.01830385]]], dtype=float32)>"
            ]
          },
          "metadata": {},
          "execution_count": 98
        }
      ]
    },
    {
      "cell_type": "code",
      "source": [
        "max_pool_output"
      ],
      "metadata": {
        "colab": {
          "base_uri": "https://localhost:8080/"
        },
        "id": "KgNHoeYg2Ji9",
        "outputId": "19496743-7379-4d8f-991e-dfa774726ce1"
      },
      "execution_count": 99,
      "outputs": [
        {
          "output_type": "execute_result",
          "data": {
            "text/plain": [
              "<tf.Tensor: shape=(1, 64), dtype=float32, numpy=\n",
              "array([[0.01055856, 0.06478687, 0.01472261, 0.00102557, 0.01566675,\n",
              "        0.03012613, 0.07528871, 0.08397712, 0.05726048, 0.04120113,\n",
              "        0.03184682, 0.03629782, 0.03176581, 0.01802219, 0.0090463 ,\n",
              "        0.08946073, 0.0539113 , 0.0007759 , 0.02082286, 0.04391163,\n",
              "        0.01326357, 0.1017101 , 0.06237193, 0.00535074, 0.01206259,\n",
              "        0.02422307, 0.01392604, 0.0301909 , 0.07318126, 0.08802286,\n",
              "        0.03549784, 0.09100123, 0.03280503, 0.0311834 , 0.        ,\n",
              "        0.04703682, 0.06709199, 0.0070895 , 0.04661107, 0.03307819,\n",
              "        0.0314199 , 0.07150989, 0.04907646, 0.06292878, 0.02888556,\n",
              "        0.03862662, 0.0541241 , 0.02986691, 0.02514843, 0.0464445 ,\n",
              "        0.04625812, 0.08583094, 0.03607662, 0.06253541, 0.02931677,\n",
              "        0.09385747, 0.03912998, 0.0143307 , 0.05695824, 0.05069713,\n",
              "        0.07943203, 0.08708324, 0.06441031, 0.0821481 ]], dtype=float32)>"
            ]
          },
          "metadata": {},
          "execution_count": 99
        }
      ]
    },
    {
      "cell_type": "markdown",
      "source": [
        "###Building the model"
      ],
      "metadata": {
        "id": "CqWV4EkH2nxu"
      }
    },
    {
      "cell_type": "code",
      "source": [
        "# Create 1-dimenstioanl convolutional layer to model sequence\n",
        "\n",
        "from tensorflow.keras import layers\n",
        "\n",
        "inputs = layers.Input(shape = (1, ), dtype = tf.string)\n",
        "x = text_vectorizer(inputs)\n",
        "x = embedding(x)\n",
        "x = layers.Conv1D(filters = 64,\n",
        "                  kernel_size = 5,\n",
        "                  activation = 'relu',\n",
        "                  padding = 'valid',\n",
        "                  strides = 1)(x)\n",
        "x = layers.GlobalMaxPool1D()(x)\n",
        "# x = layers.Dense(64, activation = 'relu')(x)\n",
        "outputs = layers.Dense(1, activation = 'sigmoid')(x)\n",
        "model_5 = tf.keras.Model(inputs, outputs, name = 'model_5_Conv1D')\n",
        "\n",
        "# Compile the model\n",
        "model_5.compile(loss ='binary_crossentropy',\n",
        "                optimizer = tf.keras.optimizers.Adam(),\n",
        "                metrics = ['accuracy'])"
      ],
      "metadata": {
        "id": "pLFNsz5U3Ds4"
      },
      "execution_count": 100,
      "outputs": []
    },
    {
      "cell_type": "code",
      "source": [
        "# Model 5 summary\n",
        "model_5.summary()"
      ],
      "metadata": {
        "colab": {
          "base_uri": "https://localhost:8080/"
        },
        "id": "ZocdyKV74Qzx",
        "outputId": "89cf6dad-d848-4129-df77-2a095fc32193"
      },
      "execution_count": 101,
      "outputs": [
        {
          "output_type": "stream",
          "name": "stdout",
          "text": [
            "Model: \"model_5_Conv1D\"\n",
            "_________________________________________________________________\n",
            " Layer (type)                Output Shape              Param #   \n",
            "=================================================================\n",
            " input_5 (InputLayer)        [(None, 1)]               0         \n",
            "                                                                 \n",
            " text_vectorization_1 (TextV  (None, 15)               0         \n",
            " ectorization)                                                   \n",
            "                                                                 \n",
            " embedding (Embedding)       (None, 15, 128)           1280000   \n",
            "                                                                 \n",
            " conv1d_3 (Conv1D)           (None, 11, 64)            41024     \n",
            "                                                                 \n",
            " global_max_pooling1d_1 (Glo  (None, 64)               0         \n",
            " balMaxPooling1D)                                                \n",
            "                                                                 \n",
            " dense_5 (Dense)             (None, 1)                 65        \n",
            "                                                                 \n",
            "=================================================================\n",
            "Total params: 1,321,089\n",
            "Trainable params: 1,321,089\n",
            "Non-trainable params: 0\n",
            "_________________________________________________________________\n"
          ]
        }
      ]
    },
    {
      "cell_type": "code",
      "source": [
        "# Fit the model\n",
        "\n",
        "model_5_history = model_5.fit(train_sentences,\n",
        "                              train_labels,\n",
        "                              epochs = 5 ,\n",
        "                              validation_data = (val_sentences, val_labels),\n",
        "                              callbacks = [create_tensorboard_callback(SAVE_DIR,\n",
        "                                                                       'Conv1D')])"
      ],
      "metadata": {
        "colab": {
          "base_uri": "https://localhost:8080/"
        },
        "id": "zX4fkuHm4g-w",
        "outputId": "e5b6ab23-191f-49ba-bb8c-0a47d91e0f6a"
      },
      "execution_count": 102,
      "outputs": [
        {
          "output_type": "stream",
          "name": "stdout",
          "text": [
            "Saving TensorBoard log files to: model_logs/Conv1D/20220912-182724\n",
            "Epoch 1/5\n",
            "215/215 [==============================] - 3s 6ms/step - loss: 0.1200 - accuracy: 0.9604 - val_loss: 0.8632 - val_accuracy: 0.7756\n",
            "Epoch 2/5\n",
            "215/215 [==============================] - 1s 5ms/step - loss: 0.0732 - accuracy: 0.9726 - val_loss: 1.0250 - val_accuracy: 0.7638\n",
            "Epoch 3/5\n",
            "215/215 [==============================] - 1s 5ms/step - loss: 0.0610 - accuracy: 0.9764 - val_loss: 1.1022 - val_accuracy: 0.7664\n",
            "Epoch 4/5\n",
            "215/215 [==============================] - 1s 5ms/step - loss: 0.0544 - accuracy: 0.9780 - val_loss: 1.1741 - val_accuracy: 0.7651\n",
            "Epoch 5/5\n",
            "215/215 [==============================] - 1s 5ms/step - loss: 0.0501 - accuracy: 0.9787 - val_loss: 1.2165 - val_accuracy: 0.7585\n"
          ]
        }
      ]
    },
    {
      "cell_type": "code",
      "source": [
        "# Make some predictions with out Conv1D model\n",
        "\n",
        "model_5_pred_probs = model_5.predict(val_sentences)\n",
        "model_5_pred_probs[:10]"
      ],
      "metadata": {
        "colab": {
          "base_uri": "https://localhost:8080/"
        },
        "id": "38FPystc48_K",
        "outputId": "fdf6b5fe-ab22-4d10-9cd0-e44096be1959"
      },
      "execution_count": 103,
      "outputs": [
        {
          "output_type": "execute_result",
          "data": {
            "text/plain": [
              "array([[8.8989057e-02],\n",
              "       [7.0117712e-01],\n",
              "       [9.9994779e-01],\n",
              "       [8.4438086e-02],\n",
              "       [1.8098977e-07],\n",
              "       [9.9584019e-01],\n",
              "       [9.7653610e-01],\n",
              "       [9.9997425e-01],\n",
              "       [9.9999917e-01],\n",
              "       [8.7088335e-01]], dtype=float32)"
            ]
          },
          "metadata": {},
          "execution_count": 103
        }
      ]
    },
    {
      "cell_type": "code",
      "source": [
        "model_5_preds = tf.squeeze(tf.round(model_5_pred_probs))"
      ],
      "metadata": {
        "id": "3jgA94GW5L-f"
      },
      "execution_count": 104,
      "outputs": []
    },
    {
      "cell_type": "code",
      "source": [
        "model_5_results = calculate_results(y_true = val_labels,\n",
        "                            y_pred = model_5_preds)"
      ],
      "metadata": {
        "id": "k-sqWAXJ5b7L"
      },
      "execution_count": 105,
      "outputs": []
    },
    {
      "cell_type": "code",
      "source": [
        "print(model_5_results, '\\n', model_4_results, '\\n', model_3_results, '\\n', model_2_results, '\\n', model_1_results, '\\n', baseline_results)"
      ],
      "metadata": {
        "colab": {
          "base_uri": "https://localhost:8080/"
        },
        "id": "CP4JH4bf5sA7",
        "outputId": "be5e7e84-dec9-432a-ea8f-62e27fe662e2"
      },
      "execution_count": 106,
      "outputs": [
        {
          "output_type": "stream",
          "name": "stdout",
          "text": [
            "{'accuracy': 75.8530183727034, 'precision': 0.7593999956661763, 'recall': 0.7585301837270341, 'f1': 0.7566051475454213} \n",
            " {'accuracy': 76.24671916010499, 'precision': 0.7677266148183088, 'recall': 0.7624671916010499, 'f1': 0.7585330817821493} \n",
            " {'accuracy': 77.82152230971128, 'precision': 0.7791991586469295, 'recall': 0.7782152230971129, 'f1': 0.7766208088282468} \n",
            " {'accuracy': 78.08398950131233, 'precision': 0.7856875884556138, 'recall': 0.7808398950131233, 'f1': 0.777681907957685} \n",
            " {'accuracy': 78.74015748031496, 'precision': 0.7914920592553047, 'recall': 0.7874015748031497, 'f1': 0.7846966492209201} \n",
            " {'accuracy': 79.26509186351706, 'precision': 0.8111390004213173, 'recall': 0.7926509186351706, 'f1': 0.7862189758049549}\n"
          ]
        }
      ]
    },
    {
      "cell_type": "markdown",
      "source": [
        "## Model_6 : TensorFlow Hub Pretrained Sentence Encoder"
      ],
      "metadata": {
        "id": "KRx6SWBi55Hg"
      }
    },
    {
      "cell_type": "code",
      "source": [
        "import tensorflow_hub as hub\n",
        "embed = hub.load('https://tfhub.dev/google/universal-sentence-encoder/4')\n",
        "embed_samples = embed([sample_sentence, 'When you can the universal sentence encoder on a sentence, it turns it into numbers'])\n",
        "print(embed_samples[0][:50])"
      ],
      "metadata": {
        "colab": {
          "base_uri": "https://localhost:8080/"
        },
        "id": "GU64hrd86r2e",
        "outputId": "49c125df-d030-46da-ab74-6827c383e4b5"
      },
      "execution_count": 107,
      "outputs": [
        {
          "output_type": "stream",
          "name": "stdout",
          "text": [
            "tf.Tensor(\n",
            "[-0.01157028  0.0248591   0.02878048 -0.012715    0.03971538  0.0882776\n",
            "  0.02680984  0.05589836 -0.0106873  -0.00597291  0.00639323 -0.01819518\n",
            "  0.00030813  0.09105888  0.05874644 -0.03180628  0.01512474 -0.05162929\n",
            "  0.00991367 -0.06865347 -0.04209306  0.02678981  0.03011006  0.00321069\n",
            " -0.00337973 -0.04787357  0.0226672  -0.00985925 -0.04063613 -0.01292092\n",
            " -0.04666384  0.05630299 -0.03949255  0.00517686  0.02495829 -0.0701444\n",
            "  0.02871508  0.04947684 -0.00633979 -0.08960192  0.02807118 -0.00808364\n",
            " -0.01360602  0.0599865  -0.10361787 -0.05195374  0.00232954 -0.02332531\n",
            " -0.03758105  0.03327728], shape=(50,), dtype=float32)\n"
          ]
        }
      ]
    },
    {
      "cell_type": "code",
      "source": [
        "embed_samples"
      ],
      "metadata": {
        "colab": {
          "base_uri": "https://localhost:8080/"
        },
        "id": "xCP_nYLj_uI8",
        "outputId": "5d295e5b-3a46-4d66-e604-e8da4c790596"
      },
      "execution_count": 108,
      "outputs": [
        {
          "output_type": "execute_result",
          "data": {
            "text/plain": [
              "<tf.Tensor: shape=(2, 512), dtype=float32, numpy=\n",
              "array([[-0.01157028,  0.0248591 ,  0.02878048, ..., -0.00186124,\n",
              "         0.02315826, -0.01485021],\n",
              "       [ 0.03485871, -0.08845595, -0.01677877, ..., -0.02750707,\n",
              "         0.03230237, -0.00820089]], dtype=float32)>"
            ]
          },
          "metadata": {},
          "execution_count": 108
        }
      ]
    },
    {
      "cell_type": "code",
      "source": [
        "# Create a keras layer using the USE Pretrained layer form tensorflow hub\n",
        "\n",
        "sentence_encoder_layer = hub.KerasLayer('https://tfhub.dev/google/universal-sentence-encoder/4',\n",
        "                                       input_shape = [],\n",
        "                                       dtype = tf.string,\n",
        "                                       name = 'USE')\n"
      ],
      "metadata": {
        "id": "rfvjyMmgAZzC"
      },
      "execution_count": 109,
      "outputs": []
    },
    {
      "cell_type": "code",
      "source": [
        "# Create model using the Sequential API:\n",
        "\n",
        "model_6 = tf.keras.Sequential([\n",
        "    sentence_encoder_layer,\n",
        "    layers.Dense(64, activation = 'relu'),\n",
        "    layers.Dense(1, activation = 'sigmoid')\n",
        "], name = 'model_6_USE')"
      ],
      "metadata": {
        "id": "FOxsYmgeDQSa"
      },
      "execution_count": 110,
      "outputs": []
    },
    {
      "cell_type": "code",
      "source": [
        "# Compile the model\n",
        "\n",
        "model_6.compile(loss = 'binary_crossentropy',\n",
        "            optimizer = tf.keras.optimizers.Adam(),\n",
        "            metrics = ['accuracy'])"
      ],
      "metadata": {
        "id": "8W2ti9fUDnrV"
      },
      "execution_count": 111,
      "outputs": []
    },
    {
      "cell_type": "code",
      "source": [
        "model_6.summary()"
      ],
      "metadata": {
        "colab": {
          "base_uri": "https://localhost:8080/"
        },
        "id": "N1jhwi4WD4sP",
        "outputId": "8a12190c-f8e7-410c-9f4e-120c91b2a7e2"
      },
      "execution_count": 112,
      "outputs": [
        {
          "output_type": "stream",
          "name": "stdout",
          "text": [
            "Model: \"model_6_USE\"\n",
            "_________________________________________________________________\n",
            " Layer (type)                Output Shape              Param #   \n",
            "=================================================================\n",
            " USE (KerasLayer)            (None, 512)               256797824 \n",
            "                                                                 \n",
            " dense_6 (Dense)             (None, 64)                32832     \n",
            "                                                                 \n",
            " dense_7 (Dense)             (None, 1)                 65        \n",
            "                                                                 \n",
            "=================================================================\n",
            "Total params: 256,830,721\n",
            "Trainable params: 32,897\n",
            "Non-trainable params: 256,797,824\n",
            "_________________________________________________________________\n"
          ]
        }
      ]
    },
    {
      "cell_type": "code",
      "source": [
        "# Train a classifer on top of USE Pretrained embeddings\n",
        "\n",
        "model_6_history = model_6.fit(train_sentences,\n",
        "                              train_labels,\n",
        "                              epochs = 5,\n",
        "                              validation_data = (val_sentences, val_labels),\n",
        "                              callbacks = [create_tensorboard_callback(SAVE_DIR,\n",
        "                                                                       'tf_hub_sent_encoder')])"
      ],
      "metadata": {
        "colab": {
          "base_uri": "https://localhost:8080/"
        },
        "id": "AKhxE5W8EK9k",
        "outputId": "bf197384-b689-4905-b773-01724f29fbc9"
      },
      "execution_count": 113,
      "outputs": [
        {
          "output_type": "stream",
          "name": "stdout",
          "text": [
            "Saving TensorBoard log files to: model_logs/tf_hub_sent_encoder/20220912-182758\n",
            "Epoch 1/5\n",
            "215/215 [==============================] - 5s 14ms/step - loss: 0.5033 - accuracy: 0.7838 - val_loss: 0.4466 - val_accuracy: 0.7940\n",
            "Epoch 2/5\n",
            "215/215 [==============================] - 3s 12ms/step - loss: 0.4142 - accuracy: 0.8142 - val_loss: 0.4350 - val_accuracy: 0.8110\n",
            "Epoch 3/5\n",
            "215/215 [==============================] - 3s 12ms/step - loss: 0.3994 - accuracy: 0.8222 - val_loss: 0.4308 - val_accuracy: 0.8123\n",
            "Epoch 4/5\n",
            "215/215 [==============================] - 3s 12ms/step - loss: 0.3920 - accuracy: 0.8269 - val_loss: 0.4265 - val_accuracy: 0.8176\n",
            "Epoch 5/5\n",
            "215/215 [==============================] - 2s 12ms/step - loss: 0.3858 - accuracy: 0.8291 - val_loss: 0.4281 - val_accuracy: 0.8136\n"
          ]
        }
      ]
    },
    {
      "cell_type": "code",
      "source": [
        "# Make predictions with USE tf hub models\n",
        "\n",
        "model_6_pred_probs = model_6.predict(val_sentences)"
      ],
      "metadata": {
        "id": "Rr3Jz7dDEodo"
      },
      "execution_count": 114,
      "outputs": []
    },
    {
      "cell_type": "code",
      "source": [
        "model_6_preds = tf.squeeze(tf.round(model_6_pred_probs))"
      ],
      "metadata": {
        "id": "48FaAaddEzdv"
      },
      "execution_count": 115,
      "outputs": []
    },
    {
      "cell_type": "code",
      "source": [
        "# Calculate model 6 performance\n",
        "\n",
        "model_6_results = calculate_results(y_true = val_labels,\n",
        "                                    y_pred = model_6_preds)"
      ],
      "metadata": {
        "id": "A-WAh5pOE6yX"
      },
      "execution_count": 116,
      "outputs": []
    },
    {
      "cell_type": "code",
      "source": [
        "print(model_6_results, '\\n', model_5_results, '\\n', model_4_results, '\\n', model_3_results, '\\n', model_2_results, '\\n', model_1_results, '\\n', baseline_results)"
      ],
      "metadata": {
        "colab": {
          "base_uri": "https://localhost:8080/"
        },
        "id": "4jXK3pN6FKjx",
        "outputId": "7c698660-a0e7-42ea-ea82-8b2a4d0edc79"
      },
      "execution_count": 117,
      "outputs": [
        {
          "output_type": "stream",
          "name": "stdout",
          "text": [
            "{'accuracy': 81.36482939632546, 'precision': 0.8160661319598898, 'recall': 0.8136482939632546, 'f1': 0.8120618868299143} \n",
            " {'accuracy': 75.8530183727034, 'precision': 0.7593999956661763, 'recall': 0.7585301837270341, 'f1': 0.7566051475454213} \n",
            " {'accuracy': 76.24671916010499, 'precision': 0.7677266148183088, 'recall': 0.7624671916010499, 'f1': 0.7585330817821493} \n",
            " {'accuracy': 77.82152230971128, 'precision': 0.7791991586469295, 'recall': 0.7782152230971129, 'f1': 0.7766208088282468} \n",
            " {'accuracy': 78.08398950131233, 'precision': 0.7856875884556138, 'recall': 0.7808398950131233, 'f1': 0.777681907957685} \n",
            " {'accuracy': 78.74015748031496, 'precision': 0.7914920592553047, 'recall': 0.7874015748031497, 'f1': 0.7846966492209201} \n",
            " {'accuracy': 79.26509186351706, 'precision': 0.8111390004213173, 'recall': 0.7926509186351706, 'f1': 0.7862189758049549}\n"
          ]
        }
      ]
    },
    {
      "cell_type": "markdown",
      "source": [
        "## Model_7 : TF Hub pretrained but with 10% of training data\n",
        "\n",
        "Transfer Learning really helps when you dont have a large dataset"
      ],
      "metadata": {
        "id": "I6WgqhqNFbNI"
      }
    },
    {
      "cell_type": "code",
      "source": [
        "# Create subsets of 10% of the training data\n",
        "\n",
        "train_10_percent = train_df_shuffled[['text', 'target']].sample(frac=0.1, random_state =42)\n",
        "train_10_percent.head()"
      ],
      "metadata": {
        "colab": {
          "base_uri": "https://localhost:8080/",
          "height": 206
        },
        "id": "ta7w5ZIeH2Bp",
        "outputId": "83d862b4-409d-44b7-dd58-4c819d2d0f48"
      },
      "execution_count": 118,
      "outputs": [
        {
          "output_type": "execute_result",
          "data": {
            "text/plain": [
              "                                                   text  target\n",
              "4955  DFR EP016 Monthly Meltdown - On Dnbheaven 2015...       0\n",
              "584   FedEx no longer to transport bioterror germs i...       0\n",
              "7411  Gunmen kill four in El Salvador bus attack: Su...       1\n",
              "5950  @camilacabello97 Internally and externally scr...       1\n",
              "5541  Radiation emergency #preparedness starts with ...       1"
            ],
            "text/html": [
              "\n",
              "  <div id=\"df-53459174-c8cc-4c9e-86e9-def7398139a8\">\n",
              "    <div class=\"colab-df-container\">\n",
              "      <div>\n",
              "<style scoped>\n",
              "    .dataframe tbody tr th:only-of-type {\n",
              "        vertical-align: middle;\n",
              "    }\n",
              "\n",
              "    .dataframe tbody tr th {\n",
              "        vertical-align: top;\n",
              "    }\n",
              "\n",
              "    .dataframe thead th {\n",
              "        text-align: right;\n",
              "    }\n",
              "</style>\n",
              "<table border=\"1\" class=\"dataframe\">\n",
              "  <thead>\n",
              "    <tr style=\"text-align: right;\">\n",
              "      <th></th>\n",
              "      <th>text</th>\n",
              "      <th>target</th>\n",
              "    </tr>\n",
              "  </thead>\n",
              "  <tbody>\n",
              "    <tr>\n",
              "      <th>4955</th>\n",
              "      <td>DFR EP016 Monthly Meltdown - On Dnbheaven 2015...</td>\n",
              "      <td>0</td>\n",
              "    </tr>\n",
              "    <tr>\n",
              "      <th>584</th>\n",
              "      <td>FedEx no longer to transport bioterror germs i...</td>\n",
              "      <td>0</td>\n",
              "    </tr>\n",
              "    <tr>\n",
              "      <th>7411</th>\n",
              "      <td>Gunmen kill four in El Salvador bus attack: Su...</td>\n",
              "      <td>1</td>\n",
              "    </tr>\n",
              "    <tr>\n",
              "      <th>5950</th>\n",
              "      <td>@camilacabello97 Internally and externally scr...</td>\n",
              "      <td>1</td>\n",
              "    </tr>\n",
              "    <tr>\n",
              "      <th>5541</th>\n",
              "      <td>Radiation emergency #preparedness starts with ...</td>\n",
              "      <td>1</td>\n",
              "    </tr>\n",
              "  </tbody>\n",
              "</table>\n",
              "</div>\n",
              "      <button class=\"colab-df-convert\" onclick=\"convertToInteractive('df-53459174-c8cc-4c9e-86e9-def7398139a8')\"\n",
              "              title=\"Convert this dataframe to an interactive table.\"\n",
              "              style=\"display:none;\">\n",
              "        \n",
              "  <svg xmlns=\"http://www.w3.org/2000/svg\" height=\"24px\"viewBox=\"0 0 24 24\"\n",
              "       width=\"24px\">\n",
              "    <path d=\"M0 0h24v24H0V0z\" fill=\"none\"/>\n",
              "    <path d=\"M18.56 5.44l.94 2.06.94-2.06 2.06-.94-2.06-.94-.94-2.06-.94 2.06-2.06.94zm-11 1L8.5 8.5l.94-2.06 2.06-.94-2.06-.94L8.5 2.5l-.94 2.06-2.06.94zm10 10l.94 2.06.94-2.06 2.06-.94-2.06-.94-.94-2.06-.94 2.06-2.06.94z\"/><path d=\"M17.41 7.96l-1.37-1.37c-.4-.4-.92-.59-1.43-.59-.52 0-1.04.2-1.43.59L10.3 9.45l-7.72 7.72c-.78.78-.78 2.05 0 2.83L4 21.41c.39.39.9.59 1.41.59.51 0 1.02-.2 1.41-.59l7.78-7.78 2.81-2.81c.8-.78.8-2.07 0-2.86zM5.41 20L4 18.59l7.72-7.72 1.47 1.35L5.41 20z\"/>\n",
              "  </svg>\n",
              "      </button>\n",
              "      \n",
              "  <style>\n",
              "    .colab-df-container {\n",
              "      display:flex;\n",
              "      flex-wrap:wrap;\n",
              "      gap: 12px;\n",
              "    }\n",
              "\n",
              "    .colab-df-convert {\n",
              "      background-color: #E8F0FE;\n",
              "      border: none;\n",
              "      border-radius: 50%;\n",
              "      cursor: pointer;\n",
              "      display: none;\n",
              "      fill: #1967D2;\n",
              "      height: 32px;\n",
              "      padding: 0 0 0 0;\n",
              "      width: 32px;\n",
              "    }\n",
              "\n",
              "    .colab-df-convert:hover {\n",
              "      background-color: #E2EBFA;\n",
              "      box-shadow: 0px 1px 2px rgba(60, 64, 67, 0.3), 0px 1px 3px 1px rgba(60, 64, 67, 0.15);\n",
              "      fill: #174EA6;\n",
              "    }\n",
              "\n",
              "    [theme=dark] .colab-df-convert {\n",
              "      background-color: #3B4455;\n",
              "      fill: #D2E3FC;\n",
              "    }\n",
              "\n",
              "    [theme=dark] .colab-df-convert:hover {\n",
              "      background-color: #434B5C;\n",
              "      box-shadow: 0px 1px 3px 1px rgba(0, 0, 0, 0.15);\n",
              "      filter: drop-shadow(0px 1px 2px rgba(0, 0, 0, 0.3));\n",
              "      fill: #FFFFFF;\n",
              "    }\n",
              "  </style>\n",
              "\n",
              "      <script>\n",
              "        const buttonEl =\n",
              "          document.querySelector('#df-53459174-c8cc-4c9e-86e9-def7398139a8 button.colab-df-convert');\n",
              "        buttonEl.style.display =\n",
              "          google.colab.kernel.accessAllowed ? 'block' : 'none';\n",
              "\n",
              "        async function convertToInteractive(key) {\n",
              "          const element = document.querySelector('#df-53459174-c8cc-4c9e-86e9-def7398139a8');\n",
              "          const dataTable =\n",
              "            await google.colab.kernel.invokeFunction('convertToInteractive',\n",
              "                                                     [key], {});\n",
              "          if (!dataTable) return;\n",
              "\n",
              "          const docLinkHtml = 'Like what you see? Visit the ' +\n",
              "            '<a target=\"_blank\" href=https://colab.research.google.com/notebooks/data_table.ipynb>data table notebook</a>'\n",
              "            + ' to learn more about interactive tables.';\n",
              "          element.innerHTML = '';\n",
              "          dataTable['output_type'] = 'display_data';\n",
              "          await google.colab.output.renderOutput(dataTable, element);\n",
              "          const docLink = document.createElement('div');\n",
              "          docLink.innerHTML = docLinkHtml;\n",
              "          element.appendChild(docLink);\n",
              "        }\n",
              "      </script>\n",
              "    </div>\n",
              "  </div>\n",
              "  "
            ]
          },
          "metadata": {},
          "execution_count": 118
        }
      ]
    },
    {
      "cell_type": "code",
      "source": [
        "train_sents_10_percent = train_10_percent['text'].to_list()\n",
        "train_labels_10_percent = train_10_percent['target'].to_list()"
      ],
      "metadata": {
        "id": "UBEMYg66Ick7"
      },
      "execution_count": 119,
      "outputs": []
    },
    {
      "cell_type": "code",
      "source": [
        "train_10_percent['target'].value_counts()"
      ],
      "metadata": {
        "colab": {
          "base_uri": "https://localhost:8080/"
        },
        "id": "xwRpr_8yJAZr",
        "outputId": "a0d48f9f-dc04-4989-88a2-84f9e712b662"
      },
      "execution_count": 120,
      "outputs": [
        {
          "output_type": "execute_result",
          "data": {
            "text/plain": [
              "0    413\n",
              "1    348\n",
              "Name: target, dtype: int64"
            ]
          },
          "metadata": {},
          "execution_count": 120
        }
      ]
    },
    {
      "cell_type": "code",
      "source": [
        "train_df_shuffled['target'].value_counts()"
      ],
      "metadata": {
        "colab": {
          "base_uri": "https://localhost:8080/"
        },
        "id": "7JJlvnF6Jvyz",
        "outputId": "4c3c2787-9318-4f63-f85b-52d0bcdc0a12"
      },
      "execution_count": 121,
      "outputs": [
        {
          "output_type": "execute_result",
          "data": {
            "text/plain": [
              "0    4342\n",
              "1    3271\n",
              "Name: target, dtype: int64"
            ]
          },
          "metadata": {},
          "execution_count": 121
        }
      ]
    },
    {
      "cell_type": "markdown",
      "source": [
        "To recreate a model same as the previous model you created you can use the tf.keras clone model"
      ],
      "metadata": {
        "id": "0stTEFHsAhCa"
      }
    },
    {
      "cell_type": "code",
      "source": [
        "# Lets build a model the same as model_6\n",
        "\n",
        "model_7 = tf.keras.models.clone_model(model_6)\n",
        "\n",
        "# Compile the model\n",
        "\n",
        "model_7.compile(loss = 'binary_crossentropy',\n",
        "                optimizer = tf.keras.optimizers.Adam(),\n",
        "                metrics = ['accuracy'])"
      ],
      "metadata": {
        "id": "WiyI0LeRJ4x-"
      },
      "execution_count": 125,
      "outputs": []
    },
    {
      "cell_type": "code",
      "source": [
        "model_7.summary()"
      ],
      "metadata": {
        "colab": {
          "base_uri": "https://localhost:8080/"
        },
        "id": "pYKg2nXjBCrW",
        "outputId": "d6adbdc3-59c6-47df-c4ee-701f9bae748c"
      },
      "execution_count": 123,
      "outputs": [
        {
          "output_type": "stream",
          "name": "stdout",
          "text": [
            "Model: \"model_6_USE\"\n",
            "_________________________________________________________________\n",
            " Layer (type)                Output Shape              Param #   \n",
            "=================================================================\n",
            " USE (KerasLayer)            (None, 512)               256797824 \n",
            "                                                                 \n",
            " dense_6 (Dense)             (None, 64)                32832     \n",
            "                                                                 \n",
            " dense_7 (Dense)             (None, 1)                 65        \n",
            "                                                                 \n",
            "=================================================================\n",
            "Total params: 256,830,721\n",
            "Trainable params: 32,897\n",
            "Non-trainable params: 256,797,824\n",
            "_________________________________________________________________\n"
          ]
        }
      ]
    },
    {
      "cell_type": "code",
      "source": [
        "# Fit the model\n",
        "model_7.fit(train_sents_10_percent, train_labels_10_percent,\n",
        "            validation_data = (val_sentences, val_labels),\n",
        "            epochs = 5,\n",
        "            callbacks = [create_tensorboard_callback(SAVE_DIR,\n",
        "                                                     'tf_hub_model_7_10%')])"
      ],
      "metadata": {
        "colab": {
          "base_uri": "https://localhost:8080/"
        },
        "id": "9V0YIuERBBQW",
        "outputId": "265965b3-c66d-483e-db7a-80b99ca2897c"
      },
      "execution_count": 130,
      "outputs": [
        {
          "output_type": "stream",
          "name": "stdout",
          "text": [
            "Saving TensorBoard log files to: model_logs/model_7_10%/20220912-185412\n",
            "Epoch 1/5\n",
            "24/24 [==============================] - 4s 38ms/step - loss: 0.6683 - accuracy: 0.6965 - val_loss: 0.6282 - val_accuracy: 0.7940\n",
            "Epoch 2/5\n",
            "24/24 [==============================] - 1s 25ms/step - loss: 0.5927 - accuracy: 0.7950 - val_loss: 0.5474 - val_accuracy: 0.7979\n",
            "Epoch 3/5\n",
            "24/24 [==============================] - 1s 22ms/step - loss: 0.5157 - accuracy: 0.7950 - val_loss: 0.4793 - val_accuracy: 0.8045\n",
            "Epoch 4/5\n",
            "24/24 [==============================] - 1s 22ms/step - loss: 0.4601 - accuracy: 0.8081 - val_loss: 0.4353 - val_accuracy: 0.8150\n",
            "Epoch 5/5\n",
            "24/24 [==============================] - 1s 26ms/step - loss: 0.4243 - accuracy: 0.8160 - val_loss: 0.4055 - val_accuracy: 0.8241\n"
          ]
        },
        {
          "output_type": "execute_result",
          "data": {
            "text/plain": [
              "<keras.callbacks.History at 0x7fca4e294350>"
            ]
          },
          "metadata": {},
          "execution_count": 130
        }
      ]
    },
    {
      "cell_type": "code",
      "source": [
        "# Make predictions with the models trained on 10% of the data\n",
        "\n",
        "model_7_pred_probs = model_7.predict(val_sentences)\n",
        "model_7_preds = tf.squeeze(tf.round(model_7_pred_probs))"
      ],
      "metadata": {
        "id": "N55L0nFpAuQS"
      },
      "execution_count": 132,
      "outputs": []
    },
    {
      "cell_type": "code",
      "source": [
        "# Eval moddel 7\n",
        "\n",
        "model_7_results = calculate_results(y_true = val_labels,\n",
        "                                    y_pred = model_7_preds)"
      ],
      "metadata": {
        "id": "P08At0OvDyIZ"
      },
      "execution_count": 134,
      "outputs": []
    },
    {
      "cell_type": "code",
      "source": [],
      "metadata": {
        "id": "Bijl7hZ4D7Sh"
      },
      "execution_count": null,
      "outputs": []
    }
  ]
}