{
  "nbformat": 4,
  "nbformat_minor": 0,
  "metadata": {
    "colab": {
      "provenance": [],
      "collapsed_sections": [
        "ypVmXTvmkpq5",
        "ZvtiH8QgBmlu",
        "zPYPGSLJ-8PK",
        "tZeH9cyKApoJ",
        "HKQkQNifSofy",
        "0w_jqz8iXvTr"
      ],
      "authorship_tag": "ABX9TyMWHEd2Yy41IHhlDx1smMfs",
      "include_colab_link": true
    },
    "kernelspec": {
      "name": "python3",
      "display_name": "Python 3"
    },
    "language_info": {
      "name": "python"
    },
    "accelerator": "GPU",
    "gpuClass": "standard"
  },
  "cells": [
    {
      "cell_type": "markdown",
      "metadata": {
        "id": "view-in-github",
        "colab_type": "text"
      },
      "source": [
        "<a href=\"https://colab.research.google.com/github/greygrease/tf-stuff/blob/main/08_introduction_to_nlp_in_tensorflow.ipynb\" target=\"_parent\"><img src=\"https://colab.research.google.com/assets/colab-badge.svg\" alt=\"Open In Colab\"/></a>"
      ]
    },
    {
      "cell_type": "markdown",
      "source": [
        "# Introdunction to NLP in Tensorlfow\n",
        "\n",
        "NLP has the goal of deriving information our of natural language (text or speech)\n",
        "\n",
        "Commom NLP problems are sequence to sequence problems (seq2seq)"
      ],
      "metadata": {
        "id": "91I8CyMPjAlP"
      }
    },
    {
      "cell_type": "markdown",
      "source": [
        "## Get helper function"
      ],
      "metadata": {
        "id": "xspyKvc_O786"
      }
    },
    {
      "cell_type": "code",
      "source": [
        "!wget https://raw.githubusercontent.com/mrdbourke/tensorflow-deep-learning/main/extras/helper_functions.py"
      ],
      "metadata": {
        "colab": {
          "base_uri": "https://localhost:8080/"
        },
        "id": "WUbe01vJPDl7",
        "outputId": "44551074-f3e9-4301-a7ab-c7d923ac57e0"
      },
      "execution_count": 1,
      "outputs": [
        {
          "output_type": "stream",
          "name": "stdout",
          "text": [
            "--2022-09-12 19:42:58--  https://raw.githubusercontent.com/mrdbourke/tensorflow-deep-learning/main/extras/helper_functions.py\n",
            "Resolving raw.githubusercontent.com (raw.githubusercontent.com)... 185.199.108.133, 185.199.109.133, 185.199.110.133, ...\n",
            "Connecting to raw.githubusercontent.com (raw.githubusercontent.com)|185.199.108.133|:443... connected.\n",
            "HTTP request sent, awaiting response... 200 OK\n",
            "Length: 10246 (10K) [text/plain]\n",
            "Saving to: ‘helper_functions.py’\n",
            "\n",
            "\rhelper_functions.py   0%[                    ]       0  --.-KB/s               \rhelper_functions.py 100%[===================>]  10.01K  --.-KB/s    in 0s      \n",
            "\n",
            "2022-09-12 19:42:58 (62.0 MB/s) - ‘helper_functions.py’ saved [10246/10246]\n",
            "\n"
          ]
        }
      ]
    },
    {
      "cell_type": "code",
      "source": [
        "# Import series of helper function for the notebook\n",
        "\n",
        "from helper_functions import unzip_data, create_tensorboard_callback,compare_historys, plot_loss_curves"
      ],
      "metadata": {
        "id": "Ce0EfsV6PM8I"
      },
      "execution_count": 2,
      "outputs": []
    },
    {
      "cell_type": "markdown",
      "source": [
        "## Get a text dataset\n",
        "Kaggle's Introdunction to NLP dataset\n",
        "\n"
      ],
      "metadata": {
        "id": "0BahqaqXPXrr"
      }
    },
    {
      "cell_type": "code",
      "source": [
        "!wget https://storage.googleapis.com/ztm_tf_course/nlp_getting_started.zip"
      ],
      "metadata": {
        "colab": {
          "base_uri": "https://localhost:8080/"
        },
        "id": "vvRsnao_QJJP",
        "outputId": "c2d54c54-7414-4d04-e280-ffb9189ea971"
      },
      "execution_count": 3,
      "outputs": [
        {
          "output_type": "stream",
          "name": "stdout",
          "text": [
            "--2022-09-12 19:43:02--  https://storage.googleapis.com/ztm_tf_course/nlp_getting_started.zip\n",
            "Resolving storage.googleapis.com (storage.googleapis.com)... 172.217.1.208, 172.253.122.128, 172.253.115.128, ...\n",
            "Connecting to storage.googleapis.com (storage.googleapis.com)|172.217.1.208|:443... connected.\n",
            "HTTP request sent, awaiting response... 200 OK\n",
            "Length: 607343 (593K) [application/zip]\n",
            "Saving to: ‘nlp_getting_started.zip’\n",
            "\n",
            "\rnlp_getting_started   0%[                    ]       0  --.-KB/s               \rnlp_getting_started 100%[===================>] 593.11K  --.-KB/s    in 0.005s  \n",
            "\n",
            "2022-09-12 19:43:02 (127 MB/s) - ‘nlp_getting_started.zip’ saved [607343/607343]\n",
            "\n"
          ]
        }
      ]
    },
    {
      "cell_type": "code",
      "source": [
        "# Unzip data\n",
        "\n",
        "unzip_data('nlp_getting_started.zip')"
      ],
      "metadata": {
        "id": "Yid-4ph0QKxb"
      },
      "execution_count": 4,
      "outputs": []
    },
    {
      "cell_type": "markdown",
      "source": [
        "## Visualize a text dataset"
      ],
      "metadata": {
        "id": "q_TH2BlXQS2q"
      }
    },
    {
      "cell_type": "code",
      "source": [
        "import pandas as pd\n",
        "\n",
        "train_df = pd.read_csv('train.csv')\n",
        "test_df = pd.read_csv('test.csv')"
      ],
      "metadata": {
        "id": "CT-qUCmeSker"
      },
      "execution_count": 5,
      "outputs": []
    },
    {
      "cell_type": "code",
      "source": [
        "train_df.head()"
      ],
      "metadata": {
        "colab": {
          "base_uri": "https://localhost:8080/",
          "height": 206
        },
        "id": "_MWXR41HTCp5",
        "outputId": "bd9d53ff-340d-478a-eb88-e5bcb0623097"
      },
      "execution_count": 6,
      "outputs": [
        {
          "output_type": "execute_result",
          "data": {
            "text/plain": [
              "   id keyword location                                               text  \\\n",
              "0   1     NaN      NaN  Our Deeds are the Reason of this #earthquake M...   \n",
              "1   4     NaN      NaN             Forest fire near La Ronge Sask. Canada   \n",
              "2   5     NaN      NaN  All residents asked to 'shelter in place' are ...   \n",
              "3   6     NaN      NaN  13,000 people receive #wildfires evacuation or...   \n",
              "4   7     NaN      NaN  Just got sent this photo from Ruby #Alaska as ...   \n",
              "\n",
              "   target  \n",
              "0       1  \n",
              "1       1  \n",
              "2       1  \n",
              "3       1  \n",
              "4       1  "
            ],
            "text/html": [
              "\n",
              "  <div id=\"df-0c63f706-9bf2-424c-a6ef-84e1025a2137\">\n",
              "    <div class=\"colab-df-container\">\n",
              "      <div>\n",
              "<style scoped>\n",
              "    .dataframe tbody tr th:only-of-type {\n",
              "        vertical-align: middle;\n",
              "    }\n",
              "\n",
              "    .dataframe tbody tr th {\n",
              "        vertical-align: top;\n",
              "    }\n",
              "\n",
              "    .dataframe thead th {\n",
              "        text-align: right;\n",
              "    }\n",
              "</style>\n",
              "<table border=\"1\" class=\"dataframe\">\n",
              "  <thead>\n",
              "    <tr style=\"text-align: right;\">\n",
              "      <th></th>\n",
              "      <th>id</th>\n",
              "      <th>keyword</th>\n",
              "      <th>location</th>\n",
              "      <th>text</th>\n",
              "      <th>target</th>\n",
              "    </tr>\n",
              "  </thead>\n",
              "  <tbody>\n",
              "    <tr>\n",
              "      <th>0</th>\n",
              "      <td>1</td>\n",
              "      <td>NaN</td>\n",
              "      <td>NaN</td>\n",
              "      <td>Our Deeds are the Reason of this #earthquake M...</td>\n",
              "      <td>1</td>\n",
              "    </tr>\n",
              "    <tr>\n",
              "      <th>1</th>\n",
              "      <td>4</td>\n",
              "      <td>NaN</td>\n",
              "      <td>NaN</td>\n",
              "      <td>Forest fire near La Ronge Sask. Canada</td>\n",
              "      <td>1</td>\n",
              "    </tr>\n",
              "    <tr>\n",
              "      <th>2</th>\n",
              "      <td>5</td>\n",
              "      <td>NaN</td>\n",
              "      <td>NaN</td>\n",
              "      <td>All residents asked to 'shelter in place' are ...</td>\n",
              "      <td>1</td>\n",
              "    </tr>\n",
              "    <tr>\n",
              "      <th>3</th>\n",
              "      <td>6</td>\n",
              "      <td>NaN</td>\n",
              "      <td>NaN</td>\n",
              "      <td>13,000 people receive #wildfires evacuation or...</td>\n",
              "      <td>1</td>\n",
              "    </tr>\n",
              "    <tr>\n",
              "      <th>4</th>\n",
              "      <td>7</td>\n",
              "      <td>NaN</td>\n",
              "      <td>NaN</td>\n",
              "      <td>Just got sent this photo from Ruby #Alaska as ...</td>\n",
              "      <td>1</td>\n",
              "    </tr>\n",
              "  </tbody>\n",
              "</table>\n",
              "</div>\n",
              "      <button class=\"colab-df-convert\" onclick=\"convertToInteractive('df-0c63f706-9bf2-424c-a6ef-84e1025a2137')\"\n",
              "              title=\"Convert this dataframe to an interactive table.\"\n",
              "              style=\"display:none;\">\n",
              "        \n",
              "  <svg xmlns=\"http://www.w3.org/2000/svg\" height=\"24px\"viewBox=\"0 0 24 24\"\n",
              "       width=\"24px\">\n",
              "    <path d=\"M0 0h24v24H0V0z\" fill=\"none\"/>\n",
              "    <path d=\"M18.56 5.44l.94 2.06.94-2.06 2.06-.94-2.06-.94-.94-2.06-.94 2.06-2.06.94zm-11 1L8.5 8.5l.94-2.06 2.06-.94-2.06-.94L8.5 2.5l-.94 2.06-2.06.94zm10 10l.94 2.06.94-2.06 2.06-.94-2.06-.94-.94-2.06-.94 2.06-2.06.94z\"/><path d=\"M17.41 7.96l-1.37-1.37c-.4-.4-.92-.59-1.43-.59-.52 0-1.04.2-1.43.59L10.3 9.45l-7.72 7.72c-.78.78-.78 2.05 0 2.83L4 21.41c.39.39.9.59 1.41.59.51 0 1.02-.2 1.41-.59l7.78-7.78 2.81-2.81c.8-.78.8-2.07 0-2.86zM5.41 20L4 18.59l7.72-7.72 1.47 1.35L5.41 20z\"/>\n",
              "  </svg>\n",
              "      </button>\n",
              "      \n",
              "  <style>\n",
              "    .colab-df-container {\n",
              "      display:flex;\n",
              "      flex-wrap:wrap;\n",
              "      gap: 12px;\n",
              "    }\n",
              "\n",
              "    .colab-df-convert {\n",
              "      background-color: #E8F0FE;\n",
              "      border: none;\n",
              "      border-radius: 50%;\n",
              "      cursor: pointer;\n",
              "      display: none;\n",
              "      fill: #1967D2;\n",
              "      height: 32px;\n",
              "      padding: 0 0 0 0;\n",
              "      width: 32px;\n",
              "    }\n",
              "\n",
              "    .colab-df-convert:hover {\n",
              "      background-color: #E2EBFA;\n",
              "      box-shadow: 0px 1px 2px rgba(60, 64, 67, 0.3), 0px 1px 3px 1px rgba(60, 64, 67, 0.15);\n",
              "      fill: #174EA6;\n",
              "    }\n",
              "\n",
              "    [theme=dark] .colab-df-convert {\n",
              "      background-color: #3B4455;\n",
              "      fill: #D2E3FC;\n",
              "    }\n",
              "\n",
              "    [theme=dark] .colab-df-convert:hover {\n",
              "      background-color: #434B5C;\n",
              "      box-shadow: 0px 1px 3px 1px rgba(0, 0, 0, 0.15);\n",
              "      filter: drop-shadow(0px 1px 2px rgba(0, 0, 0, 0.3));\n",
              "      fill: #FFFFFF;\n",
              "    }\n",
              "  </style>\n",
              "\n",
              "      <script>\n",
              "        const buttonEl =\n",
              "          document.querySelector('#df-0c63f706-9bf2-424c-a6ef-84e1025a2137 button.colab-df-convert');\n",
              "        buttonEl.style.display =\n",
              "          google.colab.kernel.accessAllowed ? 'block' : 'none';\n",
              "\n",
              "        async function convertToInteractive(key) {\n",
              "          const element = document.querySelector('#df-0c63f706-9bf2-424c-a6ef-84e1025a2137');\n",
              "          const dataTable =\n",
              "            await google.colab.kernel.invokeFunction('convertToInteractive',\n",
              "                                                     [key], {});\n",
              "          if (!dataTable) return;\n",
              "\n",
              "          const docLinkHtml = 'Like what you see? Visit the ' +\n",
              "            '<a target=\"_blank\" href=https://colab.research.google.com/notebooks/data_table.ipynb>data table notebook</a>'\n",
              "            + ' to learn more about interactive tables.';\n",
              "          element.innerHTML = '';\n",
              "          dataTable['output_type'] = 'display_data';\n",
              "          await google.colab.output.renderOutput(dataTable, element);\n",
              "          const docLink = document.createElement('div');\n",
              "          docLink.innerHTML = docLinkHtml;\n",
              "          element.appendChild(docLink);\n",
              "        }\n",
              "      </script>\n",
              "    </div>\n",
              "  </div>\n",
              "  "
            ]
          },
          "metadata": {},
          "execution_count": 6
        }
      ]
    },
    {
      "cell_type": "code",
      "source": [
        "test_df.head()"
      ],
      "metadata": {
        "colab": {
          "base_uri": "https://localhost:8080/",
          "height": 206
        },
        "id": "p2AXOpzPfikM",
        "outputId": "38e24396-b6cb-4501-a374-fe2d6944428d"
      },
      "execution_count": 7,
      "outputs": [
        {
          "output_type": "execute_result",
          "data": {
            "text/plain": [
              "   id keyword location                                               text\n",
              "0   0     NaN      NaN                 Just happened a terrible car crash\n",
              "1   2     NaN      NaN  Heard about #earthquake is different cities, s...\n",
              "2   3     NaN      NaN  there is a forest fire at spot pond, geese are...\n",
              "3   9     NaN      NaN           Apocalypse lighting. #Spokane #wildfires\n",
              "4  11     NaN      NaN      Typhoon Soudelor kills 28 in China and Taiwan"
            ],
            "text/html": [
              "\n",
              "  <div id=\"df-c68b333d-405d-4325-bfff-c7ce0d454ba9\">\n",
              "    <div class=\"colab-df-container\">\n",
              "      <div>\n",
              "<style scoped>\n",
              "    .dataframe tbody tr th:only-of-type {\n",
              "        vertical-align: middle;\n",
              "    }\n",
              "\n",
              "    .dataframe tbody tr th {\n",
              "        vertical-align: top;\n",
              "    }\n",
              "\n",
              "    .dataframe thead th {\n",
              "        text-align: right;\n",
              "    }\n",
              "</style>\n",
              "<table border=\"1\" class=\"dataframe\">\n",
              "  <thead>\n",
              "    <tr style=\"text-align: right;\">\n",
              "      <th></th>\n",
              "      <th>id</th>\n",
              "      <th>keyword</th>\n",
              "      <th>location</th>\n",
              "      <th>text</th>\n",
              "    </tr>\n",
              "  </thead>\n",
              "  <tbody>\n",
              "    <tr>\n",
              "      <th>0</th>\n",
              "      <td>0</td>\n",
              "      <td>NaN</td>\n",
              "      <td>NaN</td>\n",
              "      <td>Just happened a terrible car crash</td>\n",
              "    </tr>\n",
              "    <tr>\n",
              "      <th>1</th>\n",
              "      <td>2</td>\n",
              "      <td>NaN</td>\n",
              "      <td>NaN</td>\n",
              "      <td>Heard about #earthquake is different cities, s...</td>\n",
              "    </tr>\n",
              "    <tr>\n",
              "      <th>2</th>\n",
              "      <td>3</td>\n",
              "      <td>NaN</td>\n",
              "      <td>NaN</td>\n",
              "      <td>there is a forest fire at spot pond, geese are...</td>\n",
              "    </tr>\n",
              "    <tr>\n",
              "      <th>3</th>\n",
              "      <td>9</td>\n",
              "      <td>NaN</td>\n",
              "      <td>NaN</td>\n",
              "      <td>Apocalypse lighting. #Spokane #wildfires</td>\n",
              "    </tr>\n",
              "    <tr>\n",
              "      <th>4</th>\n",
              "      <td>11</td>\n",
              "      <td>NaN</td>\n",
              "      <td>NaN</td>\n",
              "      <td>Typhoon Soudelor kills 28 in China and Taiwan</td>\n",
              "    </tr>\n",
              "  </tbody>\n",
              "</table>\n",
              "</div>\n",
              "      <button class=\"colab-df-convert\" onclick=\"convertToInteractive('df-c68b333d-405d-4325-bfff-c7ce0d454ba9')\"\n",
              "              title=\"Convert this dataframe to an interactive table.\"\n",
              "              style=\"display:none;\">\n",
              "        \n",
              "  <svg xmlns=\"http://www.w3.org/2000/svg\" height=\"24px\"viewBox=\"0 0 24 24\"\n",
              "       width=\"24px\">\n",
              "    <path d=\"M0 0h24v24H0V0z\" fill=\"none\"/>\n",
              "    <path d=\"M18.56 5.44l.94 2.06.94-2.06 2.06-.94-2.06-.94-.94-2.06-.94 2.06-2.06.94zm-11 1L8.5 8.5l.94-2.06 2.06-.94-2.06-.94L8.5 2.5l-.94 2.06-2.06.94zm10 10l.94 2.06.94-2.06 2.06-.94-2.06-.94-.94-2.06-.94 2.06-2.06.94z\"/><path d=\"M17.41 7.96l-1.37-1.37c-.4-.4-.92-.59-1.43-.59-.52 0-1.04.2-1.43.59L10.3 9.45l-7.72 7.72c-.78.78-.78 2.05 0 2.83L4 21.41c.39.39.9.59 1.41.59.51 0 1.02-.2 1.41-.59l7.78-7.78 2.81-2.81c.8-.78.8-2.07 0-2.86zM5.41 20L4 18.59l7.72-7.72 1.47 1.35L5.41 20z\"/>\n",
              "  </svg>\n",
              "      </button>\n",
              "      \n",
              "  <style>\n",
              "    .colab-df-container {\n",
              "      display:flex;\n",
              "      flex-wrap:wrap;\n",
              "      gap: 12px;\n",
              "    }\n",
              "\n",
              "    .colab-df-convert {\n",
              "      background-color: #E8F0FE;\n",
              "      border: none;\n",
              "      border-radius: 50%;\n",
              "      cursor: pointer;\n",
              "      display: none;\n",
              "      fill: #1967D2;\n",
              "      height: 32px;\n",
              "      padding: 0 0 0 0;\n",
              "      width: 32px;\n",
              "    }\n",
              "\n",
              "    .colab-df-convert:hover {\n",
              "      background-color: #E2EBFA;\n",
              "      box-shadow: 0px 1px 2px rgba(60, 64, 67, 0.3), 0px 1px 3px 1px rgba(60, 64, 67, 0.15);\n",
              "      fill: #174EA6;\n",
              "    }\n",
              "\n",
              "    [theme=dark] .colab-df-convert {\n",
              "      background-color: #3B4455;\n",
              "      fill: #D2E3FC;\n",
              "    }\n",
              "\n",
              "    [theme=dark] .colab-df-convert:hover {\n",
              "      background-color: #434B5C;\n",
              "      box-shadow: 0px 1px 3px 1px rgba(0, 0, 0, 0.15);\n",
              "      filter: drop-shadow(0px 1px 2px rgba(0, 0, 0, 0.3));\n",
              "      fill: #FFFFFF;\n",
              "    }\n",
              "  </style>\n",
              "\n",
              "      <script>\n",
              "        const buttonEl =\n",
              "          document.querySelector('#df-c68b333d-405d-4325-bfff-c7ce0d454ba9 button.colab-df-convert');\n",
              "        buttonEl.style.display =\n",
              "          google.colab.kernel.accessAllowed ? 'block' : 'none';\n",
              "\n",
              "        async function convertToInteractive(key) {\n",
              "          const element = document.querySelector('#df-c68b333d-405d-4325-bfff-c7ce0d454ba9');\n",
              "          const dataTable =\n",
              "            await google.colab.kernel.invokeFunction('convertToInteractive',\n",
              "                                                     [key], {});\n",
              "          if (!dataTable) return;\n",
              "\n",
              "          const docLinkHtml = 'Like what you see? Visit the ' +\n",
              "            '<a target=\"_blank\" href=https://colab.research.google.com/notebooks/data_table.ipynb>data table notebook</a>'\n",
              "            + ' to learn more about interactive tables.';\n",
              "          element.innerHTML = '';\n",
              "          dataTable['output_type'] = 'display_data';\n",
              "          await google.colab.output.renderOutput(dataTable, element);\n",
              "          const docLink = document.createElement('div');\n",
              "          docLink.innerHTML = docLinkHtml;\n",
              "          element.appendChild(docLink);\n",
              "        }\n",
              "      </script>\n",
              "    </div>\n",
              "  </div>\n",
              "  "
            ]
          },
          "metadata": {},
          "execution_count": 7
        }
      ]
    },
    {
      "cell_type": "code",
      "source": [
        "train_df_shuffled = train_df.sample(frac = 1, random_state = 42)\n",
        "train_df_shuffled.head()"
      ],
      "metadata": {
        "colab": {
          "base_uri": "https://localhost:8080/",
          "height": 337
        },
        "id": "hD-qtVfIUyhT",
        "outputId": "2e38d5a3-2bb0-4579-e049-6bb20dde1635"
      },
      "execution_count": 8,
      "outputs": [
        {
          "output_type": "execute_result",
          "data": {
            "text/plain": [
              "        id      keyword               location  \\\n",
              "2644  3796  destruction                    NaN   \n",
              "2227  3185       deluge                    NaN   \n",
              "5448  7769       police                     UK   \n",
              "132    191   aftershock                    NaN   \n",
              "6845  9810       trauma  Montgomery County, MD   \n",
              "\n",
              "                                                   text  target  \n",
              "2644  So you have a new weapon that can cause un-ima...       1  \n",
              "2227  The f$&amp;@ing things I do for #GISHWHES Just...       0  \n",
              "5448  DT @georgegalloway: RT @Galloway4Mayor: ÛÏThe...       1  \n",
              "132   Aftershock back to school kick off was great. ...       0  \n",
              "6845  in response to trauma Children of Addicts deve...       0  "
            ],
            "text/html": [
              "\n",
              "  <div id=\"df-a0e2d7e3-eedc-48fc-9fd8-72a9e7759bb1\">\n",
              "    <div class=\"colab-df-container\">\n",
              "      <div>\n",
              "<style scoped>\n",
              "    .dataframe tbody tr th:only-of-type {\n",
              "        vertical-align: middle;\n",
              "    }\n",
              "\n",
              "    .dataframe tbody tr th {\n",
              "        vertical-align: top;\n",
              "    }\n",
              "\n",
              "    .dataframe thead th {\n",
              "        text-align: right;\n",
              "    }\n",
              "</style>\n",
              "<table border=\"1\" class=\"dataframe\">\n",
              "  <thead>\n",
              "    <tr style=\"text-align: right;\">\n",
              "      <th></th>\n",
              "      <th>id</th>\n",
              "      <th>keyword</th>\n",
              "      <th>location</th>\n",
              "      <th>text</th>\n",
              "      <th>target</th>\n",
              "    </tr>\n",
              "  </thead>\n",
              "  <tbody>\n",
              "    <tr>\n",
              "      <th>2644</th>\n",
              "      <td>3796</td>\n",
              "      <td>destruction</td>\n",
              "      <td>NaN</td>\n",
              "      <td>So you have a new weapon that can cause un-ima...</td>\n",
              "      <td>1</td>\n",
              "    </tr>\n",
              "    <tr>\n",
              "      <th>2227</th>\n",
              "      <td>3185</td>\n",
              "      <td>deluge</td>\n",
              "      <td>NaN</td>\n",
              "      <td>The f$&amp;amp;@ing things I do for #GISHWHES Just...</td>\n",
              "      <td>0</td>\n",
              "    </tr>\n",
              "    <tr>\n",
              "      <th>5448</th>\n",
              "      <td>7769</td>\n",
              "      <td>police</td>\n",
              "      <td>UK</td>\n",
              "      <td>DT @georgegalloway: RT @Galloway4Mayor: ÛÏThe...</td>\n",
              "      <td>1</td>\n",
              "    </tr>\n",
              "    <tr>\n",
              "      <th>132</th>\n",
              "      <td>191</td>\n",
              "      <td>aftershock</td>\n",
              "      <td>NaN</td>\n",
              "      <td>Aftershock back to school kick off was great. ...</td>\n",
              "      <td>0</td>\n",
              "    </tr>\n",
              "    <tr>\n",
              "      <th>6845</th>\n",
              "      <td>9810</td>\n",
              "      <td>trauma</td>\n",
              "      <td>Montgomery County, MD</td>\n",
              "      <td>in response to trauma Children of Addicts deve...</td>\n",
              "      <td>0</td>\n",
              "    </tr>\n",
              "  </tbody>\n",
              "</table>\n",
              "</div>\n",
              "      <button class=\"colab-df-convert\" onclick=\"convertToInteractive('df-a0e2d7e3-eedc-48fc-9fd8-72a9e7759bb1')\"\n",
              "              title=\"Convert this dataframe to an interactive table.\"\n",
              "              style=\"display:none;\">\n",
              "        \n",
              "  <svg xmlns=\"http://www.w3.org/2000/svg\" height=\"24px\"viewBox=\"0 0 24 24\"\n",
              "       width=\"24px\">\n",
              "    <path d=\"M0 0h24v24H0V0z\" fill=\"none\"/>\n",
              "    <path d=\"M18.56 5.44l.94 2.06.94-2.06 2.06-.94-2.06-.94-.94-2.06-.94 2.06-2.06.94zm-11 1L8.5 8.5l.94-2.06 2.06-.94-2.06-.94L8.5 2.5l-.94 2.06-2.06.94zm10 10l.94 2.06.94-2.06 2.06-.94-2.06-.94-.94-2.06-.94 2.06-2.06.94z\"/><path d=\"M17.41 7.96l-1.37-1.37c-.4-.4-.92-.59-1.43-.59-.52 0-1.04.2-1.43.59L10.3 9.45l-7.72 7.72c-.78.78-.78 2.05 0 2.83L4 21.41c.39.39.9.59 1.41.59.51 0 1.02-.2 1.41-.59l7.78-7.78 2.81-2.81c.8-.78.8-2.07 0-2.86zM5.41 20L4 18.59l7.72-7.72 1.47 1.35L5.41 20z\"/>\n",
              "  </svg>\n",
              "      </button>\n",
              "      \n",
              "  <style>\n",
              "    .colab-df-container {\n",
              "      display:flex;\n",
              "      flex-wrap:wrap;\n",
              "      gap: 12px;\n",
              "    }\n",
              "\n",
              "    .colab-df-convert {\n",
              "      background-color: #E8F0FE;\n",
              "      border: none;\n",
              "      border-radius: 50%;\n",
              "      cursor: pointer;\n",
              "      display: none;\n",
              "      fill: #1967D2;\n",
              "      height: 32px;\n",
              "      padding: 0 0 0 0;\n",
              "      width: 32px;\n",
              "    }\n",
              "\n",
              "    .colab-df-convert:hover {\n",
              "      background-color: #E2EBFA;\n",
              "      box-shadow: 0px 1px 2px rgba(60, 64, 67, 0.3), 0px 1px 3px 1px rgba(60, 64, 67, 0.15);\n",
              "      fill: #174EA6;\n",
              "    }\n",
              "\n",
              "    [theme=dark] .colab-df-convert {\n",
              "      background-color: #3B4455;\n",
              "      fill: #D2E3FC;\n",
              "    }\n",
              "\n",
              "    [theme=dark] .colab-df-convert:hover {\n",
              "      background-color: #434B5C;\n",
              "      box-shadow: 0px 1px 3px 1px rgba(0, 0, 0, 0.15);\n",
              "      filter: drop-shadow(0px 1px 2px rgba(0, 0, 0, 0.3));\n",
              "      fill: #FFFFFF;\n",
              "    }\n",
              "  </style>\n",
              "\n",
              "      <script>\n",
              "        const buttonEl =\n",
              "          document.querySelector('#df-a0e2d7e3-eedc-48fc-9fd8-72a9e7759bb1 button.colab-df-convert');\n",
              "        buttonEl.style.display =\n",
              "          google.colab.kernel.accessAllowed ? 'block' : 'none';\n",
              "\n",
              "        async function convertToInteractive(key) {\n",
              "          const element = document.querySelector('#df-a0e2d7e3-eedc-48fc-9fd8-72a9e7759bb1');\n",
              "          const dataTable =\n",
              "            await google.colab.kernel.invokeFunction('convertToInteractive',\n",
              "                                                     [key], {});\n",
              "          if (!dataTable) return;\n",
              "\n",
              "          const docLinkHtml = 'Like what you see? Visit the ' +\n",
              "            '<a target=\"_blank\" href=https://colab.research.google.com/notebooks/data_table.ipynb>data table notebook</a>'\n",
              "            + ' to learn more about interactive tables.';\n",
              "          element.innerHTML = '';\n",
              "          dataTable['output_type'] = 'display_data';\n",
              "          await google.colab.output.renderOutput(dataTable, element);\n",
              "          const docLink = document.createElement('div');\n",
              "          docLink.innerHTML = docLinkHtml;\n",
              "          element.appendChild(docLink);\n",
              "        }\n",
              "      </script>\n",
              "    </div>\n",
              "  </div>\n",
              "  "
            ]
          },
          "metadata": {},
          "execution_count": 8
        }
      ]
    },
    {
      "cell_type": "code",
      "source": [
        "train_df.target.value_counts()"
      ],
      "metadata": {
        "colab": {
          "base_uri": "https://localhost:8080/"
        },
        "id": "P_ycmXVGW4n4",
        "outputId": "33cafa4d-84e3-4f63-b6d7-394894805cbf"
      },
      "execution_count": 9,
      "outputs": [
        {
          "output_type": "execute_result",
          "data": {
            "text/plain": [
              "0    4342\n",
              "1    3271\n",
              "Name: target, dtype: int64"
            ]
          },
          "metadata": {},
          "execution_count": 9
        }
      ]
    },
    {
      "cell_type": "code",
      "source": [
        "len(train_df)"
      ],
      "metadata": {
        "colab": {
          "base_uri": "https://localhost:8080/"
        },
        "id": "Rc7IvDXzXJwK",
        "outputId": "79c490fc-778f-4d09-a3a9-cfd3cae5a58e"
      },
      "execution_count": 10,
      "outputs": [
        {
          "output_type": "execute_result",
          "data": {
            "text/plain": [
              "7613"
            ]
          },
          "metadata": {},
          "execution_count": 10
        }
      ]
    },
    {
      "cell_type": "code",
      "source": [
        "len(test_df)"
      ],
      "metadata": {
        "colab": {
          "base_uri": "https://localhost:8080/"
        },
        "id": "Wivu0T4uXuIX",
        "outputId": "fd0a7398-f70f-46a4-8dc0-48d436992ea1"
      },
      "execution_count": 11,
      "outputs": [
        {
          "output_type": "execute_result",
          "data": {
            "text/plain": [
              "3263"
            ]
          },
          "metadata": {},
          "execution_count": 11
        }
      ]
    },
    {
      "cell_type": "code",
      "source": [
        "train_df.head()"
      ],
      "metadata": {
        "colab": {
          "base_uri": "https://localhost:8080/",
          "height": 206
        },
        "id": "eiAXB7npeOFv",
        "outputId": "33fbf89b-9ed4-485f-cad5-db3e5887f2f8"
      },
      "execution_count": 12,
      "outputs": [
        {
          "output_type": "execute_result",
          "data": {
            "text/plain": [
              "   id keyword location                                               text  \\\n",
              "0   1     NaN      NaN  Our Deeds are the Reason of this #earthquake M...   \n",
              "1   4     NaN      NaN             Forest fire near La Ronge Sask. Canada   \n",
              "2   5     NaN      NaN  All residents asked to 'shelter in place' are ...   \n",
              "3   6     NaN      NaN  13,000 people receive #wildfires evacuation or...   \n",
              "4   7     NaN      NaN  Just got sent this photo from Ruby #Alaska as ...   \n",
              "\n",
              "   target  \n",
              "0       1  \n",
              "1       1  \n",
              "2       1  \n",
              "3       1  \n",
              "4       1  "
            ],
            "text/html": [
              "\n",
              "  <div id=\"df-d66745b8-96b6-4586-9017-095a8ed53f3b\">\n",
              "    <div class=\"colab-df-container\">\n",
              "      <div>\n",
              "<style scoped>\n",
              "    .dataframe tbody tr th:only-of-type {\n",
              "        vertical-align: middle;\n",
              "    }\n",
              "\n",
              "    .dataframe tbody tr th {\n",
              "        vertical-align: top;\n",
              "    }\n",
              "\n",
              "    .dataframe thead th {\n",
              "        text-align: right;\n",
              "    }\n",
              "</style>\n",
              "<table border=\"1\" class=\"dataframe\">\n",
              "  <thead>\n",
              "    <tr style=\"text-align: right;\">\n",
              "      <th></th>\n",
              "      <th>id</th>\n",
              "      <th>keyword</th>\n",
              "      <th>location</th>\n",
              "      <th>text</th>\n",
              "      <th>target</th>\n",
              "    </tr>\n",
              "  </thead>\n",
              "  <tbody>\n",
              "    <tr>\n",
              "      <th>0</th>\n",
              "      <td>1</td>\n",
              "      <td>NaN</td>\n",
              "      <td>NaN</td>\n",
              "      <td>Our Deeds are the Reason of this #earthquake M...</td>\n",
              "      <td>1</td>\n",
              "    </tr>\n",
              "    <tr>\n",
              "      <th>1</th>\n",
              "      <td>4</td>\n",
              "      <td>NaN</td>\n",
              "      <td>NaN</td>\n",
              "      <td>Forest fire near La Ronge Sask. Canada</td>\n",
              "      <td>1</td>\n",
              "    </tr>\n",
              "    <tr>\n",
              "      <th>2</th>\n",
              "      <td>5</td>\n",
              "      <td>NaN</td>\n",
              "      <td>NaN</td>\n",
              "      <td>All residents asked to 'shelter in place' are ...</td>\n",
              "      <td>1</td>\n",
              "    </tr>\n",
              "    <tr>\n",
              "      <th>3</th>\n",
              "      <td>6</td>\n",
              "      <td>NaN</td>\n",
              "      <td>NaN</td>\n",
              "      <td>13,000 people receive #wildfires evacuation or...</td>\n",
              "      <td>1</td>\n",
              "    </tr>\n",
              "    <tr>\n",
              "      <th>4</th>\n",
              "      <td>7</td>\n",
              "      <td>NaN</td>\n",
              "      <td>NaN</td>\n",
              "      <td>Just got sent this photo from Ruby #Alaska as ...</td>\n",
              "      <td>1</td>\n",
              "    </tr>\n",
              "  </tbody>\n",
              "</table>\n",
              "</div>\n",
              "      <button class=\"colab-df-convert\" onclick=\"convertToInteractive('df-d66745b8-96b6-4586-9017-095a8ed53f3b')\"\n",
              "              title=\"Convert this dataframe to an interactive table.\"\n",
              "              style=\"display:none;\">\n",
              "        \n",
              "  <svg xmlns=\"http://www.w3.org/2000/svg\" height=\"24px\"viewBox=\"0 0 24 24\"\n",
              "       width=\"24px\">\n",
              "    <path d=\"M0 0h24v24H0V0z\" fill=\"none\"/>\n",
              "    <path d=\"M18.56 5.44l.94 2.06.94-2.06 2.06-.94-2.06-.94-.94-2.06-.94 2.06-2.06.94zm-11 1L8.5 8.5l.94-2.06 2.06-.94-2.06-.94L8.5 2.5l-.94 2.06-2.06.94zm10 10l.94 2.06.94-2.06 2.06-.94-2.06-.94-.94-2.06-.94 2.06-2.06.94z\"/><path d=\"M17.41 7.96l-1.37-1.37c-.4-.4-.92-.59-1.43-.59-.52 0-1.04.2-1.43.59L10.3 9.45l-7.72 7.72c-.78.78-.78 2.05 0 2.83L4 21.41c.39.39.9.59 1.41.59.51 0 1.02-.2 1.41-.59l7.78-7.78 2.81-2.81c.8-.78.8-2.07 0-2.86zM5.41 20L4 18.59l7.72-7.72 1.47 1.35L5.41 20z\"/>\n",
              "  </svg>\n",
              "      </button>\n",
              "      \n",
              "  <style>\n",
              "    .colab-df-container {\n",
              "      display:flex;\n",
              "      flex-wrap:wrap;\n",
              "      gap: 12px;\n",
              "    }\n",
              "\n",
              "    .colab-df-convert {\n",
              "      background-color: #E8F0FE;\n",
              "      border: none;\n",
              "      border-radius: 50%;\n",
              "      cursor: pointer;\n",
              "      display: none;\n",
              "      fill: #1967D2;\n",
              "      height: 32px;\n",
              "      padding: 0 0 0 0;\n",
              "      width: 32px;\n",
              "    }\n",
              "\n",
              "    .colab-df-convert:hover {\n",
              "      background-color: #E2EBFA;\n",
              "      box-shadow: 0px 1px 2px rgba(60, 64, 67, 0.3), 0px 1px 3px 1px rgba(60, 64, 67, 0.15);\n",
              "      fill: #174EA6;\n",
              "    }\n",
              "\n",
              "    [theme=dark] .colab-df-convert {\n",
              "      background-color: #3B4455;\n",
              "      fill: #D2E3FC;\n",
              "    }\n",
              "\n",
              "    [theme=dark] .colab-df-convert:hover {\n",
              "      background-color: #434B5C;\n",
              "      box-shadow: 0px 1px 3px 1px rgba(0, 0, 0, 0.15);\n",
              "      filter: drop-shadow(0px 1px 2px rgba(0, 0, 0, 0.3));\n",
              "      fill: #FFFFFF;\n",
              "    }\n",
              "  </style>\n",
              "\n",
              "      <script>\n",
              "        const buttonEl =\n",
              "          document.querySelector('#df-d66745b8-96b6-4586-9017-095a8ed53f3b button.colab-df-convert');\n",
              "        buttonEl.style.display =\n",
              "          google.colab.kernel.accessAllowed ? 'block' : 'none';\n",
              "\n",
              "        async function convertToInteractive(key) {\n",
              "          const element = document.querySelector('#df-d66745b8-96b6-4586-9017-095a8ed53f3b');\n",
              "          const dataTable =\n",
              "            await google.colab.kernel.invokeFunction('convertToInteractive',\n",
              "                                                     [key], {});\n",
              "          if (!dataTable) return;\n",
              "\n",
              "          const docLinkHtml = 'Like what you see? Visit the ' +\n",
              "            '<a target=\"_blank\" href=https://colab.research.google.com/notebooks/data_table.ipynb>data table notebook</a>'\n",
              "            + ' to learn more about interactive tables.';\n",
              "          element.innerHTML = '';\n",
              "          dataTable['output_type'] = 'display_data';\n",
              "          await google.colab.output.renderOutput(dataTable, element);\n",
              "          const docLink = document.createElement('div');\n",
              "          docLink.innerHTML = docLinkHtml;\n",
              "          element.appendChild(docLink);\n",
              "        }\n",
              "      </script>\n",
              "    </div>\n",
              "  </div>\n",
              "  "
            ]
          },
          "metadata": {},
          "execution_count": 12
        }
      ]
    },
    {
      "cell_type": "code",
      "source": [
        "import random\n",
        "random_index = random.randint(0, len(train_df)-5)\n",
        "for row in train_df_shuffled[['text', 'target']][random_index : random_index + 5].itertuples():\n",
        "  print(row)\n",
        "  _, text, target = row\n",
        "  print(f'Target: {target}', '(real disaster)' if target > 0 else '(not real disaster)')\n",
        "  print(f'Text:\\n,{text}\\n')\n",
        "  print(f'----\\n')"
      ],
      "metadata": {
        "colab": {
          "base_uri": "https://localhost:8080/"
        },
        "id": "1e50euNDXu8U",
        "outputId": "1f0dfa06-1c31-45e3-8e5b-b961dee3aad7"
      },
      "execution_count": 13,
      "outputs": [
        {
          "output_type": "stream",
          "name": "stdout",
          "text": [
            "Pandas(Index=6675, text='@KristyLeeMusic brings her Alabama thunder back to the Attic SEPTEMBER 26! Tickets: https://t.co/B7ZwEVsrGO', target=0)\n",
            "Target: 0 (not real disaster)\n",
            "Text:\n",
            ",@KristyLeeMusic brings her Alabama thunder back to the Attic SEPTEMBER 26! Tickets: https://t.co/B7ZwEVsrGO\n",
            "\n",
            "----\n",
            "\n",
            "Pandas(Index=4040, text='#NaturalDisasters As California fires rage the Forest Service sounds the alarm about rising wildfire costs: \\x89Û_...  http://t.co/TQwrW3jQWo', target=1)\n",
            "Target: 1 (real disaster)\n",
            "Text:\n",
            ",#NaturalDisasters As California fires rage the Forest Service sounds the alarm about rising wildfire costs: Û_...  http://t.co/TQwrW3jQWo\n",
            "\n",
            "----\n",
            "\n",
            "Pandas(Index=2230, text=\"@schelbertgeorg Thanks. I'm teaching an online class &amp; asking my students lots of questions like this. Sorry for the deluge of Ren. art!\", target=0)\n",
            "Target: 0 (not real disaster)\n",
            "Text:\n",
            ",@schelbertgeorg Thanks. I'm teaching an online class &amp; asking my students lots of questions like this. Sorry for the deluge of Ren. art!\n",
            "\n",
            "----\n",
            "\n",
            "Pandas(Index=5548, text='Rainstorm Destroys 600 Houses in Yobe State: Rainstorm Destroys 600 Houses in Yobe State. [Daily Trust] Damatu...  http://t.co/rzxQSSun02', target=1)\n",
            "Target: 1 (real disaster)\n",
            "Text:\n",
            ",Rainstorm Destroys 600 Houses in Yobe State: Rainstorm Destroys 600 Houses in Yobe State. [Daily Trust] Damatu...  http://t.co/rzxQSSun02\n",
            "\n",
            "----\n",
            "\n",
            "Pandas(Index=2320, text=\"Home2 Suites offices are coming to Salvi's Bistro site: The former Salvi's Bistro will soon be demolished to make\\x89Û_ http://t.co/PAObgHv3C7\", target=0)\n",
            "Target: 0 (not real disaster)\n",
            "Text:\n",
            ",Home2 Suites offices are coming to Salvi's Bistro site: The former Salvi's Bistro will soon be demolished to makeÛ_ http://t.co/PAObgHv3C7\n",
            "\n",
            "----\n",
            "\n"
          ]
        }
      ]
    },
    {
      "cell_type": "markdown",
      "source": [
        "### Split data into training and validation sets\n"
      ],
      "metadata": {
        "id": "ypVmXTvmkpq5"
      }
    },
    {
      "cell_type": "code",
      "source": [
        "from sklearn.model_selection import train_test_split\n",
        "\n",
        "# Use train_test_split to split training data into training and validation sets\n",
        "\n",
        "train_sentences, val_sentences, train_labels, val_labels = train_test_split(train_df_shuffled['text'].to_numpy(),\n",
        "                                                              train_df_shuffled['target'].to_numpy(),\n",
        "                                                              test_size = 0.1,\n",
        "                                                              random_state = 42)"
      ],
      "metadata": {
        "id": "rpODnwJ1nnrA"
      },
      "execution_count": 14,
      "outputs": []
    },
    {
      "cell_type": "code",
      "source": [
        "# Check the lenghts\n",
        "\n",
        "len(train_sentences), len(train_labels), len(val_sentences), len(val_labels)"
      ],
      "metadata": {
        "colab": {
          "base_uri": "https://localhost:8080/"
        },
        "id": "WB15HMsPoinl",
        "outputId": "be0b8c32-2a66-4c95-bd93-c824e6f14c06"
      },
      "execution_count": 15,
      "outputs": [
        {
          "output_type": "execute_result",
          "data": {
            "text/plain": [
              "(6851, 6851, 762, 762)"
            ]
          },
          "metadata": {},
          "execution_count": 15
        }
      ]
    },
    {
      "cell_type": "markdown",
      "source": [
        "## Convert text into numbers\n",
        "\n",
        "Tokenisation - Direct mapping of tokens\n",
        "\n",
        "Embedding - Create a matrix of feature vectors\n"
      ],
      "metadata": {
        "id": "9mmmDCR3pU7j"
      }
    },
    {
      "cell_type": "markdown",
      "source": [
        "### Text vectorisation"
      ],
      "metadata": {
        "id": "ZvtiH8QgBmlu"
      }
    },
    {
      "cell_type": "code",
      "source": [
        "train_sentences[:3]"
      ],
      "metadata": {
        "colab": {
          "base_uri": "https://localhost:8080/"
        },
        "id": "iHa-BZqIBrIZ",
        "outputId": "8aadef67-cade-489a-ef14-06a6d6d0eed0"
      },
      "execution_count": 16,
      "outputs": [
        {
          "output_type": "execute_result",
          "data": {
            "text/plain": [
              "array(['@mogacola @zamtriossu i screamed after hitting tweet',\n",
              "       'Imagine getting flattened by Kurt Zouma',\n",
              "       '@Gurmeetramrahim #MSGDoing111WelfareWorks Green S welfare force ke appx 65000 members har time disaster victim ki help ke liye tyar hai....'],\n",
              "      dtype=object)"
            ]
          },
          "metadata": {},
          "execution_count": 16
        }
      ]
    },
    {
      "cell_type": "code",
      "source": [
        "import tensorflow as tf\n",
        "from tensorflow.keras.layers.experimental.preprocessing import TextVectorization\n",
        "\n",
        "text_vectorizer = TextVectorization(max_tokens = None, # limit on the no of tokens (uncommon words get replaced by <OOV>)\n",
        "                                     standardize = 'lower_and_strip_punctuation', # lowers text and removes punctuation\n",
        "                                     split = 'whitespace', #split where the white spaces exist\n",
        "                                     ngrams = None, \n",
        "                                     output_mode = 'int',\n",
        "                                    output_sequence_length = None, # how long the sequences should be\n",
        "                                    # pad_to_max_tokens = True\n",
        "                                    )"
      ],
      "metadata": {
        "id": "gJ0mHbhzBvce"
      },
      "execution_count": 17,
      "outputs": []
    },
    {
      "cell_type": "code",
      "source": [
        "# Find the average number of tokens in thee trainint twee\n",
        "ln = (sum([len(i.split()) for i in train_sentences]))/len(train_sentences)\n",
        "round(ln)"
      ],
      "metadata": {
        "colab": {
          "base_uri": "https://localhost:8080/"
        },
        "id": "oycg8Lb_jAFx",
        "outputId": "5794b451-01dc-4768-8278-d026686a94de"
      },
      "execution_count": 18,
      "outputs": [
        {
          "output_type": "execute_result",
          "data": {
            "text/plain": [
              "15"
            ]
          },
          "metadata": {},
          "execution_count": 18
        }
      ]
    },
    {
      "cell_type": "code",
      "source": [
        "# Setup text vectorisation variables\n",
        "\n",
        "max_vocab_length = 10000\n",
        "max_length = round(ln)\n",
        "\n",
        "text_vectorizer = TextVectorization(max_tokens = max_vocab_length,\n",
        "                                    output_mode = 'int',\n",
        "                                    output_sequence_length = max_length)"
      ],
      "metadata": {
        "id": "OhQkRQtXj36R"
      },
      "execution_count": 19,
      "outputs": []
    },
    {
      "cell_type": "code",
      "source": [
        "# Fit the text vectoriser\n",
        "\n",
        "text_vectorizer.adapt(train_sentences)"
      ],
      "metadata": {
        "id": "w6uH4Lgs1RUb"
      },
      "execution_count": 20,
      "outputs": []
    },
    {
      "cell_type": "code",
      "source": [
        "sample_sentence = \"There's a flood in my street!\"\n",
        "\n",
        "text_vectorizer([sample_sentence])"
      ],
      "metadata": {
        "colab": {
          "base_uri": "https://localhost:8080/"
        },
        "id": "Q5Scnc5q1jk5",
        "outputId": "8865fbca-c9bc-4028-baea-6b401856087e"
      },
      "execution_count": 21,
      "outputs": [
        {
          "output_type": "execute_result",
          "data": {
            "text/plain": [
              "<tf.Tensor: shape=(1, 15), dtype=int64, numpy=\n",
              "array([[264,   3, 232,   4,  13, 698,   0,   0,   0,   0,   0,   0,   0,\n",
              "          0,   0]])>"
            ]
          },
          "metadata": {},
          "execution_count": 21
        }
      ]
    },
    {
      "cell_type": "code",
      "source": [
        "# Choose a random sentence from the training dataset and tokenize it \n",
        "\n",
        "random_sentence = random.choice(train_sentences)\n",
        "print(f'OG sent:\\n {random_sentence}\\n')\n",
        "\n",
        "print(f'Vectorized sent:\\n {text_vectorizer([random_sentence])}')"
      ],
      "metadata": {
        "colab": {
          "base_uri": "https://localhost:8080/"
        },
        "id": "UTEeO2C74Ks7",
        "outputId": "f086e228-44a9-44d0-a7d5-36effec755e7"
      },
      "execution_count": 22,
      "outputs": [
        {
          "output_type": "stream",
          "name": "stdout",
          "text": [
            "OG sent:\n",
            " California &amp;#039;monster&amp;#039; fire is 20% contained as 13000 are told to evacuate http://t.co/aPTAP6Yx1r\n",
            "\n",
            "Vectorized sent:\n",
            " [[  90    1   42    9  693 3976   26 3220   22 1167    5  279    1    0\n",
            "     0]]\n"
          ]
        }
      ]
    },
    {
      "cell_type": "code",
      "source": [
        "text_vectorizer([random_sentence])"
      ],
      "metadata": {
        "colab": {
          "base_uri": "https://localhost:8080/"
        },
        "id": "mTpYomZw9D2C",
        "outputId": "fcf6dca8-493a-4ade-8c55-203e613a8663"
      },
      "execution_count": 23,
      "outputs": [
        {
          "output_type": "execute_result",
          "data": {
            "text/plain": [
              "<tf.Tensor: shape=(1, 15), dtype=int64, numpy=\n",
              "array([[  90,    1,   42,    9,  693, 3976,   26, 3220,   22, 1167,    5,\n",
              "         279,    1,    0,    0]])>"
            ]
          },
          "metadata": {},
          "execution_count": 23
        }
      ]
    },
    {
      "cell_type": "code",
      "source": [
        "# Get the unique words in our vocabulary\n",
        "\n",
        "words_in_vocab = text_vectorizer.get_vocabulary()\n",
        "\n",
        "words_in_vocab[:5]\n"
      ],
      "metadata": {
        "colab": {
          "base_uri": "https://localhost:8080/"
        },
        "id": "oQRMmvVn5egC",
        "outputId": "2bbc201f-3260-48c2-eeec-edc16a554374"
      },
      "execution_count": 24,
      "outputs": [
        {
          "output_type": "execute_result",
          "data": {
            "text/plain": [
              "['', '[UNK]', 'the', 'a', 'in']"
            ]
          },
          "metadata": {},
          "execution_count": 24
        }
      ]
    },
    {
      "cell_type": "code",
      "source": [
        "words_in_vocab[-5:]"
      ],
      "metadata": {
        "colab": {
          "base_uri": "https://localhost:8080/"
        },
        "id": "bketgF9Q7zkg",
        "outputId": "3d3e6869-c81b-491a-82b1-07a5576aba1d"
      },
      "execution_count": 25,
      "outputs": [
        {
          "output_type": "execute_result",
          "data": {
            "text/plain": [
              "['pages', 'paeds', 'pads', 'padres', 'paddytomlinson1']"
            ]
          },
          "metadata": {},
          "execution_count": 25
        }
      ]
    },
    {
      "cell_type": "code",
      "source": [
        "len(words_in_vocab)"
      ],
      "metadata": {
        "colab": {
          "base_uri": "https://localhost:8080/"
        },
        "id": "_wnQQ-AC8flS",
        "outputId": "80e17ecf-0c38-4ab2-97c1-e6bda41a781d"
      },
      "execution_count": 26,
      "outputs": [
        {
          "output_type": "execute_result",
          "data": {
            "text/plain": [
              "10000"
            ]
          },
          "metadata": {},
          "execution_count": 26
        }
      ]
    },
    {
      "cell_type": "code",
      "source": [
        "words_in_vocab[-1]"
      ],
      "metadata": {
        "colab": {
          "base_uri": "https://localhost:8080/",
          "height": 0
        },
        "id": "Ga0Rg8u_8yM6",
        "outputId": "896c04f2-cde6-42a0-c52b-0e4d8b1ec994"
      },
      "execution_count": 27,
      "outputs": [
        {
          "output_type": "execute_result",
          "data": {
            "text/plain": [
              "'paddytomlinson1'"
            ],
            "application/vnd.google.colaboratory.intrinsic+json": {
              "type": "string"
            }
          },
          "metadata": {},
          "execution_count": 27
        }
      ]
    },
    {
      "cell_type": "markdown",
      "source": [
        "### Create an embedding representation of words\n",
        "\n",
        "Parameters:\n",
        "\n",
        "      input_dim = size of vocab\n",
        "      output_dim = size of the output_sequence_length\n",
        "      input_length = length of the seq\n"
      ],
      "metadata": {
        "id": "zPYPGSLJ-8PK"
      }
    },
    {
      "cell_type": "code",
      "source": [
        "tf.random.set_seed(42)\n",
        "from tensorflow.keras import layers\n",
        "\n",
        "vocab_length = len(words_in_vocab)\n",
        "\n",
        "embedding = layers.Embedding(input_dim = vocab_length,\n",
        "                             output_dim = 128,\n",
        "                             embeddings_initializer = 'uniform',\n",
        "                             input_length = max_length)"
      ],
      "metadata": {
        "id": "it8R2sCf34ST"
      },
      "execution_count": 28,
      "outputs": []
    },
    {
      "cell_type": "code",
      "source": [
        "# Get a random sentence from the training set\n",
        "\n",
        "random_sentence = random.choice(train_sentences)\n",
        "\n",
        "print(f'Original text:\\n {random_sentence}\\n')\n",
        "\n",
        "print('After Embedding:')\n",
        "\n",
        "# Embed the ranodm sent\n",
        "\n",
        "sample_embed = embedding(text_vectorizer([random_sentence]))\n",
        "\n",
        "print(sample_embed)"
      ],
      "metadata": {
        "colab": {
          "base_uri": "https://localhost:8080/"
        },
        "id": "CdleTR2V46D6",
        "outputId": "d4c18dab-2a1a-4f89-941b-49252d1e97a3"
      },
      "execution_count": 29,
      "outputs": [
        {
          "output_type": "stream",
          "name": "stdout",
          "text": [
            "Original text:\n",
            " Black Eye 9: A space battle occurred at Star O784 involving 3 fleets totaling 3942 ships with 14 destroyed\n",
            "\n",
            "After Embedding:\n",
            "tf.Tensor(\n",
            "[[[ 0.02947695 -0.04817411  0.00089605 ... -0.02419727 -0.01089432\n",
            "    0.00691551]\n",
            "  [ 0.01559405 -0.01473304  0.01601383 ...  0.03084493  0.00163232\n",
            "   -0.02909597]\n",
            "  [-0.02761239  0.04526105  0.0142337  ... -0.00329167 -0.01721014\n",
            "    0.04758156]\n",
            "  ...\n",
            "  [-0.00987239 -0.00107161 -0.02644991 ...  0.0221944   0.03307087\n",
            "    0.00479814]\n",
            "  [-0.00584503  0.00410954  0.0016288  ...  0.02336507  0.01383555\n",
            "   -0.04154969]\n",
            "  [-0.01148288  0.04349462  0.04735816 ...  0.00710474  0.00304568\n",
            "   -0.02277708]]], shape=(1, 15, 128), dtype=float32)\n"
          ]
        }
      ]
    },
    {
      "cell_type": "code",
      "source": [
        "sample_embed"
      ],
      "metadata": {
        "colab": {
          "base_uri": "https://localhost:8080/"
        },
        "id": "rj0cddwL6G2S",
        "outputId": "cc850511-cbee-4e2f-c79c-b5abc1230e87"
      },
      "execution_count": 30,
      "outputs": [
        {
          "output_type": "execute_result",
          "data": {
            "text/plain": [
              "<tf.Tensor: shape=(1, 15, 128), dtype=float32, numpy=\n",
              "array([[[ 0.02947695, -0.04817411,  0.00089605, ..., -0.02419727,\n",
              "         -0.01089432,  0.00691551],\n",
              "        [ 0.01559405, -0.01473304,  0.01601383, ...,  0.03084493,\n",
              "          0.00163232, -0.02909597],\n",
              "        [-0.02761239,  0.04526105,  0.0142337 , ..., -0.00329167,\n",
              "         -0.01721014,  0.04758156],\n",
              "        ...,\n",
              "        [-0.00987239, -0.00107161, -0.02644991, ...,  0.0221944 ,\n",
              "          0.03307087,  0.00479814],\n",
              "        [-0.00584503,  0.00410954,  0.0016288 , ...,  0.02336507,\n",
              "          0.01383555, -0.04154969],\n",
              "        [-0.01148288,  0.04349462,  0.04735816, ...,  0.00710474,\n",
              "          0.00304568, -0.02277708]]], dtype=float32)>"
            ]
          },
          "metadata": {},
          "execution_count": 30
        }
      ]
    },
    {
      "cell_type": "code",
      "source": [
        "# Check out a singe token's embedding\n",
        "\n",
        "sample_embed[0][0]"
      ],
      "metadata": {
        "colab": {
          "base_uri": "https://localhost:8080/"
        },
        "id": "dMcCNEPW65v7",
        "outputId": "244c1143-a35f-4b49-f17d-f2fcee5cff14"
      },
      "execution_count": 31,
      "outputs": [
        {
          "output_type": "execute_result",
          "data": {
            "text/plain": [
              "<tf.Tensor: shape=(128,), dtype=float32, numpy=\n",
              "array([ 0.02947695, -0.04817411,  0.00089605,  0.03796096, -0.03667009,\n",
              "       -0.04108192,  0.02550891,  0.02615688,  0.04612247,  0.0226249 ,\n",
              "       -0.02899616,  0.01820681, -0.03055285, -0.03058353, -0.04816989,\n",
              "       -0.0353957 , -0.01632122,  0.03934145,  0.03751752,  0.03563709,\n",
              "        0.01391463,  0.02521173, -0.00596488,  0.01391793,  0.03608542,\n",
              "       -0.00550788, -0.01646977,  0.03091994,  0.04451013,  0.02252548,\n",
              "        0.0039793 ,  0.00377151,  0.02911669, -0.04814995,  0.04229248,\n",
              "       -0.01693139,  0.03968037,  0.00580784, -0.04233699,  0.00043813,\n",
              "       -0.03514503,  0.00915176,  0.02108878, -0.04366582,  0.0356187 ,\n",
              "        0.0160802 ,  0.0107301 ,  0.0298891 ,  0.03625579, -0.0219695 ,\n",
              "       -0.00113846, -0.04285799, -0.04635958, -0.0209532 ,  0.03133344,\n",
              "        0.03243202,  0.01506353,  0.02538646, -0.02202332,  0.0316492 ,\n",
              "        0.03748411,  0.0135189 ,  0.03964132, -0.03831694, -0.03797656,\n",
              "        0.0423199 ,  0.03165441, -0.0382864 ,  0.03199566, -0.0497052 ,\n",
              "       -0.00728526,  0.00311829, -0.01190429,  0.01013571,  0.03186203,\n",
              "        0.00261093, -0.04378731,  0.00900507,  0.03755513,  0.02146275,\n",
              "        0.04347842, -0.00742145, -0.03296836,  0.00832725,  0.02254586,\n",
              "        0.03524022,  0.04730067, -0.02883383, -0.00231857,  0.00457286,\n",
              "        0.02368904, -0.04766517, -0.0466135 , -0.00726794, -0.01330875,\n",
              "       -0.00180423,  0.03215251, -0.04003429,  0.02956969,  0.02331468,\n",
              "       -0.04661494,  0.03206501, -0.00479579, -0.03350916,  0.03095723,\n",
              "       -0.04325337, -0.01401065,  0.0427626 , -0.01042785,  0.01944003,\n",
              "       -0.01615779,  0.02135244, -0.02888846, -0.0111333 , -0.02743188,\n",
              "       -0.035807  , -0.01066212, -0.01715769,  0.03197442,  0.03089208,\n",
              "       -0.02275114, -0.00236844, -0.04759225,  0.01088991,  0.0014872 ,\n",
              "       -0.02419727, -0.01089432,  0.00691551], dtype=float32)>"
            ]
          },
          "metadata": {},
          "execution_count": 31
        }
      ]
    },
    {
      "cell_type": "code",
      "source": [
        "random_sentence"
      ],
      "metadata": {
        "colab": {
          "base_uri": "https://localhost:8080/",
          "height": 0
        },
        "id": "ZvnGCWXB9nzC",
        "outputId": "cffd68cf-4e57-47cc-84b6-f4231458e450"
      },
      "execution_count": 32,
      "outputs": [
        {
          "output_type": "execute_result",
          "data": {
            "text/plain": [
              "'Black Eye 9: A space battle occurred at Star O784 involving 3 fleets totaling 3942 ships with 14 destroyed'"
            ],
            "application/vnd.google.colaboratory.intrinsic+json": {
              "type": "string"
            }
          },
          "metadata": {},
          "execution_count": 32
        }
      ]
    },
    {
      "cell_type": "markdown",
      "source": [
        "## Modelling a text dataet and running a series of experiments\n",
        "\n",
        "    Model 0 : Naive Bayes (baseline)\n",
        "\n",
        "    Model 1 : Feed Forward Neural Network (Dense)\n",
        "\n",
        "    Model 2 : LSTM model (RNN)\n",
        "\n",
        "    Model 3 : GRU model (RNN)\n",
        "\n",
        "    Model 4 : Bidirectional LSTM model (RNN)\n",
        "\n",
        "    Model 5 : 1D CNN\n",
        "\n",
        "    Model 6:  Tensorflow Hub pretrained Feature Extractor (transfer learning)\n",
        "\n",
        "    Model 7: Same as model 6 with 10% of training data"
      ],
      "metadata": {
        "id": "iOiTaLPz9pha"
      }
    },
    {
      "cell_type": "markdown",
      "source": [
        "### Model 0 : Getting a baseline \n",
        "\n",
        "\n",
        "As with all machine learning experiments its important to create a baseline model for benchmarking\n",
        "\n",
        "> Its common practice to use non_DL as baseline and use DL to see if we can improve upon it"
      ],
      "metadata": {
        "id": "tZeH9cyKApoJ"
      }
    },
    {
      "cell_type": "code",
      "source": [
        "from tensorflow.python.ops.gen_random_ops import Multinomial\n",
        "from sklearn.feature_extraction.text import TfidfVectorizer\n",
        "from sklearn.naive_bayes import MultinomialNB\n",
        "from sklearn.pipeline import Pipeline\n",
        "\n",
        "# Create tokenization and modelling pipeline\n",
        "\n",
        "model_0 = Pipeline([\n",
        "    ('tfidf', TfidfVectorizer()), # turn our text to numbers\n",
        "    ('clf', MultinomialNB())     # model the text\n",
        "])\n",
        "\n",
        "# Fit the pipe line to the training ata\n",
        "\n",
        "model_0.fit(train_sentences, train_labels)\n"
      ],
      "metadata": {
        "id": "MDvoe5ePCIgp",
        "colab": {
          "base_uri": "https://localhost:8080/"
        },
        "outputId": "a6fc5cec-3596-4adc-e28e-1a37395f1b3e"
      },
      "execution_count": 33,
      "outputs": [
        {
          "output_type": "execute_result",
          "data": {
            "text/plain": [
              "Pipeline(steps=[('tfidf', TfidfVectorizer()), ('clf', MultinomialNB())])"
            ]
          },
          "metadata": {},
          "execution_count": 33
        }
      ]
    },
    {
      "cell_type": "code",
      "source": [
        "# Evaluate our baseline our model\n",
        "\n",
        "baseline_score = model_0.score(val_sentences, val_labels)"
      ],
      "metadata": {
        "id": "SLtMLOlw5mPx"
      },
      "execution_count": 34,
      "outputs": []
    },
    {
      "cell_type": "code",
      "source": [
        "print(f'Our baseline model achieves an accurayc of:{baseline_score*100}%')"
      ],
      "metadata": {
        "colab": {
          "base_uri": "https://localhost:8080/"
        },
        "id": "Ax3ZSp2HQkBZ",
        "outputId": "dde5dc6f-bf1f-4c32-bffe-18e7c54ea295"
      },
      "execution_count": 35,
      "outputs": [
        {
          "output_type": "stream",
          "name": "stdout",
          "text": [
            "Our baseline model achieves an accurayc of:79.26509186351706%\n"
          ]
        }
      ]
    },
    {
      "cell_type": "code",
      "source": [
        "train_df.target.value_counts()"
      ],
      "metadata": {
        "colab": {
          "base_uri": "https://localhost:8080/"
        },
        "id": "DrQ2kL9DQ2LX",
        "outputId": "826b39d7-43ef-4624-ecca-b0df57a09de9"
      },
      "execution_count": 36,
      "outputs": [
        {
          "output_type": "execute_result",
          "data": {
            "text/plain": [
              "0    4342\n",
              "1    3271\n",
              "Name: target, dtype: int64"
            ]
          },
          "metadata": {},
          "execution_count": 36
        }
      ]
    },
    {
      "cell_type": "code",
      "source": [
        "# Make predictions\n",
        "\n",
        "baseline_preds = model_0.predict(val_sentences)\n",
        "baseline_preds[:20]"
      ],
      "metadata": {
        "colab": {
          "base_uri": "https://localhost:8080/"
        },
        "id": "VSLEsxWcRUKo",
        "outputId": "ac049fe4-14c1-473f-efab-f3bdc914948b"
      },
      "execution_count": 37,
      "outputs": [
        {
          "output_type": "execute_result",
          "data": {
            "text/plain": [
              "array([1, 1, 1, 0, 0, 1, 1, 1, 1, 0, 0, 1, 0, 0, 0, 0, 0, 0, 0, 1])"
            ]
          },
          "metadata": {},
          "execution_count": 37
        }
      ]
    },
    {
      "cell_type": "markdown",
      "source": [
        "### Creating an evaluation function for our model experiments\n",
        "\n",
        "Compare our model using the following metrics:\n",
        "\n",
        ">Accuracy\n",
        "\n",
        ">Precision\n",
        "\n",
        ">Recall\n",
        "\n",
        ">F1-Score"
      ],
      "metadata": {
        "id": "HKQkQNifSofy"
      }
    },
    {
      "cell_type": "code",
      "source": [
        "# Function to eval \n",
        "\n",
        "from sklearn.metrics import accuracy_score, precision_recall_fscore_support\n",
        "\n",
        "def calculate_results(y_true, y_pred):\n",
        "\n",
        "  # Accuracy\n",
        "  model_accuracy = accuracy_score(y_true, y_pred) * 100\n",
        "  # Precison, Recall, F1-Score\n",
        "  model_precision, model_recall, model_f1, _ = precision_recall_fscore_support(y_true, y_pred, average = 'weighted')\n",
        "  model_results = {'accuracy': model_accuracy,\n",
        "                   'precision' : model_precision,\n",
        "                   'recall': model_recall,\n",
        "                   'f1': model_f1}\n",
        "  return model_results"
      ],
      "metadata": {
        "id": "eBI3X1TJTR-D"
      },
      "execution_count": 38,
      "outputs": []
    },
    {
      "cell_type": "code",
      "source": [
        "baseline_results = calculate_results(y_true = val_labels,\n",
        "                                     y_pred = baseline_preds)\n",
        "\n",
        "baseline_results"
      ],
      "metadata": {
        "colab": {
          "base_uri": "https://localhost:8080/"
        },
        "id": "JDoG2QCeXfcF",
        "outputId": "bea7b2ca-a2fc-4853-985d-490162428aea"
      },
      "execution_count": 39,
      "outputs": [
        {
          "output_type": "execute_result",
          "data": {
            "text/plain": [
              "{'accuracy': 79.26509186351706,\n",
              " 'precision': 0.8111390004213173,\n",
              " 'recall': 0.7926509186351706,\n",
              " 'f1': 0.7862189758049549}"
            ]
          },
          "metadata": {},
          "execution_count": 39
        }
      ]
    },
    {
      "cell_type": "markdown",
      "source": [
        "### Model 1 : A simple dense model"
      ],
      "metadata": {
        "id": "0w_jqz8iXvTr"
      }
    },
    {
      "cell_type": "code",
      "source": [
        "# Create a tensorboard callback\n",
        "from helper_functions import create_tensorboard_callback\n",
        "\n",
        "# Createa a directory to save TensorBoard lofs\n",
        "SAVE_DIR = 'model_logs'"
      ],
      "metadata": {
        "id": "mnnjzZdHb3CW"
      },
      "execution_count": 40,
      "outputs": []
    },
    {
      "cell_type": "code",
      "source": [
        "# Build model with Functional API\n",
        "from tensorflow.keras import layers\n",
        "\n",
        "inputs = layers.Input(shape=(1,), dtype = tf.string) # inputs are 1 dimensinal strting\n",
        "x = text_vectorizer(inputs) # nums to vectors\n",
        "x = embedding(x) \n",
        "x = layers.GlobalAveragePooling1D()(x)\n",
        "outputs = layers.Dense(1, activation='sigmoid')(x)\n",
        "model_1 = tf.keras.Model(inputs, outputs, name='model_1_dense')\n"
      ],
      "metadata": {
        "id": "zwcOh1gLcNAn"
      },
      "execution_count": 41,
      "outputs": []
    },
    {
      "cell_type": "code",
      "source": [
        "model_1.summary()"
      ],
      "metadata": {
        "colab": {
          "base_uri": "https://localhost:8080/"
        },
        "id": "ljiEkG3SeFL5",
        "outputId": "9863d93f-e7ac-44c6-ad8c-c8aa2efe1dd6"
      },
      "execution_count": 42,
      "outputs": [
        {
          "output_type": "stream",
          "name": "stdout",
          "text": [
            "Model: \"model_1_dense\"\n",
            "_________________________________________________________________\n",
            " Layer (type)                Output Shape              Param #   \n",
            "=================================================================\n",
            " input_1 (InputLayer)        [(None, 1)]               0         \n",
            "                                                                 \n",
            " text_vectorization_1 (TextV  (None, 15)               0         \n",
            " ectorization)                                                   \n",
            "                                                                 \n",
            " embedding (Embedding)       (None, 15, 128)           1280000   \n",
            "                                                                 \n",
            " global_average_pooling1d (G  (None, 128)              0         \n",
            " lobalAveragePooling1D)                                          \n",
            "                                                                 \n",
            " dense (Dense)               (None, 1)                 129       \n",
            "                                                                 \n",
            "=================================================================\n",
            "Total params: 1,280,129\n",
            "Trainable params: 1,280,129\n",
            "Non-trainable params: 0\n",
            "_________________________________________________________________\n"
          ]
        }
      ]
    },
    {
      "cell_type": "code",
      "source": [
        "# Compile the model\n",
        "\n",
        "model_1.compile(loss = 'binary_crossentropy',\n",
        "                optimizer = tf.keras.optimizers.Adam(),\n",
        "                metrics = ['accuracy'])"
      ],
      "metadata": {
        "id": "s62oIi6Qefj2"
      },
      "execution_count": 43,
      "outputs": []
    },
    {
      "cell_type": "code",
      "source": [
        "# Fit the model\n",
        "\n",
        "model_history = model_1.fit(x = train_sentences,\n",
        "                          y = train_labels,\n",
        "                          epochs = 5,\n",
        "                          validation_data = (val_sentences, val_labels),\n",
        "                          callbacks = [create_tensorboard_callback(dir_name = SAVE_DIR,\n",
        "                                                                   experiment_name = 'model_1_dense')])"
      ],
      "metadata": {
        "colab": {
          "base_uri": "https://localhost:8080/"
        },
        "id": "7epjIpk4f6Pa",
        "outputId": "cc155951-fd74-4b44-a9fe-b94d237d6cbc"
      },
      "execution_count": 44,
      "outputs": [
        {
          "output_type": "stream",
          "name": "stdout",
          "text": [
            "Saving TensorBoard log files to: model_logs/model_1_dense/20220912-194304\n",
            "Epoch 1/5\n",
            "215/215 [==============================] - 6s 25ms/step - loss: 0.6094 - accuracy: 0.6916 - val_loss: 0.5357 - val_accuracy: 0.7572\n",
            "Epoch 2/5\n",
            "215/215 [==============================] - 7s 32ms/step - loss: 0.4410 - accuracy: 0.8189 - val_loss: 0.4691 - val_accuracy: 0.7848\n",
            "Epoch 3/5\n",
            "215/215 [==============================] - 7s 31ms/step - loss: 0.3463 - accuracy: 0.8605 - val_loss: 0.4590 - val_accuracy: 0.7900\n",
            "Epoch 4/5\n",
            "215/215 [==============================] - 6s 30ms/step - loss: 0.2848 - accuracy: 0.8923 - val_loss: 0.4641 - val_accuracy: 0.7927\n",
            "Epoch 5/5\n",
            "215/215 [==============================] - 7s 33ms/step - loss: 0.2380 - accuracy: 0.9118 - val_loss: 0.4767 - val_accuracy: 0.7874\n"
          ]
        }
      ]
    },
    {
      "cell_type": "code",
      "source": [
        "# Check the results\n",
        "\n",
        "model_1.evaluate(val_sentences, val_labels)"
      ],
      "metadata": {
        "colab": {
          "base_uri": "https://localhost:8080/"
        },
        "id": "BAsNyNt-gWGY",
        "outputId": "70d6e095-8c35-4219-f61c-6bb63bfb7f73"
      },
      "execution_count": 45,
      "outputs": [
        {
          "output_type": "stream",
          "name": "stdout",
          "text": [
            "24/24 [==============================] - 0s 8ms/step - loss: 0.4767 - accuracy: 0.7874\n"
          ]
        },
        {
          "output_type": "execute_result",
          "data": {
            "text/plain": [
              "[0.4766846001148224, 0.787401556968689]"
            ]
          },
          "metadata": {},
          "execution_count": 45
        }
      ]
    },
    {
      "cell_type": "code",
      "source": [
        "model_1_pred_probs = model_1.predict(val_sentences)\n",
        "model_1_pred_probs[0]"
      ],
      "metadata": {
        "colab": {
          "base_uri": "https://localhost:8080/"
        },
        "id": "4W4ErpMtj_RX",
        "outputId": "e8b6867f-4a69-4a1f-c2e6-ed71fa936083"
      },
      "execution_count": 46,
      "outputs": [
        {
          "output_type": "execute_result",
          "data": {
            "text/plain": [
              "array([0.40488204], dtype=float32)"
            ]
          },
          "metadata": {},
          "execution_count": 46
        }
      ]
    },
    {
      "cell_type": "code",
      "source": [
        "model_1_pred_probs.shape"
      ],
      "metadata": {
        "colab": {
          "base_uri": "https://localhost:8080/"
        },
        "id": "cUkhvxNGkYsf",
        "outputId": "443662ba-3912-4af0-c06a-6144af66258e"
      },
      "execution_count": 47,
      "outputs": [
        {
          "output_type": "execute_result",
          "data": {
            "text/plain": [
              "(762, 1)"
            ]
          },
          "metadata": {},
          "execution_count": 47
        }
      ]
    },
    {
      "cell_type": "code",
      "source": [
        "# Convert model prediction probs to label formats\n",
        "\n",
        "model_1_preds = tf.squeeze(tf.round(model_1_pred_probs))\n",
        "model_1_preds[:20]"
      ],
      "metadata": {
        "colab": {
          "base_uri": "https://localhost:8080/"
        },
        "id": "rnol5qDgkjeY",
        "outputId": "56f4a55f-eb65-4710-8c82-5edc4f1e5fbe"
      },
      "execution_count": 48,
      "outputs": [
        {
          "output_type": "execute_result",
          "data": {
            "text/plain": [
              "<tf.Tensor: shape=(20,), dtype=float32, numpy=\n",
              "array([0., 1., 1., 0., 0., 1., 1., 1., 1., 0., 0., 1., 0., 0., 0., 0., 0.,\n",
              "       0., 0., 1.], dtype=float32)>"
            ]
          },
          "metadata": {},
          "execution_count": 48
        }
      ]
    },
    {
      "cell_type": "code",
      "source": [
        "# Calcualte model 1 results\n",
        "model_1_results = calculate_results(y_true = val_labels,\n",
        "                            y_pred = model_1_preds)\n",
        "model_1_results"
      ],
      "metadata": {
        "colab": {
          "base_uri": "https://localhost:8080/"
        },
        "id": "T2AHYMBAoW-_",
        "outputId": "eb12c972-61d0-4d1a-84ad-1273c665b00c"
      },
      "execution_count": 49,
      "outputs": [
        {
          "output_type": "execute_result",
          "data": {
            "text/plain": [
              "{'accuracy': 78.74015748031496,\n",
              " 'precision': 0.7914920592553047,\n",
              " 'recall': 0.7874015748031497,\n",
              " 'f1': 0.7846966492209201}"
            ]
          },
          "metadata": {},
          "execution_count": 49
        }
      ]
    },
    {
      "cell_type": "markdown",
      "source": [
        "## Visualizing learned embeddings\n",
        "\n"
      ],
      "metadata": {
        "id": "1wBtQhsE4rVc"
      }
    },
    {
      "cell_type": "code",
      "source": [
        "# Get the vocab from the text vectorization layer\n",
        "\n",
        "words_in_vocab = text_vectorizer.get_vocabulary()\n",
        "len(words_in_vocab)"
      ],
      "metadata": {
        "colab": {
          "base_uri": "https://localhost:8080/"
        },
        "id": "y-1L5dbZ5fR8",
        "outputId": "3f4f98dc-dd21-46ed-d2c3-24e3943f4263"
      },
      "execution_count": 50,
      "outputs": [
        {
          "output_type": "execute_result",
          "data": {
            "text/plain": [
              "10000"
            ]
          },
          "metadata": {},
          "execution_count": 50
        }
      ]
    },
    {
      "cell_type": "code",
      "source": [
        "words_in_vocab[:10]"
      ],
      "metadata": {
        "colab": {
          "base_uri": "https://localhost:8080/"
        },
        "id": "8ciU9Xu55sjc",
        "outputId": "2152668e-a784-4841-e42d-875331ab9f35"
      },
      "execution_count": 51,
      "outputs": [
        {
          "output_type": "execute_result",
          "data": {
            "text/plain": [
              "['', '[UNK]', 'the', 'a', 'in', 'to', 'of', 'and', 'i', 'is']"
            ]
          },
          "metadata": {},
          "execution_count": 51
        }
      ]
    },
    {
      "cell_type": "code",
      "source": [
        "model_1.summary()"
      ],
      "metadata": {
        "colab": {
          "base_uri": "https://localhost:8080/"
        },
        "id": "QL2EYcz-5xBV",
        "outputId": "53179c8a-3f06-4445-adda-56823167bda0"
      },
      "execution_count": 52,
      "outputs": [
        {
          "output_type": "stream",
          "name": "stdout",
          "text": [
            "Model: \"model_1_dense\"\n",
            "_________________________________________________________________\n",
            " Layer (type)                Output Shape              Param #   \n",
            "=================================================================\n",
            " input_1 (InputLayer)        [(None, 1)]               0         \n",
            "                                                                 \n",
            " text_vectorization_1 (TextV  (None, 15)               0         \n",
            " ectorization)                                                   \n",
            "                                                                 \n",
            " embedding (Embedding)       (None, 15, 128)           1280000   \n",
            "                                                                 \n",
            " global_average_pooling1d (G  (None, 128)              0         \n",
            " lobalAveragePooling1D)                                          \n",
            "                                                                 \n",
            " dense (Dense)               (None, 1)                 129       \n",
            "                                                                 \n",
            "=================================================================\n",
            "Total params: 1,280,129\n",
            "Trainable params: 1,280,129\n",
            "Non-trainable params: 0\n",
            "_________________________________________________________________\n"
          ]
        }
      ]
    },
    {
      "cell_type": "code",
      "source": [
        "# Get the wieght matrix of embedding layer\n",
        "\n",
        "# These are the numerical representation of each token in our training data which have been \n",
        "\n",
        "embed_weights = model_1.get_layer('embedding').get_weights()[0]\n",
        "embed_weights"
      ],
      "metadata": {
        "colab": {
          "base_uri": "https://localhost:8080/"
        },
        "id": "xY5Q5wTtCZia",
        "outputId": "ec954087-47b5-4f36-b41f-211c80c3a767"
      },
      "execution_count": 53,
      "outputs": [
        {
          "output_type": "execute_result",
          "data": {
            "text/plain": [
              "array([[ 0.00073164,  0.01504797, -0.03425453, ..., -0.04403542,\n",
              "        -0.01042278,  0.01876436],\n",
              "       [ 0.04135864, -0.03945082, -0.03811938, ...,  0.00464735,\n",
              "         0.03163553,  0.02928304],\n",
              "       [ 0.00684034,  0.05363134, -0.00241555, ..., -0.07082174,\n",
              "        -0.04750701,  0.01448254],\n",
              "       ...,\n",
              "       [-0.03301444, -0.0052493 , -0.04209725, ...,  0.02028764,\n",
              "         0.00308807,  0.02215792],\n",
              "       [ 0.00692342,  0.05942352, -0.01975194, ..., -0.06199061,\n",
              "        -0.01018394,  0.03510419],\n",
              "       [-0.03723461,  0.06267188, -0.07451147, ..., -0.02367217,\n",
              "        -0.08643329,  0.01742156]], dtype=float32)"
            ]
          },
          "metadata": {},
          "execution_count": 53
        }
      ]
    },
    {
      "cell_type": "code",
      "source": [
        "# Create embedding files\n",
        "import io\n",
        "\n",
        "out_v = io.open('vectors.tsv', 'w', encoding='utf-8')\n",
        "out_m = io.open('metadata.tsv', 'w', encoding='utf-8')\n",
        "\n",
        "for index, word in enumerate(words_in_vocab):\n",
        "  if index == 0:\n",
        "    continue  # skip 0, it's padding.\n",
        "  vec = embed_weights[index]\n",
        "  out_v.write('\\t'.join([str(x) for x in vec]) + \"\\n\")\n",
        "  out_m.write(word + \"\\n\")\n",
        "out_v.close()\n",
        "out_m.close()"
      ],
      "metadata": {
        "id": "bPK4KqVvGV4N"
      },
      "execution_count": 54,
      "outputs": []
    },
    {
      "cell_type": "code",
      "source": [
        "# Download files from colab and upload to projector tool\n",
        "\n",
        "try:\n",
        "  from google.colab import files\n",
        "  files.download('vectors.tsv')\n",
        "  files.download('metadata.tsv')\n",
        "except Exception:\n",
        "  pass"
      ],
      "metadata": {
        "colab": {
          "base_uri": "https://localhost:8080/",
          "height": 52
        },
        "id": "-eIxpRlgGd0E",
        "outputId": "273a4e77-6f0f-439d-e7e3-cbecfa23b1a7"
      },
      "execution_count": 55,
      "outputs": [
        {
          "output_type": "display_data",
          "data": {
            "text/plain": [
              "<IPython.core.display.Javascript object>"
            ],
            "application/javascript": [
              "\n",
              "    async function download(id, filename, size) {\n",
              "      if (!google.colab.kernel.accessAllowed) {\n",
              "        return;\n",
              "      }\n",
              "      const div = document.createElement('div');\n",
              "      const label = document.createElement('label');\n",
              "      label.textContent = `Downloading \"${filename}\": `;\n",
              "      div.appendChild(label);\n",
              "      const progress = document.createElement('progress');\n",
              "      progress.max = size;\n",
              "      div.appendChild(progress);\n",
              "      document.body.appendChild(div);\n",
              "\n",
              "      const buffers = [];\n",
              "      let downloaded = 0;\n",
              "\n",
              "      const channel = await google.colab.kernel.comms.open(id);\n",
              "      // Send a message to notify the kernel that we're ready.\n",
              "      channel.send({})\n",
              "\n",
              "      for await (const message of channel.messages) {\n",
              "        // Send a message to notify the kernel that we're ready.\n",
              "        channel.send({})\n",
              "        if (message.buffers) {\n",
              "          for (const buffer of message.buffers) {\n",
              "            buffers.push(buffer);\n",
              "            downloaded += buffer.byteLength;\n",
              "            progress.value = downloaded;\n",
              "          }\n",
              "        }\n",
              "      }\n",
              "      const blob = new Blob(buffers, {type: 'application/binary'});\n",
              "      const a = document.createElement('a');\n",
              "      a.href = window.URL.createObjectURL(blob);\n",
              "      a.download = filename;\n",
              "      div.appendChild(a);\n",
              "      a.click();\n",
              "      div.remove();\n",
              "    }\n",
              "  "
            ]
          },
          "metadata": {}
        },
        {
          "output_type": "display_data",
          "data": {
            "text/plain": [
              "<IPython.core.display.Javascript object>"
            ],
            "application/javascript": [
              "download(\"download_3315bf1d-84da-430b-94ae-0ea2cbb6736e\", \"vectors.tsv\", 15391233)"
            ]
          },
          "metadata": {}
        },
        {
          "output_type": "display_data",
          "data": {
            "text/plain": [
              "<IPython.core.display.Javascript object>"
            ],
            "application/javascript": [
              "\n",
              "    async function download(id, filename, size) {\n",
              "      if (!google.colab.kernel.accessAllowed) {\n",
              "        return;\n",
              "      }\n",
              "      const div = document.createElement('div');\n",
              "      const label = document.createElement('label');\n",
              "      label.textContent = `Downloading \"${filename}\": `;\n",
              "      div.appendChild(label);\n",
              "      const progress = document.createElement('progress');\n",
              "      progress.max = size;\n",
              "      div.appendChild(progress);\n",
              "      document.body.appendChild(div);\n",
              "\n",
              "      const buffers = [];\n",
              "      let downloaded = 0;\n",
              "\n",
              "      const channel = await google.colab.kernel.comms.open(id);\n",
              "      // Send a message to notify the kernel that we're ready.\n",
              "      channel.send({})\n",
              "\n",
              "      for await (const message of channel.messages) {\n",
              "        // Send a message to notify the kernel that we're ready.\n",
              "        channel.send({})\n",
              "        if (message.buffers) {\n",
              "          for (const buffer of message.buffers) {\n",
              "            buffers.push(buffer);\n",
              "            downloaded += buffer.byteLength;\n",
              "            progress.value = downloaded;\n",
              "          }\n",
              "        }\n",
              "      }\n",
              "      const blob = new Blob(buffers, {type: 'application/binary'});\n",
              "      const a = document.createElement('a');\n",
              "      a.href = window.URL.createObjectURL(blob);\n",
              "      a.download = filename;\n",
              "      div.appendChild(a);\n",
              "      a.click();\n",
              "      div.remove();\n",
              "    }\n",
              "  "
            ]
          },
          "metadata": {}
        },
        {
          "output_type": "display_data",
          "data": {
            "text/plain": [
              "<IPython.core.display.Javascript object>"
            ],
            "application/javascript": [
              "download(\"download_6ac2388c-6305-4343-afe4-578ea3583d96\", \"metadata.tsv\", 80388)"
            ]
          },
          "metadata": {}
        }
      ]
    },
    {
      "cell_type": "markdown",
      "source": [
        "## Recurrent neural network (RNN's)\n",
        "\n",
        "> RNN's are useful for sequence data.\n",
        "\n",
        "> The premise of a recurrent neural network is to use the representation of a previous input to aid the representation of the later input.\n",
        "\n",
        "> "
      ],
      "metadata": {
        "id": "gmALpC1ZIAtE"
      }
    },
    {
      "cell_type": "code",
      "source": [
        "2784 *3*4"
      ],
      "metadata": {
        "id": "C46fH350S_PT",
        "colab": {
          "base_uri": "https://localhost:8080/"
        },
        "outputId": "aa012026-500f-4f0c-846d-f2da2f46153f"
      },
      "execution_count": 56,
      "outputs": [
        {
          "output_type": "execute_result",
          "data": {
            "text/plain": [
              "33408"
            ]
          },
          "metadata": {},
          "execution_count": 56
        }
      ]
    },
    {
      "cell_type": "markdown",
      "source": [
        "### Model 2 : LSTM\n",
        "\n",
        "LSTM = Long Short Term \n",
        "\n",
        "Structur of an RNN\n",
        "\n",
        "    Input(text) -> Tokenize -> Embedding -> Layers(RNNs/Dense) -> Output (label probability)"
      ],
      "metadata": {
        "id": "QVNpiR1HzM6t"
      }
    },
    {
      "cell_type": "code",
      "source": [
        "# Create an LSTM Modle\n",
        "\n",
        "from tensorflow.keras import layers\n",
        "\n",
        "inputs = layers.Input(shape=(1, ), dtype = 'string')\n",
        "x = text_vectorizer(inputs)\n",
        "x = embedding(x)\n",
        "# print(x.shape)\n",
        "x = layers.LSTM(64, return_sequences = True)(x) # when you're stacking RNN cells together you need to return sequences\n",
        "# print(x.shape)\n",
        "x = layers.LSTM(64)(x)\n",
        "# print(x.shape)\n",
        "x = layers.Dense(64, activation = 'relu')(x)\n",
        "# print(x.shape)\n",
        "outputs = layers.Dense(1, activation = 'sigmoid')(x)\n",
        "model_2 = tf.keras.Model(inputs, outputs, name = 'model_2_LSTM')"
      ],
      "metadata": {
        "id": "pb3sPZD1zyJN"
      },
      "execution_count": 57,
      "outputs": []
    },
    {
      "cell_type": "code",
      "source": [
        "# Get a summary\n",
        "\n",
        "model_2.summary()"
      ],
      "metadata": {
        "colab": {
          "base_uri": "https://localhost:8080/"
        },
        "id": "VGhpxvuc09Gl",
        "outputId": "189983d0-fcfe-47d8-9624-11d991c582f5"
      },
      "execution_count": 58,
      "outputs": [
        {
          "output_type": "stream",
          "name": "stdout",
          "text": [
            "Model: \"model_2_LSTM\"\n",
            "_________________________________________________________________\n",
            " Layer (type)                Output Shape              Param #   \n",
            "=================================================================\n",
            " input_2 (InputLayer)        [(None, 1)]               0         \n",
            "                                                                 \n",
            " text_vectorization_1 (TextV  (None, 15)               0         \n",
            " ectorization)                                                   \n",
            "                                                                 \n",
            " embedding (Embedding)       (None, 15, 128)           1280000   \n",
            "                                                                 \n",
            " lstm (LSTM)                 (None, 15, 64)            49408     \n",
            "                                                                 \n",
            " lstm_1 (LSTM)               (None, 64)                33024     \n",
            "                                                                 \n",
            " dense_1 (Dense)             (None, 64)                4160      \n",
            "                                                                 \n",
            " dense_2 (Dense)             (None, 1)                 65        \n",
            "                                                                 \n",
            "=================================================================\n",
            "Total params: 1,366,657\n",
            "Trainable params: 1,366,657\n",
            "Non-trainable params: 0\n",
            "_________________________________________________________________\n"
          ]
        }
      ]
    },
    {
      "cell_type": "code",
      "source": [
        "# Compile the model\n",
        "model_2.compile(loss= 'binary_crossentropy',\n",
        "                optimizer = tf.keras.optimizers.Adam(),\n",
        "                metrics =['accuracy'])"
      ],
      "metadata": {
        "id": "jW5pdsV58mAC"
      },
      "execution_count": 59,
      "outputs": []
    },
    {
      "cell_type": "code",
      "source": [
        "# Fit the model\n",
        "\n",
        "model_2_history = model_2.fit(train_sentences,\n",
        "                              train_labels,\n",
        "                              epochs = 5,\n",
        "                              validation_data = (val_sentences, val_labels),\n",
        "                              callbacks = [create_tensorboard_callback(SAVE_DIR,\n",
        "                                                                       'model_2')])"
      ],
      "metadata": {
        "colab": {
          "base_uri": "https://localhost:8080/"
        },
        "id": "m9AxSznw9zJU",
        "outputId": "fca24e6d-e51e-4e98-e689-01eb565cb444"
      },
      "execution_count": 60,
      "outputs": [
        {
          "output_type": "stream",
          "name": "stdout",
          "text": [
            "Saving TensorBoard log files to: model_logs/model_2/20220912-194345\n",
            "Epoch 1/5\n",
            "215/215 [==============================] - 15s 51ms/step - loss: 0.2189 - accuracy: 0.9250 - val_loss: 0.5444 - val_accuracy: 0.7795\n",
            "Epoch 2/5\n",
            "215/215 [==============================] - 10s 45ms/step - loss: 0.1634 - accuracy: 0.9412 - val_loss: 0.6071 - val_accuracy: 0.7795\n",
            "Epoch 3/5\n",
            "215/215 [==============================] - 9s 42ms/step - loss: 0.1282 - accuracy: 0.9520 - val_loss: 0.7574 - val_accuracy: 0.7808\n",
            "Epoch 4/5\n",
            "215/215 [==============================] - 10s 45ms/step - loss: 0.1076 - accuracy: 0.9584 - val_loss: 0.9243 - val_accuracy: 0.7848\n",
            "Epoch 5/5\n",
            "215/215 [==============================] - 9s 44ms/step - loss: 0.0815 - accuracy: 0.9635 - val_loss: 0.9809 - val_accuracy: 0.7808\n"
          ]
        }
      ]
    },
    {
      "cell_type": "code",
      "source": [
        "model_2_pred_prob = model_2.predict(val_sentences)"
      ],
      "metadata": {
        "id": "Rt4-QLjJ-yCc"
      },
      "execution_count": 61,
      "outputs": []
    },
    {
      "cell_type": "code",
      "source": [
        "model_2_pred_prob[:10]"
      ],
      "metadata": {
        "colab": {
          "base_uri": "https://localhost:8080/"
        },
        "id": "hY82EpWC_jQr",
        "outputId": "8d188397-d5eb-4234-d6b0-20408e44485a"
      },
      "execution_count": 62,
      "outputs": [
        {
          "output_type": "execute_result",
          "data": {
            "text/plain": [
              "array([[2.3730695e-03],\n",
              "       [5.7842922e-01],\n",
              "       [9.9988604e-01],\n",
              "       [5.8598995e-02],\n",
              "       [2.6672602e-05],\n",
              "       [9.9545348e-01],\n",
              "       [9.3895888e-01],\n",
              "       [9.9989402e-01],\n",
              "       [9.9978161e-01],\n",
              "       [3.9918748e-01]], dtype=float32)"
            ]
          },
          "metadata": {},
          "execution_count": 62
        }
      ]
    },
    {
      "cell_type": "code",
      "source": [
        "# Convert model 2 pred probs to labels\n",
        "\n",
        "model_2_preds = tf.squeeze(tf.round(model_2_pred_prob))\n",
        "model_2_preds[:10]"
      ],
      "metadata": {
        "colab": {
          "base_uri": "https://localhost:8080/"
        },
        "id": "6CF5teuw_kXV",
        "outputId": "2081c0d4-bdcf-47fe-dc05-7d87c03181bc"
      },
      "execution_count": 63,
      "outputs": [
        {
          "output_type": "execute_result",
          "data": {
            "text/plain": [
              "<tf.Tensor: shape=(10,), dtype=float32, numpy=array([0., 1., 1., 0., 0., 1., 1., 1., 1., 0.], dtype=float32)>"
            ]
          },
          "metadata": {},
          "execution_count": 63
        }
      ]
    },
    {
      "cell_type": "code",
      "source": [
        "# Calcualte model 2 results\n",
        "model_2_results = calculate_results(y_true = val_labels,\n",
        "                                    y_pred = model_2_preds)"
      ],
      "metadata": {
        "id": "FVnEA09qJ9Ja"
      },
      "execution_count": 64,
      "outputs": []
    },
    {
      "cell_type": "code",
      "source": [
        "model_2_results"
      ],
      "metadata": {
        "colab": {
          "base_uri": "https://localhost:8080/"
        },
        "id": "9G6LNhOyKIKj",
        "outputId": "7aa36782-e112-487a-94e7-c7e5f0a78a50"
      },
      "execution_count": 65,
      "outputs": [
        {
          "output_type": "execute_result",
          "data": {
            "text/plain": [
              "{'accuracy': 78.08398950131233,\n",
              " 'precision': 0.7856875884556138,\n",
              " 'recall': 0.7808398950131233,\n",
              " 'f1': 0.777681907957685}"
            ]
          },
          "metadata": {},
          "execution_count": 65
        }
      ]
    },
    {
      "cell_type": "code",
      "source": [
        "baseline_results"
      ],
      "metadata": {
        "colab": {
          "base_uri": "https://localhost:8080/"
        },
        "id": "m1kN3gdkKmsq",
        "outputId": "669e554e-d9d3-4d20-974d-2978af051f90"
      },
      "execution_count": 66,
      "outputs": [
        {
          "output_type": "execute_result",
          "data": {
            "text/plain": [
              "{'accuracy': 79.26509186351706,\n",
              " 'precision': 0.8111390004213173,\n",
              " 'recall': 0.7926509186351706,\n",
              " 'f1': 0.7862189758049549}"
            ]
          },
          "metadata": {},
          "execution_count": 66
        }
      ]
    },
    {
      "cell_type": "code",
      "source": [
        "model_1_results"
      ],
      "metadata": {
        "colab": {
          "base_uri": "https://localhost:8080/"
        },
        "id": "th81PPROKn8P",
        "outputId": "5d4b1523-5551-4a98-b34e-d3597574b2a1"
      },
      "execution_count": 67,
      "outputs": [
        {
          "output_type": "execute_result",
          "data": {
            "text/plain": [
              "{'accuracy': 78.74015748031496,\n",
              " 'precision': 0.7914920592553047,\n",
              " 'recall': 0.7874015748031497,\n",
              " 'f1': 0.7846966492209201}"
            ]
          },
          "metadata": {},
          "execution_count": 67
        }
      ]
    },
    {
      "cell_type": "markdown",
      "source": [
        "### Model_3: GRU\n",
        "\n",
        "GRU - Gated Recurrent Unit\n",
        "The GRU cell has similar features to an LSTM cell but has less parameters."
      ],
      "metadata": {
        "id": "UDZdDb2AKo37"
      }
    },
    {
      "cell_type": "code",
      "source": [
        "from tensorflow.keras import layers\n",
        "inputs = layers.Input(shape =(1, ), dtype = 'string')\n",
        "x = text_vectorizer(inputs)\n",
        "x = embedding(x)\n",
        "x = layers.GRU(64)(x)\n",
        "# x = layers.LSTM(64, return_sequences = True)(x)\n",
        "# x = layers.GRU(64)(x)\n",
        "# x = layers.Dense(64, activation = 'relu')(x)\n",
        "outputs = layers.Dense(1, activation = 'sigmoid')(x)\n",
        "model_3 = tf.keras.Model(inputs, outputs, name = 'model_3_GRU')"
      ],
      "metadata": {
        "id": "R2c3YhI2Lgqu"
      },
      "execution_count": 68,
      "outputs": []
    },
    {
      "cell_type": "code",
      "source": [
        "model_3.summary()"
      ],
      "metadata": {
        "colab": {
          "base_uri": "https://localhost:8080/"
        },
        "id": "yQSWN-Iao2ja",
        "outputId": "2bd49ae0-b64f-45f7-9793-5293c50f46cb"
      },
      "execution_count": 69,
      "outputs": [
        {
          "output_type": "stream",
          "name": "stdout",
          "text": [
            "Model: \"model_3_GRU\"\n",
            "_________________________________________________________________\n",
            " Layer (type)                Output Shape              Param #   \n",
            "=================================================================\n",
            " input_3 (InputLayer)        [(None, 1)]               0         \n",
            "                                                                 \n",
            " text_vectorization_1 (TextV  (None, 15)               0         \n",
            " ectorization)                                                   \n",
            "                                                                 \n",
            " embedding (Embedding)       (None, 15, 128)           1280000   \n",
            "                                                                 \n",
            " gru (GRU)                   (None, 64)                37248     \n",
            "                                                                 \n",
            " dense_3 (Dense)             (None, 1)                 65        \n",
            "                                                                 \n",
            "=================================================================\n",
            "Total params: 1,317,313\n",
            "Trainable params: 1,317,313\n",
            "Non-trainable params: 0\n",
            "_________________________________________________________________\n"
          ]
        }
      ]
    },
    {
      "cell_type": "code",
      "source": [
        "# Xomile the modle\n",
        "\n",
        "model_3.compile(loss = 'binary_crossentropy',\n",
        "                optimizer = tf.keras.optimizers.Adam(),\n",
        "                metrics= ['accuracy'])\n",
        "\n",
        "# Fit the model\n",
        "\n",
        "model_3.history = model_3.fit(train_sentences,\n",
        "                              train_labels,\n",
        "                              epochs = 5,\n",
        "                              validation_data = (val_sentences, val_labels),\n",
        "                              callbacks = [create_tensorboard_callback(SAVE_DIR,\n",
        "                                                                       'model_3_Gru')])"
      ],
      "metadata": {
        "colab": {
          "base_uri": "https://localhost:8080/"
        },
        "id": "BREv_JgSp6oO",
        "outputId": "3fb3cfe5-bd0b-4da8-b86c-d03732ee686f"
      },
      "execution_count": 70,
      "outputs": [
        {
          "output_type": "stream",
          "name": "stdout",
          "text": [
            "Saving TensorBoard log files to: model_logs/model_3_Gru/20220912-194512\n",
            "Epoch 1/5\n",
            "215/215 [==============================] - 12s 40ms/step - loss: 0.1620 - accuracy: 0.9377 - val_loss: 0.6392 - val_accuracy: 0.7795\n",
            "Epoch 2/5\n",
            "215/215 [==============================] - 6s 30ms/step - loss: 0.0887 - accuracy: 0.9672 - val_loss: 0.7860 - val_accuracy: 0.7808\n",
            "Epoch 3/5\n",
            "215/215 [==============================] - 7s 35ms/step - loss: 0.0717 - accuracy: 0.9721 - val_loss: 1.0992 - val_accuracy: 0.7664\n",
            "Epoch 4/5\n",
            "215/215 [==============================] - 7s 34ms/step - loss: 0.0630 - accuracy: 0.9739 - val_loss: 1.0155 - val_accuracy: 0.7782\n",
            "Epoch 5/5\n",
            "215/215 [==============================] - 7s 32ms/step - loss: 0.0519 - accuracy: 0.9758 - val_loss: 1.2545 - val_accuracy: 0.7782\n"
          ]
        }
      ]
    },
    {
      "cell_type": "code",
      "source": [
        "model_3_pred_probs = model_3.predict(val_sentences)\n",
        "model_3_pred_probs[:10]"
      ],
      "metadata": {
        "colab": {
          "base_uri": "https://localhost:8080/"
        },
        "id": "dfweqARxsA56",
        "outputId": "b0b0677a-428c-4aff-e776-501e3745f732"
      },
      "execution_count": 71,
      "outputs": [
        {
          "output_type": "execute_result",
          "data": {
            "text/plain": [
              "array([[4.7418475e-04],\n",
              "       [7.2494292e-01],\n",
              "       [9.9988055e-01],\n",
              "       [9.6556336e-02],\n",
              "       [6.1822859e-05],\n",
              "       [9.9976516e-01],\n",
              "       [9.6143854e-01],\n",
              "       [9.9993181e-01],\n",
              "       [9.9987465e-01],\n",
              "       [9.8283720e-01]], dtype=float32)"
            ]
          },
          "metadata": {},
          "execution_count": 71
        }
      ]
    },
    {
      "cell_type": "code",
      "source": [
        "model_3_preds = tf.squeeze(tf.round(model_3_pred_probs))"
      ],
      "metadata": {
        "id": "NOch9NUdsIeW"
      },
      "execution_count": 72,
      "outputs": []
    },
    {
      "cell_type": "code",
      "source": [
        "model_3_results = calculate_results(y_true = val_labels,\n",
        "                                    y_pred = model_3_preds)"
      ],
      "metadata": {
        "id": "eC7xWHTisTln"
      },
      "execution_count": 73,
      "outputs": []
    },
    {
      "cell_type": "code",
      "source": [
        "model_3_results"
      ],
      "metadata": {
        "colab": {
          "base_uri": "https://localhost:8080/"
        },
        "id": "lRaZDvAgsn7j",
        "outputId": "880a3676-c7e7-4525-c072-ded9b0ee4c19"
      },
      "execution_count": 74,
      "outputs": [
        {
          "output_type": "execute_result",
          "data": {
            "text/plain": [
              "{'accuracy': 77.82152230971128,\n",
              " 'precision': 0.7791991586469295,\n",
              " 'recall': 0.7782152230971129,\n",
              " 'f1': 0.7766208088282468}"
            ]
          },
          "metadata": {},
          "execution_count": 74
        }
      ]
    },
    {
      "cell_type": "code",
      "source": [
        "model_2_results"
      ],
      "metadata": {
        "colab": {
          "base_uri": "https://localhost:8080/"
        },
        "id": "KGvsLuDCsrBX",
        "outputId": "ba906f8b-4932-4e2b-9be2-d334317d2add"
      },
      "execution_count": 75,
      "outputs": [
        {
          "output_type": "execute_result",
          "data": {
            "text/plain": [
              "{'accuracy': 78.08398950131233,\n",
              " 'precision': 0.7856875884556138,\n",
              " 'recall': 0.7808398950131233,\n",
              " 'f1': 0.777681907957685}"
            ]
          },
          "metadata": {},
          "execution_count": 75
        }
      ]
    },
    {
      "cell_type": "code",
      "source": [
        "model_2_results"
      ],
      "metadata": {
        "colab": {
          "base_uri": "https://localhost:8080/"
        },
        "id": "OUch1We6ssu4",
        "outputId": "35122e61-777b-48c2-ecae-aac9d3feaefc"
      },
      "execution_count": 76,
      "outputs": [
        {
          "output_type": "execute_result",
          "data": {
            "text/plain": [
              "{'accuracy': 78.08398950131233,\n",
              " 'precision': 0.7856875884556138,\n",
              " 'recall': 0.7808398950131233,\n",
              " 'f1': 0.777681907957685}"
            ]
          },
          "metadata": {},
          "execution_count": 76
        }
      ]
    },
    {
      "cell_type": "code",
      "source": [
        "baseline_results"
      ],
      "metadata": {
        "colab": {
          "base_uri": "https://localhost:8080/"
        },
        "id": "EMtHX-hgst6w",
        "outputId": "df324ea5-5f46-4a3e-dd99-033adb88f957"
      },
      "execution_count": 77,
      "outputs": [
        {
          "output_type": "execute_result",
          "data": {
            "text/plain": [
              "{'accuracy': 79.26509186351706,\n",
              " 'precision': 0.8111390004213173,\n",
              " 'recall': 0.7926509186351706,\n",
              " 'f1': 0.7862189758049549}"
            ]
          },
          "metadata": {},
          "execution_count": 77
        }
      ]
    },
    {
      "cell_type": "markdown",
      "source": [
        "### Model 4: Bidirectional RNN\n",
        "\n",
        "Normal RNN's go from left to right to left.\n",
        "\n",
        "Bidrectional RNN goes from right to left aswell as left to right"
      ],
      "metadata": {
        "id": "8Zqef0DDvqrf"
      }
    },
    {
      "cell_type": "code",
      "source": [
        "# Bulid a bidirectional RNN in tensorflow\n",
        "\n",
        "from tensorflow.keras import layers\n",
        "\n",
        "inputs = layers.Input(shape = (1,), dtype = 'string')\n",
        "x = text_vectorizer(inputs)\n",
        "x = embedding(x)\n",
        "x = layers.Bidirectional(layers.LSTM(64))(x)\n",
        "# x = layers.Bidirectional(layers.GRU(64))(x)\n",
        "outputs = layers.Dense(1, activation = 'sigmoid')(x)\n",
        "model_4 =  tf.keras.Model(inputs, outputs, name = 'model_4_bidirectional')"
      ],
      "metadata": {
        "id": "bHDp8FQOfiHV"
      },
      "execution_count": 78,
      "outputs": []
    },
    {
      "cell_type": "code",
      "source": [
        "# Model 4 summary\n",
        "\n",
        "model_4.summary()"
      ],
      "metadata": {
        "colab": {
          "base_uri": "https://localhost:8080/"
        },
        "id": "Wa2g2IRAg00D",
        "outputId": "a063dfb8-1cda-41d7-cbdf-5b7a54fb23ce"
      },
      "execution_count": 79,
      "outputs": [
        {
          "output_type": "stream",
          "name": "stdout",
          "text": [
            "Model: \"model_4_bidirectional\"\n",
            "_________________________________________________________________\n",
            " Layer (type)                Output Shape              Param #   \n",
            "=================================================================\n",
            " input_4 (InputLayer)        [(None, 1)]               0         \n",
            "                                                                 \n",
            " text_vectorization_1 (TextV  (None, 15)               0         \n",
            " ectorization)                                                   \n",
            "                                                                 \n",
            " embedding (Embedding)       (None, 15, 128)           1280000   \n",
            "                                                                 \n",
            " bidirectional (Bidirectiona  (None, 128)              98816     \n",
            " l)                                                              \n",
            "                                                                 \n",
            " dense_4 (Dense)             (None, 1)                 129       \n",
            "                                                                 \n",
            "=================================================================\n",
            "Total params: 1,378,945\n",
            "Trainable params: 1,378,945\n",
            "Non-trainable params: 0\n",
            "_________________________________________________________________\n"
          ]
        }
      ]
    },
    {
      "cell_type": "code",
      "source": [
        "# Compile the model\n",
        "\n",
        "model_4.compile(loss = 'binary_crossentropy',\n",
        "                optimizer = tf.keras.optimizers.Adam(),\n",
        "                metrics = ['accuracy'])\n"
      ],
      "metadata": {
        "id": "e2EAZtbbhPGV"
      },
      "execution_count": 80,
      "outputs": []
    },
    {
      "cell_type": "code",
      "source": [
        "# Fit the model\n",
        "\n",
        "model_4_history = model_4.fit(train_sentences, train_labels, epochs  =5,\n",
        "                              validation_data = (val_sentences, val_labels),\n",
        "                              callbacks = [create_tensorboard_callback(SAVE_DIR,\n",
        "                                                                       'Model_4_Bidirectioanl')])"
      ],
      "metadata": {
        "colab": {
          "base_uri": "https://localhost:8080/"
        },
        "id": "ubHg19zVnxiL",
        "outputId": "4d875866-c51a-44a3-c9d6-b96595e67a97"
      },
      "execution_count": 81,
      "outputs": [
        {
          "output_type": "stream",
          "name": "stdout",
          "text": [
            "Saving TensorBoard log files to: model_logs/Model_4_Bidirectioanl/20220912-194553\n",
            "Epoch 1/5\n",
            "215/215 [==============================] - 17s 52ms/step - loss: 0.1096 - accuracy: 0.9692 - val_loss: 0.9659 - val_accuracy: 0.7730\n",
            "Epoch 2/5\n",
            "215/215 [==============================] - 10s 45ms/step - loss: 0.0519 - accuracy: 0.9762 - val_loss: 1.2894 - val_accuracy: 0.7717\n",
            "Epoch 3/5\n",
            "215/215 [==============================] - 9s 43ms/step - loss: 0.0458 - accuracy: 0.9791 - val_loss: 1.3640 - val_accuracy: 0.7677\n",
            "Epoch 4/5\n",
            "215/215 [==============================] - 10s 47ms/step - loss: 0.0431 - accuracy: 0.9806 - val_loss: 1.0320 - val_accuracy: 0.7533\n",
            "Epoch 5/5\n",
            "215/215 [==============================] - 9s 42ms/step - loss: 0.0458 - accuracy: 0.9796 - val_loss: 1.4890 - val_accuracy: 0.7664\n"
          ]
        }
      ]
    },
    {
      "cell_type": "code",
      "source": [
        "# Make prediction \n",
        "\n",
        "model_4_pred_probs = model_4.predict(val_sentences)\n",
        "model_4_pred_probs[:10]"
      ],
      "metadata": {
        "colab": {
          "base_uri": "https://localhost:8080/"
        },
        "id": "ICTzsM9loKva",
        "outputId": "b78d5e43-2360-490f-939d-c6bd54edc453"
      },
      "execution_count": 82,
      "outputs": [
        {
          "output_type": "execute_result",
          "data": {
            "text/plain": [
              "array([[6.0182661e-05],\n",
              "       [6.7251587e-01],\n",
              "       [9.9995703e-01],\n",
              "       [2.0951611e-01],\n",
              "       [5.1625602e-06],\n",
              "       [9.9471897e-01],\n",
              "       [2.7759090e-01],\n",
              "       [9.9997473e-01],\n",
              "       [9.9995339e-01],\n",
              "       [8.5341763e-01]], dtype=float32)"
            ]
          },
          "metadata": {},
          "execution_count": 82
        }
      ]
    },
    {
      "cell_type": "code",
      "source": [
        "model_4_preds = tf.squeeze(tf.round(model_4_pred_probs))\n",
        "model_4_preds[:10]"
      ],
      "metadata": {
        "colab": {
          "base_uri": "https://localhost:8080/"
        },
        "id": "KgcIupBIoqfz",
        "outputId": "5bef6650-1b0b-4601-ad8c-fd18e46aaf72"
      },
      "execution_count": 83,
      "outputs": [
        {
          "output_type": "execute_result",
          "data": {
            "text/plain": [
              "<tf.Tensor: shape=(10,), dtype=float32, numpy=array([0., 1., 1., 0., 0., 1., 0., 1., 1., 1.], dtype=float32)>"
            ]
          },
          "metadata": {},
          "execution_count": 83
        }
      ]
    },
    {
      "cell_type": "code",
      "source": [
        "# Calculate the results of our bidirectional model\n",
        "\n",
        "model_4_results = calculate_results(y_true = val_labels,\n",
        "                                    y_pred = model_4_preds)"
      ],
      "metadata": {
        "id": "tf8Oxs75qkB-"
      },
      "execution_count": 84,
      "outputs": []
    },
    {
      "cell_type": "code",
      "source": [
        "print( model_4_results, '\\n', model_3_results, '\\n', model_2_results, '\\n', model_1_results, '\\n', baseline_results)"
      ],
      "metadata": {
        "colab": {
          "base_uri": "https://localhost:8080/"
        },
        "id": "0zTXBk-7qe4c",
        "outputId": "3f7fbdce-c442-4d30-bfc8-f83fc0452612"
      },
      "execution_count": 85,
      "outputs": [
        {
          "output_type": "stream",
          "name": "stdout",
          "text": [
            "{'accuracy': 76.64041994750657, 'precision': 0.7740790531264894, 'recall': 0.7664041994750657, 'f1': 0.7617181652846342} \n",
            " {'accuracy': 77.82152230971128, 'precision': 0.7791991586469295, 'recall': 0.7782152230971129, 'f1': 0.7766208088282468} \n",
            " {'accuracy': 78.08398950131233, 'precision': 0.7856875884556138, 'recall': 0.7808398950131233, 'f1': 0.777681907957685} \n",
            " {'accuracy': 78.74015748031496, 'precision': 0.7914920592553047, 'recall': 0.7874015748031497, 'f1': 0.7846966492209201} \n",
            " {'accuracy': 79.26509186351706, 'precision': 0.8111390004213173, 'recall': 0.7926509186351706, 'f1': 0.7862189758049549}\n"
          ]
        }
      ]
    },
    {
      "cell_type": "markdown",
      "source": [
        "## Convolutional Neural Network for Text (and other type of sequences)\n",
        "\n",
        ">Images are 2D (Conv2D)\n",
        "\n",
        ">Text are 1D (Conv1D)\n",
        "\n",
        "Typical Structure of Conv2D:\n",
        "\n",
        "    Inputs(test) --> Tokenisatin --> Embedding --> Conv1D --> Pooling --> Outputs"
      ],
      "metadata": {
        "id": "EGkUXvtErVhN"
      }
    },
    {
      "cell_type": "markdown",
      "source": [
        "### Model_5: Conv1D"
      ],
      "metadata": {
        "id": "N_hmPaUfuaKF"
      }
    },
    {
      "cell_type": "markdown",
      "source": [
        "####Brief Overview"
      ],
      "metadata": {
        "id": "laFqP5y_2zKT"
      }
    },
    {
      "cell_type": "code",
      "source": [
        "# Test out our embedding layer, Conv1D layer and max pooling\n",
        "\n",
        "embedding_text = embedding(text_vectorizer(['this is a test sentence'])) # Turn into Embedding\n",
        "conv_1d = layers.Conv1D(filters = 64,\n",
        "                        kernel_size = 5,\n",
        "                        activation = 'relu',\n",
        "                        padding = 'same')"
      ],
      "metadata": {
        "id": "FXFVzHx6tAn2"
      },
      "execution_count": 88,
      "outputs": []
    },
    {
      "cell_type": "code",
      "source": [
        "conv_1d_output = conv_1d(embedding_text)\n",
        "conv_1d_output[0]"
      ],
      "metadata": {
        "colab": {
          "base_uri": "https://localhost:8080/"
        },
        "id": "IolM284Nu_-n",
        "outputId": "0ce65730-7d39-44a4-a64b-18d85b6a671c"
      },
      "execution_count": 89,
      "outputs": [
        {
          "output_type": "execute_result",
          "data": {
            "text/plain": [
              "<tf.Tensor: shape=(15, 64), dtype=float32, numpy=\n",
              "array([[0.00000000e+00, 5.57034742e-03, 0.00000000e+00, 0.00000000e+00,\n",
              "        0.00000000e+00, 3.04869041e-02, 0.00000000e+00, 0.00000000e+00,\n",
              "        0.00000000e+00, 0.00000000e+00, 3.14954109e-02, 3.12996190e-03,\n",
              "        3.07825636e-02, 0.00000000e+00, 0.00000000e+00, 5.29369116e-02,\n",
              "        6.62494171e-03, 0.00000000e+00, 0.00000000e+00, 0.00000000e+00,\n",
              "        0.00000000e+00, 3.53746973e-02, 6.29911572e-02, 0.00000000e+00,\n",
              "        1.23558166e-02, 5.34567423e-03, 1.39628137e-02, 0.00000000e+00,\n",
              "        9.74638667e-03, 1.44570759e-02, 0.00000000e+00, 0.00000000e+00,\n",
              "        3.22889984e-02, 1.20501956e-02, 0.00000000e+00, 9.12893005e-03,\n",
              "        1.12925647e-02, 0.00000000e+00, 0.00000000e+00, 0.00000000e+00,\n",
              "        3.07065863e-02, 4.75994721e-02, 1.62930973e-02, 5.83052188e-02,\n",
              "        2.89670601e-02, 0.00000000e+00, 5.32429926e-02, 0.00000000e+00,\n",
              "        2.50303298e-02, 0.00000000e+00, 0.00000000e+00, 8.56353715e-02,\n",
              "        0.00000000e+00, 0.00000000e+00, 0.00000000e+00, 8.66672769e-03,\n",
              "        0.00000000e+00, 0.00000000e+00, 0.00000000e+00, 5.90830017e-03,\n",
              "        8.31598602e-03, 8.00162926e-03, 2.56298520e-02, 4.52995710e-02],\n",
              "       [7.42713083e-03, 3.20129059e-02, 0.00000000e+00, 0.00000000e+00,\n",
              "        0.00000000e+00, 0.00000000e+00, 0.00000000e+00, 7.68140480e-02,\n",
              "        0.00000000e+00, 4.19177748e-02, 0.00000000e+00, 0.00000000e+00,\n",
              "        2.26051994e-02, 0.00000000e+00, 0.00000000e+00, 4.37977687e-02,\n",
              "        0.00000000e+00, 0.00000000e+00, 0.00000000e+00, 0.00000000e+00,\n",
              "        0.00000000e+00, 3.28591000e-03, 0.00000000e+00, 0.00000000e+00,\n",
              "        0.00000000e+00, 2.41406653e-02, 5.94753120e-03, 0.00000000e+00,\n",
              "        0.00000000e+00, 7.87363052e-02, 2.68730372e-02, 0.00000000e+00,\n",
              "        0.00000000e+00, 1.88370571e-02, 0.00000000e+00, 0.00000000e+00,\n",
              "        1.02315359e-02, 0.00000000e+00, 0.00000000e+00, 0.00000000e+00,\n",
              "        0.00000000e+00, 0.00000000e+00, 4.90056314e-02, 0.00000000e+00,\n",
              "        0.00000000e+00, 0.00000000e+00, 3.26215513e-02, 4.66965511e-03,\n",
              "        0.00000000e+00, 1.17418403e-03, 4.50704470e-02, 1.26511650e-02,\n",
              "        0.00000000e+00, 0.00000000e+00, 0.00000000e+00, 0.00000000e+00,\n",
              "        0.00000000e+00, 0.00000000e+00, 0.00000000e+00, 5.10888770e-02,\n",
              "        0.00000000e+00, 3.28474864e-03, 0.00000000e+00, 0.00000000e+00],\n",
              "       [0.00000000e+00, 6.62293211e-02, 2.49924138e-03, 0.00000000e+00,\n",
              "        0.00000000e+00, 0.00000000e+00, 7.66368657e-02, 8.35602731e-02,\n",
              "        2.17403304e-02, 0.00000000e+00, 0.00000000e+00, 5.28058363e-03,\n",
              "        0.00000000e+00, 0.00000000e+00, 0.00000000e+00, 3.76896672e-02,\n",
              "        1.96474753e-02, 0.00000000e+00, 0.00000000e+00, 0.00000000e+00,\n",
              "        0.00000000e+00, 3.23535949e-02, 5.33435419e-02, 5.71592059e-03,\n",
              "        0.00000000e+00, 2.43622735e-02, 0.00000000e+00, 0.00000000e+00,\n",
              "        0.00000000e+00, 9.04766619e-02, 3.77646647e-03, 2.14222874e-02,\n",
              "        0.00000000e+00, 0.00000000e+00, 0.00000000e+00, 0.00000000e+00,\n",
              "        6.40285984e-02, 0.00000000e+00, 4.69614901e-02, 0.00000000e+00,\n",
              "        2.98624672e-02, 0.00000000e+00, 4.29947348e-03, 1.20322872e-02,\n",
              "        0.00000000e+00, 0.00000000e+00, 1.26140583e-02, 2.99551394e-02,\n",
              "        0.00000000e+00, 1.25845540e-02, 0.00000000e+00, 2.28862884e-03,\n",
              "        0.00000000e+00, 3.07763945e-02, 0.00000000e+00, 3.41249332e-02,\n",
              "        4.04759869e-02, 0.00000000e+00, 5.81069365e-02, 3.65562132e-03,\n",
              "        8.04530904e-02, 1.95191242e-02, 6.32533878e-02, 0.00000000e+00],\n",
              "       [3.02263210e-03, 0.00000000e+00, 0.00000000e+00, 0.00000000e+00,\n",
              "        0.00000000e+00, 0.00000000e+00, 0.00000000e+00, 0.00000000e+00,\n",
              "        6.07542917e-02, 3.90628316e-02, 0.00000000e+00, 0.00000000e+00,\n",
              "        0.00000000e+00, 0.00000000e+00, 0.00000000e+00, 9.15478021e-02,\n",
              "        0.00000000e+00, 0.00000000e+00, 0.00000000e+00, 4.26752828e-02,\n",
              "        0.00000000e+00, 9.92710218e-02, 3.40573676e-02, 0.00000000e+00,\n",
              "        0.00000000e+00, 4.07440402e-03, 0.00000000e+00, 1.59657318e-02,\n",
              "        2.17717104e-02, 7.26856478e-03, 3.65191773e-02, 3.04317214e-02,\n",
              "        2.23654155e-02, 3.80735658e-03, 0.00000000e+00, 5.06554451e-03,\n",
              "        3.75866070e-02, 0.00000000e+00, 1.62211098e-02, 3.02731469e-02,\n",
              "        0.00000000e+00, 7.08007365e-02, 0.00000000e+00, 0.00000000e+00,\n",
              "        0.00000000e+00, 0.00000000e+00, 2.53156722e-02, 2.92047020e-02,\n",
              "        0.00000000e+00, 0.00000000e+00, 0.00000000e+00, 1.96605399e-02,\n",
              "        2.37786826e-02, 1.24620525e-02, 0.00000000e+00, 0.00000000e+00,\n",
              "        0.00000000e+00, 1.53985536e-02, 0.00000000e+00, 0.00000000e+00,\n",
              "        6.28258586e-02, 8.55935588e-02, 2.21634377e-03, 3.03030983e-02],\n",
              "       [1.15718897e-02, 0.00000000e+00, 1.50341820e-02, 0.00000000e+00,\n",
              "        0.00000000e+00, 7.22062774e-04, 1.52655113e-02, 3.23901400e-02,\n",
              "        0.00000000e+00, 1.45348199e-02, 2.32182369e-02, 3.15413587e-02,\n",
              "        2.93354504e-03, 1.94090586e-02, 5.66758867e-03, 4.79185060e-02,\n",
              "        5.60386702e-02, 4.48253937e-04, 2.55025942e-02, 0.00000000e+00,\n",
              "        0.00000000e+00, 0.00000000e+00, 1.11674611e-02, 0.00000000e+00,\n",
              "        0.00000000e+00, 0.00000000e+00, 3.62372678e-03, 3.04045584e-02,\n",
              "        7.21627995e-02, 1.53661743e-02, 1.25206569e-02, 3.84112261e-02,\n",
              "        0.00000000e+00, 3.21134664e-02, 0.00000000e+00, 0.00000000e+00,\n",
              "        7.11058546e-03, 0.00000000e+00, 0.00000000e+00, 2.03918740e-02,\n",
              "        6.51802216e-03, 5.37520908e-02, 2.34960876e-02, 0.00000000e+00,\n",
              "        0.00000000e+00, 4.12942953e-02, 1.42399585e-02, 0.00000000e+00,\n",
              "        1.01811066e-02, 4.70773056e-02, 0.00000000e+00, 1.59168951e-02,\n",
              "        5.39245969e-03, 6.20109811e-02, 3.09646688e-02, 9.36294943e-02,\n",
              "        0.00000000e+00, 0.00000000e+00, 1.96813792e-02, 0.00000000e+00,\n",
              "        0.00000000e+00, 1.78021174e-02, 2.30863430e-02, 0.00000000e+00],\n",
              "       [0.00000000e+00, 4.03282084e-02, 0.00000000e+00, 0.00000000e+00,\n",
              "        1.80991441e-02, 0.00000000e+00, 0.00000000e+00, 0.00000000e+00,\n",
              "        7.97748286e-03, 7.21967034e-03, 2.29736771e-02, 0.00000000e+00,\n",
              "        0.00000000e+00, 0.00000000e+00, 1.05277458e-02, 2.08356380e-02,\n",
              "        0.00000000e+00, 0.00000000e+00, 0.00000000e+00, 6.38112891e-03,\n",
              "        0.00000000e+00, 0.00000000e+00, 0.00000000e+00, 0.00000000e+00,\n",
              "        0.00000000e+00, 0.00000000e+00, 0.00000000e+00, 0.00000000e+00,\n",
              "        3.58929485e-02, 1.87642090e-02, 0.00000000e+00, 3.42426151e-02,\n",
              "        1.73402149e-02, 0.00000000e+00, 0.00000000e+00, 0.00000000e+00,\n",
              "        2.22741086e-02, 0.00000000e+00, 1.37328766e-02, 2.40835361e-02,\n",
              "        5.50847035e-03, 0.00000000e+00, 0.00000000e+00, 6.19331077e-02,\n",
              "        0.00000000e+00, 1.60663854e-03, 2.48697102e-02, 1.72851253e-02,\n",
              "        0.00000000e+00, 0.00000000e+00, 3.47786061e-02, 1.21044386e-02,\n",
              "        0.00000000e+00, 0.00000000e+00, 0.00000000e+00, 6.75194263e-02,\n",
              "        0.00000000e+00, 2.60771625e-03, 0.00000000e+00, 3.13824788e-02,\n",
              "        0.00000000e+00, 4.18825746e-02, 2.06059329e-02, 8.09109136e-02],\n",
              "       [0.00000000e+00, 0.00000000e+00, 0.00000000e+00, 0.00000000e+00,\n",
              "        0.00000000e+00, 0.00000000e+00, 0.00000000e+00, 0.00000000e+00,\n",
              "        0.00000000e+00, 0.00000000e+00, 4.46178950e-03, 3.62823717e-02,\n",
              "        0.00000000e+00, 1.83731634e-02, 6.18440751e-03, 3.50421518e-02,\n",
              "        0.00000000e+00, 0.00000000e+00, 0.00000000e+00, 0.00000000e+00,\n",
              "        0.00000000e+00, 0.00000000e+00, 0.00000000e+00, 2.00942438e-03,\n",
              "        0.00000000e+00, 0.00000000e+00, 0.00000000e+00, 2.09863279e-02,\n",
              "        9.11420491e-03, 0.00000000e+00, 0.00000000e+00, 9.26318094e-02,\n",
              "        0.00000000e+00, 0.00000000e+00, 3.81231494e-03, 4.70847562e-02,\n",
              "        2.12220829e-02, 0.00000000e+00, 3.51562165e-04, 0.00000000e+00,\n",
              "        0.00000000e+00, 0.00000000e+00, 0.00000000e+00, 2.12045945e-02,\n",
              "        0.00000000e+00, 0.00000000e+00, 1.11221028e-02, 0.00000000e+00,\n",
              "        0.00000000e+00, 0.00000000e+00, 4.09118738e-03, 0.00000000e+00,\n",
              "        3.60457450e-02, 0.00000000e+00, 0.00000000e+00, 0.00000000e+00,\n",
              "        0.00000000e+00, 0.00000000e+00, 0.00000000e+00, 0.00000000e+00,\n",
              "        0.00000000e+00, 2.27780491e-02, 1.75766982e-02, 3.21757868e-02],\n",
              "       [0.00000000e+00, 0.00000000e+00, 0.00000000e+00, 0.00000000e+00,\n",
              "        0.00000000e+00, 0.00000000e+00, 0.00000000e+00, 6.80652540e-03,\n",
              "        6.23716693e-03, 2.84085423e-03, 0.00000000e+00, 7.38725299e-03,\n",
              "        0.00000000e+00, 0.00000000e+00, 0.00000000e+00, 5.61794033e-03,\n",
              "        0.00000000e+00, 0.00000000e+00, 0.00000000e+00, 0.00000000e+00,\n",
              "        5.37468866e-03, 1.84496492e-02, 0.00000000e+00, 0.00000000e+00,\n",
              "        0.00000000e+00, 0.00000000e+00, 0.00000000e+00, 1.50586003e-02,\n",
              "        0.00000000e+00, 3.14734876e-04, 0.00000000e+00, 4.46141958e-02,\n",
              "        4.02412470e-03, 0.00000000e+00, 0.00000000e+00, 3.20855007e-02,\n",
              "        0.00000000e+00, 2.33657565e-03, 2.63212025e-02, 0.00000000e+00,\n",
              "        0.00000000e+00, 3.95034067e-03, 0.00000000e+00, 4.25232574e-05,\n",
              "        0.00000000e+00, 0.00000000e+00, 9.09660943e-04, 7.59716285e-03,\n",
              "        1.97551865e-03, 1.45323155e-03, 0.00000000e+00, 2.69997008e-02,\n",
              "        0.00000000e+00, 0.00000000e+00, 0.00000000e+00, 1.19801434e-02,\n",
              "        0.00000000e+00, 2.05614418e-03, 0.00000000e+00, 8.28462094e-03,\n",
              "        0.00000000e+00, 4.20301780e-02, 1.69130638e-02, 2.76775956e-02],\n",
              "       [0.00000000e+00, 0.00000000e+00, 0.00000000e+00, 0.00000000e+00,\n",
              "        0.00000000e+00, 0.00000000e+00, 0.00000000e+00, 6.80652540e-03,\n",
              "        6.23716693e-03, 2.84085423e-03, 0.00000000e+00, 7.38725299e-03,\n",
              "        0.00000000e+00, 0.00000000e+00, 0.00000000e+00, 5.61794033e-03,\n",
              "        0.00000000e+00, 0.00000000e+00, 0.00000000e+00, 0.00000000e+00,\n",
              "        5.37468866e-03, 1.84496492e-02, 0.00000000e+00, 0.00000000e+00,\n",
              "        0.00000000e+00, 0.00000000e+00, 0.00000000e+00, 1.50586003e-02,\n",
              "        0.00000000e+00, 3.14734876e-04, 0.00000000e+00, 4.46141958e-02,\n",
              "        4.02412470e-03, 0.00000000e+00, 0.00000000e+00, 3.20855007e-02,\n",
              "        0.00000000e+00, 2.33657565e-03, 2.63212025e-02, 0.00000000e+00,\n",
              "        0.00000000e+00, 3.95034067e-03, 0.00000000e+00, 4.25232574e-05,\n",
              "        0.00000000e+00, 0.00000000e+00, 9.09660943e-04, 7.59716285e-03,\n",
              "        1.97551865e-03, 1.45323155e-03, 0.00000000e+00, 2.69997008e-02,\n",
              "        0.00000000e+00, 0.00000000e+00, 0.00000000e+00, 1.19801434e-02,\n",
              "        0.00000000e+00, 2.05614418e-03, 0.00000000e+00, 8.28462094e-03,\n",
              "        0.00000000e+00, 4.20301780e-02, 1.69130638e-02, 2.76775956e-02],\n",
              "       [0.00000000e+00, 0.00000000e+00, 0.00000000e+00, 0.00000000e+00,\n",
              "        0.00000000e+00, 0.00000000e+00, 0.00000000e+00, 6.80652540e-03,\n",
              "        6.23716693e-03, 2.84085423e-03, 0.00000000e+00, 7.38725299e-03,\n",
              "        0.00000000e+00, 0.00000000e+00, 0.00000000e+00, 5.61794033e-03,\n",
              "        0.00000000e+00, 0.00000000e+00, 0.00000000e+00, 0.00000000e+00,\n",
              "        5.37468866e-03, 1.84496492e-02, 0.00000000e+00, 0.00000000e+00,\n",
              "        0.00000000e+00, 0.00000000e+00, 0.00000000e+00, 1.50586003e-02,\n",
              "        0.00000000e+00, 3.14734876e-04, 0.00000000e+00, 4.46141958e-02,\n",
              "        4.02412470e-03, 0.00000000e+00, 0.00000000e+00, 3.20855007e-02,\n",
              "        0.00000000e+00, 2.33657565e-03, 2.63212025e-02, 0.00000000e+00,\n",
              "        0.00000000e+00, 3.95034067e-03, 0.00000000e+00, 4.25232574e-05,\n",
              "        0.00000000e+00, 0.00000000e+00, 9.09660943e-04, 7.59716285e-03,\n",
              "        1.97551865e-03, 1.45323155e-03, 0.00000000e+00, 2.69997008e-02,\n",
              "        0.00000000e+00, 0.00000000e+00, 0.00000000e+00, 1.19801434e-02,\n",
              "        0.00000000e+00, 2.05614418e-03, 0.00000000e+00, 8.28462094e-03,\n",
              "        0.00000000e+00, 4.20301780e-02, 1.69130638e-02, 2.76775956e-02],\n",
              "       [0.00000000e+00, 0.00000000e+00, 0.00000000e+00, 0.00000000e+00,\n",
              "        0.00000000e+00, 0.00000000e+00, 0.00000000e+00, 6.80652540e-03,\n",
              "        6.23716693e-03, 2.84085423e-03, 0.00000000e+00, 7.38725299e-03,\n",
              "        0.00000000e+00, 0.00000000e+00, 0.00000000e+00, 5.61794033e-03,\n",
              "        0.00000000e+00, 0.00000000e+00, 0.00000000e+00, 0.00000000e+00,\n",
              "        5.37468866e-03, 1.84496492e-02, 0.00000000e+00, 0.00000000e+00,\n",
              "        0.00000000e+00, 0.00000000e+00, 0.00000000e+00, 1.50586003e-02,\n",
              "        0.00000000e+00, 3.14734876e-04, 0.00000000e+00, 4.46141958e-02,\n",
              "        4.02412470e-03, 0.00000000e+00, 0.00000000e+00, 3.20855007e-02,\n",
              "        0.00000000e+00, 2.33657565e-03, 2.63212025e-02, 0.00000000e+00,\n",
              "        0.00000000e+00, 3.95034067e-03, 0.00000000e+00, 4.25232574e-05,\n",
              "        0.00000000e+00, 0.00000000e+00, 9.09660943e-04, 7.59716285e-03,\n",
              "        1.97551865e-03, 1.45323155e-03, 0.00000000e+00, 2.69997008e-02,\n",
              "        0.00000000e+00, 0.00000000e+00, 0.00000000e+00, 1.19801434e-02,\n",
              "        0.00000000e+00, 2.05614418e-03, 0.00000000e+00, 8.28462094e-03,\n",
              "        0.00000000e+00, 4.20301780e-02, 1.69130638e-02, 2.76775956e-02],\n",
              "       [0.00000000e+00, 0.00000000e+00, 0.00000000e+00, 0.00000000e+00,\n",
              "        0.00000000e+00, 0.00000000e+00, 0.00000000e+00, 6.80652540e-03,\n",
              "        6.23716693e-03, 2.84085423e-03, 0.00000000e+00, 7.38725299e-03,\n",
              "        0.00000000e+00, 0.00000000e+00, 0.00000000e+00, 5.61794033e-03,\n",
              "        0.00000000e+00, 0.00000000e+00, 0.00000000e+00, 0.00000000e+00,\n",
              "        5.37468866e-03, 1.84496492e-02, 0.00000000e+00, 0.00000000e+00,\n",
              "        0.00000000e+00, 0.00000000e+00, 0.00000000e+00, 1.50586003e-02,\n",
              "        0.00000000e+00, 3.14734876e-04, 0.00000000e+00, 4.46141958e-02,\n",
              "        4.02412470e-03, 0.00000000e+00, 0.00000000e+00, 3.20855007e-02,\n",
              "        0.00000000e+00, 2.33657565e-03, 2.63212025e-02, 0.00000000e+00,\n",
              "        0.00000000e+00, 3.95034067e-03, 0.00000000e+00, 4.25232574e-05,\n",
              "        0.00000000e+00, 0.00000000e+00, 9.09660943e-04, 7.59716285e-03,\n",
              "        1.97551865e-03, 1.45323155e-03, 0.00000000e+00, 2.69997008e-02,\n",
              "        0.00000000e+00, 0.00000000e+00, 0.00000000e+00, 1.19801434e-02,\n",
              "        0.00000000e+00, 2.05614418e-03, 0.00000000e+00, 8.28462094e-03,\n",
              "        0.00000000e+00, 4.20301780e-02, 1.69130638e-02, 2.76775956e-02],\n",
              "       [0.00000000e+00, 0.00000000e+00, 0.00000000e+00, 0.00000000e+00,\n",
              "        0.00000000e+00, 0.00000000e+00, 0.00000000e+00, 6.80653192e-03,\n",
              "        6.23717066e-03, 2.84085935e-03, 0.00000000e+00, 7.38725718e-03,\n",
              "        0.00000000e+00, 0.00000000e+00, 0.00000000e+00, 5.61794313e-03,\n",
              "        0.00000000e+00, 0.00000000e+00, 0.00000000e+00, 0.00000000e+00,\n",
              "        5.37468912e-03, 1.84496492e-02, 0.00000000e+00, 0.00000000e+00,\n",
              "        0.00000000e+00, 0.00000000e+00, 0.00000000e+00, 1.50585985e-02,\n",
              "        0.00000000e+00, 3.14733014e-04, 0.00000000e+00, 4.46141958e-02,\n",
              "        4.02412796e-03, 0.00000000e+00, 0.00000000e+00, 3.20855007e-02,\n",
              "        0.00000000e+00, 2.33658496e-03, 2.63211988e-02, 0.00000000e+00,\n",
              "        0.00000000e+00, 3.95034440e-03, 0.00000000e+00, 4.25167382e-05,\n",
              "        0.00000000e+00, 0.00000000e+00, 9.09666065e-04, 7.59716239e-03,\n",
              "        1.97552424e-03, 1.45323668e-03, 0.00000000e+00, 2.69997120e-02,\n",
              "        0.00000000e+00, 0.00000000e+00, 0.00000000e+00, 1.19801462e-02,\n",
              "        0.00000000e+00, 2.05614977e-03, 0.00000000e+00, 8.28462094e-03,\n",
              "        0.00000000e+00, 4.20301780e-02, 1.69130675e-02, 2.76775956e-02],\n",
              "       [0.00000000e+00, 0.00000000e+00, 0.00000000e+00, 0.00000000e+00,\n",
              "        0.00000000e+00, 0.00000000e+00, 0.00000000e+00, 2.87323119e-03,\n",
              "        5.83126955e-03, 4.34498070e-03, 0.00000000e+00, 0.00000000e+00,\n",
              "        0.00000000e+00, 2.58618407e-03, 0.00000000e+00, 0.00000000e+00,\n",
              "        0.00000000e+00, 6.87707681e-04, 0.00000000e+00, 0.00000000e+00,\n",
              "        1.30593181e-02, 9.17224679e-03, 0.00000000e+00, 0.00000000e+00,\n",
              "        0.00000000e+00, 1.78670585e-02, 5.23003004e-03, 2.36433931e-02,\n",
              "        0.00000000e+00, 1.52541706e-02, 0.00000000e+00, 2.76895706e-02,\n",
              "        2.98752822e-03, 0.00000000e+00, 0.00000000e+00, 3.27009484e-02,\n",
              "        0.00000000e+00, 6.12888206e-03, 1.56680234e-02, 8.61679297e-03,\n",
              "        0.00000000e+00, 2.36149598e-03, 0.00000000e+00, 0.00000000e+00,\n",
              "        0.00000000e+00, 0.00000000e+00, 0.00000000e+00, 1.47306197e-03,\n",
              "        0.00000000e+00, 8.15467536e-03, 0.00000000e+00, 2.79231695e-03,\n",
              "        0.00000000e+00, 0.00000000e+00, 3.63295665e-03, 0.00000000e+00,\n",
              "        0.00000000e+00, 0.00000000e+00, 0.00000000e+00, 2.73456387e-02,\n",
              "        2.76038982e-03, 3.30598988e-02, 9.84567311e-03, 5.19054476e-03],\n",
              "       [0.00000000e+00, 0.00000000e+00, 0.00000000e+00, 1.97518431e-03,\n",
              "        6.68287463e-03, 0.00000000e+00, 1.81197422e-03, 0.00000000e+00,\n",
              "        2.16872133e-02, 0.00000000e+00, 0.00000000e+00, 9.62105580e-04,\n",
              "        0.00000000e+00, 0.00000000e+00, 0.00000000e+00, 1.27827004e-03,\n",
              "        0.00000000e+00, 0.00000000e+00, 0.00000000e+00, 0.00000000e+00,\n",
              "        7.89149757e-03, 4.37731715e-03, 0.00000000e+00, 0.00000000e+00,\n",
              "        0.00000000e+00, 1.60142928e-02, 0.00000000e+00, 8.35252367e-03,\n",
              "        0.00000000e+00, 1.68446731e-02, 0.00000000e+00, 1.94294360e-02,\n",
              "        7.47090811e-03, 0.00000000e+00, 0.00000000e+00, 2.46478785e-02,\n",
              "        0.00000000e+00, 0.00000000e+00, 1.58389751e-02, 4.47167177e-03,\n",
              "        0.00000000e+00, 9.92677175e-03, 0.00000000e+00, 0.00000000e+00,\n",
              "        0.00000000e+00, 0.00000000e+00, 0.00000000e+00, 7.67441746e-03,\n",
              "        9.87856090e-03, 1.64937116e-02, 0.00000000e+00, 0.00000000e+00,\n",
              "        0.00000000e+00, 0.00000000e+00, 0.00000000e+00, 0.00000000e+00,\n",
              "        0.00000000e+00, 0.00000000e+00, 0.00000000e+00, 1.54867806e-02,\n",
              "        2.68591587e-02, 2.32560001e-02, 1.53149618e-02, 1.73221435e-02]],\n",
              "      dtype=float32)>"
            ]
          },
          "metadata": {},
          "execution_count": 89
        }
      ]
    },
    {
      "cell_type": "code",
      "source": [
        "max_pool = layers.GlobalMaxPool1D()\n",
        "max_pool_output = max_pool(conv_1d_output) # Get the most important feature\n",
        "max_pool_output[0]"
      ],
      "metadata": {
        "colab": {
          "base_uri": "https://localhost:8080/"
        },
        "id": "xz7wVZWEvFsX",
        "outputId": "bd241252-27a4-4944-fb2b-a738d33d48d6"
      },
      "execution_count": 90,
      "outputs": [
        {
          "output_type": "execute_result",
          "data": {
            "text/plain": [
              "<tf.Tensor: shape=(64,), dtype=float32, numpy=\n",
              "array([0.01157189, 0.06622932, 0.01503418, 0.00197518, 0.01809914,\n",
              "       0.0304869 , 0.07663687, 0.08356027, 0.06075429, 0.04191777,\n",
              "       0.03149541, 0.03628237, 0.03078256, 0.01940906, 0.01052775,\n",
              "       0.0915478 , 0.05603867, 0.00068771, 0.02550259, 0.04267528,\n",
              "       0.01305932, 0.09927102, 0.06299116, 0.00571592, 0.01235582,\n",
              "       0.02436227, 0.01396281, 0.03040456, 0.0721628 , 0.09047666,\n",
              "       0.03651918, 0.09263181, 0.032289  , 0.03211347, 0.00381231,\n",
              "       0.04708476, 0.0640286 , 0.00612888, 0.04696149, 0.03027315,\n",
              "       0.03070659, 0.07080074, 0.04900563, 0.06193311, 0.02896706,\n",
              "       0.0412943 , 0.05324299, 0.02995514, 0.02503033, 0.04707731,\n",
              "       0.04507045, 0.08563537, 0.03604575, 0.06201098, 0.03096467,\n",
              "       0.09362949, 0.04047599, 0.01539855, 0.05810694, 0.05108888,\n",
              "       0.08045309, 0.08559356, 0.06325339, 0.08091091], dtype=float32)>"
            ]
          },
          "metadata": {},
          "execution_count": 90
        }
      ]
    },
    {
      "cell_type": "code",
      "source": [
        "embedding_test"
      ],
      "metadata": {
        "colab": {
          "base_uri": "https://localhost:8080/"
        },
        "id": "k9abaHCg1Zjn",
        "outputId": "deb68578-cce9-4f12-cd32-a91e54d3d524"
      },
      "execution_count": 91,
      "outputs": [
        {
          "output_type": "execute_result",
          "data": {
            "text/plain": [
              "<tf.Tensor: shape=(1, 15, 128), dtype=float32, numpy=\n",
              "array([[[-0.01735634, -0.08832304, -0.02602682, ..., -0.0124311 ,\n",
              "         -0.06721227,  0.00288546],\n",
              "        [-0.03448212,  0.01604004, -0.00287265, ..., -0.03159735,\n",
              "         -0.01464332,  0.08202817],\n",
              "        [-0.04435136, -0.04564711, -0.02855131, ..., -0.01368123,\n",
              "          0.01099275,  0.05165091],\n",
              "        ...,\n",
              "        [-0.00810108, -0.010355  , -0.01404627, ..., -0.01834107,\n",
              "         -0.01301464,  0.02730538],\n",
              "        [-0.00810108, -0.010355  , -0.01404627, ..., -0.01834107,\n",
              "         -0.01301464,  0.02730538],\n",
              "        [-0.00810108, -0.010355  , -0.01404627, ..., -0.01834107,\n",
              "         -0.01301464,  0.02730538]]], dtype=float32)>"
            ]
          },
          "metadata": {},
          "execution_count": 91
        }
      ]
    },
    {
      "cell_type": "code",
      "source": [
        "conv_1d_output"
      ],
      "metadata": {
        "colab": {
          "base_uri": "https://localhost:8080/"
        },
        "id": "DcoMitDq2IUq",
        "outputId": "89bb699b-77e7-4038-e496-5a0f795be2ad"
      },
      "execution_count": 92,
      "outputs": [
        {
          "output_type": "execute_result",
          "data": {
            "text/plain": [
              "<tf.Tensor: shape=(1, 15, 64), dtype=float32, numpy=\n",
              "array([[[0.00000000e+00, 5.57034742e-03, 0.00000000e+00, 0.00000000e+00,\n",
              "         0.00000000e+00, 3.04869041e-02, 0.00000000e+00, 0.00000000e+00,\n",
              "         0.00000000e+00, 0.00000000e+00, 3.14954109e-02, 3.12996190e-03,\n",
              "         3.07825636e-02, 0.00000000e+00, 0.00000000e+00, 5.29369116e-02,\n",
              "         6.62494171e-03, 0.00000000e+00, 0.00000000e+00, 0.00000000e+00,\n",
              "         0.00000000e+00, 3.53746973e-02, 6.29911572e-02, 0.00000000e+00,\n",
              "         1.23558166e-02, 5.34567423e-03, 1.39628137e-02, 0.00000000e+00,\n",
              "         9.74638667e-03, 1.44570759e-02, 0.00000000e+00, 0.00000000e+00,\n",
              "         3.22889984e-02, 1.20501956e-02, 0.00000000e+00, 9.12893005e-03,\n",
              "         1.12925647e-02, 0.00000000e+00, 0.00000000e+00, 0.00000000e+00,\n",
              "         3.07065863e-02, 4.75994721e-02, 1.62930973e-02, 5.83052188e-02,\n",
              "         2.89670601e-02, 0.00000000e+00, 5.32429926e-02, 0.00000000e+00,\n",
              "         2.50303298e-02, 0.00000000e+00, 0.00000000e+00, 8.56353715e-02,\n",
              "         0.00000000e+00, 0.00000000e+00, 0.00000000e+00, 8.66672769e-03,\n",
              "         0.00000000e+00, 0.00000000e+00, 0.00000000e+00, 5.90830017e-03,\n",
              "         8.31598602e-03, 8.00162926e-03, 2.56298520e-02, 4.52995710e-02],\n",
              "        [7.42713083e-03, 3.20129059e-02, 0.00000000e+00, 0.00000000e+00,\n",
              "         0.00000000e+00, 0.00000000e+00, 0.00000000e+00, 7.68140480e-02,\n",
              "         0.00000000e+00, 4.19177748e-02, 0.00000000e+00, 0.00000000e+00,\n",
              "         2.26051994e-02, 0.00000000e+00, 0.00000000e+00, 4.37977687e-02,\n",
              "         0.00000000e+00, 0.00000000e+00, 0.00000000e+00, 0.00000000e+00,\n",
              "         0.00000000e+00, 3.28591000e-03, 0.00000000e+00, 0.00000000e+00,\n",
              "         0.00000000e+00, 2.41406653e-02, 5.94753120e-03, 0.00000000e+00,\n",
              "         0.00000000e+00, 7.87363052e-02, 2.68730372e-02, 0.00000000e+00,\n",
              "         0.00000000e+00, 1.88370571e-02, 0.00000000e+00, 0.00000000e+00,\n",
              "         1.02315359e-02, 0.00000000e+00, 0.00000000e+00, 0.00000000e+00,\n",
              "         0.00000000e+00, 0.00000000e+00, 4.90056314e-02, 0.00000000e+00,\n",
              "         0.00000000e+00, 0.00000000e+00, 3.26215513e-02, 4.66965511e-03,\n",
              "         0.00000000e+00, 1.17418403e-03, 4.50704470e-02, 1.26511650e-02,\n",
              "         0.00000000e+00, 0.00000000e+00, 0.00000000e+00, 0.00000000e+00,\n",
              "         0.00000000e+00, 0.00000000e+00, 0.00000000e+00, 5.10888770e-02,\n",
              "         0.00000000e+00, 3.28474864e-03, 0.00000000e+00, 0.00000000e+00],\n",
              "        [0.00000000e+00, 6.62293211e-02, 2.49924138e-03, 0.00000000e+00,\n",
              "         0.00000000e+00, 0.00000000e+00, 7.66368657e-02, 8.35602731e-02,\n",
              "         2.17403304e-02, 0.00000000e+00, 0.00000000e+00, 5.28058363e-03,\n",
              "         0.00000000e+00, 0.00000000e+00, 0.00000000e+00, 3.76896672e-02,\n",
              "         1.96474753e-02, 0.00000000e+00, 0.00000000e+00, 0.00000000e+00,\n",
              "         0.00000000e+00, 3.23535949e-02, 5.33435419e-02, 5.71592059e-03,\n",
              "         0.00000000e+00, 2.43622735e-02, 0.00000000e+00, 0.00000000e+00,\n",
              "         0.00000000e+00, 9.04766619e-02, 3.77646647e-03, 2.14222874e-02,\n",
              "         0.00000000e+00, 0.00000000e+00, 0.00000000e+00, 0.00000000e+00,\n",
              "         6.40285984e-02, 0.00000000e+00, 4.69614901e-02, 0.00000000e+00,\n",
              "         2.98624672e-02, 0.00000000e+00, 4.29947348e-03, 1.20322872e-02,\n",
              "         0.00000000e+00, 0.00000000e+00, 1.26140583e-02, 2.99551394e-02,\n",
              "         0.00000000e+00, 1.25845540e-02, 0.00000000e+00, 2.28862884e-03,\n",
              "         0.00000000e+00, 3.07763945e-02, 0.00000000e+00, 3.41249332e-02,\n",
              "         4.04759869e-02, 0.00000000e+00, 5.81069365e-02, 3.65562132e-03,\n",
              "         8.04530904e-02, 1.95191242e-02, 6.32533878e-02, 0.00000000e+00],\n",
              "        [3.02263210e-03, 0.00000000e+00, 0.00000000e+00, 0.00000000e+00,\n",
              "         0.00000000e+00, 0.00000000e+00, 0.00000000e+00, 0.00000000e+00,\n",
              "         6.07542917e-02, 3.90628316e-02, 0.00000000e+00, 0.00000000e+00,\n",
              "         0.00000000e+00, 0.00000000e+00, 0.00000000e+00, 9.15478021e-02,\n",
              "         0.00000000e+00, 0.00000000e+00, 0.00000000e+00, 4.26752828e-02,\n",
              "         0.00000000e+00, 9.92710218e-02, 3.40573676e-02, 0.00000000e+00,\n",
              "         0.00000000e+00, 4.07440402e-03, 0.00000000e+00, 1.59657318e-02,\n",
              "         2.17717104e-02, 7.26856478e-03, 3.65191773e-02, 3.04317214e-02,\n",
              "         2.23654155e-02, 3.80735658e-03, 0.00000000e+00, 5.06554451e-03,\n",
              "         3.75866070e-02, 0.00000000e+00, 1.62211098e-02, 3.02731469e-02,\n",
              "         0.00000000e+00, 7.08007365e-02, 0.00000000e+00, 0.00000000e+00,\n",
              "         0.00000000e+00, 0.00000000e+00, 2.53156722e-02, 2.92047020e-02,\n",
              "         0.00000000e+00, 0.00000000e+00, 0.00000000e+00, 1.96605399e-02,\n",
              "         2.37786826e-02, 1.24620525e-02, 0.00000000e+00, 0.00000000e+00,\n",
              "         0.00000000e+00, 1.53985536e-02, 0.00000000e+00, 0.00000000e+00,\n",
              "         6.28258586e-02, 8.55935588e-02, 2.21634377e-03, 3.03030983e-02],\n",
              "        [1.15718897e-02, 0.00000000e+00, 1.50341820e-02, 0.00000000e+00,\n",
              "         0.00000000e+00, 7.22062774e-04, 1.52655113e-02, 3.23901400e-02,\n",
              "         0.00000000e+00, 1.45348199e-02, 2.32182369e-02, 3.15413587e-02,\n",
              "         2.93354504e-03, 1.94090586e-02, 5.66758867e-03, 4.79185060e-02,\n",
              "         5.60386702e-02, 4.48253937e-04, 2.55025942e-02, 0.00000000e+00,\n",
              "         0.00000000e+00, 0.00000000e+00, 1.11674611e-02, 0.00000000e+00,\n",
              "         0.00000000e+00, 0.00000000e+00, 3.62372678e-03, 3.04045584e-02,\n",
              "         7.21627995e-02, 1.53661743e-02, 1.25206569e-02, 3.84112261e-02,\n",
              "         0.00000000e+00, 3.21134664e-02, 0.00000000e+00, 0.00000000e+00,\n",
              "         7.11058546e-03, 0.00000000e+00, 0.00000000e+00, 2.03918740e-02,\n",
              "         6.51802216e-03, 5.37520908e-02, 2.34960876e-02, 0.00000000e+00,\n",
              "         0.00000000e+00, 4.12942953e-02, 1.42399585e-02, 0.00000000e+00,\n",
              "         1.01811066e-02, 4.70773056e-02, 0.00000000e+00, 1.59168951e-02,\n",
              "         5.39245969e-03, 6.20109811e-02, 3.09646688e-02, 9.36294943e-02,\n",
              "         0.00000000e+00, 0.00000000e+00, 1.96813792e-02, 0.00000000e+00,\n",
              "         0.00000000e+00, 1.78021174e-02, 2.30863430e-02, 0.00000000e+00],\n",
              "        [0.00000000e+00, 4.03282084e-02, 0.00000000e+00, 0.00000000e+00,\n",
              "         1.80991441e-02, 0.00000000e+00, 0.00000000e+00, 0.00000000e+00,\n",
              "         7.97748286e-03, 7.21967034e-03, 2.29736771e-02, 0.00000000e+00,\n",
              "         0.00000000e+00, 0.00000000e+00, 1.05277458e-02, 2.08356380e-02,\n",
              "         0.00000000e+00, 0.00000000e+00, 0.00000000e+00, 6.38112891e-03,\n",
              "         0.00000000e+00, 0.00000000e+00, 0.00000000e+00, 0.00000000e+00,\n",
              "         0.00000000e+00, 0.00000000e+00, 0.00000000e+00, 0.00000000e+00,\n",
              "         3.58929485e-02, 1.87642090e-02, 0.00000000e+00, 3.42426151e-02,\n",
              "         1.73402149e-02, 0.00000000e+00, 0.00000000e+00, 0.00000000e+00,\n",
              "         2.22741086e-02, 0.00000000e+00, 1.37328766e-02, 2.40835361e-02,\n",
              "         5.50847035e-03, 0.00000000e+00, 0.00000000e+00, 6.19331077e-02,\n",
              "         0.00000000e+00, 1.60663854e-03, 2.48697102e-02, 1.72851253e-02,\n",
              "         0.00000000e+00, 0.00000000e+00, 3.47786061e-02, 1.21044386e-02,\n",
              "         0.00000000e+00, 0.00000000e+00, 0.00000000e+00, 6.75194263e-02,\n",
              "         0.00000000e+00, 2.60771625e-03, 0.00000000e+00, 3.13824788e-02,\n",
              "         0.00000000e+00, 4.18825746e-02, 2.06059329e-02, 8.09109136e-02],\n",
              "        [0.00000000e+00, 0.00000000e+00, 0.00000000e+00, 0.00000000e+00,\n",
              "         0.00000000e+00, 0.00000000e+00, 0.00000000e+00, 0.00000000e+00,\n",
              "         0.00000000e+00, 0.00000000e+00, 4.46178950e-03, 3.62823717e-02,\n",
              "         0.00000000e+00, 1.83731634e-02, 6.18440751e-03, 3.50421518e-02,\n",
              "         0.00000000e+00, 0.00000000e+00, 0.00000000e+00, 0.00000000e+00,\n",
              "         0.00000000e+00, 0.00000000e+00, 0.00000000e+00, 2.00942438e-03,\n",
              "         0.00000000e+00, 0.00000000e+00, 0.00000000e+00, 2.09863279e-02,\n",
              "         9.11420491e-03, 0.00000000e+00, 0.00000000e+00, 9.26318094e-02,\n",
              "         0.00000000e+00, 0.00000000e+00, 3.81231494e-03, 4.70847562e-02,\n",
              "         2.12220829e-02, 0.00000000e+00, 3.51562165e-04, 0.00000000e+00,\n",
              "         0.00000000e+00, 0.00000000e+00, 0.00000000e+00, 2.12045945e-02,\n",
              "         0.00000000e+00, 0.00000000e+00, 1.11221028e-02, 0.00000000e+00,\n",
              "         0.00000000e+00, 0.00000000e+00, 4.09118738e-03, 0.00000000e+00,\n",
              "         3.60457450e-02, 0.00000000e+00, 0.00000000e+00, 0.00000000e+00,\n",
              "         0.00000000e+00, 0.00000000e+00, 0.00000000e+00, 0.00000000e+00,\n",
              "         0.00000000e+00, 2.27780491e-02, 1.75766982e-02, 3.21757868e-02],\n",
              "        [0.00000000e+00, 0.00000000e+00, 0.00000000e+00, 0.00000000e+00,\n",
              "         0.00000000e+00, 0.00000000e+00, 0.00000000e+00, 6.80652540e-03,\n",
              "         6.23716693e-03, 2.84085423e-03, 0.00000000e+00, 7.38725299e-03,\n",
              "         0.00000000e+00, 0.00000000e+00, 0.00000000e+00, 5.61794033e-03,\n",
              "         0.00000000e+00, 0.00000000e+00, 0.00000000e+00, 0.00000000e+00,\n",
              "         5.37468866e-03, 1.84496492e-02, 0.00000000e+00, 0.00000000e+00,\n",
              "         0.00000000e+00, 0.00000000e+00, 0.00000000e+00, 1.50586003e-02,\n",
              "         0.00000000e+00, 3.14734876e-04, 0.00000000e+00, 4.46141958e-02,\n",
              "         4.02412470e-03, 0.00000000e+00, 0.00000000e+00, 3.20855007e-02,\n",
              "         0.00000000e+00, 2.33657565e-03, 2.63212025e-02, 0.00000000e+00,\n",
              "         0.00000000e+00, 3.95034067e-03, 0.00000000e+00, 4.25232574e-05,\n",
              "         0.00000000e+00, 0.00000000e+00, 9.09660943e-04, 7.59716285e-03,\n",
              "         1.97551865e-03, 1.45323155e-03, 0.00000000e+00, 2.69997008e-02,\n",
              "         0.00000000e+00, 0.00000000e+00, 0.00000000e+00, 1.19801434e-02,\n",
              "         0.00000000e+00, 2.05614418e-03, 0.00000000e+00, 8.28462094e-03,\n",
              "         0.00000000e+00, 4.20301780e-02, 1.69130638e-02, 2.76775956e-02],\n",
              "        [0.00000000e+00, 0.00000000e+00, 0.00000000e+00, 0.00000000e+00,\n",
              "         0.00000000e+00, 0.00000000e+00, 0.00000000e+00, 6.80652540e-03,\n",
              "         6.23716693e-03, 2.84085423e-03, 0.00000000e+00, 7.38725299e-03,\n",
              "         0.00000000e+00, 0.00000000e+00, 0.00000000e+00, 5.61794033e-03,\n",
              "         0.00000000e+00, 0.00000000e+00, 0.00000000e+00, 0.00000000e+00,\n",
              "         5.37468866e-03, 1.84496492e-02, 0.00000000e+00, 0.00000000e+00,\n",
              "         0.00000000e+00, 0.00000000e+00, 0.00000000e+00, 1.50586003e-02,\n",
              "         0.00000000e+00, 3.14734876e-04, 0.00000000e+00, 4.46141958e-02,\n",
              "         4.02412470e-03, 0.00000000e+00, 0.00000000e+00, 3.20855007e-02,\n",
              "         0.00000000e+00, 2.33657565e-03, 2.63212025e-02, 0.00000000e+00,\n",
              "         0.00000000e+00, 3.95034067e-03, 0.00000000e+00, 4.25232574e-05,\n",
              "         0.00000000e+00, 0.00000000e+00, 9.09660943e-04, 7.59716285e-03,\n",
              "         1.97551865e-03, 1.45323155e-03, 0.00000000e+00, 2.69997008e-02,\n",
              "         0.00000000e+00, 0.00000000e+00, 0.00000000e+00, 1.19801434e-02,\n",
              "         0.00000000e+00, 2.05614418e-03, 0.00000000e+00, 8.28462094e-03,\n",
              "         0.00000000e+00, 4.20301780e-02, 1.69130638e-02, 2.76775956e-02],\n",
              "        [0.00000000e+00, 0.00000000e+00, 0.00000000e+00, 0.00000000e+00,\n",
              "         0.00000000e+00, 0.00000000e+00, 0.00000000e+00, 6.80652540e-03,\n",
              "         6.23716693e-03, 2.84085423e-03, 0.00000000e+00, 7.38725299e-03,\n",
              "         0.00000000e+00, 0.00000000e+00, 0.00000000e+00, 5.61794033e-03,\n",
              "         0.00000000e+00, 0.00000000e+00, 0.00000000e+00, 0.00000000e+00,\n",
              "         5.37468866e-03, 1.84496492e-02, 0.00000000e+00, 0.00000000e+00,\n",
              "         0.00000000e+00, 0.00000000e+00, 0.00000000e+00, 1.50586003e-02,\n",
              "         0.00000000e+00, 3.14734876e-04, 0.00000000e+00, 4.46141958e-02,\n",
              "         4.02412470e-03, 0.00000000e+00, 0.00000000e+00, 3.20855007e-02,\n",
              "         0.00000000e+00, 2.33657565e-03, 2.63212025e-02, 0.00000000e+00,\n",
              "         0.00000000e+00, 3.95034067e-03, 0.00000000e+00, 4.25232574e-05,\n",
              "         0.00000000e+00, 0.00000000e+00, 9.09660943e-04, 7.59716285e-03,\n",
              "         1.97551865e-03, 1.45323155e-03, 0.00000000e+00, 2.69997008e-02,\n",
              "         0.00000000e+00, 0.00000000e+00, 0.00000000e+00, 1.19801434e-02,\n",
              "         0.00000000e+00, 2.05614418e-03, 0.00000000e+00, 8.28462094e-03,\n",
              "         0.00000000e+00, 4.20301780e-02, 1.69130638e-02, 2.76775956e-02],\n",
              "        [0.00000000e+00, 0.00000000e+00, 0.00000000e+00, 0.00000000e+00,\n",
              "         0.00000000e+00, 0.00000000e+00, 0.00000000e+00, 6.80652540e-03,\n",
              "         6.23716693e-03, 2.84085423e-03, 0.00000000e+00, 7.38725299e-03,\n",
              "         0.00000000e+00, 0.00000000e+00, 0.00000000e+00, 5.61794033e-03,\n",
              "         0.00000000e+00, 0.00000000e+00, 0.00000000e+00, 0.00000000e+00,\n",
              "         5.37468866e-03, 1.84496492e-02, 0.00000000e+00, 0.00000000e+00,\n",
              "         0.00000000e+00, 0.00000000e+00, 0.00000000e+00, 1.50586003e-02,\n",
              "         0.00000000e+00, 3.14734876e-04, 0.00000000e+00, 4.46141958e-02,\n",
              "         4.02412470e-03, 0.00000000e+00, 0.00000000e+00, 3.20855007e-02,\n",
              "         0.00000000e+00, 2.33657565e-03, 2.63212025e-02, 0.00000000e+00,\n",
              "         0.00000000e+00, 3.95034067e-03, 0.00000000e+00, 4.25232574e-05,\n",
              "         0.00000000e+00, 0.00000000e+00, 9.09660943e-04, 7.59716285e-03,\n",
              "         1.97551865e-03, 1.45323155e-03, 0.00000000e+00, 2.69997008e-02,\n",
              "         0.00000000e+00, 0.00000000e+00, 0.00000000e+00, 1.19801434e-02,\n",
              "         0.00000000e+00, 2.05614418e-03, 0.00000000e+00, 8.28462094e-03,\n",
              "         0.00000000e+00, 4.20301780e-02, 1.69130638e-02, 2.76775956e-02],\n",
              "        [0.00000000e+00, 0.00000000e+00, 0.00000000e+00, 0.00000000e+00,\n",
              "         0.00000000e+00, 0.00000000e+00, 0.00000000e+00, 6.80652540e-03,\n",
              "         6.23716693e-03, 2.84085423e-03, 0.00000000e+00, 7.38725299e-03,\n",
              "         0.00000000e+00, 0.00000000e+00, 0.00000000e+00, 5.61794033e-03,\n",
              "         0.00000000e+00, 0.00000000e+00, 0.00000000e+00, 0.00000000e+00,\n",
              "         5.37468866e-03, 1.84496492e-02, 0.00000000e+00, 0.00000000e+00,\n",
              "         0.00000000e+00, 0.00000000e+00, 0.00000000e+00, 1.50586003e-02,\n",
              "         0.00000000e+00, 3.14734876e-04, 0.00000000e+00, 4.46141958e-02,\n",
              "         4.02412470e-03, 0.00000000e+00, 0.00000000e+00, 3.20855007e-02,\n",
              "         0.00000000e+00, 2.33657565e-03, 2.63212025e-02, 0.00000000e+00,\n",
              "         0.00000000e+00, 3.95034067e-03, 0.00000000e+00, 4.25232574e-05,\n",
              "         0.00000000e+00, 0.00000000e+00, 9.09660943e-04, 7.59716285e-03,\n",
              "         1.97551865e-03, 1.45323155e-03, 0.00000000e+00, 2.69997008e-02,\n",
              "         0.00000000e+00, 0.00000000e+00, 0.00000000e+00, 1.19801434e-02,\n",
              "         0.00000000e+00, 2.05614418e-03, 0.00000000e+00, 8.28462094e-03,\n",
              "         0.00000000e+00, 4.20301780e-02, 1.69130638e-02, 2.76775956e-02],\n",
              "        [0.00000000e+00, 0.00000000e+00, 0.00000000e+00, 0.00000000e+00,\n",
              "         0.00000000e+00, 0.00000000e+00, 0.00000000e+00, 6.80653192e-03,\n",
              "         6.23717066e-03, 2.84085935e-03, 0.00000000e+00, 7.38725718e-03,\n",
              "         0.00000000e+00, 0.00000000e+00, 0.00000000e+00, 5.61794313e-03,\n",
              "         0.00000000e+00, 0.00000000e+00, 0.00000000e+00, 0.00000000e+00,\n",
              "         5.37468912e-03, 1.84496492e-02, 0.00000000e+00, 0.00000000e+00,\n",
              "         0.00000000e+00, 0.00000000e+00, 0.00000000e+00, 1.50585985e-02,\n",
              "         0.00000000e+00, 3.14733014e-04, 0.00000000e+00, 4.46141958e-02,\n",
              "         4.02412796e-03, 0.00000000e+00, 0.00000000e+00, 3.20855007e-02,\n",
              "         0.00000000e+00, 2.33658496e-03, 2.63211988e-02, 0.00000000e+00,\n",
              "         0.00000000e+00, 3.95034440e-03, 0.00000000e+00, 4.25167382e-05,\n",
              "         0.00000000e+00, 0.00000000e+00, 9.09666065e-04, 7.59716239e-03,\n",
              "         1.97552424e-03, 1.45323668e-03, 0.00000000e+00, 2.69997120e-02,\n",
              "         0.00000000e+00, 0.00000000e+00, 0.00000000e+00, 1.19801462e-02,\n",
              "         0.00000000e+00, 2.05614977e-03, 0.00000000e+00, 8.28462094e-03,\n",
              "         0.00000000e+00, 4.20301780e-02, 1.69130675e-02, 2.76775956e-02],\n",
              "        [0.00000000e+00, 0.00000000e+00, 0.00000000e+00, 0.00000000e+00,\n",
              "         0.00000000e+00, 0.00000000e+00, 0.00000000e+00, 2.87323119e-03,\n",
              "         5.83126955e-03, 4.34498070e-03, 0.00000000e+00, 0.00000000e+00,\n",
              "         0.00000000e+00, 2.58618407e-03, 0.00000000e+00, 0.00000000e+00,\n",
              "         0.00000000e+00, 6.87707681e-04, 0.00000000e+00, 0.00000000e+00,\n",
              "         1.30593181e-02, 9.17224679e-03, 0.00000000e+00, 0.00000000e+00,\n",
              "         0.00000000e+00, 1.78670585e-02, 5.23003004e-03, 2.36433931e-02,\n",
              "         0.00000000e+00, 1.52541706e-02, 0.00000000e+00, 2.76895706e-02,\n",
              "         2.98752822e-03, 0.00000000e+00, 0.00000000e+00, 3.27009484e-02,\n",
              "         0.00000000e+00, 6.12888206e-03, 1.56680234e-02, 8.61679297e-03,\n",
              "         0.00000000e+00, 2.36149598e-03, 0.00000000e+00, 0.00000000e+00,\n",
              "         0.00000000e+00, 0.00000000e+00, 0.00000000e+00, 1.47306197e-03,\n",
              "         0.00000000e+00, 8.15467536e-03, 0.00000000e+00, 2.79231695e-03,\n",
              "         0.00000000e+00, 0.00000000e+00, 3.63295665e-03, 0.00000000e+00,\n",
              "         0.00000000e+00, 0.00000000e+00, 0.00000000e+00, 2.73456387e-02,\n",
              "         2.76038982e-03, 3.30598988e-02, 9.84567311e-03, 5.19054476e-03],\n",
              "        [0.00000000e+00, 0.00000000e+00, 0.00000000e+00, 1.97518431e-03,\n",
              "         6.68287463e-03, 0.00000000e+00, 1.81197422e-03, 0.00000000e+00,\n",
              "         2.16872133e-02, 0.00000000e+00, 0.00000000e+00, 9.62105580e-04,\n",
              "         0.00000000e+00, 0.00000000e+00, 0.00000000e+00, 1.27827004e-03,\n",
              "         0.00000000e+00, 0.00000000e+00, 0.00000000e+00, 0.00000000e+00,\n",
              "         7.89149757e-03, 4.37731715e-03, 0.00000000e+00, 0.00000000e+00,\n",
              "         0.00000000e+00, 1.60142928e-02, 0.00000000e+00, 8.35252367e-03,\n",
              "         0.00000000e+00, 1.68446731e-02, 0.00000000e+00, 1.94294360e-02,\n",
              "         7.47090811e-03, 0.00000000e+00, 0.00000000e+00, 2.46478785e-02,\n",
              "         0.00000000e+00, 0.00000000e+00, 1.58389751e-02, 4.47167177e-03,\n",
              "         0.00000000e+00, 9.92677175e-03, 0.00000000e+00, 0.00000000e+00,\n",
              "         0.00000000e+00, 0.00000000e+00, 0.00000000e+00, 7.67441746e-03,\n",
              "         9.87856090e-03, 1.64937116e-02, 0.00000000e+00, 0.00000000e+00,\n",
              "         0.00000000e+00, 0.00000000e+00, 0.00000000e+00, 0.00000000e+00,\n",
              "         0.00000000e+00, 0.00000000e+00, 0.00000000e+00, 1.54867806e-02,\n",
              "         2.68591587e-02, 2.32560001e-02, 1.53149618e-02, 1.73221435e-02]]],\n",
              "      dtype=float32)>"
            ]
          },
          "metadata": {},
          "execution_count": 92
        }
      ]
    },
    {
      "cell_type": "code",
      "source": [
        "max_pool_output"
      ],
      "metadata": {
        "colab": {
          "base_uri": "https://localhost:8080/"
        },
        "id": "KgNHoeYg2Ji9",
        "outputId": "af606793-00af-49da-85ee-2ddd3d6fd400"
      },
      "execution_count": 93,
      "outputs": [
        {
          "output_type": "execute_result",
          "data": {
            "text/plain": [
              "<tf.Tensor: shape=(1, 64), dtype=float32, numpy=\n",
              "array([[0.01157189, 0.06622932, 0.01503418, 0.00197518, 0.01809914,\n",
              "        0.0304869 , 0.07663687, 0.08356027, 0.06075429, 0.04191777,\n",
              "        0.03149541, 0.03628237, 0.03078256, 0.01940906, 0.01052775,\n",
              "        0.0915478 , 0.05603867, 0.00068771, 0.02550259, 0.04267528,\n",
              "        0.01305932, 0.09927102, 0.06299116, 0.00571592, 0.01235582,\n",
              "        0.02436227, 0.01396281, 0.03040456, 0.0721628 , 0.09047666,\n",
              "        0.03651918, 0.09263181, 0.032289  , 0.03211347, 0.00381231,\n",
              "        0.04708476, 0.0640286 , 0.00612888, 0.04696149, 0.03027315,\n",
              "        0.03070659, 0.07080074, 0.04900563, 0.06193311, 0.02896706,\n",
              "        0.0412943 , 0.05324299, 0.02995514, 0.02503033, 0.04707731,\n",
              "        0.04507045, 0.08563537, 0.03604575, 0.06201098, 0.03096467,\n",
              "        0.09362949, 0.04047599, 0.01539855, 0.05810694, 0.05108888,\n",
              "        0.08045309, 0.08559356, 0.06325339, 0.08091091]], dtype=float32)>"
            ]
          },
          "metadata": {},
          "execution_count": 93
        }
      ]
    },
    {
      "cell_type": "markdown",
      "source": [
        "###Building the model"
      ],
      "metadata": {
        "id": "CqWV4EkH2nxu"
      }
    },
    {
      "cell_type": "code",
      "source": [
        "# Create 1-dimenstioanl convolutional layer to model sequence\n",
        "\n",
        "from tensorflow.keras import layers\n",
        "\n",
        "inputs = layers.Input(shape = (1, ), dtype = tf.string)\n",
        "x = text_vectorizer(inputs)\n",
        "x = embedding(x)\n",
        "x = layers.Conv1D(filters = 64,\n",
        "                  kernel_size = 5,\n",
        "                  activation = 'relu',\n",
        "                  padding = 'valid',\n",
        "                  strides = 1)(x)\n",
        "x = layers.GlobalMaxPool1D()(x)\n",
        "# x = layers.Dense(64, activation = 'relu')(x)\n",
        "outputs = layers.Dense(1, activation = 'sigmoid')(x)\n",
        "model_5 = tf.keras.Model(inputs, outputs, name = 'model_5_Conv1D')\n",
        "\n",
        "# Compile the model\n",
        "model_5.compile(loss ='binary_crossentropy',\n",
        "                optimizer = tf.keras.optimizers.Adam(),\n",
        "                metrics = ['accuracy'])"
      ],
      "metadata": {
        "id": "pLFNsz5U3Ds4"
      },
      "execution_count": 94,
      "outputs": []
    },
    {
      "cell_type": "code",
      "source": [
        "# Model 5 summary\n",
        "model_5.summary()"
      ],
      "metadata": {
        "colab": {
          "base_uri": "https://localhost:8080/"
        },
        "id": "ZocdyKV74Qzx",
        "outputId": "5cf27835-aef3-4674-d720-2af4f407ffee"
      },
      "execution_count": 95,
      "outputs": [
        {
          "output_type": "stream",
          "name": "stdout",
          "text": [
            "Model: \"model_5_Conv1D\"\n",
            "_________________________________________________________________\n",
            " Layer (type)                Output Shape              Param #   \n",
            "=================================================================\n",
            " input_5 (InputLayer)        [(None, 1)]               0         \n",
            "                                                                 \n",
            " text_vectorization_1 (TextV  (None, 15)               0         \n",
            " ectorization)                                                   \n",
            "                                                                 \n",
            " embedding (Embedding)       (None, 15, 128)           1280000   \n",
            "                                                                 \n",
            " conv1d_2 (Conv1D)           (None, 11, 64)            41024     \n",
            "                                                                 \n",
            " global_max_pooling1d_1 (Glo  (None, 64)               0         \n",
            " balMaxPooling1D)                                                \n",
            "                                                                 \n",
            " dense_5 (Dense)             (None, 1)                 65        \n",
            "                                                                 \n",
            "=================================================================\n",
            "Total params: 1,321,089\n",
            "Trainable params: 1,321,089\n",
            "Non-trainable params: 0\n",
            "_________________________________________________________________\n"
          ]
        }
      ]
    },
    {
      "cell_type": "code",
      "source": [
        "# Fit the model\n",
        "\n",
        "model_5_history = model_5.fit(train_sentences,\n",
        "                              train_labels,\n",
        "                              epochs = 5 ,\n",
        "                              validation_data = (val_sentences, val_labels),\n",
        "                              callbacks = [create_tensorboard_callback(SAVE_DIR,\n",
        "                                                                       'Conv1D')])"
      ],
      "metadata": {
        "colab": {
          "base_uri": "https://localhost:8080/"
        },
        "id": "zX4fkuHm4g-w",
        "outputId": "15d87760-8c09-4a72-a9d1-008a74819878"
      },
      "execution_count": 96,
      "outputs": [
        {
          "output_type": "stream",
          "name": "stdout",
          "text": [
            "Saving TensorBoard log files to: model_logs/Conv1D/20220912-195442\n",
            "Epoch 1/5\n",
            "215/215 [==============================] - 10s 35ms/step - loss: 0.1200 - accuracy: 0.9604 - val_loss: 0.8665 - val_accuracy: 0.7769\n",
            "Epoch 2/5\n",
            "215/215 [==============================] - 5s 25ms/step - loss: 0.0731 - accuracy: 0.9733 - val_loss: 1.0293 - val_accuracy: 0.7677\n",
            "Epoch 3/5\n",
            "215/215 [==============================] - 7s 32ms/step - loss: 0.0609 - accuracy: 0.9764 - val_loss: 1.1074 - val_accuracy: 0.7651\n",
            "Epoch 4/5\n",
            "215/215 [==============================] - 6s 28ms/step - loss: 0.0543 - accuracy: 0.9777 - val_loss: 1.1726 - val_accuracy: 0.7612\n",
            "Epoch 5/5\n",
            "215/215 [==============================] - 5s 22ms/step - loss: 0.0499 - accuracy: 0.9784 - val_loss: 1.2185 - val_accuracy: 0.7572\n"
          ]
        }
      ]
    },
    {
      "cell_type": "code",
      "source": [
        "# Make some predictions with out Conv1D model\n",
        "\n",
        "model_5_pred_probs = model_5.predict(val_sentences)\n",
        "model_5_pred_probs[:10]"
      ],
      "metadata": {
        "colab": {
          "base_uri": "https://localhost:8080/"
        },
        "id": "38FPystc48_K",
        "outputId": "52d8ca9e-695c-4b49-cf8d-45b7a7e77a9c"
      },
      "execution_count": 97,
      "outputs": [
        {
          "output_type": "execute_result",
          "data": {
            "text/plain": [
              "array([[9.8113835e-02],\n",
              "       [6.6990888e-01],\n",
              "       [9.9992985e-01],\n",
              "       [8.5622787e-02],\n",
              "       [1.5849207e-07],\n",
              "       [9.9527365e-01],\n",
              "       [9.7566652e-01],\n",
              "       [9.9997991e-01],\n",
              "       [9.9999928e-01],\n",
              "       [8.7249631e-01]], dtype=float32)"
            ]
          },
          "metadata": {},
          "execution_count": 97
        }
      ]
    },
    {
      "cell_type": "code",
      "source": [
        "model_5_preds = tf.squeeze(tf.round(model_5_pred_probs))"
      ],
      "metadata": {
        "id": "3jgA94GW5L-f"
      },
      "execution_count": 98,
      "outputs": []
    },
    {
      "cell_type": "code",
      "source": [
        "model_5_results = calculate_results(y_true = val_labels,\n",
        "                            y_pred = model_5_preds)"
      ],
      "metadata": {
        "id": "k-sqWAXJ5b7L"
      },
      "execution_count": 99,
      "outputs": []
    },
    {
      "cell_type": "code",
      "source": [
        "print(model_5_results, '\\n', model_4_results, '\\n', model_3_results, '\\n', model_2_results, '\\n', model_1_results, '\\n', baseline_results)"
      ],
      "metadata": {
        "colab": {
          "base_uri": "https://localhost:8080/"
        },
        "id": "CP4JH4bf5sA7",
        "outputId": "f5d1cf50-1f8c-4f7d-8242-ecc4f8f9efae"
      },
      "execution_count": 100,
      "outputs": [
        {
          "output_type": "stream",
          "name": "stdout",
          "text": [
            "{'accuracy': 75.7217847769029, 'precision': 0.7579616566971975, 'recall': 0.7572178477690289, 'f1': 0.7553466343855008} \n",
            " {'accuracy': 76.64041994750657, 'precision': 0.7740790531264894, 'recall': 0.7664041994750657, 'f1': 0.7617181652846342} \n",
            " {'accuracy': 77.82152230971128, 'precision': 0.7791991586469295, 'recall': 0.7782152230971129, 'f1': 0.7766208088282468} \n",
            " {'accuracy': 78.08398950131233, 'precision': 0.7856875884556138, 'recall': 0.7808398950131233, 'f1': 0.777681907957685} \n",
            " {'accuracy': 78.74015748031496, 'precision': 0.7914920592553047, 'recall': 0.7874015748031497, 'f1': 0.7846966492209201} \n",
            " {'accuracy': 79.26509186351706, 'precision': 0.8111390004213173, 'recall': 0.7926509186351706, 'f1': 0.7862189758049549}\n"
          ]
        }
      ]
    },
    {
      "cell_type": "markdown",
      "source": [
        "## Model_6 : TensorFlow Hub Pretrained Sentence Encoder"
      ],
      "metadata": {
        "id": "KRx6SWBi55Hg"
      }
    },
    {
      "cell_type": "code",
      "source": [
        "import tensorflow_hub as hub\n",
        "embed = hub.load('https://tfhub.dev/google/universal-sentence-encoder/4')\n",
        "embed_samples = embed([sample_sentence, 'When you can the universal sentence encoder on a sentence, it turns it into numbers'])\n",
        "print(embed_samples[0][:50])"
      ],
      "metadata": {
        "colab": {
          "base_uri": "https://localhost:8080/"
        },
        "id": "GU64hrd86r2e",
        "outputId": "77805402-84d7-4583-9adb-61cd6402d897"
      },
      "execution_count": 101,
      "outputs": [
        {
          "output_type": "stream",
          "name": "stdout",
          "text": [
            "tf.Tensor(\n",
            "[-0.01157025  0.02485911  0.02878051 -0.012715    0.03971541  0.08827761\n",
            "  0.02680988  0.05589838 -0.01068731 -0.00597293  0.00639321 -0.01819516\n",
            "  0.00030816  0.09105889  0.05874645 -0.03180629  0.01512474 -0.05162925\n",
            "  0.00991366 -0.06865345 -0.04209306  0.0267898   0.03011009  0.00321065\n",
            " -0.00337968 -0.04787356  0.0226672  -0.00985927 -0.04063615 -0.01292093\n",
            " -0.04666382  0.05630299 -0.03949255  0.00517682  0.02495827 -0.07014439\n",
            "  0.0287151   0.0494768  -0.00633978 -0.08960193  0.02807119 -0.00808364\n",
            " -0.01360601  0.05998649 -0.10361788 -0.05195372  0.00232958 -0.02332531\n",
            " -0.03758106  0.03327729], shape=(50,), dtype=float32)\n"
          ]
        }
      ]
    },
    {
      "cell_type": "code",
      "source": [
        "embed_samples"
      ],
      "metadata": {
        "colab": {
          "base_uri": "https://localhost:8080/"
        },
        "id": "xCP_nYLj_uI8",
        "outputId": "b0eab3e3-f8cd-425c-a1d3-2e21382aa1a4"
      },
      "execution_count": 102,
      "outputs": [
        {
          "output_type": "execute_result",
          "data": {
            "text/plain": [
              "<tf.Tensor: shape=(2, 512), dtype=float32, numpy=\n",
              "array([[-0.01157025,  0.02485911,  0.02878051, ..., -0.00186124,\n",
              "         0.02315822, -0.01485021],\n",
              "       [ 0.03485873, -0.08845595, -0.01677879, ..., -0.02750709,\n",
              "         0.03230235, -0.00820085]], dtype=float32)>"
            ]
          },
          "metadata": {},
          "execution_count": 102
        }
      ]
    },
    {
      "cell_type": "code",
      "source": [
        "# Create a keras layer using the USE Pretrained layer form tensorflow hub\n",
        "\n",
        "sentence_encoder_layer = hub.KerasLayer('https://tfhub.dev/google/universal-sentence-encoder/4',\n",
        "                                       input_shape = [],\n",
        "                                       dtype = tf.string,\n",
        "                                       name = 'USE')\n"
      ],
      "metadata": {
        "id": "rfvjyMmgAZzC"
      },
      "execution_count": 103,
      "outputs": []
    },
    {
      "cell_type": "code",
      "source": [
        "# Create model using the Sequential API:\n",
        "\n",
        "model_6 = tf.keras.Sequential([\n",
        "    sentence_encoder_layer,\n",
        "    layers.Dense(64, activation = 'relu'),\n",
        "    layers.Dense(1, activation = 'sigmoid')\n",
        "], name = 'model_6_USE')"
      ],
      "metadata": {
        "id": "FOxsYmgeDQSa"
      },
      "execution_count": 104,
      "outputs": []
    },
    {
      "cell_type": "code",
      "source": [
        "# Compile the model\n",
        "\n",
        "model_6.compile(loss = 'binary_crossentropy',\n",
        "            optimizer = tf.keras.optimizers.Adam(),\n",
        "            metrics = ['accuracy'])"
      ],
      "metadata": {
        "id": "8W2ti9fUDnrV"
      },
      "execution_count": 105,
      "outputs": []
    },
    {
      "cell_type": "code",
      "source": [
        "model_6.summary()"
      ],
      "metadata": {
        "colab": {
          "base_uri": "https://localhost:8080/"
        },
        "id": "N1jhwi4WD4sP",
        "outputId": "e6e45584-d558-4f03-ccb1-1f005d7e811a"
      },
      "execution_count": 106,
      "outputs": [
        {
          "output_type": "stream",
          "name": "stdout",
          "text": [
            "Model: \"model_6_USE\"\n",
            "_________________________________________________________________\n",
            " Layer (type)                Output Shape              Param #   \n",
            "=================================================================\n",
            " USE (KerasLayer)            (None, 512)               256797824 \n",
            "                                                                 \n",
            " dense_6 (Dense)             (None, 64)                32832     \n",
            "                                                                 \n",
            " dense_7 (Dense)             (None, 1)                 65        \n",
            "                                                                 \n",
            "=================================================================\n",
            "Total params: 256,830,721\n",
            "Trainable params: 32,897\n",
            "Non-trainable params: 256,797,824\n",
            "_________________________________________________________________\n"
          ]
        }
      ]
    },
    {
      "cell_type": "code",
      "source": [
        "# Train a classifer on top of USE Pretrained embeddings\n",
        "\n",
        "model_6_history = model_6.fit(train_sentences,\n",
        "                              train_labels,\n",
        "                              epochs = 5,\n",
        "                              validation_data = (val_sentences, val_labels),\n",
        "                              callbacks = [create_tensorboard_callback(SAVE_DIR,\n",
        "                                                                       'tf_hub_sent_encoder')])"
      ],
      "metadata": {
        "colab": {
          "base_uri": "https://localhost:8080/"
        },
        "id": "AKhxE5W8EK9k",
        "outputId": "7b3ea767-446d-43e8-b37e-dc7aa64fb729"
      },
      "execution_count": 107,
      "outputs": [
        {
          "output_type": "stream",
          "name": "stdout",
          "text": [
            "Saving TensorBoard log files to: model_logs/tf_hub_sent_encoder/20220912-195544\n",
            "Epoch 1/5\n",
            "215/215 [==============================] - 12s 30ms/step - loss: 0.5033 - accuracy: 0.7838 - val_loss: 0.4466 - val_accuracy: 0.7940\n",
            "Epoch 2/5\n",
            "215/215 [==============================] - 3s 15ms/step - loss: 0.4142 - accuracy: 0.8142 - val_loss: 0.4350 - val_accuracy: 0.8110\n",
            "Epoch 3/5\n",
            "215/215 [==============================] - 3s 14ms/step - loss: 0.3994 - accuracy: 0.8222 - val_loss: 0.4308 - val_accuracy: 0.8123\n",
            "Epoch 4/5\n",
            "215/215 [==============================] - 3s 14ms/step - loss: 0.3920 - accuracy: 0.8269 - val_loss: 0.4265 - val_accuracy: 0.8176\n",
            "Epoch 5/5\n",
            "215/215 [==============================] - 3s 13ms/step - loss: 0.3858 - accuracy: 0.8291 - val_loss: 0.4281 - val_accuracy: 0.8136\n"
          ]
        }
      ]
    },
    {
      "cell_type": "code",
      "source": [
        "# Make predictions with USE tf hub models\n",
        "\n",
        "model_6_pred_probs = model_6.predict(val_sentences)"
      ],
      "metadata": {
        "id": "Rr3Jz7dDEodo"
      },
      "execution_count": 108,
      "outputs": []
    },
    {
      "cell_type": "code",
      "source": [
        "model_6_preds = tf.squeeze(tf.round(model_6_pred_probs))"
      ],
      "metadata": {
        "id": "48FaAaddEzdv"
      },
      "execution_count": 109,
      "outputs": []
    },
    {
      "cell_type": "code",
      "source": [
        "# Calculate model 6 performance\n",
        "\n",
        "model_6_results = calculate_results(y_true = val_labels,\n",
        "                                    y_pred = model_6_preds)"
      ],
      "metadata": {
        "id": "A-WAh5pOE6yX"
      },
      "execution_count": 110,
      "outputs": []
    },
    {
      "cell_type": "code",
      "source": [
        "print(model_6_results, '\\n', model_5_results, '\\n', model_4_results, '\\n', model_3_results, '\\n', model_2_results, '\\n', model_1_results, '\\n', baseline_results)"
      ],
      "metadata": {
        "colab": {
          "base_uri": "https://localhost:8080/"
        },
        "id": "4jXK3pN6FKjx",
        "outputId": "f4b890af-f8d6-4b52-a3c2-35432f08df24"
      },
      "execution_count": 111,
      "outputs": [
        {
          "output_type": "stream",
          "name": "stdout",
          "text": [
            "{'accuracy': 81.36482939632546, 'precision': 0.8160661319598898, 'recall': 0.8136482939632546, 'f1': 0.8120618868299143} \n",
            " {'accuracy': 75.7217847769029, 'precision': 0.7579616566971975, 'recall': 0.7572178477690289, 'f1': 0.7553466343855008} \n",
            " {'accuracy': 76.64041994750657, 'precision': 0.7740790531264894, 'recall': 0.7664041994750657, 'f1': 0.7617181652846342} \n",
            " {'accuracy': 77.82152230971128, 'precision': 0.7791991586469295, 'recall': 0.7782152230971129, 'f1': 0.7766208088282468} \n",
            " {'accuracy': 78.08398950131233, 'precision': 0.7856875884556138, 'recall': 0.7808398950131233, 'f1': 0.777681907957685} \n",
            " {'accuracy': 78.74015748031496, 'precision': 0.7914920592553047, 'recall': 0.7874015748031497, 'f1': 0.7846966492209201} \n",
            " {'accuracy': 79.26509186351706, 'precision': 0.8111390004213173, 'recall': 0.7926509186351706, 'f1': 0.7862189758049549}\n"
          ]
        }
      ]
    },
    {
      "cell_type": "markdown",
      "source": [
        "## Model_7 : TF Hub pretrained but with 10% of training data\n",
        "\n",
        "Transfer Learning really helps when you dont have a large dataset"
      ],
      "metadata": {
        "id": "I6WgqhqNFbNI"
      }
    },
    {
      "cell_type": "code",
      "source": [
        "# Create subsets of 10% of the training data (SPLITTING DATA LIKE THIS CAUSES DATA lEAKGAE)\n",
        "\n",
        "# train_10_percent = train_df_shuffled[['text', 'target']].sample(frac=0.1, random_state =42)\n",
        "# train_10_percent.head()"
      ],
      "metadata": {
        "id": "ta7w5ZIeH2Bp"
      },
      "execution_count": 135,
      "outputs": []
    },
    {
      "cell_type": "code",
      "source": [
        "train_10_percent_split = int(0.1 * len(train_sentences))\n",
        "train_sents_10_percent = train_sentences[:train_10_percent_split]\n",
        "\n",
        "train_labels_10_percent = int(0.1 * len(train_labels))\n",
        "train_labels_10_percent = train_labels[:train_labels_10_percent]\n"
      ],
      "metadata": {
        "id": "jELIU7ovSQuU"
      },
      "execution_count": 136,
      "outputs": []
    },
    {
      "cell_type": "code",
      "source": [
        "#\n",
        "# train_sents_10_percent = train_10_percent['text'].to_list()\n",
        "# train_labels_10_percent = train_10_percent['target'].to_list()"
      ],
      "metadata": {
        "id": "UBEMYg66Ick7"
      },
      "execution_count": 137,
      "outputs": []
    },
    {
      "cell_type": "code",
      "source": [
        "# train_10_percent['target'].value_counts()"
      ],
      "metadata": {
        "id": "xwRpr_8yJAZr"
      },
      "execution_count": 138,
      "outputs": []
    },
    {
      "cell_type": "code",
      "source": [
        "# train_df_shuffled['target'].value_counts()"
      ],
      "metadata": {
        "id": "7JJlvnF6Jvyz"
      },
      "execution_count": 139,
      "outputs": []
    },
    {
      "cell_type": "markdown",
      "source": [
        "To recreate a model same as the previous model you created you can use the tf.keras clone model"
      ],
      "metadata": {
        "id": "0stTEFHsAhCa"
      }
    },
    {
      "cell_type": "code",
      "source": [
        "# Lets build a model the same as model_6\n",
        "\n",
        "model_7 = tf.keras.models.clone_model(model_6)\n",
        "\n",
        "# Compile the model\n",
        "\n",
        "model_7.compile(loss = 'binary_crossentropy',\n",
        "                optimizer = tf.keras.optimizers.Adam(),\n",
        "                metrics = ['accuracy'])"
      ],
      "metadata": {
        "id": "WiyI0LeRJ4x-"
      },
      "execution_count": 140,
      "outputs": []
    },
    {
      "cell_type": "code",
      "source": [
        "model_7.summary()"
      ],
      "metadata": {
        "colab": {
          "base_uri": "https://localhost:8080/"
        },
        "id": "pYKg2nXjBCrW",
        "outputId": "a7e42464-f42f-4afa-bc86-633a5efed920"
      },
      "execution_count": 141,
      "outputs": [
        {
          "output_type": "stream",
          "name": "stdout",
          "text": [
            "Model: \"model_6_USE\"\n",
            "_________________________________________________________________\n",
            " Layer (type)                Output Shape              Param #   \n",
            "=================================================================\n",
            " USE (KerasLayer)            (None, 512)               256797824 \n",
            "                                                                 \n",
            " dense_6 (Dense)             (None, 64)                32832     \n",
            "                                                                 \n",
            " dense_7 (Dense)             (None, 1)                 65        \n",
            "                                                                 \n",
            "=================================================================\n",
            "Total params: 256,830,721\n",
            "Trainable params: 32,897\n",
            "Non-trainable params: 256,797,824\n",
            "_________________________________________________________________\n"
          ]
        }
      ]
    },
    {
      "cell_type": "code",
      "source": [
        "# Fit the model\n",
        "model_7.fit(train_sents_10_percent, train_labels_10_percent,\n",
        "            validation_data = (val_sentences, val_labels),\n",
        "            epochs = 5,\n",
        "            callbacks = [create_tensorboard_callback(SAVE_DIR,\n",
        "                                                     'tf_hub_model_7_10%')])"
      ],
      "metadata": {
        "colab": {
          "base_uri": "https://localhost:8080/"
        },
        "id": "9V0YIuERBBQW",
        "outputId": "b6a608cd-f711-446d-b7a4-77fc80957497"
      },
      "execution_count": 142,
      "outputs": [
        {
          "output_type": "stream",
          "name": "stdout",
          "text": [
            "Saving TensorBoard log files to: model_logs/tf_hub_model_7_10%/20220912-200911\n",
            "Epoch 1/5\n",
            "22/22 [==============================] - 4s 62ms/step - loss: 0.6713 - accuracy: 0.6788 - val_loss: 0.6512 - val_accuracy: 0.7283\n",
            "Epoch 2/5\n",
            "22/22 [==============================] - 1s 30ms/step - loss: 0.6032 - accuracy: 0.8029 - val_loss: 0.5941 - val_accuracy: 0.7625\n",
            "Epoch 3/5\n",
            "22/22 [==============================] - 1s 29ms/step - loss: 0.5263 - accuracy: 0.8204 - val_loss: 0.5377 - val_accuracy: 0.7703\n",
            "Epoch 4/5\n",
            "22/22 [==============================] - 1s 27ms/step - loss: 0.4638 - accuracy: 0.8204 - val_loss: 0.5064 - val_accuracy: 0.7730\n",
            "Epoch 5/5\n",
            "22/22 [==============================] - 1s 27ms/step - loss: 0.4221 - accuracy: 0.8263 - val_loss: 0.4902 - val_accuracy: 0.7808\n"
          ]
        },
        {
          "output_type": "execute_result",
          "data": {
            "text/plain": [
              "<keras.callbacks.History at 0x7f676ba397d0>"
            ]
          },
          "metadata": {},
          "execution_count": 142
        }
      ]
    },
    {
      "cell_type": "code",
      "source": [
        "# Make predictions with the models trained on 10% of the data\n",
        "\n",
        "model_7_pred_probs = model_7.predict(val_sentences)\n",
        "model_7_preds = tf.squeeze(tf.round(model_7_pred_probs))"
      ],
      "metadata": {
        "id": "N55L0nFpAuQS"
      },
      "execution_count": 143,
      "outputs": []
    },
    {
      "cell_type": "code",
      "source": [
        "# Eval moddel 7\n",
        "\n",
        "model_7_results = calculate_results(y_true = val_labels,\n",
        "                                    y_pred = model_7_preds)\n",
        "model_7_results"
      ],
      "metadata": {
        "colab": {
          "base_uri": "https://localhost:8080/"
        },
        "id": "P08At0OvDyIZ",
        "outputId": "4a328286-ae78-4f5d-e0f3-28e88464f6ba"
      },
      "execution_count": 145,
      "outputs": [
        {
          "output_type": "execute_result",
          "data": {
            "text/plain": [
              "{'accuracy': 78.08398950131233,\n",
              " 'precision': 0.7820967818762068,\n",
              " 'recall': 0.7808398950131233,\n",
              " 'f1': 0.7791507456344792}"
            ]
          },
          "metadata": {},
          "execution_count": 145
        }
      ]
    },
    {
      "cell_type": "markdown",
      "source": [
        "## Comparing the performnace of each of our models"
      ],
      "metadata": {
        "id": "Bijl7hZ4D7Sh"
      }
    },
    {
      "cell_type": "code",
      "source": [
        "# Combine model results into a DataFrame\n",
        "\n",
        "all_model_results = pd.DataFrame({'baseline': baseline_results,\n",
        "                                  '1_simple_dense': model_1_results,\n",
        "                                  '2_LSTM': model_2_results,\n",
        "                                  '3_GRU': model_3_results,\n",
        "                                  ''})"
      ],
      "metadata": {
        "id": "3eYcAPdkVV_5"
      },
      "execution_count": null,
      "outputs": []
    }
  ]
}